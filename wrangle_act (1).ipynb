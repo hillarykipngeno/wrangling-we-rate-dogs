{
 "cells": [
  {
   "cell_type": "markdown",
   "metadata": {
    "extensions": {
     "jupyter_dashboards": {
      "version": 1,
      "views": {
       "grid_default": {
        "col": 0,
        "height": 4,
        "hidden": false,
        "row": 0,
        "width": 4
       },
       "report_default": {
        "hidden": false
       }
      }
     }
    }
   },
   "source": [
    "# Project: Wrangling and Analyze Data"
   ]
  },
  {
   "cell_type": "markdown",
   "metadata": {},
   "source": [
    "## Data Gathering\n",
    "In the cell below, gather **all** three pieces of data for this project and load them in the notebook. **Note:** the methods required to gather each data are different.\n",
    "1. Directly download the WeRateDogs Twitter archive data (twitter_archive_enhanced.csv)"
   ]
  },
  {
   "cell_type": "code",
   "execution_count": 1,
   "metadata": {
    "extensions": {
     "jupyter_dashboards": {
      "version": 1,
      "views": {
       "grid_default": {
        "hidden": true
       },
       "report_default": {
        "hidden": true
       }
      }
     }
    }
   },
   "outputs": [],
   "source": [
    "import pandas as pd\n",
    "import requests\n",
    "import json"
   ]
  },
  {
   "cell_type": "code",
   "execution_count": 2,
   "metadata": {},
   "outputs": [],
   "source": [
    "twitter_archive=pd.read_csv(\"twitter-archive-enhanced.csv\")"
   ]
  },
  {
   "cell_type": "code",
   "execution_count": 3,
   "metadata": {},
   "outputs": [
    {
     "data": {
      "text/html": [
       "<div>\n",
       "<style scoped>\n",
       "    .dataframe tbody tr th:only-of-type {\n",
       "        vertical-align: middle;\n",
       "    }\n",
       "\n",
       "    .dataframe tbody tr th {\n",
       "        vertical-align: top;\n",
       "    }\n",
       "\n",
       "    .dataframe thead th {\n",
       "        text-align: right;\n",
       "    }\n",
       "</style>\n",
       "<table border=\"1\" class=\"dataframe\">\n",
       "  <thead>\n",
       "    <tr style=\"text-align: right;\">\n",
       "      <th></th>\n",
       "      <th>tweet_id</th>\n",
       "      <th>in_reply_to_status_id</th>\n",
       "      <th>in_reply_to_user_id</th>\n",
       "      <th>timestamp</th>\n",
       "      <th>source</th>\n",
       "      <th>text</th>\n",
       "      <th>retweeted_status_id</th>\n",
       "      <th>retweeted_status_user_id</th>\n",
       "      <th>retweeted_status_timestamp</th>\n",
       "      <th>expanded_urls</th>\n",
       "      <th>rating_numerator</th>\n",
       "      <th>rating_denominator</th>\n",
       "      <th>name</th>\n",
       "      <th>doggo</th>\n",
       "      <th>floofer</th>\n",
       "      <th>pupper</th>\n",
       "      <th>puppo</th>\n",
       "    </tr>\n",
       "  </thead>\n",
       "  <tbody>\n",
       "    <tr>\n",
       "      <th>0</th>\n",
       "      <td>892420643555336193</td>\n",
       "      <td>NaN</td>\n",
       "      <td>NaN</td>\n",
       "      <td>2017-08-01 16:23:56 +0000</td>\n",
       "      <td>&lt;a href=\"http://twitter.com/download/iphone\" r...</td>\n",
       "      <td>This is Phineas. He's a mystical boy. Only eve...</td>\n",
       "      <td>NaN</td>\n",
       "      <td>NaN</td>\n",
       "      <td>NaN</td>\n",
       "      <td>https://twitter.com/dog_rates/status/892420643...</td>\n",
       "      <td>13</td>\n",
       "      <td>10</td>\n",
       "      <td>Phineas</td>\n",
       "      <td>None</td>\n",
       "      <td>None</td>\n",
       "      <td>None</td>\n",
       "      <td>None</td>\n",
       "    </tr>\n",
       "    <tr>\n",
       "      <th>1</th>\n",
       "      <td>892177421306343426</td>\n",
       "      <td>NaN</td>\n",
       "      <td>NaN</td>\n",
       "      <td>2017-08-01 00:17:27 +0000</td>\n",
       "      <td>&lt;a href=\"http://twitter.com/download/iphone\" r...</td>\n",
       "      <td>This is Tilly. She's just checking pup on you....</td>\n",
       "      <td>NaN</td>\n",
       "      <td>NaN</td>\n",
       "      <td>NaN</td>\n",
       "      <td>https://twitter.com/dog_rates/status/892177421...</td>\n",
       "      <td>13</td>\n",
       "      <td>10</td>\n",
       "      <td>Tilly</td>\n",
       "      <td>None</td>\n",
       "      <td>None</td>\n",
       "      <td>None</td>\n",
       "      <td>None</td>\n",
       "    </tr>\n",
       "    <tr>\n",
       "      <th>2</th>\n",
       "      <td>891815181378084864</td>\n",
       "      <td>NaN</td>\n",
       "      <td>NaN</td>\n",
       "      <td>2017-07-31 00:18:03 +0000</td>\n",
       "      <td>&lt;a href=\"http://twitter.com/download/iphone\" r...</td>\n",
       "      <td>This is Archie. He is a rare Norwegian Pouncin...</td>\n",
       "      <td>NaN</td>\n",
       "      <td>NaN</td>\n",
       "      <td>NaN</td>\n",
       "      <td>https://twitter.com/dog_rates/status/891815181...</td>\n",
       "      <td>12</td>\n",
       "      <td>10</td>\n",
       "      <td>Archie</td>\n",
       "      <td>None</td>\n",
       "      <td>None</td>\n",
       "      <td>None</td>\n",
       "      <td>None</td>\n",
       "    </tr>\n",
       "    <tr>\n",
       "      <th>3</th>\n",
       "      <td>891689557279858688</td>\n",
       "      <td>NaN</td>\n",
       "      <td>NaN</td>\n",
       "      <td>2017-07-30 15:58:51 +0000</td>\n",
       "      <td>&lt;a href=\"http://twitter.com/download/iphone\" r...</td>\n",
       "      <td>This is Darla. She commenced a snooze mid meal...</td>\n",
       "      <td>NaN</td>\n",
       "      <td>NaN</td>\n",
       "      <td>NaN</td>\n",
       "      <td>https://twitter.com/dog_rates/status/891689557...</td>\n",
       "      <td>13</td>\n",
       "      <td>10</td>\n",
       "      <td>Darla</td>\n",
       "      <td>None</td>\n",
       "      <td>None</td>\n",
       "      <td>None</td>\n",
       "      <td>None</td>\n",
       "    </tr>\n",
       "    <tr>\n",
       "      <th>4</th>\n",
       "      <td>891327558926688256</td>\n",
       "      <td>NaN</td>\n",
       "      <td>NaN</td>\n",
       "      <td>2017-07-29 16:00:24 +0000</td>\n",
       "      <td>&lt;a href=\"http://twitter.com/download/iphone\" r...</td>\n",
       "      <td>This is Franklin. He would like you to stop ca...</td>\n",
       "      <td>NaN</td>\n",
       "      <td>NaN</td>\n",
       "      <td>NaN</td>\n",
       "      <td>https://twitter.com/dog_rates/status/891327558...</td>\n",
       "      <td>12</td>\n",
       "      <td>10</td>\n",
       "      <td>Franklin</td>\n",
       "      <td>None</td>\n",
       "      <td>None</td>\n",
       "      <td>None</td>\n",
       "      <td>None</td>\n",
       "    </tr>\n",
       "  </tbody>\n",
       "</table>\n",
       "</div>"
      ],
      "text/plain": [
       "             tweet_id  in_reply_to_status_id  in_reply_to_user_id  \\\n",
       "0  892420643555336193                    NaN                  NaN   \n",
       "1  892177421306343426                    NaN                  NaN   \n",
       "2  891815181378084864                    NaN                  NaN   \n",
       "3  891689557279858688                    NaN                  NaN   \n",
       "4  891327558926688256                    NaN                  NaN   \n",
       "\n",
       "                   timestamp  \\\n",
       "0  2017-08-01 16:23:56 +0000   \n",
       "1  2017-08-01 00:17:27 +0000   \n",
       "2  2017-07-31 00:18:03 +0000   \n",
       "3  2017-07-30 15:58:51 +0000   \n",
       "4  2017-07-29 16:00:24 +0000   \n",
       "\n",
       "                                              source  \\\n",
       "0  <a href=\"http://twitter.com/download/iphone\" r...   \n",
       "1  <a href=\"http://twitter.com/download/iphone\" r...   \n",
       "2  <a href=\"http://twitter.com/download/iphone\" r...   \n",
       "3  <a href=\"http://twitter.com/download/iphone\" r...   \n",
       "4  <a href=\"http://twitter.com/download/iphone\" r...   \n",
       "\n",
       "                                                text  retweeted_status_id  \\\n",
       "0  This is Phineas. He's a mystical boy. Only eve...                  NaN   \n",
       "1  This is Tilly. She's just checking pup on you....                  NaN   \n",
       "2  This is Archie. He is a rare Norwegian Pouncin...                  NaN   \n",
       "3  This is Darla. She commenced a snooze mid meal...                  NaN   \n",
       "4  This is Franklin. He would like you to stop ca...                  NaN   \n",
       "\n",
       "   retweeted_status_user_id retweeted_status_timestamp  \\\n",
       "0                       NaN                        NaN   \n",
       "1                       NaN                        NaN   \n",
       "2                       NaN                        NaN   \n",
       "3                       NaN                        NaN   \n",
       "4                       NaN                        NaN   \n",
       "\n",
       "                                       expanded_urls  rating_numerator  \\\n",
       "0  https://twitter.com/dog_rates/status/892420643...                13   \n",
       "1  https://twitter.com/dog_rates/status/892177421...                13   \n",
       "2  https://twitter.com/dog_rates/status/891815181...                12   \n",
       "3  https://twitter.com/dog_rates/status/891689557...                13   \n",
       "4  https://twitter.com/dog_rates/status/891327558...                12   \n",
       "\n",
       "   rating_denominator      name doggo floofer pupper puppo  \n",
       "0                  10   Phineas  None    None   None  None  \n",
       "1                  10     Tilly  None    None   None  None  \n",
       "2                  10    Archie  None    None   None  None  \n",
       "3                  10     Darla  None    None   None  None  \n",
       "4                  10  Franklin  None    None   None  None  "
      ]
     },
     "execution_count": 3,
     "metadata": {},
     "output_type": "execute_result"
    }
   ],
   "source": [
    "twitter_archive.head()"
   ]
  },
  {
   "cell_type": "markdown",
   "metadata": {},
   "source": [
    "2. Use the Requests library to download the tweet image prediction (image_predictions.tsv)"
   ]
  },
  {
   "cell_type": "code",
   "execution_count": 4,
   "metadata": {},
   "outputs": [
    {
     "data": {
      "text/plain": [
       "(2356, 17)"
      ]
     },
     "execution_count": 4,
     "metadata": {},
     "output_type": "execute_result"
    }
   ],
   "source": [
    "twitter_archive.shape"
   ]
  },
  {
   "cell_type": "code",
   "execution_count": 5,
   "metadata": {},
   "outputs": [],
   "source": [
    "response=requests.get(\"https://d17h27t6h515a5.cloudfront.net/topher/2017/August/599fd2ad_image-predictions/image-predictions.tsv\")"
   ]
  },
  {
   "cell_type": "code",
   "execution_count": 6,
   "metadata": {},
   "outputs": [],
   "source": [
    "content=response.content"
   ]
  },
  {
   "cell_type": "code",
   "execution_count": 7,
   "metadata": {},
   "outputs": [
    {
     "data": {
      "text/plain": [
       "b\"tweet_id\\tjpg_url\\timg_num\\tp1\\tp1_conf\\tp1_dog\\tp2\\tp2_conf\\tp2_dog\\tp3\\tp3_conf\\tp3_dog\\n666020888022790149\\thttps://pbs.twimg.com/media/CT4udn0WwAA0aMy.jpg\\t1\\tWelsh_springer_spaniel\\t0.465074\\tTrue\\tcollie\\t0.156665\\tTrue\\tShetland_sheepdog\\t0.0614285\\tTrue\\n666029285002620928\\thttps://pbs.twimg.com/media/CT42GRgUYAA5iDo.jpg\\t1\\tredbone\\t0.506826\\tTrue\\tminiature_pinscher\\t0.07419169999999999\\tTrue\\tRhodesian_ridgeback\\t0.07201\\tTrue\\n666033412701032449\\thttps://pbs.twimg.com/media/CT4521TWwAEvMyu.jpg\\t1\\tGerman_shepherd\\t0.596461\\tTrue\\tmalinois\\t0.13858399999999998\\tTrue\\tbloodhound\\t0.11619700000000001\\tTrue\\n666044226329800704\\thttps://pbs.twimg.com/media/CT5Dr8HUEAA-lEu.jpg\\t1\\tRhodesian_ridgeback\\t0.408143\\tTrue\\tredbone\\t0.360687\\tTrue\\tminiature_pinscher\\t0.222752\\tTrue\\n666049248165822465\\thttps://pbs.twimg.com/media/CT5IQmsXIAAKY4A.jpg\\t1\\tminiature_pinscher\\t0.560311\\tTrue\\tRottweiler\\t0.243682\\tTrue\\tDoberman\\t0.154629\\tTrue\\n666050758794694657\\thttps://pbs.twimg.com/media/CT5Jof1WUAEuVxN.jpg\\t1\\tBernese_mountain_dog\\t0.651137\\tTrue\\tEnglish_springer\\t0.263788\\tTrue\\tGreater_Swiss_Mountain_dog\\t0.0161992\\tTrue\\n666051853826850816\\thttps://pbs.twimg.com/media/CT5KoJ1WoAAJash.jpg\\t1\\tbox_turtle\\t0.9330120000000001\\tFalse\\tmud_turtle\\t0.04588540000000001\\tFalse\\tterrapin\\t0.017885299999999996\\tFalse\\n666055525042405380\\thttps://pbs.twimg.com/media/CT5N9tpXIAAifs1.jpg\\t1\\tchow\\t0.692517\\tTrue\\tTibetan_mastiff\\t0.058279399999999995\\tTrue\\tfur_coat\\t0.0544486\\tFalse\\n666057090499244032\\thttps://pbs.twimg.com/media/CT5PY90WoAAQGLo.jpg\\t1\\tshopping_cart\\t0.962465\\tFalse\\tshopping_basket\\t0.014593799999999999\\tFalse\\tgolden_retriever\\t0.00795896\\tTrue\\n666058600524156928\\thttps://pbs.twimg.com/media/CT5Qw94XAAA_2dP.jpg\\t1\\tminiature_poodle\\t0.201493\\tTrue\\tkomondor\\t0.192305\\tTrue\\tsoft-coated_wheaten_terrier\\t0.08208610000000001\\tTrue\\n666063827256086533\\thttps://pbs.twimg.com/media/CT5Vg_wXIAAXfnj.jpg\\t1\\tgolden_retriever\\t0.77593\\tTrue\\tTibetan_mastiff\\t0.0937178\\tTrue\\tLabrador_retriever\\t0.07242660000000001\\tTrue\\n666071193221509120\\thttps://pbs.twimg.com/media/CT5cN_3WEAAlOoZ.jpg\\t1\\tGordon_setter\\t0.503672\\tTrue\\tYorkshire_terrier\\t0.174201\\tTrue\\tPekinese\\t0.109454\\tTrue\\n666073100786774016\\thttps://pbs.twimg.com/media/CT5d9DZXAAALcwe.jpg\\t1\\tWalker_hound\\t0.260857\\tTrue\\tEnglish_foxhound\\t0.17538199999999998\\tTrue\\tIbizan_hound\\t0.0974705\\tTrue\\n666082916733198337\\thttps://pbs.twimg.com/media/CT5m4VGWEAAtKc8.jpg\\t1\\tpug\\t0.489814\\tTrue\\tbull_mastiff\\t0.40472199999999997\\tTrue\\tFrench_bulldog\\t0.0489595\\tTrue\\n666094000022159362\\thttps://pbs.twimg.com/media/CT5w9gUW4AAsBNN.jpg\\t1\\tbloodhound\\t0.195217\\tTrue\\tGerman_shepherd\\t0.0782598\\tTrue\\tmalinois\\t0.07562780000000001\\tTrue\\n666099513787052032\\thttps://pbs.twimg.com/media/CT51-JJUEAA6hV8.jpg\\t1\\tLhasa\\t0.58233\\tTrue\\tShih-Tzu\\t0.166192\\tTrue\\tDandie_Dinmont\\t0.0896883\\tTrue\\n666102155909144576\\thttps://pbs.twimg.com/media/CT54YGiWUAEZnoK.jpg\\t1\\tEnglish_setter\\t0.298617\\tTrue\\tNewfoundland\\t0.149842\\tTrue\\tborzoi\\t0.133649\\tTrue\\n666104133288665088\\thttps://pbs.twimg.com/media/CT56LSZWoAAlJj2.jpg\\t1\\then\\t0.965932\\tFalse\\tcock\\t0.0339194\\tFalse\\tpartridge\\t5.20658e-05\\tFalse\\n666268910803644416\\thttps://pbs.twimg.com/media/CT8QCd1WEAADXws.jpg\\t1\\tdesktop_computer\\t0.086502\\tFalse\\tdesk\\t0.0855474\\tFalse\\tbookcase\\t0.0794797\\tFalse\\n666273097616637952\\thttps://pbs.twimg.com/media/CT8T1mtUwAA3aqm.jpg\\t1\\tItalian_greyhound\\t0.176053\\tTrue\\ttoy_terrier\\t0.111884\\tTrue\\tbasenji\\t0.111152\\tTrue\\n666287406224695296\\thttps://pbs.twimg.com/media/CT8g3BpUEAAuFjg.jpg\\t1\\tMaltese_dog\\t0.8575309999999999\\tTrue\\ttoy_poodle\\t0.0630638\\tTrue\\tminiature_poodle\\t0.0255806\\tTrue\\n666293911632134144\\thttps://pbs.twimg.com/media/CT8mx7KW4AEQu8N.jpg\\t1\\tthree-toed_sloth\\t0.9146709999999999\\tFalse\\totter\\t0.01525\\tFalse\\tgreat_grey_owl\\t0.0132072\\tFalse\\n666337882303524864\\thttps://pbs.twimg.com/media/CT9OwFIWEAMuRje.jpg\\t1\\tox\\t0.41666899999999996\\tFalse\\tNewfoundland\\t0.278407\\tTrue\\tgroenendael\\t0.10264300000000001\\tTrue\\n666345417576210432\\thttps://pbs.twimg.com/media/CT9Vn7PWoAA_ZCM.jpg\\t1\\tgolden_retriever\\t0.8587440000000001\\tTrue\\tChesapeake_Bay_retriever\\t0.054786800000000004\\tTrue\\tLabrador_retriever\\t0.014240899999999999\\tTrue\\n666353288456101888\\thttps://pbs.twimg.com/media/CT9cx0tUEAAhNN_.jpg\\t1\\tmalamute\\t0.33687399999999995\\tTrue\\tSiberian_husky\\t0.147655\\tTrue\\tEskimo_dog\\t0.09341239999999999\\tTrue\\n666362758909284353\\thttps://pbs.twimg.com/media/CT9lXGsUcAAyUFt.jpg\\t1\\tguinea_pig\\t0.9964959999999999\\tFalse\\tskunk\\t0.00240245\\tFalse\\thamster\\t0.00046086300000000005\\tFalse\\n666373753744588802\\thttps://pbs.twimg.com/media/CT9vZEYWUAAlZ05.jpg\\t1\\tsoft-coated_wheaten_terrier\\t0.326467\\tTrue\\tAfghan_hound\\t0.25955100000000003\\tTrue\\tbriard\\t0.20680300000000001\\tTrue\\n666396247373291520\\thttps://pbs.twimg.com/media/CT-D2ZHWIAA3gK1.jpg\\t1\\tChihuahua\\t0.978108\\tTrue\\ttoy_terrier\\t0.00939697\\tTrue\\tpapillon\\t0.00457681\\tTrue\\n666407126856765440\\thttps://pbs.twimg.com/media/CT-NvwmW4AAugGZ.jpg\\t1\\tblack-and-tan_coonhound\\t0.529139\\tTrue\\tbloodhound\\t0.24422\\tTrue\\tflat-coated_retriever\\t0.17381\\tTrue\\n666411507551481857\\thttps://pbs.twimg.com/media/CT-RugiWIAELEaq.jpg\\t1\\tcoho\\t0.40464\\tFalse\\tbarracouta\\t0.271485\\tFalse\\tgar\\t0.189945\\tFalse\\n666418789513326592\\thttps://pbs.twimg.com/media/CT-YWb7U8AA7QnN.jpg\\t1\\ttoy_terrier\\t0.14968\\tTrue\\tpapillon\\t0.148258\\tTrue\\tChihuahua\\t0.14286\\tTrue\\n666421158376562688\\thttps://pbs.twimg.com/media/CT-aggCXAAIMfT3.jpg\\t1\\tBlenheim_spaniel\\t0.906777\\tTrue\\tcocker_spaniel\\t0.0903464\\tTrue\\tShih-Tzu\\t0.00111687\\tTrue\\n666428276349472768\\thttps://pbs.twimg.com/media/CT-g-0DUwAEQdSn.jpg\\t1\\tPembroke\\t0.371361\\tTrue\\tchow\\t0.249394\\tTrue\\tPomeranian\\t0.241878\\tTrue\\n666430724426358785\\thttps://pbs.twimg.com/media/CT-jNYqW4AAPi2M.jpg\\t1\\tllama\\t0.505184\\tFalse\\tIrish_terrier\\t0.104109\\tTrue\\tdingo\\t0.0620712\\tFalse\\n666435652385423360\\thttps://pbs.twimg.com/media/CT-nsTQWEAEkyDn.jpg\\t1\\tChesapeake_Bay_retriever\\t0.18413\\tTrue\\tchain_saw\\t0.05677530000000001\\tFalse\\tpower_drill\\t0.0367634\\tFalse\\n666437273139982337\\thttps://pbs.twimg.com/media/CT-pKmRWIAAxUWj.jpg\\t1\\tChihuahua\\t0.6718529999999999\\tTrue\\tbeagle\\t0.12468\\tTrue\\tSaluki\\t0.04409419999999999\\tTrue\\n666447344410484738\\thttps://pbs.twimg.com/media/CT-yU5QWwAEjLX5.jpg\\t1\\tcurly-coated_retriever\\t0.32208400000000004\\tTrue\\tgiant_schnauzer\\t0.287955\\tTrue\\tLabrador_retriever\\t0.166331\\tTrue\\n666454714377183233\\thttps://pbs.twimg.com/media/CT-5Bs-WUAA2JeC.jpg\\t1\\tdalmatian\\t0.278954\\tTrue\\tLabrador_retriever\\t0.237612\\tTrue\\tGreat_Pyrenees\\t0.171106\\tTrue\\n666644823164719104\\thttps://pbs.twimg.com/media/CUBl6IwVAAA9_zT.jpg\\t1\\tIbizan_hound\\t0.0443334\\tTrue\\tPembroke\\t0.0432093\\tTrue\\tWest_Highland_white_terrier\\t0.0389056\\tTrue\\n666649482315059201\\thttps://pbs.twimg.com/media/CUBqKnLWwAA5OQB.jpg\\t1\\tBorder_collie\\t0.44780299999999995\\tTrue\\tEnglish_springer\\t0.170497\\tTrue\\tcollie\\t0.139206\\tTrue\\n666691418707132416\\thttps://pbs.twimg.com/media/CUCQTpEWEAA7EDz.jpg\\t1\\tGerman_shepherd\\t0.9754010000000001\\tTrue\\tbeagle\\t0.00868727\\tTrue\\tbloodhound\\t0.00539404\\tTrue\\n666701168228331520\\thttps://pbs.twimg.com/media/CUCZLHlUAAAeAig.jpg\\t1\\tLabrador_retriever\\t0.887707\\tTrue\\tChihuahua\\t0.029307\\tTrue\\tFrench_bulldog\\t0.0207563\\tTrue\\n666739327293083650\\thttps://pbs.twimg.com/media/CUC74aTWoAInZey.jpg\\t1\\tminiature_poodle\\t0.546933\\tTrue\\tcocker_spaniel\\t0.16525499999999999\\tTrue\\ttoy_poodle\\t0.0959589\\tTrue\\n666776908487630848\\thttps://pbs.twimg.com/media/CUDeDoWUYAAD-EM.jpg\\t1\\tseat_belt\\t0.37505700000000003\\tFalse\\tminiature_pinscher\\t0.167175\\tTrue\\tChihuahua\\t0.0869506\\tTrue\\n666781792255496192\\thttps://pbs.twimg.com/media/CUDigRXXIAATI_H.jpg\\t1\\tItalian_greyhound\\t0.618316\\tTrue\\tWeimaraner\\t0.151363\\tTrue\\tvizsla\\t0.08598910000000001\\tTrue\\n666786068205871104\\thttps://pbs.twimg.com/media/CUDmZIkWcAAIPPe.jpg\\t1\\tsnail\\t0.9998879999999999\\tFalse\\tslug\\t5.51417e-05\\tFalse\\tacorn\\t2.6258e-05\\tFalse\\n666804364988780544\\thttps://pbs.twimg.com/media/CUD3A7YWoAA82N0.jpg\\t1\\tEnglish_setter\\t0.32879200000000003\\tTrue\\tBrittany_spaniel\\t0.283545\\tTrue\\tIbizan_hound\\t0.0574615\\tTrue\\n666817836334096384\\thttps://pbs.twimg.com/media/CUEDSMEWEAAuXVZ.jpg\\t1\\tminiature_schnauzer\\t0.496953\\tTrue\\tstandard_schnauzer\\t0.28527600000000003\\tTrue\\tgiant_schnauzer\\t0.07376369999999999\\tTrue\\n666826780179869698\\thttps://pbs.twimg.com/media/CUELa0NUkAAscGC.jpg\\t1\\tMaltese_dog\\t0.359383\\tTrue\\tteddy\\t0.148759\\tFalse\\tWest_Highland_white_terrier\\t0.10600699999999999\\tTrue\\n666835007768551424\\thttps://pbs.twimg.com/media/CUES51dXIAEahyG.jpg\\t1\\tAiredale\\t0.448459\\tTrue\\ttoy_poodle\\t0.12403\\tTrue\\tteddy\\t0.11018299999999999\\tFalse\\n666837028449972224\\thttps://pbs.twimg.com/media/CUEUva1WsAA2jPb.jpg\\t1\\ttriceratops\\t0.44211300000000003\\tFalse\\tarmadillo\\t0.114071\\tFalse\\tcommon_iguana\\t0.0432553\\tFalse\\n666983947667116034\\thttps://pbs.twimg.com/media/CUGaXDhW4AY9JUH.jpg\\t1\\tswab\\t0.589446\\tFalse\\tchain_saw\\t0.190142\\tFalse\\twig\\t0.0345097\\tFalse\\n666996132027977728\\thttps://pbs.twimg.com/media/CUGlb6iUwAITEbW.jpg\\t1\\thay\\t0.507637\\tFalse\\tRottweiler\\t0.0624899\\tTrue\\twater_buffalo\\t0.048424699999999994\\tFalse\\n667012601033924608\\thttps://pbs.twimg.com/media/CUG0bC0U8AAw2su.jpg\\t1\\thyena\\t0.9872299999999999\\tFalse\\tAfrican_hunting_dog\\t0.012600799999999999\\tFalse\\tcoyote\\t5.7350100000000005e-05\\tFalse\\n667044094246576128\\thttps://pbs.twimg.com/media/CUHREBXXAAE6A9b.jpg\\t1\\tgolden_retriever\\t0.765266\\tTrue\\tLabrador_retriever\\t0.20669400000000002\\tTrue\\tseat_belt\\t0.0106669\\tFalse\\n667062181243039745\\thttps://pbs.twimg.com/media/CUHhgvHUAAA4aB0.jpg\\t1\\tChesapeake_Bay_retriever\\t0.825678\\tTrue\\tvizsla\\t0.090998\\tTrue\\tkelpie\\t0.0229562\\tTrue\\n667065535570550784\\thttps://pbs.twimg.com/media/CUHkkJpXIAA2w3n.jpg\\t1\\tjigsaw_puzzle\\t0.560001\\tFalse\\tdoormat\\t0.10325899999999999\\tFalse\\tspace_heater\\t0.042568\\tFalse\\n667073648344346624\\thttps://pbs.twimg.com/media/CUHr8WbWEAEBPgf.jpg\\t1\\tChihuahua\\t0.48368199999999995\\tTrue\\tpug\\t0.09249389999999999\\tTrue\\tBrabancon_griffon\\t0.05749540000000001\\tTrue\\n667090893657276420\\thttps://pbs.twimg.com/media/CUH7oLuUsAELWib.jpg\\t1\\tChihuahua\\t0.959514\\tTrue\\tItalian_greyhound\\t0.00537015\\tTrue\\tPomeranian\\t0.00264133\\tTrue\\n667119796878725120\\thttps://pbs.twimg.com/media/CUIV6F7XIAA1tAM.jpg\\t1\\tPembroke\\t0.741563\\tTrue\\tChihuahua\\t0.0578659\\tTrue\\ttoy_poodle\\t0.039125099999999996\\tTrue\\n667138269671505920\\thttps://pbs.twimg.com/media/CUImtzEVAAAZNJo.jpg\\t1\\tWest_Highland_white_terrier\\t0.747713\\tTrue\\tSamoyed\\t0.24362899999999998\\tTrue\\ttoy_poodle\\t0.00180397\\tTrue\\n667152164079423490\\thttps://pbs.twimg.com/media/CUIzWk_UwAAfUNq.jpg\\t1\\ttoy_poodle\\t0.535411\\tTrue\\tPomeranian\\t0.08754400000000001\\tTrue\\tminiature_poodle\\t0.06205\\tTrue\\n667160273090932737\\thttps://pbs.twimg.com/media/CUI6uuaW4AAvCIs.jpg\\t1\\tgolden_retriever\\t0.471351\\tTrue\\tminiature_poodle\\t0.09199210000000001\\tTrue\\tstandard_poodle\\t0.08738539999999999\\tTrue\\n667165590075940865\\thttps://pbs.twimg.com/media/CUI_kHBWsAAAef5.jpg\\t1\\tminiature_pinscher\\t0.140173\\tTrue\\tRottweiler\\t0.13409400000000002\\tTrue\\tbeagle\\t0.08189980000000001\\tTrue\\n667171260800061440\\thttps://pbs.twimg.com/media/CUJEuRIXIAAPDLt.jpg\\t1\\tgiant_schnauzer\\t0.8412649999999999\\tTrue\\tLakeland_terrier\\t0.0527442\\tTrue\\tIrish_water_spaniel\\t0.0344017\\tTrue\\n667174963120574464\\thttps://pbs.twimg.com/media/CUJIFoJWsAAL3Dc.jpg\\t1\\ttoy_poodle\\t0.266437\\tTrue\\tChihuahua\\t0.243223\\tTrue\\tbluetick\\t0.0728063\\tTrue\\n667176164155375616\\thttps://pbs.twimg.com/media/CUJJLtWWsAE-go5.jpg\\t1\\tsoft-coated_wheaten_terrier\\t0.318981\\tTrue\\tLakeland_terrier\\t0.215218\\tTrue\\ttoy_poodle\\t0.10601400000000001\\tTrue\\n667177989038297088\\thttps://pbs.twimg.com/media/CUJK18UWEAEg7AR.jpg\\t1\\tvizsla\\t0.25924899999999995\\tTrue\\tChesapeake_Bay_retriever\\t0.176293\\tTrue\\tWeimaraner\\t0.11236900000000001\\tTrue\\n667182792070062081\\thttps://pbs.twimg.com/media/CUJPNjOWsAAZRqP.jpg\\t1\\tgolden_retriever\\t0.949892\\tTrue\\tIrish_setter\\t0.0105638\\tTrue\\tChesapeake_Bay_retriever\\t0.00582141\\tTrue\\n667188689915760640\\thttps://pbs.twimg.com/media/CUJUk2iWUAAVtOv.jpg\\t1\\tvacuum\\t0.33583\\tFalse\\tswab\\t0.265278\\tFalse\\ttoilet_tissue\\t0.140703\\tFalse\\n667192066997374976\\thttps://pbs.twimg.com/media/CUJXpRBXIAAN0yz.jpg\\t1\\tRottweiler\\t0.28364\\tTrue\\tminiature_pinscher\\t0.148112\\tTrue\\tblack-and-tan_coonhound\\t0.09558480000000001\\tTrue\\n667200525029539841\\thttps://pbs.twimg.com/media/CUJfVMPXIAAgbue.jpg\\t1\\tSiberian_husky\\t0.694904\\tTrue\\tmalamute\\t0.232006\\tTrue\\tEskimo_dog\\t0.0506351\\tTrue\\n667211855547486208\\thttps://pbs.twimg.com/media/CUJppKJWoAA75NP.jpg\\t1\\tgolden_retriever\\t0.462556\\tTrue\\tLabrador_retriever\\t0.454937\\tTrue\\tkuvasz\\t0.0241933\\tTrue\\n667369227918143488\\thttps://pbs.twimg.com/media/CUL4xR9UkAEdlJ6.jpg\\t1\\tteddy\\t0.709545\\tFalse\\tbath_towel\\t0.12728499999999998\\tFalse\\tChristmas_stocking\\t0.028567500000000003\\tFalse\\n667393430834667520\\thttps://pbs.twimg.com/media/CUMOyd3XIAAl13H.jpg\\t1\\tpapillon\\t0.557009\\tTrue\\tBorder_collie\\t0.271963\\tTrue\\tcollie\\t0.0734729\\tTrue\\n667405339315146752\\thttps://pbs.twimg.com/media/CUMZnmhUEAEbtis.jpg\\t1\\tSaint_Bernard\\t0.381377\\tTrue\\tLeonberg\\t0.127998\\tTrue\\tgolden_retriever\\t0.0693568\\tTrue\\n667435689202614272\\thttps://pbs.twimg.com/media/CUM1OHCW4AEgGSi.jpg\\t1\\tRottweiler\\t0.999091\\tTrue\\tminiature_pinscher\\t0.000450355\\tTrue\\tblack-and-tan_coonhound\\t0.00015714\\tTrue\\n667437278097252352\\thttps://pbs.twimg.com/media/CUM2qWaWoAUZ06L.jpg\\t1\\tporcupine\\t0.9891540000000001\\tFalse\\tbath_towel\\t0.00630049\\tFalse\\tbadger\\t0.00096634\\tFalse\\n667443425659232256\\thttps://pbs.twimg.com/media/CUM8QZwW4AAVsBl.jpg\\t1\\tgoose\\t0.980815\\tFalse\\tdrake\\t0.00691777\\tFalse\\then\\t0.00525517\\tFalse\\n667453023279554560\\thttps://pbs.twimg.com/media/CUNE_OSUwAAdHhX.jpg\\t1\\tLabrador_retriever\\t0.8256700000000001\\tTrue\\tFrench_bulldog\\t0.0566394\\tTrue\\tStaffordshire_bullterrier\\t0.054018399999999994\\tTrue\\n667455448082227200\\thttps://pbs.twimg.com/media/CUNHMXTU8AAS3HH.jpg\\t1\\tTibetan_terrier\\t0.676376\\tTrue\\tIrish_terrier\\t0.05493340000000001\\tTrue\\tYorkshire_terrier\\t0.0405755\\tTrue\\n667470559035432960\\thttps://pbs.twimg.com/media/CUNU78YWEAECmpB.jpg\\t1\\ttoy_poodle\\t0.304175\\tTrue\\tpug\\t0.223427\\tTrue\\tLakeland_terrier\\t0.07331649999999999\\tTrue\\n667491009379606528\\thttps://pbs.twimg.com/media/CUNniSlUYAEj1Jl.jpg\\t1\\tborzoi\\t0.852088\\tTrue\\tice_bear\\t0.13226400000000002\\tFalse\\tweasel\\t0.00572998\\tFalse\\n667495797102141441\\thttps://pbs.twimg.com/media/CUNr4-7UwAAg2lq.jpg\\t1\\tChihuahua\\t0.143957\\tTrue\\tChristmas_stocking\\t0.11865099999999999\\tFalse\\tski_mask\\t0.0924817\\tFalse\\n667502640335572993\\thttps://pbs.twimg.com/media/CUNyHTMUYAAQVch.jpg\\t1\\tLabrador_retriever\\t0.9967090000000001\\tTrue\\tgolden_retriever\\t0.00168821\\tTrue\\tbeagle\\t0.0007116669999999999\\tTrue\\n667509364010450944\\thttps://pbs.twimg.com/media/CUN4Or5UAAAa5K4.jpg\\t1\\tbeagle\\t0.636169\\tTrue\\tLabrador_retriever\\t0.119256\\tTrue\\tgolden_retriever\\t0.08254919999999999\\tTrue\\n667517642048163840\\thttps://pbs.twimg.com/media/CUN_wiBUkAAakT0.jpg\\t1\\tItalian_greyhound\\t0.125176\\tTrue\\tstandard_poodle\\t0.08457150000000001\\tTrue\\tcocker_spaniel\\t0.0813469\\tTrue\\n667524857454854144\\thttps://pbs.twimg.com/media/CUOGUfJW4AA_eni.jpg\\t1\\thare\\t0.44789300000000004\\tFalse\\tdhole\\t0.09243530000000001\\tFalse\\tChesapeake_Bay_retriever\\t0.08812239999999999\\tTrue\\n667530908589760512\\thttps://pbs.twimg.com/media/CUOL0uGUkAAx7yh.jpg\\t1\\tgolden_retriever\\t0.633037\\tTrue\\tkuvasz\\t0.14639100000000002\\tTrue\\tLabrador_retriever\\t0.0461837\\tTrue\\n667534815156183040\\thttps://pbs.twimg.com/media/CUOPYI5UcAAj_nO.jpg\\t1\\tPembroke\\t0.435254\\tTrue\\tCardigan\\t0.30740700000000004\\tTrue\\tcocker_spaniel\\t0.0331583\\tTrue\\n667538891197542400\\thttps://pbs.twimg.com/media/CUOTFZOW4AABsfW.jpg\\t1\\tYorkshire_terrier\\t0.618957\\tTrue\\tsilky_terrier\\t0.300313\\tTrue\\tAustralian_terrier\\t0.053412\\tTrue\\n667544320556335104\\thttps://pbs.twimg.com/media/CUOYBbbWIAAXQGU.jpg\\t1\\tPomeranian\\t0.412893\\tTrue\\tPembroke\\t0.312958\\tTrue\\tChihuahua\\t0.0719604\\tTrue\\n667546741521195010\\thttps://pbs.twimg.com/media/CUOaOWXWcAA0_Jy.jpg\\t1\\ttoy_poodle\\t0.787424\\tTrue\\tminiature_poodle\\t0.202225\\tTrue\\tteddy\\t0.00404722\\tFalse\\n667549055577362432\\thttps://pbs.twimg.com/media/CUOcVCwWsAERUKY.jpg\\t1\\telectric_fan\\t0.9843770000000001\\tFalse\\tspotlight\\t0.00773671\\tFalse\\tlampshade\\t0.00190123\\tFalse\\n667550882905632768\\thttps://pbs.twimg.com/media/CUObvUJVEAAnYPF.jpg\\t1\\tweb_site\\t0.998258\\tFalse\\tdishwasher\\t0.000201084\\tFalse\\toscilloscope\\t0.000141736\\tFalse\\n667550904950915073\\thttps://pbs.twimg.com/media/CUOb_gUUkAACXdS.jpg\\t1\\tweb_site\\t0.9993350000000001\\tFalse\\tvizsla\\t8.10632e-05\\tTrue\\tcollie\\t6.915899999999999e-05\\tTrue\\n667724302356258817\\thttps://pbs.twimg.com/media/CUQ7tv3W4AA3KlI.jpg\\t1\\tibex\\t0.6190979999999999\\tFalse\\tbighorn\\t0.125119\\tFalse\\tram\\t0.0746732\\tFalse\\n667728196545200128\\thttps://pbs.twimg.com/media/CUQ_QahUAAAVQjn.jpg\\t1\\tkuvasz\\t0.360159\\tTrue\\tgolden_retriever\\t0.293744\\tTrue\\tLabrador_retriever\\t0.270673\\tTrue\\n667766675769573376\\thttps://pbs.twimg.com/media/CURiQMnUAAAPT2M.jpg\\t1\\tfire_engine\\t0.8834930000000001\\tFalse\\ttow_truck\\t0.07473389999999999\\tFalse\\tjeep\\t0.0127726\\tFalse\\n667773195014021121\\thttps://pbs.twimg.com/media/CURoLrOVEAAaWdR.jpg\\t1\\tWest_Highland_white_terrier\\t0.36046500000000004\\tTrue\\tpug\\t0.0934941\\tTrue\\tice_bear\\t0.0690382\\tFalse\\n667782464991965184\\thttps://pbs.twimg.com/media/CURwm3cUkAARcO6.jpg\\t1\\tlorikeet\\t0.466149\\tFalse\\thummingbird\\t0.083011\\tFalse\\tAfrican_grey\\t0.0542474\\tFalse\\n667793409583771648\\thttps://pbs.twimg.com/media/CUR6jqVWsAEgGot.jpg\\t1\\tdalmatian\\t0.5350729999999999\\tTrue\\tEnglish_setter\\t0.451219\\tTrue\\tGreat_Dane\\t0.00816361\\tTrue\\n667801013445750784\\thttps://pbs.twimg.com/media/CUSBemVUEAAn-6V.jpg\\t1\\tflat-coated_retriever\\t0.508392\\tTrue\\tChesapeake_Bay_retriever\\t0.262239\\tTrue\\tcurly-coated_retriever\\t0.048919800000000006\\tTrue\\n667806454573760512\\thttps://pbs.twimg.com/media/CUSGbXeVAAAgztZ.jpg\\t1\\ttoyshop\\t0.253089\\tFalse\\tChihuahua\\t0.187155\\tTrue\\tBrabancon_griffon\\t0.112799\\tTrue\\n667832474953625600\\thttps://pbs.twimg.com/media/CUSeGFNW4AAyyHC.jpg\\t1\\tminiature_pinscher\\t0.2142\\tTrue\\tbath_towel\\t0.146789\\tFalse\\tChihuahua\\t0.104152\\tTrue\\n667861340749471744\\thttps://pbs.twimg.com/media/CUS4WJ-UsAEJj10.jpg\\t1\\tmalamute\\t0.967275\\tTrue\\tSiberian_husky\\t0.0161675\\tTrue\\tEskimo_dog\\t0.0112774\\tTrue\\n667866724293877760\\thttps://pbs.twimg.com/media/CUS9PlUWwAANeAD.jpg\\t1\\tjigsaw_puzzle\\t1.0\\tFalse\\tprayer_rug\\t1.0113000000000001e-08\\tFalse\\tdoormat\\t1.7401699999999998e-10\\tFalse\\n667873844930215936\\thttps://pbs.twimg.com/media/CUTDtyGXIAARxus.jpg\\t1\\tcommon_iguana\\t0.999647\\tFalse\\tfrilled_lizard\\t0.00018115\\tFalse\\tAfrican_chameleon\\t0.000128357\\tFalse\\n667878741721415682\\thttps://pbs.twimg.com/media/CUTILFiWcAE8Rle.jpg\\t1\\tseat_belt\\t0.200373\\tFalse\\tminiature_pinscher\\t0.106003\\tTrue\\tschipperke\\t0.10473299999999999\\tTrue\\n667885044254572545\\thttps://pbs.twimg.com/media/CUTN5V4XAAAIa4R.jpg\\t1\\tmalamute\\t0.0885297\\tTrue\\tgolden_retriever\\t0.08749860000000001\\tTrue\\tmuzzle\\t0.0750077\\tFalse\\n667886921285246976\\thttps://pbs.twimg.com/media/CUTPnPCW4AI7R0y.jpg\\t1\\tPomeranian\\t0.8004319999999999\\tTrue\\tPekinese\\t0.168445\\tTrue\\tChihuahua\\t0.00894952\\tTrue\\n667902449697558528\\thttps://pbs.twimg.com/media/CUTdvAJXIAAMS4q.jpg\\t1\\tNorwegian_elkhound\\t0.298881\\tTrue\\tmalamute\\t0.279479\\tTrue\\tEskimo_dog\\t0.198428\\tTrue\\n667911425562669056\\thttps://pbs.twimg.com/media/CUTl5m1WUAAabZG.jpg\\t1\\tfrilled_lizard\\t0.257695\\tFalse\\tox\\t0.23515999999999998\\tFalse\\ttriceratops\\t0.0853169\\tFalse\\n667915453470232577\\thttps://pbs.twimg.com/media/CUTpj-GWcAATc6A.jpg\\t1\\tleatherback_turtle\\t0.452517\\tFalse\\tboxer\\t0.196655\\tTrue\\tterrapin\\t0.160983\\tFalse\\n667924896115245057\\thttps://pbs.twimg.com/media/CUTyJpHWcAATl0O.jpg\\t1\\tLabrador_retriever\\t0.20905100000000001\\tTrue\\thog\\t0.20398\\tFalse\\tNewfoundland\\t0.165914\\tTrue\\n667937095915278337\\thttps://pbs.twimg.com/media/CUT9PuQWwAABQv7.jpg\\t1\\thamster\\t0.172078\\tFalse\\tguinea_pig\\t0.0949242\\tFalse\\tBand_Aid\\t0.0599952\\tFalse\\n668113020489474048\\thttps://pbs.twimg.com/media/CUWdPsqWcAERQVv.jpg\\t1\\tPembroke\\t0.548896\\tTrue\\tCardigan\\t0.191101\\tTrue\\tcollie\\t0.059814099999999995\\tTrue\\n668142349051129856\\thttps://pbs.twimg.com/media/CUW37BzWsAAlJlN.jpg\\t1\\tAngora\\t0.918834\\tFalse\\then\\t0.037793400000000005\\tFalse\\twood_rabbit\\t0.0110149\\tFalse\\n668154635664932864\\thttps://pbs.twimg.com/media/CUXDGR2WcAAUQKz.jpg\\t1\\tArctic_fox\\t0.473584\\tFalse\\twallaby\\t0.261411\\tFalse\\twhite_wolf\\t0.0809478\\tFalse\\n668171859951755264\\thttps://pbs.twimg.com/media/CUXSwy8W4AA6uet.jpg\\t1\\tChihuahua\\t0.664834\\tTrue\\tcowboy_boot\\t0.060342999999999994\\tFalse\\tgiant_panda\\t0.0598375\\tFalse\\n668190681446379520\\thttps://pbs.twimg.com/media/CUXj4SgXAAETlu6.jpg\\t1\\tBlenheim_spaniel\\t0.9584020000000001\\tTrue\\tcocker_spaniel\\t0.026764299999999998\\tTrue\\tWelsh_springer_spaniel\\t0.00778991\\tTrue\\n668204964695683073\\thttps://pbs.twimg.com/media/CUXw3qHWoAAk8HJ.jpg\\t1\\tLabrador_retriever\\t0.65518\\tTrue\\tgolden_retriever\\t0.107884\\tTrue\\tChesapeake_Bay_retriever\\t0.0658347\\tTrue\\n668221241640230912\\thttps://pbs.twimg.com/media/CUX_rAyWsAYZOQ5.jpg\\t1\\tchow\\t0.39510100000000004\\tTrue\\tgolden_retriever\\t0.37211500000000003\\tTrue\\tLabrador_retriever\\t0.148785\\tTrue\\n668226093875376128\\thttps://pbs.twimg.com/media/CUYEFlQXAAUkPGm.jpg\\t1\\ttrombone\\t0.390339\\tFalse\\tcornet\\t0.31414899999999996\\tFalse\\tFrench_horn\\t0.255182\\tFalse\\n668237644992782336\\thttps://pbs.twimg.com/media/CUYOl0kW4AAVe_p.jpg\\t1\\tchow\\t0.8093199999999999\\tTrue\\tminivan\\t0.07131069999999999\\tFalse\\tPekinese\\t0.037869599999999996\\tTrue\\n668248472370458624\\thttps://pbs.twimg.com/media/CUYYcMfXAAAixe7.jpg\\t1\\tChihuahua\\t0.7345470000000001\\tTrue\\tminiature_pinscher\\t0.06829439999999999\\tTrue\\ttoy_terrier\\t0.0463671\\tTrue\\n668256321989451776\\thttps://pbs.twimg.com/media/CUYflCXWEAAzQVu.jpg\\t1\\tcanoe\\t0.407683\\tFalse\\tpaddle\\t0.11555\\tFalse\\tPembroke\\t0.0944294\\tTrue\\n668268907921326080\\thttps://pbs.twimg.com/media/CUYrBNQUkAA-zx4.jpg\\t1\\tPembroke\\t0.48483000000000004\\tTrue\\tCardigan\\t0.425303\\tTrue\\tbasenji\\t0.0147535\\tTrue\\n668274247790391296\\thttps://pbs.twimg.com/media/CUYv4d2WUAAziXs.jpg\\t1\\tsoft-coated_wheaten_terrier\\t0.40637399999999996\\tTrue\\tLakeland_terrier\\t0.263854\\tTrue\\ttoy_poodle\\t0.150844\\tTrue\\n668286279830867968\\thttps://pbs.twimg.com/media/CUY60usWoAAdBxx.jpg\\t1\\tgolden_retriever\\t0.215944\\tTrue\\tbasset\\t0.18921400000000002\\tTrue\\tCardigan\\t0.11300999999999999\\tTrue\\n668291999406125056\\thttps://pbs.twimg.com/media/CUZABzGW4AE5F0k.jpg\\t1\\tweb_site\\t0.9955350000000001\\tFalse\\tskunk\\t0.00136349\\tFalse\\tbadger\\t0.00068565\\tFalse\\n668297328638447616\\thttps://pbs.twimg.com/media/CUZE4IWW4AAZmDf.jpg\\t1\\tking_penguin\\t0.606747\\tFalse\\tice_bear\\t0.264221\\tFalse\\tEskimo_dog\\t0.0327838\\tTrue\\n668466899341221888\\thttps://pbs.twimg.com/media/CUbfGbbWoAApZth.jpg\\t1\\tshopping_basket\\t0.398361\\tFalse\\thamper\\t0.363222\\tFalse\\tbassinet\\t0.0841735\\tFalse\\n668480044826800133\\thttps://pbs.twimg.com/media/CUbrDWOWcAEyMdM.jpg\\t1\\tArctic_fox\\t0.119243\\tFalse\\tLabrador_retriever\\t0.0999648\\tTrue\\tpug\\t0.0867165\\tTrue\\n668484198282485761\\thttps://pbs.twimg.com/media/CUbu1GAWsAEH3E-.jpg\\t1\\tstandard_poodle\\t0.587372\\tTrue\\tBedlington_terrier\\t0.182411\\tTrue\\tAfghan_hound\\t0.040968\\tTrue\\n668496999348633600\\thttps://pbs.twimg.com/media/CUb6ebKWcAAJkd0.jpg\\t1\\tStaffordshire_bullterrier\\t0.412879\\tTrue\\tminiature_pinscher\\t0.16148800000000002\\tTrue\\tAmerican_Staffordshire_terrier\\t0.112495\\tTrue\\n668507509523615744\\thttps://pbs.twimg.com/media/CUcECBYWcAAzFRg.jpg\\t1\\tbasenji\\t0.055379399999999995\\tTrue\\tShetland_sheepdog\\t0.0543221\\tTrue\\twhippet\\t0.0519134\\tTrue\\n668528771708952576\\thttps://pbs.twimg.com/media/CUcXXpxWUAAUJ__.jpg\\t1\\tLabrador_retriever\\t0.19583499999999998\\tTrue\\tkuvasz\\t0.12160699999999999\\tTrue\\tEnglish_setter\\t0.08146439999999999\\tTrue\\n668537837512433665\\thttps://pbs.twimg.com/media/CUcfnWlWsAAzlwE.jpg\\t1\\tLakeland_terrier\\t0.372988\\tTrue\\ttoy_poodle\\t0.250445\\tTrue\\tChihuahua\\t0.189737\\tTrue\\n668542336805281792\\thttps://pbs.twimg.com/media/CUcjtL8WUAAAJoz.jpg\\t1\\tAmerican_Staffordshire_terrier\\t0.26769499999999996\\tTrue\\tFrench_bulldog\\t0.25405\\tTrue\\tStaffordshire_bullterrier\\t0.212381\\tTrue\\n668544745690562560\\thttps://pbs.twimg.com/media/CUcl5jeWsAA6ufS.jpg\\t1\\tbearskin\\t0.42787\\tFalse\\tbow\\t0.258858\\tFalse\\tpanpipe\\t0.021562599999999998\\tFalse\\n668567822092664832\\thttps://pbs.twimg.com/media/CUc64knWoAkZt70.jpg\\t1\\tShih-Tzu\\t0.985649\\tTrue\\tLhasa\\t0.00707832\\tTrue\\tPekinese\\t0.00305323\\tTrue\\n668614819948453888\\thttps://pbs.twimg.com/media/CUdloW8WEAAxB_Y.jpg\\t1\\tbustard\\t0.380772\\tFalse\\tpelican\\t0.10055399999999999\\tFalse\\tcrane\\t0.0847135\\tFalse\\n668620235289837568\\thttps://pbs.twimg.com/media/CUdqjvAWUAANfoU.jpg\\t1\\tcrash_helmet\\t0.757942\\tFalse\\ttoaster\\t0.037496800000000004\\tFalse\\tmouse\\t0.0272709\\tFalse\\n668623201287675904\\thttps://pbs.twimg.com/media/CUdtP1xUYAIeBnE.jpg\\t4\\tChihuahua\\t0.708163\\tTrue\\tPomeranian\\t0.09137189999999999\\tTrue\\ttiti\\t0.0673255\\tFalse\\n668625577880875008\\thttps://pbs.twimg.com/media/CUdvambWoAA007z.jpg\\t1\\tox\\t0.0715361\\tFalse\\tgroenendael\\t0.0544548\\tTrue\\tAngora\\t0.045028\\tFalse\\n668627278264475648\\thttps://pbs.twimg.com/media/CUdw9thWsAA4mB9.jpg\\t1\\tFrench_bulldog\\t0.965403\\tTrue\\tpug\\t0.00860381\\tTrue\\tBoston_bull\\t0.00800356\\tTrue\\n668631377374486528\\thttps://pbs.twimg.com/media/CUd0sSvWsAA85wO.jpg\\t1\\tminiature_schnauzer\\t0.9045489999999999\\tTrue\\tAustralian_terrier\\t0.0225294\\tTrue\\tsilky_terrier\\t0.015243200000000002\\tTrue\\n668633411083464705\\thttps://pbs.twimg.com/media/CUd2ieCUcAAexyT.jpg\\t1\\tPekinese\\t0.589011\\tTrue\\tShih-Tzu\\t0.390987\\tTrue\\tJapanese_spaniel\\t0.00331035\\tTrue\\n668636665813057536\\thttps://pbs.twimg.com/media/CUd5gBGWwAA0IVA.jpg\\t1\\tkomondor\\t0.999956\\tTrue\\tllama\\t4.309810000000001e-05\\tFalse\\tram\\t2.1609000000000002e-07\\tFalse\\n668641109086707712\\thttps://pbs.twimg.com/media/CUd9ivxWUAAuXSQ.jpg\\t1\\tvacuum\\t0.432594\\tFalse\\tpug\\t0.146311\\tTrue\\ttoilet_tissue\\t0.0245003\\tFalse\\n668643542311546881\\thttps://pbs.twimg.com/media/CUd_wYRWUAAZsKr.jpg\\t1\\tcommon_iguana\\t0.483972\\tFalse\\tfrilled_lizard\\t0.111377\\tFalse\\tsandbar\\t0.0789834\\tFalse\\n668645506898350081\\thttps://pbs.twimg.com/media/CUeBiqgXAAARLbj.jpg\\t1\\tski_mask\\t0.302854\\tFalse\\tknee_pad\\t0.0968812\\tFalse\\tbalance_beam\\t0.08407560000000001\\tFalse\\n668655139528511488\\thttps://pbs.twimg.com/media/CUeKTeYW4AEr_lx.jpg\\t1\\tbeagle\\t0.31911\\tTrue\\tItalian_greyhound\\t0.10333800000000001\\tTrue\\tbasenji\\t0.09193\\tTrue\\n668779399630725120\\thttps://pbs.twimg.com/media/CUf7UIaWUAEuKFr.jpg\\t1\\tChesapeake_Bay_retriever\\t0.285508\\tTrue\\tWeimaraner\\t0.146832\\tTrue\\tblack-footed_ferret\\t0.060864800000000004\\tFalse\\n668815180734689280\\thttps://pbs.twimg.com/media/CUgb21RXIAAlff7.jpg\\t1\\tredbone\\t0.461172\\tTrue\\tItalian_greyhound\\t0.270733\\tTrue\\tminiature_pinscher\\t0.109752\\tTrue\\n668826086256599040\\thttps://pbs.twimg.com/media/CUglxbFXAAA5O0d.jpg\\t1\\tmalinois\\t0.640185\\tTrue\\tIrish_terrier\\t0.1537\\tTrue\\tRhodesian_ridgeback\\t0.0684565\\tTrue\\n668852170888998912\\thttps://pbs.twimg.com/media/CUg9gBvWoAAmx-2.jpg\\t1\\tgolden_retriever\\t0.9035290000000001\\tTrue\\tTibetan_mastiff\\t0.041497000000000006\\tTrue\\tkuvasz\\t0.0225005\\tTrue\\n668872652652679168\\thttps://pbs.twimg.com/media/CUhQIAhXAAA2j7u.jpg\\t1\\tteddy\\t0.413379\\tFalse\\tpillow\\t0.325623\\tFalse\\tminiature_schnauzer\\t0.0355366\\tTrue\\n668892474547511297\\thttps://pbs.twimg.com/media/CUhiJ63WEAAw2qm.jpg\\t1\\tkelpie\\t0.421979\\tTrue\\tcollie\\t0.22705999999999998\\tTrue\\tCardigan\\t0.168211\\tTrue\\n668902994700836864\\thttps://pbs.twimg.com/media/CUhruUgUAAAa8FQ.jpg\\t1\\tBrittany_spaniel\\t0.828425\\tTrue\\tIbizan_hound\\t0.043082\\tTrue\\tBlenheim_spaniel\\t0.0280036\\tTrue\\n668932921458302977\\thttps://pbs.twimg.com/media/CUiG6_ZXAAAPaw_.jpg\\t1\\tstandard_poodle\\t0.23763800000000002\\tTrue\\tOld_English_sheepdog\\t0.195573\\tTrue\\ttoy_poodle\\t0.14465799999999998\\tTrue\\n668955713004314625\\thttps://pbs.twimg.com/media/CUibq3uVAAAup_O.jpg\\t1\\tcocker_spaniel\\t0.367492\\tTrue\\tLakeland_terrier\\t0.272621\\tTrue\\tsoft-coated_wheaten_terrier\\t0.0670063\\tTrue\\n668960084974809088\\thttps://pbs.twimg.com/media/CUifpn4WUAAS5X3.jpg\\t1\\tshower_curtain\\t0.226309\\tFalse\\tChesapeake_Bay_retriever\\t0.165878\\tTrue\\tbathtub\\t0.056726099999999995\\tFalse\\n668975677807423489\\thttps://pbs.twimg.com/media/CUit1O1WoAEBHjj.jpg\\t1\\tbasset\\t0.605437\\tTrue\\tWelsh_springer_spaniel\\t0.184783\\tTrue\\tSaint_Bernard\\t0.116299\\tTrue\\n668979806671884288\\thttps://pbs.twimg.com/media/CUixld6WoAArDrJ.jpg\\t1\\tgolden_retriever\\t0.608537\\tTrue\\tIrish_setter\\t0.097078\\tTrue\\tredbone\\t0.0760222\\tTrue\\n668981893510119424\\thttps://pbs.twimg.com/media/CUize-0WEAAerAK.jpg\\t1\\tjellyfish\\t0.447246\\tFalse\\tcoral_reef\\t0.238625\\tFalse\\tgoldfish\\t0.0402269\\tFalse\\n668986018524233728\\thttps://pbs.twimg.com/media/CUi3PIrWoAAPvPT.jpg\\t1\\tdoormat\\t0.976103\\tFalse\\tChihuahua\\t0.00563972\\tTrue\\tNorfolk_terrier\\t0.00391265\\tTrue\\n668988183816871936\\thttps://pbs.twimg.com/media/CUi5M7TXIAAY0gj.jpg\\t1\\tArabian_camel\\t0.9996139999999999\\tFalse\\tbison\\t0.00022809\\tFalse\\tllama\\t6.71787e-05\\tFalse\\n668989615043424256\\thttps://pbs.twimg.com/media/CUi6geuUYAIvE9n.jpg\\t1\\tpug\\t0.917326\\tTrue\\twaffle_iron\\t0.014917500000000002\\tFalse\\tChihuahua\\t0.0135244\\tTrue\\n668992363537309700\\thttps://pbs.twimg.com/media/CUi9ARGWUAEyWqo.jpg\\t1\\tlynx\\t0.287506\\tFalse\\ttabby\\t0.206048\\tFalse\\tkoala\\t0.0814193\\tFalse\\n668994913074286592\\thttps://pbs.twimg.com/media/CUi_UtnWIAEtfqz.jpg\\t1\\thog\\t0.11378900000000002\\tFalse\\tEnglish_springer\\t0.0897633\\tTrue\\tFrench_bulldog\\t0.08218639999999999\\tTrue\\n669000397445533696\\thttps://pbs.twimg.com/media/CUjETvDVAAI8LIy.jpg\\t1\\tPembroke\\t0.82294\\tTrue\\tCardigan\\t0.177035\\tTrue\\tbasenji\\t2.33526e-05\\tTrue\\n669006782128353280\\thttps://pbs.twimg.com/media/CUjKHs0WIAECWP3.jpg\\t1\\tChihuahua\\t0.12717799999999999\\tTrue\\tItalian_greyhound\\t0.05421469999999999\\tTrue\\tpillow\\t0.0485916\\tFalse\\n669015743032369152\\thttps://pbs.twimg.com/media/CUjSRNCXAAQ6Y_8.jpg\\t1\\tcomic_book\\t0.275927\\tFalse\\tbib\\t0.173516\\tFalse\\tjersey\\t0.073911\\tFalse\\n669037058363662336\\thttps://pbs.twimg.com/media/CUjlp51WcAA1vGA.jpg\\t1\\tChihuahua\\t0.803528\\tTrue\\tPomeranian\\t0.0538711\\tTrue\\tchow\\t0.0322574\\tTrue\\n669203728096960512\\thttps://pbs.twimg.com/media/CUl9PGBVEAUV3Wz.jpg\\t1\\tpug\\t0.910452\\tTrue\\tFrench_bulldog\\t0.055089599999999996\\tTrue\\tChihuahua\\t0.014896600000000001\\tTrue\\n669214165781868544\\thttps://pbs.twimg.com/media/CUmGu7-UcAA0r3O.jpg\\t1\\tminivan\\t0.435396\\tFalse\\tpolice_van\\t0.310143\\tFalse\\tminibus\\t0.068201\\tFalse\\n669216679721873412\\thttps://pbs.twimg.com/media/CUmJBS5WUAAKtrP.jpg\\t1\\tgolden_retriever\\t0.992758\\tTrue\\tIrish_setter\\t0.00337904\\tTrue\\tSaluki\\t0.00122963\\tTrue\\n669324657376567296\\thttps://pbs.twimg.com/media/CUnrN7vUcAAfGvN.jpg\\t1\\tseashore\\t0.201659\\tFalse\\tCardigan\\t0.131544\\tTrue\\tsandbar\\t0.10142999999999999\\tFalse\\n669327207240699904\\thttps://pbs.twimg.com/media/CUntin8WIAADmLk.jpg\\t1\\tgolden_retriever\\t0.9195840000000001\\tTrue\\tLabrador_retriever\\t0.0496695\\tTrue\\tkuvasz\\t0.0102161\\tTrue\\n669328503091937280\\thttps://pbs.twimg.com/media/CUnuuLEWEAAlKjN.jpg\\t1\\tSiberian_husky\\t0.424202\\tTrue\\tEskimo_dog\\t0.23765999999999998\\tTrue\\tmalamute\\t0.0525717\\tTrue\\n669351434509529089\\thttps://pbs.twimg.com/media/CUoDk8mWsAAMyBL.jpg\\t1\\tcuirass\\t0.756829\\tFalse\\tbreastplate\\t0.23351999999999998\\tFalse\\tbulletproof_vest\\t0.00381188\\tFalse\\n669353438988365824\\thttps://pbs.twimg.com/media/CUoFZTyW4AE70iD.jpg\\t1\\tteddy\\t0.379656\\tFalse\\tPembroke\\t0.21234299999999998\\tTrue\\tchow\\t0.09699529999999999\\tTrue\\n669354382627049472\\thttps://pbs.twimg.com/media/CUoGQjdXAAAkaz2.jpg\\t1\\tChihuahua\\t0.9739899999999999\\tTrue\\tFrench_bulldog\\t0.010832\\tTrue\\tPekinese\\t0.00209865\\tTrue\\n669359674819481600\\thttps://pbs.twimg.com/media/CUoLEG3XAAE65I0.jpg\\t1\\tLabrador_retriever\\t0.367818\\tTrue\\tGerman_short-haired_pointer\\t0.280642\\tTrue\\tChesapeake_Bay_retriever\\t0.184246\\tTrue\\n669363888236994561\\thttps://pbs.twimg.com/media/CUoO1TLWsAA0Z3w.jpg\\t1\\tgolden_retriever\\t0.539004\\tTrue\\tIrish_setter\\t0.40655\\tTrue\\tcocker_spaniel\\t0.0414844\\tTrue\\n669367896104181761\\thttps://pbs.twimg.com/media/CUoSjTnWwAANNak.jpg\\t1\\tbasset\\t0.749394\\tTrue\\tbeagle\\t0.133579\\tTrue\\tWelsh_springer_spaniel\\t0.030198400000000004\\tTrue\\n669371483794317312\\thttps://pbs.twimg.com/media/CUoVz8rU8AAfW-c.jpg\\t1\\tBrabancon_griffon\\t0.48326800000000003\\tTrue\\tminiature_pinscher\\t0.307465\\tTrue\\tredbone\\t0.07052380000000001\\tTrue\\n669375718304980992\\thttps://pbs.twimg.com/media/CUoZqaqWcAAA2MQ.jpg\\t1\\tAiredale\\t0.168762\\tTrue\\tNorfolk_terrier\\t0.10747899999999999\\tTrue\\tLakeland_terrier\\t0.0978459\\tTrue\\n669393256313184256\\thttps://pbs.twimg.com/media/CUopnHPVEAAcL2o.jpg\\t1\\tcocker_spaniel\\t0.35984299999999997\\tTrue\\tBlenheim_spaniel\\t0.139519\\tTrue\\ttoy_poodle\\t0.132746\\tTrue\\n669564461267722241\\thttps://pbs.twimg.com/media/CUrFUvDVAAA9H-F.jpg\\t1\\ttoy_poodle\\t0.623685\\tTrue\\tminiature_poodle\\t0.25992\\tTrue\\tstandard_poodle\\t0.0825297\\tTrue\\n669567591774625800\\thttps://pbs.twimg.com/media/CUrIK1DWoAAhECq.jpg\\t1\\tChihuahua\\t0.980511\\tTrue\\ttoy_terrier\\t0.00916644\\tTrue\\tminiature_pinscher\\t0.00265851\\tTrue\\n669571471778410496\\thttps://pbs.twimg.com/media/CUrLsI-UsAALfUL.jpg\\t1\\tminivan\\t0.8734879999999999\\tFalse\\tpickup\\t0.0412593\\tFalse\\tbeach_wagon\\t0.0154005\\tFalse\\n669573570759163904\\thttps://pbs.twimg.com/media/CUrNmtFWoAAnWCD.jpg\\t1\\tWest_Highland_white_terrier\\t0.9468280000000001\\tTrue\\tminiature_schnauzer\\t0.022343599999999998\\tTrue\\tcairn\\t0.00946166\\tTrue\\n669583744538451968\\thttps://pbs.twimg.com/media/CUrW3DWXIAAiRqk.jpg\\t1\\tcandle\\t0.174315\\tFalse\\tlampshade\\t0.120407\\tFalse\\tplunger\\t0.0720994\\tFalse\\n669597912108789760\\thttps://pbs.twimg.com/media/CUrjvxiVEAA94dH.jpg\\t1\\tEskimo_dog\\t0.595665\\tTrue\\tSiberian_husky\\t0.21447399999999997\\tTrue\\twhite_wolf\\t0.147235\\tFalse\\n669603084620980224\\thttps://pbs.twimg.com/media/CUroc7QW4AATIff.jpg\\t1\\tMaltese_dog\\t0.659619\\tTrue\\tTibetan_terrier\\t0.19353900000000002\\tTrue\\tShih-Tzu\\t0.0393271\\tTrue\\n669625907762618368\\thttps://pbs.twimg.com/media/CUr9NjgU8AEpf5w.jpg\\t1\\tseat_belt\\t0.874502\\tFalse\\tgolden_retriever\\t0.0554081\\tTrue\\tLabrador_retriever\\t0.0268543\\tTrue\\n669661792646373376\\thttps://pbs.twimg.com/media/CUsd2TfWwAAmdjb.jpg\\t1\\tweasel\\t0.262802\\tFalse\\tSiamese_cat\\t0.148263\\tFalse\\thamster\\t0.116374\\tFalse\\n669680153564442624\\thttps://pbs.twimg.com/media/CUsuijgXAAE4pdi.jpg\\t1\\tdalmatian\\t0.141257\\tTrue\\tborzoi\\t0.137744\\tTrue\\tLabrador_retriever\\t0.10379200000000001\\tTrue\\n669682095984410625\\thttps://pbs.twimg.com/media/CUswUBRUAAAahAo.jpg\\t1\\tChristmas_stocking\\t0.188397\\tFalse\\tstudio_couch\\t0.0868867\\tFalse\\tbookcase\\t0.08259860000000001\\tFalse\\n669683899023405056\\thttps://pbs.twimg.com/media/CUsx8q_WUAA-m4k.jpg\\t1\\tPomeranian\\t0.998275\\tTrue\\tChihuahua\\t0.000605476\\tTrue\\tPekinese\\t0.000515688\\tTrue\\n669749430875258880\\thttps://pbs.twimg.com/media/CUttjYtWcAAdPgI.jpg\\t1\\twashbasin\\t0.245794\\tFalse\\ttoilet_seat\\t0.10942\\tFalse\\tpaper_towel\\t0.10566400000000001\\tFalse\\n669753178989142016\\thttps://pbs.twimg.com/media/CUtw9SAVEAAtFUN.jpg\\t1\\tPembroke\\t0.8584940000000001\\tTrue\\thamster\\t0.0263188\\tFalse\\tShetland_sheepdog\\t0.022405200000000004\\tTrue\\n669923323644657664\\thttps://pbs.twimg.com/media/CUwLtPeU8AAfAb2.jpg\\t1\\tcar_mirror\\t0.343063\\tFalse\\tseat_belt\\t0.11028900000000001\\tFalse\\twing\\t0.0801485\\tFalse\\n669926384437997569\\thttps://pbs.twimg.com/media/CUwOfnDWcAIXryP.jpg\\t1\\tPomeranian\\t0.984231\\tTrue\\tkeeshond\\t0.0102311\\tTrue\\tpapillon\\t0.00221897\\tTrue\\n669942763794931712\\thttps://pbs.twimg.com/media/CUwdYL5UsAAP0XX.jpg\\t1\\tvizsla\\t0.743216\\tTrue\\tredbone\\t0.217282\\tTrue\\tRhodesian_ridgeback\\t0.028473500000000002\\tTrue\\n669970042633789440\\thttps://pbs.twimg.com/media/CUw2MV4XIAAHLO_.jpg\\t1\\tminiature_pinscher\\t0.734744\\tTrue\\tRottweiler\\t0.13106600000000002\\tTrue\\tDoberman\\t0.0815094\\tTrue\\n669972011175813120\\thttps://pbs.twimg.com/media/CUw3_QiUEAA8cT9.jpg\\t1\\tteddy\\t0.9530709999999999\\tFalse\\tkoala\\t0.00702672\\tFalse\\tfur_coat\\t0.00536817\\tFalse\\n669993076832759809\\thttps://pbs.twimg.com/media/CUxLJO8U8AAu6Zu.jpg\\t1\\tpiggy_bank\\t0.17632\\tFalse\\thair_spray\\t0.097487\\tFalse\\ttoy_poodle\\t0.08650160000000001\\tTrue\\n670003130994700288\\thttps://pbs.twimg.com/media/CUxUSuaW4AAdQzv.jpg\\t1\\tbeagle\\t0.375313\\tTrue\\tSaint_Bernard\\t0.17491099999999998\\tTrue\\tEnglish_foxhound\\t0.115888\\tTrue\\n670037189829525505\\thttps://pbs.twimg.com/media/CUxzQ-nWIAAgJUm.jpg\\t1\\tpot\\t0.273767\\tFalse\\ttray\\t0.0928884\\tFalse\\tdoormat\\t0.0507279\\tFalse\\n670040295598354432\\thttps://pbs.twimg.com/media/CUx2F6lVEAAvFev.jpg\\t1\\tweb_site\\t0.901552\\tFalse\\tborzoi\\t0.026659600000000002\\tTrue\\tChihuahua\\t0.0124376\\tTrue\\n670046952931721218\\thttps://pbs.twimg.com/media/CUx8JSEXIAU6zPp.jpg\\t1\\tBlenheim_spaniel\\t0.9983350000000001\\tTrue\\tbeagle\\t0.000647289\\tTrue\\tBrittany_spaniel\\t0.000391866\\tTrue\\n670055038660800512\\thttps://pbs.twimg.com/media/CUyDgChWUAAmNSI.jpg\\t1\\tsnail\\t0.563631\\tFalse\\tslug\\t0.296649\\tFalse\\tbolete\\t0.0318392\\tFalse\\n670061506722140161\\thttps://pbs.twimg.com/media/CUyJYk1WoAMPROb.jpg\\t1\\tItalian_greyhound\\t0.329339\\tTrue\\tAmerican_Staffordshire_terrier\\t0.305294\\tTrue\\twhippet\\t0.111686\\tTrue\\n670069087419133954\\thttps://pbs.twimg.com/media/CUyQRzHWoAAhF1D.jpg\\t1\\tboathouse\\t0.31382899999999997\\tFalse\\tbirdhouse\\t0.13833099999999998\\tFalse\\tashcan\\t0.0456732\\tFalse\\n670073503555706880\\thttps://pbs.twimg.com/media/CUyUSuWXIAAZKYF.jpg\\t1\\tmalamute\\t0.6018859999999999\\tTrue\\tSiberian_husky\\t0.340106\\tTrue\\tEskimo_dog\\t0.050041300000000004\\tTrue\\n670079681849372674\\thttps://pbs.twimg.com/media/CUyZ6mVW4AI8YWZ.jpg\\t1\\tmud_turtle\\t0.157477\\tFalse\\tterrapin\\t0.131846\\tFalse\\tbox_turtle\\t0.060678199999999995\\tFalse\\n670086499208155136\\thttps://pbs.twimg.com/media/CUygHhFXAAAwNXv.jpg\\t1\\tGerman_short-haired_pointer\\t0.273492\\tTrue\\tStaffordshire_bullterrier\\t0.132944\\tTrue\\tbluetick\\t0.12456199999999999\\tTrue\\n670093938074779648\\thttps://pbs.twimg.com/media/CUym4Y5WsAEiI9_.jpg\\t1\\ttoy_poodle\\t0.383346\\tTrue\\tminiature_poodle\\t0.153678\\tTrue\\tchow\\t0.138543\\tTrue\\n670290420111441920\\thttps://pbs.twimg.com/media/CU1Zgk7UcAAjw2t.jpg\\t1\\tChihuahua\\t0.36887600000000004\\tTrue\\tPomeranian\\t0.282102\\tTrue\\tpapillon\\t0.178795\\tTrue\\n670303360680108032\\thttps://pbs.twimg.com/media/CU1lWFaVAAAl0HG.jpg\\t1\\tShetland_sheepdog\\t0.380278\\tTrue\\tCardigan\\t0.342806\\tTrue\\tguinea_pig\\t0.156249\\tFalse\\n670319130621435904\\thttps://pbs.twimg.com/media/CU1zsMSUAAAS0qW.jpg\\t1\\tIrish_terrier\\t0.25485599999999997\\tTrue\\tbriard\\t0.22771599999999997\\tTrue\\tsoft-coated_wheaten_terrier\\t0.22326300000000002\\tTrue\\n670338931251150849\\thttps://pbs.twimg.com/media/CU2FsRnVAAA3TEg.jpg\\t1\\tcairn\\t0.245033\\tTrue\\tWest_Highland_white_terrier\\t0.137709\\tTrue\\tminiature_schnauzer\\t0.0891725\\tTrue\\n670361874861563904\\thttps://pbs.twimg.com/media/CU2akCQWsAIbaOV.jpg\\t1\\tplatypus\\t0.974075\\tFalse\\tspotted_salamander\\t0.0110676\\tFalse\\tbison\\t0.00389691\\tFalse\\n670374371102445568\\thttps://pbs.twimg.com/media/CU2l7yvXAAUyYIJ.jpg\\t1\\tEnglish_springer\\t0.974936\\tTrue\\tEnglish_setter\\t0.0116613\\tTrue\\tcocker_spaniel\\t0.00268899\\tTrue\\n670385711116361728\\thttps://pbs.twimg.com/media/CU2wPyWWUAAb1MJ.jpg\\t1\\twhippet\\t0.178027\\tTrue\\tChesapeake_Bay_retriever\\t0.10596900000000001\\tTrue\\tbeagle\\t0.0787197\\tTrue\\n670403879788544000\\thttps://pbs.twimg.com/media/CU3AxW1WoAA3_35.jpg\\t1\\tpug\\t0.8022229999999999\\tTrue\\tFrench_bulldog\\t0.172557\\tTrue\\tbull_mastiff\\t0.0071628\\tTrue\\n670408998013820928\\thttps://pbs.twimg.com/media/CU3FbQgVAAACdCQ.jpg\\t1\\tping-pong_ball\\t0.9999450000000001\\tFalse\\ttennis_ball\\t1.76343e-05\\tFalse\\tracket\\t1.47073e-05\\tFalse\\n670411370698022913\\thttps://pbs.twimg.com/media/CU3HlZtW4AAezbt.jpg\\t1\\tMaltese_dog\\t0.584397\\tTrue\\tminiature_schnauzer\\t0.0642008\\tTrue\\ttoy_poodle\\t0.060867700000000004\\tTrue\\n670417414769758208\\thttps://pbs.twimg.com/media/CU3NE8EWUAEVdPD.jpg\\t1\\tsea_urchin\\t0.49325699999999995\\tFalse\\tporcupine\\t0.46056499999999995\\tFalse\\tcardoon\\t0.00814587\\tFalse\\n670420569653809152\\thttps://pbs.twimg.com/media/CU3P82RWEAAIVrE.jpg\\t1\\tbow_tie\\t0.268759\\tFalse\\tcardigan\\t0.15395699999999998\\tFalse\\twig\\t0.0722949\\tFalse\\n670421925039075328\\thttps://pbs.twimg.com/media/CU3RLqfW4AE0pbA.jpg\\t1\\tChihuahua\\t0.275793\\tTrue\\tcorn\\t0.0735958\\tFalse\\tbolete\\t0.05490509999999999\\tFalse\\n670427002554466305\\thttps://pbs.twimg.com/media/CU3VzVwWwAAAsst.jpg\\t1\\tseat_belt\\t0.9522579999999999\\tFalse\\ttoy_terrier\\t0.0388716\\tTrue\\tbeagle\\t0.00322644\\tTrue\\n670428280563085312\\thttps://pbs.twimg.com/media/CU3W9ELWEAEdUA0.jpg\\t1\\tchow\\t0.335269\\tTrue\\tgolden_retriever\\t0.30585\\tTrue\\tTibetan_mastiff\\t0.0633253\\tTrue\\n670433248821026816\\thttps://pbs.twimg.com/media/CU3be0SWEAEqb7I.jpg\\t1\\twindow_shade\\t0.583427\\tFalse\\tgiant_schnauzer\\t0.0622148\\tTrue\\twindow_screen\\t0.039941000000000004\\tFalse\\n670434127938719744\\thttps://pbs.twimg.com/media/CU3cSG8W4AIAePH.jpg\\t1\\tjack-o'-lantern\\t0.91914\\tFalse\\tChesapeake_Bay_retriever\\t0.027351\\tTrue\\tLabrador_retriever\\t0.020080900000000002\\tTrue\\n670435821946826752\\thttps://pbs.twimg.com/media/CU3d0azWUAA38FD.jpg\\t1\\tsorrel\\t0.46037\\tFalse\\tbasenji\\t0.135767\\tTrue\\tCardigan\\t0.0991743\\tTrue\\n670442337873600512\\thttps://pbs.twimg.com/media/CU3jwAYWwAAhdAv.jpg\\t1\\tSussex_spaniel\\t0.403552\\tTrue\\totterhound\\t0.256302\\tTrue\\tIrish_terrier\\t0.187315\\tTrue\\n670444955656130560\\thttps://pbs.twimg.com/media/CU3mITUWIAAfyQS.jpg\\t1\\tEnglish_springer\\t0.403698\\tTrue\\tBrittany_spaniel\\t0.347609\\tTrue\\tWelsh_springer_spaniel\\t0.137186\\tTrue\\n670449342516494336\\thttps://pbs.twimg.com/media/CU3qHNTWsAApGr0.jpg\\t1\\tpeacock\\t0.9999239999999999\\tFalse\\tEuropean_gallinule\\t2.9873000000000004e-05\\tFalse\\tagama\\t2.15076e-05\\tFalse\\n670452855871037440\\thttps://pbs.twimg.com/media/CU3tUC4WEAAoZby.jpg\\t1\\tArctic_fox\\t0.188174\\tFalse\\tindri\\t0.12358399999999999\\tFalse\\tmalamute\\t0.08037949999999999\\tTrue\\n670465786746662913\\thttps://pbs.twimg.com/media/CU35E7VWEAAKYBy.jpg\\t1\\taxolotl\\t0.611558\\tFalse\\ttailed_frog\\t0.18648399999999998\\tFalse\\tcommon_newt\\t0.078694\\tFalse\\n670468609693655041\\thttps://pbs.twimg.com/media/CU37pEoWUAAitje.jpg\\t1\\tminivan\\t0.730152\\tFalse\\tbeach_wagon\\t0.07866139999999999\\tFalse\\tcar_wheel\\t0.06434580000000001\\tFalse\\n670474236058800128\\thttps://pbs.twimg.com/media/CU4AwqQWUAAEgE2.jpg\\t1\\twool\\t0.070076\\tFalse\\tsiamang\\t0.06253600000000001\\tFalse\\tgorilla\\t0.058893600000000004\\tFalse\\n670668383499735048\\thttps://pbs.twimg.com/media/CU6xVkbWsAAeHeU.jpg\\t1\\tbanana\\t0.10731700000000001\\tFalse\\torange\\t0.09966219999999999\\tFalse\\tbagel\\t0.0890326\\tFalse\\n670676092097810432\\thttps://pbs.twimg.com/media/CU64WOlWcAA37TV.jpg\\t1\\tDandie_Dinmont\\t0.6761020000000001\\tTrue\\tWest_Highland_white_terrier\\t0.0408256\\tTrue\\tclumber\\t0.0395333\\tTrue\\n670679630144274432\\thttps://pbs.twimg.com/media/CU67jGSUkAAk_1Y.jpg\\t1\\tIbizan_hound\\t0.34273400000000004\\tTrue\\tBrittany_spaniel\\t0.22906500000000002\\tTrue\\tChihuahua\\t0.104029\\tTrue\\n670691627984359425\\thttps://pbs.twimg.com/media/CU7GehOUYAA9nn-.jpg\\t1\\tShetland_sheepdog\\t0.07112439999999999\\tTrue\\thome_theater\\t0.06839780000000001\\tFalse\\tAmerican_Staffordshire_terrier\\t0.06696389999999999\\tTrue\\n670704688707301377\\thttps://pbs.twimg.com/media/CU7SW39WwAAL8Rw.jpg\\t1\\tNorwich_terrier\\t0.419838\\tTrue\\tcairn\\t0.351876\\tTrue\\tNorfolk_terrier\\t0.0510937\\tTrue\\n670717338665226240\\thttps://pbs.twimg.com/media/CU7d2vKUcAAFZyI.jpg\\t1\\tPomeranian\\t0.368161\\tTrue\\tPekinese\\t0.350973\\tTrue\\tgolden_retriever\\t0.114902\\tTrue\\n670727704916926465\\thttps://pbs.twimg.com/media/CU7nSZEW4AA6r5u.jpg\\t1\\twood_rabbit\\t0.368562\\tFalse\\ttabby\\t0.309675\\tFalse\\tEgyptian_cat\\t0.154914\\tFalse\\n670733412878163972\\thttps://pbs.twimg.com/media/CU7seitWwAArlVy.jpg\\t1\\tdhole\\t0.350416\\tFalse\\thare\\t0.236661\\tFalse\\twood_rabbit\\t0.0911328\\tFalse\\n670755717859713024\\thttps://pbs.twimg.com/media/CU8AwZ_UsAA-Lbu.jpg\\t1\\tkeeshond\\t0.994065\\tTrue\\tNorwegian_elkhound\\t0.00182748\\tTrue\\tcairn\\t0.00182131\\tTrue\\n670764103623966721\\thttps://pbs.twimg.com/media/CU8IY0pWIAA2AJ-.jpg\\t1\\tNorfolk_terrier\\t0.17285\\tTrue\\tgolden_retriever\\t0.0727022\\tTrue\\ttelevision\\t0.0374942\\tFalse\\n670778058496974848\\thttps://pbs.twimg.com/media/CU8VFhuVAAAQW8B.jpg\\t1\\tpug\\t0.776612\\tTrue\\tBrabancon_griffon\\t0.11203199999999999\\tTrue\\tboxer\\t0.0390514\\tTrue\\n670780561024270336\\thttps://pbs.twimg.com/media/CU8XW2dWwAA-Lmc.jpg\\t1\\tLabrador_retriever\\t0.244889\\tTrue\\tAmerican_black_bear\\t0.056993499999999996\\tFalse\\tbrown_bear\\t0.053992599999999995\\tFalse\\n670782429121134593\\thttps://pbs.twimg.com/media/CU8ZDu9WwAADg3N.jpg\\t1\\tChihuahua\\t0.9529629999999999\\tTrue\\tFrench_bulldog\\t0.036574699999999995\\tTrue\\tBoston_bull\\t0.0019774000000000003\\tTrue\\n670783437142401025\\thttps://pbs.twimg.com/media/CU8Z-OxXAAA-sd2.jpg\\t1\\tlacewing\\t0.38195500000000004\\tFalse\\tsulphur_butterfly\\t0.10680999999999999\\tFalse\\tleafhopper\\t0.06834689999999999\\tFalse\\n670786190031921152\\thttps://pbs.twimg.com/media/CU8ceuxWUAALMEo.jpg\\t1\\tdingo\\t0.7771239999999999\\tFalse\\tPembroke\\t0.12743800000000002\\tTrue\\tCardigan\\t0.024006599999999996\\tTrue\\n670789397210615808\\thttps://pbs.twimg.com/media/CU8fZSQWoAEVp6O.jpg\\t1\\tbeagle\\t0.295966\\tTrue\\tbasset\\t0.143527\\tTrue\\tbluetick\\t0.138992\\tTrue\\n670792680469889025\\thttps://pbs.twimg.com/media/CU8iYi2WsAEaqQ0.jpg\\t1\\tbrown_bear\\t0.882426\\tFalse\\ttoy_poodle\\t0.031355\\tTrue\\tminiature_poodle\\t0.025743400000000003\\tTrue\\n670797304698376195\\thttps://pbs.twimg.com/media/CU8mlhoVAAAteS5.jpg\\t1\\tPembroke\\t0.47219700000000003\\tTrue\\tbeagle\\t0.090938\\tTrue\\tGerman_shepherd\\t0.06436599999999999\\tTrue\\n670803562457407488\\thttps://pbs.twimg.com/media/CU8sSAvXIAAB1Py.jpg\\t1\\tbasenji\\t0.34410100000000005\\tTrue\\tIbizan_hound\\t0.21028200000000002\\tTrue\\ttoy_terrier\\t0.196279\\tTrue\\n670804601705242624\\thttps://pbs.twimg.com/media/CU8tOJZWUAAlNoF.jpg\\t1\\tPomeranian\\t0.86856\\tTrue\\tPekinese\\t0.09012919999999999\\tTrue\\tchow\\t0.021722099999999998\\tTrue\\n670807719151067136\\thttps://pbs.twimg.com/media/CU8v-rdXIAId12Z.jpg\\t1\\tOld_English_sheepdog\\t0.9580350000000001\\tTrue\\tSealyham_terrier\\t0.0138922\\tTrue\\tBorder_collie\\t0.00460114\\tTrue\\n670811965569282048\\thttps://pbs.twimg.com/media/CU8z65IUEAQBc4q.jpg\\t1\\tbasset\\t0.9940899999999999\\tTrue\\tWalker_hound\\t0.00397268\\tTrue\\tbeagle\\t0.00140619\\tTrue\\n670815497391357952\\thttps://pbs.twimg.com/media/CU83IZ8W4AEIh4y.jpg\\t1\\tAmerican_Staffordshire_terrier\\t0.9197139999999999\\tTrue\\tStaffordshire_bullterrier\\t0.0734302\\tTrue\\tbull_mastiff\\t0.000905679\\tTrue\\n670822709593571328\\thttps://pbs.twimg.com/media/CU89schWIAIHQmA.jpg\\t1\\tweb_site\\t0.9938870000000001\\tFalse\\tChihuahua\\t0.00125152\\tTrue\\tmenu\\t0.000598751\\tFalse\\n670823764196741120\\thttps://pbs.twimg.com/media/CU8-puBWwAAR8Xl.jpg\\t1\\tLabrador_retriever\\t0.9474530000000001\\tTrue\\tGerman_short-haired_pointer\\t0.017000599999999998\\tTrue\\tWeimaraner\\t0.015432099999999999\\tTrue\\n670826280409919488\\thttps://pbs.twimg.com/media/CU9A8ZuWsAAt_S1.jpg\\t1\\tscorpion\\t0.927956\\tFalse\\ttarantula\\t0.021631\\tFalse\\twolf_spider\\t0.0148375\\tFalse\\n670832455012716544\\thttps://pbs.twimg.com/media/CU9GjzrUkAAWPh4.jpg\\t1\\tmalinois\\t0.31760700000000003\\tTrue\\tNorwegian_elkhound\\t0.274901\\tTrue\\tbathing_cap\\t0.11464300000000001\\tFalse\\n670833812859932673\\thttps://pbs.twimg.com/media/CU9HyzSWIAAVcte.jpg\\t1\\tPekinese\\t0.609853\\tTrue\\tPersian_cat\\t0.265442\\tFalse\\tJapanese_spaniel\\t0.027460400000000003\\tTrue\\n670838202509447168\\thttps://pbs.twimg.com/media/CU9LyIMWIAA6OOu.jpg\\t1\\tflamingo\\t0.99271\\tFalse\\tcoral_fungus\\t0.00349081\\tFalse\\tstinkhorn\\t0.00185895\\tFalse\\n670840546554966016\\thttps://pbs.twimg.com/media/CU9N6upXAAAbtQe.jpg\\t1\\tShih-Tzu\\t0.963622\\tTrue\\tLhasa\\t0.016016700000000002\\tTrue\\tguinea_pig\\t0.00793192\\tFalse\\n670842764863651840\\thttps://pbs.twimg.com/media/CU9P717W4AAOlKx.jpg\\t1\\tmicrophone\\t0.0960627\\tFalse\\taccordion\\t0.0940747\\tFalse\\tdrumstick\\t0.0611128\\tFalse\\n670995969505435648\\thttps://pbs.twimg.com/media/CU_bRIEWcAAUVC7.jpg\\t1\\tredbone\\t0.8662209999999999\\tTrue\\tbeagle\\t0.061194000000000005\\tTrue\\tRhodesian_ridgeback\\t0.0242845\\tTrue\\n671109016219725825\\thttps://pbs.twimg.com/media/CVBCFkyU4AE2Wcr.jpg\\t1\\tbasenji\\t0.855959\\tTrue\\tbeagle\\t0.0367231\\tTrue\\ttoy_terrier\\t0.029257799999999997\\tTrue\\n671115716440031232\\thttps://pbs.twimg.com/media/CVBILUgVAAA1ZUr.jpg\\t1\\tmalinois\\t0.406341\\tTrue\\tkelpie\\t0.14336600000000002\\tTrue\\tdingo\\t0.129802\\tFalse\\n671122204919246848\\thttps://pbs.twimg.com/media/CVBOFTLWwAAzlNi.jpg\\t1\\tgoose\\t0.351957\\tFalse\\tChihuahua\\t0.101228\\tTrue\\then\\t0.0658176\\tFalse\\n671134062904504320\\thttps://pbs.twimg.com/media/CVBY3e7XIAAAE4Y.jpg\\t1\\tShih-Tzu\\t0.18037999999999998\\tTrue\\tgolden_retriever\\t0.180194\\tTrue\\tLabrador_retriever\\t0.173656\\tTrue\\n671138694582165504\\thttps://pbs.twimg.com/media/CVBdFahXAAAIe5Y.jpg\\t1\\tSamoyed\\t0.587342\\tTrue\\tGreat_Pyrenees\\t0.268952\\tTrue\\tPekinese\\t0.0905275\\tTrue\\n671141549288370177\\thttps://pbs.twimg.com/media/CVBfrU9WUAApDeV.jpg\\t1\\tguinea_pig\\t0.387728\\tFalse\\twood_rabbit\\t0.171681\\tFalse\\tborzoi\\t0.0753577\\tTrue\\n671147085991960577\\thttps://pbs.twimg.com/media/CVBktzQXAAAPpUA.jpg\\t1\\tYorkshire_terrier\\t0.46720200000000006\\tTrue\\tcairn\\t0.440122\\tTrue\\tsilky_terrier\\t0.058690099999999995\\tTrue\\n671151324042559489\\thttps://pbs.twimg.com/media/CVBokRSWsAADuXx.jpg\\t1\\tRottweiler\\t0.781201\\tTrue\\tblack-and-tan_coonhound\\t0.061206500000000004\\tTrue\\tkelpie\\t0.048855699999999995\\tTrue\\n671154572044468225\\thttps://pbs.twimg.com/media/CVBrhXoWIAAox_C.jpg\\t1\\tLabrador_retriever\\t0.495047\\tTrue\\tChesapeake_Bay_retriever\\t0.350188\\tTrue\\tgolden_retriever\\t0.1424\\tTrue\\n671159727754231808\\thttps://pbs.twimg.com/media/CVBwNjVWwAAlUFQ.jpg\\t1\\tpitcher\\t0.11744600000000001\\tFalse\\tsunglasses\\t0.0624865\\tFalse\\tmask\\t0.05951669999999999\\tFalse\\n671163268581498880\\thttps://pbs.twimg.com/media/CVBzbWsWsAEyNMA.jpg\\t1\\tAfrican_hunting_dog\\t0.733025\\tFalse\\tplow\\t0.119377\\tFalse\\tScottish_deerhound\\t0.0269829\\tTrue\\n671166507850801152\\thttps://pbs.twimg.com/media/CVB2TnWUYAA2pAU.jpg\\t1\\trefrigerator\\t0.829772\\tFalse\\ttoilet_seat\\t0.030083299999999997\\tFalse\\tshower_curtain\\t0.015460699999999999\\tFalse\\n671182547775299584\\thttps://pbs.twimg.com/media/CVCE9uYXIAEtSzR.jpg\\t1\\tRottweiler\\t0.331179\\tTrue\\tkelpie\\t0.21860100000000002\\tTrue\\tAppenzeller\\t0.18252000000000002\\tTrue\\n671186162933985280\\thttps://pbs.twimg.com/media/CVCIQX7UkAEzqh_.jpg\\t1\\tChihuahua\\t0.319106\\tTrue\\twhippet\\t0.16913399999999998\\tTrue\\ttoy_terrier\\t0.125815\\tTrue\\n671347597085433856\\thttps://pbs.twimg.com/media/CVEbFDRWsAAkN_7.jpg\\t1\\tpicket_fence\\t0.382918\\tFalse\\train_barrel\\t0.10880899999999999\\tFalse\\tplastic_bag\\t0.0388782\\tFalse\\n671355857343524864\\thttps://pbs.twimg.com/media/CVEilyCUwAETbJ-.jpg\\t1\\tminiature_poodle\\t0.313811\\tTrue\\ttoy_poodle\\t0.16558499999999998\\tTrue\\tIrish_terrier\\t0.0560941\\tTrue\\n671357843010908160\\thttps://pbs.twimg.com/media/CVEkZaPXIAEw5vr.jpg\\t1\\tItalian_greyhound\\t0.831757\\tTrue\\ttoy_terrier\\t0.043305800000000005\\tTrue\\tChihuahua\\t0.036773\\tTrue\\n671362598324076544\\thttps://pbs.twimg.com/media/CVEouDRXAAEe8mt.jpg\\t1\\ttub\\t0.39361599999999997\\tFalse\\tbathtub\\t0.383522\\tFalse\\tswimming_trunks\\t0.0773008\\tFalse\\n671390180817915904\\thttps://pbs.twimg.com/media/CVFBzpXVEAAHIOv.jpg\\t1\\tzebra\\t0.9976729999999999\\tFalse\\ttiger\\t0.0008372680000000001\\tFalse\\tprairie_chicken\\t0.000574567\\tFalse\\n671485057807351808\\thttps://pbs.twimg.com/media/CVGYGNYXAAAQ9m-.jpg\\t1\\tSamoyed\\t0.627901\\tTrue\\tGreat_Pyrenees\\t0.27642100000000003\\tTrue\\tkuvasz\\t0.0578735\\tTrue\\n671486386088865792\\thttps://pbs.twimg.com/media/CVGZTboUsAATohd.jpg\\t1\\tGerman_shepherd\\t0.8270350000000001\\tTrue\\tkelpie\\t0.0876477\\tTrue\\tred_wolf\\t0.031217900000000003\\tFalse\\n671488513339211776\\thttps://pbs.twimg.com/media/CVGbPgrWIAAQ1fB.jpg\\t1\\thermit_crab\\t0.5287609999999999\\tFalse\\tsnail\\t0.185644\\tFalse\\tshower_curtain\\t0.0663605\\tFalse\\n671497587707535361\\thttps://pbs.twimg.com/media/CVGjflNWoAEwgrQ.jpg\\t1\\tswing\\t0.0891647\\tFalse\\tpaddle\\t0.0807469\\tFalse\\tbathing_cap\\t0.065694\\tFalse\\n671504605491109889\\thttps://pbs.twimg.com/media/CVGp4LKWoAAoD03.jpg\\t1\\ttoy_poodle\\t0.259115\\tTrue\\tbath_towel\\t0.177669\\tFalse\\tMaltese_dog\\t0.0717125\\tTrue\\n671511350426865664\\thttps://pbs.twimg.com/media/CVGwAh-W4AAIHJz.jpg\\t1\\thermit_crab\\t0.625409\\tFalse\\ttick\\t0.127333\\tFalse\\tsnail\\t0.0979159\\tFalse\\n671518598289059840\\thttps://pbs.twimg.com/media/CVG2l9jUYAAwg-w.jpg\\t1\\tLakeland_terrier\\t0.428275\\tTrue\\twire-haired_fox_terrier\\t0.111472\\tTrue\\ttoy_poodle\\t0.10501600000000001\\tTrue\\n671520732782923777\\thttps://pbs.twimg.com/media/CVG4i9UWEAAUH3U.jpg\\t1\\tPomeranian\\t0.551031\\tTrue\\tPekinese\\t0.135262\\tTrue\\tgibbon\\t0.061557400000000005\\tFalse\\n671528761649688577\\thttps://pbs.twimg.com/media/CVG_2I-WIAASKSS.jpg\\t1\\tDoberman\\t0.782626\\tTrue\\tblack-and-tan_coonhound\\t0.109678\\tTrue\\tGordon_setter\\t0.052110199999999995\\tTrue\\n671533943490011136\\thttps://pbs.twimg.com/media/CVHEju0XAAEUZRY.jpg\\t1\\then\\t0.556524\\tFalse\\tcock\\t0.442033\\tFalse\\tblack_swan\\t0.00118075\\tFalse\\n671536543010570240\\thttps://pbs.twimg.com/media/CVHG6_AWwAEJf_u.jpg\\t1\\tpug\\t0.537652\\tTrue\\tbull_mastiff\\t0.220617\\tTrue\\tFrench_bulldog\\t0.06829650000000001\\tTrue\\n671538301157904385\\thttps://pbs.twimg.com/media/CVHIhi2WsAEgdKk.jpg\\t1\\tpark_bench\\t0.194211\\tFalse\\twater_bottle\\t0.0718696\\tFalse\\tbeacon\\t0.053433100000000004\\tFalse\\n671542985629241344\\thttps://pbs.twimg.com/media/CVHMyHMWwAALYXs.jpg\\t1\\tShetland_sheepdog\\t0.980339\\tTrue\\tcollie\\t0.006693000000000001\\tTrue\\tpapillon\\t0.00615701\\tTrue\\n671544874165002241\\thttps://pbs.twimg.com/media/CVHOgDvU4AAfrXD.jpg\\t1\\tfeather_boa\\t0.240858\\tFalse\\twig\\t0.0859462\\tFalse\\twool\\t0.0406735\\tFalse\\n671547767500775424\\thttps://pbs.twimg.com/media/CVHRIiqWEAAj98K.jpg\\t2\\tLoafer\\t0.25508800000000004\\tFalse\\tplatypus\\t0.0900191\\tFalse\\tcowboy_boot\\t0.066536\\tFalse\\n671561002136281088\\thttps://pbs.twimg.com/media/CVHdK-7WwAAsuyc.jpg\\t1\\tGordon_setter\\t0.46937299999999993\\tTrue\\tblack-and-tan_coonhound\\t0.270893\\tTrue\\tRottweiler\\t0.15323299999999998\\tTrue\\n671729906628341761\\thttps://pbs.twimg.com/media/CVJ2yR2UwAAdCzU.jpg\\t1\\tkuvasz\\t0.43146899999999994\\tTrue\\tSamoyed\\t0.117122\\tTrue\\twhite_wolf\\t0.09006660000000001\\tFalse\\n671735591348891648\\thttps://pbs.twimg.com/media/CVJ79MzW4AEpTom.jpg\\t2\\tstone_wall\\t0.271121\\tFalse\\tIrish_wolfhound\\t0.06307819999999999\\tTrue\\tponcho\\t0.0482259\\tFalse\\n671743150407421952\\thttps://pbs.twimg.com/media/CVKC1IfWIAAsQks.jpg\\t1\\ttoy_poodle\\t0.41942700000000005\\tTrue\\tminiature_poodle\\t0.237067\\tTrue\\tswing\\t0.10419300000000001\\tFalse\\n671744970634719232\\thttps://pbs.twimg.com/media/CVKEfMKWoAAR-Ud.jpg\\t1\\tice_bear\\t0.251193\\tFalse\\tram\\t0.21383899999999997\\tFalse\\tArctic_fox\\t0.0815514\\tFalse\\n671763349865160704\\thttps://pbs.twimg.com/media/CVKVM3NW4AAdi1e.jpg\\t1\\tprayer_rug\\t0.445334\\tFalse\\tdoormat\\t0.27531100000000003\\tFalse\\tbib\\t0.048813199999999994\\tFalse\\n671768281401958400\\thttps://pbs.twimg.com/media/CVKZsHtWwAA6gPj.jpg\\t2\\tChihuahua\\t0.500373\\tTrue\\tFrench_bulldog\\t0.11279600000000001\\tTrue\\tItalian_greyhound\\t0.0628927\\tTrue\\n671789708968640512\\thttps://pbs.twimg.com/tweet_video_thumb/CVKtH-4WIAAmiQ5.png\\t1\\tdalmatian\\t0.11425899999999999\\tTrue\\tteddy\\t0.062275199999999996\\tFalse\\tsteam_locomotive\\t0.04970019999999999\\tFalse\\n671855973984772097\\thttps://pbs.twimg.com/media/CVLpciDW4AAleh-.jpg\\t1\\tchimpanzee\\t0.636031\\tFalse\\tgorilla\\t0.09875149999999999\\tFalse\\tfountain\\t0.0317555\\tFalse\\n671866342182637568\\thttps://pbs.twimg.com/media/CVLy3zFWoAA93qJ.jpg\\t1\\tLabrador_retriever\\t0.8756139999999999\\tTrue\\tChihuahua\\t0.0321822\\tTrue\\tgolden_retriever\\t0.017232499999999998\\tTrue\\n671874878652489728\\thttps://pbs.twimg.com/media/CVL6op1WEAAUFE7.jpg\\t1\\tchina_cabinet\\t0.996031\\tFalse\\tentertainment_center\\t0.00198589\\tFalse\\tbookcase\\t0.00165181\\tFalse\\n671879137494245376\\thttps://pbs.twimg.com/media/CVL-goTWoAEUfhy.jpg\\t1\\tbee_eater\\t0.30264800000000003\\tFalse\\ttoucan\\t0.219646\\tFalse\\tchickadee\\t0.156687\\tFalse\\n671882082306625538\\thttps://pbs.twimg.com/media/CVMBL_LWUAAsvrL.jpg\\t1\\tski_mask\\t0.968325\\tFalse\\tmask\\t0.021862700000000002\\tFalse\\tabaya\\t0.00547945\\tFalse\\n671891728106971137\\thttps://pbs.twimg.com/media/CVMJ9guXAAAhAiK.jpg\\t1\\tLabrador_retriever\\t0.567933\\tTrue\\tgolden_retriever\\t0.349401\\tTrue\\tseat_belt\\t0.0693962\\tFalse\\n671896809300709376\\thttps://pbs.twimg.com/media/CVMOlMiWwAA4Yxl.jpg\\t1\\tchow\\t0.243529\\tTrue\\thamster\\t0.22715\\tFalse\\tPomeranian\\t0.0560567\\tTrue\\n672068090318987265\\thttps://pbs.twimg.com/media/CVOqW8eUkAESTHj.jpg\\t1\\tpug\\t0.8633850000000001\\tTrue\\tshopping_cart\\t0.125746\\tFalse\\tBorder_terrier\\t0.00297246\\tTrue\\n672082170312290304\\thttps://pbs.twimg.com/media/CVO3KodXAAAj1de.jpg\\t1\\thamster\\t0.13244\\tFalse\\ttoy_poodle\\t0.12396199999999999\\tTrue\\tbubble\\t0.0562124\\tFalse\\n672095186491711488\\thttps://pbs.twimg.com/media/CVPDAR9XIAAm8QB.jpg\\t1\\tpug\\t0.794087\\tTrue\\tFrench_bulldog\\t0.140796\\tTrue\\tbull_mastiff\\t0.044681099999999994\\tTrue\\n672125275208069120\\thttps://pbs.twimg.com/media/CVPeX2dWwAEwyaR.jpg\\t1\\ttennis_ball\\t0.999834\\tFalse\\tgolden_retriever\\t8.67567e-05\\tTrue\\tracket\\t5.3321899999999995e-05\\tFalse\\n672139350159835138\\thttps://pbs.twimg.com/media/CVPrLE2WwAELCxD.jpg\\t1\\tRottweiler\\t0.29099200000000003\\tTrue\\tAmerican_black_bear\\t0.23811999999999997\\tFalse\\tchimpanzee\\t0.115541\\tFalse\\n672160042234327040\\thttps://pbs.twimg.com/media/CVP9_beUEAAwURR.jpg\\t1\\tpug\\t0.561027\\tTrue\\tFrench_bulldog\\t0.22211399999999998\\tTrue\\tLabrador_retriever\\t0.0654556\\tTrue\\n672169685991993344\\thttps://pbs.twimg.com/media/CVQGv-vUwAEUjCj.jpg\\t1\\tcocker_spaniel\\t0.9910110000000001\\tTrue\\tSussex_spaniel\\t0.00403213\\tTrue\\tminiature_poodle\\t0.00127564\\tTrue\\n672205392827572224\\thttps://pbs.twimg.com/media/CVQnPMrVAAAzShR.jpg\\t1\\tcarton\\t0.9526129999999999\\tFalse\\tcrate\\t0.0353762\\tFalse\\tpug\\t0.00326691\\tTrue\\n672222792075620352\\thttps://pbs.twimg.com/media/CVQ3EDdWIAINyhM.jpg\\t1\\tbeagle\\t0.9581780000000001\\tTrue\\tbasset\\t0.00911731\\tTrue\\tItalian_greyhound\\t0.00773105\\tTrue\\n672231046314901505\\thttps://pbs.twimg.com/media/CVQ-kfWWoAAXV15.jpg\\t1\\tkiller_whale\\t0.8239190000000001\\tFalse\\tgrey_whale\\t0.0366006\\tFalse\\thammerhead\\t0.0295219\\tFalse\\n672239279297454080\\thttps://pbs.twimg.com/media/CVRGDrsWsAAUWSF.jpg\\t1\\tpug\\t0.332536\\tTrue\\tFrench_bulldog\\t0.25812399999999996\\tTrue\\tbull_mastiff\\t0.12087300000000001\\tTrue\\n672245253877968896\\thttps://pbs.twimg.com/media/CVRLfeoW4AA_ldZ.jpg\\t1\\tChihuahua\\t0.7189439999999999\\tTrue\\tbadger\\t0.178546\\tFalse\\ttoy_terrier\\t0.0371031\\tTrue\\n672248013293752320\\thttps://pbs.twimg.com/media/CVROAIfWsAECA5t.jpg\\t1\\tIrish_terrier\\t0.41317299999999996\\tTrue\\tAiredale\\t0.33561599999999997\\tTrue\\ttoy_poodle\\t0.027952299999999996\\tTrue\\n672254177670729728\\thttps://pbs.twimg.com/media/CVRTmz1WcAA4uMF.jpg\\t1\\tpug\\t0.9794870000000001\\tTrue\\tFrench_bulldog\\t0.0168504\\tTrue\\tNorwegian_elkhound\\t0.00161754\\tTrue\\n672256522047614977\\thttps://pbs.twimg.com/media/CVRVvRMWEAIBKOP.jpg\\t1\\tostrich\\t0.9990040000000001\\tFalse\\tArabian_camel\\t0.000512029\\tFalse\\tllama\\t0.000146942\\tFalse\\n672264251789176834\\thttps://pbs.twimg.com/media/CVRcxJ-WsAAXOhO.jpg\\t1\\tChihuahua\\t0.6098600000000001\\tTrue\\tteddy\\t0.0681337\\tFalse\\tNorwich_terrier\\t0.059227300000000004\\tTrue\\n672267570918129665\\thttps://pbs.twimg.com/media/CVRfyZxWUAAFIQR.jpg\\t1\\tIrish_terrier\\t0.716932\\tTrue\\tminiature_pinscher\\t0.0512335\\tTrue\\tAiredale\\t0.0443809\\tTrue\\n672272411274932228\\thttps://pbs.twimg.com/media/CVRkLuJWUAAhhYp.jpg\\t2\\tpug\\t0.9146850000000001\\tTrue\\tNorwegian_elkhound\\t0.0149819\\tTrue\\tSiamese_cat\\t0.00922055\\tFalse\\n672466075045466113\\thttps://pbs.twimg.com/media/CVUUU_EWoAAxABV.jpg\\t1\\tcocker_spaniel\\t0.150424\\tTrue\\ttoy_poodle\\t0.0886053\\tTrue\\tWelsh_springer_spaniel\\t0.0720143\\tTrue\\n672475084225949696\\thttps://pbs.twimg.com/media/CVUchRHXAAE4rtp.jpg\\t1\\tterrapin\\t0.879286\\tFalse\\tcockroach\\t0.0452524\\tFalse\\tbox_turtle\\t0.0164038\\tFalse\\n672481316919734272\\thttps://pbs.twimg.com/media/CVUiMUeW4AEQgkU.jpg\\t1\\tBorder_collie\\t0.599454\\tTrue\\tcollie\\t0.106227\\tTrue\\tShetland_sheepdog\\t0.09446489999999999\\tTrue\\n672482722825261057\\thttps://pbs.twimg.com/media/CVUjd14W4AE8tvO.jpg\\t1\\tWest_Highland_white_terrier\\t0.5861729999999999\\tTrue\\tborzoi\\t0.20661999999999997\\tTrue\\tGreat_Pyrenees\\t0.06065269999999999\\tTrue\\n672488522314567680\\thttps://pbs.twimg.com/media/CVUovvHWwAAD-nu.jpg\\t1\\tDoberman\\t0.605358\\tTrue\\tRottweiler\\t0.10838199999999999\\tTrue\\tAppenzeller\\t0.0777977\\tTrue\\n672523490734551040\\thttps://pbs.twimg.com/media/CVVIjGbWwAAxkN0.jpg\\t1\\tgolden_retriever\\t0.5659810000000001\\tTrue\\tchow\\t0.0812117\\tTrue\\tIrish_terrier\\t0.061596000000000005\\tTrue\\n672538107540070400\\thttps://pbs.twimg.com/media/CVVV1wJWoAEcOyk.jpg\\t1\\tSiamese_cat\\t0.383937\\tFalse\\tChihuahua\\t0.160274\\tTrue\\tgiant_panda\\t0.14774500000000002\\tFalse\\n672591271085670400\\thttps://pbs.twimg.com/media/CVWGMQMWUAA7aOM.jpg\\t1\\tgondola\\t0.13429000000000002\\tFalse\\tlifeboat\\t0.108356\\tFalse\\tbassinet\\t0.0936789\\tFalse\\n672591762242805761\\thttps://pbs.twimg.com/media/CVWGotpXAAMRfGq.jpg\\t1\\tkuvasz\\t0.777659\\tTrue\\tGreat_Pyrenees\\t0.112517\\tTrue\\tgolden_retriever\\t0.0383509\\tTrue\\n672594978741354496\\thttps://pbs.twimg.com/media/CVWJkJXWsAInlZl.jpg\\t1\\tGreat_Pyrenees\\t0.755945\\tTrue\\tOld_English_sheepdog\\t0.0823368\\tTrue\\tAfghan_hound\\t0.027036599999999997\\tTrue\\n672604026190569472\\thttps://pbs.twimg.com/media/CVWRyylWIAAMltv.jpg\\t1\\ttoy_poodle\\t0.8201579999999999\\tTrue\\tminiature_poodle\\t0.178404\\tTrue\\ttoilet_tissue\\t0.00029115799999999997\\tFalse\\n672609152938721280\\thttps://pbs.twimg.com/media/CVWWdKLWEAEnSk7.jpg\\t1\\tmicrowave\\t0.9819459999999999\\tFalse\\trotisserie\\t0.00747245\\tFalse\\ttelevision\\t0.00588062\\tFalse\\n672614745925664768\\thttps://pbs.twimg.com/media/CVWbitUW4AAzclx.jpg\\t1\\tstarfish\\t0.712717\\tFalse\\tgoldfish\\t0.258865\\tFalse\\tsea_cucumber\\t0.00201543\\tFalse\\n672622327801233409\\thttps://pbs.twimg.com/media/CVWicBbUYAIomjC.jpg\\t1\\tgolden_retriever\\t0.952773\\tTrue\\tLabrador_retriever\\t0.010835\\tTrue\\tclumber\\t0.00878601\\tTrue\\n672640509974827008\\thttps://pbs.twimg.com/media/CVWy9v-VAAALSoE.jpg\\t1\\tChesapeake_Bay_retriever\\t0.420155\\tTrue\\tCardigan\\t0.26603000000000004\\tTrue\\tLabrador_retriever\\t0.0425145\\tTrue\\n672828477930868736\\thttps://pbs.twimg.com/media/CVZd7ttWcAEs2wP.jpg\\t1\\tsandbar\\t0.118154\\tFalse\\tstingray\\t0.075915\\tFalse\\tseashore\\t0.0751248\\tFalse\\n672834301050937345\\thttps://pbs.twimg.com/media/CVZjOktVAAAtigw.jpg\\t1\\tPembroke\\t0.5825600000000001\\tTrue\\tCardigan\\t0.258869\\tTrue\\tnipple\\t0.0338345\\tFalse\\n672877615439593473\\thttps://pbs.twimg.com/media/CVaKn75XAAEU09u.jpg\\t1\\tChihuahua\\t0.412362\\tTrue\\tbeagle\\t0.0680661\\tTrue\\tborzoi\\t0.0450712\\tTrue\\n672884426393653248\\thttps://pbs.twimg.com/media/CVaQ0M4UsAAki3t.jpg\\t1\\ttusker\\t0.12240999999999999\\tFalse\\twarthog\\t0.11987\\tFalse\\twater_buffalo\\t0.10585599999999999\\tFalse\\n672898206762672129\\thttps://pbs.twimg.com/media/CVadWcCXIAAL4Sh.jpg\\t1\\tmotor_scooter\\t0.8358190000000001\\tFalse\\tbobsled\\t0.03585630000000001\\tFalse\\tmoped\\t0.033079000000000004\\tFalse\\n672902681409806336\\thttps://pbs.twimg.com/media/CVahaz9XAAA8uTy.jpg\\t1\\tram\\t0.37446599999999997\\tFalse\\tbighorn\\t0.159621\\tFalse\\tArabian_camel\\t0.111919\\tFalse\\n672964561327235073\\thttps://pbs.twimg.com/media/CVbZsouWUAIsxMc.jpg\\t1\\tChihuahua\\t0.29234299999999996\\tTrue\\tpug\\t0.17336400000000002\\tTrue\\tFrench_bulldog\\t0.045507099999999995\\tTrue\\n672968025906282496\\thttps://pbs.twimg.com/media/CVbc2V2WsAE3-kn.jpg\\t1\\ttoy_poodle\\t0.678046\\tTrue\\tminiature_poodle\\t0.160273\\tTrue\\tAiredale\\t0.06564869999999999\\tTrue\\n672970152493887488\\thttps://pbs.twimg.com/media/CVbeyGUU8AEq300.jpg\\t1\\tleaf_beetle\\t0.340154\\tFalse\\trhinoceros_beetle\\t0.139698\\tFalse\\tcrayfish\\t0.058033600000000005\\tFalse\\n672975131468300288\\thttps://pbs.twimg.com/media/CVbjRSIWsAElw2s.jpg\\t1\\tpug\\t0.8364209999999999\\tTrue\\tBrabancon_griffon\\t0.04466780000000001\\tTrue\\tFrench_bulldog\\t0.0365705\\tTrue\\n672980819271634944\\thttps://pbs.twimg.com/media/CVbodBOUsAAb7jZ.jpg\\t1\\tcar_mirror\\t0.232754\\tFalse\\tbasset\\t0.21946100000000002\\tTrue\\tbeagle\\t0.112397\\tTrue\\n672984142909456390\\thttps://pbs.twimg.com/media/CVbrcZyVAAA5Wpq.jpg\\t1\\twombat\\t0.73878\\tFalse\\tbeaver\\t0.13336800000000001\\tFalse\\twallaby\\t0.0323701\\tFalse\\n672988786805112832\\thttps://pbs.twimg.com/media/CVbvjKqW4AA_CuD.jpg\\t1\\tLakeland_terrier\\t0.8366319999999999\\tTrue\\tWest_Highland_white_terrier\\t0.07389960000000001\\tTrue\\twire-haired_fox_terrier\\t0.0381601\\tTrue\\n672995267319328768\\thttps://pbs.twimg.com/media/CVb1mRiWcAADBsE.jpg\\t1\\tFrench_bulldog\\t0.7195590000000001\\tTrue\\tboxer\\t0.166927\\tTrue\\tBoston_bull\\t0.101354\\tTrue\\n672997845381865473\\thttps://pbs.twimg.com/media/CVb39_1XIAAMoIv.jpg\\t1\\tchow\\t0.517255\\tTrue\\tPomeranian\\t0.20605300000000001\\tTrue\\tkoala\\t0.12703699999999998\\tFalse\\n673148804208660480\\thttps://pbs.twimg.com/media/CVeBQwiUsAAqhLw.jpg\\t1\\ttub\\t0.8730100000000001\\tFalse\\tbathtub\\t0.0914341\\tFalse\\ttoilet_seat\\t0.025456299999999998\\tFalse\\n673213039743795200\\thttps://pbs.twimg.com/media/CVe7r7QVEAAc4Bg.jpg\\t1\\tschipperke\\t0.8880819999999999\\tTrue\\tgroenendael\\t0.0477274\\tTrue\\tkelpie\\t0.041398000000000004\\tTrue\\n673240798075449344\\thttps://pbs.twimg.com/media/CVfU7KLXAAAAgIa.jpg\\t1\\tAiredale\\t0.443004\\tTrue\\tbrown_bear\\t0.11416199999999999\\tFalse\\tChesapeake_Bay_retriever\\t0.0946386\\tTrue\\n673270968295534593\\thttps://pbs.twimg.com/media/CVfwXuWWIAAqnoi.jpg\\t1\\tShih-Tzu\\t0.610453\\tTrue\\tMaltese_dog\\t0.16681500000000002\\tTrue\\tOld_English_sheepdog\\t0.13201500000000002\\tTrue\\n673295268553605120\\thttps://pbs.twimg.com/media/CVgGc9hWIAIe1bn.jpg\\t1\\tgolden_retriever\\t0.889241\\tTrue\\tLabrador_retriever\\t0.06468330000000001\\tTrue\\tGreat_Pyrenees\\t0.0126126\\tTrue\\n673317986296586240\\thttps://pbs.twimg.com/media/CVgbIobUYAEaeI3.jpg\\t2\\tminiature_pinscher\\t0.38409899999999997\\tTrue\\tbloodhound\\t0.0799232\\tTrue\\tRottweiler\\t0.0685941\\tTrue\\n673320132811366400\\thttps://pbs.twimg.com/media/CVgdFjNWEAAxmbq.jpg\\t3\\tSamoyed\\t0.978833\\tTrue\\tPomeranian\\t0.012763\\tTrue\\tEskimo_dog\\t0.00185305\\tTrue\\n673342308415348736\\thttps://pbs.twimg.com/media/CVgxQc5XIAAYL0W.jpg\\t1\\tski_mask\\t0.981017\\tFalse\\tChihuahua\\t0.013559200000000002\\tTrue\\tkelpie\\t0.00065218\\tTrue\\n673343217010679808\\thttps://pbs.twimg.com/media/CVgyFSyU4AA9p1e.jpg\\t1\\tChihuahua\\t0.541408\\tTrue\\tItalian_greyhound\\t0.156891\\tTrue\\tminiature_pinscher\\t0.0695558\\tTrue\\n673345638550134785\\thttps://pbs.twimg.com/media/CVg0SVRWEAAsBrS.jpg\\t1\\thamster\\t0.761025\\tFalse\\tweasel\\t0.0693617\\tFalse\\tPomeranian\\t0.064627\\tTrue\\n673350198937153538\\thttps://pbs.twimg.com/media/CVg4bo8WEAANEEE.jpg\\t1\\tWest_Highland_white_terrier\\t0.11918800000000002\\tTrue\\tquill\\t0.10401400000000001\\tFalse\\tMaltese_dog\\t0.093944\\tTrue\\n673352124999274496\\thttps://pbs.twimg.com/media/CVg6L2hWIAAYuEb.jpg\\t1\\tgolden_retriever\\t0.672808\\tTrue\\tLabrador_retriever\\t0.275885\\tTrue\\tkuvasz\\t0.022255\\tTrue\\n673355879178194945\\thttps://pbs.twimg.com/media/CVg9mTYWIAAu7J6.jpg\\t1\\tRottweiler\\t0.5292479999999999\\tTrue\\tminiature_pinscher\\t0.168296\\tTrue\\tAppenzeller\\t0.100452\\tTrue\\n673359818736984064\\thttps://pbs.twimg.com/media/CVhBLohWEAAXtYl.jpg\\t1\\tEnglish_setter\\t0.6965680000000001\\tTrue\\tBrittany_spaniel\\t0.104046\\tTrue\\tIbizan_hound\\t0.034832499999999995\\tTrue\\n673363615379013632\\thttps://pbs.twimg.com/media/CVhEoq4WcAE8pBm.jpg\\t1\\tox\\t0.193431\\tFalse\\twarthog\\t0.12382699999999999\\tFalse\\tbison\\t0.111177\\tFalse\\n673576835670777856\\thttps://pbs.twimg.com/media/CVkGjsxU8AA5OYX.jpg\\t1\\tteddy\\t0.25521\\tFalse\\tChristmas_stocking\\t0.0982852\\tFalse\\tpajama\\t0.07273510000000001\\tFalse\\n673580926094458881\\thttps://pbs.twimg.com/media/CVkKRqOXIAEX83-.jpg\\t1\\tbeagle\\t0.9850620000000001\\tTrue\\tbasset\\t0.00641784\\tTrue\\tWalker_hound\\t0.00353259\\tTrue\\n673583129559498752\\thttps://pbs.twimg.com/media/CVkMRUeWsAA9bMh.jpg\\t1\\tArctic_fox\\t0.153271\\tFalse\\tgolden_retriever\\t0.113946\\tTrue\\tborzoi\\t0.11071800000000001\\tTrue\\n673612854080196609\\thttps://pbs.twimg.com/media/CVknUTlVEAARjU5.jpg\\t1\\tNewfoundland\\t0.22310100000000002\\tTrue\\tLeonberg\\t0.111106\\tTrue\\tshovel\\t0.0856263\\tFalse\\n673636718965334016\\thttps://pbs.twimg.com/media/CVk9ApFWUAA-S1s.jpg\\t1\\twombat\\t0.880257\\tFalse\\tcorn\\t0.0194207\\tFalse\\tpug\\t0.019044299999999997\\tTrue\\n673656262056419329\\thttps://pbs.twimg.com/media/CVlOy3pW4AQ9H1K.jpg\\t1\\tbull_mastiff\\t0.700625\\tTrue\\tRhodesian_ridgeback\\t0.0946977\\tTrue\\tBrabancon_griffon\\t0.057559400000000004\\tTrue\\n673662677122719744\\thttps://pbs.twimg.com/media/CVlUfBbUwAQyfcD.jpg\\t1\\tLabrador_retriever\\t0.95767\\tTrue\\tbeagle\\t0.0124127\\tTrue\\tgolden_retriever\\t0.00568913\\tTrue\\n673680198160809984\\thttps://pbs.twimg.com/media/CVlkid8WoAAqDlB.jpg\\t1\\tSamoyed\\t0.9898530000000001\\tTrue\\tArctic_fox\\t0.00334375\\tFalse\\tchow\\t0.00280172\\tTrue\\n673686845050527744\\thttps://pbs.twimg.com/media/CVlqi_AXIAASlcD.jpg\\t1\\tPekinese\\t0.18590299999999998\\tTrue\\tguinea_pig\\t0.172951\\tFalse\\tpug\\t0.166183\\tTrue\\n673688752737402881\\thttps://pbs.twimg.com/media/CVlsVs3WIAAja6m.jpg\\t1\\tsoft-coated_wheaten_terrier\\t0.340806\\tTrue\\tSealyham_terrier\\t0.234898\\tTrue\\tkuvasz\\t0.203495\\tTrue\\n673689733134946305\\thttps://pbs.twimg.com/media/CVltNgxWEAA5sCJ.jpg\\t1\\tChesapeake_Bay_retriever\\t0.38222\\tTrue\\tAmerican_Staffordshire_terrier\\t0.35014\\tTrue\\tseat_belt\\t0.09887389999999999\\tFalse\\n673697980713705472\\thttps://pbs.twimg.com/media/CVl0vFeWoAAMTfg.jpg\\t1\\tporcupine\\t0.151876\\tFalse\\then\\t0.11137999999999999\\tFalse\\tdoormat\\t0.0589337\\tFalse\\n673700254269775872\\thttps://pbs.twimg.com/media/CVl2ydUWsAA1jD6.jpg\\t1\\twater_bottle\\t0.614536\\tFalse\\tashcan\\t0.0509114\\tFalse\\tbucket\\t0.037431900000000004\\tFalse\\n673705679337693185\\thttps://pbs.twimg.com/media/CVl7u00WcAAufzR.jpg\\t1\\tShih-Tzu\\t0.165383\\tTrue\\tLhasa\\t0.116977\\tTrue\\tYorkshire_terrier\\t0.06389890000000001\\tTrue\\n673707060090052608\\thttps://pbs.twimg.com/media/CVl8_EPWoAAcuSC.jpg\\t1\\tGerman_short-haired_pointer\\t0.9357709999999999\\tTrue\\tkelpie\\t0.022561\\tTrue\\tLabrador_retriever\\t0.00884665\\tTrue\\n673708611235921920\\thttps://pbs.twimg.com/media/CVl-Z0dWcAAs7wr.jpg\\t1\\tgolden_retriever\\t0.936333\\tTrue\\tcocker_spaniel\\t0.0242109\\tTrue\\tLabrador_retriever\\t0.00943485\\tTrue\\n673709992831262724\\thttps://pbs.twimg.com/media/CVl_qbjW4AA8Mam.jpg\\t1\\tChihuahua\\t0.330171\\tTrue\\tSiamese_cat\\t0.18158\\tFalse\\tkelpie\\t0.178227\\tTrue\\n673711475735838725\\thttps://pbs.twimg.com/media/CVmA_osW4AArAU1.jpg\\t1\\tMaltese_dog\\t0.607401\\tTrue\\ttoy_poodle\\t0.143836\\tTrue\\tSealyham_terrier\\t0.063907\\tTrue\\n673715861853720576\\thttps://pbs.twimg.com/media/CVmE_fAWIAAlDhU.jpg\\t1\\tsuit\\t0.404115\\tFalse\\tbow_tie\\t0.294683\\tFalse\\tWindsor_tie\\t0.13270099999999999\\tFalse\\n673887867907739649\\thttps://pbs.twimg.com/media/CVoha_IU4AAZ7vi.jpg\\t2\\tBrabancon_griffon\\t0.21676700000000002\\tTrue\\tChihuahua\\t0.190958\\tTrue\\tgolden_retriever\\t0.16328800000000002\\tTrue\\n673906403526995968\\thttps://pbs.twimg.com/media/CVoySqoWUAAWb7N.jpg\\t1\\ttoilet_seat\\t0.683319\\tFalse\\tsoft-coated_wheaten_terrier\\t0.0489277\\tTrue\\tSiberian_husky\\t0.030386\\tTrue\\n673919437611909120\\thttps://pbs.twimg.com/media/CVo-JuMWwAAet6F.jpg\\t1\\tjack-o'-lantern\\t0.172079\\tFalse\\tschipperke\\t0.11598399999999999\\tTrue\\tminiature_pinscher\\t0.052175\\tTrue\\n673956914389192708\\thttps://pbs.twimg.com/media/CVpgPGwWoAEV7gG.jpg\\t1\\tpug\\t0.5861609999999999\\tTrue\\tBrabancon_griffon\\t0.0827437\\tTrue\\tChihuahua\\t0.0458777\\tTrue\\n674008982932058114\\thttps://pbs.twimg.com/media/CVqPkVoU4AAkXA7.jpg\\t1\\tjigsaw_puzzle\\t0.9708100000000001\\tFalse\\tprayer_rug\\t0.011048200000000001\\tFalse\\tquill\\t0.00843171\\tFalse\\n674014384960745472\\thttps://pbs.twimg.com/media/CVqUgTIUAAUA8Jr.jpg\\t1\\tPembroke\\t0.74232\\tTrue\\tCardigan\\t0.08493710000000002\\tTrue\\tEskimo_dog\\t0.06832089999999999\\tTrue\\n674019345211760640\\thttps://pbs.twimg.com/media/CVqZBO8WUAAd931.jpg\\t1\\tcollie\\t0.992732\\tTrue\\tborzoi\\t0.0050428999999999995\\tTrue\\tShetland_sheepdog\\t0.00172478\\tTrue\\n674024893172875264\\thttps://pbs.twimg.com/media/CVqeEKLW4AA1wXH.jpg\\t1\\tPomeranian\\t0.6485\\tTrue\\tPekinese\\t0.339835\\tTrue\\tPersian_cat\\t0.00644846\\tFalse\\n674036086168010753\\thttps://pbs.twimg.com/media/CVqoPslWEAEk7EC.jpg\\t1\\ttoy_poodle\\t0.685617\\tTrue\\tminiature_poodle\\t0.151936\\tTrue\\tMaltese_dog\\t0.0455311\\tTrue\\n674038233588723717\\thttps://pbs.twimg.com/media/CVqqMtiVEAEye_L.jpg\\t1\\tEskimo_dog\\t0.358459\\tTrue\\tNorwegian_elkhound\\t0.206963\\tTrue\\tmalamute\\t0.14823599999999998\\tTrue\\n674042553264685056\\thttps://pbs.twimg.com/media/CVquIDRW4AEJrPk.jpg\\t1\\ttoy_poodle\\t0.927975\\tTrue\\tminiature_poodle\\t0.06894639999999999\\tTrue\\tstandard_poodle\\t0.00131575\\tTrue\\n674045139690631169\\thttps://pbs.twimg.com/media/CVqwedgXIAEAT6A.jpg\\t1\\trobin\\t0.369661\\tFalse\\trhinoceros_beetle\\t0.110607\\tFalse\\tEuropean_fire_salamander\\t0.0431782\\tFalse\\n674051556661161984\\thttps://pbs.twimg.com/media/CVq2UHwWEAAduMw.jpg\\t1\\tShih-Tzu\\t0.179777\\tTrue\\tbadger\\t0.16058\\tFalse\\tthree-toed_sloth\\t0.132154\\tFalse\\n674053186244734976\\thttps://pbs.twimg.com/media/CVq3zAaWwAA8vpk.jpg\\t1\\tCardigan\\t0.984725\\tTrue\\tPembroke\\t0.00873039\\tTrue\\tkelpie\\t0.00219477\\tTrue\\n674063288070742018\\thttps://pbs.twimg.com/media/CVrA-rIWEAANxwQ.jpg\\t1\\tostrich\\t0.661176\\tFalse\\tbearskin\\t0.214879\\tFalse\\tswab\\t0.0644557\\tFalse\\n674075285688614912\\thttps://pbs.twimg.com/media/CVrL5YBWoAA_uPD.jpg\\t1\\tAiredale\\t0.305392\\tTrue\\tKerry_blue_terrier\\t0.250014\\tTrue\\tLakeland_terrier\\t0.188668\\tTrue\\n674082852460433408\\thttps://pbs.twimg.com/media/CVrSxy7WsAAFD2F.jpg\\t1\\tPomeranian\\t0.666957\\tTrue\\tShetland_sheepdog\\t0.028019400000000003\\tTrue\\tski_mask\\t0.0206827\\tFalse\\n674255168825880576\\thttps://pbs.twimg.com/media/CVtvf6bWwAAd1rT.jpg\\t1\\tEskimo_dog\\t0.615741\\tTrue\\tSiberian_husky\\t0.199544\\tTrue\\tmalamute\\t0.179107\\tTrue\\n674262580978937856\\thttps://pbs.twimg.com/media/CVt2PawWIAEUkqW.jpg\\t1\\tGreater_Swiss_Mountain_dog\\t0.519428\\tTrue\\tboxer\\t0.1215\\tTrue\\tStaffordshire_bullterrier\\t0.114498\\tTrue\\n674265582246694913\\thttps://pbs.twimg.com/media/CVt49k_WsAAtNYC.jpg\\t1\\tslug\\t0.998075\\tFalse\\tice_lolly\\t0.00098401\\tFalse\\tleafhopper\\t9.720379999999999e-05\\tFalse\\n674269164442398721\\thttps://pbs.twimg.com/media/CVt8OmIWIAAbxvJ.jpg\\t1\\tpug\\t0.6229210000000001\\tTrue\\tNorwegian_elkhound\\t0.0486585\\tTrue\\tCardigan\\t0.0169655\\tTrue\\n674271431610523648\\thttps://pbs.twimg.com/media/CVt-SeMWwAAs9HH.jpg\\t1\\tGerman_shepherd\\t0.9914540000000001\\tTrue\\tmalinois\\t0.00415023\\tTrue\\tbloodhound\\t0.00301913\\tTrue\\n674291837063053312\\thttps://pbs.twimg.com/media/CVuQ2LeUsAAIe3s.jpg\\t1\\tCardigan\\t0.611525\\tTrue\\tPembroke\\t0.368566\\tTrue\\tChihuahua\\t0.00332957\\tTrue\\n674318007229923329\\thttps://pbs.twimg.com/media/CVuopr8WwAExw_T.jpg\\t1\\tporcupine\\t0.846628\\tFalse\\thamster\\t0.0381361\\tFalse\\techidna\\t0.0146804\\tFalse\\n674372068062928900\\thttps://pbs.twimg.com/media/CVvZ0KTWwAAdXKV.jpg\\t1\\tseashore\\t0.34612600000000004\\tFalse\\tAmerican_alligator\\t0.106404\\tFalse\\tsandbar\\t0.0493491\\tFalse\\n674394782723014656\\thttps://pbs.twimg.com/media/CVvueeeWwAUcQLR.jpg\\t1\\ttoilet_tissue\\t0.134983\\tFalse\\tmosquito_net\\t0.133247\\tFalse\\tLakeland_terrier\\t0.109099\\tTrue\\n674410619106390016\\thttps://pbs.twimg.com/media/CVv84VDUEAEm3dW.jpg\\t1\\tbrown_bear\\t0.698207\\tFalse\\tsea_lion\\t0.0464745\\tFalse\\tbeagle\\t0.0194268\\tTrue\\n674416750885273600\\thttps://pbs.twimg.com/media/CVwCdCFW4AUHY4D.jpg\\t1\\tChihuahua\\t0.28720100000000004\\tTrue\\tBoston_bull\\t0.25092\\tTrue\\twhippet\\t0.141012\\tTrue\\n674422304705744896\\thttps://pbs.twimg.com/media/CVwHgblWcAACWOD.jpg\\t1\\tgolden_retriever\\t0.9644969999999999\\tTrue\\tLabrador_retriever\\t0.00900618\\tTrue\\ttennis_ball\\t0.00713883\\tFalse\\n674436901579923456\\thttps://pbs.twimg.com/media/CVwUyM9WwAAGDjv.jpg\\t1\\tacorn_squash\\t0.375392\\tFalse\\tShih-Tzu\\t0.10541600000000001\\tTrue\\tLhasa\\t0.0728323\\tTrue\\n674447403907457024\\thttps://pbs.twimg.com/media/CVweVUfW4AACPwI.jpg\\t1\\tBrabancon_griffon\\t0.409909\\tTrue\\tmalinois\\t0.24464899999999998\\tTrue\\tbull_mastiff\\t0.07481950000000001\\tTrue\\n674468880899788800\\thttps://pbs.twimg.com/media/CVwx3dQXAAA0ksL.jpg\\t2\\tchow\\t0.52623\\tTrue\\tPomeranian\\t0.283647\\tTrue\\ttoy_poodle\\t0.0676654\\tTrue\\n674632714662858753\\thttps://pbs.twimg.com/media/CVzG3yOVAAAqi9I.jpg\\t1\\tjellyfish\\t0.43274799999999997\\tFalse\\tgoldfish\\t0.11311099999999999\\tFalse\\tcoral_reef\\t0.08704719999999999\\tFalse\\n674638615994089473\\thttps://pbs.twimg.com/media/CVzMPh1UsAELQ_p.jpg\\t1\\tPomeranian\\t0.846986\\tTrue\\tchow\\t0.142014\\tTrue\\tkeeshond\\t0.00260504\\tTrue\\n674644256330530816\\thttps://pbs.twimg.com/media/CVzRXmXWIAA0Fkr.jpg\\t1\\tsoccer_ball\\t0.398102\\tFalse\\tbasset\\t0.335692\\tTrue\\tcocker_spaniel\\t0.0729408\\tTrue\\n674646392044941312\\thttps://pbs.twimg.com/media/CVzTUGrW4AAirJH.jpg\\t1\\tflat-coated_retriever\\t0.837448\\tTrue\\tgroenendael\\t0.0861665\\tTrue\\tLabrador_retriever\\t0.016052200000000003\\tTrue\\n674664755118911488\\thttps://pbs.twimg.com/media/CVzkA7-WsAAcXz6.jpg\\t1\\tAfrican_crocodile\\t0.330625\\tFalse\\tAmerican_alligator\\t0.0753557\\tFalse\\tmink\\t0.0574807\\tFalse\\n674670581682434048\\thttps://pbs.twimg.com/media/CVzpUGUWUAAo7Vn.jpg\\t1\\tmalamute\\t0.180079\\tTrue\\tEskimo_dog\\t0.178033\\tTrue\\tSiberian_husky\\t0.07796610000000001\\tTrue\\n674690135443775488\\thttps://pbs.twimg.com/media/CVz7FxXWUAAlTRP.jpg\\t1\\ttick\\t0.242538\\tFalse\\tnail\\t0.212589\\tFalse\\tscrew\\t0.17283800000000002\\tFalse\\n674737130913071104\\thttps://pbs.twimg.com/media/CV0l10AU8AAfg-a.jpg\\t1\\tPomeranian\\t0.9485370000000001\\tTrue\\tschipperke\\t0.014309899999999999\\tTrue\\tChihuahua\\t0.00812024\\tTrue\\n674739953134403584\\thttps://pbs.twimg.com/media/CV0oaHFW4AA9Coi.jpg\\t1\\tDandie_Dinmont\\t0.17591500000000002\\tTrue\\tblack-footed_ferret\\t0.0965343\\tFalse\\ttoy_poodle\\t0.0641447\\tTrue\\n674743008475090944\\thttps://pbs.twimg.com/media/CV0rL7RWEAAbhqm.jpg\\t1\\tBernese_mountain_dog\\t0.583054\\tTrue\\tShetland_sheepdog\\t0.0659904\\tTrue\\tGreater_Swiss_Mountain_dog\\t0.0652362\\tTrue\\n674752233200820224\\thttps://pbs.twimg.com/media/CV0zkzEU4AAzLc5.jpg\\t2\\tvizsla\\t0.665516\\tTrue\\tredbone\\t0.17336600000000002\\tTrue\\tbasset\\t0.134783\\tTrue\\n674754018082705410\\thttps://pbs.twimg.com/media/CV01M3ZWIAAV7rv.jpg\\t1\\tseashore\\t0.352321\\tFalse\\tpromontory\\t0.131753\\tFalse\\twreck\\t0.09559669999999999\\tFalse\\n674764817387900928\\thttps://pbs.twimg.com/media/CV0_BSuWIAIvE9k.jpg\\t2\\tSamoyed\\t0.634695\\tTrue\\tArctic_fox\\t0.30985300000000005\\tFalse\\tkuvasz\\t0.019641\\tTrue\\n674767892831932416\\thttps://pbs.twimg.com/media/CV1B0WkWwAEBKVx.jpg\\t1\\tshower_curtain\\t0.238855\\tFalse\\tsarong\\t0.09241410000000001\\tFalse\\tkimono\\t0.0564125\\tFalse\\n674774481756377088\\thttps://pbs.twimg.com/media/CV1HztsWoAAuZwo.jpg\\t1\\tChihuahua\\t0.407016\\tTrue\\tFrench_bulldog\\t0.30997800000000003\\tTrue\\tSiamese_cat\\t0.227677\\tFalse\\n674781762103414784\\thttps://pbs.twimg.com/media/CV1ObvEWcAA7c6i.jpg\\t1\\tocarina\\t0.148975\\tFalse\\thamster\\t0.06898489999999999\\tFalse\\twool\\t0.0317285\\tFalse\\n674788554665512960\\thttps://pbs.twimg.com/media/CV1Um8vWIAAmhQn.jpg\\t1\\tminiature_poodle\\t0.349561\\tTrue\\ttoy_poodle\\t0.154711\\tTrue\\tMaltese_dog\\t0.134229\\tTrue\\n674790488185167872\\thttps://pbs.twimg.com/media/CV1WXsmWcAAgQ56.jpg\\t1\\tLabrador_retriever\\t0.8019029999999999\\tTrue\\tChesapeake_Bay_retriever\\t0.193575\\tTrue\\tRottweiler\\t0.00119305\\tTrue\\n674793399141146624\\thttps://pbs.twimg.com/media/CV1ZA3oWEAA1HW_.jpg\\t1\\tgiant_schnauzer\\t0.11969300000000001\\tTrue\\tAfghan_hound\\t0.0727627\\tTrue\\tminiature_schnauzer\\t0.0637859\\tTrue\\n674800520222154752\\thttps://pbs.twimg.com/media/CV1ffl3XAAAiFyr.jpg\\t1\\tPembroke\\t0.8764790000000001\\tTrue\\tCardigan\\t0.0969114\\tTrue\\tdingo\\t0.00919567\\tFalse\\n674805413498527744\\thttps://pbs.twimg.com/ext_tw_video_thumb/674805331965399040/pu/img/-7bw8niVrgIkLKOW.jpg\\t1\\tEnglish_springer\\t0.594467\\tTrue\\tcocker_spaniel\\t0.389994\\tTrue\\tWelsh_springer_spaniel\\t0.00709611\\tTrue\\n674999807681908736\\thttps://pbs.twimg.com/media/CV4UvgNUkAEEnZd.jpg\\t1\\tRottweiler\\t0.591829\\tTrue\\tDoberman\\t0.204544\\tTrue\\tblack-and-tan_coonhound\\t0.07860189999999999\\tTrue\\n675003128568291329\\thttps://pbs.twimg.com/media/CV4XwYiWoAAHQIF.jpg\\t1\\tPembroke\\t0.655279\\tTrue\\tPomeranian\\t0.104164\\tTrue\\tCardigan\\t0.0528177\\tTrue\\n675006312288268288\\thttps://pbs.twimg.com/media/CV4aqCwWsAIi3OP.jpg\\t1\\tboxer\\t0.654697\\tTrue\\tspace_heater\\t0.043388800000000005\\tFalse\\tbeagle\\t0.0428476\\tTrue\\n675015141583413248\\thttps://pbs.twimg.com/media/CV4iqh5WcAEV1E6.jpg\\t1\\tstreet_sign\\t0.290091\\tFalse\\tgolden_retriever\\t0.258372\\tTrue\\tsandbar\\t0.132173\\tFalse\\n675047298674663426\\thttps://pbs.twimg.com/media/CV4_8FgXAAQOj4S.jpg\\t1\\tSamoyed\\t0.978007\\tTrue\\tchow\\t0.00712124\\tTrue\\tPomeranian\\t0.00639783\\tTrue\\n675109292475830276\\thttps://pbs.twimg.com/media/CV54UQTXAAAGf-j.jpg\\t1\\tdalmatian\\t0.989519\\tTrue\\tEnglish_setter\\t0.00525767\\tTrue\\tGerman_short-haired_pointer\\t0.00144283\\tTrue\\n675111688094527488\\thttps://pbs.twimg.com/media/CV56f54WsAEv4kJ.jpg\\t1\\tLabrador_retriever\\t0.631501\\tTrue\\tBrittany_spaniel\\t0.101927\\tTrue\\tChesapeake_Bay_retriever\\t0.0626498\\tTrue\\n675113801096802304\\thttps://pbs.twimg.com/media/CV58a4nXAAApywo.jpg\\t1\\tbow\\t0.16802\\tFalse\\tquill\\t0.10880699999999999\\tFalse\\tjoystick\\t0.043311800000000004\\tFalse\\n675135153782571009\\thttps://pbs.twimg.com/media/CV6P1lnWIAAUQHk.jpg\\t1\\tstove\\t0.587507\\tFalse\\trotisserie\\t0.0517131\\tFalse\\tmicrowave\\t0.0207253\\tFalse\\n675145476954566656\\thttps://pbs.twimg.com/media/CV6ZOPqWsAA20Uj.jpg\\t1\\tLabrador_retriever\\t0.458746\\tTrue\\tGreat_Dane\\t0.235504\\tTrue\\tStaffordshire_bullterrier\\t0.11686400000000001\\tTrue\\n675146535592706048\\thttps://pbs.twimg.com/media/CV6aMToXIAA7kH4.jpg\\t1\\tdingo\\t0.28844699999999995\\tFalse\\tCardigan\\t0.229944\\tTrue\\tPembroke\\t0.190407\\tTrue\\n675147105808306176\\thttps://pbs.twimg.com/media/CV6atgoWcAEsdv6.jpg\\t1\\tgolden_retriever\\t0.9492149999999999\\tTrue\\tLabrador_retriever\\t0.016765400000000003\\tTrue\\tflat-coated_retriever\\t0.010637299999999999\\tTrue\\n675149409102012420\\thttps://pbs.twimg.com/media/CV6czeEWEAEdChp.jpg\\t1\\tchow\\t0.999876\\tTrue\\tTibetan_mastiff\\t5.8674899999999996e-05\\tTrue\\tTibetan_terrier\\t2.87785e-05\\tTrue\\n675153376133427200\\thttps://pbs.twimg.com/media/CV6gaUUWEAAnETq.jpg\\t1\\tpaper_towel\\t0.327957\\tFalse\\tmailbox\\t0.09602689999999998\\tFalse\\tseat_belt\\t0.034995099999999994\\tFalse\\n675166823650848770\\thttps://pbs.twimg.com/media/CV6spB7XAAIpMyP.jpg\\t1\\tllama\\t0.284394\\tFalse\\tstandard_poodle\\t0.132569\\tTrue\\tteddy\\t0.127975\\tFalse\\n675334060156301312\\thttps://pbs.twimg.com/media/CV9EvZNUwAAgLCK.jpg\\t2\\tPembroke\\t0.773135\\tTrue\\tCardigan\\t0.11681\\tTrue\\tchow\\t0.0390362\\tTrue\\n675349384339542016\\thttps://pbs.twimg.com/media/CV9SrABU4AQI46z.jpg\\t3\\tborzoi\\t0.866367\\tTrue\\tSaluki\\t0.122079\\tTrue\\tIrish_wolfhound\\t0.00401972\\tTrue\\n675354435921575936\\thttps://pbs.twimg.com/ext_tw_video_thumb/675354114423808004/pu/img/qL1R_nGLqa6lmkOx.jpg\\t1\\tupright\\t0.303415\\tFalse\\tgolden_retriever\\t0.181351\\tTrue\\tBrittany_spaniel\\t0.16208399999999998\\tTrue\\n675362609739206656\\thttps://pbs.twimg.com/media/CV9etctWUAAl5Hp.jpg\\t1\\tLabrador_retriever\\t0.479008\\tTrue\\tice_bear\\t0.21828899999999998\\tFalse\\tkuvasz\\t0.13991099999999998\\tTrue\\n675372240448454658\\thttps://pbs.twimg.com/media/CV9nd30XAAAEba5.jpg\\t1\\tChihuahua\\t0.41638500000000006\\tTrue\\tWest_Highland_white_terrier\\t0.102933\\tTrue\\tSamoyed\\t0.0872995\\tTrue\\n675432746517426176\\thttps://pbs.twimg.com/media/CV-ef64WoAAbh0I.jpg\\t1\\tLabrador_retriever\\t0.986548\\tTrue\\tgolden_retriever\\t0.00886185\\tTrue\\tChihuahua\\t0.000693528\\tTrue\\n675483430902214656\\thttps://pbs.twimg.com/media/CV_MmGZU8AAggM6.jpg\\t1\\tbox_turtle\\t0.543706\\tFalse\\tterrapin\\t0.2026\\tFalse\\tloggerhead\\t0.0711215\\tFalse\\n675489971617296384\\thttps://pbs.twimg.com/media/CV_SimUWoAAvJSY.jpg\\t1\\tWest_Highland_white_terrier\\t0.13961300000000001\\tTrue\\tseat_belt\\t0.118647\\tFalse\\tOld_English_sheepdog\\t0.0939522\\tTrue\\n675497103322386432\\thttps://pbs.twimg.com/media/CV_ZAhcUkAUeKtZ.jpg\\t1\\tvizsla\\t0.5195890000000001\\tTrue\\tminiature_pinscher\\t0.0647712\\tTrue\\tRhodesian_ridgeback\\t0.0614913\\tTrue\\n675501075957489664\\thttps://pbs.twimg.com/media/CV_cnjHWUAADc-c.jpg\\t1\\tdough\\t0.806757\\tFalse\\tbakery\\t0.027906599999999997\\tFalse\\tFrench_loaf\\t0.0181889\\tFalse\\n675517828909424640\\thttps://pbs.twimg.com/media/CV_r3v4VAAALvwg.jpg\\t1\\tScottish_deerhound\\t0.240591\\tTrue\\tgroenendael\\t0.156916\\tTrue\\tflat-coated_retriever\\t0.09089939999999999\\tTrue\\n675522403582218240\\thttps://pbs.twimg.com/media/CV_wCh8W4AEWWZ9.jpg\\t1\\tcocker_spaniel\\t0.299708\\tTrue\\tgolden_retriever\\t0.263665\\tTrue\\tIrish_setter\\t0.0803233\\tTrue\\n675531475945709568\\thttps://pbs.twimg.com/media/CV_4ShmUYAA3wNu.jpg\\t1\\tPembroke\\t0.918441\\tTrue\\tCardigan\\t0.0273395\\tTrue\\tSiberian_husky\\t0.020221\\tTrue\\n675534494439489536\\thttps://pbs.twimg.com/media/CV_7CV6XIAEV05u.jpg\\t1\\tchow\\t0.749368\\tTrue\\tschipperke\\t0.13373800000000002\\tTrue\\tNewfoundland\\t0.0499138\\tTrue\\n675706639471788032\\thttps://pbs.twimg.com/media/CWCXj35VEAIFvtk.jpg\\t1\\tEnglish_springer\\t0.9903\\tTrue\\tWelsh_springer_spaniel\\t0.00207991\\tTrue\\tcocker_spaniel\\t0.00201378\\tTrue\\n675707330206547968\\thttps://pbs.twimg.com/media/CWCYOqWUAAARmGr.jpg\\t1\\tbath_towel\\t0.721933\\tFalse\\tStaffordshire_bullterrier\\t0.0593442\\tTrue\\tbagel\\t0.03570159999999999\\tFalse\\n675710890956750848\\thttps://pbs.twimg.com/media/CWCbd8ZWoAAtqoH.jpg\\t2\\tstandard_schnauzer\\t0.44142700000000007\\tTrue\\tminiature_schnauzer\\t0.248885\\tTrue\\tSealyham_terrier\\t0.164967\\tTrue\\n675740360753160193\\thttps://pbs.twimg.com/ext_tw_video_thumb/675740268751138818/pu/img/dVaVeFAVT-lk_1ZV.jpg\\t1\\tgolden_retriever\\t0.800495\\tTrue\\tkuvasz\\t0.0977564\\tTrue\\tSaluki\\t0.0684146\\tTrue\\n675781562965868544\\thttps://pbs.twimg.com/media/CWDbv2yU4AARfeH.jpg\\t1\\tMaltese_dog\\t0.921968\\tTrue\\tWest_Highland_white_terrier\\t0.0178107\\tTrue\\ttoy_poodle\\t0.0135554\\tTrue\\n675798442703122432\\thttps://pbs.twimg.com/media/CWDrGH4UYAARoq_.jpg\\t1\\tbeagle\\t0.681218\\tTrue\\tbasset\\t0.125121\\tTrue\\tboxer\\t0.0803982\\tTrue\\n675820929667219457\\thttps://pbs.twimg.com/media/CWD_jQMWEAAdYwH.jpg\\t1\\tbasset\\t0.556373\\tTrue\\tbeagle\\t0.201675\\tTrue\\tbloodhound\\t0.110848\\tTrue\\n675822767435051008\\thttps://pbs.twimg.com/media/CWEBOFYWwAA-O2c.jpg\\t1\\tPomeranian\\t0.46071000000000006\\tTrue\\tchow\\t0.202765\\tTrue\\tPekinese\\t0.133266\\tTrue\\n675845657354215424\\thttps://pbs.twimg.com/media/CWEWClfW4AAnqhG.jpg\\t1\\tpug\\t0.8839520000000001\\tTrue\\tBoston_bull\\t0.0110568\\tTrue\\tFrench_bulldog\\t0.00983981\\tTrue\\n675853064436391936\\thttps://pbs.twimg.com/media/CWEcxqWVEAAHyGH.jpg\\t1\\tLabrador_retriever\\t0.868367\\tTrue\\tgolden_retriever\\t0.0433046\\tTrue\\tvizsla\\t0.0282072\\tTrue\\n675870721063669760\\thttps://pbs.twimg.com/media/CWEs1b-WEAEhq82.jpg\\t1\\tgolden_retriever\\t0.263892\\tTrue\\tWelsh_springer_spaniel\\t0.184193\\tTrue\\tbeagle\\t0.18224100000000001\\tTrue\\n675878199931371520\\thttps://pbs.twimg.com/media/CWEzo19WoAEiOCj.jpg\\t1\\twood_rabbit\\t0.785756\\tFalse\\thare\\t0.118181\\tFalse\\tCardigan\\t0.043627099999999995\\tTrue\\n675888385639251968\\thttps://pbs.twimg.com/media/CWE85snWIAEG5ES.jpg\\t1\\tWest_Highland_white_terrier\\t0.672117\\tTrue\\tOld_English_sheepdog\\t0.146147\\tTrue\\tkomondor\\t0.023141400000000003\\tTrue\\n675891555769696257\\thttps://pbs.twimg.com/media/CWE_x33UwAEE3no.jpg\\t1\\tItalian_greyhound\\t0.305637\\tTrue\\twhippet\\t0.232057\\tTrue\\tGreat_Dane\\t0.117806\\tTrue\\n675898130735476737\\thttps://pbs.twimg.com/media/CWFFt3_XIAArIYK.jpg\\t1\\tLabrador_retriever\\t0.40743\\tTrue\\tmalinois\\t0.0770367\\tTrue\\tpug\\t0.0745973\\tTrue\\n676089483918516224\\thttps://pbs.twimg.com/media/CWHzzFGXIAA0Y_H.jpg\\t1\\tbull_mastiff\\t0.743808\\tTrue\\tboxer\\t0.106697\\tTrue\\tAmerican_Staffordshire_terrier\\t0.0423353\\tTrue\\n676098748976615425\\thttps://pbs.twimg.com/media/CWH8L72UkAAvjql.jpg\\t1\\twalking_stick\\t0.162179\\tFalse\\tsandal\\t0.12908599999999998\\tFalse\\tpurse\\t0.0814119\\tFalse\\n676101918813499392\\thttps://pbs.twimg.com/media/CWH_FTgWIAAwOUy.jpg\\t1\\tShih-Tzu\\t0.225848\\tTrue\\tNorfolk_terrier\\t0.186873\\tTrue\\tIrish_terrier\\t0.10698699999999998\\tTrue\\n676146341966438401\\thttps://pbs.twimg.com/media/CWIngp5WEAAJOy3.jpg\\t1\\tIrish_water_spaniel\\t0.388332\\tTrue\\tstandard_poodle\\t0.284121\\tTrue\\tgreenhouse\\t0.0348681\\tFalse\\n676191832485810177\\thttps://pbs.twimg.com/media/CWJQ4UmWoAIJ29t.jpg\\t2\\tChihuahua\\t0.376741\\tTrue\\tItalian_greyhound\\t0.17311400000000002\\tTrue\\tmuzzle\\t0.07148510000000001\\tFalse\\n676215927814406144\\thttps://pbs.twimg.com/media/CWJmzNsWUAE706Z.jpg\\t1\\thamster\\t0.999484\\tFalse\\tguinea_pig\\t0.00015821700000000002\\tFalse\\tbroccoli\\t6.091100000000001e-05\\tFalse\\n676219687039057920\\thttps://pbs.twimg.com/media/CWJqN9iWwAAg86R.jpg\\t1\\tbubble\\t0.997556\\tFalse\\tleafhopper\\t0.000158961\\tFalse\\twhippet\\t0.000132464\\tTrue\\n676237365392908289\\thttps://pbs.twimg.com/media/CWJ6Sc-WwAAlpI6.jpg\\t1\\tFrench_bulldog\\t0.961996\\tTrue\\tChihuahua\\t0.021793\\tTrue\\tBoston_bull\\t0.00691629\\tTrue\\n676263575653122048\\thttps://pbs.twimg.com/media/CWKSIfUUYAAiOBO.jpg\\t1\\tteddy\\t0.0982826\\tFalse\\ttoy_poodle\\t0.0980293\\tTrue\\tshopping_basket\\t0.07785210000000001\\tFalse\\n676430933382295552\\thttps://pbs.twimg.com/media/CWMqV7WUYAEEClG.jpg\\t1\\tgolden_retriever\\t0.583875\\tTrue\\tcocker_spaniel\\t0.203671\\tTrue\\tLabrador_retriever\\t0.0361217\\tTrue\\n676440007570247681\\thttps://pbs.twimg.com/media/CWMyl9EWUAAnZJ0.jpg\\t2\\tMaltese_dog\\t0.579472\\tTrue\\ttoy_poodle\\t0.133446\\tTrue\\tShih-Tzu\\t0.0943966\\tTrue\\n676470639084101634\\thttps://pbs.twimg.com/media/CWNOdIpWoAAWid2.jpg\\t1\\tgolden_retriever\\t0.7903859999999999\\tTrue\\tborzoi\\t0.0228851\\tTrue\\tdingo\\t0.0153434\\tFalse\\n676496375194980353\\thttps://pbs.twimg.com/media/CWNl3S9WcAARN34.jpg\\t1\\tpug\\t0.9853870000000001\\tTrue\\tNorwegian_elkhound\\t0.0044169\\tTrue\\tFrench_bulldog\\t0.00389287\\tTrue\\n676533798876651520\\thttps://pbs.twimg.com/media/CWOH4s9U8AEtkmQ.jpg\\t1\\tchow\\t0.26527399999999995\\tTrue\\tice_bear\\t0.167614\\tFalse\\tfur_coat\\t0.117506\\tFalse\\n676575501977128964\\thttps://pbs.twimg.com/media/CWOt07EUsAAnOYW.jpg\\t1\\tfeather_boa\\t0.42410600000000004\\tFalse\\tYorkshire_terrier\\t0.0731443\\tTrue\\tShetland_sheepdog\\t0.0575976\\tTrue\\n676582956622721024\\thttps://pbs.twimg.com/media/CWO0m8tUwAAB901.jpg\\t1\\tseat_belt\\t0.790028\\tFalse\\tBoston_bull\\t0.19630699999999998\\tTrue\\tFrench_bulldog\\t0.0124289\\tTrue\\n676588346097852417\\thttps://pbs.twimg.com/media/CWO5gmCUYAAX4WA.jpg\\t1\\tBoston_bull\\t0.976577\\tTrue\\tFrench_bulldog\\t0.0143237\\tTrue\\tChihuahua\\t0.00230192\\tTrue\\n676603393314578432\\thttps://pbs.twimg.com/media/CWPHMqKVAAAE78E.jpg\\t1\\twhippet\\t0.8770209999999999\\tTrue\\tGreat_Dane\\t0.0341819\\tTrue\\tboxer\\t0.028404000000000002\\tTrue\\n676606785097199616\\thttps://pbs.twimg.com/media/CWPKSGpWcAQN6mw.jpg\\t1\\tLoafer\\t0.202999\\tFalse\\tdoormat\\t0.20041099999999998\\tFalse\\tmalinois\\t0.1423\\tTrue\\n676613908052996102\\thttps://pbs.twimg.com/media/CWPQwmJWUAAu_At.jpg\\t1\\tbook_jacket\\t0.49378999999999995\\tFalse\\tDoberman\\t0.0964228\\tTrue\\tminiature_pinscher\\t0.07064669999999999\\tTrue\\n676617503762681856\\thttps://pbs.twimg.com/media/CWPUB9TWwAALPPx.jpg\\t1\\tChihuahua\\t0.841084\\tTrue\\tPomeranian\\t0.12053\\tTrue\\tPekinese\\t0.00660034\\tTrue\\n676776431406465024\\thttps://pbs.twimg.com/ext_tw_video_thumb/676776408941662209/pu/img/k-6I3YEZAQtYPBXR.jpg\\t1\\tdoormat\\t0.201346\\tFalse\\tdishwasher\\t0.191749\\tFalse\\tmicrowave\\t0.038110000000000005\\tFalse\\n676811746707918848\\thttps://pbs.twimg.com/media/CWSEsO9WwAAX-fZ.jpg\\t1\\tChihuahua\\t0.440916\\tTrue\\tPomeranian\\t0.345806\\tTrue\\tcocker_spaniel\\t0.0603312\\tTrue\\n676819651066732545\\thttps://pbs.twimg.com/media/CWSL4W8WsAAE4KU.jpg\\t2\\train_barrel\\t0.625555\\tFalse\\tbarrel\\t0.138383\\tFalse\\tLabrador_retriever\\t0.039464599999999996\\tTrue\\n676821958043033607\\thttps://pbs.twimg.com/media/CWSN-vaXAAA8Ehr.jpg\\t2\\tGreat_Pyrenees\\t0.8698040000000001\\tTrue\\tkuvasz\\t0.0798143\\tTrue\\tstandard_poodle\\t0.013262999999999999\\tTrue\\n676864501615042560\\thttps://pbs.twimg.com/media/CWS0q8iU8AE2Srr.jpg\\t1\\tChesapeake_Bay_retriever\\t0.371146\\tTrue\\twater_buffalo\\t0.09959630000000001\\tFalse\\tWeimaraner\\t0.0489679\\tTrue\\n676897532954456065\\thttps://pbs.twimg.com/media/CWTSt0UW4AALMNB.jpg\\t1\\thamster\\t0.628255\\tFalse\\tguinea_pig\\t0.318646\\tFalse\\tmacaque\\t0.013058199999999999\\tFalse\\n676936541936185344\\thttps://pbs.twimg.com/media/CWT2MUgWIAECWig.jpg\\t1\\tChesapeake_Bay_retriever\\t0.5452859999999999\\tTrue\\tNorwegian_elkhound\\t0.081482\\tTrue\\tspace_heater\\t0.0473911\\tFalse\\n676942428000112642\\thttps://pbs.twimg.com/media/CWT7imQXIAMwpQ2.jpg\\t1\\tblack-footed_ferret\\t0.707199\\tFalse\\tpolecat\\t0.15463\\tFalse\\tweasel\\t0.0976255\\tFalse\\n676946864479084545\\thttps://pbs.twimg.com/media/CWT_lOQWUAAXPaY.jpg\\t1\\tPekinese\\t0.752707\\tTrue\\tgolden_retriever\\t0.05565459999999999\\tTrue\\tGreat_Pyrenees\\t0.04101780000000001\\tTrue\\n676948236477857792\\thttps://pbs.twimg.com/media/CWUA1GFW4AAowiq.jpg\\t1\\tguenon\\t0.611603\\tFalse\\tmacaque\\t0.135176\\tFalse\\tsquirrel_monkey\\t0.08324730000000001\\tFalse\\n676949632774234114\\thttps://pbs.twimg.com/media/CWUCGMtWEAAjXnS.jpg\\t1\\tWelsh_springer_spaniel\\t0.206479\\tTrue\\tSaint_Bernard\\t0.13933900000000002\\tTrue\\tboxer\\t0.114606\\tTrue\\n676957860086095872\\thttps://pbs.twimg.com/ext_tw_video_thumb/676957802976419840/pu/img/dCj-qlXo73A5hf6Q.jpg\\t1\\tLabrador_retriever\\t0.772423\\tTrue\\tbeagle\\t0.05590169999999999\\tTrue\\tgolden_retriever\\t0.0311519\\tTrue\\n676975532580409345\\thttps://pbs.twimg.com/media/CWUZpydWcAAeipD.jpg\\t1\\tmalamute\\t0.363257\\tTrue\\tSiberian_husky\\t0.245862\\tTrue\\tEskimo_dog\\t0.125547\\tTrue\\n677187300187611136\\thttps://pbs.twimg.com/media/CWXaQMBWcAAATDi.jpg\\t1\\tEnglish_setter\\t0.282396\\tTrue\\tShih-Tzu\\t0.08411189999999999\\tTrue\\tOld_English_sheepdog\\t0.059538\\tTrue\\n677228873407442944\\thttps://pbs.twimg.com/media/CWYAEINW4AIuw8P.jpg\\t1\\tcommon_iguana\\t0.566338\\tFalse\\ttennis_ball\\t0.154646\\tFalse\\tgreen_lizard\\t0.0449758\\tFalse\\n677269281705472000\\thttps://pbs.twimg.com/media/CWYk0WxWoAAEwRt.jpg\\t1\\tShetland_sheepdog\\t0.656616\\tTrue\\tcollie\\t0.195405\\tTrue\\tGerman_shepherd\\t0.0131032\\tTrue\\n677301033169788928\\thttps://pbs.twimg.com/media/CWZBsjPWsAAZFFl.jpg\\t1\\tJapanese_spaniel\\t0.6611779999999999\\tTrue\\tPekinese\\t0.150119\\tTrue\\tChihuahua\\t0.11972000000000001\\tTrue\\n677314812125323265\\thttps://pbs.twimg.com/media/CWZOOIUW4AAQrX_.jpg\\t2\\tBlenheim_spaniel\\t0.924127\\tTrue\\tJapanese_spaniel\\t0.054790099999999994\\tTrue\\tChihuahua\\t0.00820404\\tTrue\\n677328882937298944\\thttps://pbs.twimg.com/media/CWZbBlAUsAAjRg5.jpg\\t1\\twater_buffalo\\t0.42425\\tFalse\\tkelpie\\t0.0290541\\tTrue\\tStaffordshire_bullterrier\\t0.0284697\\tTrue\\n677331501395156992\\thttps://pbs.twimg.com/media/CWZdaGxXAAAjGjb.jpg\\t1\\tbeagle\\t0.31346399999999996\\tTrue\\tboxer\\t0.21850300000000003\\tTrue\\tFrench_bulldog\\t0.10646199999999999\\tTrue\\n677334615166730240\\thttps://pbs.twimg.com/media/CWZgPPUWUAAUOvu.jpg\\t2\\tLakeland_terrier\\t0.859392\\tTrue\\tAiredale\\t0.0672917\\tTrue\\tIrish_water_spaniel\\t0.0495306\\tTrue\\n677530072887205888\\thttps://pbs.twimg.com/media/CWcSAI-WUAAOB9W.jpg\\t1\\tStaffordshire_bullterrier\\t0.6892590000000001\\tTrue\\tNorwegian_elkhound\\t0.026121\\tTrue\\tAmerican_Staffordshire_terrier\\t0.0230747\\tTrue\\n677547928504967168\\thttps://pbs.twimg.com/media/CWciPonWEAUOqLD.jpg\\t1\\tAmerican_Staffordshire_terrier\\t0.9149780000000001\\tTrue\\tStaffordshire_bullterrier\\t0.08439529999999999\\tTrue\\tboxer\\t0.000461663\\tTrue\\n677557565589463040\\thttps://pbs.twimg.com/media/CWcrAVQWEAA6QMp.jpg\\t1\\tseat_belt\\t0.27725700000000003\\tFalse\\tShih-Tzu\\t0.24901700000000002\\tTrue\\tPekinese\\t0.209213\\tTrue\\n677565715327688705\\thttps://pbs.twimg.com/media/CWcybBmWcAAigAQ.jpg\\t1\\tbasset\\t0.397295\\tTrue\\tWelsh_springer_spaniel\\t0.199554\\tTrue\\tpurse\\t0.10564100000000001\\tFalse\\n677573743309385728\\thttps://pbs.twimg.com/media/CWc5uVPXIAErLYr.jpg\\t2\\tpatio\\t0.5350699999999999\\tFalse\\tfolding_chair\\t0.0804192\\tFalse\\tparallel_bars\\t0.034796499999999994\\tFalse\\n677644091929329666\\thttps://pbs.twimg.com/ext_tw_video_thumb/677644010865999872/pu/img/zVHEMYnJKzq1SauT.jpg\\t1\\tChihuahua\\t0.626236\\tTrue\\tItalian_greyhound\\t0.12848299999999999\\tTrue\\tswing\\t0.0598404\\tFalse\\n677662372920729601\\thttps://pbs.twimg.com/media/CWeKTZTWsAA5R3Z.jpg\\t1\\tcowboy_hat\\t0.25611\\tFalse\\ttrench_coat\\t0.12708599999999998\\tFalse\\tcloak\\t0.07143889999999999\\tFalse\\n677673981332312066\\thttps://pbs.twimg.com/media/CWeU5LBWEAA8F0J.jpg\\t1\\tMaltese_dog\\t0.817908\\tTrue\\tAngora\\t0.0778051\\tFalse\\tPomeranian\\t0.0221842\\tTrue\\n677687604918272002\\thttps://pbs.twimg.com/media/CWehRdEWIAAySyO.jpg\\t1\\tPembroke\\t0.573047\\tTrue\\tsunglasses\\t0.12675799999999998\\tFalse\\tgolden_retriever\\t0.108047\\tTrue\\n677698403548192770\\thttps://pbs.twimg.com/media/CWerGmOXAAAm6NY.jpg\\t1\\tShih-Tzu\\t0.916645\\tTrue\\tLhasa\\t0.05788340000000001\\tTrue\\tPekinese\\t0.0201258\\tTrue\\n677700003327029250\\thttps://pbs.twimg.com/media/CWesj06W4AAIKl8.jpg\\t1\\tSiberian_husky\\t0.120849\\tTrue\\tjunco\\t0.0792056\\tFalse\\tmalamute\\t0.0630875\\tTrue\\n677716515794329600\\thttps://pbs.twimg.com/media/CWe7kw9W4AE8UJh.jpg\\t1\\tteddy\\t0.6629079999999999\\tFalse\\tcrib\\t0.0318912\\tFalse\\tchow\\t0.0254378\\tTrue\\n677895101218201600\\thttps://pbs.twimg.com/media/CWhd_7WWsAAaqWG.jpg\\t1\\tdalmatian\\t0.550702\\tTrue\\tkuvasz\\t0.0602264\\tTrue\\tGreat_Pyrenees\\t0.058630999999999996\\tTrue\\n677918531514703872\\thttps://pbs.twimg.com/media/CWhzTbzWUAAEAUN.jpg\\t1\\tEskimo_dog\\t0.199347\\tTrue\\tdalmatian\\t0.153225\\tTrue\\tAmerican_Staffordshire_terrier\\t0.107798\\tTrue\\n678021115718029313\\thttps://pbs.twimg.com/media/CWjQm5gXAAA9GkD.jpg\\t1\\tminiature_pinscher\\t0.822048\\tTrue\\tDoberman\\t0.0960845\\tTrue\\tRottweiler\\t0.032709300000000004\\tTrue\\n678255464182861824\\thttps://pbs.twimg.com/media/CWmlvxJU4AEAqaN.jpg\\t1\\tChihuahua\\t0.613819\\tTrue\\tYorkshire_terrier\\t0.127931\\tTrue\\tPomeranian\\t0.06212430000000001\\tTrue\\n678278586130948096\\thttps://pbs.twimg.com/media/CWm6xySUEAAqfFU.jpg\\t1\\tMaltese_dog\\t0.897841\\tTrue\\tLhasa\\t0.0357175\\tTrue\\tTibetan_terrier\\t0.017107499999999998\\tTrue\\n678334497360859136\\thttps://pbs.twimg.com/media/CWntoDVWcAEl3NB.jpg\\t1\\tNorfolk_terrier\\t0.378643\\tTrue\\tgolden_retriever\\t0.0955939\\tTrue\\tkelpie\\t0.0853092\\tTrue\\n678341075375947776\\thttps://pbs.twimg.com/media/CWnznDTU4AAa-6P.jpg\\t1\\tgolden_retriever\\t0.853284\\tTrue\\tcocker_spaniel\\t0.0262298\\tTrue\\tLabrador_retriever\\t0.024122799999999996\\tTrue\\n678380236862578688\\thttps://pbs.twimg.com/media/CWoXOfSUAAA4u8g.jpg\\t1\\tdogsled\\t0.08854\\tFalse\\tsnowmobile\\t0.057290999999999995\\tFalse\\tSamoyed\\t0.0476014\\tTrue\\n678389028614488064\\thttps://pbs.twimg.com/media/CWofOHUWUAACGVa.jpg\\t1\\tminiature_pinscher\\t0.516284\\tTrue\\tkelpie\\t0.227402\\tTrue\\tvizsla\\t0.103246\\tTrue\\n678396796259975168\\thttps://pbs.twimg.com/media/CWomSU_XIAAUYiK.jpg\\t2\\tPembroke\\t0.9561799999999999\\tTrue\\tCardigan\\t0.0318031\\tTrue\\tChihuahua\\t0.0062765\\tTrue\\n678399652199309312\\thttps://pbs.twimg.com/ext_tw_video_thumb/678399528077250560/pu/img/BOjUNHRsYLeSo0hl.jpg\\t1\\tswing\\t0.9291959999999999\\tFalse\\tBedlington_terrier\\t0.0150472\\tTrue\\tGreat_Pyrenees\\t0.014038900000000002\\tTrue\\n678410210315247616\\thttps://pbs.twimg.com/media/CWoyfMiWUAAmGdd.jpg\\t1\\tschipperke\\t0.145877\\tTrue\\tLabrador_retriever\\t0.0983538\\tTrue\\tkelpie\\t0.09739339999999999\\tTrue\\n678424312106393600\\thttps://pbs.twimg.com/media/CWo_T8gW4AAgJNo.jpg\\t1\\tMaltese_dog\\t0.759945\\tTrue\\ttoy_poodle\\t0.101194\\tTrue\\tShih-Tzu\\t0.0560374\\tTrue\\n678446151570427904\\thttps://pbs.twimg.com/media/CWpTLOYWsAEDhcU.jpg\\t1\\tStaffordshire_bullterrier\\t0.284492\\tTrue\\tRottweiler\\t0.189434\\tTrue\\tAmerican_Staffordshire_terrier\\t0.18943\\tTrue\\n678643457146150913\\thttps://pbs.twimg.com/media/CWsGnyMVEAAM1Y1.jpg\\t1\\tLabrador_retriever\\t0.33875700000000003\\tTrue\\tflat-coated_retriever\\t0.30446999999999996\\tTrue\\tchest\\t0.0933923\\tFalse\\n678675843183484930\\thttps://pbs.twimg.com/media/CWskEqnWUAAQZW_.jpg\\t1\\tmaze\\t0.33985\\tFalse\\tstreetcar\\t0.09968780000000001\\tFalse\\tsundial\\t0.0848077\\tFalse\\n678740035362037760\\thttps://pbs.twimg.com/media/CWtede2WIAAF_AJ.jpg\\t1\\tseat_belt\\t0.7871640000000001\\tFalse\\tsunglasses\\t0.04573869999999999\\tFalse\\tbeagle\\t0.0225251\\tTrue\\n678755239630127104\\thttps://pbs.twimg.com/media/CWtsSQAUkAAnWws.jpg\\t1\\tmalamute\\t0.606654\\tTrue\\tBorder_collie\\t0.193831\\tTrue\\tcollie\\t0.0483781\\tTrue\\n678764513869611008\\thttps://pbs.twimg.com/media/CWt0ubZWcAAkFER.jpg\\t1\\tIrish_terrier\\t0.696646\\tTrue\\tAustralian_terrier\\t0.0749616\\tTrue\\tIrish_setter\\t0.06390119999999999\\tTrue\\n678767140346941444\\thttps://pbs.twimg.com/media/CWt3G6EVEAIGEPr.jpg\\t1\\tharp\\t0.8211200000000001\\tFalse\\twindow_screen\\t0.0251208\\tFalse\\tmosquito_net\\t0.016715599999999997\\tFalse\\n678774928607469569\\thttps://pbs.twimg.com/media/CWt-MNIWEAAUC9S.jpg\\t1\\tPembroke\\t0.194681\\tTrue\\ttoy_poodle\\t0.121821\\tTrue\\tPomeranian\\t0.096843\\tTrue\\n678798276842360832\\thttps://pbs.twimg.com/media/CWuTbAKUsAAvZHh.jpg\\t1\\tAiredale\\t0.583122\\tTrue\\tsilky_terrier\\t0.12956700000000002\\tTrue\\tLakeland_terrier\\t0.09472660000000001\\tTrue\\n678800283649069056\\thttps://pbs.twimg.com/media/CWuVQSLW4AAI3w9.jpg\\t1\\tLabrador_retriever\\t0.213673\\tTrue\\tbeagle\\t0.146235\\tTrue\\tAiredale\\t0.122701\\tTrue\\n678969228704284672\\thttps://pbs.twimg.com/media/CWwu6OLUkAEo3gq.jpg\\t1\\tLabrador_retriever\\t0.680251\\tTrue\\tChesapeake_Bay_retriever\\t0.20169700000000002\\tTrue\\tgolden_retriever\\t0.019675900000000003\\tTrue\\n678991772295516161\\thttps://pbs.twimg.com/media/CWxDaXHWsAAWV8W.jpg\\t1\\tEskimo_dog\\t0.330216\\tTrue\\tSiberian_husky\\t0.187003\\tTrue\\tChihuahua\\t0.10142000000000001\\tTrue\\n679047485189439488\\thttps://pbs.twimg.com/media/CWx2FaLWcAEQ3vh.jpg\\t1\\tpanpipe\\t0.962572\\tFalse\\tbannister\\t0.0252482\\tFalse\\tgolden_retriever\\t0.00293035\\tTrue\\n679062614270468097\\thttps://pbs.twimg.com/media/CWyD2HGUYAQ1Xa7.jpg\\t2\\tcash_machine\\t0.802333\\tFalse\\tschipperke\\t0.0455186\\tTrue\\tGerman_shepherd\\t0.0233535\\tTrue\\n679111216690831360\\thttps://pbs.twimg.com/ext_tw_video_thumb/679111114081370114/pu/img/hFca8BHjRopgD0cM.jpg\\t1\\tkelpie\\t0.189423\\tTrue\\tbeagle\\t0.12198800000000001\\tTrue\\tbasset\\t0.121171\\tTrue\\n679132435750195208\\thttps://pbs.twimg.com/media/CWzDWOkXAAAP0k7.jpg\\t1\\tScottish_deerhound\\t0.19460999999999998\\tTrue\\tIrish_wolfhound\\t0.162855\\tTrue\\tgiant_schnauzer\\t0.15983699999999998\\tTrue\\n679148763231985668\\thttps://pbs.twimg.com/media/CWzSMmAWsAAyB1u.jpg\\t1\\tItalian_greyhound\\t0.302685\\tTrue\\thair_slide\\t0.12428099999999999\\tFalse\\tAfghan_hound\\t0.059846\\tTrue\\n679158373988876288\\thttps://pbs.twimg.com/media/CWza7kpWcAAdYLc.jpg\\t1\\tpug\\t0.27220500000000003\\tTrue\\tbull_mastiff\\t0.25153000000000003\\tTrue\\tbath_towel\\t0.116806\\tFalse\\n679462823135686656\\thttps://pbs.twimg.com/media/CW3v1KxW8AAIOuy.jpg\\t1\\ttoy_poodle\\t0.62178\\tTrue\\tminiature_poodle\\t0.197819\\tTrue\\tsoft-coated_wheaten_terrier\\t0.046745\\tTrue\\n679475951516934144\\thttps://pbs.twimg.com/media/CW37xZbUoAAUXe5.jpg\\t1\\tMaltese_dog\\t0.145742\\tTrue\\ttoy_poodle\\t0.139407\\tTrue\\tWest_Highland_white_terrier\\t0.108821\\tTrue\\n679503373272485890\\thttps://pbs.twimg.com/media/CW4UtmYWsAAEjqA.jpg\\t1\\tporcupine\\t0.9998459999999999\\tFalse\\tmeerkat\\t7.191479999999999e-05\\tFalse\\techidna\\t4.44729e-05\\tFalse\\n679511351870550016\\thttps://pbs.twimg.com/media/CW4b-GUWYAAa8QO.jpg\\t1\\tChihuahua\\t0.761972\\tTrue\\tblack-footed_ferret\\t0.150605\\tFalse\\tsquirrel_monkey\\t0.028147900000000003\\tFalse\\n679527802031484928\\thttps://pbs.twimg.com/media/CW4q7jDWkAA2y8g.jpg\\t1\\tmailbox\\t0.336393\\tFalse\\tcannon\\t0.158936\\tFalse\\tcuirass\\t0.0526471\\tFalse\\n679530280114372609\\thttps://pbs.twimg.com/media/CW4tL1vWcAIw1dw.jpg\\t1\\tdalmatian\\t0.750256\\tTrue\\tjaguar\\t0.169007\\tFalse\\tzebra\\t0.00648149\\tFalse\\n679722016581222400\\thttps://pbs.twimg.com/media/CW7bkW6WQAAksgB.jpg\\t1\\tboxer\\t0.459604\\tTrue\\tBoston_bull\\t0.197913\\tTrue\\tFrench_bulldog\\t0.0870225\\tTrue\\n679729593985699840\\thttps://pbs.twimg.com/media/CW7iddWUsAElUC0.jpg\\t1\\twallaby\\t0.164215\\tFalse\\tWest_Highland_white_terrier\\t0.09351480000000001\\tTrue\\tashcan\\t0.0672783\\tFalse\\n679736210798047232\\thttps://pbs.twimg.com/media/CW7oelWWcAAhyzz.jpg\\t1\\tFrench_bulldog\\t0.319139\\tTrue\\tChihuahua\\t0.154088\\tTrue\\tCardigan\\t0.11768800000000001\\tTrue\\n679777920601223168\\thttps://pbs.twimg.com/media/CW8OYajUMAAPRoF.jpg\\t1\\tbloodhound\\t0.5288189999999999\\tTrue\\tbull_mastiff\\t0.42011899999999996\\tTrue\\tFrench_bulldog\\t0.00948059\\tTrue\\n679828447187857408\\thttps://pbs.twimg.com/media/CW88XN4WsAAlo8r.jpg\\t3\\tChihuahua\\t0.346545\\tTrue\\tdalmatian\\t0.166246\\tTrue\\ttoy_terrier\\t0.117502\\tTrue\\n679844490799091713\\thttps://pbs.twimg.com/media/CW9K9VeVAAE0j-x.jpg\\t1\\tAiredale\\t0.903832\\tTrue\\tBorder_terrier\\t0.034712599999999996\\tTrue\\ttoy_poodle\\t0.021378\\tTrue\\n679854723806179328\\thttps://pbs.twimg.com/media/CW9UQ7oWkAAErmU.jpg\\t1\\tllama\\t0.887963\\tFalse\\tram\\t0.0950207\\tFalse\\tchow\\t0.00230739\\tTrue\\n679862121895714818\\thttps://pbs.twimg.com/media/CW9a_h1WwAApmAy.jpg\\t1\\tEntleBucher\\t0.5232060000000001\\tTrue\\tGreater_Swiss_Mountain_dog\\t0.43165699999999996\\tTrue\\tAppenzeller\\t0.0442079\\tTrue\\n679877062409191424\\thttps://pbs.twimg.com/media/CW9olDsUsAA0XSf.jpg\\t1\\thog\\t0.809466\\tFalse\\thay\\t0.060177800000000004\\tFalse\\tlumbermill\\t0.0164834\\tFalse\\n680055455951884288\\thttps://pbs.twimg.com/media/CW-ZRC_WQAAyFrL.jpg\\t1\\tSamoyed\\t0.995466\\tTrue\\tGreat_Pyrenees\\t0.00183395\\tTrue\\tPomeranian\\t0.0006669489999999999\\tTrue\\n680070545539371008\\thttps://pbs.twimg.com/media/CW-dU34WQAANBGy.jpg\\t1\\tearthstar\\t0.127701\\tFalse\\tShih-Tzu\\t0.12181099999999999\\tTrue\\tbubble\\t0.11782000000000001\\tFalse\\n680085611152338944\\thttps://pbs.twimg.com/media/CXAiiHUWkAIN_28.jpg\\t3\\tpillow\\t0.778113\\tFalse\\tapron\\t0.0950228\\tFalse\\twallet\\t0.0493258\\tFalse\\n680100725817409536\\thttps://pbs.twimg.com/media/CW-loUBWYAAn2Cb.jpg\\t1\\tgolden_retriever\\t0.6989609999999999\\tTrue\\tchow\\t0.14597100000000002\\tTrue\\tPomeranian\\t0.034888\\tTrue\\n680115823365742593\\thttps://pbs.twimg.com/media/CXBBurSWMAELewi.jpg\\t1\\tpug\\t0.999365\\tTrue\\tFrench_bulldog\\t0.000543615\\tTrue\\tBoston_bull\\t2.8152800000000003e-05\\tTrue\\n680130881361686529\\thttps://pbs.twimg.com/media/CXBPbVtWAAA2Vus.jpg\\t1\\tMaltese_dog\\t0.199121\\tTrue\\tWest_Highland_white_terrier\\t0.197897\\tTrue\\tShih-Tzu\\t0.15713\\tTrue\\n680145970311643136\\thttps://pbs.twimg.com/media/CXBdJxLUsAAWql2.jpg\\t1\\tminiature_poodle\\t0.457117\\tTrue\\ttoy_poodle\\t0.226481\\tTrue\\tMaltese_dog\\t0.0676815\\tTrue\\n680161097740095489\\thttps://pbs.twimg.com/media/CXBq6RPWkAAaNuU.jpg\\t1\\tbluetick\\t0.268681\\tTrue\\tminiature_pinscher\\t0.12565199999999999\\tTrue\\tEnglish_setter\\t0.0893727\\tTrue\\n680176173301628928\\thttps://pbs.twimg.com/media/CXB4nWnWEAAhLTX.jpg\\t1\\tChristmas_stocking\\t0.20754699999999998\\tFalse\\tmask\\t0.19388\\tFalse\\tfeather_boa\\t0.152738\\tFalse\\n680191257256136705\\thttps://pbs.twimg.com/media/CXCGVXyWsAAAVHE.jpg\\t1\\tBrittany_spaniel\\t0.7332529999999999\\tTrue\\tWelsh_springer_spaniel\\t0.251634\\tTrue\\tEnglish_springer\\t0.00924321\\tTrue\\n680206703334408192\\thttps://pbs.twimg.com/media/CXCUYcRW8AAObYM.jpg\\t1\\tChristmas_stocking\\t0.149758\\tFalse\\tcloak\\t0.12883\\tFalse\\tteddy\\t0.10912899999999999\\tFalse\\n680221482581123072\\thttps://pbs.twimg.com/media/CXCh0QZW8AALdXm.jpg\\t1\\tbubble\\t0.240173\\tFalse\\then\\t0.146222\\tFalse\\tabaya\\t0.139342\\tFalse\\n680440374763077632\\thttps://pbs.twimg.com/ext_tw_video_thumb/680440290977693696/pu/img/B900g7b-n-zhnwi5.jpg\\t1\\tspace_heater\\t0.920367\\tFalse\\tradiator\\t0.0499332\\tFalse\\telectric_fan\\t0.00671903\\tFalse\\n680473011644985345\\thttps://pbs.twimg.com/media/CXGGlzvWYAArPfk.jpg\\t1\\tLakeland_terrier\\t0.796694\\tTrue\\tWest_Highland_white_terrier\\t0.138709\\tTrue\\tNorwich_terrier\\t0.016253399999999998\\tTrue\\n680494726643068929\\thttps://pbs.twimg.com/media/CXGaVxOWAAADjhF.jpg\\t1\\tkuvasz\\t0.43862700000000004\\tTrue\\tSamoyed\\t0.111622\\tTrue\\tGreat_Pyrenees\\t0.0640608\\tTrue\\n680497766108381184\\thttps://pbs.twimg.com/media/CXGdG0aWcAEbOO1.jpg\\t1\\tChihuahua\\t0.538354\\tTrue\\tmuzzle\\t0.0842887\\tFalse\\tski_mask\\t0.07669010000000001\\tFalse\\n680583894916304897\\thttps://pbs.twimg.com/media/CXHrcFYWcAEE5_L.jpg\\t1\\ttub\\t0.8898010000000001\\tFalse\\tbathtub\\t0.032351099999999994\\tFalse\\thippopotamus\\t0.0141773\\tFalse\\n680609293079592961\\thttps://pbs.twimg.com/media/CXICiB9UwAE1sKY.jpg\\t1\\tFrench_bulldog\\t0.700764\\tTrue\\tChihuahua\\t0.07238960000000001\\tTrue\\tAmerican_Staffordshire_terrier\\t0.03961869999999999\\tTrue\\n680798457301471234\\thttps://pbs.twimg.com/media/CXKuiyHUEAAMAGa.jpg\\t1\\tram\\t0.49976099999999996\\tFalse\\thog\\t0.28379499999999996\\tFalse\\tox\\t0.0674551\\tFalse\\n680801747103793152\\thttps://pbs.twimg.com/media/CXKxkseW8AAjAMY.jpg\\t1\\tpug\\t0.99672\\tTrue\\tLabrador_retriever\\t0.00143879\\tTrue\\tStaffordshire_bullterrier\\t0.000517603\\tTrue\\n680836378243002368\\thttps://pbs.twimg.com/media/CXLREjOW8AElfk6.jpg\\t3\\tPembroke\\t0.427781\\tTrue\\tShetland_sheepdog\\t0.160669\\tTrue\\tPomeranian\\t0.11125\\tTrue\\n680889648562991104\\thttps://pbs.twimg.com/media/CXMBhXfWEAA4mMI.jpg\\t1\\tShetland_sheepdog\\t0.876337\\tTrue\\tcollie\\t0.078331\\tTrue\\tPomeranian\\t0.0204075\\tTrue\\n680913438424612864\\thttps://pbs.twimg.com/media/CXMXKKHUMAA1QN3.jpg\\t1\\tPomeranian\\t0.615678\\tTrue\\tgolden_retriever\\t0.12645499999999998\\tTrue\\tChihuahua\\t0.0871836\\tTrue\\n680934982542561280\\thttps://pbs.twimg.com/media/CXMqwIQWcAA2iE0.jpg\\t1\\tLabrador_retriever\\t0.7843979999999999\\tTrue\\tSiberian_husky\\t0.0559251\\tTrue\\tbeagle\\t0.0227501\\tTrue\\n680940246314430465\\thttps://pbs.twimg.com/media/CXMvio7WQAAPZJj.jpg\\t1\\tsoft-coated_wheaten_terrier\\t0.289598\\tTrue\\tWest_Highland_white_terrier\\t0.157195\\tTrue\\ttoy_poodle\\t0.07443469999999999\\tTrue\\n680959110691590145\\thttps://pbs.twimg.com/media/CXNAsm6WsAEST9R.jpg\\t2\\tcarousel\\t0.500992\\tFalse\\tfeather_boa\\t0.06439\\tFalse\\tpug\\t0.0443565\\tTrue\\n680970795137544192\\thttps://pbs.twimg.com/media/CXNLU6wWkAE0OkJ.jpg\\t1\\tpug\\t0.713102\\tTrue\\twhippet\\t0.057426300000000007\\tTrue\\tquilt\\t0.0560181\\tFalse\\n681193455364796417\\thttps://pbs.twimg.com/media/CXQV03pWYAAVniz.jpg\\t1\\tPomeranian\\t0.992619\\tTrue\\tkeeshond\\t0.00435645\\tTrue\\tschipperke\\t0.000814\\tTrue\\n681231109724700672\\thttps://pbs.twimg.com/media/CXQ4EwQWwAEVaUf.jpg\\t1\\tIrish_setter\\t0.406047\\tTrue\\tcocker_spaniel\\t0.345646\\tTrue\\tAiredale\\t0.147912\\tTrue\\n681242418453299201\\thttps://pbs.twimg.com/media/CXRCXesVAAArSXt.jpg\\t1\\tmotor_scooter\\t0.255934\\tFalse\\trifle\\t0.145202\\tFalse\\tassault_rifle\\t0.0970001\\tFalse\\n681261549936340994\\thttps://pbs.twimg.com/media/CXRTw_5WMAAUDVp.jpg\\t1\\tTibetan_terrier\\t0.382101\\tTrue\\tminiature_poodle\\t0.0954294\\tTrue\\tMaltese_dog\\t0.0657377\\tTrue\\n681281657291280384\\thttps://pbs.twimg.com/media/CXRmDfWWMAADCdc.jpg\\t1\\tSaint_Bernard\\t0.9988299999999999\\tTrue\\tPekinese\\t0.000391312\\tTrue\\tGreat_Pyrenees\\t0.000223582\\tTrue\\n681297372102656000\\thttps://pbs.twimg.com/media/CXR0WJ_W8AMd_O8.jpg\\t1\\tLhasa\\t0.482401\\tTrue\\tShih-Tzu\\t0.11367200000000001\\tTrue\\tPomeranian\\t0.09622860000000001\\tTrue\\n681302363064414209\\thttps://pbs.twimg.com/media/CXR44l9WcAAcG_N.jpg\\t1\\tfrilled_lizard\\t0.326259\\tFalse\\ttailed_frog\\t0.104539\\tFalse\\taxolotl\\t0.0724793\\tFalse\\n681320187870711809\\thttps://pbs.twimg.com/media/CXSJGAQUQAAoG9Q.jpg\\t1\\tSamoyed\\t0.36259600000000003\\tTrue\\tEskimo_dog\\t0.24539499999999997\\tTrue\\tSiberian_husky\\t0.108232\\tTrue\\n681339448655802368\\thttps://pbs.twimg.com/media/CXSanNkWkAAqR9M.jpg\\t1\\tseat_belt\\t0.5324409999999999\\tFalse\\tLabrador_retriever\\t0.09461489999999999\\tTrue\\tkuvasz\\t0.089863\\tTrue\\n681523177663676416\\thttps://pbs.twimg.com/media/CXVBtX_WwAEuqbP.jpg\\t1\\tNorfolk_terrier\\t0.205067\\tTrue\\tGerman_shepherd\\t0.160439\\tTrue\\tchow\\t0.15623399999999998\\tTrue\\n681579835668455424\\thttps://pbs.twimg.com/media/CXV1Ot_W8AEpkQO.jpg\\t1\\tRottweiler\\t0.760671\\tTrue\\tLabrador_retriever\\t0.0965847\\tTrue\\tStaffordshire_bullterrier\\t0.040332599999999996\\tTrue\\n681610798867845120\\thttps://pbs.twimg.com/media/CXWRZBgWkAEHMea.jpg\\t1\\ttoy_poodle\\t0.8217040000000001\\tTrue\\tminiature_poodle\\t0.116042\\tTrue\\tYorkshire_terrier\\t0.014847200000000001\\tTrue\\n681654059175129088\\thttps://pbs.twimg.com/media/CXW4wGHWsAE_eBD.jpg\\t1\\tPomeranian\\t0.800538\\tTrue\\tchow\\t0.146892\\tTrue\\tPekinese\\t0.0376125\\tTrue\\n681679526984871937\\thttps://pbs.twimg.com/media/CXXP5O4WEAA4dgS.jpg\\t1\\tbirdhouse\\t0.472351\\tFalse\\tteddy\\t0.142058\\tFalse\\tpot\\t0.0329059\\tFalse\\n681694085539872773\\thttps://pbs.twimg.com/media/CXXdJ7CVAAALu23.jpg\\t1\\ttoy_poodle\\t0.920992\\tTrue\\tminiature_poodle\\t0.0608572\\tTrue\\tMaltese_dog\\t0.00606372\\tTrue\\n681891461017812993\\thttps://pbs.twimg.com/media/CXaQqGbWMAAKEgN.jpg\\t1\\tChihuahua\\t0.20357\\tTrue\\tdoormat\\t0.13431600000000002\\tFalse\\ttoy_terrier\\t0.0844823\\tTrue\\n681981167097122816\\thttps://pbs.twimg.com/media/CXbiQHmWcAAt6Lm.jpg\\t1\\tLabrador_retriever\\t0.45257700000000006\\tTrue\\tgolden_retriever\\t0.40342\\tTrue\\tbeagle\\t0.0694857\\tTrue\\n682003177596559360\\thttps://pbs.twimg.com/media/CXb2RcDUsAEnkJb.jpg\\t1\\ttriceratops\\t0.24987199999999998\\tFalse\\tchimpanzee\\t0.0609293\\tFalse\\tmask\\t0.050220999999999995\\tFalse\\n682032003584274432\\thttps://pbs.twimg.com/media/CXcQfUNUQAEwFoQ.jpg\\t1\\tschipperke\\t0.9979530000000001\\tTrue\\tgroenendael\\t0.000676435\\tTrue\\tminiature_pinscher\\t0.00021124599999999998\\tTrue\\n682047327939461121\\thttps://pbs.twimg.com/media/CXcebTeWsAUQJ-J.jpg\\t1\\tteddy\\t0.364095\\tFalse\\tdoormat\\t0.119243\\tFalse\\ttoyshop\\t0.035127099999999994\\tFalse\\n682059653698686977\\thttps://pbs.twimg.com/media/CXcpovWWMAAMcfv.jpg\\t2\\tjigsaw_puzzle\\t0.995873\\tFalse\\tSiamese_cat\\t0.000780885\\tFalse\\tpizza\\t0.00043248\\tFalse\\n682242692827447297\\thttps://pbs.twimg.com/media/CXfQG_fW8AAjVhV.jpg\\t1\\tsnorkel\\t0.504983\\tFalse\\tloggerhead\\t0.345298\\tFalse\\tscuba_diver\\t0.0747539\\tFalse\\n682259524040966145\\thttps://pbs.twimg.com/media/CXffar9WYAArfpw.jpg\\t1\\tSiberian_husky\\t0.43967\\tTrue\\tEskimo_dog\\t0.340474\\tTrue\\tmalamute\\t0.101253\\tTrue\\n682303737705140231\\thttps://pbs.twimg.com/media/CXgHoLnWAAA8i52.jpg\\t1\\tseat_belt\\t0.997659\\tFalse\\tLakeland_terrier\\t0.00173092\\tTrue\\tAiredale\\t0.00020361\\tTrue\\n682389078323662849\\thttps://pbs.twimg.com/media/CXhVKtvW8AAyiyK.jpg\\t1\\tcurly-coated_retriever\\t0.482288\\tTrue\\tflat-coated_retriever\\t0.315286\\tTrue\\tGreat_Dane\\t0.062178899999999995\\tTrue\\n682393905736888321\\thttps://pbs.twimg.com/media/CXhZom1UwAA4Zz6.jpg\\t1\\tvizsla\\t0.657275\\tTrue\\tpaddle\\t0.09028639999999999\\tFalse\\tRhodesian_ridgeback\\t0.0482283\\tTrue\\n682406705142087680\\thttps://pbs.twimg.com/media/CXhlRmRUMAIYoFO.jpg\\t1\\twombat\\t0.709344\\tFalse\\tkoala\\t0.169758\\tFalse\\tbeaver\\t0.0794334\\tFalse\\n682429480204398592\\thttps://pbs.twimg.com/media/CXh5_dDWQAIbU-J.jpg\\t1\\twhippet\\t0.594701\\tTrue\\tItalian_greyhound\\t0.314091\\tTrue\\tMexican_hairless\\t0.0377733\\tTrue\\n682638830361513985\\thttps://pbs.twimg.com/media/CXk4W0qWYAMEMEs.jpg\\t1\\tEnglish_springer\\t0.44078100000000003\\tTrue\\tCardigan\\t0.411182\\tTrue\\tBorder_collie\\t0.0224122\\tTrue\\n682662431982772225\\thttps://pbs.twimg.com/media/CXlN1-EWMAQdwXK.jpg\\t1\\tbeagle\\t0.41382399999999997\\tTrue\\tCardigan\\t0.26355300000000004\\tTrue\\tbasset\\t0.16761800000000002\\tTrue\\n682697186228989953\\thttps://pbs.twimg.com/media/CXltdtaWYAIuX_V.jpg\\t1\\tbald_eagle\\t0.097232\\tFalse\\ttorch\\t0.0966215\\tFalse\\tcliff\\t0.09038550000000001\\tFalse\\n682750546109968385\\thttps://pbs.twimg.com/media/CXmd_bsWkAEEXck.jpg\\t1\\tEnglish_setter\\t0.947198\\tTrue\\tEnglish_springer\\t0.031127699999999998\\tTrue\\tBrittany_spaniel\\t0.00551247\\tTrue\\n682788441537560576\\thttps://pbs.twimg.com/media/CXnAdosWAAEMGCM.jpg\\t1\\ttoyshop\\t0.37561\\tFalse\\torange\\t0.09453760000000001\\tFalse\\tteddy\\t0.0398082\\tFalse\\n682962037429899265\\thttps://pbs.twimg.com/media/CXpeVzQW8AApKYb.jpg\\t1\\tdingo\\t0.2786\\tFalse\\tChihuahua\\t0.15520699999999998\\tTrue\\tloupe\\t0.153598\\tFalse\\n683030066213818368\\thttps://pbs.twimg.com/media/CXqcOHCUQAAugTB.jpg\\t1\\tboxer\\t0.722218\\tTrue\\tbull_mastiff\\t0.193804\\tTrue\\tFrench_bulldog\\t0.0551937\\tTrue\\n683078886620553216\\thttps://pbs.twimg.com/media/CXrIntsUsAEkv0d.jpg\\t1\\tkoala\\t0.141432\\tFalse\\tEskimo_dog\\t0.0940442\\tTrue\\twallaby\\t0.0852365\\tFalse\\n683098815881154561\\thttps://pbs.twimg.com/media/CXrawAhWkAAWSxC.jpg\\t1\\tgolden_retriever\\t0.889848\\tTrue\\tkuvasz\\t0.0530082\\tTrue\\tLabrador_retriever\\t0.0378812\\tTrue\\n683111407806746624\\thttps://pbs.twimg.com/media/CXrmMSpUwAAdeRj.jpg\\t1\\tcocker_spaniel\\t0.901392\\tTrue\\tsoft-coated_wheaten_terrier\\t0.0286048\\tTrue\\tminiature_schnauzer\\t0.0178054\\tTrue\\n683142553609318400\\thttps://pbs.twimg.com/media/CXsChyjW8AQJ16C.jpg\\t1\\tLeonberg\\t0.605851\\tTrue\\tchow\\t0.18347\\tTrue\\tGerman_shepherd\\t0.0796619\\tTrue\\n683357973142474752\\thttps://pbs.twimg.com/media/CXvGbWeWMAcRbyJ.jpg\\t1\\tPembroke\\t0.406509\\tTrue\\tCardigan\\t0.154854\\tTrue\\tSiberian_husky\\t0.13636600000000001\\tTrue\\n683391852557561860\\thttps://pbs.twimg.com/media/CXvlQ2zW8AAE0tp.jpg\\t1\\tFrench_bulldog\\t0.992833\\tTrue\\tBoston_bull\\t0.00474863\\tTrue\\tpug\\t0.00139169\\tTrue\\n683449695444799489\\thttps://pbs.twimg.com/media/CXwZ3pbWsAAriTv.jpg\\t1\\tLakeland_terrier\\t0.303512\\tTrue\\tsoft-coated_wheaten_terrier\\t0.21142399999999997\\tTrue\\tgolden_retriever\\t0.170725\\tTrue\\n683462770029932544\\thttps://pbs.twimg.com/media/CXwlw9MWsAAc-JB.jpg\\t1\\tItalian_greyhound\\t0.39955999999999997\\tTrue\\twhippet\\t0.26715300000000003\\tTrue\\tGerman_short-haired_pointer\\t0.0813191\\tTrue\\n683481228088049664\\thttps://pbs.twimg.com/media/CXw2jSpWMAAad6V.jpg\\t1\\tkeeshond\\t0.508951\\tTrue\\tchow\\t0.44201599999999996\\tTrue\\tGerman_shepherd\\t0.013206\\tTrue\\n683498322573824003\\thttps://pbs.twimg.com/media/CXxGGOsUwAAr62n.jpg\\t1\\tAiredale\\t0.945362\\tTrue\\tIrish_terrier\\t0.02685\\tTrue\\tLakeland_terrier\\t0.016826400000000002\\tTrue\\n683742671509258241\\thttps://pbs.twimg.com/media/CX0kVRxWYAAWWZi.jpg\\t1\\tPembroke\\t0.895279\\tTrue\\tCardigan\\t0.022385\\tTrue\\tcocker_spaniel\\t0.0170452\\tTrue\\n683773439333797890\\thttps://pbs.twimg.com/media/CX1AUQ2UAAAC6s-.jpg\\t1\\tminiature_pinscher\\t0.0728852\\tTrue\\tLabrador_retriever\\t0.0578658\\tTrue\\tschipperke\\t0.0532566\\tTrue\\n683828599284170753\\thttps://pbs.twimg.com/media/CX1ye7HUMAADDzh.jpg\\t1\\tmalamute\\t0.577376\\tTrue\\tSiberian_husky\\t0.28713099999999997\\tTrue\\tEskimo_dog\\t0.11756300000000001\\tTrue\\n683834909291606017\\thttps://pbs.twimg.com/ext_tw_video_thumb/683834825250320385/pu/img/yZdrqMlyky4KGOu6.jpg\\t1\\tMaltese_dog\\t0.738449\\tTrue\\ttoy_poodle\\t0.10299200000000001\\tTrue\\tSamoyed\\t0.0232472\\tTrue\\n683849932751646720\\thttps://pbs.twimg.com/media/CX2F4qNUQAAR6Cm.jpg\\t1\\thog\\t0.458855\\tFalse\\tMexican_hairless\\t0.164906\\tTrue\\twild_boar\\t0.1117\\tFalse\\n683852578183077888\\thttps://pbs.twimg.com/media/CX2ISqSWYAAEtCF.jpg\\t1\\ttoy_poodle\\t0.5513520000000001\\tTrue\\tteddy\\t0.180678\\tFalse\\tminiature_poodle\\t0.164095\\tTrue\\n683857920510050305\\thttps://pbs.twimg.com/media/CX2NJmRWYAAxz_5.jpg\\t1\\tbluetick\\t0.174738\\tTrue\\tShetland_sheepdog\\t0.126101\\tTrue\\tbeagle\\t0.12288699999999998\\tTrue\\n684097758874210310\\thttps://pbs.twimg.com/media/CX5nR5oWsAAiclh.jpg\\t1\\tLabrador_retriever\\t0.6278560000000001\\tTrue\\tGerman_short-haired_pointer\\t0.173675\\tTrue\\tChesapeake_Bay_retriever\\t0.041341699999999995\\tTrue\\n684122891630342144\\thttps://pbs.twimg.com/media/CX5-HslWQAIiXKB.jpg\\t1\\tcheetah\\t0.8221930000000001\\tFalse\\tArabian_camel\\t0.0469761\\tFalse\\tjaguar\\t0.0257848\\tFalse\\n684177701129875456\\thttps://pbs.twimg.com/media/CX6v_JOWsAE0beZ.jpg\\t1\\tchow\\t0.334783\\tTrue\\tGerman_shepherd\\t0.162647\\tTrue\\tgolden_retriever\\t0.13861199999999999\\tTrue\\n684188786104872960\\thttps://pbs.twimg.com/media/CX66EiJWkAAVjA-.jpg\\t1\\tkelpie\\t0.537782\\tTrue\\tAmerican_Staffordshire_terrier\\t0.08295319999999999\\tTrue\\tStaffordshire_bullterrier\\t0.0697599\\tTrue\\n684195085588783105\\thttps://pbs.twimg.com/media/CX6_y6OU0AAl3v2.jpg\\t1\\tChihuahua\\t0.379365\\tTrue\\ttoy_terrier\\t0.12180899999999999\\tTrue\\tBoston_bull\\t0.0959809\\tTrue\\n684200372118904832\\thttps://pbs.twimg.com/media/CX7EkuHWkAESLZk.jpg\\t1\\tllama\\t0.681347\\tFalse\\tram\\t0.12014200000000001\\tFalse\\thog\\t0.043685800000000004\\tFalse\\n684222868335505415\\thttps://pbs.twimg.com/media/CX7Y_ByWwAEJdUy.jpg\\t1\\tsoft-coated_wheaten_terrier\\t0.7911819999999999\\tTrue\\tcocker_spaniel\\t0.0724441\\tTrue\\tteddy\\t0.0714865\\tFalse\\n684225744407494656\\thttps://pbs.twimg.com/media/CX7br3HWsAAQ9L1.jpg\\t2\\tgolden_retriever\\t0.203249\\tTrue\\tSamoyed\\t0.06795810000000001\\tTrue\\tGreat_Pyrenees\\t0.0653275\\tTrue\\n684241637099323392\\thttps://pbs.twimg.com/media/CX7qIcdWcAELJ7N.jpg\\t1\\tPembroke\\t0.508498\\tTrue\\tblack-footed_ferret\\t0.115532\\tFalse\\tweasel\\t0.051280099999999995\\tFalse\\n684460069371654144\\thttps://pbs.twimg.com/media/CX-wzZEUwAA4ISM.jpg\\t1\\tLabrador_retriever\\t0.673691\\tTrue\\tChesapeake_Bay_retriever\\t0.19489700000000001\\tTrue\\tAmerican_Staffordshire_terrier\\t0.059471300000000005\\tTrue\\n684481074559381504\\thttps://pbs.twimg.com/media/CX_D6AJWwAAnBIw.jpg\\t1\\tChihuahua\\t0.93781\\tTrue\\tPomeranian\\t0.0203067\\tTrue\\tpolecat\\t0.017357\\tFalse\\n684538444857667585\\thttps://pbs.twimg.com/ext_tw_video_thumb/684538367950872576/pu/img/kTKOkSU45BS-fpq8.jpg\\t1\\tChihuahua\\t0.702583\\tTrue\\tSiamese_cat\\t0.0682181\\tFalse\\tmacaque\\t0.0433246\\tFalse\\n684567543613382656\\thttps://pbs.twimg.com/media/CYASi6FWQAEQMW2.jpg\\t1\\tminibus\\t0.401942\\tFalse\\tllama\\t0.229145\\tFalse\\tseat_belt\\t0.209393\\tFalse\\n684594889858887680\\thttps://pbs.twimg.com/media/CYAra7JWsAACPZH.jpg\\t1\\tWeimaraner\\t0.9486879999999999\\tTrue\\tEnglish_setter\\t0.0353524\\tTrue\\tBrittany_spaniel\\t0.00387878\\tTrue\\n684800227459624960\\thttps://pbs.twimg.com/media/CYDmK7ZVAAI_ylL.jpg\\t1\\tminiature_schnauzer\\t0.294457\\tTrue\\tNorfolk_terrier\\t0.161885\\tTrue\\tWest_Highland_white_terrier\\t0.120992\\tTrue\\n684880619965411328\\thttps://pbs.twimg.com/media/CYEvSaRWwAAukZ_.jpg\\t1\\tclog\\t0.08110099999999999\\tFalse\\tspindle\\t0.0669566\\tFalse\\tagama\\t0.0608837\\tFalse\\n684902183876321280\\thttps://pbs.twimg.com/media/CYFC5lmWAAAEIho.jpg\\t1\\tPembroke\\t0.708034\\tTrue\\tCardigan\\t0.29144699999999996\\tTrue\\tdingo\\t0.000184561\\tFalse\\n684914660081053696\\thttps://pbs.twimg.com/media/CYFOP6cWEAAWp-k.jpg\\t1\\tshopping_cart\\t0.46095\\tFalse\\tchow\\t0.261288\\tTrue\\tLabrador_retriever\\t0.0741938\\tTrue\\n684926975086034944\\thttps://pbs.twimg.com/media/CYFZXdiU0AAc_kw.jpg\\t1\\tLabrador_retriever\\t0.769412\\tTrue\\tgolden_retriever\\t0.144893\\tTrue\\tlion\\t0.0214398\\tFalse\\n684940049151070208\\thttps://pbs.twimg.com/media/CYFlVUFWwAAEsWX.jpg\\t2\\tBorder_collie\\t0.665578\\tTrue\\tcollie\\t0.176846\\tTrue\\tOld_English_sheepdog\\t0.0651747\\tTrue\\n684959798585110529\\thttps://pbs.twimg.com/media/CYF3TSlWMAAaoG5.jpg\\t1\\tllama\\t0.37962399999999996\\tFalse\\ttriceratops\\t0.162761\\tFalse\\thog\\t0.0842515\\tFalse\\n685169283572338688\\thttps://pbs.twimg.com/media/CYI10WhWsAAjzii.jpg\\t1\\tBernese_mountain_dog\\t0.975096\\tTrue\\tAppenzeller\\t0.0145781\\tTrue\\tEntleBucher\\t0.00594348\\tTrue\\n685198997565345792\\thttps://pbs.twimg.com/media/CYJQxvJW8AAkkws.jpg\\t1\\tdishwasher\\t0.8888290000000001\\tFalse\\tstove\\t0.013411500000000002\\tFalse\\tOld_English_sheepdog\\t0.00967138\\tTrue\\n685268753634967552\\thttps://pbs.twimg.com/media/CYKQS0xUQAEOptC.jpg\\t1\\tpug\\t0.999044\\tTrue\\tNorwegian_elkhound\\t0.000546586\\tTrue\\tbull_mastiff\\t0.000235195\\tTrue\\n685307451701334016\\thttps://pbs.twimg.com/media/CYKzfTTWMAEeTN7.jpg\\t1\\tPomeranian\\t0.963176\\tTrue\\tShetland_sheepdog\\t0.0194683\\tTrue\\tkeeshond\\t0.00860493\\tTrue\\n685315239903100929\\thttps://pbs.twimg.com/media/CYK6kf0WMAAzP-0.jpg\\t2\\tchow\\t0.47016199999999997\\tTrue\\tPomeranian\\t0.15967699999999999\\tTrue\\tEskimo_dog\\t0.105074\\tTrue\\n685321586178670592\\thttps://pbs.twimg.com/media/CYLAWFMWMAEcRzb.jpg\\t1\\tBoston_bull\\t0.972483\\tTrue\\tFrench_bulldog\\t0.025469299999999997\\tTrue\\tboxer\\t0.000457544\\tTrue\\n685325112850124800\\thttps://pbs.twimg.com/media/CYLDikFWEAAIy1y.jpg\\t1\\tgolden_retriever\\t0.586937\\tTrue\\tLabrador_retriever\\t0.39826\\tTrue\\tkuvasz\\t0.00540969\\tTrue\\n685532292383666176\\thttps://pbs.twimg.com/media/CYN_-6iW8AQhPu2.jpg\\t1\\twhite_wolf\\t0.318524\\tFalse\\tdingo\\t0.21543600000000002\\tFalse\\tcollie\\t0.09580520000000001\\tTrue\\n685547936038666240\\thttps://pbs.twimg.com/media/CYOONfZW8AA7IOA.jpg\\t1\\tweb_site\\t0.9239870000000001\\tFalse\\toscilloscope\\t0.00971237\\tFalse\\thand-held_computer\\t0.00876857\\tFalse\\n685641971164143616\\thttps://pbs.twimg.com/media/CYPjvFqW8AAgiP2.jpg\\t1\\tLakeland_terrier\\t0.253839\\tTrue\\tAiredale\\t0.21334899999999998\\tTrue\\tthree-toed_sloth\\t0.0838341\\tFalse\\n685663452032069632\\thttps://pbs.twimg.com/ext_tw_video_thumb/685663358637486080/pu/img/3cXSHFZAgJQ_dDCf.jpg\\t1\\tChesapeake_Bay_retriever\\t0.171174\\tTrue\\ttennis_ball\\t0.090644\\tFalse\\tracket\\t0.0485077\\tFalse\\n685667379192414208\\thttps://pbs.twimg.com/media/CYP62A6WkAAOnL4.jpg\\t1\\tsliding_door\\t0.344526\\tFalse\\tdoormat\\t0.190027\\tFalse\\twashbasin\\t0.046326400000000004\\tFalse\\n685906723014619143\\thttps://pbs.twimg.com/media/CYTUhn7WkAEXocW.jpg\\t1\\tYorkshire_terrier\\t0.414963\\tTrue\\tbriard\\t0.0635052\\tTrue\\tPekinese\\t0.0536822\\tTrue\\n685943807276412928\\thttps://pbs.twimg.com/ext_tw_video_thumb/685943751555051520/pu/img/rlBvQWaFPUMx1MTi.jpg\\t1\\tpapillon\\t0.200812\\tTrue\\ttoy_terrier\\t0.11451199999999999\\tTrue\\tCardigan\\t0.09451960000000001\\tTrue\\n685973236358713344\\thttps://pbs.twimg.com/media/CYURBGoWYAAKey3.jpg\\t1\\tSiberian_husky\\t0.45067799999999997\\tTrue\\tEskimo_dog\\t0.430275\\tTrue\\tmalamute\\t0.11859000000000001\\tTrue\\n686003207160610816\\thttps://pbs.twimg.com/media/CYUsRsbWAAAUt4Y.jpg\\t1\\tdamselfly\\t0.19078599999999998\\tFalse\\tcommon_newt\\t0.0981314\\tFalse\\twhiptail\\t0.0889582\\tFalse\\n686007916130873345\\thttps://pbs.twimg.com/media/CYUwjz-UAAEcdi8.jpg\\t1\\tRhodesian_ridgeback\\t0.885301\\tTrue\\tredbone\\t0.0423354\\tTrue\\tseat_belt\\t0.010493\\tFalse\\n686034024800862208\\thttps://pbs.twimg.com/media/CYVIToGWQAAEZ_y.jpg\\t1\\tGreat_Dane\\t0.23692\\tTrue\\tIrish_wolfhound\\t0.11760799999999999\\tTrue\\tGreater_Swiss_Mountain_dog\\t0.1039\\tTrue\\n686050296934563840\\thttps://pbs.twimg.com/media/CYVXBb9WsAAwL3p.jpg\\t1\\tPomeranian\\t0.9857889999999999\\tTrue\\tkeeshond\\t0.00408291\\tTrue\\tPekinese\\t0.00333366\\tTrue\\n686358356425093120\\thttps://pbs.twimg.com/media/CYZvRttWYAE_RXc.jpg\\t1\\tpug\\t0.985237\\tTrue\\tbull_mastiff\\t0.00884062\\tTrue\\tboxer\\t0.00232143\\tTrue\\n686377065986265092\\thttps://pbs.twimg.com/media/CYaAS2kUoAINkye.jpg\\t1\\tGerman_shepherd\\t0.830816\\tTrue\\tLeonberg\\t0.0763252\\tTrue\\tbloodhound\\t0.0374486\\tTrue\\n686386521809772549\\thttps://pbs.twimg.com/media/CYaI5aaW8AE8Uyk.jpg\\t1\\tYorkshire_terrier\\t0.477704\\tTrue\\tsilky_terrier\\t0.171673\\tTrue\\tAustralian_terrier\\t0.08833400000000001\\tTrue\\n686606069955735556\\thttps://pbs.twimg.com/media/CYdQktMWsAEI29_.jpg\\t1\\tLabrador_retriever\\t0.32001199999999996\\tTrue\\tIbizan_hound\\t0.20817199999999997\\tTrue\\tSaluki\\t0.0789747\\tTrue\\n686618349602762752\\thttps://pbs.twimg.com/media/CYdbvwjWcAEtjYu.jpg\\t1\\tRottweiler\\t0.44133100000000003\\tTrue\\tminiature_pinscher\\t0.23318000000000003\\tTrue\\tGordon_setter\\t0.093582\\tTrue\\n686683045143953408\\thttps://pbs.twimg.com/media/CYeWlh0WAAADhsj.jpg\\t1\\tNorwich_terrier\\t0.100499\\tTrue\\tcocker_spaniel\\t0.0806711\\tTrue\\tgolden_retriever\\t0.0794062\\tTrue\\n686730991906516992\\thttps://pbs.twimg.com/media/CYfCMdFWAAA44YA.jpg\\t1\\tTibetan_mastiff\\t0.338812\\tTrue\\tNewfoundland\\t0.180925\\tTrue\\tgolden_retriever\\t0.180023\\tTrue\\n686749460672679938\\thttps://pbs.twimg.com/media/CYfS75fWAAAllde.jpg\\t1\\tcheeseburger\\t0.643808\\tFalse\\thotdog\\t0.201378\\tFalse\\tbagel\\t0.0638797\\tFalse\\n686947101016735744\\thttps://pbs.twimg.com/media/CYiGvn-UwAEe4wL.jpg\\t1\\trefrigerator\\t0.799795\\tFalse\\tmedicine_chest\\t0.182538\\tFalse\\tice_bear\\t0.00143058\\tFalse\\n687096057537363968\\thttps://pbs.twimg.com/media/CYkON6CVAAAPXAc.jpg\\t1\\tLabrador_retriever\\t0.41710699999999995\\tTrue\\tChesapeake_Bay_retriever\\t0.34173000000000003\\tTrue\\tGerman_short-haired_pointer\\t0.177702\\tTrue\\n687102708889812993\\thttps://pbs.twimg.com/media/CYkURJjW8AEamoI.jpg\\t1\\tfiddler_crab\\t0.9920690000000001\\tFalse\\tquail\\t0.0024906\\tFalse\\trock_crab\\t0.00151257\\tFalse\\n687109925361856513\\thttps://pbs.twimg.com/media/CYka1NTWMAAOclP.jpg\\t2\\tborzoi\\t0.883086\\tTrue\\twhippet\\t0.0229336\\tTrue\\tSaluki\\t0.0216056\\tTrue\\n687124485711986689\\thttps://pbs.twimg.com/media/CYkoE10WEAAWqxm.jpg\\t1\\tcar_mirror\\t0.9971209999999999\\tFalse\\tseat_belt\\t0.00037508699999999997\\tFalse\\tbeagle\\t0.00021620599999999998\\tTrue\\n687127927494963200\\thttps://pbs.twimg.com/media/CYkrNIVWcAMswmP.jpg\\t1\\tpug\\t0.178205\\tTrue\\tChihuahua\\t0.14916400000000002\\tTrue\\tShih-Tzu\\t0.120505\\tTrue\\n687312378585812992\\thttps://pbs.twimg.com/media/CYnS9VWW8AAeR8m.jpg\\t1\\tseat_belt\\t0.703561\\tFalse\\tGreat_Dane\\t0.139909\\tTrue\\tWeimaraner\\t0.0211125\\tTrue\\n687317306314240000\\thttps://pbs.twimg.com/media/CYnXcLEUkAAIQOM.jpg\\t1\\tShih-Tzu\\t0.747208\\tTrue\\tMaltese_dog\\t0.09102539999999999\\tTrue\\tLhasa\\t0.0357878\\tTrue\\n687460506001633280\\thttps://pbs.twimg.com/media/CYpZrtDWwAE8Kpw.jpg\\t1\\tBoston_bull\\t0.22336599999999998\\tTrue\\tboxer\\t0.183596\\tTrue\\tFrench_bulldog\\t0.17691600000000002\\tTrue\\n687476254459715584\\thttps://pbs.twimg.com/media/CYpoAZTWEAA6vDs.jpg\\t1\\twood_rabbit\\t0.702725\\tFalse\\tAngora\\t0.190659\\tFalse\\thare\\t0.105072\\tFalse\\n687480748861947905\\thttps://pbs.twimg.com/media/CYpsFmIWAAAYh9C.jpg\\t1\\tEnglish_springer\\t0.47227299999999994\\tTrue\\tEnglish_setter\\t0.16686199999999998\\tTrue\\tBrittany_spaniel\\t0.163411\\tTrue\\n687494652870668288\\thttps://pbs.twimg.com/media/CYp4vFrVAAEs9AX.jpg\\t1\\tRottweiler\\t0.391471\\tTrue\\tminiature_pinscher\\t0.273595\\tTrue\\tTibetan_mastiff\\t0.041691900000000004\\tTrue\\n687664829264453632\\thttps://pbs.twimg.com/media/CYsTg1XUsAEPjxE.jpg\\t1\\tpug\\t0.9573649999999999\\tTrue\\tFrench_bulldog\\t0.0385587\\tTrue\\ttoy_poodle\\t0.0006673610000000001\\tTrue\\n687704180304273409\\thttps://pbs.twimg.com/media/CYs3TKzUAAAF9A2.jpg\\t1\\tminiature_pinscher\\t0.9560629999999999\\tTrue\\ttoy_terrier\\t0.0122306\\tTrue\\tChihuahua\\t0.00539748\\tTrue\\n687807801670897665\\thttps://pbs.twimg.com/media/CYuVi9pWwAAbOGC.jpg\\t1\\tStaffordshire_bullterrier\\t0.151113\\tTrue\\tboxer\\t0.135697\\tTrue\\tAmerican_Staffordshire_terrier\\t0.0865912\\tTrue\\n687818504314159109\\thttps://pbs.twimg.com/media/CYufR8_WQAAWCqo.jpg\\t1\\tLakeland_terrier\\t0.873029\\tTrue\\tsoft-coated_wheaten_terrier\\t0.0609242\\tTrue\\ttoy_poodle\\t0.0170309\\tTrue\\n687826841265172480\\thttps://pbs.twimg.com/media/CYum3KbWEAArFrI.jpg\\t1\\tPomeranian\\t0.99721\\tTrue\\tPekinese\\t0.0008032410000000001\\tTrue\\tkeeshond\\t0.000372515\\tTrue\\n688064179421470721\\thttps://pbs.twimg.com/media/CYx-tGaUoAAEXV8.jpg\\t1\\tEskimo_dog\\t0.240602\\tTrue\\tNorwegian_elkhound\\t0.180369\\tTrue\\tSiberian_husky\\t0.09073880000000001\\tTrue\\n688116655151435777\\thttps://pbs.twimg.com/media/CYyucekVAAESj8K.jpg\\t1\\tpug\\t0.9738190000000001\\tTrue\\tChihuahua\\t0.010891\\tTrue\\tStaffordshire_bullterrier\\t0.00686389\\tTrue\\n688179443353796608\\thttps://pbs.twimg.com/media/CYznjAcUEAQ5Zq7.jpg\\t1\\tsorrel\\t0.81152\\tFalse\\thorse_cart\\t0.024820099999999998\\tFalse\\tArabian_camel\\t0.0151553\\tFalse\\n688211956440801280\\thttps://pbs.twimg.com/ext_tw_video_thumb/688211379870806016/pu/img/OI0VTwPYnsScQg8R.jpg\\t1\\tbannister\\t0.36944899999999997\\tFalse\\tfour-poster\\t0.105307\\tFalse\\tshoji\\t0.0987669\\tFalse\\n688385280030670848\\thttps://pbs.twimg.com/media/CY2iwGNWUAI5zWi.jpg\\t2\\tgolden_retriever\\t0.900437\\tTrue\\tcocker_spaniel\\t0.0222925\\tTrue\\tsombrero\\t0.0149968\\tFalse\\n688519176466644993\\thttps://pbs.twimg.com/media/CY4ciRFUMAAovos.jpg\\t1\\tPembroke\\t0.696372\\tTrue\\tCardigan\\t0.12105199999999999\\tTrue\\tShetland_sheepdog\\t0.050592000000000005\\tTrue\\n688547210804498433\\thttps://pbs.twimg.com/media/CY42CFWW8AACOwt.jpg\\t1\\tpapillon\\t0.531279\\tTrue\\tBlenheim_spaniel\\t0.21419699999999997\\tTrue\\tBorder_collie\\t0.0538399\\tTrue\\n688789766343622656\\thttps://pbs.twimg.com/media/CY8SocAWsAARuyh.jpg\\t1\\tAmerican_Staffordshire_terrier\\t0.5996600000000001\\tTrue\\tStaffordshire_bullterrier\\t0.38097600000000004\\tTrue\\tbull_mastiff\\t0.00388902\\tTrue\\n688804835492233216\\thttps://pbs.twimg.com/media/CY8gWFRWUAAm1XL.jpg\\t3\\tmalinois\\t0.199512\\tTrue\\tGerman_shepherd\\t0.0967973\\tTrue\\tSaluki\\t0.0828482\\tTrue\\n688828561667567616\\thttps://pbs.twimg.com/media/CY816snW8AYltrQ.jpg\\t1\\tCardigan\\t0.6142310000000001\\tTrue\\tskunk\\t0.13939200000000002\\tFalse\\ttoilet_tissue\\t0.0311582\\tFalse\\n688894073864884227\\thttps://pbs.twimg.com/media/CY9xf1dUAAE4XLc.jpg\\t1\\thog\\t0.669996\\tFalse\\tguinea_pig\\t0.077347\\tFalse\\thamster\\t0.062398199999999994\\tFalse\\n688898160958271489\\thttps://pbs.twimg.com/media/CY91OENWUAE5agj.jpg\\t1\\tIbizan_hound\\t0.8531700000000001\\tTrue\\tChihuahua\\t0.039897300000000004\\tTrue\\tItalian_greyhound\\t0.0352196\\tTrue\\n688908934925697024\\thttps://pbs.twimg.com/media/CY9_BOYWkAAkuzn.jpg\\t1\\tcrane\\t0.158859\\tFalse\\tpier\\t0.13001600000000002\\tFalse\\tbell_cote\\t0.0877414\\tFalse\\n688916208532455424\\thttps://pbs.twimg.com/media/CY-Fn1FWEAQhzhs.jpg\\t1\\tPembroke\\t0.430544\\tTrue\\tred_fox\\t0.206576\\tFalse\\tPomeranian\\t0.154352\\tTrue\\n689143371370250240\\thttps://pbs.twimg.com/media/CZBUO2UWsAAKehS.jpg\\t1\\tEnglish_springer\\t0.30378099999999997\\tTrue\\tpapillon\\t0.165132\\tTrue\\tWelsh_springer_spaniel\\t0.149051\\tTrue\\n689154315265683456\\thttps://pbs.twimg.com/media/CZBeMMVUwAEdVqI.jpg\\t1\\tcocker_spaniel\\t0.816044\\tTrue\\tgolden_retriever\\t0.05413540000000001\\tTrue\\tAiredale\\t0.0306481\\tTrue\\n689275259254616065\\thttps://pbs.twimg.com/media/CZDMMY0WEAAQYjQ.jpg\\t1\\tAmerican_Staffordshire_terrier\\t0.21516100000000002\\tTrue\\tChesapeake_Bay_retriever\\t0.0790509\\tTrue\\tDoberman\\t0.0702259\\tTrue\\n689280876073582592\\thttps://pbs.twimg.com/media/CZDRTAPUoAEaqxF.jpg\\t3\\tChihuahua\\t0.6375460000000001\\tTrue\\tAmerican_Staffordshire_terrier\\t0.150694\\tTrue\\tStaffordshire_bullterrier\\t0.103953\\tTrue\\n689283819090870273\\thttps://pbs.twimg.com/media/CZDT-mZWsAEK9BH.jpg\\t1\\tScotch_terrier\\t0.267979\\tTrue\\taffenpinscher\\t0.19961900000000002\\tTrue\\tcairn\\t0.127469\\tTrue\\n689289219123089408\\thttps://pbs.twimg.com/ext_tw_video_thumb/689289176076959744/pu/img/hEFkFtmMu_hkTlxK.jpg\\t1\\tsnowmobile\\t0.25464200000000003\\tFalse\\tassault_rifle\\t0.129558\\tFalse\\trifle\\t0.110875\\tFalse\\n689517482558820352\\thttps://pbs.twimg.com/media/CZGofjJW0AINjN9.jpg\\t1\\tPembroke\\t0.799319\\tTrue\\tCardigan\\t0.18953699999999998\\tTrue\\tpapillon\\t0.00338619\\tTrue\\n689557536375177216\\thttps://pbs.twimg.com/media/CZHM60BWIAA4AY4.jpg\\t1\\tEskimo_dog\\t0.169482\\tTrue\\tSiberian_husky\\t0.161655\\tTrue\\tdingo\\t0.15441400000000002\\tFalse\\n689599056876867584\\thttps://pbs.twimg.com/media/CZHyrvOXEAEin-A.jpg\\t1\\tdogsled\\t0.426494\\tFalse\\tcocker_spaniel\\t0.07310139999999998\\tTrue\\tChihuahua\\t0.0703229\\tTrue\\n689623661272240129\\thttps://pbs.twimg.com/media/CZIJD2SWIAMJgNI.jpg\\t1\\ttoy_poodle\\t0.279604\\tTrue\\tmashed_potato\\t0.208564\\tFalse\\tLabrador_retriever\\t0.07748089999999999\\tTrue\\n689659372465688576\\thttps://pbs.twimg.com/media/CZIpimOWcAETFRt.jpg\\t1\\tbustard\\t0.225221\\tFalse\\tkoala\\t0.057625300000000004\\tFalse\\tgoose\\t0.053568899999999996\\tFalse\\n689661964914655233\\thttps://pbs.twimg.com/media/CZIr5gFUsAAvnif.jpg\\t1\\tItalian_greyhound\\t0.322818\\tTrue\\twhippet\\t0.246966\\tTrue\\tChihuahua\\t0.12254100000000001\\tTrue\\n689835978131935233\\thttps://pbs.twimg.com/media/CZLKJpDWQAA-5u4.jpg\\t1\\tcollie\\t0.600186\\tTrue\\tShetland_sheepdog\\t0.298939\\tTrue\\tborzoi\\t0.022615599999999996\\tTrue\\n689877686181715968\\thttps://pbs.twimg.com/media/CZLwGAIWQAIYsTx.jpg\\t1\\tOld_English_sheepdog\\t0.26915500000000003\\tTrue\\tTibetan_terrier\\t0.111496\\tTrue\\tLakeland_terrier\\t0.104939\\tTrue\\n689905486972461056\\thttps://pbs.twimg.com/media/CZMJYCRVAAE35Wk.jpg\\t4\\tPomeranian\\t0.9433309999999999\\tTrue\\tShetland_sheepdog\\t0.023675099999999998\\tTrue\\tchow\\t0.00716495\\tTrue\\n689977555533848577\\thttps://pbs.twimg.com/media/CZNK7NpWwAEAqUh.jpg\\t1\\tcowboy_hat\\t0.291081\\tFalse\\tLabrador_retriever\\t0.179625\\tTrue\\tsombrero\\t0.121493\\tFalse\\n689999384604450816\\thttps://pbs.twimg.com/media/CZNexghWAAAYnT-.jpg\\t1\\tstandard_poodle\\t0.444499\\tTrue\\tEnglish_springer\\t0.12983\\tTrue\\tpug\\t0.0738057\\tTrue\\n690005060500217858\\thttps://pbs.twimg.com/media/CZNj8N-WQAMXASZ.jpg\\t1\\tSamoyed\\t0.270287\\tTrue\\tGreat_Pyrenees\\t0.114027\\tTrue\\tteddy\\t0.0724748\\tFalse\\n690015576308211712\\thttps://pbs.twimg.com/media/CZNtgWhWkAAbq3W.jpg\\t2\\tmalamute\\t0.949609\\tTrue\\tSiberian_husky\\t0.0330837\\tTrue\\tEskimo_dog\\t0.016662700000000003\\tTrue\\n690021994562220032\\thttps://pbs.twimg.com/media/CZNzV6cW0AAsX7p.jpg\\t1\\tbadger\\t0.28955\\tFalse\\tweasel\\t0.0991402\\tFalse\\tmalamute\\t0.040695800000000004\\tTrue\\n690248561355657216\\thttps://pbs.twimg.com/media/CZRBZ9mWkAAWblt.jpg\\t1\\tmotor_scooter\\t0.38269000000000003\\tFalse\\tmoped\\t0.318017\\tFalse\\tpickup\\t0.0406254\\tFalse\\n690360449368465409\\thttps://pbs.twimg.com/media/CZSnKw8WwAAAN7q.jpg\\t1\\tpug\\t0.686933\\tTrue\\tFrench_bulldog\\t0.0763587\\tTrue\\tBrabancon_griffon\\t0.035006999999999996\\tTrue\\n690374419777196032\\thttps://pbs.twimg.com/media/CZSz3vWXEAACElU.jpg\\t1\\tkuvasz\\t0.28634499999999996\\tTrue\\tLabrador_retriever\\t0.107144\\tTrue\\tice_bear\\t0.0850858\\tFalse\\n690400367696297985\\thttps://pbs.twimg.com/media/CZTLeBuWIAAFkeR.jpg\\t1\\tPembroke\\t0.42645900000000003\\tTrue\\tpapillon\\t0.317368\\tTrue\\tShetland_sheepdog\\t0.07761599999999999\\tTrue\\n690597161306841088\\thttps://pbs.twimg.com/media/CZV-c9NVIAEWtiU.jpg\\t1\\tLhasa\\t0.0974997\\tTrue\\tkoala\\t0.0919339\\tFalse\\tsunglasses\\t0.0915048\\tFalse\\n690649993829576704\\thttps://pbs.twimg.com/media/CZWugJsWYAIzVzJ.jpg\\t1\\tbighorn\\t0.21543800000000002\\tFalse\\thyena\\t0.137928\\tFalse\\tMexican_hairless\\t0.0981708\\tTrue\\n690690673629138944\\thttps://pbs.twimg.com/media/CZXTgKkWwAA5UZJ.jpg\\t1\\tbath_towel\\t0.19453199999999998\\tFalse\\tradiator\\t0.127776\\tFalse\\tMaltese_dog\\t0.08962460000000001\\tTrue\\n690728923253055490\\thttps://pbs.twimg.com/media/CZX2SxaXEAEcnR6.jpg\\t1\\tkuvasz\\t0.422806\\tTrue\\tgolden_retriever\\t0.291586\\tTrue\\tGreat_Pyrenees\\t0.0761892\\tTrue\\n690735892932222976\\thttps://pbs.twimg.com/media/CZX8nyeVAAEstKM.jpg\\t1\\tgolden_retriever\\t0.883229\\tTrue\\tLabrador_retriever\\t0.109635\\tTrue\\tkuvasz\\t0.00279507\\tTrue\\n690932576555528194\\thttps://pbs.twimg.com/media/CZavgf4WkAARpFM.jpg\\t1\\tsnorkel\\t0.526536\\tFalse\\tmuzzle\\t0.0480888\\tFalse\\tscuba_diver\\t0.03422619999999999\\tFalse\\n690938899477221376\\thttps://pbs.twimg.com/media/CZa1QnSWEAAEOVr.jpg\\t1\\tgeyser\\t0.370318\\tFalse\\tseashore\\t0.274888\\tFalse\\tbeacon\\t0.046397\\tFalse\\n690959652130045952\\thttps://pbs.twimg.com/media/CZbIIM-WkAIPClg.jpg\\t2\\tgolden_retriever\\t0.862964\\tTrue\\tLabrador_retriever\\t0.044865300000000004\\tTrue\\tSaluki\\t0.0124678\\tTrue\\n691090071332753408\\thttps://pbs.twimg.com/media/CZc-u7IXEAQHV1N.jpg\\t1\\tbarrow\\t0.241637\\tFalse\\ttub\\t0.23845\\tFalse\\tbathtub\\t0.167285\\tFalse\\n691096613310316544\\thttps://pbs.twimg.com/media/CZdEq-AUMAAWayR.jpg\\t1\\tborzoi\\t0.44126899999999997\\tTrue\\tllama\\t0.27826999999999996\\tFalse\\tArabian_camel\\t0.06350349999999999\\tFalse\\n691321916024623104\\thttps://pbs.twimg.com/media/CZgRmk0UcAAxeuQ.jpg\\t1\\tRottweiler\\t0.508981\\tTrue\\tGerman_shepherd\\t0.20789699999999997\\tTrue\\tkelpie\\t0.0943533\\tTrue\\n691416866452082688\\thttps://pbs.twimg.com/media/CZhn-QAWwAASQan.jpg\\t1\\tLakeland_terrier\\t0.530104\\tTrue\\tIrish_terrier\\t0.19731400000000002\\tTrue\\tAiredale\\t0.08251460000000001\\tTrue\\n691444869282295808\\thttps://pbs.twimg.com/media/CZiBcJhWQAATXNK.jpg\\t2\\tBernese_mountain_dog\\t0.767563\\tTrue\\tBorder_collie\\t0.08580460000000001\\tTrue\\tEntleBucher\\t0.043769300000000004\\tTrue\\n691459709405118465\\thttps://pbs.twimg.com/media/CZiO7mWUEAAa4zo.jpg\\t1\\tShetland_sheepdog\\t0.5512060000000001\\tTrue\\tcollie\\t0.232544\\tTrue\\tBorder_collie\\t0.0952182\\tTrue\\n691483041324204033\\thttps://pbs.twimg.com/media/CZikKBIWYAA40Az.jpg\\t1\\tbloodhound\\t0.886232\\tTrue\\tblack-and-tan_coonhound\\t0.0774196\\tTrue\\tGordon_setter\\t0.00982643\\tTrue\\n691675652215414786\\thttps://pbs.twimg.com/media/CZlTVL4WkAEpVR5.jpg\\t1\\tChihuahua\\t0.182898\\tTrue\\tteddy\\t0.128077\\tFalse\\tWest_Highland_white_terrier\\t0.0978748\\tTrue\\n691756958957883396\\thttps://pbs.twimg.com/media/CZmdSD8UcAAnY5R.jpg\\t1\\tSaint_Bernard\\t0.342571\\tTrue\\tboxer\\t0.289096\\tTrue\\tPembroke\\t0.07646339999999999\\tTrue\\n691820333922455552\\thttps://pbs.twimg.com/media/CZnW7JGW0AA83mn.jpg\\t1\\tminivan\\t0.332756\\tFalse\\tsports_car\\t0.129452\\tFalse\\tlimousine\\t0.0739359\\tFalse\\n692017291282812928\\thttps://pbs.twimg.com/media/CZqKDZTVIAEvtbc.jpg\\t1\\tTibetan_terrier\\t0.247565\\tTrue\\tcocker_spaniel\\t0.121377\\tTrue\\tbow_tie\\t0.0993625\\tFalse\\n692142790915014657\\thttps://pbs.twimg.com/media/CZr8LvyXEAABJ9k.jpg\\t3\\ttoy_poodle\\t0.670068\\tTrue\\tteddy\\t0.190898\\tFalse\\tminiature_poodle\\t0.0321779\\tTrue\\n692158366030913536\\thttps://pbs.twimg.com/media/CZsKVxfWQAAXy2u.jpg\\t1\\tpug\\t0.956565\\tTrue\\tswing\\t0.018906700000000002\\tFalse\\ttoy_poodle\\t0.013544399999999998\\tTrue\\n692187005137076224\\thttps://pbs.twimg.com/media/CZskaEIWIAUeTr5.jpg\\t2\\tSiberian_husky\\t0.810592\\tTrue\\tmalamute\\t0.119745\\tTrue\\tEskimo_dog\\t0.029264799999999997\\tTrue\\n692417313023332352\\thttps://pbs.twimg.com/media/CZv13u5WYAA6wQe.jpg\\t1\\tbison\\t0.20892199999999997\\tFalse\\tmink\\t0.169945\\tFalse\\tpolecat\\t0.144494\\tFalse\\n692530551048294401\\thttps://pbs.twimg.com/media/CZxc3G7WEAAM4Mv.jpg\\t1\\tSiberian_husky\\t0.48642799999999997\\tTrue\\tEskimo_dog\\t0.44851800000000003\\tTrue\\twhite_wolf\\t0.0415061\\tFalse\\n692535307825213440\\thttps://pbs.twimg.com/media/CZxhL2yWAAI_DHn.jpg\\t1\\tpug\\t0.41308999999999996\\tTrue\\tFrench_bulldog\\t0.19986500000000001\\tTrue\\tChihuahua\\t0.08199060000000001\\tTrue\\n692568918515392513\\thttps://pbs.twimg.com/media/CZx_wV2UMAArgsJ.jpg\\t2\\tgolden_retriever\\t0.636845\\tTrue\\tLabrador_retriever\\t0.16336199999999998\\tTrue\\tPekinese\\t0.045554000000000004\\tTrue\\n692752401762250755\\thttps://pbs.twimg.com/tweet_video_thumb/CZ0mhduWkAICSGe.png\\t1\\tSamoyed\\t0.47127600000000003\\tTrue\\tSiberian_husky\\t0.15885\\tTrue\\tEskimo_dog\\t0.138672\\tTrue\\n692828166163931137\\thttps://pbs.twimg.com/media/CZ1riVOWwAATfGf.jpg\\t1\\tSamoyed\\t0.985857\\tTrue\\tArctic_fox\\t0.00785164\\tFalse\\twhite_wolf\\t0.0032777\\tFalse\\n692894228850999298\\thttps://pbs.twimg.com/media/CZ2nn7BUsAI2Pj3.jpg\\t1\\tGerman_short-haired_pointer\\t0.876977\\tTrue\\tbluetick\\t0.0366151\\tTrue\\tbasset\\t0.0178477\\tTrue\\n692901601640583168\\thttps://pbs.twimg.com/media/CZ2uU37UcAANzmK.jpg\\t1\\tsoft-coated_wheaten_terrier\\t0.403496\\tTrue\\tcocker_spaniel\\t0.135164\\tTrue\\tgolden_retriever\\t0.0887187\\tTrue\\n692905862751522816\\thttps://pbs.twimg.com/media/CZ2yNKhWEAA_7cb.jpg\\t1\\tMexican_hairless\\t0.162638\\tTrue\\tDoberman\\t0.15628699999999998\\tTrue\\tRhodesian_ridgeback\\t0.0814778\\tTrue\\n692919143163629568\\thttps://pbs.twimg.com/media/CZ2-SRiWcAIjuM5.jpg\\t1\\tSaint_Bernard\\t0.612635\\tTrue\\tEnglish_springer\\t0.269744\\tTrue\\tboxer\\t0.0486655\\tTrue\\n693095443459342336\\thttps://pbs.twimg.com/media/CZ5entwWYAAocEg.jpg\\t1\\tice_lolly\\t0.660099\\tFalse\\tneck_brace\\t0.039562900000000005\\tFalse\\tYorkshire_terrier\\t0.033487800000000005\\tTrue\\n693109034023534592\\thttps://pbs.twimg.com/ext_tw_video_thumb/693108992730632192/pu/img/ncJQQZf3eroMSF12.jpg\\t1\\tcocker_spaniel\\t0.740013\\tTrue\\tWelsh_springer_spaniel\\t0.088739\\tTrue\\tgolden_retriever\\t0.047469800000000006\\tTrue\\n693155686491000832\\thttps://pbs.twimg.com/media/CZ6VatdWwAAwHly.jpg\\t3\\tShih-Tzu\\t0.69748\\tTrue\\tLhasa\\t0.200151\\tTrue\\tTibetan_terrier\\t0.09097039999999999\\tTrue\\n693231807727280129\\thttps://pbs.twimg.com/media/CZ7aplIUsAAq-8s.jpg\\t1\\tvizsla\\t0.8764129999999999\\tTrue\\tChesapeake_Bay_retriever\\t0.0783998\\tTrue\\tRhodesian_ridgeback\\t0.032194099999999996\\tTrue\\n693262851218264065\\thttps://pbs.twimg.com/media/CZ724fDUYAAytS-.jpg\\t1\\tgolden_retriever\\t0.989333\\tTrue\\tLabrador_retriever\\t0.00794644\\tTrue\\tkuvasz\\t0.000748932\\tTrue\\n693280720173801472\\thttps://pbs.twimg.com/media/CZ8HIsGWIAA9eXX.jpg\\t1\\tLabrador_retriever\\t0.340008\\tTrue\\tbull_mastiff\\t0.175316\\tTrue\\tbox_turtle\\t0.16433699999999998\\tFalse\\n693486665285931008\\thttps://pbs.twimg.com/ext_tw_video_thumb/693486485266247680/pu/img/KhapmUYPQTpbwNf8.jpg\\t1\\tsea_lion\\t0.5198109999999999\\tFalse\\tSiamese_cat\\t0.290971\\tFalse\\tblack-footed_ferret\\t0.039966699999999994\\tFalse\\n693590843962331137\\thttps://pbs.twimg.com/media/CaAhMb1XEAAB6Bz.jpg\\t1\\tdining_table\\t0.383448\\tFalse\\tgrey_fox\\t0.103191\\tFalse\\tSiamese_cat\\t0.0982558\\tFalse\\n693622659251335168\\thttps://pbs.twimg.com/media/CaA-IR9VIAAqg5l.jpg\\t1\\tmalamute\\t0.449298\\tTrue\\tSiberian_husky\\t0.385075\\tTrue\\tEskimo_dog\\t0.163485\\tTrue\\n693629975228977152\\thttps://pbs.twimg.com/media/CaBEx3SWEAILZpi.jpg\\t1\\tpug\\t0.841987\\tTrue\\tFrench_bulldog\\t0.06979110000000001\\tTrue\\tBoston_bull\\t0.0387199\\tTrue\\n693642232151285760\\thttps://pbs.twimg.com/media/CaBP7i9W0AAJrIs.jpg\\t1\\tScottish_deerhound\\t0.111893\\tTrue\\tbluetick\\t0.0743018\\tTrue\\tGerman_short-haired_pointer\\t0.06700039999999999\\tTrue\\n693647888581312512\\thttps://pbs.twimg.com/media/CaBVE80WAAA8sGk.jpg\\t1\\twashbasin\\t0.272451\\tFalse\\tdoormat\\t0.165871\\tFalse\\tbathtub\\t0.0663684\\tFalse\\n693942351086120961\\thttps://pbs.twimg.com/media/CaFg41YWkAAdOjy.jpg\\t1\\tgroenendael\\t0.550796\\tTrue\\tNorwegian_elkhound\\t0.15477\\tTrue\\tschipperke\\t0.0808019\\tTrue\\n694001791655137281\\thttps://pbs.twimg.com/media/CaGW8JQUMAEVtLl.jpg\\t1\\tPembroke\\t0.769999\\tTrue\\tCardigan\\t0.22922800000000002\\tTrue\\tChihuahua\\t0.000246837\\tTrue\\n694183373896572928\\thttps://pbs.twimg.com/media/CaI8Fn0WAAIrFJN.jpg\\t1\\tteddy\\t0.441499\\tFalse\\tPekinese\\t0.08087000000000001\\tTrue\\tShih-Tzu\\t0.0720988\\tTrue\\n694206574471057408\\thttps://pbs.twimg.com/media/CaJRMPQWIAA1zL9.jpg\\t1\\tShih-Tzu\\t0.352547\\tTrue\\ttoy_poodle\\t0.15572\\tTrue\\tMaltese_dog\\t0.116657\\tTrue\\n694329668942569472\\thttps://pbs.twimg.com/media/CaLBJmOWYAQt44t.jpg\\t1\\tboxer\\t0.99006\\tTrue\\tbull_mastiff\\t0.00743627\\tTrue\\tSaint_Bernard\\t0.00161729\\tTrue\\n694352839993344000\\thttps://pbs.twimg.com/media/CaLWOPfWkAAo2Dt.jpg\\t2\\tAustralian_terrier\\t0.407886\\tTrue\\tYorkshire_terrier\\t0.328173\\tTrue\\tsilky_terrier\\t0.108404\\tTrue\\n694356675654983680\\thttps://pbs.twimg.com/media/CaLZtmsWQAApbFw.jpg\\t1\\thamster\\t0.429871\\tFalse\\tPomeranian\\t0.144272\\tTrue\\tpretzel\\t0.12722\\tFalse\\n694669722378485760\\thttps://pbs.twimg.com/media/CaP2bS8WYAAsMdx.jpg\\t2\\tbeaver\\t0.45709399999999994\\tFalse\\tmongoose\\t0.228298\\tFalse\\tmarmot\\t0.148309\\tFalse\\n694905863685980160\\thttps://pbs.twimg.com/media/CaTNMUgUYAAB6vs.jpg\\t1\\tbow_tie\\t0.44926800000000006\\tFalse\\tfur_coat\\t0.139099\\tFalse\\tblack-footed_ferret\\t0.082232\\tFalse\\n695051054296211456\\thttps://pbs.twimg.com/media/CaVRP4GWwAERC0v.jpg\\t1\\tBoston_bull\\t0.761454\\tTrue\\tpug\\t0.0753949\\tTrue\\tChihuahua\\t0.041597800000000004\\tTrue\\n695064344191721472\\thttps://pbs.twimg.com/ext_tw_video_thumb/695064251149508610/pu/img/0OPED0aUurb9Z16a.jpg\\t1\\tseat_belt\\t0.522211\\tFalse\\tsunglasses\\t0.07755210000000001\\tFalse\\tice_lolly\\t0.051774\\tFalse\\n695074328191332352\\thttps://pbs.twimg.com/media/CaVmajOWYAA1uNG.jpg\\t1\\tShih-Tzu\\t0.5101060000000001\\tTrue\\tTibetan_terrier\\t0.0719809\\tTrue\\tLhasa\\t0.069231\\tTrue\\n695095422348574720\\thttps://pbs.twimg.com/media/CaV5mRDXEAAR8iG.jpg\\t1\\tpapillon\\t0.22778400000000001\\tTrue\\tChihuahua\\t0.21812800000000002\\tTrue\\tBorder_collie\\t0.0934574\\tTrue\\n695314793360662529\\thttps://pbs.twimg.com/media/CaZBErSWEAEdXk_.jpg\\t2\\tMaltese_dog\\t0.678547\\tTrue\\tLhasa\\t0.125046\\tTrue\\tPekinese\\t0.04899880000000001\\tTrue\\n695409464418041856\\thttps://pbs.twimg.com/media/CaaXN5LUYAEzAh-.jpg\\t1\\tpug\\t0.997445\\tTrue\\tbull_mastiff\\t0.00174855\\tTrue\\tPekinese\\t0.00030440400000000004\\tTrue\\n695446424020918272\\thttps://pbs.twimg.com/media/Caa407jWwAAJPH3.jpg\\t1\\tbasenji\\t0.748904\\tTrue\\tCardigan\\t0.121102\\tTrue\\tPembroke\\t0.111767\\tTrue\\n695629776980148225\\thttps://pbs.twimg.com/media/Cadfl6zWcAEZqIW.jpg\\t1\\tOld_English_sheepdog\\t0.693857\\tTrue\\totterhound\\t0.23211700000000002\\tTrue\\tWest_Highland_white_terrier\\t0.0128667\\tTrue\\n695767669421768709\\thttps://pbs.twimg.com/media/CafdAWCW0AE3Igl.jpg\\t1\\tsoft-coated_wheaten_terrier\\t0.805139\\tTrue\\tLakeland_terrier\\t0.12166199999999999\\tTrue\\tAfghan_hound\\t0.0233025\\tTrue\\n695794761660297217\\thttps://pbs.twimg.com/media/Caf1pQxWIAEme3q.jpg\\t1\\tSamoyed\\t0.962139\\tTrue\\tArctic_fox\\t0.0305528\\tFalse\\twhite_wolf\\t0.00148234\\tFalse\\n695816827381944320\\thttps://pbs.twimg.com/media/CagJtjYW8AADoHu.jpg\\t1\\tPomeranian\\t0.382234\\tTrue\\tchow\\t0.208302\\tTrue\\tsunglasses\\t0.131328\\tFalse\\n696405997980676096\\thttps://pbs.twimg.com/media/Caohi_hWcAAQCni.jpg\\t1\\tborzoi\\t0.132845\\tTrue\\tWalker_hound\\t0.0860048\\tTrue\\tGreat_Pyrenees\\t0.0655823\\tTrue\\n696488710901260288\\thttps://pbs.twimg.com/media/CapsyfkWcAQ41uC.jpg\\t1\\tbriard\\t0.36906300000000003\\tTrue\\tScotch_terrier\\t0.168204\\tTrue\\tgiant_schnauzer\\t0.120553\\tTrue\\n696713835009417216\\thttps://pbs.twimg.com/media/Cas5h-wWcAA3nAc.jpg\\t1\\tcar_mirror\\t0.379797\\tFalse\\tChesapeake_Bay_retriever\\t0.321589\\tTrue\\tvizsla\\t0.116931\\tTrue\\n696754882863349760\\thttps://pbs.twimg.com/media/Cate3eLUcAEIuph.jpg\\t1\\tweasel\\t0.13783199999999998\\tFalse\\ttoy_poodle\\t0.09837810000000001\\tTrue\\tScottish_deerhound\\t0.0973967\\tTrue\\n696877980375769088\\thttps://pbs.twimg.com/media/CavO0uuWEAE96Ed.jpg\\t1\\tspace_heater\\t0.20687600000000003\\tFalse\\tspatula\\t0.12345\\tFalse\\tvacuum\\t0.119218\\tFalse\\n696886256886657024\\thttps://pbs.twimg.com/media/CavWWdFWAAArflW.jpg\\t1\\tkuvasz\\t0.383941\\tTrue\\tgolden_retriever\\t0.289085\\tTrue\\tdingo\\t0.0565481\\tFalse\\n696894894812565505\\thttps://pbs.twimg.com/media/CaveNQcVIAECyBr.jpg\\t1\\tAppenzeller\\t0.665628\\tTrue\\tbeagle\\t0.104795\\tTrue\\tGreater_Swiss_Mountain_dog\\t0.067868\\tTrue\\n696900204696625153\\thttps://pbs.twimg.com/media/CavjCdJW0AIB5Oz.jpg\\t1\\tChihuahua\\t0.29773499999999997\\tTrue\\tPembroke\\t0.266953\\tTrue\\tbasenji\\t0.13681400000000002\\tTrue\\n697242256848379904\\thttps://pbs.twimg.com/media/Ca0aIR9WcAAHiPy.jpg\\t1\\tgrey_fox\\t0.236031\\tFalse\\tSiamese_cat\\t0.16579100000000002\\tFalse\\tEskimo_dog\\t0.0635328\\tTrue\\n697255105972801536\\thttps://pbs.twimg.com/media/Ca0lzzmWwAA5u56.jpg\\t1\\tGreat_Dane\\t0.173989\\tTrue\\tmalinois\\t0.165888\\tTrue\\tDoberman\\t0.11989000000000001\\tTrue\\n697259378236399616\\thttps://pbs.twimg.com/media/Ca0ps3AXEAAnp9m.jpg\\t1\\tGreat_Dane\\t0.999223\\tTrue\\tboxer\\t0.000186525\\tTrue\\twhippet\\t0.000151071\\tTrue\\n697270446429966336\\thttps://pbs.twimg.com/media/Ca0zxGjW8AEfyYl.jpg\\t1\\ttoy_poodle\\t0.880014\\tTrue\\tminiature_poodle\\t0.100136\\tTrue\\tNorfolk_terrier\\t0.00702706\\tTrue\\n697463031882764288\\thttps://pbs.twimg.com/media/Ca3i7CzXIAMLhg8.jpg\\t1\\tLabrador_retriever\\t0.999885\\tTrue\\tgolden_retriever\\t9.75817e-05\\tTrue\\tpug\\t8.267760000000001e-06\\tTrue\\n697482927769255936\\thttps://pbs.twimg.com/media/Ca31BTgWwAA4uNU.jpg\\t1\\tbath_towel\\t0.11058699999999999\\tFalse\\tChristmas_stocking\\t0.108573\\tFalse\\tweasel\\t0.10544200000000001\\tFalse\\n697575480820686848\\thttps://pbs.twimg.com/media/Ca5JMvMUsAAGMll.jpg\\t1\\tSiamese_cat\\t0.256698\\tFalse\\twhippet\\t0.119805\\tTrue\\tbull_mastiff\\t0.102595\\tTrue\\n697596423848730625\\thttps://pbs.twimg.com/media/Ca5cPrJXIAImHtD.jpg\\t1\\tShetland_sheepdog\\t0.621668\\tTrue\\tcollie\\t0.366578\\tTrue\\tPembroke\\t0.00769819\\tTrue\\n697616773278015490\\thttps://pbs.twimg.com/media/Ca5uv7RVAAA_QEg.jpg\\t1\\tLhasa\\t0.521931\\tTrue\\tShih-Tzu\\t0.403451\\tTrue\\tTibetan_terrier\\t0.039912199999999995\\tTrue\\n697881462549430272\\thttps://pbs.twimg.com/media/Ca9feqDUAAA_z7T.jpg\\t1\\twashbasin\\t0.176423\\tFalse\\tpaper_towel\\t0.167462\\tFalse\\ttoilet_tissue\\t0.09802910000000001\\tFalse\\n697943111201378304\\thttps://pbs.twimg.com/media/Ca-XjfiUsAAUa8f.jpg\\t1\\tGreat_Dane\\t0.126924\\tTrue\\tGreater_Swiss_Mountain_dog\\t0.110037\\tTrue\\tGerman_short-haired_pointer\\t0.090816\\tTrue\\n697990423684476929\\thttps://pbs.twimg.com/media/Ca_ClYOW0AAsvpE.jpg\\t2\\tPembroke\\t0.984783\\tTrue\\tCardigan\\t0.015018\\tTrue\\tShetland_sheepdog\\t7.358600000000001e-05\\tTrue\\n697995514407682048\\thttps://pbs.twimg.com/media/Ca_HN8UWEAEB-ga.jpg\\t1\\tStaffordshire_bullterrier\\t0.28022199999999997\\tTrue\\tBoston_bull\\t0.161478\\tTrue\\tAmerican_Staffordshire_terrier\\t0.126884\\tTrue\\n698178924120031232\\thttps://pbs.twimg.com/media/CbBuBhbWwAEGH29.jpg\\t1\\tChesapeake_Bay_retriever\\t0.35186799999999996\\tTrue\\tmalinois\\t0.20775300000000002\\tTrue\\tLabrador_retriever\\t0.154606\\tTrue\\n698195409219559425\\thttps://pbs.twimg.com/media/CbB9BTqW8AEVc2A.jpg\\t1\\tLabrador_retriever\\t0.64369\\tTrue\\tAmerican_Staffordshire_terrier\\t0.102684\\tTrue\\tdalmatian\\t0.050007800000000005\\tTrue\\n698262614669991936\\thttps://pbs.twimg.com/media/CbC6JL_WEAI_PhH.jpg\\t1\\tItalian_greyhound\\t0.107948\\tTrue\\tbasset\\t0.07522999999999999\\tTrue\\tStaffordshire_bullterrier\\t0.06943610000000001\\tTrue\\n698342080612007937\\thttps://pbs.twimg.com/ext_tw_video_thumb/698341973569245184/pu/img/Sj3A2vSfbKWSv61T.jpg\\t1\\tboxer\\t0.8830479999999999\\tTrue\\tSaint_Bernard\\t0.030579400000000003\\tTrue\\tStaffordshire_bullterrier\\t0.0129941\\tTrue\\n698355670425473025\\thttps://pbs.twimg.com/media/CbEOxQXW0AEIYBu.jpg\\t1\\tpug\\t0.9901909999999999\\tTrue\\tPekinese\\t0.00279854\\tTrue\\tsunglasses\\t0.00130952\\tFalse\\n698549713696649216\\thttps://pbs.twimg.com/media/CbG_QRJXEAALVWy.jpg\\t1\\tFrench_bulldog\\t0.9985440000000001\\tTrue\\tBoston_bull\\t0.00140394\\tTrue\\tboxer\\t2.322e-05\\tTrue\\n698635131305795584\\thttps://pbs.twimg.com/ext_tw_video_thumb/698635005506015234/pu/img/wQ4yFXTZ-2QLt68b.jpg\\t1\\tSamoyed\\t0.15846400000000002\\tTrue\\tkuvasz\\t0.0894025\\tTrue\\tWest_Highland_white_terrier\\t0.0250373\\tTrue\\n698703483621523456\\thttps://pbs.twimg.com/media/CbJLG0HWwAAV-ug.jpg\\t1\\tBrittany_spaniel\\t0.9319629999999999\\tTrue\\tWelsh_springer_spaniel\\t0.0306949\\tTrue\\tbeagle\\t0.0128961\\tTrue\\n698710712454139905\\thttps://pbs.twimg.com/media/CbJRrigW0AIcJ2N.jpg\\t1\\tSamoyed\\t0.329895\\tTrue\\tshoji\\t0.165772\\tFalse\\tprison\\t0.10359600000000001\\tFalse\\n698907974262222848\\thttps://pbs.twimg.com/media/CbMFFssWIAAyuOd.jpg\\t3\\tGerman_short-haired_pointer\\t0.983131\\tTrue\\tbluetick\\t0.00555772\\tTrue\\tcurly-coated_retriever\\t0.00332221\\tTrue\\n698953797952008193\\thttps://pbs.twimg.com/media/CbMuxV5WEAAIBjy.jpg\\t1\\tItalian_greyhound\\t0.382378\\tTrue\\tredbone\\t0.102255\\tTrue\\tshower_cap\\t0.0768337\\tFalse\\n698989035503689728\\thttps://pbs.twimg.com/media/CbNO0DaW0AARcki.jpg\\t1\\tNorfolk_terrier\\t0.24634\\tTrue\\tIrish_terrier\\t0.24334899999999998\\tTrue\\tgolden_retriever\\t0.085871\\tTrue\\n699036661657767936\\thttps://pbs.twimg.com/media/CbN6IW4UYAAyVDA.jpg\\t1\\tChihuahua\\t0.22294299999999997\\tTrue\\ttoyshop\\t0.17993800000000001\\tFalse\\tWeimaraner\\t0.16303299999999998\\tTrue\\n699072405256409088\\thttps://pbs.twimg.com/ext_tw_video_thumb/699072391083880449/pu/img/fMp1-dvLMeio1Kzk.jpg\\t1\\tShih-Tzu\\t0.599587\\tTrue\\tPekinese\\t0.213069\\tTrue\\tMaltese_dog\\t0.154293\\tTrue\\n699079609774645248\\thttps://pbs.twimg.com/media/CbOhMUDXIAACIWR.jpg\\t3\\tschipperke\\t0.667324\\tTrue\\tChesapeake_Bay_retriever\\t0.11955\\tTrue\\tkelpie\\t0.0975995\\tTrue\\n699088579889332224\\thttps://pbs.twimg.com/media/CbOpWswWEAE9kvX.jpg\\t1\\tmousetrap\\t0.456186\\tFalse\\tbanded_gecko\\t0.258677\\tFalse\\tcommon_iguana\\t0.0617826\\tFalse\\n699323444782047232\\thttps://pbs.twimg.com/media/CbR-9edXIAEHJKi.jpg\\t1\\tLabrador_retriever\\t0.309696\\tTrue\\tdoormat\\t0.3037\\tFalse\\tsliding_door\\t0.077266\\tFalse\\n699370870310113280\\thttps://pbs.twimg.com/media/CbSqE0rVIAEOPE4.jpg\\t1\\tcairn\\t0.337557\\tTrue\\tChihuahua\\t0.20913\\tTrue\\tBorder_terrier\\t0.136946\\tTrue\\n699413908797464576\\thttps://pbs.twimg.com/media/CbTRPXdW8AQMZf7.jpg\\t1\\tSamoyed\\t0.517479\\tTrue\\tmalamute\\t0.155935\\tTrue\\tEskimo_dog\\t0.09500089999999999\\tTrue\\n699423671849451520\\thttps://pbs.twimg.com/media/CbTaHrRW0AABXmG.jpg\\t1\\tpug\\t0.9978600000000001\\tTrue\\tFrench_bulldog\\t0.00182486\\tTrue\\tbull_mastiff\\t0.00029894\\tTrue\\n699434518667751424\\thttps://pbs.twimg.com/media/CbTj--1XEAIZjc_.jpg\\t1\\tgolden_retriever\\t0.836572\\tTrue\\tkuvasz\\t0.105946\\tTrue\\tLabrador_retriever\\t0.025143900000000004\\tTrue\\n699446877801091073\\thttps://pbs.twimg.com/media/CbTvNpoW0AEemnx.jpg\\t3\\tPembroke\\t0.9694\\tTrue\\tCardigan\\t0.026058799999999997\\tTrue\\tChihuahua\\t0.00350547\\tTrue\\n699691744225525762\\thttps://pbs.twimg.com/media/CbXN7aPWIAE0Xt1.jpg\\t1\\thippopotamus\\t0.9822690000000001\\tFalse\\tsea_lion\\t0.00629515\\tFalse\\tdugong\\t0.00576795\\tFalse\\n699775878809702401\\thttps://pbs.twimg.com/media/CbYac83W4AAUH1O.jpg\\t1\\tDandie_Dinmont\\t0.271683\\tTrue\\tOld_English_sheepdog\\t0.164931\\tTrue\\totterhound\\t0.10591800000000001\\tTrue\\n699779630832685056\\thttps://pbs.twimg.com/media/CbYd3C9WEAErJ4Z.jpg\\t1\\tmalinois\\t0.706038\\tTrue\\tGerman_shepherd\\t0.165655\\tTrue\\tGreat_Dane\\t0.0590475\\tTrue\\n699788877217865730\\thttps://pbs.twimg.com/media/CbYmRHyWEAASNzm.jpg\\t1\\tBorder_terrier\\t0.35506\\tTrue\\ttoy_poodle\\t0.169736\\tTrue\\tNorwegian_elkhound\\t0.0998837\\tTrue\\n699801817392291840\\thttps://pbs.twimg.com/media/CbYyCMcWIAAHHjF.jpg\\t2\\tgolden_retriever\\t0.808978\\tTrue\\tIrish_setter\\t0.0424281\\tTrue\\tLabrador_retriever\\t0.0235364\\tTrue\\n700002074055016451\\thttps://pbs.twimg.com/media/CbboKP4WIAAw8xq.jpg\\t1\\tChihuahua\\t0.36948800000000004\\tTrue\\tschipperke\\t0.243367\\tTrue\\tpug\\t0.161614\\tTrue\\n700029284593901568\\thttps://pbs.twimg.com/media/CbcA673XIAAsytQ.jpg\\t1\\tWest_Highland_white_terrier\\t0.726571\\tTrue\\tMaltese_dog\\t0.17682799999999999\\tTrue\\tDandie_Dinmont\\t0.07013380000000001\\tTrue\\n700062718104104960\\thttps://pbs.twimg.com/media/CbcfUxoUAAAlHGK.jpg\\t1\\thummingbird\\t0.180998\\tFalse\\tpeacock\\t0.135179\\tFalse\\teel\\t0.07537100000000001\\tFalse\\n700143752053182464\\thttps://pbs.twimg.com/media/CbdpBmLUYAY9SgQ.jpg\\t1\\tgolden_retriever\\t0.53246\\tTrue\\tcrossword_puzzle\\t0.103796\\tFalse\\tbinder\\t0.100371\\tFalse\\n700151421916807169\\thttps://pbs.twimg.com/media/CbdwATgWwAABGID.jpg\\t1\\ttennis_ball\\t0.328236\\tFalse\\tItalian_greyhound\\t0.17683800000000002\\tTrue\\tStaffordshire_bullterrier\\t0.13408\\tTrue\\n700167517596164096\\thttps://pbs.twimg.com/media/Cbd-o8hWwAE4OFm.jpg\\t1\\tbeagle\\t0.16258499999999998\\tTrue\\tPembroke\\t0.12048099999999999\\tTrue\\tSiberian_husky\\t0.110284\\tTrue\\n700462010979500032\\thttps://pbs.twimg.com/media/CbiKe7-W0AIVNNr.jpg\\t1\\thamster\\t0.678651\\tFalse\\tPomeranian\\t0.110268\\tTrue\\tAngora\\t0.10413900000000001\\tFalse\\n700505138482569216\\thttps://pbs.twimg.com/media/Cbixs3vUUAAqHHN.jpg\\t1\\tbath_towel\\t0.44968400000000003\\tFalse\\tNorwegian_elkhound\\t0.160205\\tTrue\\tGreat_Dane\\t0.0486658\\tTrue\\n700518061187723268\\thttps://pbs.twimg.com/media/Cbi9dI_UYAAgkyC.jpg\\t1\\tAmerican_Staffordshire_terrier\\t0.569501\\tTrue\\tStaffordshire_bullterrier\\t0.211308\\tTrue\\tChihuahua\\t0.12183900000000002\\tTrue\\n700747788515020802\\thttps://pbs.twimg.com/media/CbmOY41UAAQylmA.jpg\\t1\\tGreat_Pyrenees\\t0.481333\\tTrue\\tSamoyed\\t0.311769\\tTrue\\tMaltese_dog\\t0.0749621\\tTrue\\n700796979434098688\\thttps://pbs.twimg.com/media/Cbm7IeUXIAA6Lc-.jpg\\t1\\ttailed_frog\\t0.652712\\tFalse\\ttree_frog\\t0.280212\\tFalse\\tbullfrog\\t0.0401775\\tFalse\\n700847567345688576\\thttps://pbs.twimg.com/media/CbnpI_1XIAAiRAz.jpg\\t1\\tRhodesian_ridgeback\\t0.25251399999999996\\tTrue\\tredbone\\t0.153005\\tTrue\\twhippet\\t0.135199\\tTrue\\n700864154249383937\\thttps://pbs.twimg.com/media/Cbn4OqKWwAADGWt.jpg\\t1\\tkuvasz\\t0.8058569999999999\\tTrue\\tGreat_Pyrenees\\t0.187272\\tTrue\\tSamoyed\\t0.0034909\\tTrue\\n700890391244103680\\thttps://pbs.twimg.com/media/CboQFolWIAE04qE.jpg\\t1\\twhite_wolf\\t0.16656300000000002\\tFalse\\tschipperke\\t0.12235599999999999\\tTrue\\tWest_Highland_white_terrier\\t0.119247\\tTrue\\n701214700881756160\\thttps://pbs.twimg.com/media/Cbs3DOAXIAAp3Bd.jpg\\t1\\tChihuahua\\t0.615163\\tTrue\\tPembroke\\t0.15950899999999998\\tTrue\\tbasenji\\t0.08446569999999999\\tTrue\\n701545186879471618\\thttps://pbs.twimg.com/media/CbxjnyOWAAAWLUH.jpg\\t1\\tBorder_collie\\t0.280893\\tTrue\\tCardigan\\t0.11255\\tTrue\\ttoy_terrier\\t0.0533172\\tTrue\\n701570477911896070\\thttps://pbs.twimg.com/media/Cbx6nz1WIAA0QSW.jpg\\t1\\tYorkshire_terrier\\t0.90799\\tTrue\\tsilky_terrier\\t0.07688289999999999\\tTrue\\tAustralian_terrier\\t0.00847276\\tTrue\\n701601587219795968\\thttps://pbs.twimg.com/media/CbyW7B0W8AIX8kX.jpg\\t1\\tChihuahua\\t0.993661\\tTrue\\tPembroke\\t0.00150487\\tTrue\\ttoy_terrier\\t0.0008666069999999999\\tTrue\\n701889187134500865\\thttps://pbs.twimg.com/media/Cb2cfd9WAAEL-zk.jpg\\t1\\tFrench_bulldog\\t0.902856\\tTrue\\tStaffordshire_bullterrier\\t0.022634099999999997\\tTrue\\tsoap_dispenser\\t0.011973200000000002\\tFalse\\n701952816642965504\\thttps://pbs.twimg.com/media/Cb3WXMUUMAIuzL8.jpg\\t1\\ttoy_poodle\\t0.33170700000000003\\tTrue\\tminiature_poodle\\t0.272485\\tTrue\\tstandard_poodle\\t0.169415\\tTrue\\n701981390485725185\\thttps://pbs.twimg.com/media/Cb3wWWbWEAAy06k.jpg\\t1\\tPomeranian\\t0.491022\\tTrue\\tweasel\\t0.130879\\tFalse\\tYorkshire_terrier\\t0.099241\\tTrue\\n702217446468493312\\thttps://pbs.twimg.com/media/Cb7HCMkWEAAV9zY.jpg\\t1\\tgolden_retriever\\t0.242419\\tTrue\\tchow\\t0.2268\\tTrue\\tcocker_spaniel\\t0.19408599999999998\\tTrue\\n702276748847800320\\thttps://pbs.twimg.com/media/Cb78-nOWIAENNRc.jpg\\t1\\tBoston_bull\\t0.697303\\tTrue\\tFrench_bulldog\\t0.239015\\tTrue\\tAmerican_Staffordshire_terrier\\t0.019838099999999997\\tTrue\\n702321140488925184\\thttps://pbs.twimg.com/media/Cb8lWafWEAA2q93.jpg\\t3\\tWest_Highland_white_terrier\\t0.769159\\tTrue\\tScotch_terrier\\t0.0643688\\tTrue\\tOld_English_sheepdog\\t0.0437634\\tTrue\\n702539513671897089\\thttps://pbs.twimg.com/media/Cb_r8qTUsAASgdF.jpg\\t3\\tPomeranian\\t0.714367\\tTrue\\tShih-Tzu\\t0.0405741\\tTrue\\tsilky_terrier\\t0.032510500000000005\\tTrue\\n702598099714314240\\thttps://pbs.twimg.com/media/CcAhPevW8AAoknv.jpg\\t1\\tkelpie\\t0.21917899999999998\\tTrue\\tbadger\\t0.13358399999999998\\tFalse\\tSiamese_cat\\t0.07443999999999999\\tFalse\\n702671118226825216\\thttps://pbs.twimg.com/media/CcBjp2nWoAA8w-2.jpg\\t1\\tbloodhound\\t0.381227\\tTrue\\tSussex_spaniel\\t0.212017\\tTrue\\tclumber\\t0.12862200000000001\\tTrue\\n702684942141153280\\thttps://pbs.twimg.com/media/CcBwOn0XEAA7bNQ.jpg\\t1\\tgolden_retriever\\t0.514085\\tTrue\\tChesapeake_Bay_retriever\\t0.173224\\tTrue\\tBrittany_spaniel\\t0.11838399999999999\\tTrue\\n702932127499816960\\thttps://pbs.twimg.com/media/CcFRCfRW4AA5a72.jpg\\t1\\twallaby\\t0.41071\\tFalse\\twombat\\t0.23933200000000002\\tFalse\\tbeaver\\t0.149605\\tFalse\\n703041949650034688\\thttps://pbs.twimg.com/media/CcG07BYW0AErrC9.jpg\\t1\\thippopotamus\\t0.581403\\tFalse\\tdoormat\\t0.152445\\tFalse\\tsea_lion\\t0.026364299999999997\\tFalse\\n703079050210877440\\thttps://pbs.twimg.com/media/CcHWqQCW8AEb0ZH.jpg\\t2\\tPembroke\\t0.778503\\tTrue\\tShetland_sheepdog\\t0.0938339\\tTrue\\tCardigan\\t0.06029640000000001\\tTrue\\n703268521220972544\\thttps://pbs.twimg.com/media/CcKC-5LW4AAK-nb.jpg\\t1\\twool\\t0.5254340000000001\\tFalse\\tfur_coat\\t0.236391\\tFalse\\tkuvasz\\t0.038243\\tTrue\\n703356393781329922\\thttps://pbs.twimg.com/media/CcLS6QKUcAAUuPa.jpg\\t1\\tBorder_collie\\t0.894842\\tTrue\\tcollie\\t0.0973637\\tTrue\\tEnglish_springer\\t0.00303674\\tTrue\\n703382836347330562\\thttps://pbs.twimg.com/media/CcLq7ipW4AArSGZ.jpg\\t2\\tgolden_retriever\\t0.945664\\tTrue\\tstandard_poodle\\t0.014391999999999999\\tTrue\\tTibetan_mastiff\\t0.012021700000000001\\tTrue\\n703407252292673536\\thttps://pbs.twimg.com/media/CcMBJODUsAI5-A9.jpg\\t1\\tdoormat\\t0.201058\\tFalse\\tturnstile\\t0.0885832\\tFalse\\tcarton\\t0.0829238\\tFalse\\n703425003149250560\\thttps://pbs.twimg.com/media/CcMRSwUW8AAxxNC.jpg\\t1\\tminiature_pinscher\\t0.29286599999999996\\tTrue\\tsleeping_bag\\t0.142122\\tFalse\\tItalian_greyhound\\t0.070849\\tTrue\\n703611486317502464\\thttps://pbs.twimg.com/media/CcO66OjXEAASXmH.jpg\\t1\\tPembroke\\t0.756441\\tTrue\\tbasenji\\t0.126621\\tTrue\\tCardigan\\t0.08011669999999999\\tTrue\\n703631701117943808\\thttps://pbs.twimg.com/media/CcPNS4yW8AAd-Et.jpg\\t2\\twindow_shade\\t0.909533\\tFalse\\twindow_screen\\t0.0114266\\tFalse\\tbrass\\t0.0088821\\tFalse\\n703769065844768768\\thttps://pbs.twimg.com/media/CcRKOzyXEAQO_HN.jpg\\t2\\tboxer\\t0.838994\\tTrue\\tGreater_Swiss_Mountain_dog\\t0.0888003\\tTrue\\tbull_mastiff\\t0.0316839\\tTrue\\n703774238772166656\\thttps://pbs.twimg.com/media/CcRO8FmW4AAzazk.jpg\\t1\\tLabrador_retriever\\t0.9901190000000001\\tTrue\\tChesapeake_Bay_retriever\\t0.00802558\\tTrue\\tcurly-coated_retriever\\t0.00124229\\tTrue\\n704054845121142784\\thttps://pbs.twimg.com/media/CcVOJEcXEAM0FHL.jpg\\t1\\tGreat_Pyrenees\\t0.6679390000000001\\tTrue\\tkuvasz\\t0.228764\\tTrue\\tgolden_retriever\\t0.043885400000000005\\tTrue\\n704113298707505153\\thttps://pbs.twimg.com/media/CcWDTerUAAALORn.jpg\\t2\\totter\\t0.9455370000000001\\tFalse\\tmink\\t0.018231099999999997\\tFalse\\tsea_lion\\t0.0158608\\tFalse\\n704347321748819968\\thttps://pbs.twimg.com/media/CcZYJniXEAAEJRF.jpg\\t1\\tteddy\\t0.23337800000000003\\tFalse\\tfeather_boa\\t0.0884744\\tFalse\\tBrittany_spaniel\\t0.0829173\\tTrue\\n704364645503647744\\thttps://pbs.twimg.com/media/CcZn6RWWIAAmOZG.jpg\\t1\\tPembroke\\t0.9806950000000001\\tTrue\\tCardigan\\t0.0185044\\tTrue\\tChihuahua\\t0.000215293\\tTrue\\n704480331685040129\\thttps://pbs.twimg.com/media/CcbRIAgXIAQaKHQ.jpg\\t1\\tSamoyed\\t0.9792059999999999\\tTrue\\tPomeranian\\t0.0071854\\tTrue\\tArctic_fox\\t0.00643809\\tFalse\\n704499785726889984\\thttps://pbs.twimg.com/media/Ccbi0UGWoAA4fwg.jpg\\t1\\tChihuahua\\t0.37654099999999996\\tTrue\\tSiamese_cat\\t0.09805710000000001\\tFalse\\tLabrador_retriever\\t0.08521089999999999\\tTrue\\n704761120771465216\\thttps://pbs.twimg.com/media/CcfQgHVWoAAxauy.jpg\\t1\\tSiamese_cat\\t0.202294\\tFalse\\tChihuahua\\t0.100418\\tTrue\\tbasenji\\t0.07209650000000001\\tTrue\\n704819833553219584\\thttps://pbs.twimg.com/media/CcgF5ovW8AACrEU.jpg\\t1\\tguinea_pig\\t0.994776\\tFalse\\thamster\\t0.00406879\\tFalse\\twood_rabbit\\t0.00020586900000000002\\tFalse\\n704847917308362754\\thttps://pbs.twimg.com/media/CcgfcANW4AA9hzr.jpg\\t1\\tgolden_retriever\\t0.85724\\tTrue\\tLabrador_retriever\\t0.13546\\tTrue\\tTibetan_mastiff\\t0.00190332\\tTrue\\n704859558691414016\\thttps://pbs.twimg.com/media/CcgqBNVW8AE76lv.jpg\\t1\\tpug\\t0.284428\\tTrue\\tteddy\\t0.156339\\tFalse\\tmitten\\t0.138915\\tFalse\\n704871453724954624\\thttps://pbs.twimg.com/media/Ccg02LiWEAAJHw1.jpg\\t1\\tNorfolk_terrier\\t0.689504\\tTrue\\tsoft-coated_wheaten_terrier\\t0.10148\\tTrue\\tNorwich_terrier\\t0.055778499999999995\\tTrue\\n705066031337840642\\thttps://pbs.twimg.com/media/CcjlzRkW0AMqmWg.jpg\\t1\\tAiredale\\t0.868658\\tTrue\\tIrish_terrier\\t0.0275871\\tTrue\\totterhound\\t0.025323599999999998\\tTrue\\n705102439679201280\\thttps://pbs.twimg.com/media/CckG63qUsAALbIr.jpg\\t1\\tcollie\\t0.457672\\tTrue\\tchow\\t0.27910100000000004\\tTrue\\tPomeranian\\t0.07692230000000001\\tTrue\\n705223444686888960\\thttps://pbs.twimg.com/media/Ccl0-HVVAAAf8aK.jpg\\t1\\tEgyptian_cat\\t0.0905082\\tFalse\\tChesapeake_Bay_retriever\\t0.0773733\\tTrue\\tMexican_hairless\\t0.049471499999999995\\tTrue\\n705239209544720384\\thttps://pbs.twimg.com/media/CcmDUjFW8AAqAjc.jpg\\t1\\tChihuahua\\t0.15795\\tTrue\\ttoy_terrier\\t0.0899203\\tTrue\\tMexican_hairless\\t0.0632245\\tTrue\\n705428427625635840\\thttps://pbs.twimg.com/media/CcovaMUXIAApFDl.jpg\\t1\\tChihuahua\\t0.774792\\tTrue\\tquilt\\t0.0730794\\tFalse\\tPembroke\\t0.0223651\\tTrue\\n705442520700944385\\thttps://pbs.twimg.com/media/Cco8OmOXIAE0aCu.jpg\\t1\\tGreat_Pyrenees\\t0.309106\\tTrue\\tkuvasz\\t0.224556\\tTrue\\tseat_belt\\t0.2021\\tFalse\\n705475953783398401\\thttps://pbs.twimg.com/media/CcpaoR9WAAAKlJJ.jpg\\t1\\tgolden_retriever\\t0.908784\\tTrue\\tLabrador_retriever\\t0.0303612\\tTrue\\ttennis_ball\\t0.00499562\\tFalse\\n705591895322394625\\thttps://pbs.twimg.com/media/CcrEFQdUcAA7CJf.jpg\\t1\\tbasenji\\t0.877207\\tTrue\\tItalian_greyhound\\t0.0478542\\tTrue\\tminiature_pinscher\\t0.0356381\\tTrue\\n705786532653883392\\thttps://pbs.twimg.com/media/Cct1G6vVAAI9ZjF.jpg\\t1\\tweb_site\\t0.550294\\tFalse\\tLabrador_retriever\\t0.14849600000000002\\tTrue\\tgolden_retriever\\t0.148482\\tTrue\\n705898680587526145\\thttps://pbs.twimg.com/media/CcvbGj5W8AARjB6.jpg\\t1\\tcollie\\t0.808276\\tTrue\\tBorder_collie\\t0.059437000000000004\\tTrue\\tgroenendael\\t0.0267203\\tTrue\\n705970349788291072\\thttps://pbs.twimg.com/media/CcwcSS9WwAALE4f.jpg\\t1\\tgolden_retriever\\t0.776346\\tTrue\\tLabrador_retriever\\t0.11241300000000001\\tTrue\\tchow\\t0.0369529\\tTrue\\n705975130514706432\\thttps://pbs.twimg.com/media/CcwgjmuXIAEQoSd.jpg\\t1\\tStaffordshire_bullterrier\\t0.5877640000000001\\tTrue\\tAmerican_Staffordshire_terrier\\t0.281429\\tTrue\\tbull_mastiff\\t0.09479810000000001\\tTrue\\n706166467411222528\\thttps://pbs.twimg.com/media/CczOp_OWoAAo5zR.jpg\\t1\\tSamoyed\\t0.430418\\tTrue\\tkuvasz\\t0.2796\\tTrue\\tGreat_Pyrenees\\t0.11748\\tTrue\\n706265994973601792\\thttps://pbs.twimg.com/media/Cc0pLU0WAAEfGEw.jpg\\t1\\tpapillon\\t0.743715\\tTrue\\tPekinese\\t0.114042\\tTrue\\tSaint_Bernard\\t0.0477152\\tTrue\\n706291001778950144\\thttps://pbs.twimg.com/media/Cc0_2tXXEAA2iTY.jpg\\t1\\tBorder_terrier\\t0.587101\\tTrue\\tbull_mastiff\\t0.16408699999999998\\tTrue\\tStaffordshire_bullterrier\\t0.105011\\tTrue\\n706310011488698368\\thttps://pbs.twimg.com/media/Cc1RNHLW4AACG6H.jpg\\t1\\tPembroke\\t0.6981649999999999\\tTrue\\tChihuahua\\t0.105834\\tTrue\\tbloodhound\\t0.0620304\\tTrue\\n706346369204748288\\thttps://pbs.twimg.com/media/Cc1yRE2WoAAgxFQ.jpg\\t1\\tTibetan_mastiff\\t0.956462\\tTrue\\tRottweiler\\t0.0253809\\tTrue\\tAppenzeller\\t0.00867921\\tTrue\\n706516534877929472\\thttps://pbs.twimg.com/media/Cc4NCQiXEAEx2eJ.jpg\\t1\\tgolden_retriever\\t0.7726850000000001\\tTrue\\tLabrador_retriever\\t0.0716653\\tTrue\\tgolfcart\\t0.020993099999999997\\tFalse\\n706538006853918722\\thttps://pbs.twimg.com/media/Cc4gjxqW4AIoThO.jpg\\t1\\tchow\\t0.541794\\tTrue\\tPembroke\\t0.0949184\\tTrue\\tPomeranian\\t0.08543939999999998\\tTrue\\n706593038911545345\\thttps://pbs.twimg.com/media/Cc5Snc7XIAAMidF.jpg\\t1\\tfour-poster\\t0.6964229999999999\\tFalse\\tquilt\\t0.18931199999999998\\tFalse\\tpillow\\t0.029408799999999995\\tFalse\\n706644897839910912\\thttps://pbs.twimg.com/ext_tw_video_thumb/706644797256241152/pu/img/NTqvmIUQExGmKFSR.jpg\\t1\\tspace_heater\\t0.137871\\tFalse\\tChihuahua\\t0.132928\\tTrue\\tcougar\\t0.11386600000000001\\tFalse\\n706681918348251136\\thttps://pbs.twimg.com/media/Cc6jcYRXIAAFuox.jpg\\t1\\ttoy_poodle\\t0.717584\\tTrue\\tminiature_poodle\\t0.15143299999999998\\tTrue\\tNorwich_terrier\\t0.047087000000000004\\tTrue\\n706901761596989440\\thttps://pbs.twimg.com/media/Cc9rZlBWwAA56Ra.jpg\\t1\\twild_boar\\t0.859499\\tFalse\\thog\\t0.12898099999999998\\tFalse\\twarthog\\t0.0113178\\tFalse\\n707014260413456384\\thttps://pbs.twimg.com/media/Cc_RsVlXEAIzzlX.jpg\\t1\\tChihuahua\\t0.58378\\tTrue\\tItalian_greyhound\\t0.129683\\tTrue\\ttoy_terrier\\t0.08915269999999999\\tTrue\\n707021089608753152\\thttps://pbs.twimg.com/media/Cc_XtkRW8AEE7Fn.jpg\\t2\\tcocker_spaniel\\t0.559658\\tTrue\\tgolden_retriever\\t0.314673\\tTrue\\tPekinese\\t0.0666717\\tTrue\\n707038192327901184\\thttps://pbs.twimg.com/media/Cc_ney1W4AANuY3.jpg\\t1\\tpug\\t0.642426\\tTrue\\tllama\\t0.0573062\\tFalse\\tFrench_bulldog\\t0.0541865\\tTrue\\n707059547140169728\\thttps://pbs.twimg.com/media/Cc_64zVWEAAeXs7.jpg\\t1\\tSamoyed\\t0.8973120000000001\\tTrue\\tGreat_Pyrenees\\t0.0391802\\tTrue\\tkuvasz\\t0.019516\\tTrue\\n707297311098011648\\thttps://pbs.twimg.com/media/CdDTJLMW4AEST--.jpg\\t1\\tBlenheim_spaniel\\t0.370717\\tTrue\\tShih-Tzu\\t0.201566\\tTrue\\tblack-footed_ferret\\t0.101559\\tFalse\\n707315916783140866\\thttps://pbs.twimg.com/media/CdDkEkHWwAAAeUJ.jpg\\t2\\tBernese_mountain_dog\\t0.9792350000000001\\tTrue\\tShetland_sheepdog\\t0.0110368\\tTrue\\tAppenzeller\\t0.00397111\\tTrue\\n707377100785885184\\thttps://pbs.twimg.com/media/CdEbt0NXIAQH3Aa.jpg\\t1\\tgolden_retriever\\t0.637225\\tTrue\\tbloodhound\\t0.0945421\\tTrue\\tcocker_spaniel\\t0.0697971\\tTrue\\n707387676719185920\\thttps://pbs.twimg.com/media/CdElVm7XEAADP6o.jpg\\t1\\tChihuahua\\t0.888468\\tTrue\\tItalian_greyhound\\t0.0886346\\tTrue\\ttoy_terrier\\t0.0159383\\tTrue\\n707411934438625280\\thttps://pbs.twimg.com/media/CdE7ZktXIAEiWLj.jpg\\t1\\tLakeland_terrier\\t0.7382770000000001\\tTrue\\tAiredale\\t0.0285149\\tTrue\\tgiant_schnauzer\\t0.0248763\\tTrue\\n707420581654872064\\thttps://pbs.twimg.com/media/CdFDQVgWIAArslx.jpg\\t1\\tram\\t0.518215\\tFalse\\tkuvasz\\t0.149391\\tTrue\\tGreat_Pyrenees\\t0.106003\\tTrue\\n707610948723478529\\thttps://pbs.twimg.com/media/CdHwZd0VIAA4792.jpg\\t1\\tgolden_retriever\\t0.383223\\tTrue\\tcocker_spaniel\\t0.16593\\tTrue\\tChesapeake_Bay_retriever\\t0.118199\\tTrue\\n707693576495472641\\thttps://pbs.twimg.com/media/CdI7jDnW0AA2dtO.jpg\\t1\\tbathtub\\t0.499525\\tFalse\\ttub\\t0.48801400000000006\\tFalse\\twashbasin\\t0.00929825\\tFalse\\n707741517457260545\\thttps://pbs.twimg.com/media/CdJnJ1dUEAARNcf.jpg\\t1\\twhippet\\t0.738371\\tTrue\\tItalian_greyhound\\t0.19178900000000002\\tTrue\\tAmerican_Staffordshire_terrier\\t0.0201257\\tTrue\\n707776935007539200\\thttps://pbs.twimg.com/media/CdKHWimWoAABs08.jpg\\t1\\tminiature_pinscher\\t0.890426\\tTrue\\ttoy_terrier\\t0.0513347\\tTrue\\tChihuahua\\t0.018015299999999998\\tTrue\\n707969809498152960\\thttps://pbs.twimg.com/media/CdM2xRpXEAUsR4k.jpg\\t1\\ttoy_poodle\\t0.9084909999999999\\tTrue\\tminiature_poodle\\t0.0826516\\tTrue\\tteddy\\t0.00578613\\tFalse\\n707995814724026368\\thttps://pbs.twimg.com/media/CdNOb17WwAA5z4A.jpg\\t1\\tagama\\t0.172087\\tFalse\\tGila_monster\\t0.126978\\tFalse\\tlumbermill\\t0.0504\\tFalse\\n708026248782585858\\thttps://pbs.twimg.com/ext_tw_video_thumb/708026062568087553/pu/img/rNhylAwIfb6YthGu.jpg\\t1\\tmalinois\\t0.7864680000000001\\tTrue\\tChesapeake_Bay_retriever\\t0.0689789\\tTrue\\tSiamese_cat\\t0.029304400000000005\\tFalse\\n708109389455101952\\thttps://pbs.twimg.com/media/CdO1u9vWAAApj2V.jpg\\t1\\tStaffordshire_bullterrier\\t0.5161060000000001\\tTrue\\tAmerican_Staffordshire_terrier\\t0.236075\\tTrue\\tkelpie\\t0.0697495\\tTrue\\n708119489313951744\\thttps://pbs.twimg.com/media/CdO-6x5W8AENSBJ.jpg\\t1\\tNorwich_terrier\\t0.26448299999999997\\tTrue\\tNorfolk_terrier\\t0.258786\\tTrue\\tchow\\t0.09689869999999999\\tTrue\\n708130923141795840\\thttps://pbs.twimg.com/media/CdPJUWIWIAAIchl.jpg\\t1\\tFrench_bulldog\\t0.710354\\tTrue\\tChihuahua\\t0.262302\\tTrue\\tCardigan\\t0.00690382\\tTrue\\n708149363256774660\\thttps://pbs.twimg.com/media/CdPaEkHW8AA-Wom.jpg\\t1\\tCardigan\\t0.350993\\tTrue\\tbasset\\t0.164555\\tTrue\\ttoy_terrier\\t0.0804836\\tTrue\\n708349470027751425\\thttps://pbs.twimg.com/media/CdSQFWOWAAApgfq.jpg\\t1\\tmuzzle\\t0.24389\\tFalse\\tbasenji\\t0.187158\\tTrue\\tBoston_bull\\t0.092727\\tTrue\\n708356463048204288\\thttps://pbs.twimg.com/media/CdSWcc1XIAAXc6H.jpg\\t2\\tpug\\t0.871283\\tTrue\\tFrench_bulldog\\t0.041819999999999996\\tTrue\\tbath_towel\\t0.015228\\tFalse\\n708469915515297792\\thttps://pbs.twimg.com/media/CdT9n7mW0AQcpZU.jpg\\t1\\tChihuahua\\t0.748163\\tTrue\\ttoy_terrier\\t0.127717\\tTrue\\tPembroke\\t0.042141000000000005\\tTrue\\n708479650088034305\\thttps://pbs.twimg.com/media/CdUGcLMWAAI42q0.jpg\\t1\\tShih-Tzu\\t0.218479\\tTrue\\tLhasa\\t0.201966\\tTrue\\tNorfolk_terrier\\t0.165225\\tTrue\\n708711088997666817\\thttps://pbs.twimg.com/media/CdXY-GHWoAALing.jpg\\t2\\ttennis_ball\\t0.912961\\tFalse\\tGerman_short-haired_pointer\\t0.0526946\\tTrue\\tLabrador_retriever\\t0.0184774\\tTrue\\n708738143638450176\\thttps://pbs.twimg.com/media/CdXxlFPWwAABaOv.jpg\\t1\\tPomeranian\\t0.933457\\tTrue\\tSamoyed\\t0.05722080000000001\\tTrue\\tWest_Highland_white_terrier\\t0.0009041510000000001\\tTrue\\n708810915978854401\\thttps://pbs.twimg.com/media/CdYzwuYUIAAHPkB.jpg\\t2\\tgolden_retriever\\t0.976139\\tTrue\\tLabrador_retriever\\t0.0163009\\tTrue\\tNorfolk_terrier\\t0.00187137\\tTrue\\n708834316713893888\\thttps://pbs.twimg.com/media/CdZI_bpWEAAm1fs.jpg\\t1\\tEskimo_dog\\t0.283945\\tTrue\\tgiant_panda\\t0.218252\\tFalse\\tmalamute\\t0.180401\\tTrue\\n708845821941387268\\thttps://pbs.twimg.com/media/CdZTgynWwAATZcx.jpg\\t1\\tschipperke\\t0.74564\\tTrue\\tkelpie\\t0.167853\\tTrue\\tBoston_bull\\t0.014762899999999999\\tTrue\\n709042156699303936\\thttps://pbs.twimg.com/media/CdcGBB3WwAAGBuU.jpg\\t1\\thotdog\\t0.8265790000000001\\tFalse\\tRottweiler\\t0.0681793\\tTrue\\tLabrador_retriever\\t0.0492179\\tTrue\\n709158332880297985\\thttps://pbs.twimg.com/media/CddvvSwWoAUObQw.jpg\\t1\\tSiberian_husky\\t0.212957\\tTrue\\tEskimo_dog\\t0.178887\\tTrue\\tLabrador_retriever\\t0.174218\\tTrue\\n709198395643068416\\thttps://pbs.twimg.com/media/CdeUKpcWoAAJAWJ.jpg\\t1\\tborzoi\\t0.49078299999999997\\tTrue\\twire-haired_fox_terrier\\t0.0835133\\tTrue\\tEnglish_setter\\t0.0831843\\tTrue\\n709207347839836162\\thttps://pbs.twimg.com/media/CdecUSzUIAAHCvg.jpg\\t1\\tChihuahua\\t0.9483229999999999\\tTrue\\tItalian_greyhound\\t0.0177303\\tTrue\\tquilt\\t0.016687900000000002\\tFalse\\n709225125749587968\\thttps://pbs.twimg.com/media/Cdese-zWEAArIqE.jpg\\t1\\tLabrador_retriever\\t0.271109\\tTrue\\tPomeranian\\t0.15048699999999998\\tTrue\\tgolden_retriever\\t0.14557799999999999\\tTrue\\n709409458133323776\\thttps://pbs.twimg.com/media/CdhUIMSUIAA4wYK.jpg\\t1\\tShetland_sheepdog\\t0.79745\\tTrue\\tcollie\\t0.0540553\\tTrue\\tkeeshond\\t0.0316733\\tTrue\\n709449600415961088\\thttps://pbs.twimg.com/media/Cdh4pgAW0AEKJ_a.jpg\\t2\\tMaltese_dog\\t0.780187\\tTrue\\tDandie_Dinmont\\t0.07442869999999999\\tTrue\\tNorfolk_terrier\\t0.03377619999999999\\tTrue\\n709519240576036864\\thttps://pbs.twimg.com/media/Cdi3-f7W8AUOm9T.jpg\\t1\\tcocker_spaniel\\t0.41498199999999996\\tTrue\\tNewfoundland\\t0.22548200000000002\\tTrue\\tflat-coated_retriever\\t0.19678900000000002\\tTrue\\n709556954897764353\\thttps://pbs.twimg.com/media/CdjaSFCWAAAJZh3.jpg\\t2\\tgolden_retriever\\t0.790026\\tTrue\\tkuvasz\\t0.105031\\tTrue\\tLabrador_retriever\\t0.0870512\\tTrue\\n709566166965075968\\thttps://pbs.twimg.com/media/Cdjiqi6XIAIUOg-.jpg\\t1\\tchow\\t0.9998370000000001\\tTrue\\tTibetan_mastiff\\t0.00011690700000000001\\tTrue\\tAustralian_terrier\\t1.13384e-05\\tTrue\\n709852847387627521\\thttps://pbs.twimg.com/media/CdnnZhhWAAEAoUc.jpg\\t2\\tChihuahua\\t0.945629\\tTrue\\tPomeranian\\t0.019203599999999998\\tTrue\\tWest_Highland_white_terrier\\t0.010134200000000001\\tTrue\\n709901256215666688\\thttps://pbs.twimg.com/media/CdoTbL_XIAAitq2.jpg\\t2\\tbib\\t0.998814\\tFalse\\thandkerchief\\t0.000511773\\tFalse\\tumbrella\\t0.000224477\\tFalse\\n709918798883774466\\thttps://pbs.twimg.com/media/CdojYQmW8AApv4h.jpg\\t2\\tPembroke\\t0.9562219999999999\\tTrue\\tCardigan\\t0.0207273\\tTrue\\tChihuahua\\t0.00791218\\tTrue\\n710117014656950272\\thttps://pbs.twimg.com/media/CdrXp9dWoAAcRfn.jpg\\t2\\ttoy_poodle\\t0.802092\\tTrue\\tminiature_poodle\\t0.111647\\tTrue\\tcocker_spaniel\\t0.0628662\\tTrue\\n710140971284037632\\thttps://pbs.twimg.com/media/Cdrtcr-W4AAqi5H.jpg\\t1\\tPekinese\\t0.9531700000000001\\tTrue\\tpapillon\\t0.0195169\\tTrue\\tJapanese_spaniel\\t0.00582051\\tTrue\\n710153181850935296\\thttps://pbs.twimg.com/media/Cdr4jO2UAAAIo6W.jpg\\t2\\tcowboy_hat\\t0.9790530000000001\\tFalse\\tsombrero\\t0.010682500000000001\\tFalse\\tcocker_spaniel\\t0.00271296\\tTrue\\n710269109699739648\\thttps://pbs.twimg.com/media/Cdth_KyWEAEXH3u.jpg\\t1\\tpug\\t0.415495\\tTrue\\tGerman_shepherd\\t0.17815699999999998\\tTrue\\tLabrador_retriever\\t0.100202\\tTrue\\n710272297844797440\\thttps://pbs.twimg.com/media/Cdtk414WoAIUG0v.jpg\\t1\\tOld_English_sheepdog\\t0.586307\\tTrue\\twire-haired_fox_terrier\\t0.118622\\tTrue\\tLakeland_terrier\\t0.106806\\tTrue\\n710283270106132480\\thttps://pbs.twimg.com/media/Cdtu3WRUkAAsRVx.jpg\\t2\\tShih-Tzu\\t0.932401\\tTrue\\tLhasa\\t0.030805700000000002\\tTrue\\tTibetan_terrier\\t0.00897428\\tTrue\\n710588934686908417\\thttps://pbs.twimg.com/media/CdyE2x1W8AAe0TG.jpg\\t4\\tPembroke\\t0.9820040000000001\\tTrue\\tCardigan\\t0.00894347\\tTrue\\tmalamute\\t0.007549899999999999\\tTrue\\n710658690886586372\\thttps://pbs.twimg.com/media/CdzETn4W4AAVU5N.jpg\\t1\\tsoft-coated_wheaten_terrier\\t0.948617\\tTrue\\tDandie_Dinmont\\t0.0186644\\tTrue\\tcairn\\t0.0159427\\tTrue\\n710833117892898816\\thttps://pbs.twimg.com/media/Cd1i8qvUkAE-Jlr.jpg\\t1\\tPembroke\\t0.803742\\tTrue\\tCardigan\\t0.189712\\tTrue\\tGerman_shepherd\\t0.00174609\\tTrue\\n710844581445812225\\thttps://pbs.twimg.com/media/Cd1tYGmXIAAoW5b.jpg\\t1\\tdingo\\t0.536593\\tFalse\\tPembroke\\t0.200407\\tTrue\\tbasenji\\t0.060734500000000004\\tTrue\\n710997087345876993\\thttps://pbs.twimg.com/media/Cd34FClUMAAnvGP.jpg\\t1\\tmalamute\\t0.28126\\tTrue\\tEskimo_dog\\t0.232641\\tTrue\\tPembroke\\t0.091602\\tTrue\\n711008018775851008\\thttps://pbs.twimg.com/media/Cd4CBQFW8AAY3ND.jpg\\t1\\tFrench_bulldog\\t0.731405\\tTrue\\tBoston_bull\\t0.150672\\tTrue\\tpug\\t0.0218109\\tTrue\\n711306686208872448\\thttps://pbs.twimg.com/media/Cd8Rpl0W0AAN1kU.jpg\\t1\\tleatherback_turtle\\t0.280835\\tFalse\\tloggerhead\\t0.12329000000000001\\tFalse\\tDandie_Dinmont\\t0.0867925\\tTrue\\n711363825979756544\\thttps://pbs.twimg.com/media/Cd9Fn5QUMAAYMT4.jpg\\t1\\tPembroke\\t0.7509060000000001\\tTrue\\tCardigan\\t0.241152\\tTrue\\tbasenji\\t0.00263962\\tTrue\\n711652651650457602\\thttps://pbs.twimg.com/media/CeBMT6-WIAA7Qqf.jpg\\t1\\tllama\\t0.8567889999999999\\tFalse\\tArabian_camel\\t0.098727\\tFalse\\tneck_brace\\t0.0163772\\tFalse\\n711694788429553666\\thttps://pbs.twimg.com/tweet_video_thumb/CeBym7oXEAEWbEg.jpg\\t1\\tbrown_bear\\t0.7132930000000001\\tFalse\\tIndian_elephant\\t0.172844\\tFalse\\twater_buffalo\\t0.0389022\\tFalse\\n711732680602345472\\thttps://pbs.twimg.com/media/CeCVGEbUYAASeY4.jpg\\t3\\tdingo\\t0.366875\\tFalse\\tIbizan_hound\\t0.334929\\tTrue\\tEskimo_dog\\t0.07387619999999999\\tTrue\\n711743778164514816\\thttps://pbs.twimg.com/media/CeCfMPDW0AAAEUj.jpg\\t1\\tLakeland_terrier\\t0.45951499999999995\\tTrue\\tminiature_poodle\\t0.21966100000000002\\tTrue\\tstandard_poodle\\t0.130189\\tTrue\\n711968124745228288\\thttps://pbs.twimg.com/media/CeFrO3qXEAADRbd.jpg\\t1\\tespresso\\t0.43013500000000005\\tFalse\\tcoffee_mug\\t0.418483\\tFalse\\tcup\\t0.08839119999999999\\tFalse\\n711998809858043904\\thttps://pbs.twimg.com/tweet_video_thumb/CeGGkWuUUAAYWU1.jpg\\t1\\tcomic_book\\t0.105171\\tFalse\\tkuvasz\\t0.0598951\\tTrue\\tbook_jacket\\t0.046638099999999995\\tFalse\\n712065007010385924\\thttps://pbs.twimg.com/media/CeHDV73W0AM5Cf8.jpg\\t1\\tgoose\\t0.21430100000000002\\tFalse\\tgibbon\\t0.084253\\tFalse\\tpizza\\t0.0801683\\tFalse\\n712085617388212225\\thttps://pbs.twimg.com/media/CeHWFksXIAAyypp.jpg\\t2\\tShih-Tzu\\t0.625129\\tTrue\\tTibetan_terrier\\t0.126897\\tTrue\\tLhasa\\t0.119663\\tTrue\\n712092745624633345\\thttps://pbs.twimg.com/media/CeHckpuW4AAF7rT.jpg\\t1\\ttriceratops\\t0.235373\\tFalse\\tllama\\t0.153126\\tFalse\\tthree-toed_sloth\\t0.11184000000000001\\tFalse\\n712097430750289920\\thttps://pbs.twimg.com/media/CeHg1klW8AE4YOB.jpg\\t1\\tLabrador_retriever\\t0.720481\\tTrue\\twhippet\\t0.048031800000000006\\tTrue\\tChesapeake_Bay_retriever\\t0.0450464\\tTrue\\n712438159032893441\\thttps://pbs.twimg.com/media/CeMWubMWwAA6GwF.jpg\\t1\\tice_bear\\t0.869477\\tFalse\\tGreat_Pyrenees\\t0.069457\\tTrue\\tLabrador_retriever\\t0.02474\\tTrue\\n712668654853337088\\thttps://pbs.twimg.com/media/CePoVTyWsAQEz1g.jpg\\t1\\tLabrador_retriever\\t0.829058\\tTrue\\tgolden_retriever\\t0.0386645\\tTrue\\tChihuahua\\t0.0262214\\tTrue\\n712717840512598017\\thttps://pbs.twimg.com/media/CeQVF1eVIAAJaTv.jpg\\t1\\tGreat_Pyrenees\\t0.732043\\tTrue\\tkuvasz\\t0.121375\\tTrue\\tIrish_wolfhound\\t0.0495237\\tTrue\\n712809025985978368\\thttps://pbs.twimg.com/media/CeRoBaxWEAABi0X.jpg\\t1\\tLabrador_retriever\\t0.8686709999999999\\tTrue\\tcarton\\t0.0950952\\tFalse\\tpug\\t0.00765137\\tTrue\\n713175907180089344\\thttps://pbs.twimg.com/media/CeW1tERWAAAA9Q2.jpg\\t1\\ttimber_wolf\\t0.503788\\tFalse\\tmalamute\\t0.43062399999999995\\tTrue\\tSiberian_husky\\t0.028454200000000002\\tTrue\\n713177543487135744\\thttps://pbs.twimg.com/media/CeW3MWMWQAEOMbq.jpg\\t1\\twhippet\\t0.734244\\tTrue\\tbasenji\\t0.025948000000000002\\tTrue\\tGreat_Dane\\t0.0258743\\tTrue\\n713411074226274305\\thttps://pbs.twimg.com/media/CeaLlAPUMAIcC7U.jpg\\t1\\tGreat_Pyrenees\\t0.720337\\tTrue\\tSamoyed\\t0.12954200000000002\\tTrue\\tkuvasz\\t0.122451\\tTrue\\n713761197720473600\\thttps://pbs.twimg.com/media/CefKBOuWIAAIlKD.jpg\\t1\\tBrittany_spaniel\\t0.797936\\tTrue\\tEnglish_springer\\t0.04471819999999999\\tTrue\\tWelsh_springer_spaniel\\t0.0379107\\tTrue\\n713900603437621249\\thttps://pbs.twimg.com/media/CehIzzZWQAEyHH5.jpg\\t1\\tgolden_retriever\\t0.371816\\tTrue\\tcocker_spaniel\\t0.17741300000000002\\tTrue\\tIrish_setter\\t0.0927252\\tTrue\\n713919462244790272\\thttps://pbs.twimg.com/media/CehZ9mLWsAAsn28.jpg\\t1\\tSiberian_husky\\t0.46322299999999994\\tTrue\\tEskimo_dog\\t0.389959\\tTrue\\tmalamute\\t0.0979627\\tTrue\\n714141408463036416\\thttps://pbs.twimg.com/media/Cekj0qwXEAAHcS6.jpg\\t1\\tLabrador_retriever\\t0.586951\\tTrue\\tgolden_retriever\\t0.378812\\tTrue\\tredbone\\t0.00360489\\tTrue\\n714214115368108032\\thttps://pbs.twimg.com/media/Cell8ikWIAACCJ-.jpg\\t1\\tpug\\t0.533967\\tTrue\\tbloodhound\\t0.164826\\tTrue\\tGerman_shepherd\\t0.046524\\tTrue\\n714251586676113411\\thttps://pbs.twimg.com/media/CemIBt4WwAQqhVV.jpg\\t2\\tsoft-coated_wheaten_terrier\\t0.751962\\tTrue\\tBedlington_terrier\\t0.175652\\tTrue\\tGreat_Pyrenees\\t0.0114524\\tTrue\\n714258258790387713\\thttps://pbs.twimg.com/media/CemOGNjWQAEoN7R.jpg\\t1\\tcollie\\t0.176758\\tTrue\\tChesapeake_Bay_retriever\\t0.10183400000000001\\tTrue\\tbeagle\\t0.10129400000000001\\tTrue\\n714606013974974464\\thttps://pbs.twimg.com/media/CerKYG8WAAM1aE-.jpg\\t1\\tNorfolk_terrier\\t0.293007\\tTrue\\tLabrador_retriever\\t0.256198\\tTrue\\tgolden_retriever\\t0.129643\\tTrue\\n714631576617938945\\thttps://pbs.twimg.com/media/CerhoBWWAAA5eLL.jpg\\t1\\tmeerkat\\t0.143497\\tFalse\\tweasel\\t0.11740199999999999\\tFalse\\tblack-footed_ferret\\t0.0999327\\tFalse\\n714957620017307648\\thttps://pbs.twimg.com/media/CewKKiOWwAIe3pR.jpg\\t1\\tGreat_Pyrenees\\t0.25151599999999996\\tTrue\\tSamoyed\\t0.139346\\tTrue\\tkuvasz\\t0.129005\\tTrue\\n714982300363173890\\thttps://pbs.twimg.com/media/CewgnHAXEAAdbld.jpg\\t1\\tBrittany_spaniel\\t0.944376\\tTrue\\tbeagle\\t0.025435299999999997\\tTrue\\tIbizan_hound\\t0.00996204\\tTrue\\n715009755312439296\\thttps://pbs.twimg.com/media/Cew5kyOWsAA8Y_o.jpg\\t1\\tdingo\\t0.31090300000000004\\tFalse\\tChihuahua\\t0.142288\\tTrue\\tCardigan\\t0.10394500000000001\\tTrue\\n715200624753819648\\thttps://pbs.twimg.com/media/CeznK6IWEAEFUPq.jpg\\t1\\tChihuahua\\t0.956787\\tTrue\\tbeagle\\t0.00838287\\tTrue\\tLabrador_retriever\\t0.00834409\\tTrue\\n715220193576927233\\thttps://pbs.twimg.com/media/Cez49UqWsAIRQXc.jpg\\t1\\tChihuahua\\t0.584026\\tTrue\\tItalian_greyhound\\t0.377077\\tTrue\\tBoston_bull\\t0.017400400000000003\\tTrue\\n715342466308784130\\thttps://pbs.twimg.com/media/Ce1oLNqWAAE34w7.jpg\\t1\\tWest_Highland_white_terrier\\t0.597111\\tTrue\\tsoft-coated_wheaten_terrier\\t0.142993\\tTrue\\tLakeland_terrier\\t0.136712\\tTrue\\n715360349751484417\\thttps://pbs.twimg.com/media/Ce14cOvWwAAcFJH.jpg\\t1\\tnail\\t0.8555520000000001\\tFalse\\tscrew\\t0.0732773\\tFalse\\tpadlock\\t0.0239704\\tFalse\\n715680795826982913\\thttps://pbs.twimg.com/media/Ce6b4MPWwAA22Xm.jpg\\t1\\tgolden_retriever\\t0.990715\\tTrue\\tLabrador_retriever\\t0.00222834\\tTrue\\tchow\\t0.00119715\\tTrue\\n715696743237730304\\thttps://pbs.twimg.com/media/Ce6qZC2WAAAcSoI.jpg\\t1\\tStaffordshire_bullterrier\\t0.427836\\tTrue\\tpug\\t0.22140900000000002\\tTrue\\tFrench_bulldog\\t0.132135\\tTrue\\n715733265223708672\\thttps://pbs.twimg.com/media/Ce7LlUeUUAEQkQl.jpg\\t1\\tDandie_Dinmont\\t0.740229\\tTrue\\tminiature_poodle\\t0.0819151\\tTrue\\ttoy_poodle\\t0.0637485\\tTrue\\n715928423106027520\\thttps://pbs.twimg.com/media/Ce99GhLW8AAHG38.jpg\\t1\\tpug\\t0.976685\\tTrue\\tFrench_bulldog\\t0.0196626\\tTrue\\tbull_mastiff\\t0.00227819\\tTrue\\n716080869887381504\\thttps://pbs.twimg.com/media/CfAHv83UMAIEQYx.jpg\\t1\\tgolden_retriever\\t0.638625\\tTrue\\tchow\\t0.254717\\tTrue\\tTibetan_mastiff\\t0.0717317\\tTrue\\n716285507865542656\\thttps://pbs.twimg.com/media/CfDB3aJXEAAEZNv.jpg\\t1\\tYorkshire_terrier\\t0.43041999999999997\\tTrue\\tsilky_terrier\\t0.196769\\tTrue\\tcairn\\t0.07267610000000001\\tTrue\\n716439118184652801\\thttps://pbs.twimg.com/media/CfFNk7cWAAA-hND.jpg\\t1\\tSiberian_husky\\t0.396495\\tTrue\\tmalamute\\t0.31705300000000003\\tTrue\\tEskimo_dog\\t0.273419\\tTrue\\n716791146589110272\\thttps://pbs.twimg.com/media/CfKNvU8WsAAvI9Z.jpg\\t1\\tPomeranian\\t0.46875100000000003\\tTrue\\tseat_belt\\t0.154652\\tFalse\\tgolden_retriever\\t0.12501700000000002\\tTrue\\n716802964044845056\\thttps://pbs.twimg.com/media/CfKYfeBXIAAopp2.jpg\\t2\\tmalinois\\t0.619577\\tTrue\\tLeonberg\\t0.11808900000000001\\tTrue\\tbull_mastiff\\t0.06650779999999999\\tTrue\\n717009362452090881\\thttps://pbs.twimg.com/media/CfNUNetW8AAekHx.jpg\\t1\\tSiberian_husky\\t0.506154\\tTrue\\tEskimo_dog\\t0.269656\\tTrue\\tmalamute\\t0.060658500000000004\\tTrue\\n717047459982213120\\thttps://pbs.twimg.com/media/CfN23ArXEAEkZkz.jpg\\t1\\tgolden_retriever\\t0.983548\\tTrue\\tLabrador_retriever\\t0.0121854\\tTrue\\tcocker_spaniel\\t0.00241203\\tTrue\\n717421804990701568\\thttps://pbs.twimg.com/media/CfTLUYWXEAEkyES.jpg\\t2\\tminiature_pinscher\\t0.286479\\tTrue\\tItalian_greyhound\\t0.0841339\\tTrue\\tbeagle\\t0.064697\\tTrue\\n717537687239008257\\thttps://pbs.twimg.com/media/CfU0t75W4AAUo9V.jpg\\t1\\tgolden_retriever\\t0.779356\\tTrue\\tLabrador_retriever\\t0.05251140000000001\\tTrue\\tkuvasz\\t0.0498105\\tTrue\\n717790033953034240\\thttps://pbs.twimg.com/media/CfYaOeMWQAAGfyP.jpg\\t1\\tcar_mirror\\t0.819106\\tFalse\\tminibus\\t0.10738299999999999\\tFalse\\tcab\\t0.0348464\\tFalse\\n717841801130979328\\thttps://pbs.twimg.com/media/CfZJTphWAAAl5Ys.jpg\\t1\\tBrittany_spaniel\\t0.922876\\tTrue\\tEnglish_springer\\t0.0701135\\tTrue\\tbath_towel\\t0.00256079\\tFalse\\n718234618122661888\\thttps://pbs.twimg.com/media/CfeukpmW4AEGjOE.jpg\\t1\\tmalamute\\t0.370152\\tTrue\\tSiberian_husky\\t0.356398\\tTrue\\tEskimo_dog\\t0.271042\\tTrue\\n718246886998687744\\thttps://pbs.twimg.com/media/Cfe5tLWXEAIaoFO.jpg\\t1\\tChihuahua\\t0.354488\\tTrue\\tcarton\\t0.159672\\tFalse\\tSiberian_husky\\t0.05749830000000001\\tTrue\\n718454725339934721\\thttps://pbs.twimg.com/media/Cfh2w6HWIAIIYAF.jpg\\t1\\thammer\\t0.16986500000000002\\tFalse\\thatchet\\t0.115744\\tFalse\\tchime\\t0.0680916\\tFalse\\n718460005985447936\\thttps://pbs.twimg.com/media/Cfh7j6CWQAAndTd.jpg\\t1\\tbadger\\t0.356946\\tFalse\\tBoston_bull\\t0.252781\\tTrue\\tkelpie\\t0.11343299999999999\\tTrue\\n718540630683709445\\thttps://pbs.twimg.com/media/CfjE5FRXEAErFWR.jpg\\t2\\tMaltese_dog\\t0.632289\\tTrue\\tWest_Highland_white_terrier\\t0.187055\\tTrue\\tcairn\\t0.044412900000000005\\tTrue\\n718613305783398402\\thttps://pbs.twimg.com/media/CfkG_PMWsAAH0MZ.jpg\\t1\\tLabrador_retriever\\t0.58458\\tTrue\\tGerman_short-haired_pointer\\t0.34065700000000004\\tTrue\\tChesapeake_Bay_retriever\\t0.0319751\\tTrue\\n718631497683582976\\thttps://pbs.twimg.com/media/CfkXiX6W4AAmICF.jpg\\t1\\tPomeranian\\t0.993718\\tTrue\\tPekinese\\t0.00361083\\tTrue\\tPersian_cat\\t0.000524823\\tFalse\\n718939241951195136\\thttps://pbs.twimg.com/media/CfovbK4WIAAkTn3.jpg\\t1\\tPembroke\\t0.7663270000000001\\tTrue\\tCardigan\\t0.22212600000000002\\tTrue\\ttoilet_tissue\\t0.00675723\\tFalse\\n718971898235854848\\thttps://pbs.twimg.com/media/CfpNGTHUIAAA8XC.jpg\\t1\\tgolden_retriever\\t0.14039400000000002\\tTrue\\tSaint_Bernard\\t0.118769\\tTrue\\tLabrador_retriever\\t0.0754917\\tTrue\\n719332531645071360\\thttps://pbs.twimg.com/media/CfuVGl3WEAEKb16.jpg\\t1\\tDandie_Dinmont\\t0.224415\\tTrue\\tminiature_poodle\\t0.204882\\tTrue\\tNorfolk_terrier\\t0.09063289999999999\\tTrue\\n719339463458033665\\thttps://pbs.twimg.com/media/Cfuba6NW4AIeMHk.jpg\\t1\\tgolden_retriever\\t0.765778\\tTrue\\tborzoi\\t0.0711481\\tTrue\\tLeonberg\\t0.0703705\\tTrue\\n719367763014393856\\thttps://pbs.twimg.com/media/Cfu1KSRXEAACC5X.jpg\\t1\\tswing\\t0.171486\\tFalse\\tsoft-coated_wheaten_terrier\\t0.050970999999999995\\tTrue\\tTibetan_terrier\\t0.0477594\\tTrue\\n719551379208073216\\thttps://pbs.twimg.com/media/CfxcKU6W8AE-wEx.jpg\\t1\\tmalamute\\t0.873233\\tTrue\\tSiberian_husky\\t0.07643539999999999\\tTrue\\tEskimo_dog\\t0.035745\\tTrue\\n719704490224398336\\thttps://pbs.twimg.com/media/CfznaXuUsAAH-py.jpg\\t1\\thome_theater\\t0.059032600000000005\\tFalse\\twindow_shade\\t0.038299\\tFalse\\tbathtub\\t0.035528199999999996\\tFalse\\n719991154352222208\\thttps://pbs.twimg.com/media/Cf3sH62VAAA-LiP.jpg\\t2\\tgolden_retriever\\t0.605304\\tTrue\\tcocker_spaniel\\t0.130948\\tTrue\\tLabrador_retriever\\t0.0946916\\tTrue\\n720043174954147842\\thttps://pbs.twimg.com/media/Cf4bcm8XEAAX4xV.jpg\\t1\\tSamoyed\\t0.9545170000000001\\tTrue\\tEskimo_dog\\t0.0291296\\tTrue\\twhite_wolf\\t0.00446203\\tFalse\\n720059472081784833\\thttps://pbs.twimg.com/media/Cf4qRcmWEAA9V4h.jpg\\t1\\tMexican_hairless\\t0.45185200000000003\\tTrue\\tredbone\\t0.254884\\tTrue\\tItalian_greyhound\\t0.0948181\\tTrue\\n720340705894408192\\thttps://pbs.twimg.com/media/Cf8qDFbWwAEf8M3.jpg\\t1\\talp\\t0.320126\\tFalse\\tlawn_mower\\t0.0808077\\tFalse\\tviaduct\\t0.065321\\tFalse\\n720389942216527872\\thttps://pbs.twimg.com/media/Cf9W1J-UMAErahM.jpg\\t1\\tPembroke\\t0.873977\\tTrue\\tCardigan\\t0.0433385\\tTrue\\tEskimo_dog\\t0.019197099999999998\\tTrue\\n720415127506415616\\thttps://pbs.twimg.com/media/Cf9tuHUWsAAHSrV.jpg\\t1\\tRottweiler\\t0.9903120000000001\\tTrue\\tblack-and-tan_coonhound\\t0.00249478\\tTrue\\tAmerican_black_bear\\t0.00173312\\tFalse\\n720775346191278080\\thttps://pbs.twimg.com/media/CgC1WqMW4AI1_N0.jpg\\t1\\tNewfoundland\\t0.48996999999999996\\tTrue\\tgroenendael\\t0.174497\\tTrue\\tgiant_schnauzer\\t0.07906669999999999\\tTrue\\n720785406564900865\\thttps://pbs.twimg.com/media/CgC-gMCWcAAawUE.jpg\\t1\\tChihuahua\\t0.8964219999999999\\tTrue\\tdingo\\t0.027929400000000004\\tFalse\\tkelpie\\t0.0179158\\tTrue\\n721001180231503872\\thttps://pbs.twimg.com/media/CgGCvxAUkAAx55r.jpg\\t1\\tSamoyed\\t0.950053\\tTrue\\twashbasin\\t0.00632139\\tFalse\\ttub\\t0.00624335\\tFalse\\n721503162398597120\\thttps://pbs.twimg.com/media/CgNLS1PW8AAxWSN.jpg\\t3\\tPomeranian\\t0.99775\\tTrue\\tChihuahua\\t0.001248\\tTrue\\tPekinese\\t0.000775002\\tTrue\\n722613351520608256\\thttps://pbs.twimg.com/media/Cgc9AjMVIAERdUA.jpg\\t1\\tLabrador_retriever\\t0.5309149999999999\\tTrue\\tgolden_retriever\\t0.28823000000000004\\tTrue\\tchow\\t0.044853699999999996\\tTrue\\n722974582966214656\\thttps://pbs.twimg.com/media/CgiFjIpWgAA4wVp.jpg\\t1\\tGreat_Dane\\t0.24676199999999998\\tTrue\\tGreater_Swiss_Mountain_dog\\t0.126131\\tTrue\\tWeimaraner\\t0.0852969\\tTrue\\n723179728551723008\\thttps://pbs.twimg.com/media/CglAHjAUgAAfxcq.jpg\\t1\\ttennis_ball\\t0.176495\\tFalse\\tbadger\\t0.0599052\\tFalse\\tNorwegian_elkhound\\t0.0568505\\tTrue\\n723673163800948736\\thttps://pbs.twimg.com/media/CgsA5eFWgAAu0qn.jpg\\t1\\tgolden_retriever\\t0.83939\\tTrue\\tLabrador_retriever\\t0.0657058\\tTrue\\thand_blower\\t0.012941\\tFalse\\n723688335806480385\\thttps://pbs.twimg.com/media/CgsOszGW0AAruKp.jpg\\t2\\tteddy\\t0.263256\\tFalse\\tchow\\t0.0890102\\tTrue\\tIrish_terrier\\t0.06530570000000001\\tTrue\\n723912936180330496\\thttps://pbs.twimg.com/media/Cgva-QqUUAA7Hv9.jpg\\t1\\tSamoyed\\t0.991772\\tTrue\\tPomeranian\\t0.00362638\\tTrue\\tchow\\t0.00223183\\tTrue\\n724004602748780546\\thttps://pbs.twimg.com/media/CgwuWCeW4AAsgbD.jpg\\t3\\tSiamese_cat\\t0.950526\\tFalse\\tpug\\t0.018876900000000002\\tTrue\\tquilt\\t0.007627600000000001\\tFalse\\n724046343203856385\\thttps://pbs.twimg.com/media/CgxUTS_XEAAC0pv.jpg\\t1\\tboxer\\t0.8262719999999999\\tTrue\\tbull_mastiff\\t0.158595\\tTrue\\tGreat_Dane\\t0.0118586\\tTrue\\n724049859469295616\\thttps://pbs.twimg.com/media/CgxXf1TWYAEjY61.jpg\\t1\\tBorder_collie\\t0.581835\\tTrue\\tcollie\\t0.344588\\tTrue\\tShetland_sheepdog\\t0.0435842\\tTrue\\n724405726123311104\\thttps://pbs.twimg.com/media/Cg2bKLAWwAA0WEm.jpg\\t1\\tgolden_retriever\\t0.240695\\tTrue\\tcocker_spaniel\\t0.202444\\tTrue\\tfeather_boa\\t0.159348\\tFalse\\n724771698126512129\\thttps://pbs.twimg.com/media/Cg7n_-OU8AA5RR1.jpg\\t2\\tGerman_short-haired_pointer\\t0.835491\\tTrue\\tbluetick\\t0.058788\\tTrue\\tEnglish_setter\\t0.0372083\\tTrue\\n724983749226668032\\thttps://pbs.twimg.com/media/Cg-o3w0WgAANXdv.jpg\\t1\\tgolden_retriever\\t0.67575\\tTrue\\tGreat_Pyrenees\\t0.0951679\\tTrue\\tcocker_spaniel\\t0.0760429\\tTrue\\n725729321944506368\\thttps://pbs.twimg.com/media/ChJO9YaWYAEL0zC.jpg\\t1\\tboxer\\t0.599076\\tTrue\\tbull_mastiff\\t0.177318\\tTrue\\tFrench_bulldog\\t0.141461\\tTrue\\n725786712245440512\\thttps://pbs.twimg.com/media/ChKDKmIWIAIJP_e.jpg\\t1\\tchow\\t0.33576100000000003\\tTrue\\tSamoyed\\t0.167173\\tTrue\\tkuvasz\\t0.145715\\tTrue\\n725842289046749185\\thttps://pbs.twimg.com/media/ChK1tdBWwAQ1flD.jpg\\t1\\ttoy_poodle\\t0.42046300000000003\\tTrue\\tminiature_poodle\\t0.13264\\tTrue\\tChesapeake_Bay_retriever\\t0.121523\\tTrue\\n726224900189511680\\thttps://pbs.twimg.com/media/ChQRsYaW0AETD7z.jpg\\t1\\tstandard_poodle\\t0.261112\\tTrue\\tcocker_spaniel\\t0.0947852\\tTrue\\tbucket\\t0.06994639999999999\\tFalse\\n726828223124897792\\thttps://pbs.twimg.com/media/ChY2aHyWMAAbNQE.jpg\\t1\\tminiature_pinscher\\t0.25532699999999997\\tTrue\\tBorder_terrier\\t0.181279\\tTrue\\tLabrador_retriever\\t0.125185\\tTrue\\n726887082820554753\\thttps://pbs.twimg.com/media/ChZr8SdWIAAVQKt.jpg\\t1\\tsoft-coated_wheaten_terrier\\t0.5159189999999999\\tTrue\\tIrish_terrier\\t0.162655\\tTrue\\tChesapeake_Bay_retriever\\t0.125182\\tTrue\\n726935089318363137\\thttps://pbs.twimg.com/media/ChaXmuAXEAE66KP.jpg\\t2\\tteddy\\t0.821615\\tFalse\\ttoy_poodle\\t0.083749\\tTrue\\tLakeland_terrier\\t0.033318\\tTrue\\n727175381690781696\\thttps://pbs.twimg.com/media/ChdyJvdWwAA5HGd.jpg\\t2\\tflat-coated_retriever\\t0.656463\\tTrue\\tGreat_Dane\\t0.0847658\\tTrue\\tLabrador_retriever\\t0.0589085\\tTrue\\n727286334147182592\\thttps://pbs.twimg.com/media/ChfXDrGUkAEAtF-.jpg\\t1\\tbonnet\\t0.14644000000000001\\tFalse\\tsock\\t0.083091\\tFalse\\tChihuahua\\t0.0705542\\tTrue\\n727314416056803329\\thttps://pbs.twimg.com/media/Chfwmd9U4AQTf1b.jpg\\t2\\ttoy_poodle\\t0.827469\\tTrue\\tminiature_poodle\\t0.16076\\tTrue\\tTibetan_terrier\\t0.00173075\\tTrue\\n727524757080539137\\thttps://pbs.twimg.com/media/Chiv6BAW4AAiQvH.jpg\\t2\\tPomeranian\\t0.958834\\tTrue\\tChihuahua\\t0.0240992\\tTrue\\tchow\\t0.00394105\\tTrue\\n727644517743104000\\thttps://pbs.twimg.com/media/Chkc1BQUoAAa96R.jpg\\t2\\tGreat_Pyrenees\\t0.457164\\tTrue\\tkuvasz\\t0.39171\\tTrue\\tLabrador_retriever\\t0.09452260000000001\\tTrue\\n727685679342333952\\thttps://pbs.twimg.com/media/ChlCQg-VIAQ_8g4.jpg\\t1\\tBorder_collie\\t0.462408\\tTrue\\tcollie\\t0.214556\\tTrue\\tEskimo_dog\\t0.0356036\\tTrue\\n728015554473250816\\thttps://pbs.twimg.com/media/ChpuRyvVAAARMoq.jpg\\t1\\tcocker_spaniel\\t0.38455900000000004\\tTrue\\tgolden_retriever\\t0.091661\\tTrue\\tsandbar\\t0.0817989\\tFalse\\n728035342121635841\\thttps://pbs.twimg.com/media/ChqARqmWsAEI6fB.jpg\\t1\\thandkerchief\\t0.30296100000000004\\tFalse\\tPomeranian\\t0.248664\\tTrue\\tShih-Tzu\\t0.111015\\tTrue\\n728046963732717569\\thttps://pbs.twimg.com/media/ChqK2cVWMAAE5Zj.jpg\\t1\\tNewfoundland\\t0.255971\\tTrue\\tgroenendael\\t0.175583\\tTrue\\tGerman_shepherd\\t0.164135\\tTrue\\n728387165835677696\\thttps://pbs.twimg.com/media/ChvAQuMWMAAVaKD.jpg\\t1\\tcollie\\t0.266414\\tTrue\\tGreat_Pyrenees\\t0.138546\\tTrue\\tkeeshond\\t0.10901400000000001\\tTrue\\n728409960103686147\\thttps://pbs.twimg.com/media/ChvU_DwWMAArx5L.jpg\\t1\\tSiamese_cat\\t0.478278\\tFalse\\tSaint_Bernard\\t0.0942456\\tTrue\\tking_penguin\\t0.0821567\\tFalse\\n728653952833728512\\thttps://pbs.twimg.com/media/Chyy5lQWUAEzxSL.jpg\\t2\\twindow_shade\\t0.594333\\tFalse\\tstudio_couch\\t0.053515\\tFalse\\trotisserie\\t0.0412478\\tFalse\\n728751179681943552\\thttps://pbs.twimg.com/media/Ch0LVPdW0AEdHgU.jpg\\t1\\tSaint_Bernard\\t0.48205\\tTrue\\tcollie\\t0.20274\\tTrue\\tborzoi\\t0.037975800000000004\\tTrue\\n728760639972315136\\thttps://pbs.twimg.com/media/Ch0T71OWMAA4yIw.jpg\\t1\\tPembroke\\t0.939134\\tTrue\\tCardigan\\t0.0543356\\tTrue\\tChihuahua\\t0.00559029\\tTrue\\n728986383096946689\\thttps://pbs.twimg.com/media/Ch3hOGWUYAE7w0y.jpg\\t2\\tMaltese_dog\\t0.9520700000000001\\tTrue\\ttoy_poodle\\t0.027270599999999996\\tTrue\\tminiature_poodle\\t0.00487436\\tTrue\\n729113531270991872\\thttps://pbs.twimg.com/media/Ch5U4FzXEAAShhF.jpg\\t2\\tstone_wall\\t0.6061880000000001\\tFalse\\tprison\\t0.064831\\tFalse\\tbannister\\t0.0480482\\tFalse\\n729463711119904772\\thttps://pbs.twimg.com/media/Ch-TXpFXAAAwPGf.jpg\\t1\\tGerman_shepherd\\t0.829307\\tTrue\\tDoberman\\t0.0225\\tTrue\\tbasenji\\t0.0211901\\tTrue\\n729823566028484608\\thttps://pbs.twimg.com/media/CiDap8fWEAAC4iW.jpg\\t1\\tkelpie\\t0.218408\\tTrue\\tArabian_camel\\t0.11436800000000001\\tFalse\\tcoyote\\t0.0964093\\tFalse\\n729838605770891264\\thttps://pbs.twimg.com/ext_tw_video_thumb/729838572744912896/pu/img/RIl-XYmRxW-YLFSV.jpg\\t1\\tstone_wall\\t0.7582180000000001\\tFalse\\tpatio\\t0.07420539999999999\\tFalse\\tprison\\t0.013826\\tFalse\\n729854734790754305\\thttps://pbs.twimg.com/media/CiD3AfkXEAA3S_r.jpg\\t1\\tdoormat\\t0.359586\\tFalse\\tchina_cabinet\\t0.0539014\\tFalse\\tpassenger_car\\t0.052664699999999995\\tFalse\\n730196704625098752\\thttps://pbs.twimg.com/media/CiIuBwCUgAAAGbz.jpg\\t1\\thand_blower\\t0.296145\\tFalse\\tchain_mail\\t0.262271\\tFalse\\ttoilet_seat\\t0.149497\\tFalse\\n730211855403241472\\thttps://pbs.twimg.com/media/CiI7zVZUoAEzGW7.jpg\\t1\\tpug\\t0.341663\\tTrue\\tNorwegian_elkhound\\t0.171222\\tTrue\\tGerman_shepherd\\t0.12468699999999999\\tTrue\\n730427201120833536\\thttps://pbs.twimg.com/media/CiL_qh0W0AAu5VA.jpg\\t1\\tEskimo_dog\\t0.682082\\tTrue\\tSiberian_husky\\t0.289288\\tTrue\\tStaffordshire_bullterrier\\t0.00877069\\tTrue\\n730573383004487680\\thttps://pbs.twimg.com/media/CiOEnI6WgAAmq4E.jpg\\t2\\tAmerican_Staffordshire_terrier\\t0.810158\\tTrue\\tLabrador_retriever\\t0.05820499999999999\\tTrue\\tWeimaraner\\t0.027929500000000003\\tTrue\\n730924654643314689\\thttps://pbs.twimg.com/media/CiTEFjDXAAAqU6I.jpg\\t1\\tpolecat\\t0.185382\\tFalse\\tmink\\t0.10528199999999999\\tFalse\\tNewfoundland\\t0.0862411\\tTrue\\n731156023742988288\\thttps://pbs.twimg.com/media/CiWWhVNUYAAab_r.jpg\\t1\\tlakeside\\t0.501767\\tFalse\\tbreakwater\\t0.051350599999999996\\tFalse\\tking_penguin\\t0.0494438\\tFalse\\n731285275100512256\\thttps://pbs.twimg.com/media/CiYME3tVAAENz99.jpg\\t1\\tPembroke\\t0.967103\\tTrue\\tCardigan\\t0.0211264\\tTrue\\tChihuahua\\t0.00223107\\tTrue\\n732005617171337216\\thttps://pbs.twimg.com/media/CiibOMzUYAA9Mxz.jpg\\t1\\tEnglish_setter\\t0.677408\\tTrue\\tBorder_collie\\t0.052724\\tTrue\\tcocker_spaniel\\t0.0485719\\tTrue\\n732375214819057664\\thttps://pbs.twimg.com/media/CinrX2EWkAABDYt.jpg\\t1\\ttennis_ball\\t0.9986729999999999\\tFalse\\tbasset\\t0.000547053\\tTrue\\tgolden_retriever\\t0.00035998\\tTrue\\n732585889486888962\\thttps://pbs.twimg.com/media/Ciqq-VFUUAANlWm.jpg\\t2\\tStaffordshire_bullterrier\\t0.843359\\tTrue\\tAmerican_Staffordshire_terrier\\t0.0282903\\tTrue\\tminiature_pinscher\\t0.0167929\\tTrue\\n732726085725589504\\thttps://pbs.twimg.com/media/CisqdVcXEAE3iW7.jpg\\t1\\tPomeranian\\t0.961902\\tTrue\\tSamoyed\\t0.0242893\\tTrue\\tchow\\t0.00577178\\tTrue\\n732732193018155009\\thttps://pbs.twimg.com/media/CiswCQhWYAI5-QW.jpg\\t1\\tkoala\\t0.162935\\tFalse\\tStaffordshire_bullterrier\\t0.127969\\tTrue\\tmongoose\\t0.096421\\tFalse\\n733109485275860992\\thttps://pbs.twimg.com/media/CiyHLocU4AI2pJu.jpg\\t1\\tgolden_retriever\\t0.945523\\tTrue\\tLabrador_retriever\\t0.0423191\\tTrue\\tdoormat\\t0.00395626\\tFalse\\n733460102733135873\\thttps://pbs.twimg.com/media/Ci3GDeyUoAAKOxn.jpg\\t1\\tchow\\t0.931275\\tTrue\\tbeaver\\t0.0288311\\tFalse\\tdhole\\t0.017379\\tFalse\\n733482008106668032\\thttps://pbs.twimg.com/media/Ci3Z_idUkAA8RUh.jpg\\t1\\tFrench_bulldog\\t0.619382\\tTrue\\tcomputer_keyboard\\t0.142274\\tFalse\\tmouse\\t0.0585047\\tFalse\\n733822306246479872\\thttps://pbs.twimg.com/media/Ci8Pfg_UUAA2m9i.jpg\\t1\\tLhasa\\t0.45735600000000004\\tTrue\\tShih-Tzu\\t0.371282\\tTrue\\tTibetan_terrier\\t0.048359\\tTrue\\n733828123016450049\\thttps://pbs.twimg.com/media/Ci8UxxcW0AYgHDh.jpg\\t2\\tbeagle\\t0.47232399999999997\\tTrue\\tWalker_hound\\t0.121779\\tTrue\\tSaint_Bernard\\t0.11464\\tTrue\\n734776360183431168\\thttps://pbs.twimg.com/media/CjJzMlBUoAADMLx.jpg\\t1\\tSiberian_husky\\t0.304902\\tTrue\\tEskimo_dog\\t0.155147\\tTrue\\tmalamute\\t0.050942400000000006\\tTrue\\n734787690684657664\\thttps://pbs.twimg.com/media/CjJ9gQ1WgAAXQtJ.jpg\\t4\\tgolden_retriever\\t0.883991\\tTrue\\tchow\\t0.0235416\\tTrue\\tLabrador_retriever\\t0.0160559\\tTrue\\n734912297295085568\\thttps://pbs.twimg.com/media/CjLuzPvUoAAbU5k.jpg\\t1\\tMaltese_dog\\t0.847292\\tTrue\\tfeather_boa\\t0.0593786\\tFalse\\tOld_English_sheepdog\\t0.052758000000000006\\tTrue\\n735137028879360001\\thttps://pbs.twimg.com/media/CjO7OfeWgAAUQy-.jpg\\t1\\tWalker_hound\\t0.41353500000000004\\tTrue\\tbeagle\\t0.233891\\tTrue\\tEnglish_foxhound\\t0.164943\\tTrue\\n735256018284875776\\thttps://pbs.twimg.com/media/CjQnclkVEAA4pnK.jpg\\t1\\tStaffordshire_bullterrier\\t0.523191\\tTrue\\tFrench_bulldog\\t0.35110399999999997\\tTrue\\tdoormat\\t0.028075299999999997\\tFalse\\n735274964362878976\\thttps://pbs.twimg.com/media/CjQ4radW0AENP-m.jpg\\t1\\tstudio_couch\\t0.944692\\tFalse\\tfour-poster\\t0.00794163\\tFalse\\tquilt\\t0.00630206\\tFalse\\n735635087207878657\\thttps://pbs.twimg.com/media/CjWANBlVAAAaN-a.jpg\\t1\\tpug\\t0.8918709999999999\\tTrue\\tgoose\\t0.0143766\\tFalse\\tfur_coat\\t0.00845143\\tFalse\\n735648611367784448\\thttps://pbs.twimg.com/media/CjWMezdW0AErwU3.jpg\\t1\\tPembroke\\t0.46259399999999995\\tTrue\\tseat_belt\\t0.261854\\tFalse\\tCardigan\\t0.151698\\tTrue\\n735991953473572864\\thttps://pbs.twimg.com/media/CjbExRKUoAAs089.jpg\\t2\\tcocker_spaniel\\t0.961643\\tTrue\\ttoy_poodle\\t0.011546899999999999\\tTrue\\tsoft-coated_wheaten_terrier\\t0.00490333\\tTrue\\n736010884653420544\\thttps://pbs.twimg.com/media/CjbV-lEWgAAr6WY.jpg\\t2\\tgolden_retriever\\t0.553901\\tTrue\\tLabrador_retriever\\t0.119475\\tTrue\\tbluetick\\t0.077475\\tTrue\\n736225175608430592\\thttps://pbs.twimg.com/media/CjeY5DKXEAA3WkD.jpg\\t1\\tLabrador_retriever\\t0.399217\\tTrue\\tWest_Highland_white_terrier\\t0.13771\\tTrue\\tcocker_spaniel\\t0.0620327\\tTrue\\n736365877722001409\\thttps://pbs.twimg.com/media/CjgYyuvWkAAHU8g.jpg\\t3\\tcup\\t0.473555\\tFalse\\ttoy_poodle\\t0.082606\\tTrue\\tconsomme\\t0.048298\\tFalse\\n736736130620620800\\thttps://pbs.twimg.com/media/CjlpmZaUgAED54W.jpg\\t1\\tschipperke\\t0.545502\\tTrue\\tgroenendael\\t0.298622\\tTrue\\tLabrador_retriever\\t0.030986400000000004\\tTrue\\n737310737551491075\\thttps://pbs.twimg.com/ext_tw_video_thumb/737310236135043073/pu/img/_lG4DXmH-_XEq7Rc.jpg\\t1\\tcliff\\t0.43907700000000005\\tFalse\\tlakeside\\t0.0628992\\tFalse\\tvalley\\t0.039758499999999995\\tFalse\\n737322739594330112\\thttps://pbs.twimg.com/media/Cjt_Hm6WsAAjkPG.jpg\\t1\\tguinea_pig\\t0.148526\\tFalse\\tsolar_dish\\t0.09718289999999999\\tFalse\\tpark_bench\\t0.0593119\\tFalse\\n737445876994609152\\thttps://pbs.twimg.com/media/CjvvHBwUoAE55WZ.jpg\\t1\\tSamoyed\\t0.400568\\tTrue\\tPomeranian\\t0.331268\\tTrue\\tMaltese_dog\\t0.0454261\\tTrue\\n737678689543020544\\thttps://pbs.twimg.com/media/CjzC2oGWYAAyIfG.jpg\\t1\\tPembroke\\t0.935307\\tTrue\\tCardigan\\t0.049874199999999994\\tTrue\\tChihuahua\\t0.011603200000000001\\tTrue\\n737800304142471168\\thttps://pbs.twimg.com/media/Cj0xdMBVAAEbDHp.jpg\\t1\\tmalamute\\t0.374682\\tTrue\\tNorwegian_elkhound\\t0.334853\\tTrue\\tlimousine\\t0.0681732\\tFalse\\n737826014890496000\\thttps://pbs.twimg.com/media/Cj1I1fbWYAAOwff.jpg\\t1\\tvizsla\\t0.990391\\tTrue\\tRhodesian_ridgeback\\t0.00560474\\tTrue\\tChesapeake_Bay_retriever\\t0.00286936\\tTrue\\n738156290900254721\\thttps://pbs.twimg.com/media/Cj51Oj3VAAEVe4O.jpg\\t1\\tpug\\t0.751758\\tTrue\\ttub\\t0.110748\\tFalse\\tbathtub\\t0.10413199999999999\\tFalse\\n738166403467907072\\thttps://pbs.twimg.com/media/Cj5-aUQUgAAb43p.jpg\\t2\\tkeeshond\\t0.8788860000000001\\tTrue\\tNorwegian_elkhound\\t0.0866594\\tTrue\\tmalamute\\t0.0212803\\tTrue\\n738184450748633089\\thttps://pbs.twimg.com/media/Cj6O1G9UYAAIU-1.jpg\\t1\\tBedlington_terrier\\t0.289471\\tTrue\\tstandard_poodle\\t0.17368499999999998\\tTrue\\tGreat_Pyrenees\\t0.157081\\tTrue\\n738402415918125056\\thttps://pbs.twimg.com/media/Cj9VEs_XAAAlTai.jpg\\t1\\tcocker_spaniel\\t0.346695\\tTrue\\tBlenheim_spaniel\\t0.193905\\tTrue\\tChihuahua\\t0.078\\tTrue\\n738537504001953792\\thttps://pbs.twimg.com/media/Cj_P7rSUgAAYQbz.jpg\\t1\\tchow\\t0.808737\\tTrue\\tgibbon\\t0.028942400000000004\\tFalse\\tPembroke\\t0.026497900000000005\\tTrue\\n738883359779196928\\thttps://pbs.twimg.com/media/CkEKe3QWYAAwoDy.jpg\\t2\\tLabrador_retriever\\t0.691137\\tTrue\\tgolden_retriever\\t0.19555799999999998\\tTrue\\tChesapeake_Bay_retriever\\t0.019584900000000002\\tTrue\\n738885046782832640\\thttps://pbs.twimg.com/media/CkEMBz9WYAAGLaa.jpg\\t1\\tbath_towel\\t0.8783200000000001\\tFalse\\tswab\\t0.0206333\\tFalse\\tAmerican_Staffordshire_terrier\\t0.0155351\\tTrue\\n739238157791694849\\thttps://pbs.twimg.com/ext_tw_video_thumb/739238016737267712/pu/img/-tLpyiuIzD5zR1et.jpg\\t1\\tEskimo_dog\\t0.503372\\tTrue\\tSiberian_husky\\t0.390413\\tTrue\\tmalamute\\t0.08090119999999999\\tTrue\\n739485634323156992\\thttps://pbs.twimg.com/media/CkMuP7SWkAAD-2R.jpg\\t2\\tWalker_hound\\t0.640256\\tTrue\\tEnglish_foxhound\\t0.22979899999999998\\tTrue\\tbeagle\\t0.037754\\tTrue\\n739544079319588864\\thttps://pbs.twimg.com/media/CkNjahBXAAQ2kWo.jpg\\t1\\tLabrador_retriever\\t0.967397\\tTrue\\tgolden_retriever\\t0.0166414\\tTrue\\tice_bear\\t0.014857599999999999\\tFalse\\n739606147276148736\\thttps://pbs.twimg.com/media/CkOb3FXW0AAUL_U.jpg\\t3\\tBlenheim_spaniel\\t0.9337549999999999\\tTrue\\tcocker_spaniel\\t0.041719400000000004\\tTrue\\tBrittany_spaniel\\t0.00671256\\tTrue\\n739844404073074688\\thttps://pbs.twimg.com/media/CkR0jrhWYAALL5N.jpg\\t1\\ttoy_poodle\\t0.342397\\tTrue\\ttable_lamp\\t0.104451\\tFalse\\tminiature_poodle\\t0.079871\\tTrue\\n739932936087216128\\thttps://pbs.twimg.com/media/CkTFEe-W0AA90m1.jpg\\t1\\tredbone\\t0.243904\\tTrue\\tbeagle\\t0.210975\\tTrue\\tvizsla\\t0.076443\\tTrue\\n739979191639244800\\thttps://pbs.twimg.com/media/CkTvJTdXAAAEfbT.jpg\\t1\\tIrish_water_spaniel\\t0.2858\\tTrue\\twig\\t0.24065300000000003\\tFalse\\ttoy_poodle\\t0.07491389999999999\\tTrue\\n740214038584557568\\thttps://pbs.twimg.com/media/CkXEu2OUoAAs8yU.jpg\\t1\\tChesapeake_Bay_retriever\\t0.586414\\tTrue\\tLabrador_retriever\\t0.189782\\tTrue\\tvizsla\\t0.0676072\\tTrue\\n740359016048689152\\thttps://pbs.twimg.com/media/CkZImGVUoAAwv0b.jpg\\t1\\tgolden_retriever\\t0.8636870000000001\\tTrue\\tkuvasz\\t0.048590100000000004\\tTrue\\tLabrador_retriever\\t0.047396600000000004\\tTrue\\n740365076218183684\\thttps://pbs.twimg.com/media/CkZOGhJWsAAHvPv.jpg\\t1\\tbow_tie\\t0.246313\\tFalse\\tWindsor_tie\\t0.17244600000000002\\tFalse\\tmushroom\\t0.137516\\tFalse\\n740373189193256964\\thttps://pbs.twimg.com/media/CkZVdJ6WYAAXZ5A.jpg\\t3\\tgolden_retriever\\t0.8076439999999999\\tTrue\\tkuvasz\\t0.101286\\tTrue\\tLabrador_retriever\\t0.0237853\\tTrue\\n740676976021798912\\thttps://pbs.twimg.com/media/Ckdpx5KWsAANF6b.jpg\\t1\\twombat\\t0.46295200000000003\\tFalse\\tNorwegian_elkhound\\t0.275225\\tTrue\\tSiamese_cat\\t0.0435593\\tFalse\\n740699697422163968\\thttps://pbs.twimg.com/media/Ckd-bqVUkAIiyM7.jpg\\t1\\tlawn_mower\\t0.878863\\tFalse\\tswing\\t0.0245351\\tFalse\\tbarrow\\t0.019577200000000003\\tFalse\\n740711788199743490\\thttps://pbs.twimg.com/media/CkeJcNkXEAAcrks.jpg\\t1\\ttoy_poodle\\t0.388277\\tTrue\\tAngora\\t0.180264\\tFalse\\tPersian_cat\\t0.049656099999999995\\tFalse\\n740995100998766593\\thttps://pbs.twimg.com/media/CkiLHCjUUAAPwUr.jpg\\t1\\tmalamute\\t0.454363\\tTrue\\tSamoyed\\t0.21596700000000002\\tTrue\\tSiberian_husky\\t0.07750030000000001\\tTrue\\n741067306818797568\\thttps://pbs.twimg.com/media/CkjMx99UoAM2B1a.jpg\\t1\\tgolden_retriever\\t0.843799\\tTrue\\tLabrador_retriever\\t0.0529559\\tTrue\\tkelpie\\t0.035711099999999996\\tTrue\\n741303864243200000\\thttps://pbs.twimg.com/media/Ckmj7mNWYAA4NzZ.jpg\\t1\\tChihuahua\\t0.7681560000000001\\tTrue\\tpug\\t0.0149016\\tTrue\\tPekinese\\t0.012815799999999999\\tTrue\\n741438259667034112\\thttps://pbs.twimg.com/media/CkoeKTPWYAAcWmo.jpg\\t1\\tChesapeake_Bay_retriever\\t0.292675\\tTrue\\tredbone\\t0.197858\\tTrue\\tvizsla\\t0.150312\\tTrue\\n741743634094141440\\thttps://pbs.twimg.com/media/Cksz42EW0AAh2NF.jpg\\t1\\tLabrador_retriever\\t0.786089\\tTrue\\tflat-coated_retriever\\t0.0486524\\tTrue\\tChesapeake_Bay_retriever\\t0.0346933\\tTrue\\n741793263812808706\\thttps://pbs.twimg.com/media/CkthBj7WgAAsIGb.jpg\\t1\\tkuvasz\\t0.311325\\tTrue\\tFrench_bulldog\\t0.11534900000000001\\tTrue\\tLabrador_retriever\\t0.0685335\\tTrue\\n742150209887731712\\thttps://pbs.twimg.com/media/CkylrVWWsAAiXJE.jpg\\t1\\tSiamese_cat\\t0.11241300000000001\\tFalse\\tFrench_bulldog\\t0.07141439999999999\\tTrue\\thog\\t0.0624654\\tFalse\\n742161199639494656\\thttps://pbs.twimg.com/media/CkyvqnNWYAQxQY1.jpg\\t1\\tballoon\\t0.9907360000000001\\tFalse\\tpunching_bag\\t0.00475356\\tFalse\\tparachute\\t0.000435974\\tFalse\\n742385895052087300\\thttps://pbs.twimg.com/media/Ck18CFcXIAAUWoy.jpg\\t1\\tCardigan\\t0.5669109999999999\\tTrue\\tBorder_collie\\t0.117566\\tTrue\\tAppenzeller\\t0.047664\\tTrue\\n742423170473463808\\thttps://pbs.twimg.com/media/Ck2d7tJWUAEPTL3.jpg\\t1\\tpug\\t0.99731\\tTrue\\tBrabancon_griffon\\t0.00118563\\tTrue\\tFrench_bulldog\\t0.00042798900000000004\\tTrue\\n742465774154047488\\thttps://pbs.twimg.com/media/Ck3EribXEAAPhZn.jpg\\t1\\tweb_site\\t0.9971540000000001\\tFalse\\tcomic_book\\t0.000439221\\tFalse\\tdesktop_computer\\t0.000267579\\tFalse\\n742528092657332225\\thttps://pbs.twimg.com/media/Ck39W0JWUAApgnH.jpg\\t2\\tsunglasses\\t0.9008639999999999\\tFalse\\tsunglass\\t0.0402906\\tFalse\\tsnorkel\\t0.00933292\\tFalse\\n743210557239623680\\thttps://pbs.twimg.com/media/ClBqDuDWkAALK2e.jpg\\t1\\tgolden_retriever\\t0.9307049999999999\\tTrue\\tChesapeake_Bay_retriever\\t0.0259341\\tTrue\\tLabrador_retriever\\t0.00753536\\tTrue\\n743222593470234624\\thttps://pbs.twimg.com/media/ClB09z0WYAAA1jz.jpg\\t1\\tkuvasz\\t0.350629\\tTrue\\tsoft-coated_wheaten_terrier\\t0.182782\\tTrue\\tgolden_retriever\\t0.08766239999999999\\tTrue\\n743253157753532416\\thttps://pbs.twimg.com/media/ClCQzFUUYAA5vAu.jpg\\t1\\tmalamute\\t0.442612\\tTrue\\tSiberian_husky\\t0.368137\\tTrue\\tEskimo_dog\\t0.177822\\tTrue\\n743510151680958465\\thttps://pbs.twimg.com/ext_tw_video_thumb/743509040018268160/pu/img/Ol2OgO5f8ciUp80r.jpg\\t1\\tsea_lion\\t0.8590459999999999\\tFalse\\ttub\\t0.0204054\\tFalse\\thippopotamus\\t0.013094799999999998\\tFalse\\n743545585370791937\\thttps://pbs.twimg.com/media/ClGawiUWAAAgs0w.jpg\\t2\\trapeseed\\t0.876875\\tFalse\\tstandard_poodle\\t0.060583500000000005\\tTrue\\tGreat_Pyrenees\\t0.0330057\\tTrue\\n743595368194129920\\thttps://pbs.twimg.com/media/ClHICHmXEAI_1PS.jpg\\t1\\thippopotamus\\t0.505675\\tFalse\\thog\\t0.370726\\tFalse\\twarthog\\t0.018827200000000002\\tFalse\\n743609206067040256\\thttps://pbs.twimg.com/media/ClHUkhQWAAAy7Yj.jpg\\t3\\tWeimaraner\\t0.9827940000000001\\tTrue\\tAmerican_Staffordshire_terrier\\t0.0047664\\tTrue\\tGreat_Dane\\t0.00343201\\tTrue\\n743895849529389061\\thttps://pbs.twimg.com/media/ClLZU8LWQAAsOxV.jpg\\t1\\tdalmatian\\t0.562315\\tTrue\\tGreat_Dane\\t0.41647799999999996\\tTrue\\tGerman_short-haired_pointer\\t0.00855236\\tTrue\\n743980027717509120\\thttps://pbs.twimg.com/media/ClMl4VLUYAA5qBb.jpg\\t1\\tbull_mastiff\\t0.9757299999999999\\tTrue\\tRhodesian_ridgeback\\t0.00807261\\tTrue\\tpug\\t0.00557087\\tTrue\\n744234799360020481\\thttps://pbs.twimg.com/ext_tw_video_thumb/744234667679821824/pu/img/1GaWmtJtdqzZV7jy.jpg\\t1\\tLabrador_retriever\\t0.825333\\tTrue\\tice_bear\\t0.04468080000000001\\tFalse\\twhippet\\t0.0184422\\tTrue\\n744334592493166593\\thttps://pbs.twimg.com/media/ClRoXGwWIAEVVzc.jpg\\t1\\tSamoyed\\t0.960543\\tTrue\\tPomeranian\\t0.0121919\\tTrue\\twhite_wolf\\t0.00475299\\tFalse\\n744709971296780288\\thttps://pbs.twimg.com/media/ClW9w7mWEAEFN1k.jpg\\t1\\tShetland_sheepdog\\t0.234431\\tTrue\\tSamoyed\\t0.114876\\tTrue\\tcollie\\t0.08661369999999999\\tTrue\\n744971049620602880\\thttps://pbs.twimg.com/media/ClarNU8VAAEDrDt.jpg\\t1\\ttoy_poodle\\t0.497755\\tTrue\\tgolden_retriever\\t0.282017\\tTrue\\tminiature_poodle\\t0.0900324\\tTrue\\n744995568523612160\\thttps://pbs.twimg.com/media/ClbBg4WWEAMjwJu.jpg\\t1\\tOld_English_sheepdog\\t0.42748100000000006\\tTrue\\tShih-Tzu\\t0.146336\\tTrue\\tTibetan_terrier\\t0.134269\\tTrue\\n745057283344719872\\thttps://pbs.twimg.com/media/Clb5pLJWMAE-QS1.jpg\\t2\\tShetland_sheepdog\\t0.9639850000000001\\tTrue\\tcollie\\t0.026205700000000002\\tTrue\\tBorder_collie\\t0.00454365\\tTrue\\n745314880350101504\\thttps://pbs.twimg.com/media/Clfj6RYWMAAFAOW.jpg\\t2\\tice_bear\\t0.807762\\tFalse\\tgreat_white_shark\\t0.0270404\\tFalse\\tfountain\\t0.0220518\\tFalse\\n745422732645535745\\thttps://pbs.twimg.com/media/ClhGBCAWIAAFCsz.jpg\\t1\\tLabrador_retriever\\t0.6638\\tTrue\\tgolden_retriever\\t0.308261\\tTrue\\tice_bear\\t0.00426921\\tFalse\\n745433870967832576\\thttps://pbs.twimg.com/media/ClhQJUUWAAEVpBX.jpg\\t1\\tbarrow\\t0.9999620000000001\\tFalse\\tbasset\\t1.44895e-05\\tTrue\\twok\\t6.060880000000001e-06\\tFalse\\n745712589599014916\\thttps://pbs.twimg.com/media/CllNnkWWMAEDIAR.jpg\\t1\\tseat_belt\\t0.37905500000000003\\tFalse\\tchow\\t0.06275449999999999\\tTrue\\tminibus\\t0.0524226\\tFalse\\n745789745784041472\\thttps://pbs.twimg.com/media/ClmT0KHWkAAXbhy.jpg\\t1\\tPekinese\\t0.984267\\tTrue\\tShih-Tzu\\t0.00894166\\tTrue\\tcocker_spaniel\\t0.00192826\\tTrue\\n746056683365994496\\thttps://pbs.twimg.com/media/ClqGl7fXIAA8nDe.jpg\\t1\\tShetland_sheepdog\\t0.43332\\tTrue\\tcollie\\t0.335997\\tTrue\\tborzoi\\t0.177179\\tTrue\\n746131877086527488\\thttps://pbs.twimg.com/media/ClrK-rGWAAENcAa.jpg\\t1\\tchow\\t0.575637\\tTrue\\tPomeranian\\t0.19595\\tTrue\\tNorwich_terrier\\t0.141224\\tTrue\\n746369468511756288\\thttps://pbs.twimg.com/media/ClujESVXEAA4uH8.jpg\\t1\\tGerman_shepherd\\t0.622957\\tTrue\\tmalinois\\t0.338884\\tTrue\\twallaby\\t0.024161500000000002\\tFalse\\n746507379341139972\\thttps://pbs.twimg.com/media/Clwgf4bWgAAB15c.jpg\\t1\\ttoy_poodle\\t0.508292\\tTrue\\tLakeland_terrier\\t0.234458\\tTrue\\taffenpinscher\\t0.08456280000000001\\tTrue\\n746726898085036033\\thttps://pbs.twimg.com/media/ClzoJz7WYAELHSf.jpg\\t1\\tgolden_retriever\\t0.25650500000000004\\tTrue\\tLabrador_retriever\\t0.252417\\tTrue\\tseat_belt\\t0.203163\\tFalse\\n746790600704425984\\thttps://pbs.twimg.com/media/Cl0iFdeXEAQtPyT.jpg\\t3\\tBoston_bull\\t0.936183\\tTrue\\tguinea_pig\\t0.010084000000000001\\tFalse\\tCardigan\\t0.010077\\tTrue\\n746818907684614144\\thttps://pbs.twimg.com/media/Cl071YVWEAAlF7N.jpg\\t1\\tdingo\\t0.175518\\tFalse\\ttimber_wolf\\t0.13364700000000002\\tFalse\\tIbizan_hound\\t0.101537\\tTrue\\n746872823977771008\\thttps://pbs.twimg.com/media/Cl1s1p7WMAA44Vk.jpg\\t1\\tPembroke\\t0.540201\\tTrue\\tbeagle\\t0.207835\\tTrue\\tItalian_greyhound\\t0.0435649\\tTrue\\n746906459439529985\\thttps://pbs.twimg.com/media/Cl2LdofXEAATl7x.jpg\\t1\\ttraffic_light\\t0.470708\\tFalse\\tfountain\\t0.199776\\tFalse\\tspace_shuttle\\t0.064807\\tFalse\\n747103485104099331\\thttps://pbs.twimg.com/media/Cl4-pevXEAAb8VW.jpg\\t1\\tLabrador_retriever\\t0.9919540000000001\\tTrue\\tgolden_retriever\\t0.00222849\\tTrue\\tdoormat\\t0.00140402\\tFalse\\n747204161125646336\\thttps://pbs.twimg.com/media/Cl6aOBhWEAALuti.jpg\\t2\\tcoil\\t0.5336989999999999\\tFalse\\tdugong\\t0.0879591\\tFalse\\train_barrel\\t0.0392215\\tFalse\\n747219827526344708\\thttps://pbs.twimg.com/media/Cl6odlVWQAIy5uk.jpg\\t2\\tShetland_sheepdog\\t0.548018\\tTrue\\tmarmot\\t0.16550299999999998\\tFalse\\tcollie\\t0.0430026\\tTrue\\n747461612269887489\\thttps://pbs.twimg.com/media/Cl-EXHSWkAE2IN2.jpg\\t1\\tbinoculars\\t0.192717\\tFalse\\tbarbershop\\t0.08583819999999999\\tFalse\\tballplayer\\t0.0846722\\tFalse\\n747512671126323200\\thttps://pbs.twimg.com/media/Cl-yykwWkAAqUCE.jpg\\t1\\tCardigan\\t0.11149300000000001\\tTrue\\tmalinois\\t0.0950892\\tTrue\\tGerman_shepherd\\t0.0801456\\tTrue\\n747594051852075008\\thttps://pbs.twimg.com/media/Cl_80k5WkAEbo9m.jpg\\t1\\tbasenji\\t0.38913600000000004\\tTrue\\tdingo\\t0.270226\\tFalse\\tChihuahua\\t0.09893880000000001\\tTrue\\n747600769478692864\\thttps://pbs.twimg.com/media/CmAC7ehXEAAqSuW.jpg\\t1\\tChesapeake_Bay_retriever\\t0.804363\\tTrue\\tWeimaraner\\t0.0544311\\tTrue\\tLabrador_retriever\\t0.043267599999999996\\tTrue\\n747816857231626240\\thttps://pbs.twimg.com/media/CmDHdCoWkAACTB4.jpg\\t1\\tPembroke\\t0.7689229999999999\\tTrue\\tChihuahua\\t0.029053\\tTrue\\tShetland_sheepdog\\t0.029035400000000003\\tTrue\\n747844099428986880\\thttps://pbs.twimg.com/media/CmDgPTsWEAIi2T1.jpg\\t1\\tPembroke\\t0.360428\\tTrue\\tpapillon\\t0.26313400000000003\\tTrue\\tChihuahua\\t0.131246\\tTrue\\n747885874273214464\\thttps://pbs.twimg.com/media/CmEGMSvUYAAl3ZM.jpg\\t1\\tkuvasz\\t0.40845\\tTrue\\tSamoyed\\t0.14132999999999998\\tTrue\\tpug\\t0.08301839999999999\\tTrue\\n747933425676525569\\thttps://pbs.twimg.com/media/CmExV2qWkAAn_pN.jpg\\t1\\tSamoyed\\t0.998201\\tTrue\\tEskimo_dog\\t0.00079285\\tTrue\\tGreat_Pyrenees\\t0.00029575\\tTrue\\n747963614829678593\\thttps://pbs.twimg.com/media/CmFM7ngXEAEitfh.jpg\\t1\\tkelpie\\t0.307672\\tTrue\\tIrish_terrier\\t0.197486\\tTrue\\tdingo\\t0.105475\\tFalse\\n748307329658011649\\thttps://pbs.twimg.com/media/CmKFi-FXEAAeI37.jpg\\t2\\tpaddle\\t0.589066\\tFalse\\tshovel\\t0.03806230000000001\\tFalse\\tmountain_tent\\t0.0292033\\tFalse\\n748324050481647620\\thttps://pbs.twimg.com/media/CmKUwImXIAA58f5.jpg\\t1\\tShetland_sheepdog\\t0.880499\\tTrue\\tcollie\\t0.107901\\tTrue\\tPembroke\\t0.00360667\\tTrue\\n748346686624440324\\thttps://pbs.twimg.com/media/CmKpVtlWAAEnyHm.jpg\\t1\\tborzoi\\t0.5964550000000001\\tTrue\\twhippet\\t0.23142800000000002\\tTrue\\tSaluki\\t0.058261400000000005\\tTrue\\n748568946752774144\\thttps://pbs.twimg.com/ext_tw_video_thumb/748568890477789184/pu/img/1MzP7FuodJdHw8zA.jpg\\t1\\tTibetan_terrier\\t0.32816100000000004\\tTrue\\ttoy_poodle\\t0.304836\\tTrue\\tminiature_poodle\\t0.0708784\\tTrue\\n748575535303884801\\thttps://pbs.twimg.com/media/CmN5ecNWMAE6pnf.jpg\\t1\\tmuzzle\\t0.176172\\tFalse\\tseat_belt\\t0.16095299999999998\\tFalse\\tsoft-coated_wheaten_terrier\\t0.0864988\\tTrue\\n748692773788876800\\thttps://pbs.twimg.com/media/CmPkGhFXEAABO1n.jpg\\t1\\tox\\t0.337871\\tFalse\\tplow\\t0.269287\\tFalse\\toxcart\\t0.245653\\tFalse\\n748699167502000129\\thttps://pbs.twimg.com/media/CmPp5pOXgAAD_SG.jpg\\t1\\tPembroke\\t0.849029\\tTrue\\tCardigan\\t0.0836288\\tTrue\\tkelpie\\t0.0243945\\tTrue\\n748705597323898880\\thttps://pbs.twimg.com/ext_tw_video_thumb/748704826305970176/pu/img/QHuadM5eEygfBeOf.jpg\\t1\\ttiger_shark\\t0.548497\\tFalse\\tgreat_white_shark\\t0.130252\\tFalse\\tscuba_diver\\t0.121887\\tFalse\\n748932637671223296\\thttps://pbs.twimg.com/media/CmS-QkQWAAAkUa-.jpg\\t1\\tborzoi\\t0.742912\\tTrue\\twire-haired_fox_terrier\\t0.20408199999999999\\tTrue\\tEnglish_setter\\t0.021032299999999997\\tTrue\\n748977405889503236\\thttps://pbs.twimg.com/media/CmTm-XQXEAAEyN6.jpg\\t1\\tGerman_short-haired_pointer\\t0.742216\\tTrue\\tbluetick\\t0.15281\\tTrue\\tEnglish_setter\\t0.0518347\\tTrue\\n749036806121881602\\thttps://pbs.twimg.com/media/CmUciKgWIAA97sH.jpg\\t1\\tsulphur-crested_cockatoo\\t0.960276\\tFalse\\tWest_Highland_white_terrier\\t0.0195223\\tTrue\\tSamoyed\\t0.00639562\\tTrue\\n749064354620928000\\thttps://pbs.twimg.com/media/CmU2DVWWgAArvp3.jpg\\t2\\tpug\\t0.9852219999999999\\tTrue\\tBrabancon_griffon\\t0.00331366\\tTrue\\tPekinese\\t0.00298888\\tTrue\\n749317047558017024\\thttps://pbs.twimg.com/ext_tw_video_thumb/749316899712950272/pu/img/nvZI9mkoAxt89sul.jpg\\t1\\twire-haired_fox_terrier\\t0.155144\\tTrue\\tLakeland_terrier\\t0.10838199999999999\\tTrue\\tbuckeye\\t0.0746167\\tFalse\\n749395845976588288\\thttps://pbs.twimg.com/media/CmZjizYW8AA3FCN.jpg\\t1\\tPomeranian\\t0.973715\\tTrue\\tchow\\t0.020758099999999998\\tTrue\\tkeeshond\\t0.00378436\\tTrue\\n749403093750648834\\thttps://pbs.twimg.com/media/CmZqIslWIAQFiqe.jpg\\t1\\tChesapeake_Bay_retriever\\t0.694541\\tTrue\\tcurly-coated_retriever\\t0.07633530000000001\\tTrue\\tIrish_water_spaniel\\t0.0485495\\tTrue\\n749417653287129088\\thttps://pbs.twimg.com/media/CmZ3YH9WEAAowi3.jpg\\t2\\tpapillon\\t0.772894\\tTrue\\tShetland_sheepdog\\t0.0424076\\tTrue\\tcollie\\t0.0423131\\tTrue\\n749774190421639168\\thttps://pbs.twimg.com/media/Cme7pg2XEAATMnP.jpg\\t1\\tPekinese\\t0.8790120000000001\\tTrue\\tChihuahua\\t0.054854999999999994\\tTrue\\tBlenheim_spaniel\\t0.021041\\tTrue\\n749981277374128128\\thttps://pbs.twimg.com/media/CmgBZ7kWcAAlzFD.jpg\\t1\\tbow_tie\\t0.533941\\tFalse\\tsunglasses\\t0.0808222\\tFalse\\tsunglass\\t0.050776199999999994\\tFalse\\n749996283729883136\\thttps://pbs.twimg.com/media/CmfoyrrW8AA8v7w.jpg\\t1\\tOld_English_sheepdog\\t0.515319\\tTrue\\tWest_Highland_white_terrier\\t0.15104\\tTrue\\tsoft-coated_wheaten_terrier\\t0.056420000000000005\\tTrue\\n750011400160841729\\thttps://pbs.twimg.com/media/CmfmvGUWgAAuVKD.jpg\\t1\\tmuzzle\\t0.23761999999999997\\tFalse\\tBoston_bull\\t0.0871498\\tTrue\\tsombrero\\t0.0685099\\tFalse\\n750026558547456000\\thttps://pbs.twimg.com/media/CmieRQRXgAA8MV3.jpg\\t1\\tstandard_poodle\\t0.258732\\tTrue\\tteddy\\t0.13076\\tFalse\\ttoy_poodle\\t0.0717263\\tTrue\\n750041628174217216\\thttps://pbs.twimg.com/media/CmfssOtXYAAKa_Z.jpg\\t1\\tLabrador_retriever\\t0.252031\\tTrue\\tMaltese_dog\\t0.18809\\tTrue\\tgolden_retriever\\t0.133017\\tTrue\\n750056684286914561\\thttps://pbs.twimg.com/media/Cmfx2oNW8AAGg4H.jpg\\t1\\tSaluki\\t0.48442799999999997\\tTrue\\tborzoi\\t0.26355\\tTrue\\tLabrador_retriever\\t0.0770038\\tTrue\\n750071704093859840\\thttps://pbs.twimg.com/media/CmjKOzVWcAAQN6w.jpg\\t2\\tredbone\\t0.38211300000000004\\tTrue\\tmalinois\\t0.24994299999999997\\tTrue\\tminiature_pinscher\\t0.0709262\\tTrue\\n750086836815486976\\thttps://pbs.twimg.com/media/Cmf5WLGWYAAcmRw.jpg\\t1\\tpug\\t0.9782770000000001\\tTrue\\tteddy\\t0.00313446\\tFalse\\tBrabancon_griffon\\t0.00306149\\tTrue\\n750101899009982464\\thttps://pbs.twimg.com/media/Cmjlsh1XgAEvhq_.jpg\\t2\\tgolden_retriever\\t0.316704\\tTrue\\tllama\\t0.174269\\tFalse\\tLabrador_retriever\\t0.14736400000000002\\tTrue\\n750117059602808832\\thttps://pbs.twimg.com/media/Cmjzc-oWEAESFCm.jpg\\t2\\tShih-Tzu\\t0.814405\\tTrue\\tLhasa\\t0.17522000000000001\\tTrue\\tPekinese\\t0.0080723\\tTrue\\n750132105863102464\\thttps://pbs.twimg.com/media/CmkBKuwWgAAamOI.jpg\\t1\\ttoy_poodle\\t0.47801800000000005\\tTrue\\tminiature_poodle\\t0.207458\\tTrue\\tcroquet_ball\\t0.0858789\\tFalse\\n750147208377409536\\thttps://pbs.twimg.com/media/CmkO57iXgAEOxX9.jpg\\t1\\tpug\\t0.977765\\tTrue\\tBoston_bull\\t0.00479425\\tTrue\\tFrench_bulldog\\t0.00457284\\tTrue\\n750383411068534784\\thttps://pbs.twimg.com/media/CmnluwbXEAAqnkw.jpg\\t1\\tBorder_collie\\t0.672791\\tTrue\\tcollie\\t0.270188\\tTrue\\tpapillon\\t0.0345039\\tTrue\\n750429297815552001\\thttps://pbs.twimg.com/media/CmoPdmHW8AAi8BI.jpg\\t1\\tgolden_retriever\\t0.964929\\tTrue\\tLabrador_retriever\\t0.0115837\\tTrue\\trefrigerator\\t0.00749862\\tFalse\\n750506206503038976\\thttps://pbs.twimg.com/media/CmpVaOZWIAAp3z6.jpg\\t1\\tAmerican_black_bear\\t0.21916599999999997\\tFalse\\tlesser_panda\\t0.21471500000000002\\tFalse\\ttiti\\t0.0916851\\tFalse\\n750719632563142656\\thttps://pbs.twimg.com/media/CmsXg9AWgAAs6Ui.jpg\\t1\\tPembroke\\t0.9725870000000001\\tTrue\\tCardigan\\t0.0147717\\tTrue\\tbasenji\\t0.00579803\\tTrue\\n750868782890057730\\thttps://pbs.twimg.com/media/CmufLLsXYAAsU0r.jpg\\t4\\ttoy_poodle\\t0.9126479999999999\\tTrue\\tminiature_poodle\\t0.0350592\\tTrue\\tseat_belt\\t0.026375599999999996\\tFalse\\n751132876104687617\\thttps://pbs.twimg.com/media/CmyPXNOW8AEtaJ-.jpg\\t1\\tLabrador_retriever\\t0.9293899999999999\\tTrue\\tChesapeake_Bay_retriever\\t0.0382535\\tTrue\\tgolden_retriever\\t0.0076102\\tTrue\\n751205363882532864\\thttps://pbs.twimg.com/media/CmzRRY1WcAEoxwY.jpg\\t2\\tLabrador_retriever\\t0.9471639999999999\\tTrue\\tChesapeake_Bay_retriever\\t0.020596700000000003\\tTrue\\tgolden_retriever\\t0.0165792\\tTrue\\n751251247299190784\\thttps://pbs.twimg.com/ext_tw_video_thumb/751250895690731520/pu/img/eziHbU1KbgZg-ijN.jpg\\t1\\tWalker_hound\\t0.178852\\tTrue\\tGerman_short-haired_pointer\\t0.115752\\tTrue\\tEnglish_foxhound\\t0.11379600000000001\\tTrue\\n751456908746354688\\thttps://pbs.twimg.com/ext_tw_video_thumb/751456786360725504/pu/img/hWqfIQ29A0cBv6f_.jpg\\t1\\tgolden_retriever\\t0.714409\\tTrue\\tAfghan_hound\\t0.06616260000000002\\tTrue\\tchow\\t0.028412599999999996\\tTrue\\n751538714308972544\\thttps://pbs.twimg.com/media/Cm4AeG8XEAAulD2.jpg\\t2\\tLabrador_retriever\\t0.516257\\tTrue\\tgolden_retriever\\t0.210839\\tTrue\\tdingo\\t0.162022\\tFalse\\n751583847268179968\\thttps://pbs.twimg.com/media/Cm4phTpWcAAgLsr.jpg\\t1\\tdalmatian\\t0.8683040000000001\\tTrue\\tstudio_couch\\t0.059623\\tFalse\\tsnow_leopard\\t0.013876300000000001\\tFalse\\n751598357617971201\\thttps://pbs.twimg.com/media/Cm42t5vXEAAv4CS.jpg\\t1\\ttoy_poodle\\t0.757756\\tTrue\\tminiature_poodle\\t0.0351495\\tTrue\\tScottish_deerhound\\t0.027698200000000003\\tTrue\\n751830394383790080\\thttps://pbs.twimg.com/media/Cm8JwBqW8AAFOEn.jpg\\t1\\tchow\\t0.703569\\tTrue\\tPomeranian\\t0.0766367\\tTrue\\tSiamese_cat\\t0.0459591\\tFalse\\n751937170840121344\\thttps://pbs.twimg.com/media/Cm9q2d3XEAAqO2m.jpg\\t1\\tLakeland_terrier\\t0.42416800000000005\\tTrue\\tteddy\\t0.260562\\tFalse\\tgolden_retriever\\t0.127432\\tTrue\\n752173152931807232\\thttps://pbs.twimg.com/media/CnBBfNuWcAAkOgO.jpg\\t1\\tLabrador_retriever\\t0.527659\\tTrue\\tGerman_shepherd\\t0.174765\\tTrue\\tChihuahua\\t0.0455254\\tTrue\\n752309394570878976\\thttps://pbs.twimg.com/ext_tw_video_thumb/675354114423808004/pu/img/qL1R_nGLqa6lmkOx.jpg\\t1\\tupright\\t0.303415\\tFalse\\tgolden_retriever\\t0.181351\\tTrue\\tBrittany_spaniel\\t0.16208399999999998\\tTrue\\n752334515931054080\\thttps://pbs.twimg.com/ext_tw_video_thumb/752334354492362752/pu/img/uWISPc0YRmhUi9Ju.jpg\\t1\\tBedlington_terrier\\t0.399163\\tTrue\\tstandard_poodle\\t0.08642489999999999\\tTrue\\twire-haired_fox_terrier\\t0.07523110000000001\\tTrue\\n752519690950500352\\thttps://pbs.twimg.com/media/CnF8qVDWYAAh0g1.jpg\\t3\\tswing\\t0.999984\\tFalse\\tLabrador_retriever\\t1.00288e-05\\tTrue\\tEskimo_dog\\t1.43447e-06\\tTrue\\n752660715232722944\\thttps://pbs.twimg.com/media/CnH87L6XYAAF7I_.jpg\\t2\\tgoose\\t0.33932399999999996\\tFalse\\tEnglish_setter\\t0.0505118\\tTrue\\tbasset\\t0.049093300000000006\\tTrue\\n752682090207055872\\thttps://pbs.twimg.com/media/CnIQXdYWgAAnsZZ.jpg\\t2\\tGerman_shepherd\\t0.299966\\tTrue\\tEskimo_dog\\t0.278355\\tTrue\\tSiberian_husky\\t0.17852\\tTrue\\n752917284578922496\\thttps://pbs.twimg.com/media/CnLmRiYXEAAO_8f.jpg\\t1\\tGerman_shepherd\\t0.609283\\tTrue\\tmalinois\\t0.35246\\tTrue\\tkelpie\\t0.016105200000000004\\tTrue\\n753026973505581056\\thttps://pbs.twimg.com/media/CnNKCKKWEAASCMI.jpg\\t3\\tPembroke\\t0.868511\\tTrue\\tCardigan\\t0.103708\\tTrue\\tShetland_sheepdog\\t0.0181416\\tTrue\\n753294487569522689\\thttps://pbs.twimg.com/media/CnQ9Vq1WEAEYP01.jpg\\t1\\tchow\\t0.194773\\tTrue\\tmonitor\\t0.102305\\tFalse\\tSiberian_husky\\t0.0868547\\tTrue\\n753375668877008896\\thttps://pbs.twimg.com/media/CnSHLFeWgAAwV-I.jpg\\t1\\tbluetick\\t0.36007100000000003\\tTrue\\tcrutch\\t0.13481600000000002\\tFalse\\ttripod\\t0.0982066\\tFalse\\n753398408988139520\\thttps://pbs.twimg.com/ext_tw_video_thumb/753398183879991296/pu/img/bqFy5Zc_PEk6Mx-B.jpg\\t1\\twhippet\\t0.163794\\tTrue\\tItalian_greyhound\\t0.157192\\tTrue\\tEnglish_foxhound\\t0.142995\\tTrue\\n753420520834629632\\thttps://pbs.twimg.com/ext_tw_video_thumb/753420390836346880/pu/img/ZHLvYxSHYuQK3uXi.jpg\\t1\\tballoon\\t0.267961\\tFalse\\tlakeside\\t0.0857637\\tFalse\\trapeseed\\t0.0408089\\tFalse\\n753655901052166144\\thttps://pbs.twimg.com/media/CnWGCpdWgAAWZTI.jpg\\t1\\tminiature_pinscher\\t0.456092\\tTrue\\ttoy_terrier\\t0.153126\\tTrue\\tItalian_greyhound\\t0.144147\\tTrue\\n754011816964026368\\thttps://pbs.twimg.com/media/CnbJuPoXEAAjcVF.jpg\\t1\\tFrench_bulldog\\t0.600985\\tTrue\\tBoston_bull\\t0.27317600000000003\\tTrue\\tboxer\\t0.0567715\\tTrue\\n754120377874386944\\thttps://pbs.twimg.com/media/CncseIzWgAA4ghH.jpg\\t1\\tchow\\t0.168909\\tTrue\\tNorfolk_terrier\\t0.129114\\tTrue\\tPomeranian\\t0.120822\\tTrue\\n754449512966619136\\thttps://pbs.twimg.com/media/CnhXzpvW8AAQ1MB.jpg\\t1\\tbeagle\\t0.858513\\tTrue\\tbasset\\t0.0760119\\tTrue\\tEnglish_foxhound\\t0.016245600000000002\\tTrue\\n754482103782404096\\thttps://pbs.twimg.com/ext_tw_video_thumb/754481405627957248/pu/img/YY1eBDOlP9QFC4Bj.jpg\\t1\\ttub\\t0.596796\\tFalse\\tbathtub\\t0.381098\\tFalse\\tshower_curtain\\t0.017628799999999997\\tFalse\\n754747087846248448\\thttps://pbs.twimg.com/media/CnlmeL3WgAA4c84.jpg\\t1\\trotisserie\\t0.47149300000000005\\tFalse\\tcash_machine\\t0.250837\\tFalse\\tsliding_door\\t0.117872\\tFalse\\n754856583969079297\\thttps://pbs.twimg.com/media/CnnKCKNWgAAcOB8.jpg\\t2\\tgolden_retriever\\t0.8723850000000001\\tTrue\\tLabrador_retriever\\t0.09996310000000001\\tTrue\\tcocker_spaniel\\t0.00605083\\tTrue\\n754874841593970688\\thttps://pbs.twimg.com/media/CWza7kpWcAAdYLc.jpg\\t1\\tpug\\t0.27220500000000003\\tTrue\\tbull_mastiff\\t0.25153000000000003\\tTrue\\tbath_towel\\t0.116806\\tFalse\\n755110668769038337\\thttps://pbs.twimg.com/ext_tw_video_thumb/755110610942169088/pu/img/3-INz45pSRMkzOEF.jpg\\t1\\tLabrador_retriever\\t0.708974\\tTrue\\tgolden_retriever\\t0.11431400000000001\\tTrue\\tGreat_Pyrenees\\t0.0658134\\tTrue\\n755206590534418437\\thttps://pbs.twimg.com/media/CnsIT0WWcAAul8V.jpg\\t1\\tweb_site\\t0.906673\\tFalse\\tprinter\\t0.00860027\\tFalse\\tcarton\\t0.00453319\\tFalse\\n755955933503782912\\thttps://pbs.twimg.com/ext_tw_video_thumb/755955658164465664/pu/img/YcjfthN7C3z61GUj.jpg\\t1\\tPekinese\\t0.596882\\tTrue\\tMaltese_dog\\t0.176478\\tTrue\\tGreat_Pyrenees\\t0.0267753\\tTrue\\n756275833623502848\\thttps://pbs.twimg.com/media/Cn7U2xlW8AI9Pqp.jpg\\t1\\tAiredale\\t0.602957\\tTrue\\tIrish_terrier\\t0.0869808\\tTrue\\tbloodhound\\t0.08627649999999999\\tTrue\\n756288534030475264\\thttps://pbs.twimg.com/media/Cn7gaHrWIAAZJMt.jpg\\t3\\tconch\\t0.9256209999999999\\tFalse\\tFrench_bulldog\\t0.032492200000000006\\tTrue\\ttiger_cat\\t0.00667908\\tFalse\\n756303284449767430\\thttps://pbs.twimg.com/media/Cn7tyyZWYAAPlAY.jpg\\t1\\tgolden_retriever\\t0.9816520000000001\\tTrue\\tcocker_spaniel\\t0.006790300000000001\\tTrue\\tLabrador_retriever\\t0.00432451\\tTrue\\n756526248105566208\\thttps://pbs.twimg.com/media/Cn-4m2CXYAErPGe.jpg\\t1\\tgeyser\\t0.991273\\tFalse\\tvolcano\\t0.00467251\\tFalse\\tfountain\\t0.00123403\\tFalse\\n756651752796094464\\thttps://pbs.twimg.com/media/CoAqwPTW8AAiJlz.jpg\\t1\\tPembroke\\t0.294808\\tTrue\\tkelpie\\t0.282301\\tTrue\\tCardigan\\t0.11260099999999999\\tTrue\\n756939218950160384\\thttps://pbs.twimg.com/media/CoEwMXeWEAAaIz5.jpg\\t1\\tgolden_retriever\\t0.790371\\tTrue\\tcocker_spaniel\\t0.130268\\tTrue\\tLabrador_retriever\\t0.0646287\\tTrue\\n756998049151549440\\thttps://pbs.twimg.com/media/CoFlsGAWgAA2YeV.jpg\\t4\\tgolden_retriever\\t0.678555\\tTrue\\tLabrador_retriever\\t0.072632\\tTrue\\tBorder_terrier\\t0.049033\\tTrue\\n757354760399941633\\thttps://pbs.twimg.com/media/CoKqIndWgAAattd.jpg\\t1\\tItalian_greyhound\\t0.914667\\tTrue\\twhippet\\t0.047773699999999995\\tTrue\\tice_lolly\\t0.0154768\\tFalse\\n757393109802180609\\thttps://pbs.twimg.com/media/CoLNAq6WAAAkmdJ.jpg\\t2\\tLabrador_retriever\\t0.787125\\tTrue\\tChesapeake_Bay_retriever\\t0.112676\\tTrue\\tRottweiler\\t0.048038599999999994\\tTrue\\n757400162377592832\\thttps://pbs.twimg.com/media/CoLTbbzXYAElNM6.jpg\\t1\\tseat_belt\\t0.523926\\tFalse\\tgolden_retriever\\t0.0878003\\tTrue\\tTibetan_mastiff\\t0.07512669999999999\\tTrue\\n757596066325864448\\thttps://pbs.twimg.com/media/CoOFmk3WEAAG6ql.jpg\\t1\\tdoormat\\t0.8452559999999999\\tFalse\\twallet\\t0.095718\\tFalse\\twool\\t0.0260719\\tFalse\\n757597904299253760\\thttps://pbs.twimg.com/media/CoOGZjiWAAEMKGx.jpg\\t1\\tdoormat\\t0.8361059999999999\\tFalse\\twallet\\t0.0566269\\tFalse\\tpurse\\t0.051333500000000004\\tFalse\\n757611664640446465\\thttps://pbs.twimg.com/media/CoOTyXJXEAAtjs9.jpg\\t1\\tbluetick\\t0.829259\\tTrue\\tbeagle\\t0.145358\\tTrue\\tWalker_hound\\t0.0195953\\tTrue\\n757725642876129280\\thttps://pbs.twimg.com/media/CoP7c4bWcAAr55g.jpg\\t2\\tseat_belt\\t0.425176\\tFalse\\tLabrador_retriever\\t0.128128\\tTrue\\tSiamese_cat\\t0.0912411\\tFalse\\n757729163776290825\\thttps://pbs.twimg.com/media/CWyD2HGUYAQ1Xa7.jpg\\t2\\tcash_machine\\t0.802333\\tFalse\\tschipperke\\t0.0455186\\tTrue\\tGerman_shepherd\\t0.0233535\\tTrue\\n757741869644341248\\thttps://pbs.twimg.com/media/CoQKNY7XYAE_cuX.jpg\\t1\\tskunk\\t0.609715\\tFalse\\tOld_English_sheepdog\\t0.128899\\tTrue\\tSiberian_husky\\t0.0190761\\tTrue\\n758041019896193024\\thttps://pbs.twimg.com/media/CoUaSKEXYAAYsAl.jpg\\t1\\tbookshop\\t0.794272\\tFalse\\tCardigan\\t0.0512653\\tTrue\\tBernese_mountain_dog\\t0.026596299999999996\\tTrue\\n758355060040593408\\thttps://pbs.twimg.com/media/CoY324eWYAEiDOG.jpg\\t1\\tPembroke\\t0.987643\\tTrue\\tCardigan\\t0.0121121\\tTrue\\tSiamese_cat\\t0.00011747700000000001\\tFalse\\n758405701903519748\\thttps://pbs.twimg.com/media/CoZl9fXWgAMox0n.jpg\\t4\\tChesapeake_Bay_retriever\\t0.702954\\tTrue\\tlaptop\\t0.0922775\\tFalse\\tnotebook\\t0.0327268\\tFalse\\n758467244762497024\\thttps://pbs.twimg.com/ext_tw_video_thumb/758467147756691456/pu/img/YTNzjRFDSPNXukmM.jpg\\t1\\tLabrador_retriever\\t0.43637700000000007\\tTrue\\tChihuahua\\t0.11395599999999999\\tTrue\\tAmerican_Staffordshire_terrier\\t0.0996891\\tTrue\\n758474966123810816\\thttps://pbs.twimg.com/media/Coak48zWAAAhBxV.jpg\\t1\\tPembroke\\t0.546145\\tTrue\\tCardigan\\t0.2442\\tTrue\\tGerman_shepherd\\t0.10042899999999999\\tTrue\\n758740312047005698\\thttps://pbs.twimg.com/media/CoeWSJcUIAAv3Bq.jpg\\t1\\tChesapeake_Bay_retriever\\t0.848514\\tTrue\\tLabrador_retriever\\t0.110054\\tTrue\\tcurly-coated_retriever\\t0.025201400000000002\\tTrue\\n758828659922702336\\thttps://pbs.twimg.com/media/Cofmom_VUAA4dRO.jpg\\t1\\tChesapeake_Bay_retriever\\t0.480048\\tTrue\\tvizsla\\t0.264522\\tTrue\\tWeimaraner\\t0.12184\\tTrue\\n758854675097526272\\thttps://pbs.twimg.com/media/Cof-SuqVYAAs4kZ.jpg\\t4\\tbarrow\\t0.9740469999999999\\tFalse\\tOld_English_sheepdog\\t0.0237914\\tTrue\\tkomondor\\t0.0012462999999999999\\tTrue\\n759047813560868866\\thttps://pbs.twimg.com/media/Coit84_VYAEMtLi.jpg\\t1\\tLabrador_retriever\\t0.778546\\tTrue\\tbathing_cap\\t0.154254\\tFalse\\tgolden_retriever\\t0.024971599999999997\\tTrue\\n759099523532779520\\thttps://pbs.twimg.com/media/Cojc_Q0WcAAqi_K.jpg\\t1\\tShetland_sheepdog\\t0.12903399999999998\\tTrue\\tkelpie\\t0.11750799999999999\\tTrue\\tSiberian_husky\\t0.106708\\tTrue\\n759159934323924993\\thttps://pbs.twimg.com/media/CU1zsMSUAAAS0qW.jpg\\t1\\tIrish_terrier\\t0.25485599999999997\\tTrue\\tbriard\\t0.22771599999999997\\tTrue\\tsoft-coated_wheaten_terrier\\t0.22326300000000002\\tTrue\\n759197388317847553\\thttps://pbs.twimg.com/media/Cok1_sjXgAU3xpp.jpg\\t1\\tkuvasz\\t0.5113409999999999\\tTrue\\tgolden_retriever\\t0.07689910000000001\\tTrue\\twhite_wolf\\t0.06326939999999999\\tFalse\\n759447681597108224\\thttps://pbs.twimg.com/media/CooZok_WEAA7oPw.jpg\\t1\\tkuvasz\\t0.223148\\tTrue\\tBedlington_terrier\\t0.22073099999999998\\tTrue\\tteddy\\t0.181303\\tFalse\\n759557299618865152\\thttps://pbs.twimg.com/media/Cop9VVUXgAAhX9u.jpg\\t2\\tgolden_retriever\\t0.763333\\tTrue\\tChesapeake_Bay_retriever\\t0.194251\\tTrue\\tLabrador_retriever\\t0.012225399999999999\\tTrue\\n759566828574212096\\thttps://pbs.twimg.com/media/CkNjahBXAAQ2kWo.jpg\\t1\\tLabrador_retriever\\t0.967397\\tTrue\\tgolden_retriever\\t0.0166414\\tTrue\\tice_bear\\t0.014857599999999999\\tFalse\\n759793422261743616\\thttps://pbs.twimg.com/media/CotUFZEWcAA2Pku.jpg\\t2\\tgolden_retriever\\t0.985876\\tTrue\\tLabrador_retriever\\t0.00194777\\tTrue\\tkuvasz\\t0.00175174\\tTrue\\n759846353224826880\\thttps://pbs.twimg.com/media/CouEOZhWAAAgFpE.jpg\\t1\\tSussex_spaniel\\t0.35539499999999996\\tTrue\\tvizsla\\t0.141094\\tTrue\\totterhound\\t0.0921982\\tTrue\\n759923798737051648\\thttps://pbs.twimg.com/media/CovKqSYVIAAUbUW.jpg\\t1\\tLabrador_retriever\\t0.324579\\tTrue\\tseat_belt\\t0.109168\\tFalse\\tpug\\t0.102466\\tTrue\\n760190180481531904\\thttps://pbs.twimg.com/media/Coy87yiWYAACtPf.jpg\\t1\\tballoon\\t0.917525\\tFalse\\tconfectionery\\t0.0493291\\tFalse\\tmaraca\\t0.017647799999999998\\tFalse\\n760252756032651264\\thttps://pbs.twimg.com/media/Coz12OLWgAADdys.jpg\\t1\\tradio_telescope\\t0.155279\\tFalse\\tdam\\t0.154515\\tFalse\\tcrane\\t0.09804\\tFalse\\n760290219849637889\\thttps://pbs.twimg.com/ext_tw_video_thumb/760289324994879489/pu/img/3ItvBEoo4aebPfvr.jpg\\t1\\tOld_English_sheepdog\\t0.3022\\tTrue\\tLhasa\\t0.258803\\tTrue\\tbriard\\t0.1792\\tTrue\\n760539183865880579\\thttps://pbs.twimg.com/media/Co36VZfWcAEN3R3.jpg\\t1\\tSamoyed\\t0.9880129999999999\\tTrue\\tmalamute\\t0.00451824\\tTrue\\tWest_Highland_white_terrier\\t0.00118925\\tTrue\\n760641137271070720\\thttps://pbs.twimg.com/media/Co5XExUWgAAL5L_.jpg\\t1\\taxolotl\\t0.132695\\tFalse\\tkiller_whale\\t0.131113\\tFalse\\tsea_lion\\t0.06965199999999999\\tFalse\\n760656994973933572\\thttps://pbs.twimg.com/media/Co5lf-KW8AAIwJw.jpg\\t1\\tgolden_retriever\\t0.760546\\tTrue\\tLabrador_retriever\\t0.232079\\tTrue\\tredbone\\t0.00287417\\tTrue\\n760893934457552897\\thttps://pbs.twimg.com/media/Co88_ujWEAErCg7.jpg\\t1\\tBlenheim_spaniel\\t0.11399200000000001\\tTrue\\tcocker_spaniel\\t0.10578\\tTrue\\tborzoi\\t0.0739345\\tTrue\\n761004547850530816\\thttps://pbs.twimg.com/media/Co-hmcYXYAASkiG.jpg\\t1\\tgolden_retriever\\t0.735163\\tTrue\\tSussex_spaniel\\t0.064897\\tTrue\\tLabrador_retriever\\t0.047703699999999995\\tTrue\\n761227390836215808\\thttps://pbs.twimg.com/media/CpBsRleW8AEfO8G.jpg\\t1\\tcougar\\t0.306512\\tFalse\\tFrench_bulldog\\t0.280802\\tTrue\\tboxer\\t0.05452340000000001\\tTrue\\n761292947749015552\\thttps://pbs.twimg.com/media/CpCn5aXXgAAOPTm.jpg\\t1\\tstandard_poodle\\t0.6608930000000001\\tTrue\\tSamoyed\\t0.314886\\tTrue\\tminiature_poodle\\t0.00883383\\tTrue\\n761334018830917632\\thttps://pbs.twimg.com/media/CpDNQGkWEAENiYZ.jpg\\t1\\tNorwegian_elkhound\\t0.8229360000000001\\tTrue\\tmalinois\\t0.08615249999999999\\tTrue\\tGerman_shepherd\\t0.06333290000000001\\tTrue\\n761371037149827077\\thttps://pbs.twimg.com/tweet_video_thumb/CeBym7oXEAEWbEg.jpg\\t1\\tbrown_bear\\t0.7132930000000001\\tFalse\\tIndian_elephant\\t0.172844\\tFalse\\twater_buffalo\\t0.0389022\\tFalse\\n761599872357261312\\thttps://pbs.twimg.com/media/CpG_CrlWYAYyuP3.jpg\\t1\\tGordon_setter\\t0.240427\\tTrue\\tSaluki\\t0.224269\\tTrue\\tDoberman\\t0.12972999999999998\\tTrue\\n761672994376806400\\thttps://pbs.twimg.com/ext_tw_video_thumb/761672828462718981/pu/img/R00UYAAWB3GtuHdI.jpg\\t1\\tgondola\\t0.318851\\tFalse\\tsea_lion\\t0.306525\\tFalse\\tpool_table\\t0.11156500000000001\\tFalse\\n761745352076779520\\thttps://pbs.twimg.com/media/CpJDWqhW8AAFt45.jpg\\t1\\tpaddle\\t0.39311799999999997\\tFalse\\tcanoe\\t0.17808800000000002\\tFalse\\tlakeside\\t0.09971260000000001\\tFalse\\n761750502866649088\\thttps://pbs.twimg.com/media/CYLDikFWEAAIy1y.jpg\\t1\\tgolden_retriever\\t0.586937\\tTrue\\tLabrador_retriever\\t0.39826\\tTrue\\tkuvasz\\t0.00540969\\tTrue\\n761976711479193600\\thttps://pbs.twimg.com/media/CpMVxoRXgAAh350.jpg\\t3\\tLabrador_retriever\\t0.47555200000000003\\tTrue\\tChesapeake_Bay_retriever\\t0.082898\\tTrue\\tStaffordshire_bullterrier\\t0.048464\\tTrue\\n762035686371364864\\thttps://pbs.twimg.com/ext_tw_video_thumb/762035577168560129/pu/img/kD4TeHRRiSKgOyDx.jpg\\t1\\thome_theater\\t0.06315180000000001\\tFalse\\tcash_machine\\t0.0466921\\tFalse\\ttheater_curtain\\t0.0462768\\tFalse\\n762316489655476224\\thttps://pbs.twimg.com/media/CpRKzZKWAAABGh7.jpg\\t1\\tAfrican_grey\\t0.270468\\tFalse\\tMadagascar_cat\\t0.0761865\\tFalse\\ttelevision\\t0.0333058\\tFalse\\n762464539388485633\\thttps://pbs.twimg.com/media/CpTRc4DUEAAYTq6.jpg\\t4\\tchow\\t0.9999530000000001\\tTrue\\tTibetan_mastiff\\t2.3359099999999998e-05\\tTrue\\tdhole\\t3.01033e-06\\tFalse\\n762471784394268675\\thttps://pbs.twimg.com/ext_tw_video_thumb/762471745303355393/pu/img/RKcEUz7-VDipoGKJ.jpg\\t1\\tSamoyed\\t0.540276\\tTrue\\tstandard_poodle\\t0.279802\\tTrue\\ttoy_poodle\\t0.10205800000000001\\tTrue\\n762699858130116608\\thttps://pbs.twimg.com/media/CpWnecZWIAAUFwt.jpg\\t1\\tkelpie\\t0.519047\\tTrue\\tGerman_shepherd\\t0.296069\\tTrue\\tdingo\\t0.0610053\\tFalse\\n763103485927849985\\thttps://pbs.twimg.com/media/CpcWknPXYAAeLP9.jpg\\t2\\tseat_belt\\t0.685821\\tFalse\\tice_bear\\t0.0815972\\tFalse\\tchow\\t0.0390848\\tTrue\\n763183847194451968\\thttps://pbs.twimg.com/media/CpdfpzKWYAAWSUi.jpg\\t1\\tminiature_poodle\\t0.354674\\tTrue\\ttoy_poodle\\t0.338642\\tTrue\\tteddy\\t0.155828\\tFalse\\n763837565564780549\\thttps://pbs.twimg.com/media/CpmyNumW8AAAJGj.jpg\\t1\\tmalamute\\t0.375098\\tTrue\\tjean\\t0.0693617\\tFalse\\tkeeshond\\t0.0505276\\tTrue\\n764259802650378240\\thttps://pbs.twimg.com/media/CpsyNtXWgAAqvs3.jpg\\t1\\tGerman_shepherd\\t0.973677\\tTrue\\tmalinois\\t0.025949700000000003\\tTrue\\tkelpie\\t0.00019156799999999998\\tTrue\\n764857477905154048\\thttps://pbs.twimg.com/media/Cp1R0ZTWcAAaPO4.jpg\\t1\\tBernese_mountain_dog\\t0.7920590000000001\\tTrue\\tAppenzeller\\t0.155034\\tTrue\\tEntleBucher\\t0.038373800000000007\\tTrue\\n765222098633691136\\thttps://pbs.twimg.com/media/Cp6db4-XYAAMmqL.jpg\\t1\\tdalmatian\\t0.556595\\tTrue\\twhippet\\t0.15104700000000001\\tTrue\\tAmerican_Staffordshire_terrier\\t0.09643550000000001\\tTrue\\n765371061932261376\\thttps://pbs.twimg.com/media/Cp8k6oRWcAUL78U.jpg\\t2\\tgolden_retriever\\t0.829456\\tTrue\\tLabrador_retriever\\t0.08937089999999999\\tTrue\\tkuvasz\\t0.0170275\\tTrue\\n765395769549590528\\thttps://pbs.twimg.com/media/Cp87Y0jXYAQyjuV.jpg\\t1\\tPembroke\\t0.509491\\tTrue\\tCardigan\\t0.330401\\tTrue\\tShetland_sheepdog\\t0.038874900000000004\\tTrue\\n765669560888528897\\thttps://pbs.twimg.com/media/CqA0XcYWAAAzltT.jpg\\t1\\tbeagle\\t0.993333\\tTrue\\tWalker_hound\\t0.00290219\\tTrue\\tbasset\\t0.00241518\\tTrue\\n765719909049503744\\thttps://pbs.twimg.com/media/CqBiMAgWAAEJKgI.jpg\\t1\\tgolden_retriever\\t0.969518\\tTrue\\tLabrador_retriever\\t0.0216961\\tTrue\\tBorder_terrier\\t0.00207455\\tTrue\\n766008592277377025\\thttps://pbs.twimg.com/media/CqFouXOXYAAYpzG.jpg\\t1\\tWelsh_springer_spaniel\\t0.7281529999999999\\tTrue\\tbasset\\t0.103842\\tTrue\\tBrittany_spaniel\\t0.062414300000000006\\tTrue\\n766069199026450432\\thttps://pbs.twimg.com/media/CqGf3xaXYAEh3ak.jpg\\t1\\tredbone\\t0.48485500000000004\\tTrue\\tbeagle\\t0.43752700000000005\\tTrue\\tbasset\\t0.0105854\\tTrue\\n766078092750233600\\thttps://pbs.twimg.com/media/ChK1tdBWwAQ1flD.jpg\\t1\\ttoy_poodle\\t0.42046300000000003\\tTrue\\tminiature_poodle\\t0.13264\\tTrue\\tChesapeake_Bay_retriever\\t0.121523\\tTrue\\n766313316352462849\\thttps://pbs.twimg.com/media/CqJ95SRWgAATPK_.jpg\\t1\\ttoy_poodle\\t0.9668959999999999\\tTrue\\tminiature_poodle\\t0.0164243\\tTrue\\tcocker_spaniel\\t0.0102271\\tTrue\\n766423258543644672\\thttps://pbs.twimg.com/media/CqLh4yJWcAAHomv.jpg\\t2\\tkeeshond\\t0.9958229999999999\\tTrue\\tPomeranian\\t0.00389721\\tTrue\\tNorwegian_elkhound\\t0.000253109\\tTrue\\n766693177336135680\\thttps://pbs.twimg.com/media/CqPXYLLXEAAU2HC.jpg\\t1\\tDoberman\\t0.948355\\tTrue\\tvizsla\\t0.015031999999999998\\tTrue\\tRhodesian_ridgeback\\t0.00963084\\tTrue\\n766793450729734144\\thttps://pbs.twimg.com/media/CqQykxrWYAAlD8g.jpg\\t1\\tbeagle\\t0.451697\\tTrue\\tbasset\\t0.19751300000000002\\tTrue\\tbloodhound\\t0.07269860000000002\\tTrue\\n767122157629476866\\thttps://pbs.twimg.com/media/CqVdiBJWIAEDZB4.jpg\\t2\\ttoy_poodle\\t0.873841\\tTrue\\tminiature_poodle\\t0.0591918\\tTrue\\tIrish_terrier\\t0.035306\\tTrue\\n767191397493538821\\thttps://pbs.twimg.com/media/CqWcgcqWcAI43jm.jpg\\t1\\tpatio\\t0.708665\\tFalse\\tboathouse\\t0.110056\\tFalse\\tpier\\t0.039532300000000006\\tFalse\\n767500508068192258\\thttps://pbs.twimg.com/media/Cqa1ofnXEAAG0yn.jpg\\t1\\tchow\\t0.483228\\tTrue\\tgolden_retriever\\t0.16506300000000002\\tTrue\\tNorfolk_terrier\\t0.0601729\\tTrue\\n767754930266464257\\thttps://pbs.twimg.com/media/CqedCQWWgAIab9L.jpg\\t1\\tvizsla\\t0.307794\\tTrue\\tfountain\\t0.14218499999999998\\tFalse\\tChesapeake_Bay_retriever\\t0.11390299999999999\\tTrue\\n767884188863397888\\thttps://pbs.twimg.com/media/CqgSl4DWcAA-x-o.jpg\\t3\\tcoral_reef\\t0.32774000000000003\\tFalse\\tcliff\\t0.157182\\tFalse\\tlakeside\\t0.0488096\\tFalse\\n768193404517830656\\thttps://pbs.twimg.com/media/Cqkr0wiW8AAn2Oi.jpg\\t1\\tlion\\t0.396984\\tFalse\\tram\\t0.30085100000000004\\tFalse\\tcheetah\\t0.094474\\tFalse\\n768473857036525572\\thttps://pbs.twimg.com/media/Cqoq5PGWAAA-U8T.jpg\\t1\\tLabrador_retriever\\t0.73917\\tTrue\\tChesapeake_Bay_retriever\\t0.246488\\tTrue\\tkelpie\\t0.00689234\\tTrue\\n768596291618299904\\thttps://pbs.twimg.com/media/CqqaPjqWIAAOyNL.jpg\\t1\\tGreat_Pyrenees\\t0.729745\\tTrue\\tgolden_retriever\\t0.237961\\tTrue\\tLabrador_retriever\\t0.0209033\\tTrue\\n768609597686943744\\thttps://pbs.twimg.com/media/CqqmWa7WcAAIM-n.jpg\\t1\\tbasenji\\t0.183283\\tTrue\\tItalian_greyhound\\t0.136012\\tTrue\\twhippet\\t0.0601299\\tTrue\\n768855141948723200\\thttps://pbs.twimg.com/media/CquFrCKWAAAr32m.jpg\\t1\\tchow\\t0.7202189999999999\\tTrue\\tBrabancon_griffon\\t0.0583653\\tTrue\\tRottweiler\\t0.055113499999999996\\tTrue\\n768970937022709760\\thttps://pbs.twimg.com/ext_tw_video_thumb/768967618174877700/pu/img/4wfsrs0ZnQ5pstXm.jpg\\t1\\tPomeranian\\t0.182358\\tTrue\\tgolden_retriever\\t0.11065799999999999\\tTrue\\tmousetrap\\t0.08639889999999999\\tFalse\\n769212283578875904\\thttps://pbs.twimg.com/media/CqzKfQgXEAAWIY-.jpg\\t1\\tgolden_retriever\\t0.16653800000000002\\tTrue\\tPekinese\\t0.148215\\tTrue\\tcocker_spaniel\\t0.0827351\\tTrue\\n769695466921623552\\thttps://pbs.twimg.com/media/Cq6B8V6XYAA1T1R.jpg\\t1\\tpug\\t0.407117\\tTrue\\tmuzzle\\t0.165638\\tFalse\\tkuvasz\\t0.045837199999999995\\tTrue\\n769940425801170949\\thttps://pbs.twimg.com/media/Cq9guJ5WgAADfpF.jpg\\t1\\tminiature_pinscher\\t0.796313\\tTrue\\tChihuahua\\t0.15541300000000002\\tTrue\\tStaffordshire_bullterrier\\t0.0309433\\tTrue\\n770069151037685760\\thttps://pbs.twimg.com/media/Cq_Vy9KWcAIUIuv.jpg\\t1\\tBoston_bull\\t0.414965\\tTrue\\tAmerican_Staffordshire_terrier\\t0.286985\\tTrue\\tStaffordshire_bullterrier\\t0.11497\\tTrue\\n770093767776997377\\thttps://pbs.twimg.com/media/CkjMx99UoAM2B1a.jpg\\t1\\tgolden_retriever\\t0.843799\\tTrue\\tLabrador_retriever\\t0.0529559\\tTrue\\tkelpie\\t0.035711099999999996\\tTrue\\n770293558247038976\\thttps://pbs.twimg.com/media/CrCh5RgW8AAXW4U.jpg\\t1\\tItalian_greyhound\\t0.931668\\tTrue\\tMexican_hairless\\t0.0388962\\tTrue\\twhippet\\t0.0131514\\tTrue\\n770414278348247044\\thttps://pbs.twimg.com/media/CrEPsfWXEAAKvem.jpg\\t1\\tmaillot\\t0.5805279999999999\\tFalse\\tmaillot\\t0.08144889999999999\\tFalse\\tgolden_retriever\\t0.0535696\\tTrue\\n770655142660169732\\thttps://pbs.twimg.com/media/CrHqwjWXgAAgJSe.jpg\\t1\\tMadagascar_cat\\t0.494803\\tFalse\\tskunk\\t0.161184\\tFalse\\tpaper_towel\\t0.0915715\\tFalse\\n770772759874076672\\thttps://pbs.twimg.com/media/CrJVupHXgAA4Dkk.jpg\\t1\\tchow\\t0.9795149999999999\\tTrue\\tgolden_retriever\\t0.0102187\\tTrue\\tPomeranian\\t0.00460604\\tTrue\\n770787852854652928\\thttps://pbs.twimg.com/media/CrJjdZmXgAEWLSD.jpg\\t1\\tBernese_mountain_dog\\t0.787812\\tTrue\\tGreater_Swiss_Mountain_dog\\t0.163946\\tTrue\\tEntleBucher\\t0.020293400000000003\\tTrue\\n771004394259247104\\thttps://pbs.twimg.com/media/CrMmVqyWcAIDCHI.jpg\\t1\\thome_theater\\t0.414338\\tFalse\\tiPod\\t0.0527413\\tFalse\\tpop_bottle\\t0.0488206\\tFalse\\n771014301343748096\\thttps://pbs.twimg.com/media/CrMxZzgWIAQUxzx.jpg\\t1\\tmeerkat\\t0.202335\\tFalse\\tdoormat\\t0.11179000000000001\\tFalse\\tmacaque\\t0.0889253\\tFalse\\n771102124360998913\\thttps://pbs.twimg.com/media/CrOBSfgXgAABsTE.jpg\\t1\\tLabrador_retriever\\t0.568789\\tTrue\\tpug\\t0.179918\\tTrue\\tStaffordshire_bullterrier\\t0.0344374\\tTrue\\n771136648247640064\\thttps://pbs.twimg.com/media/CrOgsIBWYAA8Dtb.jpg\\t1\\tbathtub\\t0.36866\\tFalse\\tgolden_retriever\\t0.297402\\tTrue\\ttub\\t0.201711\\tFalse\\n771171053431250945\\thttps://pbs.twimg.com/media/CVgdFjNWEAAxmbq.jpg\\t3\\tSamoyed\\t0.978833\\tTrue\\tPomeranian\\t0.012763\\tTrue\\tEskimo_dog\\t0.00185305\\tTrue\\n771380798096281600\\thttps://pbs.twimg.com/media/CrR-vVfXEAAk6Gg.jpg\\t1\\tcollie\\t0.503728\\tTrue\\tBorder_collie\\t0.45094399999999996\\tTrue\\tEnglish_springer\\t0.012692799999999999\\tTrue\\n771500966810099713\\thttps://pbs.twimg.com/media/CrTsCPHWYAANdzC.jpg\\t1\\tLabrador_retriever\\t0.833952\\tTrue\\tgolden_retriever\\t0.103223\\tTrue\\tsoccer_ball\\t0.0120939\\tFalse\\n771770456517009408\\thttps://pbs.twimg.com/media/CrXhIqBW8AA6Bse.jpg\\t1\\tpapillon\\t0.53318\\tTrue\\tcollie\\t0.192031\\tTrue\\tBorder_collie\\t0.121626\\tTrue\\n772102971039580160\\thttps://pbs.twimg.com/media/CrcPjh0WcAA_SPT.jpg\\t1\\tPembroke\\t0.54178\\tTrue\\tCardigan\\t0.260504\\tTrue\\tShetland_sheepdog\\t0.0637031\\tTrue\\n772114945936949249\\thttps://pbs.twimg.com/media/Crcacf9WgAEcrMh.jpg\\t1\\tChihuahua\\t0.803293\\tTrue\\ttoy_terrier\\t0.05297999999999999\\tTrue\\tItalian_greyhound\\t0.0372388\\tTrue\\n772117678702071809\\thttps://pbs.twimg.com/media/Crcc7pqXEAAM5O2.jpg\\t1\\tLabrador_retriever\\t0.21782100000000001\\tTrue\\tbeagle\\t0.157677\\tTrue\\tgolden_retriever\\t0.127726\\tTrue\\n772152991789019136\\thttps://pbs.twimg.com/media/Crc9DEoWEAE7RLH.jpg\\t2\\tgolden_retriever\\t0.275318\\tTrue\\tIrish_setter\\t0.100988\\tTrue\\tvizsla\\t0.07352489999999999\\tTrue\\n772193107915964416\\thttps://pbs.twimg.com/media/Crdhh_1XEAAHKHi.jpg\\t1\\tPembroke\\t0.36794499999999997\\tTrue\\tChihuahua\\t0.22352199999999997\\tTrue\\tPekinese\\t0.164871\\tTrue\\n772581559778025472\\thttps://pbs.twimg.com/media/CrjC0JAWAAAjz6n.jpg\\t3\\tNewfoundland\\t0.574345\\tTrue\\tBorder_collie\\t0.128352\\tTrue\\tSaint_Bernard\\t0.0594755\\tTrue\\n772615324260794368\\thttps://pbs.twimg.com/media/Cp6db4-XYAAMmqL.jpg\\t1\\tdalmatian\\t0.556595\\tTrue\\twhippet\\t0.15104700000000001\\tTrue\\tAmerican_Staffordshire_terrier\\t0.09643550000000001\\tTrue\\n772826264096874500\\thttps://pbs.twimg.com/media/CrmhYYIXEAEcyYY.jpg\\t1\\tbasset\\t0.915351\\tTrue\\tWalker_hound\\t0.0724159\\tTrue\\tbeagle\\t0.00822894\\tTrue\\n772877495989305348\\thttps://pbs.twimg.com/ext_tw_video_thumb/772874595468795904/pu/img/t8gbjy2rA19xtQYR.jpg\\t1\\ttabby\\t0.21830300000000002\\tFalse\\tNorwegian_elkhound\\t0.138523\\tTrue\\twombat\\t0.0742172\\tFalse\\n773191612633579521\\thttps://pbs.twimg.com/media/CrrtqjdXEAINleR.jpg\\t1\\tBlenheim_spaniel\\t0.427766\\tTrue\\tShih-Tzu\\t0.219256\\tTrue\\tWelsh_springer_spaniel\\t0.14461400000000002\\tTrue\\n773247561583001600\\thttps://pbs.twimg.com/media/Crsgi9dWEAApQd8.jpg\\t1\\tseat_belt\\t0.713588\\tFalse\\tminiature_pinscher\\t0.08336879999999999\\tTrue\\tBrabancon_griffon\\t0.0756961\\tTrue\\n773308824254029826\\thttps://pbs.twimg.com/media/CrtYRMEWIAAUkCl.jpg\\t1\\tshopping_cart\\t0.572349\\tFalse\\tLabrador_retriever\\t0.15140599999999999\\tTrue\\tshopping_basket\\t0.107102\\tFalse\\n773547596996571136\\thttps://pbs.twimg.com/media/Crwxb5yWgAAX5P_.jpg\\t1\\tNorwegian_elkhound\\t0.372202\\tTrue\\tChesapeake_Bay_retriever\\t0.13718699999999998\\tTrue\\tmalamute\\t0.07143619999999999\\tTrue\\n773670353721753600\\thttps://pbs.twimg.com/media/CryhFC0XEAA9wp_.jpg\\t1\\tOld_English_sheepdog\\t0.969311\\tTrue\\tMaltese_dog\\t0.013243000000000001\\tTrue\\tsoft-coated_wheaten_terrier\\t0.00485731\\tTrue\\n773704687002451968\\thttps://pbs.twimg.com/media/CrzATQqWAAEHq2t.jpg\\t2\\tsilky_terrier\\t0.324251\\tTrue\\tYorkshire_terrier\\t0.18120999999999998\\tTrue\\tAiredale\\t0.133436\\tTrue\\n773922284943896577\\thttps://pbs.twimg.com/media/Cr2GNdlW8AAbojw.jpg\\t1\\tPomeranian\\t0.554331\\tTrue\\tSamoyed\\t0.432158\\tTrue\\tchow\\t0.00319942\\tTrue\\n773985732834758656\\thttps://pbs.twimg.com/media/Cr2_6R8WAAAUMtc.jpg\\t4\\tgiant_panda\\t0.45114899999999997\\tFalse\\tfur_coat\\t0.148001\\tFalse\\tpug\\t0.10957\\tTrue\\n774314403806253056\\thttps://pbs.twimg.com/media/Cr7q1VxWIAA5Nm7.jpg\\t3\\tEskimo_dog\\t0.5960449999999999\\tTrue\\tSiberian_husky\\t0.22306700000000002\\tTrue\\tSaluki\\t0.036324699999999994\\tTrue\\n774639387460112384\\thttps://pbs.twimg.com/media/CsASZqRW8AA3Szw.jpg\\t1\\tWalker_hound\\t0.6275930000000001\\tTrue\\tbasenji\\t0.12870499999999999\\tTrue\\tIbizan_hound\\t0.126282\\tTrue\\n774757898236878852\\thttps://pbs.twimg.com/media/CsB-MYiXgAEQU20.jpg\\t1\\ttoy_poodle\\t0.7199409999999999\\tTrue\\tminiature_poodle\\t0.251546\\tTrue\\tLakeland_terrier\\t0.00700838\\tTrue\\n775085132600442880\\thttps://pbs.twimg.com/media/CsGnz64WYAEIDHJ.jpg\\t1\\tchow\\t0.316565\\tTrue\\tgolden_retriever\\t0.241929\\tTrue\\tPomeranian\\t0.157524\\tTrue\\n775364825476165632\\thttps://pbs.twimg.com/media/CsKmMB2WAAAXcAy.jpg\\t3\\tbeagle\\t0.571229\\tTrue\\tChihuahua\\t0.175257\\tTrue\\tPembroke\\t0.034306300000000005\\tTrue\\n775729183532220416\\thttps://pbs.twimg.com/media/CsPxk85XEAAeMQj.jpg\\t1\\tweb_site\\t0.9894069999999999\\tFalse\\thand-held_computer\\t0.00213902\\tFalse\\tmenu\\t0.00211536\\tFalse\\n775733305207554048\\thttps://pbs.twimg.com/media/CsP1UvaW8AExVSA.jpg\\t1\\tlong-horned_beetle\\t0.6138520000000001\\tFalse\\tox\\t0.0294728\\tFalse\\trhinoceros_beetle\\t0.027806099999999997\\tFalse\\n775842724423557120\\thttps://pbs.twimg.com/media/CsRY1jAWYAUOx55.jpg\\t2\\tchow\\t0.520022\\tTrue\\tbath_towel\\t0.0287747\\tFalse\\tFrench_bulldog\\t0.025990100000000002\\tTrue\\n775898661951791106\\thttps://pbs.twimg.com/media/CiyHLocU4AI2pJu.jpg\\t1\\tgolden_retriever\\t0.945523\\tTrue\\tLabrador_retriever\\t0.0423191\\tTrue\\tdoormat\\t0.00395626\\tFalse\\n776088319444877312\\thttps://pbs.twimg.com/media/CsU4NKkW8AUI5eG.jpg\\t3\\tweb_site\\t0.999916\\tFalse\\tpug\\t7.657020000000001e-05\\tTrue\\tmenu\\t2.16468e-06\\tFalse\\n776113305656188928\\thttps://pbs.twimg.com/media/CsVO7ljW8AAckRD.jpg\\t1\\tmousetrap\\t0.777468\\tFalse\\tblack_widow\\t0.09394019999999999\\tFalse\\tpaddlewheel\\t0.0174919\\tFalse\\n776201521193218049\\thttps://pbs.twimg.com/media/CsWfKadWEAAtmlS.jpg\\t1\\tRottweiler\\t0.502228\\tTrue\\tblack-and-tan_coonhound\\t0.154594\\tTrue\\tbloodhound\\t0.135176\\tTrue\\n776218204058357768\\thttps://pbs.twimg.com/media/CsWuVEdWcAAqbe9.jpg\\t1\\tSamoyed\\t0.940326\\tTrue\\tPomeranian\\t0.05552719999999999\\tTrue\\tkeeshond\\t0.00222635\\tTrue\\n776477788987613185\\thttps://pbs.twimg.com/media/CsaaaaxWgAEfzM7.jpg\\t1\\tLabrador_retriever\\t0.8848389999999999\\tTrue\\tChesapeake_Bay_retriever\\t0.057565099999999994\\tTrue\\tpaintbrush\\t0.00576608\\tFalse\\n776813020089548800\\thttps://pbs.twimg.com/media/CsfLUDbXEAAu0VF.jpg\\t1\\ttoy_poodle\\t0.51661\\tTrue\\tminiature_poodle\\t0.255033\\tTrue\\tstandard_poodle\\t0.168989\\tTrue\\n776819012571455488\\thttps://pbs.twimg.com/media/CW88XN4WsAAlo8r.jpg\\t3\\tChihuahua\\t0.346545\\tTrue\\tdalmatian\\t0.166246\\tTrue\\ttoy_terrier\\t0.117502\\tTrue\\n777189768882946048\\thttps://pbs.twimg.com/media/Cskh9nRWYAAUxBP.jpg\\t2\\tChihuahua\\t0.9884120000000001\\tTrue\\tMexican_hairless\\t0.00417722\\tTrue\\thog\\t0.00150658\\tFalse\\n777621514455814149\\thttps://pbs.twimg.com/media/Csqqoo5WEAAMTVW.jpg\\t1\\tchow\\t0.9998229999999999\\tTrue\\tNorwich_terrier\\t5.644850000000001e-05\\tTrue\\tPomeranian\\t2.76806e-05\\tTrue\\n777641927919427584\\thttps://pbs.twimg.com/media/CmoPdmHW8AAi8BI.jpg\\t1\\tgolden_retriever\\t0.964929\\tTrue\\tLabrador_retriever\\t0.0115837\\tTrue\\trefrigerator\\t0.00749862\\tFalse\\n777684233540206592\\thttps://pbs.twimg.com/media/CsrjryzWgAAZY00.jpg\\t1\\tcocker_spaniel\\t0.253442\\tTrue\\tgolden_retriever\\t0.16285\\tTrue\\totterhound\\t0.110921\\tTrue\\n777885040357281792\\thttps://pbs.twimg.com/media/CsuaUH2WAAAWJh1.jpg\\t1\\tAfghan_hound\\t0.123529\\tTrue\\tbasset\\t0.119682\\tTrue\\tSiberian_husky\\t0.10870899999999999\\tTrue\\n778027034220126208\\thttps://pbs.twimg.com/media/Cswbc2yWcAAVsCJ.jpg\\t1\\tclumber\\t0.9467180000000001\\tTrue\\tcocker_spaniel\\t0.0159499\\tTrue\\tLhasa\\t0.00651911\\tTrue\\n778039087836069888\\thttps://pbs.twimg.com/media/CswmaHmWAAAbdY9.jpg\\t2\\tGerman_shepherd\\t0.717776\\tTrue\\tmalinois\\t0.111175\\tTrue\\tNorwegian_elkhound\\t0.0588024\\tTrue\\n778286810187399168\\thttps://pbs.twimg.com/media/Cs0HuUTWcAUpSE8.jpg\\t1\\tBoston_bull\\t0.32206999999999997\\tTrue\\tpug\\t0.22990300000000002\\tTrue\\tmuzzle\\t0.10142000000000001\\tFalse\\n778383385161035776\\thttps://pbs.twimg.com/media/Cs1fjyqWIAE2jop.jpg\\t1\\tcollie\\t0.34526599999999996\\tTrue\\tborzoi\\t0.312823\\tTrue\\tBorder_collie\\t0.213011\\tTrue\\n778396591732486144\\thttps://pbs.twimg.com/media/CcG07BYW0AErrC9.jpg\\t1\\thippopotamus\\t0.581403\\tFalse\\tdoormat\\t0.152445\\tFalse\\tsea_lion\\t0.026364299999999997\\tFalse\\n778408200802557953\\thttps://pbs.twimg.com/media/Cs12ICuWAAECNRy.jpg\\t3\\tPembroke\\t0.8483620000000001\\tTrue\\tCardigan\\t0.108124\\tTrue\\tbeagle\\t0.0119417\\tTrue\\n778624900596654080\\thttps://pbs.twimg.com/media/Cs47N3eWcAEmgiW.jpg\\t2\\tAiredale\\t0.786089\\tTrue\\tIrish_terrier\\t0.12148800000000001\\tTrue\\tLakeland_terrier\\t0.0146031\\tTrue\\n778650543019483137\\thttps://pbs.twimg.com/media/Cs5ShihWEAAH2ti.jpg\\t1\\tGerman_shepherd\\t0.515699\\tTrue\\tmalinois\\t0.300292\\tTrue\\tkelpie\\t0.08702230000000001\\tTrue\\n778748913645780993\\thttps://pbs.twimg.com/media/Cs6r_-kVIAALh1p.jpg\\t1\\tStaffordshire_bullterrier\\t0.351434\\tTrue\\tboxer\\t0.201478\\tTrue\\tAmerican_Staffordshire_terrier\\t0.14283800000000002\\tTrue\\n778990705243029504\\thttps://pbs.twimg.com/media/Cs-H5uhWcAAiNY9.jpg\\t2\\tcocker_spaniel\\t0.7153510000000001\\tTrue\\tLabrador_retriever\\t0.207056\\tTrue\\tChihuahua\\t0.0285194\\tTrue\\n779056095788752897\\thttps://pbs.twimg.com/media/Cs_DYr1XEAA54Pu.jpg\\t1\\tChihuahua\\t0.721188\\tTrue\\ttoy_terrier\\t0.112943\\tTrue\\tkelpie\\t0.053364499999999995\\tTrue\\n779123168116150273\\thttps://pbs.twimg.com/media/CtAAYizW8AAWzBZ.jpg\\t1\\ttoy_poodle\\t0.43108\\tTrue\\tsoft-coated_wheaten_terrier\\t0.0603649\\tTrue\\tcocker_spaniel\\t0.05984540000000001\\tTrue\\n779377524342161408\\thttps://pbs.twimg.com/ext_tw_video_thumb/779377444025499652/pu/img/eIiLDy9F6rPNarEc.jpg\\t1\\tsundial\\t0.17092100000000002\\tFalse\\tcash_machine\\t0.0603586\\tFalse\\tmaze\\t0.0549814\\tFalse\\n779834332596887552\\thttps://pbs.twimg.com/media/CtKHLuCWYAA2TTs.jpg\\t1\\tgolden_retriever\\t0.9938299999999999\\tTrue\\tcocker_spaniel\\t0.00314271\\tTrue\\tGreat_Pyrenees\\t0.000917414\\tTrue\\n780192070812196864\\thttps://pbs.twimg.com/media/CtPMhwvXYAIt6NG.jpg\\t1\\tvizsla\\t0.144012\\tTrue\\tmongoose\\t0.09147360000000002\\tFalse\\thatchet\\t0.0735447\\tFalse\\n780459368902959104\\thttps://pbs.twimg.com/media/CtS_p9kXEAE2nh8.jpg\\t1\\tGreat_Dane\\t0.38249099999999997\\tTrue\\tGerman_shepherd\\t0.312026\\tTrue\\tbull_mastiff\\t0.0332719\\tTrue\\n780476555013349377\\thttps://pbs.twimg.com/tweet_video_thumb/CtTFZZfUsAE5hgp.jpg\\t1\\tpug\\t0.9192549999999999\\tTrue\\tFrench_bulldog\\t0.0323503\\tTrue\\tbull_mastiff\\t0.028467900000000004\\tTrue\\n780496263422808064\\thttps://pbs.twimg.com/media/Ck2d7tJWUAEPTL3.jpg\\t1\\tpug\\t0.99731\\tTrue\\tBrabancon_griffon\\t0.00118563\\tTrue\\tFrench_bulldog\\t0.00042798900000000004\\tTrue\\n780543529827336192\\thttps://pbs.twimg.com/media/CtUMLzRXgAAbZK5.jpg\\t1\\tgolden_retriever\\t0.628312\\tTrue\\tLabrador_retriever\\t0.317365\\tTrue\\tTibetan_mastiff\\t0.0122601\\tTrue\\n780601303617732608\\thttps://pbs.twimg.com/media/CtVAvX-WIAAcGTf.jpg\\t1\\tSaint_Bernard\\t0.995143\\tTrue\\tCardigan\\t0.00304359\\tTrue\\tEnglish_springer\\t0.00104955\\tTrue\\n780800785462489090\\thttps://pbs.twimg.com/media/CtX2Kr9XYAAuxrM.jpg\\t2\\tSiberian_husky\\t0.9519629999999999\\tTrue\\tEskimo_dog\\t0.0353461\\tTrue\\tPembroke\\t0.00886194\\tTrue\\n780858289093574656\\thttps://pbs.twimg.com/media/CtYqeNHWgAATqYZ.jpg\\t1\\tChesapeake_Bay_retriever\\t0.488555\\tTrue\\tSussex_spaniel\\t0.27165500000000004\\tTrue\\tkelpie\\t0.10691300000000001\\tTrue\\n780931614150983680\\thttps://pbs.twimg.com/media/CtZtJxAXEAAyPGd.jpg\\t1\\tpadlock\\t0.731564\\tFalse\\tnecklace\\t0.0654616\\tFalse\\tchain\\t0.0364691\\tFalse\\n781163403222056960\\thttps://pbs.twimg.com/media/Ctc_-BTWEAAQpZh.jpg\\t1\\tShetland_sheepdog\\t0.973841\\tTrue\\tcollie\\t0.025187599999999997\\tTrue\\tBorder_collie\\t0.00029731099999999997\\tTrue\\n781251288990355457\\thttps://pbs.twimg.com/media/CteP5H5WcAEhdLO.jpg\\t2\\tMexican_hairless\\t0.8877709999999999\\tTrue\\tItalian_greyhound\\t0.0306664\\tTrue\\tseat_belt\\t0.0267298\\tFalse\\n781524693396357120\\thttps://pbs.twimg.com/media/CtiIj0AWcAEBDvw.jpg\\t1\\ttennis_ball\\t0.994712\\tFalse\\tChesapeake_Bay_retriever\\t0.0035225\\tTrue\\tLabrador_retriever\\t0.0009214389999999999\\tTrue\\n781661882474196992\\thttps://pbs.twimg.com/media/CtkFS72WcAAiUrs.jpg\\t1\\tPembroke\\t0.438087\\tTrue\\tgolden_retriever\\t0.226954\\tTrue\\tcollie\\t0.07065160000000001\\tTrue\\n781955203444699136\\thttps://pbs.twimg.com/media/CtoQGu4XgAQgv5m.jpg\\t1\\tpool_table\\t0.179568\\tFalse\\tdining_table\\t0.154396\\tFalse\\tmicrowave\\t0.0336905\\tFalse\\n782021823840026624\\thttps://pbs.twimg.com/media/CdHwZd0VIAA4792.jpg\\t1\\tgolden_retriever\\t0.383223\\tTrue\\tcocker_spaniel\\t0.16593\\tTrue\\tChesapeake_Bay_retriever\\t0.118199\\tTrue\\n782305867769217024\\thttps://pbs.twimg.com/media/CttPBt0WIAAcsDE.jpg\\t1\\tbriard\\t0.5044270000000001\\tTrue\\tsoft-coated_wheaten_terrier\\t0.390678\\tTrue\\tLhasa\\t0.0345955\\tTrue\\n782598640137187329\\thttps://pbs.twimg.com/media/CtxZTtxUMAEduGo.jpg\\t1\\tmalamute\\t0.8408709999999999\\tTrue\\tTibetan_mastiff\\t0.140516\\tTrue\\tEskimo_dog\\t0.0120116\\tTrue\\n782722598790725632\\thttps://pbs.twimg.com/media/CtzKC7zXEAALfSo.jpg\\t1\\tIrish_setter\\t0.574557\\tTrue\\tgolden_retriever\\t0.339251\\tTrue\\tseat_belt\\t0.0461082\\tFalse\\n782747134529531904\\thttps://pbs.twimg.com/media/CtzgXgeXYAA1Gxw.jpg\\t1\\tgolden_retriever\\t0.560699\\tTrue\\totterhound\\t0.199482\\tTrue\\tclumber\\t0.040681800000000004\\tTrue\\n782969140009107456\\thttps://pbs.twimg.com/media/Ct2qO5PXEAE6eB0.jpg\\t1\\tseat_belt\\t0.474292\\tFalse\\tgolden_retriever\\t0.17139300000000002\\tTrue\\tLabrador_retriever\\t0.11059200000000001\\tTrue\\n783085703974514689\\thttps://pbs.twimg.com/media/Ct4URfWUAAQ7lKe.jpg\\t1\\tChesapeake_Bay_retriever\\t0.240602\\tTrue\\tAiredale\\t0.164088\\tTrue\\tboxer\\t0.134506\\tTrue\\n783334639985389568\\thttps://pbs.twimg.com/media/Ct72q9jWcAAhlnw.jpg\\t2\\tCardigan\\t0.593858\\tTrue\\tShetland_sheepdog\\t0.13061099999999998\\tTrue\\tPembroke\\t0.100842\\tTrue\\n783347506784731136\\thttps://pbs.twimg.com/media/CVuQ2LeUsAAIe3s.jpg\\t1\\tCardigan\\t0.611525\\tTrue\\tPembroke\\t0.368566\\tTrue\\tChihuahua\\t0.00332957\\tTrue\\n783391753726550016\\thttps://pbs.twimg.com/media/Ct8qn8EWIAAk9zP.jpg\\t4\\tNorwegian_elkhound\\t0.87713\\tTrue\\tcairn\\t0.0862406\\tTrue\\tkeeshond\\t0.0110191\\tTrue\\n783466772167098368\\thttps://pbs.twimg.com/media/Ct9u3ljW8AEnVIm.jpg\\t1\\tChihuahua\\t0.789\\tTrue\\tminiature_pinscher\\t0.115916\\tTrue\\ttoy_terrier\\t0.036293900000000004\\tTrue\\n783695101801398276\\thttps://pbs.twimg.com/media/CuA-iRHXYAAWP8e.jpg\\t3\\tchow\\t0.314265\\tTrue\\tgolden_retriever\\t0.300435\\tTrue\\tAustralian_terrier\\t0.0494869\\tTrue\\n783821107061198850\\thttps://pbs.twimg.com/media/CuCxIzyWEAQTnQA.jpg\\t1\\tLakeland_terrier\\t0.26565900000000003\\tTrue\\tgolden_retriever\\t0.196414\\tTrue\\tstandard_poodle\\t0.13353399999999999\\tTrue\\n783839966405230592\\thttps://pbs.twimg.com/media/CuDCSM-XEAAJw1W.jpg\\t1\\tquilt\\t0.333739\\tFalse\\tSiamese_cat\\t0.136245\\tFalse\\tthree-toed_sloth\\t0.11746400000000001\\tFalse\\n784431430411685888\\thttps://pbs.twimg.com/media/CuLcNkCXgAEIwK2.jpg\\t1\\tminiature_poodle\\t0.744819\\tTrue\\ttoy_poodle\\t0.24319200000000002\\tTrue\\tstandard_poodle\\t0.010920200000000001\\tTrue\\n784517518371221505\\thttps://pbs.twimg.com/media/CuMqhGrXYAQwRqU.jpg\\t2\\tmalamute\\t0.757764\\tTrue\\tEskimo_dog\\t0.151248\\tTrue\\tSiberian_husky\\t0.08484019999999999\\tTrue\\n784826020293709826\\thttps://pbs.twimg.com/media/CuRDF-XWcAIZSer.jpg\\t1\\tchow\\t0.0903414\\tTrue\\tbinoculars\\t0.08349880000000001\\tFalse\\tIrish_setter\\t0.0774556\\tTrue\\n785170936622350336\\thttps://pbs.twimg.com/media/CuV8yfxXEAAUlye.jpg\\t2\\tseat_belt\\t0.891193\\tFalse\\tEskimo_dog\\t0.027494400000000002\\tTrue\\tSamoyed\\t0.0195303\\tTrue\\n785264754247995392\\thttps://pbs.twimg.com/media/CuXSHNnWcAIWEwn.jpg\\t1\\tteddy\\t0.6748930000000001\\tFalse\\tcradle\\t0.056739599999999994\\tFalse\\tchow\\t0.056137\\tTrue\\n785533386513321988\\thttps://pbs.twimg.com/media/CubGchjXEAA6gpw.jpg\\t2\\tminiature_pinscher\\t0.43602299999999994\\tTrue\\tblack-and-tan_coonhound\\t0.258049\\tTrue\\tRottweiler\\t0.145231\\tTrue\\n785639753186217984\\thttps://pbs.twimg.com/media/CucnLmeWAAALOSC.jpg\\t1\\tporcupine\\t0.978042\\tFalse\\tsea_urchin\\t0.0061063\\tFalse\\techidna\\t0.00544197\\tFalse\\n785872687017132033\\thttps://pbs.twimg.com/ext_tw_video_thumb/785872596088811520/pu/img/5O-_BgqdFQu_2Bt7.jpg\\t1\\tGreat_Pyrenees\\t0.392108\\tTrue\\tgolden_retriever\\t0.198358\\tTrue\\tPekinese\\t0.143328\\tTrue\\n785927819176054784\\thttps://pbs.twimg.com/media/CugtKeXWEAAamDZ.jpg\\t1\\tteddy\\t0.9720700000000001\\tFalse\\ttoy_poodle\\t0.00849262\\tTrue\\tchow\\t0.00288271\\tTrue\\n786036967502913536\\thttps://pbs.twimg.com/media/CtKHLuCWYAA2TTs.jpg\\t1\\tgolden_retriever\\t0.9938299999999999\\tTrue\\tcocker_spaniel\\t0.00314271\\tTrue\\tGreat_Pyrenees\\t0.000917414\\tTrue\\n786233965241827333\\thttps://pbs.twimg.com/media/CulDnZpWcAAGbZ-.jpg\\t1\\tLabrador_retriever\\t0.47819300000000003\\tTrue\\tschipperke\\t0.22481700000000002\\tTrue\\tStaffordshire_bullterrier\\t0.0773956\\tTrue\\n786363235746385920\\thttps://pbs.twimg.com/media/Cum5LlfWAAAyPcS.jpg\\t1\\tgolden_retriever\\t0.929266\\tTrue\\tLabrador_retriever\\t0.0628667\\tTrue\\tSaluki\\t0.00215669\\tTrue\\n786595970293370880\\thttps://pbs.twimg.com/media/CuqM0fVWAAAboKR.jpg\\t1\\tPembroke\\t0.709512\\tTrue\\tCardigan\\t0.28717800000000004\\tTrue\\tchow\\t0.000570176\\tTrue\\n786664955043049472\\thttps://pbs.twimg.com/media/CurLmoqXgAEPoJ-.jpg\\t1\\tLeonberg\\t0.512034\\tTrue\\tkeeshond\\t0.464816\\tTrue\\tPomeranian\\t0.00781249\\tTrue\\n786709082849828864\\thttps://pbs.twimg.com/media/CurzvFTXgAA2_AP.jpg\\t1\\tPomeranian\\t0.467321\\tTrue\\tPersian_cat\\t0.122978\\tFalse\\tchow\\t0.102654\\tTrue\\n786963064373534720\\thttps://pbs.twimg.com/media/Cuvau3MW8AAxaRv.jpg\\t1\\tgolden_retriever\\t0.9153030000000001\\tTrue\\tSaluki\\t0.0462126\\tTrue\\tLabrador_retriever\\t0.0375041\\tTrue\\n787322443945877504\\thttps://pbs.twimg.com/media/Cu0hlfwWYAEdnXO.jpg\\t1\\tseat_belt\\t0.747739\\tFalse\\tgolden_retriever\\t0.10570299999999999\\tTrue\\tdingo\\t0.0172568\\tFalse\\n787397959788929025\\thttps://pbs.twimg.com/media/Cu1mQsDWEAAU_VQ.jpg\\t1\\tChihuahua\\t0.900483\\tTrue\\ttoy_terrier\\t0.0210845\\tTrue\\tminiature_pinscher\\t0.019484\\tTrue\\n787717603741622272\\thttps://pbs.twimg.com/media/Cu6I9vvWIAAZG0a.jpg\\t3\\tGerman_shepherd\\t0.992339\\tTrue\\tmalinois\\t0.00492039\\tTrue\\tkelpie\\t0.0008528019999999999\\tTrue\\n787810552592695296\\thttps://pbs.twimg.com/media/Cu7dg2RXYAIaGXE.jpg\\t2\\tpug\\t0.362835\\tTrue\\tFrench_bulldog\\t0.22186399999999998\\tTrue\\tEnglish_setter\\t0.0804183\\tTrue\\n788039637453406209\\thttps://pbs.twimg.com/media/Cu-t20yWEAAFHXi.jpg\\t1\\tbeach_wagon\\t0.362925\\tFalse\\tminivan\\t0.304759\\tFalse\\tlimousine\\t0.101702\\tFalse\\n788070120937619456\\thttps://pbs.twimg.com/media/Co-hmcYXYAASkiG.jpg\\t1\\tgolden_retriever\\t0.735163\\tTrue\\tSussex_spaniel\\t0.064897\\tTrue\\tLabrador_retriever\\t0.047703699999999995\\tTrue\\n788150585577050112\\thttps://pbs.twimg.com/media/CvASw6dWcAQmo3X.jpg\\t3\\tchow\\t0.814145\\tTrue\\tPomeranian\\t0.112704\\tTrue\\tChihuahua\\t0.0158832\\tTrue\\n788178268662984705\\thttps://pbs.twimg.com/media/CvAr88kW8AEKNAO.jpg\\t2\\tSamoyed\\t0.73548\\tTrue\\tPomeranian\\t0.075101\\tTrue\\tArctic_fox\\t0.0360719\\tFalse\\n788412144018661376\\thttps://pbs.twimg.com/media/CvEAqQoWgAADj5K.jpg\\t1\\tgolden_retriever\\t0.805238\\tTrue\\tLabrador_retriever\\t0.113798\\tTrue\\tBrittany_spaniel\\t0.0385587\\tTrue\\n788765914992902144\\thttps://pbs.twimg.com/media/CvJCabcWgAIoUxW.jpg\\t1\\tcocker_spaniel\\t0.500509\\tTrue\\tgolden_retriever\\t0.27273400000000003\\tTrue\\tjigsaw_puzzle\\t0.04147580000000001\\tFalse\\n788908386943430656\\thttps://pbs.twimg.com/media/CvLD-mbWYAAFI8w.jpg\\t1\\tremote_control\\t0.8815379999999999\\tFalse\\toscilloscope\\t0.0355131\\tFalse\\tgolden_retriever\\t0.0340897\\tTrue\\n789137962068021249\\thttps://pbs.twimg.com/media/CvOUw8vWYAAzJDq.jpg\\t2\\tChihuahua\\t0.746135\\tTrue\\tPekinese\\t0.0703834\\tTrue\\tPembroke\\t0.0492369\\tTrue\\n789268448748703744\\thttps://pbs.twimg.com/media/CvQLdotWcAAZn86.jpg\\t1\\tmalamute\\t0.81286\\tTrue\\tSiberian_husky\\t0.120853\\tTrue\\tEskimo_dog\\t0.024269299999999997\\tTrue\\n789530877013393408\\thttps://pbs.twimg.com/media/CvT6IV6WEAQhhV5.jpg\\t3\\tschipperke\\t0.363272\\tTrue\\tkelpie\\t0.197021\\tTrue\\tNorwegian_elkhound\\t0.151024\\tTrue\\n789599242079838210\\thttps://pbs.twimg.com/media/CvU4UZpXgAE1pAV.jpg\\t2\\tChesapeake_Bay_retriever\\t0.8788219999999999\\tTrue\\tbeagle\\t0.0185703\\tTrue\\tLabrador_retriever\\t0.0174985\\tTrue\\n789628658055020548\\thttps://pbs.twimg.com/media/CvVTEnPXYAAWLyL.jpg\\t1\\tchow\\t0.260702\\tTrue\\tcougar\\t0.0881427\\tFalse\\tPomeranian\\t0.0798831\\tTrue\\n789986466051088384\\thttps://pbs.twimg.com/media/CvaYgDOWgAEfjls.jpg\\t1\\ttub\\t0.47947700000000004\\tFalse\\tbathtub\\t0.325106\\tFalse\\tgolden_retriever\\t0.07853049999999999\\tTrue\\n790277117346975746\\thttps://pbs.twimg.com/media/Cveg1-NXgAASaaT.jpg\\t1\\tLabrador_retriever\\t0.427742\\tTrue\\tGreat_Dane\\t0.190503\\tTrue\\tcurly-coated_retriever\\t0.146427\\tTrue\\n790337589677002753\\thttps://pbs.twimg.com/media/CvfX2AnWYAAQTay.jpg\\t1\\tPembroke\\t0.658808\\tTrue\\tCardigan\\t0.153096\\tTrue\\ttoy_terrier\\t0.102299\\tTrue\\n790581949425475584\\thttps://pbs.twimg.com/media/Cvi2FiKWgAAif1u.jpg\\t2\\trefrigerator\\t0.998886\\tFalse\\tmalinois\\t0.000152999\\tTrue\\tkelpie\\t0.000130817\\tTrue\\n790698755171364864\\thttps://pbs.twimg.com/media/CvkgUjbUsAEvo7l.jpg\\t1\\tBernese_mountain_dog\\t0.996541\\tTrue\\tEntleBucher\\t0.00105698\\tTrue\\tAppenzeller\\t0.000997907\\tTrue\\n790723298204217344\\thttps://pbs.twimg.com/media/CvaYgDOWgAEfjls.jpg\\t1\\ttub\\t0.47947700000000004\\tFalse\\tbathtub\\t0.325106\\tFalse\\tgolden_retriever\\t0.07853049999999999\\tTrue\\n790946055508652032\\thttps://pbs.twimg.com/media/CvoBPWRWgAA4het.jpg\\t1\\tdishwasher\\t0.700466\\tFalse\\tgolden_retriever\\t0.245773\\tTrue\\tchow\\t0.039011699999999996\\tTrue\\n790987426131050500\\thttps://pbs.twimg.com/media/Cvom3ZJXEAE29TD.jpg\\t1\\tcocker_spaniel\\t0.349195\\tTrue\\tflat-coated_retriever\\t0.309535\\tTrue\\tNewfoundland\\t0.104768\\tTrue\\n791026214425268224\\thttps://pbs.twimg.com/media/CpmyNumW8AAAJGj.jpg\\t1\\tmalamute\\t0.375098\\tTrue\\tjean\\t0.0693617\\tFalse\\tkeeshond\\t0.0505276\\tTrue\\n791312159183634433\\thttps://pbs.twimg.com/media/CvtONV4WAAAQ3Rn.jpg\\t4\\tminiature_pinscher\\t0.892925\\tTrue\\ttoy_terrier\\t0.0955238\\tTrue\\tDoberman\\t0.00354426\\tTrue\\n791406955684368384\\thttps://pbs.twimg.com/media/CvukbEkWAAAV-69.jpg\\t4\\tPembroke\\t0.9726290000000001\\tTrue\\tCardigan\\t0.027025900000000002\\tTrue\\tbasenji\\t0.000152502\\tTrue\\n791672322847637504\\thttps://pbs.twimg.com/media/CvyVxQRWEAAdSZS.jpg\\t1\\tgolden_retriever\\t0.705092\\tTrue\\tLabrador_retriever\\t0.219721\\tTrue\\tkuvasz\\t0.015965\\tTrue\\n792050063153438720\\thttps://pbs.twimg.com/media/Cv3tU38WcAASFas.jpg\\t2\\tkomondor\\t0.9428559999999999\\tTrue\\tswab\\t0.05271519999999999\\tFalse\\tTibetan_terrier\\t0.0027429999999999998\\tTrue\\n792394556390137856\\thttps://pbs.twimg.com/media/Cv8moW9W8AIHOxR.jpg\\t2\\tcocker_spaniel\\t0.746387\\tTrue\\tIrish_setter\\t0.0916151\\tTrue\\tminiature_poodle\\t0.06107819999999999\\tTrue\\n792773781206999040\\thttps://pbs.twimg.com/media/CwB_i-zXEAEiP29.jpg\\t1\\tYorkshire_terrier\\t0.9128040000000001\\tTrue\\tsilky_terrier\\t0.06782250000000001\\tTrue\\tAustralian_terrier\\t0.00445069\\tTrue\\n792883833364439040\\thttps://pbs.twimg.com/media/CwDjoH3WAAIniIs.jpg\\t3\\tjack-o'-lantern\\t0.9993059999999999\\tFalse\\tbasketball\\t0.000113129\\tFalse\\tstandard_poodle\\t8.31451e-05\\tTrue\\n792913359805018113\\thttps://pbs.twimg.com/media/CwD-eCLWIAA6v0B.jpg\\t4\\tweb_site\\t0.22671599999999997\\tFalse\\tlighter\\t0.0819414\\tFalse\\tswitch\\t0.039008600000000004\\tFalse\\n793120401413079041\\thttps://pbs.twimg.com/media/CwG6zDfWcAA8jBD.jpg\\t1\\tLabrador_retriever\\t0.7249439999999999\\tTrue\\tgolden_retriever\\t0.169744\\tTrue\\tkuvasz\\t0.0355023\\tTrue\\n793135492858580992\\thttps://pbs.twimg.com/media/CwHIg61WIAApnEV.jpg\\t1\\tbakery\\t0.737041\\tFalse\\tsaltshaker\\t0.05239590000000001\\tFalse\\tteddy\\t0.0465926\\tFalse\\n793150605191548928\\thttps://pbs.twimg.com/media/CwHWOZ7W8AAHv8S.jpg\\t1\\tItalian_greyhound\\t0.193869\\tTrue\\tbluetick\\t0.16038\\tTrue\\tstandard_poodle\\t0.12598199999999998\\tTrue\\n793165685325201412\\thttps://pbs.twimg.com/media/CwHj-jGWAAAnsny.jpg\\t1\\tgolden_retriever\\t0.946224\\tTrue\\tLabrador_retriever\\t0.0364766\\tTrue\\tdoormat\\t0.00235285\\tFalse\\n793180763617361921\\thttps://pbs.twimg.com/media/CwHxsdYVMAAqGCJ.jpg\\t1\\tLakeland_terrier\\t0.266824\\tTrue\\tIrish_terrier\\t0.218783\\tTrue\\tAiredale\\t0.13296\\tTrue\\n793195938047070209\\thttps://pbs.twimg.com/media/CwH_foYWgAEvTyI.jpg\\t2\\tLabrador_retriever\\t0.654762\\tTrue\\tgolden_retriever\\t0.0741\\tTrue\\tChihuahua\\t0.0423393\\tTrue\\n793210959003287553\\thttps://pbs.twimg.com/media/CwINKJeW8AYHVkn.jpg\\t1\\tdoormat\\t0.874431\\tFalse\\tFrench_bulldog\\t0.018759099999999997\\tTrue\\tBoston_bull\\t0.0151344\\tTrue\\n793226087023144960\\thttps://pbs.twimg.com/media/CwIa5CjW8AErZgL.jpg\\t1\\twire-haired_fox_terrier\\t0.45604700000000004\\tTrue\\tLakeland_terrier\\t0.273428\\tTrue\\tEnglish_springer\\t0.0836433\\tTrue\\n793241302385262592\\thttps://pbs.twimg.com/media/CwIougTWcAAMLyq.jpg\\t1\\tgolden_retriever\\t0.559308\\tTrue\\tLabrador_retriever\\t0.39022199999999996\\tTrue\\tcocker_spaniel\\t0.0363157\\tTrue\\n793256262322548741\\thttps://pbs.twimg.com/media/CwI2XCvXEAEO8mc.jpg\\t1\\tbasset\\t0.20762199999999997\\tTrue\\tWalker_hound\\t0.060574199999999995\\tTrue\\tbeagle\\t0.0412205\\tTrue\\n793271401113350145\\thttps://pbs.twimg.com/media/CwJEIKTWYAAvL-T.jpg\\t1\\tSiberian_husky\\t0.23169499999999998\\tTrue\\tEskimo_dog\\t0.206749\\tTrue\\tPembroke\\t0.0701195\\tTrue\\n793286476301799424\\thttps://pbs.twimg.com/media/CwJR1okWIAA6XMp.jpg\\t1\\tAfghan_hound\\t0.27463699999999996\\tTrue\\tborzoi\\t0.142204\\tTrue\\tdoormat\\t0.109677\\tFalse\\n793500921481273345\\thttps://pbs.twimg.com/media/CwMU34YWIAAz1nU.jpg\\t2\\tgolden_retriever\\t0.32612199999999997\\tTrue\\tLabrador_retriever\\t0.219904\\tTrue\\tChesapeake_Bay_retriever\\t0.163366\\tTrue\\n793601777308463104\\thttps://pbs.twimg.com/media/CwNwmxvXEAEJ54Z.jpg\\t1\\tminiature_pinscher\\t0.538981\\tTrue\\tChihuahua\\t0.21783000000000002\\tTrue\\ttoy_terrier\\t0.0891487\\tTrue\\n793614319594401792\\thttps://pbs.twimg.com/media/CvyVxQRWEAAdSZS.jpg\\t1\\tgolden_retriever\\t0.705092\\tTrue\\tLabrador_retriever\\t0.219721\\tTrue\\tkuvasz\\t0.015965\\tTrue\\n793845145112371200\\thttps://pbs.twimg.com/media/CwRN8H6WgAASe4X.jpg\\t1\\tOld_English_sheepdog\\t0.7652770000000001\\tTrue\\tBedlington_terrier\\t0.11275299999999999\\tTrue\\tKerry_blue_terrier\\t0.047661699999999994\\tTrue\\n793962221541933056\\thttps://pbs.twimg.com/media/CwS4aqZXUAAe3IO.jpg\\t1\\tLabrador_retriever\\t0.8616510000000001\\tTrue\\tgolden_retriever\\t0.0444618\\tTrue\\tStaffordshire_bullterrier\\t0.016496700000000003\\tTrue\\n794205286408003585\\thttps://pbs.twimg.com/media/CwWVe_3WEAAHAvx.jpg\\t3\\tpedestal\\t0.66266\\tFalse\\tfountain\\t0.294827\\tFalse\\tbrass\\t0.0203711\\tFalse\\n794332329137291264\\thttps://pbs.twimg.com/media/CwYJBiHXgAQlvrh.jpg\\t1\\tSamoyed\\t0.9883069999999999\\tTrue\\tmalamute\\t0.00490635\\tTrue\\tGreat_Pyrenees\\t0.00290129\\tTrue\\n794355576146903043\\thttps://pbs.twimg.com/media/CvJCabcWgAIoUxW.jpg\\t1\\tcocker_spaniel\\t0.500509\\tTrue\\tgolden_retriever\\t0.27273400000000003\\tTrue\\tjigsaw_puzzle\\t0.04147580000000001\\tFalse\\n794926597468000259\\thttps://pbs.twimg.com/media/CwglhZVXgAAc3_w.jpg\\t1\\tteddy\\t0.569566\\tFalse\\tbath_towel\\t0.173745\\tFalse\\ttoy_poodle\\t0.0376618\\tTrue\\n794983741416415232\\thttps://pbs.twimg.com/media/CvT6IV6WEAQhhV5.jpg\\t3\\tschipperke\\t0.363272\\tTrue\\tkelpie\\t0.197021\\tTrue\\tNorwegian_elkhound\\t0.151024\\tTrue\\n795076730285391872\\thttps://pbs.twimg.com/media/CwiuEJmW8AAZnit.jpg\\t2\\tgas_pump\\t0.676439\\tFalse\\tharvester\\t0.049995300000000006\\tFalse\\tswing\\t0.0446596\\tFalse\\n795400264262053889\\thttps://pbs.twimg.com/media/CwnUUGTWIAE8sFR.jpg\\t2\\tgolden_retriever\\t0.925494\\tTrue\\tLabrador_retriever\\t0.0592408\\tTrue\\ttennis_ball\\t0.00449534\\tFalse\\n795464331001561088\\thttps://pbs.twimg.com/ext_tw_video_thumb/795464066940764160/pu/img/jPkMMQXdydb7CqFX.jpg\\t1\\tgolden_retriever\\t0.193082\\tTrue\\tChesapeake_Bay_retriever\\t0.157927\\tTrue\\tsoft-coated_wheaten_terrier\\t0.12468399999999999\\tTrue\\n796031486298386433\\thttps://pbs.twimg.com/media/CwwSaWJWIAASuoY.jpg\\t1\\tgolden_retriever\\t0.893775\\tTrue\\tLabrador_retriever\\t0.0701398\\tTrue\\tdoormat\\t0.00841853\\tFalse\\n796080075804475393\\thttps://pbs.twimg.com/media/Cww-msrXcAAxm3K.jpg\\t1\\tchow\\t0.9738459999999999\\tTrue\\tTibetan_mastiff\\t0.014109899999999998\\tTrue\\tgibbon\\t0.00235832\\tFalse\\n796116448414461957\\thttps://pbs.twimg.com/media/CwxfrguUUAA1cbl.jpg\\t1\\tCardigan\\t0.700182\\tTrue\\tPembroke\\t0.260738\\tTrue\\tpapillon\\t0.0171099\\tTrue\\n796149749086875649\\thttps://pbs.twimg.com/media/Cwx99rpW8AMk_Ie.jpg\\t1\\tgolden_retriever\\t0.600276\\tTrue\\tLabrador_retriever\\t0.140798\\tTrue\\tseat_belt\\t0.0873548\\tFalse\\n796177847564038144\\thttps://pbs.twimg.com/media/Cwx99rpW8AMk_Ie.jpg\\t1\\tgolden_retriever\\t0.600276\\tTrue\\tLabrador_retriever\\t0.140798\\tTrue\\tseat_belt\\t0.0873548\\tFalse\\n796387464403357696\\thttps://pbs.twimg.com/media/Cw1WKu1UQAAvWsu.jpg\\t1\\tPekinese\\t0.461164\\tTrue\\tPomeranian\\t0.28865\\tTrue\\tSiamese_cat\\t0.052423000000000004\\tFalse\\n796484825502875648\\thttps://pbs.twimg.com/media/Cw2uty8VQAAB0pL.jpg\\t1\\tcocker_spaniel\\t0.116924\\tTrue\\tseat_belt\\t0.107511\\tFalse\\tAustralian_terrier\\t0.0998434\\tTrue\\n796759840936919040\\thttps://pbs.twimg.com/media/Cw6o1JQXcAAtP78.jpg\\t1\\tAmerican_Staffordshire_terrier\\t0.463996\\tTrue\\tStaffordshire_bullterrier\\t0.155566\\tTrue\\tWeimaraner\\t0.137587\\tTrue\\n796865951799083009\\thttps://pbs.twimg.com/media/Cw8JWZ2UsAAJOZ6.jpg\\t1\\tCardigan\\t0.8391290000000001\\tTrue\\tBoston_bull\\t0.0806985\\tTrue\\tPembroke\\t0.034505\\tTrue\\n797236660651966464\\thttps://pbs.twimg.com/media/CxBafisWQAAtJ1X.jpg\\t2\\tcollie\\t0.767005\\tTrue\\tBorder_collie\\t0.100844\\tTrue\\tkelpie\\t0.0483681\\tTrue\\n797545162159308800\\thttps://pbs.twimg.com/media/CxFzFAAUAAA5C9z.jpg\\t1\\tPembroke\\t0.954089\\tTrue\\tCardigan\\t0.033643900000000004\\tTrue\\tpapillon\\t0.00973566\\tTrue\\n797971864723324932\\thttps://pbs.twimg.com/media/CxL3IWeVEAAAIE2.jpg\\t1\\tAmerican_Staffordshire_terrier\\t0.489845\\tTrue\\tChihuahua\\t0.30576\\tTrue\\tStaffordshire_bullterrier\\t0.0727991\\tTrue\\n798209839306514432\\thttps://pbs.twimg.com/media/CxPPnCYWIAAo_ao.jpg\\t1\\tPekinese\\t0.524583\\tTrue\\tShih-Tzu\\t0.102931\\tTrue\\tPomeranian\\t0.09789310000000001\\tTrue\\n798340744599797760\\thttps://pbs.twimg.com/media/CrXhIqBW8AA6Bse.jpg\\t1\\tpapillon\\t0.53318\\tTrue\\tcollie\\t0.192031\\tTrue\\tBorder_collie\\t0.121626\\tTrue\\n798628517273620480\\thttps://pbs.twimg.com/media/CUN4Or5UAAAa5K4.jpg\\t1\\tbeagle\\t0.636169\\tTrue\\tLabrador_retriever\\t0.119256\\tTrue\\tgolden_retriever\\t0.08254919999999999\\tTrue\\n798644042770751489\\thttps://pbs.twimg.com/media/CU3mITUWIAAfyQS.jpg\\t1\\tEnglish_springer\\t0.403698\\tTrue\\tBrittany_spaniel\\t0.347609\\tTrue\\tWelsh_springer_spaniel\\t0.137186\\tTrue\\n798665375516884993\\thttps://pbs.twimg.com/media/CVMOlMiWwAA4Yxl.jpg\\t1\\tchow\\t0.243529\\tTrue\\thamster\\t0.22715\\tFalse\\tPomeranian\\t0.0560567\\tTrue\\n798673117451325440\\thttps://pbs.twimg.com/media/CV_cnjHWUAADc-c.jpg\\t1\\tdough\\t0.806757\\tFalse\\tbakery\\t0.027906599999999997\\tFalse\\tFrench_loaf\\t0.0181889\\tFalse\\n798694562394996736\\thttps://pbs.twimg.com/media/Cbs3DOAXIAAp3Bd.jpg\\t1\\tChihuahua\\t0.615163\\tTrue\\tPembroke\\t0.15950899999999998\\tTrue\\tbasenji\\t0.08446569999999999\\tTrue\\n798697898615730177\\thttps://pbs.twimg.com/media/CeRoBaxWEAABi0X.jpg\\t1\\tLabrador_retriever\\t0.8686709999999999\\tTrue\\tcarton\\t0.0950952\\tFalse\\tpug\\t0.00765137\\tTrue\\n798925684722855936\\thttps://pbs.twimg.com/media/CxZaqh_WQAA7lY3.jpg\\t1\\tWest_Highland_white_terrier\\t0.539463\\tTrue\\tcairn\\t0.184897\\tTrue\\tNorfolk_terrier\\t0.163024\\tTrue\\n798933969379225600\\thttps://pbs.twimg.com/media/CxZiLcLXUAApMVy.jpg\\t1\\tSiberian_husky\\t0.703224\\tTrue\\tEskimo_dog\\t0.22935100000000003\\tTrue\\tmalamute\\t0.0443508\\tTrue\\n799063482566066176\\thttps://pbs.twimg.com/media/CxbX_n2WIAAHaLS.jpg\\t2\\tNorfolk_terrier\\t0.334436\\tTrue\\tNorwich_terrier\\t0.231573\\tTrue\\tAustralian_terrier\\t0.21420300000000003\\tTrue\\n799297110730567681\\thttps://pbs.twimg.com/media/CxeseRgUoAM_SQK.jpg\\t1\\tmalamute\\t0.985028\\tTrue\\tSiberian_husky\\t0.00583442\\tTrue\\tEskimo_dog\\t0.00544281\\tTrue\\n799422933579902976\\thttps://pbs.twimg.com/media/Cxge6AdUQAAvXLB.jpg\\t1\\tminiature_pinscher\\t0.58363\\tTrue\\tredbone\\t0.276095\\tTrue\\ttoy_terrier\\t0.018550099999999996\\tTrue\\n799757965289017345\\thttps://pbs.twimg.com/media/CxlPnoSUcAEXf1i.jpg\\t1\\tBorder_collie\\t0.44253400000000004\\tTrue\\tcollie\\t0.288684\\tTrue\\tShetland_sheepdog\\t0.196399\\tTrue\\n799774291445383169\\thttps://pbs.twimg.com/media/CsGnz64WYAEIDHJ.jpg\\t1\\tchow\\t0.316565\\tTrue\\tgolden_retriever\\t0.241929\\tTrue\\tPomeranian\\t0.157524\\tTrue\\n800018252395122689\\thttps://pbs.twimg.com/ext_tw_video_thumb/800018199223959552/pu/img/3Qp73edtkZO-qWPy.jpg\\t1\\tvacuum\\t0.289485\\tFalse\\tpunching_bag\\t0.24329699999999999\\tFalse\\tbarbell\\t0.14363\\tFalse\\n800141422401830912\\thttps://pbs.twimg.com/media/CxqsX-8XUAAEvjD.jpg\\t3\\tgolden_retriever\\t0.938048\\tTrue\\tkuvasz\\t0.0251195\\tTrue\\tLabrador_retriever\\t0.0229773\\tTrue\\n800388270626521089\\thttps://pbs.twimg.com/media/CxuM3oZW8AEhO5z.jpg\\t2\\tgolden_retriever\\t0.35986\\tTrue\\tPembroke\\t0.194207\\tTrue\\tcollie\\t0.154603\\tTrue\\n800443802682937345\\thttps://pbs.twimg.com/media/CsVO7ljW8AAckRD.jpg\\t1\\tmousetrap\\t0.777468\\tFalse\\tblack_widow\\t0.09394019999999999\\tFalse\\tpaddlewheel\\t0.0174919\\tFalse\\n800459316964663297\\thttps://pbs.twimg.com/media/CxvNfrhWQAA2hKM.jpg\\t1\\tteddy\\t0.31192800000000004\\tFalse\\tice_bear\\t0.184657\\tFalse\\tChristmas_stocking\\t0.173229\\tFalse\\n800513324630806528\\thttps://pbs.twimg.com/media/Cxv-nkJUoAAhzMt.jpg\\t1\\tPembroke\\t0.8289040000000001\\tTrue\\tCardigan\\t0.167373\\tTrue\\tChihuahua\\t0.0007659339999999999\\tTrue\\n800751577355128832\\thttps://pbs.twimg.com/media/CxzXOyBW8AEu_Oi.jpg\\t2\\tcocker_spaniel\\t0.771984\\tTrue\\tminiature_poodle\\t0.07665280000000001\\tTrue\\ttoy_poodle\\t0.0396183\\tTrue\\n801115127852503040\\thttps://pbs.twimg.com/media/Cx4h7zHUsAAqaJd.jpg\\t1\\tdalmatian\\t0.823356\\tTrue\\tEnglish_setter\\t0.09460189999999999\\tTrue\\tbluetick\\t0.0219534\\tTrue\\n801167903437357056\\thttps://pbs.twimg.com/media/Cx5R8wPVEAALa9r.jpg\\t1\\tcocker_spaniel\\t0.74022\\tTrue\\tDandie_Dinmont\\t0.06160449999999999\\tTrue\\tEnglish_setter\\t0.041331400000000004\\tTrue\\n801285448605831168\\thttps://pbs.twimg.com/media/Cx683NPUAAAjyU4.jpg\\t1\\tminivan\\t0.789376\\tFalse\\tbeach_wagon\\t0.081125\\tFalse\\tconvertible\\t0.0645338\\tFalse\\n801538201127157760\\thttps://pbs.twimg.com/media/Cx-itFWWIAAZu7l.jpg\\t1\\tPembroke\\t0.550506\\tTrue\\tCardigan\\t0.306612\\tTrue\\tShetland_sheepdog\\t0.054229999999999993\\tTrue\\n801958328846974976\\thttps://pbs.twimg.com/media/CyEg2AXUsAA1Qpf.jpg\\t1\\tStaffordshire_bullterrier\\t0.327887\\tTrue\\tAmerican_Staffordshire_terrier\\t0.271916\\tTrue\\tLabrador_retriever\\t0.247619\\tTrue\\n802239329049477120\\thttps://pbs.twimg.com/media/CyIgaTEVEAA-9zS.jpg\\t2\\tEskimo_dog\\t0.482498\\tTrue\\tSiberian_husky\\t0.33577399999999996\\tTrue\\tmalamute\\t0.13458900000000001\\tTrue\\n802247111496568832\\thttps://pbs.twimg.com/media/Cs_DYr1XEAA54Pu.jpg\\t1\\tChihuahua\\t0.721188\\tTrue\\ttoy_terrier\\t0.112943\\tTrue\\tkelpie\\t0.053364499999999995\\tTrue\\n802265048156610565\\thttps://pbs.twimg.com/media/CyI3zXgWEAACQfB.jpg\\t1\\tLabrador_retriever\\t0.8971620000000001\\tTrue\\tbeagle\\t0.016894799999999998\\tTrue\\tRhodesian_ridgeback\\t0.012060600000000001\\tTrue\\n802323869084381190\\thttps://pbs.twimg.com/media/CyJtSmDUAAA2F9x.jpg\\t4\\thome_theater\\t0.765069\\tFalse\\ttelevision\\t0.203578\\tFalse\\tentertainment_center\\t0.0186435\\tFalse\\n802572683846291456\\thttps://pbs.twimg.com/media/CyNPmJgXcAECPuB.jpg\\t1\\tgolden_retriever\\t0.610171\\tTrue\\tLabrador_retriever\\t0.173252\\tTrue\\tcocker_spaniel\\t0.16325699999999999\\tTrue\\n802624713319034886\\thttps://pbs.twimg.com/media/CsrjryzWgAAZY00.jpg\\t1\\tcocker_spaniel\\t0.253442\\tTrue\\tgolden_retriever\\t0.16285\\tTrue\\totterhound\\t0.110921\\tTrue\\n802952499103731712\\thttps://pbs.twimg.com/media/CySpCSHXcAAN-qC.jpg\\t1\\tchow\\t0.944032\\tTrue\\tgolden_retriever\\t0.0172398\\tTrue\\tPomeranian\\t0.0120848\\tTrue\\n803276597545603072\\thttps://pbs.twimg.com/media/CyXPzXRWgAAvd1j.jpg\\t1\\tPembroke\\t0.457086\\tTrue\\tchow\\t0.30780100000000005\\tTrue\\tgolden_retriever\\t0.049988199999999997\\tTrue\\n803380650405482500\\thttps://pbs.twimg.com/media/CyYub2kWEAEYdaq.jpg\\t1\\tbookcase\\t0.890601\\tFalse\\tentertainment_center\\t0.019287400000000003\\tFalse\\tfile\\t0.00948954\\tFalse\\n803638050916102144\\thttps://pbs.twimg.com/ext_tw_video_thumb/803638023904559104/pu/img/vxm0Htm5iIV7EOAQ.jpg\\t1\\tLabrador_retriever\\t0.372776\\tTrue\\tgolden_retriever\\t0.34366599999999997\\tTrue\\tGreat_Pyrenees\\t0.0672423\\tTrue\\n803692223237865472\\thttps://pbs.twimg.com/media/CZhn-QAWwAASQan.jpg\\t1\\tLakeland_terrier\\t0.530104\\tTrue\\tIrish_terrier\\t0.19731400000000002\\tTrue\\tAiredale\\t0.08251460000000001\\tTrue\\n803773340896923648\\thttps://pbs.twimg.com/media/CyeTku-XcAALkBd.jpg\\t2\\tminiature_pinscher\\t0.817066\\tTrue\\tredbone\\t0.0597065\\tTrue\\tIrish_terrier\\t0.0341952\\tTrue\\n804026241225523202\\thttps://pbs.twimg.com/media/Cyh5mQTW8AQpB6K.jpg\\t1\\tweb_site\\t0.492709\\tFalse\\tenvelope\\t0.0505658\\tFalse\\tguillotine\\t0.015296899999999999\\tFalse\\n804413760345620481\\thttps://pbs.twimg.com/media/CuRDF-XWcAIZSer.jpg\\t1\\tchow\\t0.0903414\\tTrue\\tbinoculars\\t0.08349880000000001\\tFalse\\tIrish_setter\\t0.0774556\\tTrue\\n804738756058218496\\thttps://pbs.twimg.com/media/CysBn-lWIAAoRx1.jpg\\t1\\tTibetan_mastiff\\t0.91579\\tTrue\\tGerman_shepherd\\t0.0624797\\tTrue\\tLeonberg\\t0.00829749\\tTrue\\n805207613751304193\\thttps://pbs.twimg.com/media/CyysDQlVIAAYgrl.jpg\\t1\\tPembroke\\t0.244705\\tTrue\\tRhodesian_ridgeback\\t0.18046099999999998\\tTrue\\tCardigan\\t0.09466369999999999\\tTrue\\n805487436403003392\\thttps://pbs.twimg.com/media/Cy2qiTxXcAAtQBH.jpg\\t3\\tshield\\t0.58783\\tFalse\\tbarrel\\t0.0901799\\tFalse\\tsundial\\t0.06919860000000001\\tFalse\\n805520635690676224\\thttps://pbs.twimg.com/media/Cy3IvdZXgAUoEaj.jpg\\t1\\tmalinois\\t0.643147\\tTrue\\tGerman_shepherd\\t0.186642\\tTrue\\tBorder_terrier\\t0.109345\\tTrue\\n805826884734976000\\thttps://pbs.twimg.com/ext_tw_video_thumb/805826823359631360/pu/img/yr_fF0TZCR-B70p2.jpg\\t1\\tSiberian_husky\\t0.248926\\tTrue\\tAmerican_Staffordshire_terrier\\t0.0983133\\tTrue\\tEskimo_dog\\t0.0801885\\tTrue\\n805932879469572096\\thttps://pbs.twimg.com/media/Cy8_qt0UUAAHuuN.jpg\\t1\\tNorwegian_elkhound\\t0.657967\\tTrue\\tkeeshond\\t0.31913600000000003\\tTrue\\tLeonberg\\t0.00794674\\tTrue\\n805958939288408065\\thttps://pbs.twimg.com/media/CtzKC7zXEAALfSo.jpg\\t1\\tIrish_setter\\t0.574557\\tTrue\\tgolden_retriever\\t0.339251\\tTrue\\tseat_belt\\t0.0461082\\tFalse\\n806219024703037440\\thttps://pbs.twimg.com/media/CzBD7MWVIAA5ptx.jpg\\t1\\tchow\\t0.835102\\tTrue\\tPomeranian\\t0.040782900000000004\\tTrue\\tEskimo_dog\\t0.021274500000000002\\tTrue\\n806242860592926720\\thttps://pbs.twimg.com/media/Ct72q9jWcAAhlnw.jpg\\t2\\tCardigan\\t0.593858\\tTrue\\tShetland_sheepdog\\t0.13061099999999998\\tTrue\\tPembroke\\t0.100842\\tTrue\\n806542213899489280\\thttps://pbs.twimg.com/media/CzFp3FNW8AAfvV8.jpg\\t1\\tvizsla\\t0.938617\\tTrue\\tBrittany_spaniel\\t0.0367389\\tTrue\\tChesapeake_Bay_retriever\\t0.00397149\\tTrue\\n806629075125202948\\thttps://pbs.twimg.com/media/CzG425nWgAAnP7P.jpg\\t2\\tArabian_camel\\t0.366248\\tFalse\\thouse_finch\\t0.209852\\tFalse\\tcocker_spaniel\\t0.0464032\\tTrue\\n807010152071229440\\thttps://pbs.twimg.com/media/CzMTcZoXUAEKqEt.jpg\\t1\\tgolden_retriever\\t0.610807\\tTrue\\tIrish_setter\\t0.213642\\tTrue\\tWelsh_springer_spaniel\\t0.0318866\\tTrue\\n807059379405148160\\thttps://pbs.twimg.com/media/Ct2qO5PXEAE6eB0.jpg\\t1\\tseat_belt\\t0.474292\\tFalse\\tgolden_retriever\\t0.17139300000000002\\tTrue\\tLabrador_retriever\\t0.11059200000000001\\tTrue\\n807106840509214720\\thttps://pbs.twimg.com/ext_tw_video_thumb/807106774843039744/pu/img/8XZg1xW35Xp2J6JW.jpg\\t1\\tChihuahua\\t0.50537\\tTrue\\tPomeranian\\t0.12035799999999999\\tTrue\\ttoy_terrier\\t0.0770081\\tTrue\\n807621403335917568\\thttps://pbs.twimg.com/media/CzU_YVGUUAA3Xsd.jpg\\t3\\tgolden_retriever\\t0.873233\\tTrue\\tcocker_spaniel\\t0.0336933\\tTrue\\tchow\\t0.0204084\\tTrue\\n808001312164028416\\thttps://pbs.twimg.com/media/CzaY5UdUoAAC91S.jpg\\t1\\tLabrador_retriever\\t0.730959\\tTrue\\tStaffordshire_bullterrier\\t0.130726\\tTrue\\tAmerican_Staffordshire_terrier\\t0.028852600000000003\\tTrue\\n808106460588765185\\thttps://pbs.twimg.com/media/Czb4iFRXgAIUMiN.jpg\\t1\\tgolden_retriever\\t0.426183\\tTrue\\tLabrador_retriever\\t0.257447\\tTrue\\tGreat_Pyrenees\\t0.12648199999999998\\tTrue\\n808134635716833280\\thttps://pbs.twimg.com/media/Cx5R8wPVEAALa9r.jpg\\t1\\tcocker_spaniel\\t0.74022\\tTrue\\tDandie_Dinmont\\t0.06160449999999999\\tTrue\\tEnglish_setter\\t0.041331400000000004\\tTrue\\n808501579447930884\\thttps://pbs.twimg.com/media/Czhf4XtVQAAIqpd.jpg\\t2\\tAiredale\\t0.45423900000000006\\tTrue\\tcocker_spaniel\\t0.219323\\tTrue\\tIrish_terrier\\t0.093193\\tTrue\\n808733504066486276\\thttps://pbs.twimg.com/media/Czky0v9VIAEXRkd.jpg\\t1\\tseat_belt\\t0.779137\\tFalse\\ttoy_poodle\\t0.0369271\\tTrue\\tgolden_retriever\\t0.016972499999999998\\tTrue\\n808838249661788160\\thttps://pbs.twimg.com/media/CzmSFlKUAAAQOjP.jpg\\t1\\tRottweiler\\t0.36953\\tTrue\\tminiature_pinscher\\t0.194867\\tTrue\\tkelpie\\t0.160104\\tTrue\\n809084759137812480\\thttps://pbs.twimg.com/media/CzpyM41UoAE1b2w.jpg\\t1\\tvizsla\\t0.9114120000000001\\tTrue\\tbloodhound\\t0.017133900000000004\\tTrue\\tLabrador_retriever\\t0.011761\\tTrue\\n809220051211603969\\thttps://pbs.twimg.com/media/CzrtWDbWEAAmIhy.jpg\\t1\\tPomeranian\\t0.8195110000000001\\tTrue\\tSamoyed\\t0.141241\\tTrue\\tPembroke\\t0.013455200000000002\\tTrue\\n809448704142938112\\thttps://pbs.twimg.com/media/Czu9RiwVEAA_Okk.jpg\\t1\\tGreater_Swiss_Mountain_dog\\t0.375415\\tTrue\\tCardigan\\t0.13431700000000002\\tTrue\\tEnglish_springer\\t0.0736971\\tTrue\\n809808892968534016\\thttps://pbs.twimg.com/media/CwS4aqZXUAAe3IO.jpg\\t1\\tLabrador_retriever\\t0.8616510000000001\\tTrue\\tgolden_retriever\\t0.0444618\\tTrue\\tStaffordshire_bullterrier\\t0.016496700000000003\\tTrue\\n809920764300447744\\thttps://pbs.twimg.com/media/Cz1qo05XUAQ4qXp.jpg\\t1\\tNorwich_terrier\\t0.397163\\tTrue\\ttoy_poodle\\t0.27454\\tTrue\\tminiature_poodle\\t0.134667\\tTrue\\n810254108431155201\\thttps://pbs.twimg.com/media/Cz6Z0DgWIAAfdvp.jpg\\t1\\tStaffordshire_bullterrier\\t0.292556\\tTrue\\tAmerican_Staffordshire_terrier\\t0.261233\\tTrue\\tBorder_terrier\\t0.062375400000000004\\tTrue\\n810284430598270976\\thttps://pbs.twimg.com/media/Cz61ZD4W8AAcJEU.jpg\\t1\\tmalamute\\t0.620768\\tTrue\\tEskimo_dog\\t0.158395\\tTrue\\tTibetan_mastiff\\t0.028961700000000003\\tTrue\\n810657578271330305\\thttps://pbs.twimg.com/media/C0AIwgVXAAAc1Ig.jpg\\t1\\tmalamute\\t0.753521\\tTrue\\tSiberian_husky\\t0.166151\\tTrue\\tEskimo_dog\\t0.0698108\\tTrue\\n810896069567610880\\thttps://pbs.twimg.com/media/C0DhpcrUAAAnx88.jpg\\t1\\tflat-coated_retriever\\t0.8208040000000001\\tTrue\\tLabrador_retriever\\t0.08231820000000001\\tTrue\\tcurly-coated_retriever\\t0.0674605\\tTrue\\n810984652412424192\\thttps://pbs.twimg.com/media/C0EyPZbXAAAceSc.jpg\\t1\\tgolden_retriever\\t0.8713420000000001\\tTrue\\tTibetan_mastiff\\t0.0367077\\tTrue\\tLabrador_retriever\\t0.025823200000000004\\tTrue\\n811386762094317568\\thttps://pbs.twimg.com/media/C0Kf9PtWQAEW4sE.jpg\\t1\\tPembroke\\t0.804177\\tTrue\\tCardigan\\t0.18989\\tTrue\\tbeagle\\t0.00196475\\tTrue\\n811627233043480576\\thttps://pbs.twimg.com/media/C0N6opSXAAAkCtN.jpg\\t1\\tbeagle\\t0.39628\\tTrue\\tPembroke\\t0.049561900000000006\\tTrue\\twire-haired_fox_terrier\\t0.04634919999999999\\tTrue\\n811744202451197953\\thttps://pbs.twimg.com/media/C0PlCQjXAAA9TIh.jpg\\t1\\tPekinese\\t0.38608200000000004\\tTrue\\tLabrador_retriever\\t0.202862\\tTrue\\tgolden_retriever\\t0.170487\\tTrue\\n811985624773361665\\thttps://pbs.twimg.com/media/C0TAnZIUAAAADKs.jpg\\t1\\tStaffordshire_bullterrier\\t0.6105729999999999\\tTrue\\tFrench_bulldog\\t0.159935\\tTrue\\tdoormat\\t0.0586721\\tFalse\\n812372279581671427\\thttps://pbs.twimg.com/media/C0YgO3DW8AAz98O.jpg\\t2\\tgolden_retriever\\t0.7848729999999999\\tTrue\\tcocker_spaniel\\t0.08778810000000001\\tTrue\\tLabrador_retriever\\t0.0832747\\tTrue\\n812466873996607488\\thttps://pbs.twimg.com/media/C0Z2T_GWgAAxbL9.jpg\\t1\\tbath_towel\\t0.0998035\\tFalse\\tpillow\\t0.0923181\\tFalse\\tGreat_Dane\\t0.0782055\\tTrue\\n812503143955202048\\thttps://pbs.twimg.com/media/C0aXTLqXEAADxBi.jpg\\t2\\tloupe\\t0.546856\\tFalse\\tweb_site\\t0.345298\\tFalse\\tbubble\\t0.0105279\\tFalse\\n812709060537683968\\thttps://pbs.twimg.com/media/C0dSk98WEAALyya.jpg\\t1\\tIrish_setter\\t0.326873\\tTrue\\tgolden_retriever\\t0.18261\\tTrue\\tLeonberg\\t0.156912\\tTrue\\n812781120811126785\\thttps://pbs.twimg.com/media/C0eUHfWUAAANEYr.jpg\\t1\\tbull_mastiff\\t0.989316\\tTrue\\tboxer\\t0.00704296\\tTrue\\tFrench_bulldog\\t0.00173961\\tTrue\\n813051746834595840\\thttps://pbs.twimg.com/media/C0iKPZIXUAAbDYV.jpg\\t1\\tgolden_retriever\\t0.9148040000000001\\tTrue\\tLabrador_retriever\\t0.08355\\tTrue\\tkuvasz\\t0.000453224\\tTrue\\n813066809284972545\\thttps://pbs.twimg.com/media/C0iX8OOVEAEIpMC.jpg\\t1\\ttoy_terrier\\t0.7764\\tTrue\\tPembroke\\t0.115034\\tTrue\\tbasenji\\t0.048873\\tTrue\\n813081950185472002\\thttps://pbs.twimg.com/media/C0ilsa1XUAEHK_k.jpg\\t2\\tDoberman\\t0.9099510000000001\\tTrue\\tkelpie\\t0.042649400000000004\\tTrue\\tminiature_pinscher\\t0.0230041\\tTrue\\n813096984823349248\\thttps://pbs.twimg.com/media/C0izZULWgAAKD-F.jpg\\t1\\tGreat_Dane\\t0.128056\\tTrue\\tBoston_bull\\t0.117003\\tTrue\\tkelpie\\t0.08696430000000001\\tTrue\\n813112105746448384\\thttps://pbs.twimg.com/media/C0jBJZVWQAA2_-X.jpg\\t1\\tdingo\\t0.287369\\tFalse\\tPembroke\\t0.140682\\tTrue\\tbasenji\\t0.0908189\\tTrue\\n813127251579564032\\thttps://pbs.twimg.com/media/C0jO6aBWEAAM28r.jpg\\t1\\tNorwegian_elkhound\\t0.43241599999999997\\tTrue\\twhippet\\t0.37422300000000003\\tTrue\\tSiberian_husky\\t0.032462599999999994\\tTrue\\n813142292504645637\\thttps://pbs.twimg.com/media/C0jcmOKVQAAd0VR.jpg\\t3\\tbeagle\\t0.848735\\tTrue\\tIbizan_hound\\t0.044602499999999996\\tTrue\\tItalian_greyhound\\t0.0186108\\tTrue\\n813157409116065792\\thttps://pbs.twimg.com/media/C0jqVVOXUAAGJ0G.jpg\\t2\\tSiamese_cat\\t0.8439110000000001\\tFalse\\tPembroke\\t0.07056710000000001\\tTrue\\tCardigan\\t0.041916\\tTrue\\n813172488309972993\\thttps://pbs.twimg.com/media/C0j4EESUsAABtMq.jpg\\t1\\tdoormat\\t0.954844\\tFalse\\tgolden_retriever\\t0.026193099999999997\\tTrue\\tcocker_spaniel\\t0.00438598\\tTrue\\n813187593374461952\\thttps://pbs.twimg.com/media/C0kFzOQUoAAt6yb.jpg\\t1\\tgolden_retriever\\t0.888181\\tTrue\\tLabrador_retriever\\t0.0423119\\tTrue\\tSaluki\\t0.00970173\\tTrue\\n813202720496779264\\thttps://pbs.twimg.com/media/C0kTjqIXgAAqpRi.jpg\\t1\\tcocker_spaniel\\t0.701852\\tTrue\\tgolden_retriever\\t0.12034500000000001\\tTrue\\tLabrador_retriever\\t0.0363202\\tTrue\\n813217897535406080\\thttps://pbs.twimg.com/media/C0khWkVXEAI389B.jpg\\t1\\tSamoyed\\t0.9059719999999999\\tTrue\\tPomeranian\\t0.048038300000000006\\tTrue\\tWest_Highland_white_terrier\\t0.0356671\\tTrue\\n813800681631023104\\thttps://pbs.twimg.com/media/C0szZh_XUAAm9je.jpg\\t1\\tmalamute\\t0.501159\\tTrue\\tSiberian_husky\\t0.228792\\tTrue\\tEskimo_dog\\t0.200388\\tTrue\\n813812741911748608\\thttps://pbs.twimg.com/media/C0s-XtzWgAAp1W-.jpg\\t1\\tFrench_bulldog\\t0.709146\\tTrue\\tBoston_bull\\t0.247621\\tTrue\\tboxer\\t0.0188551\\tTrue\\n813910438903693312\\thttps://pbs.twimg.com/media/C0uXObSXUAAIzmV.jpg\\t1\\tSiberian_husky\\t0.6993550000000001\\tTrue\\tEskimo_dog\\t0.25643299999999997\\tTrue\\tNorwegian_elkhound\\t0.0131888\\tTrue\\n813944609378369540\\thttps://pbs.twimg.com/media/Cveg1-NXgAASaaT.jpg\\t1\\tLabrador_retriever\\t0.427742\\tTrue\\tGreat_Dane\\t0.190503\\tTrue\\tcurly-coated_retriever\\t0.146427\\tTrue\\n814153002265309185\\thttps://pbs.twimg.com/media/C0xz04SVIAAeyDb.jpg\\t1\\tgolden_retriever\\t0.490068\\tTrue\\tLabrador_retriever\\t0.291956\\tTrue\\tchow\\t0.07247469999999999\\tTrue\\n814530161257443328\\thttps://pbs.twimg.com/media/C03K2-VWIAAK1iV.jpg\\t1\\tminiature_poodle\\t0.626913\\tTrue\\ttoy_poodle\\t0.26558200000000004\\tTrue\\tsoft-coated_wheaten_terrier\\t0.0416142\\tTrue\\n814638523311648768\\thttps://pbs.twimg.com/media/C04taUjWIAA6Mo4.jpg\\t2\\tgolden_retriever\\t0.650814\\tTrue\\tkuvasz\\t0.053280999999999995\\tTrue\\tcocker_spaniel\\t0.035439599999999995\\tTrue\\n814986499976527872\\thttps://pbs.twimg.com/media/C09p5dJWIAE5qKL.jpg\\t1\\tdalmatian\\t0.999828\\tTrue\\tboxer\\t6.78061e-05\\tTrue\\tAmerican_Staffordshire_terrier\\t3.42436e-05\\tTrue\\n815390420867969024\\thttps://pbs.twimg.com/media/C1DZQiTXgAUqgRI.jpg\\t1\\trestaurant\\t0.279846\\tFalse\\ttoyshop\\t0.0914294\\tFalse\\tpaper_towel\\t0.0461474\\tFalse\\n815639385530101762\\thttps://pbs.twimg.com/media/C1G7sXyWIAA10eH.jpg\\t1\\tGerman_shepherd\\t0.8179529999999999\\tTrue\\tNorwegian_elkhound\\t0.140007\\tTrue\\tmalinois\\t0.0248209\\tTrue\\n815736392542261248\\thttps://pbs.twimg.com/media/C1IT6rVXUAIvwYT.jpg\\t3\\tBorder_collie\\t0.5489069999999999\\tTrue\\tCardigan\\t0.17852300000000002\\tTrue\\tcollie\\t0.146351\\tTrue\\n815966073409433600\\thttps://pbs.twimg.com/ext_tw_video_thumb/815965888126062592/pu/img/JleSw4wRhgKDWQj5.jpg\\t1\\tTibetan_mastiff\\t0.506312\\tTrue\\tTibetan_terrier\\t0.29569\\tTrue\\totterhound\\t0.0362507\\tTrue\\n815990720817401858\\thttps://pbs.twimg.com/media/C1L7OVVWQAIQ6Tt.jpg\\t1\\tChihuahua\\t0.428756\\tTrue\\tminiature_pinscher\\t0.10391199999999999\\tTrue\\tStaffordshire_bullterrier\\t0.0889587\\tTrue\\n816014286006976512\\thttps://pbs.twimg.com/media/CiibOMzUYAA9Mxz.jpg\\t1\\tEnglish_setter\\t0.677408\\tTrue\\tBorder_collie\\t0.052724\\tTrue\\tcocker_spaniel\\t0.0485719\\tTrue\\n816091915477250048\\thttps://pbs.twimg.com/media/C1NXQ6NXUAEAxIQ.jpg\\t3\\tPomeranian\\t0.9673450000000001\\tTrue\\tSamoyed\\t0.00739748\\tTrue\\tpapillon\\t0.0060165\\tTrue\\n816336735214911488\\thttps://pbs.twimg.com/media/C1Q17WdWEAAjKFO.jpg\\t1\\tLabrador_retriever\\t0.91933\\tTrue\\tkuvasz\\t0.0494795\\tTrue\\tgolden_retriever\\t0.0119342\\tTrue\\n816450570814898180\\thttps://pbs.twimg.com/media/C1SddosXUAQcVR1.jpg\\t1\\tweb_site\\t0.35285700000000003\\tFalse\\tenvelope\\t0.0601072\\tFalse\\tnail\\t0.031290899999999996\\tFalse\\n816697700272001025\\thttps://pbs.twimg.com/media/C1V-K63UAAEUHqw.jpg\\t1\\tChihuahua\\t0.756992\\tTrue\\tPomeranian\\t0.0528495\\tTrue\\tMaltese_dog\\t0.047607800000000006\\tTrue\\n816816676327063552\\thttps://pbs.twimg.com/media/C1XqbhXXUAElpfI.jpg\\t1\\tmalamute\\t0.668164\\tTrue\\tPembroke\\t0.10503299999999999\\tTrue\\tSiberian_husky\\t0.077875\\tTrue\\n816829038950027264\\thttps://pbs.twimg.com/media/CvoBPWRWgAA4het.jpg\\t1\\tdishwasher\\t0.700466\\tFalse\\tgolden_retriever\\t0.245773\\tTrue\\tchow\\t0.039011699999999996\\tTrue\\n817056546584727552\\thttps://pbs.twimg.com/media/C1bEl4zVIAASj7_.jpg\\t1\\tkelpie\\t0.8644149999999999\\tTrue\\tFrench_bulldog\\t0.0974556\\tTrue\\tGerman_shepherd\\t0.00852587\\tTrue\\n817120970343411712\\thttps://pbs.twimg.com/media/C1b_LSYUsAAJ494.jpg\\t1\\tSaluki\\t0.568809\\tTrue\\tAfghan_hound\\t0.229352\\tTrue\\tgolden_retriever\\t0.15713\\tTrue\\n817171292965273600\\thttps://pbs.twimg.com/media/C1cs8uAWgAEwbXc.jpg\\t1\\tgolden_retriever\\t0.295483\\tTrue\\tIrish_setter\\t0.144431\\tTrue\\tChesapeake_Bay_retriever\\t0.07787899999999999\\tTrue\\n817181837579653120\\thttps://pbs.twimg.com/ext_tw_video_thumb/815965888126062592/pu/img/JleSw4wRhgKDWQj5.jpg\\t1\\tTibetan_mastiff\\t0.506312\\tTrue\\tTibetan_terrier\\t0.29569\\tTrue\\totterhound\\t0.0362507\\tTrue\\n817415592588222464\\thttps://pbs.twimg.com/media/C1gLJVpWgAApI3r.jpg\\t1\\tDoberman\\t0.806163\\tTrue\\tblack-and-tan_coonhound\\t0.0973859\\tTrue\\tminiature_pinscher\\t0.0859928\\tTrue\\n817423860136083457\\thttps://pbs.twimg.com/ext_tw_video_thumb/817423809049493505/pu/img/5OFW0yueFu9oTUiQ.jpg\\t1\\tice_bear\\t0.3362\\tFalse\\tSamoyed\\t0.20135799999999998\\tTrue\\tEskimo_dog\\t0.186789\\tTrue\\n817536400337801217\\thttps://pbs.twimg.com/media/C1h4_MEXUAARxQF.jpg\\t2\\tpug\\t0.9713579999999999\\tTrue\\tFrench_bulldog\\t0.0285185\\tTrue\\tBoston_bull\\t8.596979999999999e-05\\tTrue\\n817777686764523521\\thttps://pbs.twimg.com/ext_tw_video_thumb/817777588030476288/pu/img/KbuLpE4krHF4VdPf.jpg\\t1\\tcurly-coated_retriever\\t0.733256\\tTrue\\tflat-coated_retriever\\t0.21414499999999997\\tTrue\\tIrish_water_spaniel\\t0.029769\\tTrue\\n817827839487737858\\thttps://pbs.twimg.com/ext_tw_video_thumb/817827663108771841/pu/img/e9oi839RGWJR37jF.jpg\\t1\\tcocker_spaniel\\t0.387608\\tTrue\\tgolden_retriever\\t0.264844\\tTrue\\tPekinese\\t0.122123\\tTrue\\n818145370475810820\\thttps://pbs.twimg.com/media/C1qi26rW8AMaj9K.jpg\\t1\\tgolden_retriever\\t0.621931\\tTrue\\tLabrador_retriever\\t0.36499699999999996\\tTrue\\tredbone\\t0.00397148\\tTrue\\n818259473185828864\\thttps://pbs.twimg.com/media/C1sKo_QUkAALtkw.jpg\\t1\\tminiature_schnauzer\\t0.367368\\tTrue\\ttoy_poodle\\t0.112479\\tTrue\\tstandard_schnauzer\\t0.095434\\tTrue\\n818536468981415936\\thttps://pbs.twimg.com/media/C1wGkYoVQAAuC_O.jpg\\t1\\tswing\\t0.999403\\tFalse\\tWelsh_springer_spaniel\\t6.229489999999999e-05\\tTrue\\tbow\\t3.04619e-05\\tFalse\\n818588835076603904\\thttps://pbs.twimg.com/media/Crwxb5yWgAAX5P_.jpg\\t1\\tNorwegian_elkhound\\t0.372202\\tTrue\\tChesapeake_Bay_retriever\\t0.13718699999999998\\tTrue\\tmalamute\\t0.07143619999999999\\tTrue\\n818614493328580609\\thttps://pbs.twimg.com/media/C1xNgraVIAA3EVb.jpg\\t4\\tChihuahua\\t0.450722\\tTrue\\tBorder_terrier\\t0.204177\\tTrue\\tbeagle\\t0.092774\\tTrue\\n818627210458333184\\thttps://pbs.twimg.com/media/C1xZGkzWIAA8vh4.jpg\\t1\\tLabrador_retriever\\t0.38418800000000003\\tTrue\\tbeagle\\t0.255917\\tTrue\\tgrocery_store\\t0.0797995\\tFalse\\n819004803107983360\\thttps://pbs.twimg.com/media/C12whDoVEAALRxa.jpg\\t1\\tstandard_poodle\\t0.351308\\tTrue\\ttoy_poodle\\t0.271929\\tTrue\\tTibetan_terrier\\t0.0947592\\tTrue\\n819006400881917954\\thttps://pbs.twimg.com/media/C12x-JTVIAAzdfl.jpg\\t4\\tprison\\t0.907083\\tFalse\\tpalace\\t0.0200891\\tFalse\\tumbrella\\t0.00784954\\tFalse\\n819015331746349057\\thttps://pbs.twimg.com/media/C12x-JTVIAAzdfl.jpg\\t4\\tprison\\t0.907083\\tFalse\\tpalace\\t0.0200891\\tFalse\\tumbrella\\t0.00784954\\tFalse\\n819015337530290176\\thttps://pbs.twimg.com/media/C12whDoVEAALRxa.jpg\\t1\\tstandard_poodle\\t0.351308\\tTrue\\ttoy_poodle\\t0.271929\\tTrue\\tTibetan_terrier\\t0.0947592\\tTrue\\n819227688460238848\\thttps://pbs.twimg.com/media/C157Oq3WQAEOyHm.jpg\\t1\\tBorder_terrier\\t0.48245200000000005\\tTrue\\tGerman_shepherd\\t0.181082\\tTrue\\tNorwegian_elkhound\\t0.0652566\\tTrue\\n819347104292290561\\thttps://pbs.twimg.com/media/C17n1nrWQAIErU3.jpg\\t3\\tRottweiler\\t0.909106\\tTrue\\tblack-and-tan_coonhound\\t0.0441198\\tTrue\\tDoberman\\t0.0318349\\tTrue\\n819588359383371776\\thttps://pbs.twimg.com/media/C1_DQn3UoAIoJy7.jpg\\t1\\tCardigan\\t0.5479350000000001\\tTrue\\tbasenji\\t0.116442\\tTrue\\tShetland_sheepdog\\t0.101681\\tTrue\\n819711362133872643\\thttps://pbs.twimg.com/media/C2AzHjQWQAApuhf.jpg\\t2\\tacorn_squash\\t0.8487040000000001\\tFalse\\ttoilet_seat\\t0.0443484\\tFalse\\ttoy_poodle\\t0.022009400000000002\\tTrue\\n819924195358416896\\thttps://pbs.twimg.com/ext_tw_video_thumb/819924138965999617/pu/img/6OIToyT9eLESHXLU.jpg\\t1\\tbathtub\\t0.100896\\tFalse\\tshower_curtain\\t0.0918664\\tFalse\\ttub\\t0.049176300000000006\\tFalse\\n819952236453363712\\thttps://pbs.twimg.com/media/C2EONHNWQAUWxkP.jpg\\t1\\tAmerican_Staffordshire_terrier\\t0.9255049999999999\\tTrue\\tStaffordshire_bullterrier\\t0.0362215\\tTrue\\tItalian_greyhound\\t0.020411900000000004\\tTrue\\n820078625395449857\\thttps://pbs.twimg.com/media/C2GBJADWIAQvcNb.jpg\\t3\\tschool_bus\\t0.999833\\tFalse\\tcab\\t0.000159621\\tFalse\\tcrane\\t1.7998e-06\\tFalse\\n820314633777061888\\thttps://pbs.twimg.com/media/C2JXyARUAAE4gbL.jpg\\t2\\tGordon_setter\\t0.940724\\tTrue\\tblack-and-tan_coonhound\\t0.0420412\\tTrue\\tRottweiler\\t0.00941743\\tTrue\\n820446719150292993\\thttps://pbs.twimg.com/media/CxqsX-8XUAAEvjD.jpg\\t3\\tgolden_retriever\\t0.938048\\tTrue\\tkuvasz\\t0.0251195\\tTrue\\tLabrador_retriever\\t0.0229773\\tTrue\\n820690176645140481\\thttps://pbs.twimg.com/media/C2OtWr0VQAEnS9r.jpg\\t2\\tWest_Highland_white_terrier\\t0.872064\\tTrue\\tkuvasz\\t0.0595259\\tTrue\\tSamoyed\\t0.0373996\\tTrue\\n820749716845686786\\thttps://pbs.twimg.com/media/C2PjgjQXcAAc4Uu.jpg\\t2\\tgolden_retriever\\t0.8380120000000001\\tTrue\\tPekinese\\t0.0567331\\tTrue\\tLabrador_retriever\\t0.0239436\\tTrue\\n821044531881721856\\thttps://pbs.twimg.com/media/C2Tvo20XcAAhNL9.jpg\\t1\\tOld_English_sheepdog\\t0.14802\\tTrue\\tAiredale\\t0.13353399999999999\\tTrue\\tTibetan_mastiff\\t0.120903\\tTrue\\n821107785811234820\\thttps://pbs.twimg.com/media/C2UpLA-UcAEK_Fz.jpg\\t1\\tPomeranian\\t0.85659\\tTrue\\tpapillon\\t0.0385365\\tTrue\\tYorkshire_terrier\\t0.0331458\\tTrue\\n821149554670182400\\thttps://pbs.twimg.com/ext_tw_video_thumb/821149477142556673/pu/img/88_DV098c60pC5AA.jpg\\t1\\tGerman_shepherd\\t0.515933\\tTrue\\tmalinois\\t0.203651\\tTrue\\tIrish_setter\\t0.0910551\\tTrue\\n821407182352777218\\thttps://pbs.twimg.com/ext_tw_video_thumb/821407155391725568/pu/img/AJC07gFJDDBuwNTD.jpg\\t1\\tIrish_setter\\t0.5054960000000001\\tTrue\\tvizsla\\t0.168747\\tTrue\\tChesapeake_Bay_retriever\\t0.111311\\tTrue\\n821522889702862852\\thttps://pbs.twimg.com/media/C2aitIUXAAAG-Wi.jpg\\t1\\tDoberman\\t0.7635390000000001\\tTrue\\tblack-and-tan_coonhound\\t0.136602\\tTrue\\tminiature_pinscher\\t0.08765389999999999\\tTrue\\n821765923262631936\\thttps://pbs.twimg.com/media/C2d_vnHWEAE9phX.jpg\\t1\\tgolden_retriever\\t0.9800709999999999\\tTrue\\tLabrador_retriever\\t0.00875751\\tTrue\\tSaluki\\t0.00180595\\tTrue\\n821813639212650496\\thttps://pbs.twimg.com/media/CtVAvX-WIAAcGTf.jpg\\t1\\tSaint_Bernard\\t0.995143\\tTrue\\tCardigan\\t0.00304359\\tTrue\\tEnglish_springer\\t0.00104955\\tTrue\\n821886076407029760\\thttps://pbs.twimg.com/media/C2ftAxnWIAEUdAR.jpg\\t1\\tgolden_retriever\\t0.26623800000000003\\tTrue\\tcocker_spaniel\\t0.223325\\tTrue\\tIrish_setter\\t0.151631\\tTrue\\n822244816520155136\\thttps://pbs.twimg.com/media/C2kzTGxWEAEOpPL.jpg\\t1\\tSamoyed\\t0.585441\\tTrue\\tPomeranian\\t0.193654\\tTrue\\tArctic_fox\\t0.0716476\\tFalse\\n822462944365645825\\thttps://pbs.twimg.com/media/C2n5rUUXEAIXAtv.jpg\\t3\\tPomeranian\\t0.960199\\tTrue\\tSamoyed\\t0.0230563\\tTrue\\tMaltese_dog\\t0.00894488\\tTrue\\n822489057087389700\\thttps://pbs.twimg.com/media/C2oRbOuWEAAbVSl.jpg\\t1\\tSamoyed\\t0.41676899999999995\\tTrue\\tmalamute\\t0.252706\\tTrue\\tkuvasz\\t0.157028\\tTrue\\n822610361945911296\\thttps://pbs.twimg.com/media/C2p_wQyXEAELtvS.jpg\\t1\\tcocker_spaniel\\t0.6644869999999999\\tTrue\\tNorfolk_terrier\\t0.075089\\tTrue\\tNorwich_terrier\\t0.0596439\\tTrue\\n822647212903690241\\thttps://pbs.twimg.com/media/C2oRbOuWEAAbVSl.jpg\\t1\\tSamoyed\\t0.41676899999999995\\tTrue\\tmalamute\\t0.252706\\tTrue\\tkuvasz\\t0.157028\\tTrue\\n822859134160621569\\thttps://pbs.twimg.com/media/C2tiAzGXgAIFdqi.jpg\\t1\\tmalinois\\t0.332897\\tTrue\\tChihuahua\\t0.10411600000000001\\tTrue\\tStaffordshire_bullterrier\\t0.047744999999999996\\tTrue\\n822872901745569793\\thttps://pbs.twimg.com/media/C2tugXLXgAArJO4.jpg\\t1\\tLakeland_terrier\\t0.19601500000000002\\tTrue\\tLabrador_retriever\\t0.160329\\tTrue\\tIrish_terrier\\t0.0691262\\tTrue\\n822975315408461824\\thttps://pbs.twimg.com/media/C2vLrpvWIAA3LM3.jpg\\t1\\tbathtub\\t0.331098\\tFalse\\ttub\\t0.24886\\tFalse\\tPembroke\\t0.23316199999999998\\tTrue\\n823269594223824897\\thttps://pbs.twimg.com/media/C2kzTGxWEAEOpPL.jpg\\t1\\tSamoyed\\t0.585441\\tTrue\\tPomeranian\\t0.193654\\tTrue\\tArctic_fox\\t0.0716476\\tFalse\\n823322678127919110\\thttps://pbs.twimg.com/media/C20HmaKWgAQ6-6X.jpg\\t2\\tcowboy_boot\\t0.990253\\tFalse\\tChihuahua\\t0.00183635\\tTrue\\tpapillon\\t0.0012739000000000001\\tTrue\\n823581115634085888\\thttps://pbs.twimg.com/media/C23ypm6VQAAO31l.jpg\\t1\\tdingo\\t0.280949\\tFalse\\tGerman_shepherd\\t0.194044\\tTrue\\tPembroke\\t0.120051\\tTrue\\n823699002998870016\\thttps://pbs.twimg.com/media/C25d3nkXEAAFBUN.jpg\\t1\\tcairn\\t0.203999\\tTrue\\tsnorkel\\t0.17189300000000002\\tFalse\\tNorfolk_terrier\\t0.107543\\tTrue\\n823939628516474880\\thttps://pbs.twimg.com/media/C284uD8WgAEmMVn.jpg\\t1\\tschipperke\\t0.23407600000000003\\tTrue\\tcurly-coated_retriever\\t0.19309300000000001\\tTrue\\tLabrador_retriever\\t0.0951966\\tTrue\\n824297048279236611\\thttps://pbs.twimg.com/media/C3B9ypNWEAM1bVs.jpg\\t2\\tteddy\\t0.58823\\tFalse\\tjigsaw_puzzle\\t0.0289096\\tFalse\\tdoormat\\t0.0222507\\tFalse\\n824325613288833024\\thttps://pbs.twimg.com/media/C3CXxaoWQAAiLuC.jpg\\t1\\tPembroke\\t0.990793\\tTrue\\tCardigan\\t0.00891939\\tTrue\\tbasenji\\t0.000262264\\tTrue\\n824663926340194305\\thttps://pbs.twimg.com/media/C3HLd0HXUAAUI2b.jpg\\t1\\tEnglish_setter\\t0.526488\\tTrue\\tgolden_retriever\\t0.40281500000000003\\tTrue\\tIrish_setter\\t0.034417800000000005\\tTrue\\n824775126675836928\\thttps://pbs.twimg.com/media/C3Iwlr0WYAARVh4.jpg\\t1\\tBorder_terrier\\t0.610499\\tTrue\\tmalinois\\t0.09029119999999999\\tTrue\\tAiredale\\t0.0686247\\tTrue\\n824796380199809024\\thttps://pbs.twimg.com/media/CwiuEJmW8AAZnit.jpg\\t2\\tgas_pump\\t0.676439\\tFalse\\tharvester\\t0.049995300000000006\\tFalse\\tswing\\t0.0446596\\tFalse\\n825026590719483904\\thttps://pbs.twimg.com/media/C3MVTeHWcAAGNfx.jpg\\t2\\tEskimo_dog\\t0.524454\\tTrue\\tSiberian_husky\\t0.467678\\tTrue\\tmalamute\\t0.00497584\\tTrue\\n825147591692263424\\thttps://pbs.twimg.com/media/C3ODWpfXAAAP1fb.jpg\\t1\\tPekinese\\t0.354823\\tTrue\\tPomeranian\\t0.24539\\tTrue\\ttoy_poodle\\t0.136545\\tTrue\\n825535076884762624\\thttps://pbs.twimg.com/media/C3TjvitXAAAI-QH.jpg\\t1\\tRottweiler\\t0.681495\\tTrue\\tTibetan_mastiff\\t0.14794000000000002\\tTrue\\tblack-and-tan_coonhound\\t0.0245252\\tTrue\\n825829644528148480\\thttps://pbs.twimg.com/media/C3XvqILXUAU2nnT.jpg\\t2\\tGreat_Pyrenees\\t0.8534069999999999\\tTrue\\tgolden_retriever\\t0.0535313\\tTrue\\tEnglish_setter\\t0.04582990000000001\\tTrue\\n825876512159186944\\thttps://pbs.twimg.com/media/C3YaSnQWAAILgz0.jpg\\t1\\tshopping_cart\\t0.995941\\tFalse\\tshopping_basket\\t0.00405697\\tFalse\\tmousetrap\\t8.83283e-07\\tFalse\\n826115272272650244\\thttps://pbs.twimg.com/media/C3bzVILWcAUjS5i.jpg\\t1\\ttennis_ball\\t0.9970709999999999\\tFalse\\tgolden_retriever\\t0.00233085\\tTrue\\tkuvasz\\t0.000283472\\tTrue\\n826204788643753985\\thttps://pbs.twimg.com/media/C3dEza1WcAAhlNU.jpg\\t2\\tLabrador_retriever\\t0.782058\\tTrue\\tgolden_retriever\\t0.156581\\tTrue\\tsoft-coated_wheaten_terrier\\t0.00727512\\tTrue\\n826240494070030336\\thttps://pbs.twimg.com/media/C3dlVMbXAAUd-Gh.jpg\\t1\\tFrench_bulldog\\t0.903048\\tTrue\\tpug\\t0.09624210000000001\\tTrue\\tBoston_bull\\t0.000234364\\tTrue\\n826476773533745153\\thttps://pbs.twimg.com/media/C3g8M0lWIAEcFgn.jpg\\t1\\tGerman_shepherd\\t0.7418600000000001\\tTrue\\tTibetan_mastiff\\t0.12281199999999999\\tTrue\\tkelpie\\t0.10046000000000001\\tTrue\\n826598365270007810\\thttps://pbs.twimg.com/media/C3iq0EEXUAAdBYC.jpg\\t1\\tFrench_bulldog\\t0.628119\\tTrue\\tSiamese_cat\\t0.117397\\tFalse\\tcougar\\t0.08276489999999999\\tFalse\\n826848821049180160\\thttps://pbs.twimg.com/media/C3mOnZ_XUAAjr2V.jpg\\t4\\tGreat_Pyrenees\\t0.858764\\tTrue\\tgolden_retriever\\t0.0235257\\tTrue\\tPekinese\\t0.017103900000000002\\tTrue\\n826958653328592898\\thttps://pbs.twimg.com/media/C3nygbBWQAAjwcW.jpg\\t1\\tgolden_retriever\\t0.6173890000000001\\tTrue\\tLabrador_retriever\\t0.33705300000000005\\tTrue\\ttennis_ball\\t0.00855442\\tFalse\\n827199976799354881\\thttps://pbs.twimg.com/media/C3rN-lcWEAA9CmR.jpg\\t4\\tGreat_Dane\\t0.8696809999999999\\tTrue\\tAmerican_Staffordshire_terrier\\t0.0266582\\tTrue\\tboxer\\t0.019866099999999998\\tTrue\\n827324948884643840\\thttps://pbs.twimg.com/media/C3s_pYrXAAA1eqZ.jpg\\t1\\tgolden_retriever\\t0.352486\\tTrue\\ttoy_poodle\\t0.178884\\tTrue\\tLabrador_retriever\\t0.08416439999999999\\tTrue\\n827600520311402496\\thttps://pbs.twimg.com/media/C3w6RYbWQAAEQ25.jpg\\t1\\tPembroke\\t0.32563800000000004\\tTrue\\tgolden_retriever\\t0.317235\\tTrue\\tLabrador_retriever\\t0.116087\\tTrue\\n827653905312006145\\thttps://pbs.twimg.com/media/C3xq1ZeWEAEuzw3.jpg\\t1\\tcollie\\t0.285555\\tTrue\\tBorder_collie\\t0.217306\\tTrue\\tSaint_Bernard\\t0.143245\\tTrue\\n827933404142436356\\thttps://pbs.twimg.com/media/C31pCN4UcAAOLNH.jpg\\t2\\tGerman_shepherd\\t0.8061149999999999\\tTrue\\tTibetan_mastiff\\t0.104831\\tTrue\\tkelpie\\t0.0381482\\tTrue\\n828011680017821696\\thttps://pbs.twimg.com/media/C32wOLcWYAAjNqS.jpg\\t1\\tAmerican_Staffordshire_terrier\\t0.9366620000000001\\tTrue\\tStaffordshire_bullterrier\\t0.032999099999999996\\tTrue\\tbull_mastiff\\t0.0171834\\tTrue\\n828046555563323392\\thttps://pbs.twimg.com/media/C33P8PrUcAMiQQs.jpg\\t3\\tpatio\\t0.272972\\tFalse\\twindow_screen\\t0.131295\\tFalse\\tboathouse\\t0.0463925\\tFalse\\n828372645993398273\\thttps://pbs.twimg.com/media/C374hb0WQAAIbQ-.jpg\\t1\\tmalamute\\t0.663047\\tTrue\\tEskimo_dog\\t0.207779\\tTrue\\tTibetan_mastiff\\t0.04094880000000001\\tTrue\\n828376505180889089\\thttps://pbs.twimg.com/media/C378BwxWMAA6CNK.jpg\\t1\\tAmerican_Staffordshire_terrier\\t0.5230859999999999\\tTrue\\tStaffordshire_bullterrier\\t0.186168\\tTrue\\tChihuahua\\t0.0420894\\tTrue\\n828381636999917570\\thttps://pbs.twimg.com/media/C38Asz1WEAAvzj3.jpg\\t1\\tBedlington_terrier\\t0.39253499999999997\\tTrue\\tLabrador_retriever\\t0.0890217\\tTrue\\tclumber\\t0.0817998\\tTrue\\n828408677031882754\\thttps://pbs.twimg.com/media/C38ZSzlWIAEpQzs.jpg\\t1\\tWeimaraner\\t0.13303299999999998\\tTrue\\tChesapeake_Bay_retriever\\t0.092227\\tTrue\\tAmerican_Staffordshire_terrier\\t0.0650945\\tTrue\\n828409743546925057\\thttps://pbs.twimg.com/media/C38aQYgXAAMY2Wh.jpg\\t1\\tteddy\\t0.908457\\tFalse\\ttoy_poodle\\t0.018039799999999998\\tTrue\\tstandard_poodle\\t0.0126671\\tTrue\\n828650029636317184\\thttps://pbs.twimg.com/media/C3_0yhCWEAETXj2.jpg\\t1\\tgolden_retriever\\t0.649209\\tTrue\\tChesapeake_Bay_retriever\\t0.19856\\tTrue\\tvizsla\\t0.056199900000000004\\tTrue\\n828708714936930305\\thttps://pbs.twimg.com/media/C4AqLSgVYAEg8nt.jpg\\t1\\thippopotamus\\t0.942911\\tFalse\\tMexican_hairless\\t0.00838837\\tTrue\\tice_lolly\\t0.00620647\\tFalse\\n828770345708580865\\thttps://pbs.twimg.com/media/C4BiOXOXAAAf6IS.jpg\\t1\\tseat_belt\\t0.765979\\tFalse\\tChesapeake_Bay_retriever\\t0.0338986\\tTrue\\tpolecat\\t0.027251599999999997\\tFalse\\n829011960981237760\\thttps://pbs.twimg.com/media/C4E99ygWcAAQpPs.jpg\\t2\\tboxer\\t0.312221\\tTrue\\tdalmatian\\t0.24404\\tTrue\\tconch\\t0.130273\\tFalse\\n829141528400556032\\thttps://pbs.twimg.com/media/C4GzztSWAAA_qi4.jpg\\t2\\tgolden_retriever\\t0.57314\\tTrue\\tcocker_spaniel\\t0.111159\\tTrue\\tgibbon\\t0.09412689999999999\\tFalse\\n829374341691346946\\thttps://pbs.twimg.com/media/C4KHj-nWQAA3poV.jpg\\t1\\tStaffordshire_bullterrier\\t0.757547\\tTrue\\tAmerican_Staffordshire_terrier\\t0.14995\\tTrue\\tChesapeake_Bay_retriever\\t0.047522699999999994\\tTrue\\n829449946868879360\\thttps://pbs.twimg.com/media/C4LMUf8WYAkWz4I.jpg\\t1\\tLabrador_retriever\\t0.315163\\tTrue\\tgolden_retriever\\t0.15320999999999999\\tTrue\\tPekinese\\t0.13279100000000002\\tTrue\\n829501995190984704\\thttps://pbs.twimg.com/media/C4L7p19W8AA3Fs_.jpg\\t1\\tFrench_bulldog\\t0.950851\\tTrue\\tPekinese\\t0.0151996\\tTrue\\tpug\\t0.0110936\\tTrue\\n829861396166877184\\thttps://pbs.twimg.com/media/C4RCiIHWYAAwgJM.jpg\\t1\\tBorder_terrier\\t0.394486\\tTrue\\tStaffordshire_bullterrier\\t0.37657399999999996\\tTrue\\tAmerican_Staffordshire_terrier\\t0.0312916\\tTrue\\n829878982036299777\\thttps://pbs.twimg.com/media/C3nygbBWQAAjwcW.jpg\\t1\\tgolden_retriever\\t0.6173890000000001\\tTrue\\tLabrador_retriever\\t0.33705300000000005\\tTrue\\ttennis_ball\\t0.00855442\\tFalse\\n830097400375152640\\thttps://pbs.twimg.com/media/C4UZLZLWYAA0dcs.jpg\\t4\\ttoy_poodle\\t0.442713\\tTrue\\tPomeranian\\t0.142073\\tTrue\\tPekinese\\t0.125745\\tTrue\\n830583320585068544\\thttps://pbs.twimg.com/media/C4bTH6nWMAAX_bJ.jpg\\t1\\tLabrador_retriever\\t0.908703\\tTrue\\tseat_belt\\t0.0570909\\tFalse\\tpug\\t0.0119335\\tTrue\\n830956169170665475\\thttps://pbs.twimg.com/ext_tw_video_thumb/830956118893543424/pu/img/t2G0raF7pDPRMAH5.jpg\\t1\\tkuvasz\\t0.451516\\tTrue\\tgolden_retriever\\t0.317196\\tTrue\\tEnglish_setter\\t0.132759\\tTrue\\n831262627380748289\\thttps://pbs.twimg.com/media/C4k88lGVMAEKNzb.jpg\\t1\\tcocker_spaniel\\t0.26332300000000003\\tTrue\\tBrittany_spaniel\\t0.20055\\tTrue\\tdoormat\\t0.193414\\tFalse\\n831309418084069378\\thttps://pbs.twimg.com/media/C4lngK5VUAEVrNO.jpg\\t1\\tDoberman\\t0.36938899999999997\\tTrue\\tkelpie\\t0.132449\\tTrue\\tLabrador_retriever\\t0.0747273\\tTrue\\n831315979191906304\\thttps://pbs.twimg.com/media/C4lst0bXAAE6MP8.jpg\\t4\\tbriard\\t0.9827549999999999\\tTrue\\tsoft-coated_wheaten_terrier\\t0.00908435\\tTrue\\tBouvier_des_Flandres\\t0.0046928000000000004\\tTrue\\n831322785565769729\\thttps://pbs.twimg.com/media/C4lzqQ4UEAApzU0.jpg\\t1\\tOld_English_sheepdog\\t0.9997149999999999\\tTrue\\tTibetan_terrier\\t4.62967e-05\\tTrue\\tguinea_pig\\t4.1184300000000005e-05\\tFalse\\n831552930092285952\\thttps://pbs.twimg.com/media/C4pE-I0WQAABveu.jpg\\t1\\tChihuahua\\t0.257415\\tTrue\\tPembroke\\t0.161442\\tTrue\\tFrench_bulldog\\t0.0921429\\tTrue\\n831650051525054464\\thttps://pbs.twimg.com/media/C4qdThOWAAI3WX3.jpg\\t1\\tEskimo_dog\\t0.530416\\tTrue\\tSiberian_husky\\t0.180335\\tTrue\\tNorwegian_elkhound\\t0.104314\\tTrue\\n831670449226514432\\thttps://pbs.twimg.com/media/C4qv3JUW8AADirb.jpg\\t1\\tPembroke\\t0.6248020000000001\\tTrue\\tCardigan\\t0.362861\\tTrue\\tAppenzeller\\t0.00392621\\tTrue\\n831911600680497154\\thttps://pbs.twimg.com/media/C4uLLGuUoAAkIHm.jpg\\t4\\tbloodhound\\t0.777562\\tTrue\\tGreat_Dane\\t0.0474176\\tTrue\\tLeonberg\\t0.0179431\\tTrue\\n831939777352105988\\thttps://pbs.twimg.com/media/C4uk0EWWQAAaZm1.jpg\\t1\\tPomeranian\\t0.153862\\tTrue\\tmarmot\\t0.09123389999999999\\tFalse\\tgrey_fox\\t0.0906441\\tFalse\\n832032802820481025\\thttps://pbs.twimg.com/media/C4v5a4UWcAIRygc.jpg\\t1\\twhippet\\t0.601712\\tTrue\\tIbizan_hound\\t0.152662\\tTrue\\tItalian_greyhound\\t0.135055\\tTrue\\n832040443403784192\\thttps://pbs.twimg.com/media/Cq9guJ5WgAADfpF.jpg\\t1\\tminiature_pinscher\\t0.796313\\tTrue\\tChihuahua\\t0.15541300000000002\\tTrue\\tStaffordshire_bullterrier\\t0.0309433\\tTrue\\n832215726631055365\\thttps://pbs.twimg.com/media/CwJR1okWIAA6XMp.jpg\\t1\\tAfghan_hound\\t0.27463699999999996\\tTrue\\tborzoi\\t0.142204\\tTrue\\tdoormat\\t0.109677\\tFalse\\n832273440279240704\\thttps://pbs.twimg.com/ext_tw_video_thumb/832273373149413377/pu/img/qOqxM0b48fEarmq6.jpg\\t1\\tPembroke\\t0.134081\\tTrue\\tice_bear\\t0.0519278\\tFalse\\tpug\\t0.0443109\\tTrue\\n832369877331693569\\thttps://pbs.twimg.com/media/C40r_GDWAAA5vNJ.jpg\\t1\\tkelpie\\t0.50469\\tTrue\\tGerman_short-haired_pointer\\t0.105208\\tTrue\\tStaffordshire_bullterrier\\t0.0543385\\tTrue\\n832397543355072512\\thttps://pbs.twimg.com/media/C41FIiAW8AA7lMr.jpg\\t1\\tPekinese\\t0.988916\\tTrue\\tBrabancon_griffon\\t0.0016768\\tTrue\\tSiamese_cat\\t0.00112589\\tFalse\\n832636094638288896\\thttps://pbs.twimg.com/media/C44eG7oUMAAA4Ss.jpg\\t1\\tEskimo_dog\\t0.5250319999999999\\tTrue\\tSiberian_husky\\t0.252238\\tTrue\\tmalamute\\t0.21683899999999998\\tTrue\\n832757312314028032\\thttps://pbs.twimg.com/media/C46MWnFVYAUg1RK.jpg\\t2\\tCardigan\\t0.160888\\tTrue\\tStaffordshire_bullterrier\\t0.159441\\tTrue\\tBoston_bull\\t0.154368\\tTrue\\n832769181346996225\\thttps://pbs.twimg.com/media/C46UmzSVMAAqBug.jpg\\t1\\tjersey\\t0.895698\\tFalse\\tsweatshirt\\t0.0890854\\tFalse\\tponcho\\t0.00297522\\tFalse\\n832998151111966721\\thttps://pbs.twimg.com/media/C49nZavUYAEJjGw.jpg\\t1\\tboxer\\t0.539036\\tTrue\\tFrench_bulldog\\t0.317617\\tTrue\\tbull_mastiff\\t0.0939285\\tTrue\\n833124694597443584\\thttps://pbs.twimg.com/media/C4_ad1IUoAEspsk.jpg\\t3\\tCardigan\\t0.7105229999999999\\tTrue\\tkelpie\\t0.106102\\tTrue\\tshopping_cart\\t0.0554755\\tFalse\\n833479644947025920\\thttps://pbs.twimg.com/media/C5EdT4jWEAARv2C.jpg\\t3\\tgolden_retriever\\t0.727039\\tTrue\\tcocker_spaniel\\t0.0711398\\tTrue\\tTibetan_mastiff\\t0.04869419999999999\\tTrue\\n833722901757046785\\thttps://pbs.twimg.com/media/C5H6jmgW8AAevqq.jpg\\t1\\tWest_Highland_white_terrier\\t0.9181440000000001\\tTrue\\tMaltese_dog\\t0.0257207\\tTrue\\tLakeland_terrier\\t0.0202111\\tTrue\\n833826103416520705\\thttps://pbs.twimg.com/media/C5JYaYoVYAAcEQw.jpg\\t1\\tChihuahua\\t0.438054\\tTrue\\tkelpie\\t0.149706\\tTrue\\tPembroke\\t0.0964805\\tTrue\\n833863086058651648\\thttps://pbs.twimg.com/media/C5J6DIpWQAEosSz.jpg\\t1\\tkuvasz\\t0.49496899999999994\\tTrue\\tGreat_Pyrenees\\t0.312632\\tTrue\\tgolden_retriever\\t0.141736\\tTrue\\n834086379323871233\\thttps://pbs.twimg.com/media/C5NFIsjWQAEI93t.jpg\\t1\\tbath_towel\\t0.736759\\tFalse\\tsleeping_bag\\t0.0629591\\tFalse\\tLabrador_retriever\\t0.045262699999999996\\tTrue\\n834167344700198914\\thttps://pbs.twimg.com/media/C5OOxY6WAAAxERz.jpg\\t1\\tox\\t0.991682\\tFalse\\tbison\\t0.00533452\\tFalse\\twater_buffalo\\t0.00113025\\tFalse\\n834209720923721728\\thttps://pbs.twimg.com/media/C5O1UAaWIAAMBMd.jpg\\t1\\tgolden_retriever\\t0.754799\\tTrue\\tPekinese\\t0.19786099999999998\\tTrue\\tLabrador_retriever\\t0.00865404\\tTrue\\n834458053273591808\\thttps://pbs.twimg.com/media/C5SXK89XUAQg7GX.jpg\\t1\\tRhodesian_ridgeback\\t0.46861899999999995\\tTrue\\twhippet\\t0.177531\\tTrue\\tredbone\\t0.106552\\tTrue\\n834574053763584002\\thttps://pbs.twimg.com/media/C5UAqgyXAAAbMWH.jpg\\t1\\ttoilet_tissue\\t0.262936\\tFalse\\tgolden_retriever\\t0.226564\\tTrue\\tbathtub\\t0.07887899999999999\\tFalse\\n834786237630337024\\thttps://pbs.twimg.com/media/C5XBp19WYAA5a_v.jpg\\t1\\tBorder_terrier\\t0.156276\\tTrue\\tNorwegian_elkhound\\t0.125912\\tTrue\\tBoston_bull\\t0.0966239\\tTrue\\n834931633769889797\\thttps://pbs.twimg.com/media/C5ZF4p-XEAEmApg.jpg\\t1\\tice_bear\\t0.330573\\tFalse\\tsoft-coated_wheaten_terrier\\t0.196476\\tTrue\\tIrish_terrier\\t0.07309650000000001\\tTrue\\n835152434251116546\\thttps://pbs.twimg.com/media/C5cOtWVWMAEjO5p.jpg\\t3\\tswing\\t0.967066\\tFalse\\tAmerican_Staffordshire_terrier\\t0.0127309\\tTrue\\tStaffordshire_bullterrier\\t0.00703922\\tTrue\\n835172783151792128\\thttps://pbs.twimg.com/media/C5chM_jWAAQmov9.jpg\\t2\\tBorder_collie\\t0.663138\\tTrue\\tcollie\\t0.15249400000000002\\tTrue\\tCardigan\\t0.0354706\\tTrue\\n835264098648616962\\thttps://pbs.twimg.com/media/C5d0QtvXMAI_7uz.jpg\\t2\\thyena\\t0.736871\\tFalse\\tChesapeake_Bay_retriever\\t0.0875033\\tTrue\\tmeerkat\\t0.042057800000000006\\tFalse\\n835297930240217089\\thttps://pbs.twimg.com/media/C5eTCOVUsAAWhvc.jpg\\t1\\tRottweiler\\t0.341276\\tTrue\\tBorder_terrier\\t0.33621999999999996\\tTrue\\tGordon_setter\\t0.0454483\\tTrue\\n835574547218894849\\thttps://pbs.twimg.com/media/C5iOnigWcAAU3Ry.jpg\\t1\\tStaffordshire_bullterrier\\t0.6106550000000001\\tTrue\\tmuzzle\\t0.132138\\tFalse\\tAmerican_Staffordshire_terrier\\t0.109544\\tTrue\\n836001077879255040\\thttps://pbs.twimg.com/media/C5oSiskU0AE8sJ_.jpg\\t4\\tSamoyed\\t0.963558\\tTrue\\twhite_wolf\\t0.0198476\\tFalse\\tmalamute\\t0.00590434\\tTrue\\n836260088725786625\\thttps://pbs.twimg.com/media/C5r-G2IUwAA6KBY.jpg\\t1\\tborzoi\\t0.564688\\tTrue\\tice_bear\\t0.07826749999999999\\tFalse\\tPembroke\\t0.057916199999999994\\tTrue\\n836380477523124226\\thttps://pbs.twimg.com/media/C5trm6iWgAQ22Hw.jpg\\t1\\twooden_spoon\\t0.08248860000000001\\tFalse\\tsliding_door\\t0.061016499999999994\\tFalse\\tgrand_piano\\t0.0550861\\tFalse\\n836677758902222849\\thttps://pbs.twimg.com/media/C5x57-TWUAEawQh.jpg\\t2\\tleopard\\t0.7974100000000001\\tFalse\\tjaguar\\t0.0954866\\tFalse\\tsnow_leopard\\t0.0796941\\tFalse\\n836753516572119041\\thttps://pbs.twimg.com/media/C5y-4VwWcAIcaoj.jpg\\t1\\tmortarboard\\t0.936882\\tFalse\\tacademic_gown\\t0.0208154\\tFalse\\tschipperke\\t0.0115635\\tTrue\\n836989968035819520\\thttps://pbs.twimg.com/media/C52V7PzWcAA_pVv.jpg\\t1\\tshopping_cart\\t0.572422\\tFalse\\tshopping_basket\\t0.41400200000000004\\tFalse\\ttoy_poodle\\t0.005887300000000001\\tTrue\\n837012587749474308\\thttps://pbs.twimg.com/media/C52pYJXWgAA2BEf.jpg\\t1\\ttoilet_tissue\\t0.186387\\tFalse\\tcowboy_hat\\t0.158555\\tFalse\\tsombrero\\t0.14947\\tFalse\\n837110210464448512\\thttps://pbs.twimg.com/media/C54DS1kXQAEU5pS.jpg\\t1\\tSiberian_husky\\t0.767696\\tTrue\\tEskimo_dog\\t0.217079\\tTrue\\tmalamute\\t0.0116568\\tTrue\\n837366284874571778\\thttps://pbs.twimg.com/media/C57sMJwXMAASBSx.jpg\\t1\\tAmerican_Staffordshire_terrier\\t0.660085\\tTrue\\tStaffordshire_bullterrier\\t0.334947\\tTrue\\tdalmatian\\t0.00269716\\tTrue\\n837471256429613056\\thttps://pbs.twimg.com/media/C59LpELWUAEUmYh.jpg\\t1\\tNorwegian_elkhound\\t0.9762549999999999\\tTrue\\tkeeshond\\t0.013990200000000001\\tTrue\\tseat_belt\\t0.00211054\\tFalse\\n837482249356513284\\thttps://pbs.twimg.com/media/C59VqMUXEAAzldG.jpg\\t2\\tbirdhouse\\t0.541196\\tFalse\\tcan_opener\\t0.12109400000000001\\tFalse\\tcarton\\t0.0561367\\tFalse\\n837820167694528512\\thttps://pbs.twimg.com/media/C6CI_jbVAAA3-a1.jpg\\t1\\tgolden_retriever\\t0.887625\\tTrue\\tLabrador_retriever\\t0.0687175\\tTrue\\tkuvasz\\t0.0303868\\tTrue\\n838083903487373313\\thttps://pbs.twimg.com/media/C6F42cGUYAAIKsX.jpg\\t2\\tchow\\t0.800975\\tTrue\\tseat_belt\\t0.164133\\tFalse\\tPomeranian\\t0.017981\\tTrue\\n838476387338051585\\thttps://pbs.twimg.com/media/C6Ld0wYWgAQQqMC.jpg\\t3\\tGreat_Pyrenees\\t0.997692\\tTrue\\tkuvasz\\t0.00100064\\tTrue\\tNewfoundland\\t0.000404556\\tTrue\\n838561493054533637\\thttps://pbs.twimg.com/media/C6MrOsEXQAENOds.jpg\\t1\\tkelpie\\t0.21656199999999998\\tTrue\\tdoormat\\t0.139994\\tFalse\\tdalmatian\\t0.13282\\tTrue\\n838916489579200512\\thttps://pbs.twimg.com/media/C6RkiQZUsAAM4R4.jpg\\t2\\tweb_site\\t0.9936510000000001\\tFalse\\tmonitor\\t0.0014059\\tFalse\\tenvelope\\t0.00109309\\tFalse\\n838921590096166913\\thttps://pbs.twimg.com/media/C6Ryuf7UoAAFX4a.jpg\\t1\\tBorder_terrier\\t0.664538\\tTrue\\tBrabancon_griffon\\t0.170451\\tTrue\\tYorkshire_terrier\\t0.08782360000000002\\tTrue\\n839239871831150596\\thttps://pbs.twimg.com/media/C6WUNadWYAAPxHv.jpg\\t3\\tLeonberg\\t0.9270209999999999\\tTrue\\tNewfoundland\\t0.0500091\\tTrue\\tSaint_Bernard\\t0.0107278\\tTrue\\n839290600511926273\\thttps://pbs.twimg.com/media/C6XBt9XXEAEEW9U.jpg\\t1\\tweb_site\\t0.670892\\tFalse\\tmonitor\\t0.101565\\tFalse\\tscreen\\t0.0753061\\tFalse\\n839549326359670784\\thttps://pbs.twimg.com/media/C6atpTLWYAIL7bU.jpg\\t1\\tswing\\t0.393527\\tFalse\\tNorwich_terrier\\t0.05248\\tTrue\\tPembroke\\t0.049900599999999996\\tTrue\\n839990271299457024\\thttps://pbs.twimg.com/media/C6g-sX-VsAAHfJ9.jpg\\t2\\tStaffordshire_bullterrier\\t0.604938\\tTrue\\tAmerican_Staffordshire_terrier\\t0.31154\\tTrue\\tBoston_bull\\t0.0371591\\tTrue\\n840268004936019968\\thttps://pbs.twimg.com/media/C6k7SaEXUAg83_J.jpg\\t3\\tChesapeake_Bay_retriever\\t0.8639870000000001\\tTrue\\tLabrador_retriever\\t0.0526323\\tTrue\\tkelpie\\t0.0325736\\tTrue\\n840370681858686976\\thttps://pbs.twimg.com/media/C6mYrK0UwAANhep.jpg\\t1\\tteapot\\t0.981819\\tFalse\\tcup\\t0.014025799999999998\\tFalse\\tcoffeepot\\t0.00242054\\tFalse\\n840632337062862849\\thttps://pbs.twimg.com/media/C6qGphPV4AEKrdc.jpg\\t1\\tgolden_retriever\\t0.711148\\tTrue\\tcocker_spaniel\\t0.15792899999999999\\tTrue\\tLabrador_retriever\\t0.05958189999999999\\tTrue\\n840696689258311684\\thttps://pbs.twimg.com/media/C6rBLenU0AAr8MN.jpg\\t1\\tweb_site\\t0.8417680000000001\\tFalse\\trule\\t0.00708731\\tFalse\\tenvelope\\t0.0068203000000000005\\tFalse\\n841077006473256960\\thttps://pbs.twimg.com/media/C6wbE5bXUAAh1Hv.jpg\\t1\\tBrittany_spaniel\\t0.9629850000000001\\tTrue\\tBlenheim_spaniel\\t0.014819999999999998\\tTrue\\tclumber\\t0.00955711\\tTrue\\n841314665196081154\\thttps://pbs.twimg.com/ext_tw_video_thumb/841311812641533952/pu/img/sBUGt8u76n9azPWI.jpg\\t1\\tAfghan_hound\\t0.9037120000000001\\tTrue\\tSaluki\\t0.035214999999999996\\tTrue\\tbloodhound\\t0.0265655\\tTrue\\n841439858740625411\\thttps://pbs.twimg.com/media/C61lFFiWoAAJdiL.jpg\\t3\\tmilitary_uniform\\t0.853684\\tFalse\\tLabrador_retriever\\t0.048199900000000004\\tTrue\\tgroenendael\\t0.015394399999999999\\tTrue\\n841680585030541313\\thttps://pbs.twimg.com/media/C65AA7_WoAEGqA9.jpg\\t1\\tChihuahua\\t0.547401\\tTrue\\tbow_tie\\t0.19836099999999998\\tFalse\\tPembroke\\t0.058492499999999996\\tTrue\\n841833993020538882\\thttps://pbs.twimg.com/ext_tw_video_thumb/817423809049493505/pu/img/5OFW0yueFu9oTUiQ.jpg\\t1\\tice_bear\\t0.3362\\tFalse\\tSamoyed\\t0.20135799999999998\\tTrue\\tEskimo_dog\\t0.186789\\tTrue\\n842115215311396866\\thttps://pbs.twimg.com/media/C6_LTCZWoAAKm_O.jpg\\t1\\tchow\\t0.293493\\tTrue\\tNewfoundland\\t0.181336\\tTrue\\tschipperke\\t0.12515199999999999\\tTrue\\n842163532590374912\\thttps://pbs.twimg.com/media/C6_3QgMWsAMNnAk.jpg\\t2\\tFrench_bulldog\\t0.891227\\tTrue\\tsoccer_ball\\t0.022811\\tFalse\\tbull_mastiff\\t0.012852\\tTrue\\n842535590457499648\\thttps://pbs.twimg.com/media/C7FJpgVW4AIDzi6.jpg\\t1\\tPembroke\\t0.685084\\tTrue\\tCardigan\\t0.314608\\tTrue\\tbasenji\\t0.000159824\\tTrue\\n842765311967449089\\thttps://pbs.twimg.com/media/C7IalMVX0AATKRD.jpg\\t1\\ttub\\t0.665238\\tFalse\\tbucket\\t0.10516600000000001\\tFalse\\tLabrador_retriever\\t0.0293399\\tTrue\\n842846295480000512\\thttps://pbs.twimg.com/media/C7JkO0rX0AErh7X.jpg\\t1\\tLabrador_retriever\\t0.46107600000000004\\tTrue\\tgolden_retriever\\t0.154946\\tTrue\\tChihuahua\\t0.110249\\tTrue\\n842892208864923648\\thttps://pbs.twimg.com/ext_tw_video_thumb/807106774843039744/pu/img/8XZg1xW35Xp2J6JW.jpg\\t1\\tChihuahua\\t0.50537\\tTrue\\tPomeranian\\t0.12035799999999999\\tTrue\\ttoy_terrier\\t0.0770081\\tTrue\\n843235543001513987\\thttps://pbs.twimg.com/media/C7PGQJAWwAAibui.jpg\\t1\\tPembroke\\t0.9584520000000001\\tTrue\\tCardigan\\t0.0237699\\tTrue\\tChihuahua\\t0.00526936\\tTrue\\n843604394117681152\\thttps://pbs.twimg.com/media/C7UVuE_U0AI8GGl.jpg\\t1\\tLabrador_retriever\\t0.430583\\tTrue\\tgolden_retriever\\t0.263581\\tTrue\\tGreat_Pyrenees\\t0.179385\\tTrue\\n843856843873095681\\thttps://pbs.twimg.com/media/C7X7Ui0XgAA3m19.jpg\\t1\\tLabrador_retriever\\t0.9225399999999999\\tTrue\\tgolden_retriever\\t0.0743578\\tTrue\\tGreat_Pyrenees\\t0.00232495\\tTrue\\n844223788422217728\\thttps://pbs.twimg.com/media/C7dJCnqU4AAswat.jpg\\t1\\tLabrador_retriever\\t0.71951\\tTrue\\tChesapeake_Bay_retriever\\t0.122019\\tTrue\\tNewfoundland\\t0.038827600000000004\\tTrue\\n844580511645339650\\thttps://pbs.twimg.com/media/C7iNfq1W0AAcbsR.jpg\\t1\\twasher\\t0.903064\\tFalse\\tdishwasher\\t0.032489\\tFalse\\tprinter\\t0.0164562\\tFalse\\n844704788403113984\\thttps://pbs.twimg.com/media/C7j-hkSW0AIxCZC.jpg\\t1\\tLabrador_retriever\\t0.9802129999999999\\tTrue\\tgolden_retriever\\t0.00701167\\tTrue\\tbeagle\\t0.00314697\\tTrue\\n844973813909606400\\thttps://pbs.twimg.com/media/C7nzMwTV4AARz4t.jpg\\t1\\tLabrador_retriever\\t0.742421\\tTrue\\tgolden_retriever\\t0.195218\\tTrue\\tChihuahua\\t0.017320099999999998\\tTrue\\n844979544864018432\\thttps://pbs.twimg.com/media/C7n4aQ0VAAAohkL.jpg\\t3\\ttennis_ball\\t0.999281\\tFalse\\tracket\\t0.00037008\\tFalse\\tShetland_sheepdog\\t0.000132068\\tTrue\\n845306882940190720\\thttps://pbs.twimg.com/media/C7siH5DXkAACnDT.jpg\\t1\\tIrish_water_spaniel\\t0.567475\\tTrue\\tLabrador_retriever\\t0.169496\\tTrue\\tcurly-coated_retriever\\t0.101518\\tTrue\\n845397057150107648\\thttps://pbs.twimg.com/media/C7t0IzLWkAINoft.jpg\\t1\\tDandie_Dinmont\\t0.394404\\tTrue\\tMaltese_dog\\t0.18653699999999998\\tTrue\\tWest_Highland_white_terrier\\t0.18198499999999998\\tTrue\\n845677943972139009\\thttps://pbs.twimg.com/media/C7xzmngWkAAAp9C.jpg\\t1\\tchow\\t0.8086810000000001\\tTrue\\tgroenendael\\t0.12314100000000001\\tTrue\\tNewfoundland\\t0.022143200000000002\\tTrue\\n845812042753855489\\thttps://pbs.twimg.com/media/C7ztkInW0AEh1CD.jpg\\t1\\tSamoyed\\t0.9798030000000001\\tTrue\\tchow\\t0.0159226\\tTrue\\twhite_wolf\\t0.00130279\\tFalse\\n846042936437604353\\thttps://pbs.twimg.com/media/C72_iaUVUAEhZSn.jpg\\t1\\tgolden_retriever\\t0.96111\\tTrue\\tLabrador_retriever\\t0.0166952\\tTrue\\tTibetan_mastiff\\t0.00908153\\tTrue\\n846153765933735936\\thttps://pbs.twimg.com/media/C74kWqoU8AEaf3v.jpg\\t1\\tgiant_schnauzer\\t0.346468\\tTrue\\tflat-coated_retriever\\t0.21845100000000003\\tTrue\\tLabrador_retriever\\t0.10802\\tTrue\\n846514051647705089\\thttps://pbs.twimg.com/media/C79sB4xXwAEvwKY.jpg\\t2\\tgolden_retriever\\t0.650003\\tTrue\\tLeonberg\\t0.0651992\\tTrue\\tNorfolk_terrier\\t0.0529553\\tTrue\\n846874817362120707\\thttps://pbs.twimg.com/media/C8C0JYHW0AAy-7u.jpg\\t2\\tShetland_sheepdog\\t0.450539\\tTrue\\tpapillon\\t0.18792799999999998\\tTrue\\tcollie\\t0.140068\\tTrue\\n847116187444137987\\thttps://pbs.twimg.com/media/C8GPrNDW4AAkLde.jpg\\t1\\twhite_wolf\\t0.128935\\tFalse\\tAmerican_Staffordshire_terrier\\t0.113434\\tTrue\\tdingo\\t0.0812314\\tFalse\\n847157206088847362\\thttps://pbs.twimg.com/media/C8G0_CMWsAAjjAY.jpg\\t2\\tStaffordshire_bullterrier\\t0.21960900000000003\\tTrue\\tAmerican_Staffordshire_terrier\\t0.178671\\tTrue\\tpug\\t0.123271\\tTrue\\n847251039262605312\\thttps://pbs.twimg.com/media/C8IKUjAUwAEP-En.jpg\\t1\\tAiredale\\t0.49538000000000004\\tTrue\\tIrish_terrier\\t0.316456\\tTrue\\tLakeland_terrier\\t0.15853299999999998\\tTrue\\n847606175596138505\\thttps://pbs.twimg.com/media/C8NNUDBUMAE0XxJ.jpg\\t1\\tCardigan\\t0.413688\\tTrue\\tBoston_bull\\t0.381836\\tTrue\\tdoormat\\t0.0658678\\tFalse\\n847842811428974592\\thttps://pbs.twimg.com/media/C8QkidrVYAQXQh7.jpg\\t1\\tBernese_mountain_dog\\t0.9513370000000001\\tTrue\\tGreater_Swiss_Mountain_dog\\t0.0168491\\tTrue\\tAppenzeller\\t0.0108492\\tTrue\\n847962785489326080\\thttps://pbs.twimg.com/media/C8SRpHNUIAARB3j.jpg\\t1\\tsea_lion\\t0.882654\\tFalse\\tmink\\t0.0668802\\tFalse\\totter\\t0.025678700000000002\\tFalse\\n847971574464610304\\thttps://pbs.twimg.com/media/C8SZH1EWAAAIRRF.jpg\\t1\\tcoffee_mug\\t0.633652\\tFalse\\tcup\\t0.273392\\tFalse\\ttoilet_tissue\\t0.0666558\\tFalse\\n848212111729840128\\thttps://pbs.twimg.com/media/C8V0aI5V0AAgO9m.jpg\\t1\\tBedlington_terrier\\t0.333486\\tTrue\\tIbizan_hound\\t0.245797\\tTrue\\twallaby\\t0.13164700000000001\\tFalse\\n848324959059550208\\thttps://pbs.twimg.com/media/C8XbDR1WAAAxND8.jpg\\t1\\tmalamute\\t0.5445760000000001\\tTrue\\tSiberian_husky\\t0.29026799999999997\\tTrue\\tEskimo_dog\\t0.154421\\tTrue\\n848690551926992896\\thttps://pbs.twimg.com/media/C8cnjHuXsAAoZQf.jpg\\t1\\tflat-coated_retriever\\t0.8236479999999999\\tTrue\\tNewfoundland\\t0.10057100000000001\\tTrue\\tgroenendael\\t0.038309699999999995\\tTrue\\n849051919805034497\\thttps://pbs.twimg.com/media/C8hwNxbXYAAwyVG.jpg\\t1\\tfountain\\t0.997509\\tFalse\\tAmerican_black_bear\\t0.00141312\\tFalse\\tsundial\\t0.000681115\\tFalse\\n849336543269576704\\thttps://pbs.twimg.com/media/C8lzFC4XcAAQxB4.jpg\\t1\\tpatio\\t0.521788\\tFalse\\tprison\\t0.149544\\tFalse\\trestaurant\\t0.027152600000000002\\tFalse\\n849412302885593088\\thttps://pbs.twimg.com/media/C8m3-iQVoAAETnF.jpg\\t4\\tschipperke\\t0.907559\\tTrue\\tcrossword_puzzle\\t0.017933900000000003\\tFalse\\tChihuahua\\t0.016190700000000002\\tTrue\\n849776966551130114\\thttps://pbs.twimg.com/media/C8sDpDWWsAE5P08.jpg\\t2\\tChihuahua\\t0.292092\\tTrue\\ttoy_terrier\\t0.136852\\tTrue\\tbonnet\\t0.103111\\tFalse\\n850019790995546112\\thttps://pbs.twimg.com/media/C8vgfTsXgAA561h.jpg\\t3\\tShetland_sheepdog\\t0.759907\\tTrue\\tcollie\\t0.107405\\tTrue\\tPembroke\\t0.05233530000000001\\tTrue\\n850145622816686080\\thttps://pbs.twimg.com/media/C8xS655XkAAv9vo.jpg\\t2\\ttennis_ball\\t0.7147979999999999\\tFalse\\tkelpie\\t0.10539000000000001\\tTrue\\tmalinois\\t0.05855269999999999\\tTrue\\n850380195714523136\\thttps://pbs.twimg.com/ext_tw_video_thumb/850380153985355777/pu/img/lFouhg-EZvJs8eMr.jpg\\t1\\tYorkshire_terrier\\t0.24901199999999998\\tTrue\\tMaltese_dog\\t0.166364\\tTrue\\tShih-Tzu\\t0.142254\\tTrue\\n850753642995093505\\thttps://pbs.twimg.com/media/C8576jrW0AEYWFy.jpg\\t1\\tpug\\t0.9969520000000001\\tTrue\\tbull_mastiff\\t0.000995901\\tTrue\\tFrench_bulldog\\t0.00088338\\tTrue\\n851224888060895234\\thttps://pbs.twimg.com/media/C9AohFoWsAUmxDs.jpg\\t3\\tcar_mirror\\t0.971512\\tFalse\\tseat_belt\\t0.00706346\\tFalse\\tstandard_poodle\\t0.00568265\\tTrue\\n851464819735769094\\thttps://pbs.twimg.com/media/C9ECujZXsAAPCSM.jpg\\t2\\tweb_site\\t0.9196489999999999\\tFalse\\tmenu\\t0.0263061\\tFalse\\tcrossword_puzzle\\t0.00348151\\tFalse\\n851591660324737024\\thttps://pbs.twimg.com/media/C9F2FG5WAAAJ0iN.jpg\\t1\\tCardigan\\t0.394507\\tTrue\\tChihuahua\\t0.077254\\tTrue\\tFrench_bulldog\\t0.07655880000000001\\tTrue\\n851861385021730816\\thttps://pbs.twimg.com/media/C8W6sY_W0AEmttW.jpg\\t1\\tpencil_box\\t0.662183\\tFalse\\tpurse\\t0.0665055\\tFalse\\tpillow\\t0.0447253\\tFalse\\n851953902622658560\\thttps://pbs.twimg.com/media/C4KHj-nWQAA3poV.jpg\\t1\\tStaffordshire_bullterrier\\t0.757547\\tTrue\\tAmerican_Staffordshire_terrier\\t0.14995\\tTrue\\tChesapeake_Bay_retriever\\t0.047522699999999994\\tTrue\\n852189679701164033\\thttps://pbs.twimg.com/media/C9OV99SXsAEmj1U.jpg\\t1\\tbarrow\\t0.42315\\tFalse\\tBernese_mountain_dog\\t0.41537399999999997\\tTrue\\tEntleBucher\\t0.0673454\\tTrue\\n852226086759018497\\thttps://pbs.twimg.com/ext_tw_video_thumb/852223481894903808/pu/img/JWNq40ol4DXvHoUP.jpg\\t1\\tprison\\t0.35279299999999997\\tFalse\\tdishwasher\\t0.110723\\tFalse\\tfile\\t0.094112\\tFalse\\n852311364735569921\\thttps://pbs.twimg.com/media/C9QEqZ7XYAIR7fS.jpg\\t1\\tbarbell\\t0.9715809999999999\\tFalse\\tdumbbell\\t0.028417900000000003\\tFalse\\tgo-kart\\t5.59504e-07\\tFalse\\n852553447878664193\\thttps://pbs.twimg.com/media/C9Tg1bPW0AkAMDI.jpg\\t1\\tbloodhound\\t0.186498\\tTrue\\tBrabancon_griffon\\t0.13902799999999998\\tTrue\\tRottweiler\\t0.12594\\tTrue\\n852672615818899456\\thttps://pbs.twimg.com/media/C9VNNp1XkAEWRFb.jpg\\t1\\tgolden_retriever\\t0.7112350000000001\\tTrue\\totterhound\\t0.0682347\\tTrue\\tSussex_spaniel\\t0.0465617\\tTrue\\n852912242202992640\\thttps://pbs.twimg.com/media/C9YnKK3VoAAxn1E.jpg\\t1\\tGreat_Dane\\t0.7837649999999999\\tTrue\\tRhodesian_ridgeback\\t0.114147\\tTrue\\tEnglish_foxhound\\t0.0464395\\tTrue\\n853299958564483072\\thttps://pbs.twimg.com/media/C9eHyF7XgAAOxPM.jpg\\t1\\tgrille\\t0.65228\\tFalse\\tbeach_wagon\\t0.112846\\tFalse\\tconvertible\\t0.0862523\\tFalse\\n853639147608842240\\thttps://pbs.twimg.com/media/C9i8RhhXoAAdkMT.jpg\\t1\\tGerman_shepherd\\t0.509879\\tTrue\\tmalinois\\t0.23731100000000002\\tTrue\\tkelpie\\t0.0469162\\tTrue\\n853760880890318849\\thttps://pbs.twimg.com/media/C9kq_bbVwAAuRZd.jpg\\t1\\tminiature_pinscher\\t0.29251900000000003\\tTrue\\tChihuahua\\t0.120946\\tTrue\\tRottweiler\\t0.11949000000000001\\tTrue\\n854010172552949760\\thttps://pbs.twimg.com/media/C9oNt91WAAAFSLS.jpg\\t1\\tEnglish_springer\\t0.35473299999999997\\tTrue\\tcollie\\t0.177538\\tTrue\\tBorder_collie\\t0.131706\\tTrue\\n854120357044912130\\thttps://pbs.twimg.com/media/C9px7jyVwAAnmwN.jpg\\t4\\tblack-and-tan_coonhound\\t0.8548610000000001\\tTrue\\tDoberman\\t0.0507918\\tTrue\\tbluetick\\t0.021761700000000002\\tTrue\\n854365224396361728\\thttps://pbs.twimg.com/media/C9tQokgUIAEETSx.jpg\\t1\\tPembroke\\t0.9070799999999999\\tTrue\\tCardigan\\t0.086272\\tTrue\\tChihuahua\\t0.00141323\\tTrue\\n854482394044301312\\thttps://pbs.twimg.com/media/C9u7MtmV0AA741s.jpg\\t1\\tChihuahua\\t0.26024200000000003\\tTrue\\ttoy_poodle\\t0.189158\\tTrue\\tLabrador_retriever\\t0.14419500000000002\\tTrue\\n854732716440526848\\thttps://pbs.twimg.com/media/C9ye3b3WAAAlTo0.jpg\\t1\\tPembroke\\t0.6955479999999999\\tTrue\\tCardigan\\t0.058901699999999994\\tTrue\\tchow\\t0.0284106\\tTrue\\n855459453768019968\\thttps://pbs.twimg.com/media/C98z1ZAXsAEIFFn.jpg\\t2\\tBlenheim_spaniel\\t0.389513\\tTrue\\tPekinese\\t0.18822\\tTrue\\tJapanese_spaniel\\t0.0826282\\tTrue\\n855851453814013952\\thttps://pbs.twimg.com/media/C-CYWrvWAAU8AXH.jpg\\t1\\tflat-coated_retriever\\t0.321676\\tTrue\\tLabrador_retriever\\t0.115138\\tTrue\\tgroenendael\\t0.0960997\\tTrue\\n856282028240666624\\thttps://pbs.twimg.com/media/C-If9ZwXoAAfDX2.jpg\\t4\\tChihuahua\\t0.8765430000000001\\tTrue\\tItalian_greyhound\\t0.032961800000000006\\tTrue\\tCardigan\\t0.0207759\\tTrue\\n856526610513747968\\thttps://pbs.twimg.com/media/C-L-aIYXgAIR0jY.jpg\\t1\\tOld_English_sheepdog\\t0.798481\\tTrue\\tTibetan_terrier\\t0.0606024\\tTrue\\tstandard_poodle\\t0.0407219\\tTrue\\n856543823941562368\\thttps://pbs.twimg.com/media/C-MOEDCXYAEjp7o.jpg\\t1\\tBoston_bull\\t0.30691\\tTrue\\tSiamese_cat\\t0.191218\\tFalse\\tChihuahua\\t0.189288\\tTrue\\n857029823797047296\\thttps://pbs.twimg.com/media/C-TIEwMW0AEjb55.jpg\\t2\\tgolden_retriever\\t0.968623\\tTrue\\tLabrador_retriever\\t0.010325200000000001\\tTrue\\tSaluki\\t0.00414842\\tTrue\\n857263160327368704\\thttps://pbs.twimg.com/media/C-WcS4MXoAADrBU.jpg\\t1\\tSamoyed\\t0.9980209999999999\\tTrue\\tPomeranian\\t0.0009216360000000001\\tTrue\\tkeeshond\\t0.00031126099999999996\\tTrue\\n857393404942143489\\thttps://pbs.twimg.com/media/C-YSwA_XgAEOr25.jpg\\t3\\tmalamute\\t0.8415969999999999\\tTrue\\tSiberian_husky\\t0.0736435\\tTrue\\tEskimo_dog\\t0.0721286\\tTrue\\n857746408056729600\\thttps://pbs.twimg.com/media/C-dTzBzXUAQRjYz.jpg\\t1\\tLabrador_retriever\\t0.919832\\tTrue\\tbeagle\\t0.043512999999999996\\tTrue\\tgolden_retriever\\t0.0233588\\tTrue\\n857989990357356544\\thttps://pbs.twimg.com/media/C-gxV9ZXkAIBL-S.jpg\\t1\\tFrench_bulldog\\t0.43258\\tTrue\\tEnglish_springer\\t0.325898\\tTrue\\tLakeland_terrier\\t0.0426179\\tTrue\\n858107933456039936\\thttps://pbs.twimg.com/media/C-icm_WXUAAmuRR.jpg\\t1\\tgolden_retriever\\t0.863874\\tTrue\\tLabrador_retriever\\t0.01592\\tTrue\\tdoormat\\t0.0106153\\tFalse\\n858471635011153920\\thttps://pbs.twimg.com/media/C-nnZBdXkAAB-wg.jpg\\t1\\tPembroke\\t0.9874069999999999\\tTrue\\tCardigan\\t0.00872303\\tTrue\\tbasenji\\t0.00342373\\tTrue\\n858843525470990336\\thttps://pbs.twimg.com/media/C-s5oYZXkAAMHHq.jpg\\t1\\tgolden_retriever\\t0.57812\\tTrue\\tLabrador_retriever\\t0.286059\\tTrue\\tbloodhound\\t0.0269173\\tTrue\\n859074603037188101\\thttps://pbs.twimg.com/media/C-wLyufW0AA546I.jpg\\t1\\trevolver\\t0.19029200000000002\\tFalse\\tprojectile\\t0.149064\\tFalse\\tfountain\\t0.0660466\\tFalse\\n859196978902773760\\thttps://pbs.twimg.com/ext_tw_video_thumb/859196962498805762/pu/img/-yBpr4-o4GJZECYE.jpg\\t1\\tAngora\\t0.22421799999999997\\tFalse\\tmalamute\\t0.21616300000000002\\tTrue\\tPersian_cat\\t0.128383\\tFalse\\n859607811541651456\\thttps://pbs.twimg.com/media/C-3wvtxXcAUTuBE.jpg\\t1\\tgolden_retriever\\t0.8955290000000001\\tTrue\\tIrish_setter\\t0.0240993\\tTrue\\tLabrador_retriever\\t0.0192854\\tTrue\\n859851578198683649\\thttps://pbs.twimg.com/media/C-7OcfyXsAAsqzU.jpg\\t4\\tLabrador_retriever\\t0.899086\\tTrue\\tgolden_retriever\\t0.0470908\\tTrue\\tkuvasz\\t0.0232063\\tTrue\\n859924526012018688\\thttps://pbs.twimg.com/media/C-8QypZXcAAekaF.jpg\\t1\\tFrench_bulldog\\t0.254587\\tTrue\\tStaffordshire_bullterrier\\t0.19255799999999998\\tTrue\\thog\\t0.10027\\tFalse\\n860184849394610176\\thttps://pbs.twimg.com/media/C-_9jWWUwAAnwkd.jpg\\t1\\tchimpanzee\\t0.267612\\tFalse\\tgorilla\\t0.10429300000000001\\tFalse\\torangutan\\t0.0599075\\tFalse\\n860276583193509888\\thttps://pbs.twimg.com/media/C_BQ_NlVwAAgYGD.jpg\\t1\\tlakeside\\t0.312299\\tFalse\\tdock\\t0.159842\\tFalse\\tcanoe\\t0.07079450000000001\\tFalse\\n860524505164394496\\thttps://pbs.twimg.com/media/C_EyeKuXkAAdxY-.jpg\\t1\\tBedlington_terrier\\t0.286558\\tTrue\\ttoy_poodle\\t0.23519299999999999\\tTrue\\tLakeland_terrier\\t0.08795069999999999\\tTrue\\n860563773140209665\\thttps://pbs.twimg.com/media/C_FWL0vVwAA13N7.jpg\\t1\\tCardigan\\t0.583936\\tTrue\\tPembroke\\t0.0559794\\tTrue\\tbeagle\\t0.0458957\\tTrue\\n860924035999428608\\thttps://pbs.twimg.com/media/C_KVJjDXsAEUCWn.jpg\\t2\\tenvelope\\t0.933016\\tFalse\\toscilloscope\\t0.0125914\\tFalse\\tpaper_towel\\t0.0111785\\tFalse\\n861005113778896900\\thttps://pbs.twimg.com/media/C_LnlF5VoAEsL1K.jpg\\t1\\tGerman_shepherd\\t0.507951\\tTrue\\tPembroke\\t0.136113\\tTrue\\tmuzzle\\t0.07576419999999999\\tFalse\\n861288531465048066\\thttps://pbs.twimg.com/ext_tw_video_thumb/861288473281437696/pu/img/RERGmRgPyaaaB-tB.jpg\\t1\\tsyringe\\t0.14471199999999998\\tFalse\\toxygen_mask\\t0.10668399999999999\\tFalse\\tBouvier_des_Flandres\\t0.0826102\\tTrue\\n861383897657036800\\thttps://pbs.twimg.com/media/C_RAFTxUAAAbXjV.jpg\\t1\\tCardigan\\t0.771008\\tTrue\\tPembroke\\t0.137174\\tTrue\\tFrench_bulldog\\t0.0633086\\tTrue\\n861769973181624320\\thttps://pbs.twimg.com/media/CzG425nWgAAnP7P.jpg\\t2\\tArabian_camel\\t0.366248\\tFalse\\thouse_finch\\t0.209852\\tFalse\\tcocker_spaniel\\t0.0464032\\tTrue\\n862096992088072192\\thttps://pbs.twimg.com/media/C_bIo7QXYAAGfPu.jpg\\t2\\tchow\\t0.677589\\tTrue\\tPomeranian\\t0.270648\\tTrue\\tPekinese\\t0.0381099\\tTrue\\n862457590147678208\\thttps://pbs.twimg.com/media/C_gQmaTUMAAPYSS.jpg\\t1\\thome_theater\\t0.49634799999999996\\tFalse\\tstudio_couch\\t0.167256\\tFalse\\tbarber_chair\\t0.052625\\tFalse\\n862722525377298433\\thttps://pbs.twimg.com/media/C_kBjuUUIAArs2-.jpg\\t1\\tbasset\\t0.39333\\tTrue\\tbeagle\\t0.24203400000000003\\tTrue\\tboxer\\t0.0776925\\tTrue\\n862831371563274240\\thttps://pbs.twimg.com/media/C_lkieeVwAAm0L4.jpg\\t2\\tAustralian_terrier\\t0.207281\\tTrue\\tIrish_terrier\\t0.156296\\tTrue\\tGerman_shepherd\\t0.12353599999999999\\tTrue\\n863062471531167744\\thttps://pbs.twimg.com/media/C_o2vKCUwAAgtOp.jpg\\t2\\tFrench_bulldog\\t0.9358040000000001\\tTrue\\tpug\\t0.059576199999999996\\tTrue\\tboxer\\t0.00141218\\tTrue\\n863079547188785154\\thttps://pbs.twimg.com/media/C_pGRInUwAAmTY_.jpg\\t1\\tLakeland_terrier\\t0.275242\\tTrue\\tAiredale\\t0.19056900000000002\\tTrue\\tteddy\\t0.102595\\tFalse\\n863432100342583297\\thttps://pbs.twimg.com/media/C_uG6eAUAAAvMvR.jpg\\t1\\tStaffordshire_bullterrier\\t0.690517\\tTrue\\tFrench_bulldog\\t0.10336\\tTrue\\tbeagle\\t0.07948939999999999\\tTrue\\n863553081350529029\\thttps://pbs.twimg.com/ext_tw_video_thumb/863553036815355904/pu/img/B6Dos-XOD8l82tK7.jpg\\t1\\tEskimo_dog\\t0.41333000000000003\\tTrue\\tmalamute\\t0.347646\\tTrue\\tSiberian_husky\\t0.149536\\tTrue\\n863907417377173506\\thttps://pbs.twimg.com/media/C_03NPeUQAAgrMl.jpg\\t1\\tmarmot\\t0.35882800000000004\\tFalse\\tmeerkat\\t0.174703\\tFalse\\tweasel\\t0.123485\\tFalse\\n864197398364647424\\thttps://pbs.twimg.com/media/C_4-8iPV0AA1Twg.jpg\\t4\\tgolden_retriever\\t0.9459049999999999\\tTrue\\tLabrador_retriever\\t0.0212636\\tTrue\\tTibetan_mastiff\\t0.0204928\\tTrue\\n864279568663928832\\thttps://pbs.twimg.com/media/C_6JrWZVwAAHhCD.jpg\\t1\\tbull_mastiff\\t0.668613\\tTrue\\tFrench_bulldog\\t0.180562\\tTrue\\tStaffordshire_bullterrier\\t0.0522374\\tTrue\\n864873206498414592\\thttps://pbs.twimg.com/media/DAClmHkXcAA1kSv.jpg\\t2\\tpole\\t0.478616\\tFalse\\tlakeside\\t0.11418199999999999\\tFalse\\twreck\\t0.0559265\\tFalse\\n865006731092295680\\thttps://pbs.twimg.com/media/DAEfCFXUIAA1uqj.jpg\\t1\\tPembroke\\t0.9898819999999999\\tTrue\\tCardigan\\t0.00990646\\tTrue\\tbasenji\\t0.000134952\\tTrue\\n865359393868664832\\thttps://pbs.twimg.com/media/DAJfxqGVoAAnvQt.jpg\\t2\\tChesapeake_Bay_retriever\\t0.832435\\tTrue\\tLabrador_retriever\\t0.163551\\tTrue\\tWeimaraner\\t0.00277025\\tTrue\\n865718153858494464\\thttps://pbs.twimg.com/media/DAOmEZiXYAAcv2S.jpg\\t1\\tgolden_retriever\\t0.673664\\tTrue\\tkuvasz\\t0.157523\\tTrue\\tLabrador_retriever\\t0.126073\\tTrue\\n866334964761202691\\thttps://pbs.twimg.com/media/DAXXDQNXgAAoYQH.jpg\\t1\\tSamoyed\\t0.984086\\tTrue\\tPomeranian\\t0.00791928\\tTrue\\tkeeshond\\t0.00332813\\tTrue\\n866450705531457537\\thttps://pbs.twimg.com/media/DAZAUfBXcAAG_Nn.jpg\\t2\\tFrench_bulldog\\t0.905334\\tTrue\\tBoston_bull\\t0.0780597\\tTrue\\tpug\\t0.00177092\\tTrue\\n866686824827068416\\thttps://pbs.twimg.com/media/DAcXEWuXkAIBDGJ.jpg\\t1\\tflat-coated_retriever\\t0.51473\\tTrue\\tgroenendael\\t0.30640700000000004\\tTrue\\tcurly-coated_retriever\\t0.061314099999999996\\tTrue\\n867051520902168576\\thttps://pbs.twimg.com/media/DAhiwb0XcAA8x5Q.jpg\\t1\\tSamoyed\\t0.47140299999999996\\tTrue\\tPekinese\\t0.302219\\tTrue\\tPomeranian\\t0.156606\\tTrue\\n867072653475098625\\thttps://pbs.twimg.com/media/DAElHfmUMAEH9lB.jpg\\t1\\tBlenheim_spaniel\\t0.352946\\tTrue\\tpapillon\\t0.21176599999999998\\tTrue\\tPekinese\\t0.112952\\tTrue\\n867421006826221569\\thttps://pbs.twimg.com/media/DAmyy8FXYAIH8Ty.jpg\\t1\\tEskimo_dog\\t0.6164569999999999\\tTrue\\tSiberian_husky\\t0.38133\\tTrue\\tmalamute\\t0.00167022\\tTrue\\n867774946302451713\\thttps://pbs.twimg.com/media/DAr0tDZXUAEMvdu.jpg\\t2\\tBorder_collie\\t0.661953\\tTrue\\tCardigan\\t0.175718\\tTrue\\tcollie\\t0.0871424\\tTrue\\n867900495410671616\\thttps://pbs.twimg.com/media/DAtm5MkXoAA4R6P.jpg\\t1\\tLabrador_retriever\\t0.522644\\tTrue\\tkuvasz\\t0.332461\\tTrue\\tdalmatian\\t0.0320081\\tTrue\\n868552278524837888\\thttps://pbs.twimg.com/media/DA23sCeVoAE3uF0.jpg\\t1\\twhippet\\t0.378151\\tTrue\\tItalian_greyhound\\t0.275935\\tTrue\\tAmerican_Staffordshire_terrier\\t0.09499060000000001\\tTrue\\n868622495443632128\\thttps://pbs.twimg.com/media/DA33i0XXsAEQtCA.jpg\\t1\\tLabrador_retriever\\t0.868107\\tTrue\\tGreat_Pyrenees\\t0.060973\\tTrue\\tSaint_Bernard\\t0.0334889\\tTrue\\n868880397819494401\\thttps://pbs.twimg.com/media/DA7iHL5U0AA1OQo.jpg\\t1\\tlaptop\\t0.153718\\tFalse\\tFrench_bulldog\\t0.0999839\\tTrue\\tprinter\\t0.0771299\\tFalse\\n869227993411051520\\thttps://pbs.twimg.com/media/DBAePiVXcAAqHSR.jpg\\t1\\tPembroke\\t0.664181\\tTrue\\tChihuahua\\t0.169234\\tTrue\\tCardigan\\t0.1327\\tTrue\\n869596645499047938\\thttps://pbs.twimg.com/media/DBFtiYqWAAAsjj1.jpg\\t1\\tChihuahua\\t0.9551559999999999\\tTrue\\ttoy_terrier\\t0.00805373\\tTrue\\tmuzzle\\t0.00629563\\tFalse\\n869702957897576449\\thttps://pbs.twimg.com/media/DBHOOfOXoAABKlU.jpg\\t1\\tPembroke\\t0.993449\\tTrue\\tCardigan\\t0.00632508\\tTrue\\tChihuahua\\t0.000177598\\tTrue\\n869772420881756160\\thttps://pbs.twimg.com/media/DBINZcxXgAQ-R6P.jpg\\t1\\tPembroke\\t0.9801479999999999\\tTrue\\tCardigan\\t0.0192711\\tTrue\\tmalamute\\t0.00013626\\tTrue\\n870063196459192321\\thttps://pbs.twimg.com/media/DBMV3NnXUAAm0Pp.jpg\\t1\\tcomic_book\\t0.534409\\tFalse\\tenvelope\\t0.28072199999999997\\tFalse\\tbook_jacket\\t0.043785500000000005\\tFalse\\n870308999962521604\\thttps://pbs.twimg.com/media/DBP1asiUAAEKZI5.jpg\\t2\\tGreater_Swiss_Mountain_dog\\t0.6227520000000001\\tTrue\\tAppenzeller\\t0.15846300000000002\\tTrue\\tEntleBucher\\t0.148115\\tTrue\\n870374049280663552\\thttps://pbs.twimg.com/media/DBQwlFCXkAACSkI.jpg\\t1\\tgolden_retriever\\t0.841001\\tTrue\\tGreat_Pyrenees\\t0.0992784\\tTrue\\tLabrador_retriever\\t0.0326213\\tTrue\\n870656317836468226\\thttps://pbs.twimg.com/media/DBUxSSTXsAA-Jn1.jpg\\t4\\tPembroke\\t0.9454950000000001\\tTrue\\tCardigan\\t0.0458755\\tTrue\\tbeagle\\t0.00432943\\tTrue\\n870804317367881728\\thttps://pbs.twimg.com/media/DBW35ZsVoAEWZUU.jpg\\t1\\thome_theater\\t0.16829000000000002\\tFalse\\tsandbar\\t0.0980404\\tFalse\\ttelevision\\t0.07972939999999999\\tFalse\\n871032628920680449\\thttps://pbs.twimg.com/media/DBaHi3YXgAE6knM.jpg\\t1\\tkelpie\\t0.39805300000000005\\tTrue\\tmacaque\\t0.0689549\\tFalse\\tdingo\\t0.0506018\\tFalse\\n871515927908634625\\thttps://pbs.twimg.com/media/DBg_HT9WAAEeIMM.jpg\\t2\\tkomondor\\t0.9747809999999999\\tTrue\\tbriard\\t0.020041299999999998\\tTrue\\tswab\\t0.00322824\\tFalse\\n871762521631449091\\thttps://pbs.twimg.com/media/DBkfY58XcAEdzZy.jpg\\t2\\tLabrador_retriever\\t0.921393\\tTrue\\tgolden_retriever\\t0.064608\\tTrue\\tbloodhound\\t0.00338337\\tTrue\\n871879754684805121\\thttps://pbs.twimg.com/media/DBmKAmBXUAE-pQ-.jpg\\t1\\tShetland_sheepdog\\t0.9691709999999999\\tTrue\\tcollie\\t0.0182607\\tTrue\\tPomeranian\\t0.00851534\\tTrue\\n872122724285648897\\thttps://pbs.twimg.com/media/DBpm-5UXcAUeCru.jpg\\t1\\tbasketball\\t0.808396\\tFalse\\tpug\\t0.06673630000000001\\tTrue\\tdalmatian\\t0.054569799999999995\\tTrue\\n872261713294495745\\thttps://pbs.twimg.com/media/DBrlZk2UQAAfAkd.jpg\\t2\\tLabrador_retriever\\t0.9720190000000001\\tTrue\\tflat-coated_retriever\\t0.00817828\\tTrue\\tChesapeake_Bay_retriever\\t0.00735927\\tTrue\\n872486979161796608\\thttps://pbs.twimg.com/media/DBuyRlTUwAAYhG9.jpg\\t1\\tPembroke\\t0.931861\\tTrue\\tCardigan\\t0.037721199999999996\\tTrue\\tChihuahua\\t0.0119667\\tTrue\\n872620804844003328\\thttps://pbs.twimg.com/media/DBwr_hzXkAEnZBW.jpg\\t1\\tcocker_spaniel\\t0.513191\\tTrue\\tSussex_spaniel\\t0.159088\\tTrue\\tstandard_poodle\\t0.149509\\tTrue\\n872820683541237760\\thttps://pbs.twimg.com/media/DBzhx0PWAAEhl0E.jpg\\t3\\tpug\\t0.9991200000000001\\tTrue\\tFrench_bulldog\\t0.00055192\\tTrue\\tbull_mastiff\\t7.28904e-05\\tTrue\\n872967104147763200\\thttps://pbs.twimg.com/media/DB1m871XUAAw5vZ.jpg\\t2\\tLabrador_retriever\\t0.47691300000000003\\tTrue\\tChesapeake_Bay_retriever\\t0.174145\\tTrue\\tGerman_short-haired_pointer\\t0.0928614\\tTrue\\n873213775632977920\\thttps://pbs.twimg.com/media/DB5HTBGXUAE0TiK.jpg\\t1\\tvizsla\\t0.6197819999999999\\tTrue\\tbloodhound\\t0.338069\\tTrue\\tChesapeake_Bay_retriever\\t0.0126763\\tTrue\\n873580283840344065\\thttps://pbs.twimg.com/media/DB-UotKXkAEHXVi.jpg\\t1\\tNewfoundland\\t0.678537\\tTrue\\tTibetan_mastiff\\t0.244022\\tTrue\\tchow\\t0.0485295\\tTrue\\n873697596434513921\\thttps://pbs.twimg.com/media/DA7iHL5U0AA1OQo.jpg\\t1\\tlaptop\\t0.153718\\tFalse\\tFrench_bulldog\\t0.0999839\\tTrue\\tprinter\\t0.0771299\\tFalse\\n874012996292530176\\thttps://pbs.twimg.com/media/DCEeLxjXsAAvNSM.jpg\\t2\\tCardigan\\t0.806674\\tTrue\\tPembroke\\t0.116622\\tTrue\\tkelpie\\t0.0491819\\tTrue\\n874057562936811520\\thttps://pbs.twimg.com/media/DCFGtdoXkAEsqIw.jpg\\t1\\tflat-coated_retriever\\t0.8321770000000001\\tTrue\\tblack-and-tan_coonhound\\t0.040436900000000005\\tTrue\\tNewfoundland\\t0.0282283\\tTrue\\n874296783580663808\\thttps://pbs.twimg.com/media/DCIgSR0XgAANEOY.jpg\\t1\\tcocker_spaniel\\t0.437216\\tTrue\\tminiature_poodle\\t0.27719099999999997\\tTrue\\ttoy_poodle\\t0.157402\\tTrue\\n874680097055178752\\thttps://pbs.twimg.com/media/DCN85nGUwAAzG_q.jpg\\t1\\tLabrador_retriever\\t0.836052\\tTrue\\tStaffordshire_bullterrier\\t0.047069099999999996\\tTrue\\tbeagle\\t0.0360071\\tTrue\\n875021211251597312\\thttps://pbs.twimg.com/media/DCSzF3NVoAAPzT4.jpg\\t2\\tWest_Highland_white_terrier\\t0.7143189999999999\\tTrue\\tSiberian_husky\\t0.0919133\\tTrue\\tGreat_Pyrenees\\t0.046038199999999994\\tTrue\\n875144289856114688\\thttps://pbs.twimg.com/ext_tw_video_thumb/875144175078957056/pu/img/BRi_l7vUdpb93Knf.jpg\\t1\\tSiberian_husky\\t0.245048\\tTrue\\tPembroke\\t0.223716\\tTrue\\tdingo\\t0.160753\\tFalse\\n875747767867523072\\thttps://pbs.twimg.com/media/DCdH8YpUQAAiEbL.jpg\\t1\\tLabrador_retriever\\t0.799551\\tTrue\\tChesapeake_Bay_retriever\\t0.179975\\tTrue\\tvizsla\\t0.0046176\\tTrue\\n876120275196170240\\thttps://pbs.twimg.com/media/DCiavj_UwAAcXep.jpg\\t1\\tBernese_mountain_dog\\t0.534327\\tTrue\\tSaint_Bernard\\t0.346312\\tTrue\\tGreater_Swiss_Mountain_dog\\t0.0949327\\tTrue\\n876484053909872640\\thttps://pbs.twimg.com/media/DCnll_dUQAAkBdG.jpg\\t1\\tgolden_retriever\\t0.874566\\tTrue\\tIrish_terrier\\t0.0373542\\tTrue\\tchow\\t0.016723599999999998\\tTrue\\n876838120628539392\\thttps://pbs.twimg.com/media/DCsnnZsVwAEfkyi.jpg\\t1\\tbloodhound\\t0.575751\\tTrue\\tredbone\\t0.24097\\tTrue\\tTibetan_mastiff\\t0.08893480000000001\\tTrue\\n877201837425926144\\thttps://pbs.twimg.com/media/DCxyahJWsAAddSC.jpg\\t1\\tPembroke\\t0.9311200000000001\\tTrue\\tCardigan\\t0.0686982\\tTrue\\tbasenji\\t8.17379e-05\\tTrue\\n877316821321428993\\thttps://pbs.twimg.com/media/DCza_vtXkAQXGpC.jpg\\t1\\tSaluki\\t0.5099670000000001\\tTrue\\tItalian_greyhound\\t0.0904973\\tTrue\\tgolden_retriever\\t0.0794058\\tTrue\\n877556246731214848\\thttps://pbs.twimg.com/media/DC20wEcW0AAf59m.jpg\\t1\\tbasset\\t0.995368\\tTrue\\tWelsh_springer_spaniel\\t0.00193621\\tTrue\\tbathtub\\t0.000467919\\tFalse\\n877611172832227328\\thttps://pbs.twimg.com/media/DCszHgmW0AAmIpT.jpg\\t1\\tIrish_setter\\t0.36472899999999997\\tTrue\\tgolden_retriever\\t0.202907\\tTrue\\tIrish_terrier\\t0.107473\\tTrue\\n877736472329191424\\thttps://pbs.twimg.com/media/DC5YqoQW0AArOLH.jpg\\t2\\tChesapeake_Bay_retriever\\t0.8379559999999999\\tTrue\\tLabrador_retriever\\t0.0620342\\tTrue\\tWeimaraner\\t0.0405991\\tTrue\\n878057613040115712\\thttps://pbs.twimg.com/media/DC98vABUIAA97pz.jpg\\t1\\tFrench_bulldog\\t0.839097\\tTrue\\tBoston_bull\\t0.07879939999999999\\tTrue\\ttoy_terrier\\t0.015243399999999999\\tTrue\\n878281511006478336\\thttps://pbs.twimg.com/media/DDBIX9QVYAAohGa.jpg\\t1\\tbasset\\t0.32042\\tTrue\\tcollie\\t0.215975\\tTrue\\tAppenzeller\\t0.12850699999999998\\tTrue\\n878776093423087618\\thttps://pbs.twimg.com/media/DDIKMXzW0AEibje.jpg\\t2\\tItalian_greyhound\\t0.734684\\tTrue\\twhippet\\t0.15048699999999998\\tTrue\\tIbizan_hound\\t0.0397246\\tTrue\\n879008229531029506\\thttps://pbs.twimg.com/media/DDLdUrqXYAMOVzY.jpg\\t1\\tvizsla\\t0.960513\\tTrue\\tminiature_pinscher\\t0.00943065\\tTrue\\tAmerican_Staffordshire_terrier\\t0.0087113\\tTrue\\n879050749262655488\\thttps://pbs.twimg.com/media/DDMD_phXoAQ1qf0.jpg\\t1\\ttabby\\t0.311861\\tFalse\\twindow_screen\\t0.169123\\tFalse\\tEgyptian_cat\\t0.132932\\tFalse\\n879376492567855104\\thttps://pbs.twimg.com/media/DDQsQGFV0AAw6u9.jpg\\t1\\ttricycle\\t0.663601\\tFalse\\tLabrador_retriever\\t0.0334961\\tTrue\\tPembroke\\t0.0188266\\tTrue\\n879415818425184262\\thttps://pbs.twimg.com/ext_tw_video_thumb/879415784908390401/pu/img/cX7XI1TnUsseGET5.jpg\\t1\\tEnglish_springer\\t0.383404\\tTrue\\tBoston_bull\\t0.134967\\tTrue\\tCardigan\\t0.110481\\tTrue\\n879492040517615616\\thttps://pbs.twimg.com/media/DDSVWMvXsAEgmMK.jpg\\t1\\tGerman_short-haired_pointer\\t0.479896\\tTrue\\tvizsla\\t0.12435299999999999\\tTrue\\tbath_towel\\t0.0733202\\tFalse\\n879862464715927552\\thttps://pbs.twimg.com/media/DDXmPrbWAAEKMvy.jpg\\t3\\tbasset\\t0.813507\\tTrue\\tbeagle\\t0.146654\\tTrue\\tcocker_spaniel\\t0.00948502\\tTrue\\n880095782870896641\\thttps://pbs.twimg.com/media/DDa6ckbXgAAM1vV.jpg\\t1\\tminiature_pinscher\\t0.120298\\tTrue\\tRhodesian_ridgeback\\t0.106395\\tTrue\\tbeagle\\t0.106073\\tTrue\\n880221127280381952\\thttps://pbs.twimg.com/media/DDcscbXU0AIfDzs.jpg\\t1\\tChihuahua\\t0.238525\\tTrue\\tmeerkat\\t0.104256\\tFalse\\tclumber\\t0.052580299999999996\\tTrue\\n880465832366813184\\thttps://pbs.twimg.com/media/DDgK-J4XUAIEV9W.jpg\\t1\\tgolden_retriever\\t0.9132549999999999\\tTrue\\tLabrador_retriever\\t0.0263286\\tTrue\\tcocker_spaniel\\t0.00937082\\tTrue\\n880872448815771648\\thttps://pbs.twimg.com/media/DDl8zzJW0AAisCJ.jpg\\t1\\tPembroke\\t0.791416\\tTrue\\tNorwich_terrier\\t0.0613929\\tTrue\\tChihuahua\\t0.0337257\\tTrue\\n880935762899988482\\thttps://pbs.twimg.com/media/DDm2Z5aXUAEDS2u.jpg\\t1\\tstreet_sign\\t0.251801\\tFalse\\tumbrella\\t0.115123\\tFalse\\ttraffic_light\\t0.0695338\\tFalse\\n881268444196462592\\thttps://pbs.twimg.com/media/DDrk-f9WAAI-WQv.jpg\\t1\\ttusker\\t0.473303\\tFalse\\tIndian_elephant\\t0.245646\\tFalse\\tibex\\t0.0556607\\tFalse\\n881536004380872706\\thttps://pbs.twimg.com/ext_tw_video_thumb/881535971568889856/pu/img/9bawiZ--8FKywTkz.jpg\\t1\\tSamoyed\\t0.281463\\tTrue\\tAngora\\t0.272066\\tFalse\\tPersian_cat\\t0.114854\\tFalse\\n881666595344535552\\thttps://pbs.twimg.com/media/DDxPFwbWAAEbVVR.jpg\\t1\\tSaluki\\t0.529012\\tTrue\\tAfghan_hound\\t0.25000300000000003\\tTrue\\tgolden_retriever\\t0.16073900000000002\\tTrue\\n881906580714921986\\thttps://pbs.twimg.com/media/DD0pWm9XcAAeSBL.jpg\\t1\\tWeimaraner\\t0.291539\\tTrue\\tChesapeake_Bay_retriever\\t0.278966\\tTrue\\tkoala\\t0.12701700000000002\\tFalse\\n882045870035918850\\thttps://pbs.twimg.com/media/DD2oCl2WAAEI_4a.jpg\\t1\\tweb_site\\t0.949591\\tFalse\\tdhole\\t0.0173258\\tFalse\\tgolden_retriever\\t0.00694063\\tTrue\\n882268110199369728\\thttps://pbs.twimg.com/media/DD5yKdPW0AArzX8.jpg\\t1\\tgolden_retriever\\t0.762211\\tTrue\\tLabrador_retriever\\t0.09898489999999999\\tTrue\\tcocker_spaniel\\t0.0171995\\tTrue\\n882627270321602560\\thttps://pbs.twimg.com/media/DD-40X3WAAAJPU5.jpg\\t1\\tPembroke\\t0.542982\\tTrue\\tChihuahua\\t0.251988\\tTrue\\tCardigan\\t0.107699\\tTrue\\n882762694511734784\\thttps://pbs.twimg.com/media/DEAz_HHXsAA-p_z.jpg\\t1\\tLabrador_retriever\\t0.85005\\tTrue\\tChesapeake_Bay_retriever\\t0.074257\\tTrue\\tflat-coated_retriever\\t0.015579399999999998\\tTrue\\n882992080364220416\\thttps://pbs.twimg.com/media/DEEEnIqXYAAiJh_.jpg\\t1\\tEskimo_dog\\t0.46677799999999997\\tTrue\\tSiberian_husky\\t0.406044\\tTrue\\tdingo\\t0.07341439999999999\\tFalse\\n883117836046086144\\thttps://pbs.twimg.com/media/DEF2-_hXoAAs62q.jpg\\t2\\tgolden_retriever\\t0.9495620000000001\\tTrue\\tLabrador_retriever\\t0.04594790000000001\\tTrue\\tkuvasz\\t0.00247094\\tTrue\\n883360690899218434\\thttps://pbs.twimg.com/media/DEJT3FeXoAAtwUy.jpg\\t1\\tchow\\t0.9879969999999999\\tTrue\\tTibetan_mastiff\\t0.00709872\\tTrue\\tNewfoundland\\t0.00214033\\tTrue\\n883482846933004288\\thttps://pbs.twimg.com/media/DELC9dZXUAADqUk.jpg\\t1\\tgolden_retriever\\t0.943082\\tTrue\\tLabrador_retriever\\t0.032409\\tTrue\\tkuvasz\\t0.00550072\\tTrue\\n883838122936631299\\thttps://pbs.twimg.com/media/DEQGFgAXUAAEvfi.jpg\\t1\\tDoberman\\t0.610946\\tTrue\\tminiature_pinscher\\t0.299603\\tTrue\\tkelpie\\t0.0630203\\tTrue\\n884162670584377345\\thttps://pbs.twimg.com/media/DEUtQbzW0AUTv_o.jpg\\t1\\tGerman_shepherd\\t0.707046\\tTrue\\tmalinois\\t0.199396\\tTrue\\tNorwegian_elkhound\\t0.0491476\\tTrue\\n884441805382717440\\thttps://pbs.twimg.com/media/DEYrIZwWsAA2Wo5.jpg\\t1\\tPembroke\\t0.993225\\tTrue\\tCardigan\\t0.00321648\\tTrue\\tChihuahua\\t0.00208089\\tTrue\\n884562892145688576\\thttps://pbs.twimg.com/media/DEaZQkfXUAEC7qB.jpg\\t1\\tpug\\t0.5464060000000001\\tTrue\\tFrench_bulldog\\t0.404291\\tTrue\\tBrabancon_griffon\\t0.044001900000000004\\tTrue\\n884876753390489601\\thttps://pbs.twimg.com/media/DEe2tZXXkAAwyX3.jpg\\t1\\tchow\\t0.822103\\tTrue\\tNorwich_terrier\\t0.106075\\tTrue\\tNorfolk_terrier\\t0.0373485\\tTrue\\n884925521741709313\\thttps://pbs.twimg.com/media/DEfjEaNXkAAtPlj.jpg\\t1\\tItalian_greyhound\\t0.259916\\tTrue\\tAmerican_Staffordshire_terrier\\t0.198451\\tTrue\\tStaffordshire_bullterrier\\t0.127725\\tTrue\\n885167619883638784\\thttps://pbs.twimg.com/media/DEi_N9qXYAAgEEw.jpg\\t4\\tmalamute\\t0.8124819999999999\\tTrue\\tSiberian_husky\\t0.0717125\\tTrue\\tEskimo_dog\\t0.0557697\\tTrue\\n885311592912609280\\thttps://pbs.twimg.com/media/C4bTH6nWMAAX_bJ.jpg\\t1\\tLabrador_retriever\\t0.908703\\tTrue\\tseat_belt\\t0.0570909\\tFalse\\tpug\\t0.0119335\\tTrue\\n885528943205470208\\thttps://pbs.twimg.com/media/DEoH3yvXgAAzQtS.jpg\\t1\\tpug\\t0.369275\\tTrue\\tLabrador_retriever\\t0.265835\\tTrue\\tkuvasz\\t0.134697\\tTrue\\n885984800019947520\\thttps://pbs.twimg.com/media/DEumeWWV0AA-Z61.jpg\\t1\\tBlenheim_spaniel\\t0.9724940000000001\\tTrue\\tShih-Tzu\\t0.00663012\\tTrue\\tBernese_mountain_dog\\t0.00623915\\tTrue\\n886258384151887873\\thttps://pbs.twimg.com/media/DEyfTG4UMAE4aE9.jpg\\t1\\tpug\\t0.943575\\tTrue\\tshower_cap\\t0.0252856\\tFalse\\tSiamese_cat\\t0.00284892\\tFalse\\n886366144734445568\\thttps://pbs.twimg.com/media/DE0BTnQUwAApKEH.jpg\\t1\\tFrench_bulldog\\t0.999201\\tTrue\\tChihuahua\\t0.00036117800000000003\\tTrue\\tBoston_bull\\t7.55616e-05\\tTrue\\n886680336477933568\\thttps://pbs.twimg.com/media/DE4fEDzWAAAyHMM.jpg\\t1\\tconvertible\\t0.738995\\tFalse\\tsports_car\\t0.139952\\tFalse\\tcar_wheel\\t0.044172699999999995\\tFalse\\n886736880519319552\\thttps://pbs.twimg.com/media/DE5Se8FXcAAJFx4.jpg\\t1\\tkuvasz\\t0.309706\\tTrue\\tGreat_Pyrenees\\t0.186136\\tTrue\\tDandie_Dinmont\\t0.08634630000000001\\tTrue\\n886983233522544640\\thttps://pbs.twimg.com/media/DE8yicJW0AAAvBJ.jpg\\t2\\tChihuahua\\t0.793469\\tTrue\\ttoy_terrier\\t0.143528\\tTrue\\tcan_opener\\t0.0322529\\tFalse\\n887101392804085760\\thttps://pbs.twimg.com/media/DE-eAq6UwAA-jaE.jpg\\t1\\tSamoyed\\t0.733942\\tTrue\\tEskimo_dog\\t0.0350295\\tTrue\\tStaffordshire_bullterrier\\t0.029704700000000004\\tTrue\\n887343217045368832\\thttps://pbs.twimg.com/ext_tw_video_thumb/887343120832229379/pu/img/6HSuFrW1lzI_9Mht.jpg\\t1\\tMexican_hairless\\t0.330741\\tTrue\\tsea_lion\\t0.275645\\tFalse\\tWeimaraner\\t0.134203\\tTrue\\n887473957103951883\\thttps://pbs.twimg.com/media/DFDw2tyUQAAAFke.jpg\\t2\\tPembroke\\t0.809197\\tTrue\\tRhodesian_ridgeback\\t0.05495\\tTrue\\tbeagle\\t0.0389148\\tTrue\\n887517139158093824\\thttps://pbs.twimg.com/ext_tw_video_thumb/887517108413886465/pu/img/WanJKwssZj4VJvL9.jpg\\t1\\tlimousine\\t0.130432\\tFalse\\ttow_truck\\t0.0291754\\tFalse\\tshopping_cart\\t0.0263208\\tFalse\\n887705289381826560\\thttps://pbs.twimg.com/media/DFHDQBbXgAEqY7t.jpg\\t1\\tbasset\\t0.821664\\tTrue\\tredbone\\t0.0875815\\tTrue\\tWeimaraner\\t0.026236400000000003\\tTrue\\n888078434458587136\\thttps://pbs.twimg.com/media/DFMWn56WsAAkA7B.jpg\\t1\\tFrench_bulldog\\t0.9950260000000001\\tTrue\\tpug\\t0.0009319080000000001\\tTrue\\tbull_mastiff\\t0.000903211\\tTrue\\n888202515573088257\\thttps://pbs.twimg.com/media/DFDw2tyUQAAAFke.jpg\\t2\\tPembroke\\t0.809197\\tTrue\\tRhodesian_ridgeback\\t0.05495\\tTrue\\tbeagle\\t0.0389148\\tTrue\\n888554962724278272\\thttps://pbs.twimg.com/media/DFTH_O-UQAACu20.jpg\\t3\\tSiberian_husky\\t0.700377\\tTrue\\tEskimo_dog\\t0.166511\\tTrue\\tmalamute\\t0.111411\\tTrue\\n888804989199671297\\thttps://pbs.twimg.com/media/DFWra-3VYAA2piG.jpg\\t1\\tgolden_retriever\\t0.46976\\tTrue\\tLabrador_retriever\\t0.184172\\tTrue\\tEnglish_setter\\t0.0734817\\tTrue\\n888917238123831296\\thttps://pbs.twimg.com/media/DFYRgsOUQAARGhO.jpg\\t1\\tgolden_retriever\\t0.714719\\tTrue\\tTibetan_mastiff\\t0.12018399999999999\\tTrue\\tLabrador_retriever\\t0.10550599999999999\\tTrue\\n889278841981685760\\thttps://pbs.twimg.com/ext_tw_video_thumb/889278779352338437/pu/img/VlbFB3v8H8VwzVNY.jpg\\t1\\twhippet\\t0.626152\\tTrue\\tborzoi\\t0.194742\\tTrue\\tSaluki\\t0.027350700000000002\\tTrue\\n889531135344209921\\thttps://pbs.twimg.com/media/DFg_2PVW0AEHN3p.jpg\\t1\\tgolden_retriever\\t0.953442\\tTrue\\tLabrador_retriever\\t0.0138341\\tTrue\\tredbone\\t0.00795775\\tTrue\\n889638837579907072\\thttps://pbs.twimg.com/media/DFihzFfXsAYGDPR.jpg\\t1\\tFrench_bulldog\\t0.99165\\tTrue\\tboxer\\t0.00212864\\tTrue\\tStaffordshire_bullterrier\\t0.00149818\\tTrue\\n889665388333682689\\thttps://pbs.twimg.com/media/DFi579UWsAAatzw.jpg\\t1\\tPembroke\\t0.966327\\tTrue\\tCardigan\\t0.0273557\\tTrue\\tbasenji\\t0.00463323\\tTrue\\n889880896479866881\\thttps://pbs.twimg.com/media/DFl99B1WsAITKsg.jpg\\t1\\tFrench_bulldog\\t0.377417\\tTrue\\tLabrador_retriever\\t0.151317\\tTrue\\tmuzzle\\t0.0829811\\tFalse\\n890006608113172480\\thttps://pbs.twimg.com/media/DFnwSY4WAAAMliS.jpg\\t1\\tSamoyed\\t0.9579790000000001\\tTrue\\tPomeranian\\t0.0138835\\tTrue\\tchow\\t0.00816748\\tTrue\\n890240255349198849\\thttps://pbs.twimg.com/media/DFrEyVuW0AAO3t9.jpg\\t1\\tPembroke\\t0.511319\\tTrue\\tCardigan\\t0.451038\\tTrue\\tChihuahua\\t0.029248200000000002\\tTrue\\n890609185150312448\\thttps://pbs.twimg.com/media/DFwUU__XcAEpyXI.jpg\\t1\\tIrish_terrier\\t0.48757399999999995\\tTrue\\tIrish_setter\\t0.193054\\tTrue\\tChesapeake_Bay_retriever\\t0.118184\\tTrue\\n890729181411237888\\thttps://pbs.twimg.com/media/DFyBahAVwAAhUTd.jpg\\t2\\tPomeranian\\t0.566142\\tTrue\\tEskimo_dog\\t0.17840599999999998\\tTrue\\tPembroke\\t0.0765069\\tTrue\\n890971913173991426\\thttps://pbs.twimg.com/media/DF1eOmZXUAALUcq.jpg\\t1\\tAppenzeller\\t0.34170300000000003\\tTrue\\tBorder_collie\\t0.199287\\tTrue\\tice_lolly\\t0.193548\\tFalse\\n891087950875897856\\thttps://pbs.twimg.com/media/DF3HwyEWsAABqE6.jpg\\t1\\tChesapeake_Bay_retriever\\t0.425595\\tTrue\\tIrish_terrier\\t0.116317\\tTrue\\tIndian_elephant\\t0.07690219999999999\\tFalse\\n891327558926688256\\thttps://pbs.twimg.com/media/DF6hr6BUMAAzZgT.jpg\\t2\\tbasset\\t0.555712\\tTrue\\tEnglish_springer\\t0.22576999999999997\\tTrue\\tGerman_short-haired_pointer\\t0.175219\\tTrue\\n891689557279858688\\thttps://pbs.twimg.com/media/DF_q7IAWsAEuuN8.jpg\\t1\\tpaper_towel\\t0.17027799999999998\\tFalse\\tLabrador_retriever\\t0.16808599999999999\\tTrue\\tspatula\\t0.0408359\\tFalse\\n891815181378084864\\thttps://pbs.twimg.com/media/DGBdLU1WsAANxJ9.jpg\\t1\\tChihuahua\\t0.716012\\tTrue\\tmalamute\\t0.078253\\tTrue\\tkelpie\\t0.0313789\\tTrue\\n892177421306343426\\thttps://pbs.twimg.com/media/DGGmoV4XsAAUL6n.jpg\\t1\\tChihuahua\\t0.323581\\tTrue\\tPekinese\\t0.0906465\\tTrue\\tpapillon\\t0.0689569\\tTrue\\n892420643555336193\\thttps://pbs.twimg.com/media/DGKD1-bXoAAIAUK.jpg\\t1\\torange\\t0.09704860000000001\\tFalse\\tbagel\\t0.08585110000000001\\tFalse\\tbanana\\t0.07611\\tFalse\\n\""
      ]
     },
     "execution_count": 7,
     "metadata": {},
     "output_type": "execute_result"
    }
   ],
   "source": [
    "content"
   ]
  },
  {
   "cell_type": "code",
   "execution_count": 8,
   "metadata": {},
   "outputs": [],
   "source": [
    "with open(\"image-predictions-tsv\", \"wb\") as file:\n",
    "    file.write(content)\n",
    "        "
   ]
  },
  {
   "cell_type": "code",
   "execution_count": 9,
   "metadata": {},
   "outputs": [],
   "source": [
    "image_predictions=pd.read_csv(\"image-predictions-tsv\", sep=\"\\t\")"
   ]
  },
  {
   "cell_type": "code",
   "execution_count": 10,
   "metadata": {},
   "outputs": [
    {
     "data": {
      "text/html": [
       "<div>\n",
       "<style scoped>\n",
       "    .dataframe tbody tr th:only-of-type {\n",
       "        vertical-align: middle;\n",
       "    }\n",
       "\n",
       "    .dataframe tbody tr th {\n",
       "        vertical-align: top;\n",
       "    }\n",
       "\n",
       "    .dataframe thead th {\n",
       "        text-align: right;\n",
       "    }\n",
       "</style>\n",
       "<table border=\"1\" class=\"dataframe\">\n",
       "  <thead>\n",
       "    <tr style=\"text-align: right;\">\n",
       "      <th></th>\n",
       "      <th>tweet_id</th>\n",
       "      <th>jpg_url</th>\n",
       "      <th>img_num</th>\n",
       "      <th>p1</th>\n",
       "      <th>p1_conf</th>\n",
       "      <th>p1_dog</th>\n",
       "      <th>p2</th>\n",
       "      <th>p2_conf</th>\n",
       "      <th>p2_dog</th>\n",
       "      <th>p3</th>\n",
       "      <th>p3_conf</th>\n",
       "      <th>p3_dog</th>\n",
       "    </tr>\n",
       "  </thead>\n",
       "  <tbody>\n",
       "    <tr>\n",
       "      <th>0</th>\n",
       "      <td>666020888022790149</td>\n",
       "      <td>https://pbs.twimg.com/media/CT4udn0WwAA0aMy.jpg</td>\n",
       "      <td>1</td>\n",
       "      <td>Welsh_springer_spaniel</td>\n",
       "      <td>0.465074</td>\n",
       "      <td>True</td>\n",
       "      <td>collie</td>\n",
       "      <td>0.156665</td>\n",
       "      <td>True</td>\n",
       "      <td>Shetland_sheepdog</td>\n",
       "      <td>0.061428</td>\n",
       "      <td>True</td>\n",
       "    </tr>\n",
       "    <tr>\n",
       "      <th>1</th>\n",
       "      <td>666029285002620928</td>\n",
       "      <td>https://pbs.twimg.com/media/CT42GRgUYAA5iDo.jpg</td>\n",
       "      <td>1</td>\n",
       "      <td>redbone</td>\n",
       "      <td>0.506826</td>\n",
       "      <td>True</td>\n",
       "      <td>miniature_pinscher</td>\n",
       "      <td>0.074192</td>\n",
       "      <td>True</td>\n",
       "      <td>Rhodesian_ridgeback</td>\n",
       "      <td>0.072010</td>\n",
       "      <td>True</td>\n",
       "    </tr>\n",
       "    <tr>\n",
       "      <th>2</th>\n",
       "      <td>666033412701032449</td>\n",
       "      <td>https://pbs.twimg.com/media/CT4521TWwAEvMyu.jpg</td>\n",
       "      <td>1</td>\n",
       "      <td>German_shepherd</td>\n",
       "      <td>0.596461</td>\n",
       "      <td>True</td>\n",
       "      <td>malinois</td>\n",
       "      <td>0.138584</td>\n",
       "      <td>True</td>\n",
       "      <td>bloodhound</td>\n",
       "      <td>0.116197</td>\n",
       "      <td>True</td>\n",
       "    </tr>\n",
       "    <tr>\n",
       "      <th>3</th>\n",
       "      <td>666044226329800704</td>\n",
       "      <td>https://pbs.twimg.com/media/CT5Dr8HUEAA-lEu.jpg</td>\n",
       "      <td>1</td>\n",
       "      <td>Rhodesian_ridgeback</td>\n",
       "      <td>0.408143</td>\n",
       "      <td>True</td>\n",
       "      <td>redbone</td>\n",
       "      <td>0.360687</td>\n",
       "      <td>True</td>\n",
       "      <td>miniature_pinscher</td>\n",
       "      <td>0.222752</td>\n",
       "      <td>True</td>\n",
       "    </tr>\n",
       "    <tr>\n",
       "      <th>4</th>\n",
       "      <td>666049248165822465</td>\n",
       "      <td>https://pbs.twimg.com/media/CT5IQmsXIAAKY4A.jpg</td>\n",
       "      <td>1</td>\n",
       "      <td>miniature_pinscher</td>\n",
       "      <td>0.560311</td>\n",
       "      <td>True</td>\n",
       "      <td>Rottweiler</td>\n",
       "      <td>0.243682</td>\n",
       "      <td>True</td>\n",
       "      <td>Doberman</td>\n",
       "      <td>0.154629</td>\n",
       "      <td>True</td>\n",
       "    </tr>\n",
       "  </tbody>\n",
       "</table>\n",
       "</div>"
      ],
      "text/plain": [
       "             tweet_id                                          jpg_url  \\\n",
       "0  666020888022790149  https://pbs.twimg.com/media/CT4udn0WwAA0aMy.jpg   \n",
       "1  666029285002620928  https://pbs.twimg.com/media/CT42GRgUYAA5iDo.jpg   \n",
       "2  666033412701032449  https://pbs.twimg.com/media/CT4521TWwAEvMyu.jpg   \n",
       "3  666044226329800704  https://pbs.twimg.com/media/CT5Dr8HUEAA-lEu.jpg   \n",
       "4  666049248165822465  https://pbs.twimg.com/media/CT5IQmsXIAAKY4A.jpg   \n",
       "\n",
       "   img_num                      p1   p1_conf  p1_dog                  p2  \\\n",
       "0        1  Welsh_springer_spaniel  0.465074    True              collie   \n",
       "1        1                 redbone  0.506826    True  miniature_pinscher   \n",
       "2        1         German_shepherd  0.596461    True            malinois   \n",
       "3        1     Rhodesian_ridgeback  0.408143    True             redbone   \n",
       "4        1      miniature_pinscher  0.560311    True          Rottweiler   \n",
       "\n",
       "    p2_conf  p2_dog                   p3   p3_conf  p3_dog  \n",
       "0  0.156665    True    Shetland_sheepdog  0.061428    True  \n",
       "1  0.074192    True  Rhodesian_ridgeback  0.072010    True  \n",
       "2  0.138584    True           bloodhound  0.116197    True  \n",
       "3  0.360687    True   miniature_pinscher  0.222752    True  \n",
       "4  0.243682    True             Doberman  0.154629    True  "
      ]
     },
     "execution_count": 10,
     "metadata": {},
     "output_type": "execute_result"
    }
   ],
   "source": [
    "image_predictions.head()"
   ]
  },
  {
   "cell_type": "markdown",
   "metadata": {},
   "source": [
    "3. Use the Tweepy library to query additional data via the Twitter API (tweet_json.txt)"
   ]
  },
  {
   "cell_type": "code",
   "execution_count": 11,
   "metadata": {},
   "outputs": [
    {
     "data": {
      "text/plain": [
       "(2075, 12)"
      ]
     },
     "execution_count": 11,
     "metadata": {},
     "output_type": "execute_result"
    }
   ],
   "source": [
    "image_predictions.shape"
   ]
  },
  {
   "cell_type": "code",
   "execution_count": 12,
   "metadata": {},
   "outputs": [],
   "source": [
    "import tweepy\n",
    "import configparser"
   ]
  },
  {
   "cell_type": "code",
   "execution_count": 13,
   "metadata": {},
   "outputs": [],
   "source": [
    "config=configparser.ConfigParser()"
   ]
  },
  {
   "cell_type": "code",
   "execution_count": 14,
   "metadata": {
    "scrolled": false
   },
   "outputs": [
    {
     "data": {
      "text/plain": [
       "['config.ini']"
      ]
     },
     "execution_count": 14,
     "metadata": {},
     "output_type": "execute_result"
    }
   ],
   "source": [
    "config.read(\"config.ini\")"
   ]
  },
  {
   "cell_type": "code",
   "execution_count": 15,
   "metadata": {},
   "outputs": [
    {
     "data": {
      "text/plain": [
       "<configparser.ConfigParser at 0x287083725b0>"
      ]
     },
     "execution_count": 15,
     "metadata": {},
     "output_type": "execute_result"
    }
   ],
   "source": [
    "config"
   ]
  },
  {
   "cell_type": "code",
   "execution_count": 16,
   "metadata": {},
   "outputs": [],
   "source": [
    "api_key=config[\"twitter\"][\"API Key\"]\n",
    "api_key_secret=config[\"twitter\"][\"API Key Secret\"]\n",
    "access_token=config[\"twitter\"][\"Access Token\"]\n",
    "access_token_secret=config[\"twitter\"][\"Access Token Secret\"]"
   ]
  },
  {
   "cell_type": "code",
   "execution_count": 17,
   "metadata": {},
   "outputs": [],
   "source": [
    "auth=tweepy.OAuthHandler(api_key,api_key_secret)\n",
    "auth.set_access_token(access_token,access_token_secret)"
   ]
  },
  {
   "cell_type": "code",
   "execution_count": 18,
   "metadata": {},
   "outputs": [],
   "source": [
    "api=tweepy.API(auth)"
   ]
  },
  {
   "cell_type": "code",
   "execution_count": 19,
   "metadata": {},
   "outputs": [],
   "source": [
    "one=api.get_status(666020888022790149)"
   ]
  },
  {
   "cell_type": "code",
   "execution_count": 20,
   "metadata": {},
   "outputs": [
    {
     "data": {
      "text/plain": [
       "Status(_api=<tweepy.api.API object at 0x000002870837F4F0>, _json={'created_at': 'Sun Nov 15 22:32:08 +0000 2015', 'id': 666020888022790149, 'id_str': '666020888022790149', 'text': 'Here we have a Japanese Irish Setter. Lost eye in Vietnam (?). Big fan of relaxing on stair. 8/10 would pet https://t.co/BLDqew2Ijj', 'truncated': False, 'entities': {'hashtags': [], 'symbols': [], 'user_mentions': [], 'urls': [], 'media': [{'id': 666020881337073664, 'id_str': '666020881337073664', 'indices': [108, 131], 'media_url': 'http://pbs.twimg.com/media/CT4udn0WwAA0aMy.jpg', 'media_url_https': 'https://pbs.twimg.com/media/CT4udn0WwAA0aMy.jpg', 'url': 'https://t.co/BLDqew2Ijj', 'display_url': 'pic.twitter.com/BLDqew2Ijj', 'expanded_url': 'https://twitter.com/dog_rates/status/666020888022790149/photo/1', 'type': 'photo', 'sizes': {'medium': {'w': 960, 'h': 720, 'resize': 'fit'}, 'thumb': {'w': 150, 'h': 150, 'resize': 'crop'}, 'large': {'w': 960, 'h': 720, 'resize': 'fit'}, 'small': {'w': 680, 'h': 510, 'resize': 'fit'}}}]}, 'extended_entities': {'media': [{'id': 666020881337073664, 'id_str': '666020881337073664', 'indices': [108, 131], 'media_url': 'http://pbs.twimg.com/media/CT4udn0WwAA0aMy.jpg', 'media_url_https': 'https://pbs.twimg.com/media/CT4udn0WwAA0aMy.jpg', 'url': 'https://t.co/BLDqew2Ijj', 'display_url': 'pic.twitter.com/BLDqew2Ijj', 'expanded_url': 'https://twitter.com/dog_rates/status/666020888022790149/photo/1', 'type': 'photo', 'sizes': {'medium': {'w': 960, 'h': 720, 'resize': 'fit'}, 'thumb': {'w': 150, 'h': 150, 'resize': 'crop'}, 'large': {'w': 960, 'h': 720, 'resize': 'fit'}, 'small': {'w': 680, 'h': 510, 'resize': 'fit'}}}]}, 'source': '<a href=\"http://twitter.com/download/iphone\" rel=\"nofollow\">Twitter for iPhone</a>', 'in_reply_to_status_id': None, 'in_reply_to_status_id_str': None, 'in_reply_to_user_id': None, 'in_reply_to_user_id_str': None, 'in_reply_to_screen_name': None, 'user': {'id': 4196983835, 'id_str': '4196983835', 'name': 'WeRateDogs®', 'screen_name': 'dog_rates', 'location': 'all our links ➜', 'description': 'Your Only Source For Professional Dog Ratings Instagram and Facebook ➜ WeRateDogs partnerships@weratedogs.com | nonprofit: @15outof10 ⠀⠀⠀⠀⠀⠀⠀⠀⠀⠀⠀⠀', 'url': 'https://t.co/YPc2Xq4Va2', 'entities': {'url': {'urls': [{'url': 'https://t.co/YPc2Xq4Va2', 'expanded_url': 'http://links.weratedogs.com', 'display_url': 'links.weratedogs.com', 'indices': [0, 23]}]}, 'description': {'urls': []}}, 'protected': False, 'followers_count': 9363471, 'friends_count': 21, 'listed_count': 7624, 'created_at': 'Sun Nov 15 21:41:29 +0000 2015', 'favourites_count': 147604, 'utc_offset': None, 'time_zone': None, 'geo_enabled': True, 'verified': True, 'statuses_count': 16216, 'lang': None, 'contributors_enabled': False, 'is_translator': False, 'is_translation_enabled': False, 'profile_background_color': '000000', 'profile_background_image_url': 'http://abs.twimg.com/images/themes/theme1/bg.png', 'profile_background_image_url_https': 'https://abs.twimg.com/images/themes/theme1/bg.png', 'profile_background_tile': False, 'profile_image_url': 'http://pbs.twimg.com/profile_images/1552995729014247425/TaJbIdmK_normal.jpg', 'profile_image_url_https': 'https://pbs.twimg.com/profile_images/1552995729014247425/TaJbIdmK_normal.jpg', 'profile_banner_url': 'https://pbs.twimg.com/profile_banners/4196983835/1661991479', 'profile_link_color': 'F5ABB5', 'profile_sidebar_border_color': '000000', 'profile_sidebar_fill_color': '000000', 'profile_text_color': '000000', 'profile_use_background_image': False, 'has_extended_profile': False, 'default_profile': False, 'default_profile_image': False, 'following': False, 'follow_request_sent': False, 'notifications': False, 'translator_type': 'none', 'withheld_in_countries': []}, 'geo': None, 'coordinates': None, 'place': None, 'contributors': None, 'is_quote_status': False, 'retweet_count': 419, 'favorite_count': 2282, 'favorited': False, 'retweeted': False, 'possibly_sensitive': False, 'possibly_sensitive_appealable': False, 'lang': 'en'}, created_at=datetime.datetime(2015, 11, 15, 22, 32, 8, tzinfo=datetime.timezone.utc), id=666020888022790149, id_str='666020888022790149', text='Here we have a Japanese Irish Setter. Lost eye in Vietnam (?). Big fan of relaxing on stair. 8/10 would pet https://t.co/BLDqew2Ijj', truncated=False, entities={'hashtags': [], 'symbols': [], 'user_mentions': [], 'urls': [], 'media': [{'id': 666020881337073664, 'id_str': '666020881337073664', 'indices': [108, 131], 'media_url': 'http://pbs.twimg.com/media/CT4udn0WwAA0aMy.jpg', 'media_url_https': 'https://pbs.twimg.com/media/CT4udn0WwAA0aMy.jpg', 'url': 'https://t.co/BLDqew2Ijj', 'display_url': 'pic.twitter.com/BLDqew2Ijj', 'expanded_url': 'https://twitter.com/dog_rates/status/666020888022790149/photo/1', 'type': 'photo', 'sizes': {'medium': {'w': 960, 'h': 720, 'resize': 'fit'}, 'thumb': {'w': 150, 'h': 150, 'resize': 'crop'}, 'large': {'w': 960, 'h': 720, 'resize': 'fit'}, 'small': {'w': 680, 'h': 510, 'resize': 'fit'}}}]}, extended_entities={'media': [{'id': 666020881337073664, 'id_str': '666020881337073664', 'indices': [108, 131], 'media_url': 'http://pbs.twimg.com/media/CT4udn0WwAA0aMy.jpg', 'media_url_https': 'https://pbs.twimg.com/media/CT4udn0WwAA0aMy.jpg', 'url': 'https://t.co/BLDqew2Ijj', 'display_url': 'pic.twitter.com/BLDqew2Ijj', 'expanded_url': 'https://twitter.com/dog_rates/status/666020888022790149/photo/1', 'type': 'photo', 'sizes': {'medium': {'w': 960, 'h': 720, 'resize': 'fit'}, 'thumb': {'w': 150, 'h': 150, 'resize': 'crop'}, 'large': {'w': 960, 'h': 720, 'resize': 'fit'}, 'small': {'w': 680, 'h': 510, 'resize': 'fit'}}}]}, source='Twitter for iPhone', source_url='http://twitter.com/download/iphone', in_reply_to_status_id=None, in_reply_to_status_id_str=None, in_reply_to_user_id=None, in_reply_to_user_id_str=None, in_reply_to_screen_name=None, author=User(_api=<tweepy.api.API object at 0x000002870837F4F0>, _json={'id': 4196983835, 'id_str': '4196983835', 'name': 'WeRateDogs®', 'screen_name': 'dog_rates', 'location': 'all our links ➜', 'description': 'Your Only Source For Professional Dog Ratings Instagram and Facebook ➜ WeRateDogs partnerships@weratedogs.com | nonprofit: @15outof10 ⠀⠀⠀⠀⠀⠀⠀⠀⠀⠀⠀⠀', 'url': 'https://t.co/YPc2Xq4Va2', 'entities': {'url': {'urls': [{'url': 'https://t.co/YPc2Xq4Va2', 'expanded_url': 'http://links.weratedogs.com', 'display_url': 'links.weratedogs.com', 'indices': [0, 23]}]}, 'description': {'urls': []}}, 'protected': False, 'followers_count': 9363471, 'friends_count': 21, 'listed_count': 7624, 'created_at': 'Sun Nov 15 21:41:29 +0000 2015', 'favourites_count': 147604, 'utc_offset': None, 'time_zone': None, 'geo_enabled': True, 'verified': True, 'statuses_count': 16216, 'lang': None, 'contributors_enabled': False, 'is_translator': False, 'is_translation_enabled': False, 'profile_background_color': '000000', 'profile_background_image_url': 'http://abs.twimg.com/images/themes/theme1/bg.png', 'profile_background_image_url_https': 'https://abs.twimg.com/images/themes/theme1/bg.png', 'profile_background_tile': False, 'profile_image_url': 'http://pbs.twimg.com/profile_images/1552995729014247425/TaJbIdmK_normal.jpg', 'profile_image_url_https': 'https://pbs.twimg.com/profile_images/1552995729014247425/TaJbIdmK_normal.jpg', 'profile_banner_url': 'https://pbs.twimg.com/profile_banners/4196983835/1661991479', 'profile_link_color': 'F5ABB5', 'profile_sidebar_border_color': '000000', 'profile_sidebar_fill_color': '000000', 'profile_text_color': '000000', 'profile_use_background_image': False, 'has_extended_profile': False, 'default_profile': False, 'default_profile_image': False, 'following': False, 'follow_request_sent': False, 'notifications': False, 'translator_type': 'none', 'withheld_in_countries': []}, id=4196983835, id_str='4196983835', name='WeRateDogs®', screen_name='dog_rates', location='all our links ➜', description='Your Only Source For Professional Dog Ratings Instagram and Facebook ➜ WeRateDogs partnerships@weratedogs.com | nonprofit: @15outof10 ⠀⠀⠀⠀⠀⠀⠀⠀⠀⠀⠀⠀', url='https://t.co/YPc2Xq4Va2', entities={'url': {'urls': [{'url': 'https://t.co/YPc2Xq4Va2', 'expanded_url': 'http://links.weratedogs.com', 'display_url': 'links.weratedogs.com', 'indices': [0, 23]}]}, 'description': {'urls': []}}, protected=False, followers_count=9363471, friends_count=21, listed_count=7624, created_at=datetime.datetime(2015, 11, 15, 21, 41, 29, tzinfo=datetime.timezone.utc), favourites_count=147604, utc_offset=None, time_zone=None, geo_enabled=True, verified=True, statuses_count=16216, lang=None, contributors_enabled=False, is_translator=False, is_translation_enabled=False, profile_background_color='000000', profile_background_image_url='http://abs.twimg.com/images/themes/theme1/bg.png', profile_background_image_url_https='https://abs.twimg.com/images/themes/theme1/bg.png', profile_background_tile=False, profile_image_url='http://pbs.twimg.com/profile_images/1552995729014247425/TaJbIdmK_normal.jpg', profile_image_url_https='https://pbs.twimg.com/profile_images/1552995729014247425/TaJbIdmK_normal.jpg', profile_banner_url='https://pbs.twimg.com/profile_banners/4196983835/1661991479', profile_link_color='F5ABB5', profile_sidebar_border_color='000000', profile_sidebar_fill_color='000000', profile_text_color='000000', profile_use_background_image=False, has_extended_profile=False, default_profile=False, default_profile_image=False, following=False, follow_request_sent=False, notifications=False, translator_type='none', withheld_in_countries=[]), user=User(_api=<tweepy.api.API object at 0x000002870837F4F0>, _json={'id': 4196983835, 'id_str': '4196983835', 'name': 'WeRateDogs®', 'screen_name': 'dog_rates', 'location': 'all our links ➜', 'description': 'Your Only Source For Professional Dog Ratings Instagram and Facebook ➜ WeRateDogs partnerships@weratedogs.com | nonprofit: @15outof10 ⠀⠀⠀⠀⠀⠀⠀⠀⠀⠀⠀⠀', 'url': 'https://t.co/YPc2Xq4Va2', 'entities': {'url': {'urls': [{'url': 'https://t.co/YPc2Xq4Va2', 'expanded_url': 'http://links.weratedogs.com', 'display_url': 'links.weratedogs.com', 'indices': [0, 23]}]}, 'description': {'urls': []}}, 'protected': False, 'followers_count': 9363471, 'friends_count': 21, 'listed_count': 7624, 'created_at': 'Sun Nov 15 21:41:29 +0000 2015', 'favourites_count': 147604, 'utc_offset': None, 'time_zone': None, 'geo_enabled': True, 'verified': True, 'statuses_count': 16216, 'lang': None, 'contributors_enabled': False, 'is_translator': False, 'is_translation_enabled': False, 'profile_background_color': '000000', 'profile_background_image_url': 'http://abs.twimg.com/images/themes/theme1/bg.png', 'profile_background_image_url_https': 'https://abs.twimg.com/images/themes/theme1/bg.png', 'profile_background_tile': False, 'profile_image_url': 'http://pbs.twimg.com/profile_images/1552995729014247425/TaJbIdmK_normal.jpg', 'profile_image_url_https': 'https://pbs.twimg.com/profile_images/1552995729014247425/TaJbIdmK_normal.jpg', 'profile_banner_url': 'https://pbs.twimg.com/profile_banners/4196983835/1661991479', 'profile_link_color': 'F5ABB5', 'profile_sidebar_border_color': '000000', 'profile_sidebar_fill_color': '000000', 'profile_text_color': '000000', 'profile_use_background_image': False, 'has_extended_profile': False, 'default_profile': False, 'default_profile_image': False, 'following': False, 'follow_request_sent': False, 'notifications': False, 'translator_type': 'none', 'withheld_in_countries': []}, id=4196983835, id_str='4196983835', name='WeRateDogs®', screen_name='dog_rates', location='all our links ➜', description='Your Only Source For Professional Dog Ratings Instagram and Facebook ➜ WeRateDogs partnerships@weratedogs.com | nonprofit: @15outof10 ⠀⠀⠀⠀⠀⠀⠀⠀⠀⠀⠀⠀', url='https://t.co/YPc2Xq4Va2', entities={'url': {'urls': [{'url': 'https://t.co/YPc2Xq4Va2', 'expanded_url': 'http://links.weratedogs.com', 'display_url': 'links.weratedogs.com', 'indices': [0, 23]}]}, 'description': {'urls': []}}, protected=False, followers_count=9363471, friends_count=21, listed_count=7624, created_at=datetime.datetime(2015, 11, 15, 21, 41, 29, tzinfo=datetime.timezone.utc), favourites_count=147604, utc_offset=None, time_zone=None, geo_enabled=True, verified=True, statuses_count=16216, lang=None, contributors_enabled=False, is_translator=False, is_translation_enabled=False, profile_background_color='000000', profile_background_image_url='http://abs.twimg.com/images/themes/theme1/bg.png', profile_background_image_url_https='https://abs.twimg.com/images/themes/theme1/bg.png', profile_background_tile=False, profile_image_url='http://pbs.twimg.com/profile_images/1552995729014247425/TaJbIdmK_normal.jpg', profile_image_url_https='https://pbs.twimg.com/profile_images/1552995729014247425/TaJbIdmK_normal.jpg', profile_banner_url='https://pbs.twimg.com/profile_banners/4196983835/1661991479', profile_link_color='F5ABB5', profile_sidebar_border_color='000000', profile_sidebar_fill_color='000000', profile_text_color='000000', profile_use_background_image=False, has_extended_profile=False, default_profile=False, default_profile_image=False, following=False, follow_request_sent=False, notifications=False, translator_type='none', withheld_in_countries=[]), geo=None, coordinates=None, place=None, contributors=None, is_quote_status=False, retweet_count=419, favorite_count=2282, favorited=False, retweeted=False, possibly_sensitive=False, possibly_sensitive_appealable=False, lang='en')"
      ]
     },
     "execution_count": 20,
     "metadata": {},
     "output_type": "execute_result"
    }
   ],
   "source": [
    "one"
   ]
  },
  {
   "cell_type": "code",
   "execution_count": 21,
   "metadata": {},
   "outputs": [],
   "source": [
    "id_list=image_predictions.tweet_id.values"
   ]
  },
  {
   "cell_type": "code",
   "execution_count": 22,
   "metadata": {},
   "outputs": [
    {
     "data": {
      "text/plain": [
       "array([666020888022790149, 666029285002620928, 666033412701032449, ...,\n",
       "       891815181378084864, 892177421306343426, 892420643555336193],\n",
       "      dtype=int64)"
      ]
     },
     "execution_count": 22,
     "metadata": {},
     "output_type": "execute_result"
    }
   ],
   "source": [
    "id_list"
   ]
  },
  {
   "cell_type": "code",
   "execution_count": 23,
   "metadata": {},
   "outputs": [],
   "source": [
    "#writing json data to tweet_json.txt file with each tweet json data on its line\n",
    "with open(\"tweet_json.txt\", \"w\") as file:\n",
    "    for twitter in id_list:\n",
    "        try:\n",
    "            tweet=api.get_status(twitter)\n",
    "            json.dump(tweet._json, file)\n",
    "            file.write(\"\\n\")\n",
    "        except Exception as e:\n",
    "            pass"
   ]
  },
  {
   "cell_type": "code",
   "execution_count": 24,
   "metadata": {},
   "outputs": [],
   "source": [
    "#read the file line by line and append to a list\n",
    "we_rate=[]\n",
    "with open(\"tweet_json.txt\", 'r') as file:\n",
    "    for line in file:\n",
    "        tweet=json.loads(line)\n",
    "        we_rate.append({\"id\":tweet[\"id\"],\n",
    "                        \"retweet_count\":tweet[\"retweet_count\"],\n",
    "                        \"favorite_count\":tweet[\"favorite_count\"]})\n",
    "        \n",
    "        "
   ]
  },
  {
   "cell_type": "code",
   "execution_count": 25,
   "metadata": {},
   "outputs": [
    {
     "data": {
      "text/plain": [
       "[{'id': 666020888022790149, 'retweet_count': 419, 'favorite_count': 2281},\n",
       " {'id': 666029285002620928, 'retweet_count': 39, 'favorite_count': 112},\n",
       " {'id': 666033412701032449, 'retweet_count': 36, 'favorite_count': 100},\n",
       " {'id': 666044226329800704, 'retweet_count': 115, 'favorite_count': 245},\n",
       " {'id': 666049248165822465, 'retweet_count': 36, 'favorite_count': 88},\n",
       " {'id': 666050758794694657, 'retweet_count': 50, 'favorite_count': 115},\n",
       " {'id': 666051853826850816, 'retweet_count': 698, 'favorite_count': 1023},\n",
       " {'id': 666055525042405380, 'retweet_count': 196, 'favorite_count': 367},\n",
       " {'id': 666057090499244032, 'retweet_count': 111, 'favorite_count': 247},\n",
       " {'id': 666058600524156928, 'retweet_count': 47, 'favorite_count': 99},\n",
       " {'id': 666063827256086533, 'retweet_count': 180, 'favorite_count': 394},\n",
       " {'id': 666071193221509120, 'retweet_count': 50, 'favorite_count': 127},\n",
       " {'id': 666073100786774016, 'retweet_count': 129, 'favorite_count': 273},\n",
       " {'id': 666082916733198337, 'retweet_count': 37, 'favorite_count': 92},\n",
       " {'id': 666094000022159362, 'retweet_count': 63, 'favorite_count': 141},\n",
       " {'id': 666099513787052032, 'retweet_count': 53, 'favorite_count': 134},\n",
       " {'id': 666102155909144576, 'retweet_count': 11, 'favorite_count': 66},\n",
       " {'id': 666104133288665088, 'retweet_count': 5454, 'favorite_count': 12845},\n",
       " {'id': 666268910803644416, 'retweet_count': 38, 'favorite_count': 99},\n",
       " {'id': 666273097616637952, 'retweet_count': 66, 'favorite_count': 151},\n",
       " {'id': 666287406224695296, 'retweet_count': 55, 'favorite_count': 123},\n",
       " {'id': 666293911632134144, 'retweet_count': 288, 'favorite_count': 424},\n",
       " {'id': 666337882303524864, 'retweet_count': 79, 'favorite_count': 168},\n",
       " {'id': 666345417576210432, 'retweet_count': 121, 'favorite_count': 242},\n",
       " {'id': 666353288456101888, 'retweet_count': 56, 'favorite_count': 178},\n",
       " {'id': 666362758909284353, 'retweet_count': 467, 'favorite_count': 649},\n",
       " {'id': 666373753744588802, 'retweet_count': 73, 'favorite_count': 162},\n",
       " {'id': 666396247373291520, 'retweet_count': 68, 'favorite_count': 147},\n",
       " {'id': 666407126856765440, 'retweet_count': 30, 'favorite_count': 93},\n",
       " {'id': 666411507551481857, 'retweet_count': 261, 'favorite_count': 371},\n",
       " {'id': 666418789513326592, 'retweet_count': 39, 'favorite_count': 107},\n",
       " {'id': 666421158376562688, 'retweet_count': 90, 'favorite_count': 272},\n",
       " {'id': 666428276349472768, 'retweet_count': 67, 'favorite_count': 139},\n",
       " {'id': 666430724426358785, 'retweet_count': 159, 'favorite_count': 276},\n",
       " {'id': 666435652385423360, 'retweet_count': 41, 'favorite_count': 136},\n",
       " {'id': 666437273139982337, 'retweet_count': 40, 'favorite_count': 106},\n",
       " {'id': 666447344410484738, 'retweet_count': 19, 'favorite_count': 90},\n",
       " {'id': 666454714377183233, 'retweet_count': 179, 'favorite_count': 446},\n",
       " {'id': 666644823164719104, 'retweet_count': 68, 'favorite_count': 207},\n",
       " {'id': 666649482315059201, 'retweet_count': 523, 'favorite_count': 990},\n",
       " {'id': 666691418707132416, 'retweet_count': 41, 'favorite_count': 159},\n",
       " {'id': 666701168228331520, 'retweet_count': 181, 'favorite_count': 371},\n",
       " {'id': 666739327293083650, 'retweet_count': 59, 'favorite_count': 207},\n",
       " {'id': 666776908487630848, 'retweet_count': 148, 'favorite_count': 303},\n",
       " {'id': 666781792255496192, 'retweet_count': 168, 'favorite_count': 324},\n",
       " {'id': 666786068205871104, 'retweet_count': 408, 'favorite_count': 654},\n",
       " {'id': 666804364988780544, 'retweet_count': 78, 'favorite_count': 206},\n",
       " {'id': 666817836334096384, 'retweet_count': 209, 'favorite_count': 442},\n",
       " {'id': 666826780179869698, 'retweet_count': 78, 'favorite_count': 218},\n",
       " {'id': 666835007768551424, 'retweet_count': 65, 'favorite_count': 183},\n",
       " {'id': 666837028449972224, 'retweet_count': 467, 'favorite_count': 700},\n",
       " {'id': 666983947667116034, 'retweet_count': 841, 'favorite_count': 2238},\n",
       " {'id': 666996132027977728, 'retweet_count': 78, 'favorite_count': 212},\n",
       " {'id': 667012601033924608, 'retweet_count': 185, 'favorite_count': 393},\n",
       " {'id': 667044094246576128, 'retweet_count': 43, 'favorite_count': 162},\n",
       " {'id': 667062181243039745, 'retweet_count': 45, 'favorite_count': 192},\n",
       " {'id': 667065535570550784, 'retweet_count': 40, 'favorite_count': 143},\n",
       " {'id': 667073648344346624, 'retweet_count': 103, 'favorite_count': 351},\n",
       " {'id': 667090893657276420, 'retweet_count': 105, 'favorite_count': 286},\n",
       " {'id': 667119796878725120, 'retweet_count': 105, 'favorite_count': 284},\n",
       " {'id': 667138269671505920, 'retweet_count': 1861, 'favorite_count': 3996},\n",
       " {'id': 667152164079423490, 'retweet_count': 14562, 'favorite_count': 42094},\n",
       " {'id': 667160273090932737, 'retweet_count': 50, 'favorite_count': 218},\n",
       " {'id': 667165590075940865, 'retweet_count': 964, 'favorite_count': 2373},\n",
       " {'id': 667171260800061440, 'retweet_count': 71, 'favorite_count': 186},\n",
       " {'id': 667174963120574464, 'retweet_count': 69, 'favorite_count': 218},\n",
       " {'id': 667176164155375616, 'retweet_count': 385, 'favorite_count': 524},\n",
       " {'id': 667177989038297088, 'retweet_count': 48, 'favorite_count': 164},\n",
       " {'id': 667182792070062081, 'retweet_count': 5250, 'favorite_count': 12485},\n",
       " {'id': 667188689915760640, 'retweet_count': 328, 'favorite_count': 643},\n",
       " {'id': 667192066997374976, 'retweet_count': 86, 'favorite_count': 331},\n",
       " {'id': 667200525029539841, 'retweet_count': 227, 'favorite_count': 542},\n",
       " {'id': 667211855547486208, 'retweet_count': 209, 'favorite_count': 426},\n",
       " {'id': 667369227918143488, 'retweet_count': 143, 'favorite_count': 328},\n",
       " {'id': 667393430834667520, 'retweet_count': 50, 'favorite_count': 168},\n",
       " {'id': 667405339315146752, 'retweet_count': 194, 'favorite_count': 409},\n",
       " {'id': 667435689202614272, 'retweet_count': 76, 'favorite_count': 266},\n",
       " {'id': 667437278097252352, 'retweet_count': 197, 'favorite_count': 396},\n",
       " {'id': 667443425659232256, 'retweet_count': 486, 'favorite_count': 681},\n",
       " {'id': 667453023279554560, 'retweet_count': 73, 'favorite_count': 279},\n",
       " {'id': 667455448082227200, 'retweet_count': 53, 'favorite_count': 171},\n",
       " {'id': 667470559035432960, 'retweet_count': 85, 'favorite_count': 225},\n",
       " {'id': 667491009379606528, 'retweet_count': 189, 'favorite_count': 456},\n",
       " {'id': 667495797102141441, 'retweet_count': 231, 'favorite_count': 457},\n",
       " {'id': 667502640335572993, 'retweet_count': 193, 'favorite_count': 485},\n",
       " {'id': 667509364010450944, 'retweet_count': 1856, 'favorite_count': 6039},\n",
       " {'id': 667517642048163840, 'retweet_count': 165, 'favorite_count': 331},\n",
       " {'id': 667524857454854144, 'retweet_count': 963, 'favorite_count': 1495},\n",
       " {'id': 667530908589760512, 'retweet_count': 206, 'favorite_count': 410},\n",
       " {'id': 667534815156183040, 'retweet_count': 443, 'favorite_count': 715},\n",
       " {'id': 667538891197542400, 'retweet_count': 58, 'favorite_count': 174},\n",
       " {'id': 667544320556335104, 'retweet_count': 456, 'favorite_count': 760},\n",
       " {'id': 667546741521195010, 'retweet_count': 106, 'favorite_count': 303},\n",
       " {'id': 667549055577362432, 'retweet_count': 1942, 'favorite_count': 5085},\n",
       " {'id': 667550882905632768, 'retweet_count': 25, 'favorite_count': 0},\n",
       " {'id': 667550904950915073, 'retweet_count': 28, 'favorite_count': 0},\n",
       " {'id': 667724302356258817, 'retweet_count': 267, 'favorite_count': 422},\n",
       " {'id': 667728196545200128, 'retweet_count': 126, 'favorite_count': 323},\n",
       " {'id': 667766675769573376, 'retweet_count': 185, 'favorite_count': 371},\n",
       " {'id': 667773195014021121, 'retweet_count': 44, 'favorite_count': 203},\n",
       " {'id': 667782464991965184, 'retweet_count': 210, 'favorite_count': 362},\n",
       " {'id': 667793409583771648, 'retweet_count': 286, 'favorite_count': 605},\n",
       " {'id': 667801013445750784, 'retweet_count': 81, 'favorite_count': 282},\n",
       " {'id': 667806454573760512, 'retweet_count': 416, 'favorite_count': 925},\n",
       " {'id': 667832474953625600, 'retweet_count': 54, 'favorite_count': 255},\n",
       " {'id': 667861340749471744, 'retweet_count': 69, 'favorite_count': 222},\n",
       " {'id': 667866724293877760, 'retweet_count': 898, 'favorite_count': 2706},\n",
       " {'id': 667873844930215936, 'retweet_count': 338, 'favorite_count': 550},\n",
       " {'id': 667878741721415682, 'retweet_count': 101, 'favorite_count': 347},\n",
       " {'id': 667885044254572545, 'retweet_count': 398, 'favorite_count': 729},\n",
       " {'id': 667886921285246976, 'retweet_count': 906, 'favorite_count': 1645},\n",
       " {'id': 667902449697558528, 'retweet_count': 333, 'favorite_count': 754},\n",
       " {'id': 667911425562669056, 'retweet_count': 245, 'favorite_count': 430},\n",
       " {'id': 667915453470232577, 'retweet_count': 46, 'favorite_count': 184},\n",
       " {'id': 667924896115245057, 'retweet_count': 95, 'favorite_count': 263},\n",
       " {'id': 667937095915278337, 'retweet_count': 687, 'favorite_count': 1112},\n",
       " {'id': 668113020489474048, 'retweet_count': 207, 'favorite_count': 580},\n",
       " {'id': 668142349051129856, 'retweet_count': 239, 'favorite_count': 508},\n",
       " {'id': 668154635664932864, 'retweet_count': 272, 'favorite_count': 438},\n",
       " {'id': 668171859951755264, 'retweet_count': 161, 'favorite_count': 424},\n",
       " {'id': 668190681446379520, 'retweet_count': 171, 'favorite_count': 574},\n",
       " {'id': 668204964695683073, 'retweet_count': 171, 'favorite_count': 486},\n",
       " {'id': 668221241640230912, 'retweet_count': 168, 'favorite_count': 450},\n",
       " {'id': 668226093875376128, 'retweet_count': 85, 'favorite_count': 246},\n",
       " {'id': 668237644992782336, 'retweet_count': 2411, 'favorite_count': 5419},\n",
       " {'id': 668248472370458624, 'retweet_count': 406, 'favorite_count': 839},\n",
       " {'id': 668256321989451776, 'retweet_count': 516, 'favorite_count': 1146},\n",
       " {'id': 668268907921326080, 'retweet_count': 205, 'favorite_count': 482},\n",
       " {'id': 668274247790391296, 'retweet_count': 196, 'favorite_count': 716},\n",
       " {'id': 668286279830867968, 'retweet_count': 116, 'favorite_count': 434},\n",
       " {'id': 668291999406125056, 'retweet_count': 28, 'favorite_count': 213},\n",
       " {'id': 668297328638447616, 'retweet_count': 255, 'favorite_count': 554},\n",
       " {'id': 668466899341221888, 'retweet_count': 439, 'favorite_count': 766},\n",
       " {'id': 668480044826800133, 'retweet_count': 127, 'favorite_count': 394},\n",
       " {'id': 668484198282485761, 'retweet_count': 207, 'favorite_count': 371},\n",
       " {'id': 668496999348633600, 'retweet_count': 114, 'favorite_count': 358},\n",
       " {'id': 668507509523615744, 'retweet_count': 87, 'favorite_count': 275},\n",
       " {'id': 668528771708952576, 'retweet_count': 188, 'favorite_count': 401},\n",
       " {'id': 668537837512433665, 'retweet_count': 61, 'favorite_count': 226},\n",
       " {'id': 668542336805281792, 'retweet_count': 181, 'favorite_count': 403},\n",
       " {'id': 668544745690562560, 'retweet_count': 197, 'favorite_count': 452},\n",
       " {'id': 668567822092664832, 'retweet_count': 46, 'favorite_count': 206},\n",
       " {'id': 668614819948453888, 'retweet_count': 271, 'favorite_count': 542},\n",
       " {'id': 668620235289837568, 'retweet_count': 35, 'favorite_count': 180},\n",
       " {'id': 668623201287675904, 'retweet_count': 651, 'favorite_count': 1242},\n",
       " {'id': 668625577880875008, 'retweet_count': 112, 'favorite_count': 326},\n",
       " {'id': 668627278264475648, 'retweet_count': 96, 'favorite_count': 281},\n",
       " {'id': 668631377374486528, 'retweet_count': 280, 'favorite_count': 616},\n",
       " {'id': 668633411083464705, 'retweet_count': 1375, 'favorite_count': 2453},\n",
       " {'id': 668636665813057536, 'retweet_count': 434, 'favorite_count': 914},\n",
       " {'id': 668641109086707712, 'retweet_count': 465, 'favorite_count': 943},\n",
       " {'id': 668643542311546881, 'retweet_count': 445, 'favorite_count': 780},\n",
       " {'id': 668645506898350081, 'retweet_count': 457, 'favorite_count': 770},\n",
       " {'id': 668655139528511488, 'retweet_count': 187, 'favorite_count': 470},\n",
       " {'id': 668779399630725120, 'retweet_count': 324, 'favorite_count': 627},\n",
       " {'id': 668815180734689280, 'retweet_count': 225, 'favorite_count': 491},\n",
       " {'id': 668826086256599040, 'retweet_count': 112, 'favorite_count': 382},\n",
       " {'id': 668852170888998912, 'retweet_count': 139, 'favorite_count': 408},\n",
       " {'id': 668872652652679168, 'retweet_count': 267, 'favorite_count': 474},\n",
       " {'id': 668892474547511297, 'retweet_count': 126, 'favorite_count': 354},\n",
       " {'id': 668902994700836864, 'retweet_count': 87, 'favorite_count': 275},\n",
       " {'id': 668932921458302977, 'retweet_count': 50, 'favorite_count': 227},\n",
       " {'id': 668955713004314625, 'retweet_count': 63, 'favorite_count': 240},\n",
       " {'id': 668960084974809088, 'retweet_count': 209, 'favorite_count': 616},\n",
       " {'id': 668975677807423489, 'retweet_count': 495, 'favorite_count': 1150},\n",
       " {'id': 668979806671884288, 'retweet_count': 291, 'favorite_count': 698},\n",
       " {'id': 668981893510119424, 'retweet_count': 258, 'favorite_count': 476},\n",
       " {'id': 668986018524233728, 'retweet_count': 139, 'favorite_count': 476},\n",
       " {'id': 668988183816871936, 'retweet_count': 389, 'favorite_count': 795},\n",
       " {'id': 668989615043424256, 'retweet_count': 288, 'favorite_count': 592},\n",
       " {'id': 668992363537309700, 'retweet_count': 292, 'favorite_count': 655},\n",
       " {'id': 668994913074286592, 'retweet_count': 187, 'favorite_count': 389},\n",
       " {'id': 669000397445533696, 'retweet_count': 5501, 'favorite_count': 18630},\n",
       " {'id': 669006782128353280, 'retweet_count': 209, 'favorite_count': 510},\n",
       " {'id': 669015743032369152, 'retweet_count': 322, 'favorite_count': 646},\n",
       " {'id': 669037058363662336, 'retweet_count': 264, 'favorite_count': 571},\n",
       " {'id': 669203728096960512, 'retweet_count': 405, 'favorite_count': 883},\n",
       " {'id': 669214165781868544, 'retweet_count': 135, 'favorite_count': 382},\n",
       " {'id': 669216679721873412, 'retweet_count': 346, 'favorite_count': 1051},\n",
       " {'id': 669324657376567296, 'retweet_count': 182, 'favorite_count': 437},\n",
       " {'id': 669327207240699904, 'retweet_count': 101, 'favorite_count': 495},\n",
       " {'id': 669328503091937280, 'retweet_count': 363, 'favorite_count': 904},\n",
       " {'id': 669351434509529089, 'retweet_count': 153, 'favorite_count': 377},\n",
       " {'id': 669353438988365824, 'retweet_count': 225, 'favorite_count': 563},\n",
       " {'id': 669354382627049472, 'retweet_count': 1089, 'favorite_count': 2375},\n",
       " {'id': 669359674819481600, 'retweet_count': 103, 'favorite_count': 330},\n",
       " {'id': 669363888236994561, 'retweet_count': 199, 'favorite_count': 555},\n",
       " {'id': 669367896104181761, 'retweet_count': 129, 'favorite_count': 405},\n",
       " {'id': 669371483794317312, 'retweet_count': 148, 'favorite_count': 434},\n",
       " {'id': 669375718304980992, 'retweet_count': 626, 'favorite_count': 1167},\n",
       " {'id': 669393256313184256, 'retweet_count': 62, 'favorite_count': 313},\n",
       " {'id': 669564461267722241, 'retweet_count': 104, 'favorite_count': 334},\n",
       " {'id': 669567591774625800, 'retweet_count': 45, 'favorite_count': 202},\n",
       " {'id': 669571471778410496, 'retweet_count': 877, 'favorite_count': 1402},\n",
       " {'id': 669573570759163904, 'retweet_count': 120, 'favorite_count': 388},\n",
       " {'id': 669583744538451968, 'retweet_count': 798, 'favorite_count': 1314},\n",
       " {'id': 669597912108789760, 'retweet_count': 131, 'favorite_count': 447},\n",
       " {'id': 669603084620980224, 'retweet_count': 316, 'favorite_count': 839},\n",
       " {'id': 669625907762618368, 'retweet_count': 1560, 'favorite_count': 3107},\n",
       " {'id': 669661792646373376, 'retweet_count': 365, 'favorite_count': 713},\n",
       " {'id': 669680153564442624, 'retweet_count': 240, 'favorite_count': 581},\n",
       " {'id': 669682095984410625, 'retweet_count': 115, 'favorite_count': 311},\n",
       " {'id': 669683899023405056, 'retweet_count': 93, 'favorite_count': 338},\n",
       " {'id': 669749430875258880, 'retweet_count': 55, 'favorite_count': 227},\n",
       " {'id': 669753178989142016, 'retweet_count': 340, 'favorite_count': 704},\n",
       " {'id': 669923323644657664, 'retweet_count': 50, 'favorite_count': 202},\n",
       " {'id': 669926384437997569, 'retweet_count': 81, 'favorite_count': 338},\n",
       " {'id': 669942763794931712, 'retweet_count': 131, 'favorite_count': 443},\n",
       " {'id': 669970042633789440, 'retweet_count': 43, 'favorite_count': 271},\n",
       " {'id': 669972011175813120, 'retweet_count': 132, 'favorite_count': 393},\n",
       " {'id': 669993076832759809, 'retweet_count': 70, 'favorite_count': 283},\n",
       " {'id': 670003130994700288, 'retweet_count': 77, 'favorite_count': 295},\n",
       " {'id': 670037189829525505, 'retweet_count': 240, 'favorite_count': 526},\n",
       " {'id': 670040295598354432, 'retweet_count': 96, 'favorite_count': 654},\n",
       " {'id': 670046952931721218, 'retweet_count': 151, 'favorite_count': 573},\n",
       " {'id': 670055038660800512, 'retweet_count': 279, 'favorite_count': 591},\n",
       " {'id': 670061506722140161, 'retweet_count': 288, 'favorite_count': 661},\n",
       " {'id': 670069087419133954, 'retweet_count': 205, 'favorite_count': 548},\n",
       " {'id': 670073503555706880, 'retweet_count': 677, 'favorite_count': 1380},\n",
       " {'id': 670079681849372674, 'retweet_count': 1055, 'favorite_count': 1951},\n",
       " {'id': 670086499208155136, 'retweet_count': 217, 'favorite_count': 618},\n",
       " {'id': 670093938074779648, 'retweet_count': 274, 'favorite_count': 905},\n",
       " {'id': 670290420111441920, 'retweet_count': 249, 'favorite_count': 622},\n",
       " {'id': 670303360680108032, 'retweet_count': 107, 'favorite_count': 381},\n",
       " {'id': 670319130621435904, 'retweet_count': 1065, 'favorite_count': 3460},\n",
       " {'id': 670338931251150849, 'retweet_count': 96, 'favorite_count': 372},\n",
       " {'id': 670361874861563904, 'retweet_count': 55, 'favorite_count': 288},\n",
       " {'id': 670374371102445568, 'retweet_count': 236, 'favorite_count': 669},\n",
       " {'id': 670385711116361728, 'retweet_count': 173, 'favorite_count': 487},\n",
       " {'id': 670403879788544000, 'retweet_count': 128, 'favorite_count': 374},\n",
       " {'id': 670408998013820928, 'retweet_count': 187, 'favorite_count': 485},\n",
       " {'id': 670411370698022913, 'retweet_count': 765, 'favorite_count': 1787},\n",
       " {'id': 670417414769758208, 'retweet_count': 280, 'favorite_count': 501},\n",
       " {'id': 670420569653809152, 'retweet_count': 265, 'favorite_count': 536},\n",
       " {'id': 670421925039075328, 'retweet_count': 549, 'favorite_count': 1136},\n",
       " {'id': 670427002554466305, 'retweet_count': 141, 'favorite_count': 460},\n",
       " {'id': 670428280563085312, 'retweet_count': 519, 'favorite_count': 1225},\n",
       " {'id': 670433248821026816, 'retweet_count': 100, 'favorite_count': 294},\n",
       " {'id': 670434127938719744, 'retweet_count': 560, 'favorite_count': 1254},\n",
       " {'id': 670435821946826752, 'retweet_count': 433, 'favorite_count': 939},\n",
       " {'id': 670442337873600512, 'retweet_count': 175, 'favorite_count': 578},\n",
       " {'id': 670444955656130560, 'retweet_count': 1736, 'favorite_count': 6041},\n",
       " {'id': 670449342516494336, 'retweet_count': 567, 'favorite_count': 1072},\n",
       " {'id': 670452855871037440, 'retweet_count': 174, 'favorite_count': 489},\n",
       " {'id': 670465786746662913, 'retweet_count': 466, 'favorite_count': 851},\n",
       " {'id': 670468609693655041, 'retweet_count': 77, 'favorite_count': 314},\n",
       " {'id': 670474236058800128, 'retweet_count': 630, 'favorite_count': 1330},\n",
       " {'id': 670668383499735048, 'retweet_count': 4300, 'favorite_count': 9425},\n",
       " {'id': 670676092097810432, 'retweet_count': 35, 'favorite_count': 214},\n",
       " {'id': 670679630144274432, 'retweet_count': 240, 'favorite_count': 661},\n",
       " {'id': 670691627984359425, 'retweet_count': 208, 'favorite_count': 516},\n",
       " {'id': 670704688707301377, 'retweet_count': 317, 'favorite_count': 686},\n",
       " {'id': 670717338665226240, 'retweet_count': 416, 'favorite_count': 1049},\n",
       " {'id': 670727704916926465, 'retweet_count': 312, 'favorite_count': 734},\n",
       " {'id': 670733412878163972, 'retweet_count': 446, 'favorite_count': 848},\n",
       " {'id': 670755717859713024, 'retweet_count': 87, 'favorite_count': 391},\n",
       " {'id': 670764103623966721, 'retweet_count': 371, 'favorite_count': 954},\n",
       " {'id': 670778058496974848, 'retweet_count': 62, 'favorite_count': 297},\n",
       " {'id': 670780561024270336, 'retweet_count': 249, 'favorite_count': 697},\n",
       " {'id': 670782429121134593, 'retweet_count': 654, 'favorite_count': 1345},\n",
       " {'id': 670783437142401025, 'retweet_count': 330, 'favorite_count': 721},\n",
       " {'id': 670786190031921152, 'retweet_count': 168, 'favorite_count': 527},\n",
       " {'id': 670789397210615808, 'retweet_count': 210, 'favorite_count': 582},\n",
       " {'id': 670792680469889025, 'retweet_count': 236, 'favorite_count': 730},\n",
       " {'id': 670797304698376195, 'retweet_count': 202, 'favorite_count': 658},\n",
       " {'id': 670803562457407488, 'retweet_count': 77, 'favorite_count': 301},\n",
       " {'id': 670804601705242624, 'retweet_count': 815, 'favorite_count': 1730},\n",
       " {'id': 670807719151067136, 'retweet_count': 425, 'favorite_count': 1050},\n",
       " {'id': 670811965569282048, 'retweet_count': 230, 'favorite_count': 981},\n",
       " {'id': 670815497391357952, 'retweet_count': 1312, 'favorite_count': 2772},\n",
       " {'id': 670822709593571328, 'retweet_count': 83, 'favorite_count': 543},\n",
       " {'id': 670823764196741120, 'retweet_count': 159, 'favorite_count': 673},\n",
       " {'id': 670826280409919488, 'retweet_count': 3493, 'favorite_count': 4851},\n",
       " {'id': 670832455012716544, 'retweet_count': 184, 'favorite_count': 645},\n",
       " {'id': 670833812859932673, 'retweet_count': 109, 'favorite_count': 382},\n",
       " {'id': 670838202509447168, 'retweet_count': 598, 'favorite_count': 980},\n",
       " {'id': 670840546554966016, 'retweet_count': 165, 'favorite_count': 522},\n",
       " {'id': 670842764863651840, 'retweet_count': 7555, 'favorite_count': 22000},\n",
       " {'id': 670995969505435648, 'retweet_count': 241, 'favorite_count': 965},\n",
       " {'id': 671109016219725825, 'retweet_count': 377, 'favorite_count': 1001},\n",
       " {'id': 671115716440031232, 'retweet_count': 669, 'favorite_count': 1209},\n",
       " {'id': 671122204919246848, 'retweet_count': 2180, 'favorite_count': 3074},\n",
       " {'id': 671134062904504320, 'retweet_count': 162, 'favorite_count': 651},\n",
       " {'id': 671138694582165504, 'retweet_count': 340, 'favorite_count': 820},\n",
       " {'id': 671141549288370177, 'retweet_count': 569, 'favorite_count': 1018},\n",
       " {'id': 671147085991960577, 'retweet_count': 191, 'favorite_count': 580},\n",
       " {'id': 671151324042559489, 'retweet_count': 126, 'favorite_count': 587},\n",
       " {'id': 671154572044468225, 'retweet_count': 186, 'favorite_count': 624},\n",
       " {'id': 671159727754231808, 'retweet_count': 68, 'favorite_count': 314},\n",
       " {'id': 671163268581498880, 'retweet_count': 965, 'favorite_count': 1455},\n",
       " {'id': 671166507850801152, 'retweet_count': 301, 'favorite_count': 778},\n",
       " {'id': 671182547775299584, 'retweet_count': 283, 'favorite_count': 975},\n",
       " {'id': 671186162933985280, 'retweet_count': 176, 'favorite_count': 639},\n",
       " {'id': 671347597085433856, 'retweet_count': 369, 'favorite_count': 830},\n",
       " {'id': 671355857343524864, 'retweet_count': 104, 'favorite_count': 417},\n",
       " {'id': 671357843010908160, 'retweet_count': 133, 'favorite_count': 351},\n",
       " {'id': 671362598324076544, 'retweet_count': 257, 'favorite_count': 973},\n",
       " {'id': 671390180817915904, 'retweet_count': 651, 'favorite_count': 1278},\n",
       " {'id': 671485057807351808, 'retweet_count': 195, 'favorite_count': 678},\n",
       " {'id': 671486386088865792, 'retweet_count': 172, 'favorite_count': 507},\n",
       " {'id': 671488513339211776, 'retweet_count': 412, 'favorite_count': 884},\n",
       " {'id': 671497587707535361, 'retweet_count': 386, 'favorite_count': 823},\n",
       " {'id': 671504605491109889, 'retweet_count': 3112, 'favorite_count': 6218},\n",
       " {'id': 671511350426865664, 'retweet_count': 605, 'favorite_count': 1419},\n",
       " {'id': 671518598289059840, 'retweet_count': 251, 'favorite_count': 828},\n",
       " {'id': 671520732782923777, 'retweet_count': 454, 'favorite_count': 1217},\n",
       " {'id': 671528761649688577, 'retweet_count': 214, 'favorite_count': 736},\n",
       " {'id': 671533943490011136, 'retweet_count': 493, 'favorite_count': 896},\n",
       " {'id': 671536543010570240, 'retweet_count': 343, 'favorite_count': 1036},\n",
       " {'id': 671538301157904385, 'retweet_count': 333, 'favorite_count': 837},\n",
       " {'id': 671542985629241344, 'retweet_count': 483, 'favorite_count': 966},\n",
       " {'id': 671544874165002241, 'retweet_count': 888, 'favorite_count': 1726},\n",
       " {'id': 671547767500775424, 'retweet_count': 496, 'favorite_count': 1202},\n",
       " {'id': 671561002136281088, 'retweet_count': 6298, 'favorite_count': 11357},\n",
       " {'id': 671729906628341761, 'retweet_count': 3786, 'favorite_count': 7476},\n",
       " {'id': 671735591348891648, 'retweet_count': 651, 'favorite_count': 1282},\n",
       " {'id': 671743150407421952, 'retweet_count': 200, 'favorite_count': 673},\n",
       " {'id': 671744970634719232, 'retweet_count': 659, 'favorite_count': 1200},\n",
       " {'id': 671763349865160704, 'retweet_count': 771, 'favorite_count': 1488},\n",
       " {'id': 671768281401958400, 'retweet_count': 433, 'favorite_count': 1044},\n",
       " {'id': 671789708968640512, 'retweet_count': 2991, 'favorite_count': 6297},\n",
       " {'id': 671855973984772097, 'retweet_count': 371, 'favorite_count': 791},\n",
       " {'id': 671866342182637568, 'retweet_count': 417, 'favorite_count': 994},\n",
       " {'id': 671874878652489728, 'retweet_count': 478, 'favorite_count': 1105},\n",
       " {'id': 671879137494245376, 'retweet_count': 570, 'favorite_count': 1242},\n",
       " {'id': 671882082306625538, 'retweet_count': 1202, 'favorite_count': 3092},\n",
       " {'id': 671891728106971137, 'retweet_count': 479, 'favorite_count': 1171},\n",
       " {'id': 671896809300709376, 'retweet_count': 3666, 'favorite_count': 7590},\n",
       " {'id': 672068090318987265, 'retweet_count': 439, 'favorite_count': 1133},\n",
       " {'id': 672082170312290304, 'retweet_count': 318, 'favorite_count': 837},\n",
       " {'id': 672095186491711488, 'retweet_count': 328, 'favorite_count': 873},\n",
       " {'id': 672125275208069120, 'retweet_count': 985, 'favorite_count': 2113},\n",
       " {'id': 672139350159835138, 'retweet_count': 592, 'favorite_count': 1539},\n",
       " {'id': 672160042234327040, 'retweet_count': 303, 'favorite_count': 765},\n",
       " {'id': 672169685991993344, 'retweet_count': 317, 'favorite_count': 909},\n",
       " {'id': 672205392827572224, 'retweet_count': 1005, 'favorite_count': 1981},\n",
       " {'id': 672222792075620352, 'retweet_count': 176, 'favorite_count': 700},\n",
       " {'id': 672231046314901505, 'retweet_count': 876, 'favorite_count': 1618},\n",
       " {'id': 672239279297454080, 'retweet_count': 275, 'favorite_count': 803},\n",
       " {'id': 672245253877968896, 'retweet_count': 131, 'favorite_count': 606},\n",
       " {'id': 672248013293752320, 'retweet_count': 520, 'favorite_count': 1525},\n",
       " {'id': 672254177670729728, 'retweet_count': 647, 'favorite_count': 1271},\n",
       " {'id': 672256522047614977, 'retweet_count': 1324, 'favorite_count': 2501},\n",
       " {'id': 672264251789176834, 'retweet_count': 285, 'favorite_count': 1008},\n",
       " {'id': 672267570918129665, 'retweet_count': 536, 'favorite_count': 1312},\n",
       " {'id': 672272411274932228, 'retweet_count': 2923, 'favorite_count': 5693},\n",
       " {'id': 672466075045466113, 'retweet_count': 447, 'favorite_count': 1193},\n",
       " {'id': 672475084225949696, 'retweet_count': 605, 'favorite_count': 1290},\n",
       " {'id': 672481316919734272, 'retweet_count': 110, 'favorite_count': 638},\n",
       " {'id': 672482722825261057, 'retweet_count': 517, 'favorite_count': 986},\n",
       " {'id': 672488522314567680, 'retweet_count': 371, 'favorite_count': 990},\n",
       " {'id': 672523490734551040, 'retweet_count': 146, 'favorite_count': 551},\n",
       " {'id': 672538107540070400, 'retweet_count': 316, 'favorite_count': 898},\n",
       " {'id': 672591271085670400, 'retweet_count': 157, 'favorite_count': 639},\n",
       " {'id': 672591762242805761, 'retweet_count': 284, 'favorite_count': 840},\n",
       " {'id': 672594978741354496, 'retweet_count': 528, 'favorite_count': 1175},\n",
       " {'id': 672604026190569472, 'retweet_count': 335, 'favorite_count': 964},\n",
       " {'id': 672609152938721280, 'retweet_count': 338, 'favorite_count': 967},\n",
       " {'id': 672614745925664768, 'retweet_count': 510, 'favorite_count': 1085},\n",
       " {'id': 672622327801233409, 'retweet_count': 419, 'favorite_count': 1147},\n",
       " {'id': 672640509974827008, 'retweet_count': 270, 'favorite_count': 873},\n",
       " {'id': 672828477930868736, 'retweet_count': 416, 'favorite_count': 1107},\n",
       " {'id': 672834301050937345, 'retweet_count': 502, 'favorite_count': 1151},\n",
       " {'id': 672877615439593473, 'retweet_count': 300, 'favorite_count': 906},\n",
       " {'id': 672884426393653248, 'retweet_count': 722, 'favorite_count': 1361},\n",
       " {'id': 672898206762672129, 'retweet_count': 363, 'favorite_count': 793},\n",
       " {'id': 672902681409806336, 'retweet_count': 422, 'favorite_count': 1226},\n",
       " {'id': 672964561327235073, 'retweet_count': 557, 'favorite_count': 1259},\n",
       " {'id': 672968025906282496, 'retweet_count': 469, 'favorite_count': 1176},\n",
       " {'id': 672970152493887488, 'retweet_count': 302, 'favorite_count': 836},\n",
       " {'id': 672975131468300288, 'retweet_count': 775, 'favorite_count': 1494},\n",
       " {'id': 672980819271634944, 'retweet_count': 887, 'favorite_count': 1625},\n",
       " {'id': 672984142909456390, 'retweet_count': 469, 'favorite_count': 1116},\n",
       " {'id': 672988786805112832, 'retweet_count': 253, 'favorite_count': 872},\n",
       " {'id': 672995267319328768, 'retweet_count': 251, 'favorite_count': 844},\n",
       " {'id': 672997845381865473, 'retweet_count': 629, 'favorite_count': 1748},\n",
       " {'id': 673148804208660480, 'retweet_count': 547, 'favorite_count': 1485},\n",
       " {'id': 673213039743795200, 'retweet_count': 724, 'favorite_count': 1966},\n",
       " {'id': 673240798075449344, 'retweet_count': 614, 'favorite_count': 1271},\n",
       " {'id': 673270968295534593, 'retweet_count': 312, 'favorite_count': 955},\n",
       " {'id': 673295268553605120, 'retweet_count': 2740, 'favorite_count': 6709},\n",
       " {'id': 673317986296586240, 'retweet_count': 216, 'favorite_count': 780},\n",
       " {'id': 673320132811366400, 'retweet_count': 6864, 'favorite_count': 11923},\n",
       " {'id': 673342308415348736, 'retweet_count': 492, 'favorite_count': 1125},\n",
       " {'id': 673343217010679808, 'retweet_count': 234, 'favorite_count': 854},\n",
       " {'id': 673345638550134785, 'retweet_count': 1098, 'favorite_count': 2222},\n",
       " {'id': 673350198937153538, 'retweet_count': 184, 'favorite_count': 682},\n",
       " {'id': 673352124999274496, 'retweet_count': 471, 'favorite_count': 1491},\n",
       " {'id': 673355879178194945, 'retweet_count': 491, 'favorite_count': 1337},\n",
       " {'id': 673359818736984064, 'retweet_count': 592, 'favorite_count': 1286},\n",
       " {'id': 673363615379013632, 'retweet_count': 266, 'favorite_count': 930},\n",
       " {'id': 673576835670777856, 'retweet_count': 486, 'favorite_count': 1226},\n",
       " {'id': 673580926094458881, 'retweet_count': 238, 'favorite_count': 732},\n",
       " {'id': 673583129559498752, 'retweet_count': 313, 'favorite_count': 1060},\n",
       " {'id': 673612854080196609, 'retweet_count': 629, 'favorite_count': 1424},\n",
       " {'id': 673636718965334016, 'retweet_count': 307, 'favorite_count': 990},\n",
       " {'id': 673656262056419329, 'retweet_count': 198, 'favorite_count': 650},\n",
       " {'id': 673662677122719744, 'retweet_count': 326, 'favorite_count': 1123},\n",
       " {'id': 673680198160809984, 'retweet_count': 414, 'favorite_count': 1228},\n",
       " {'id': 673686845050527744, 'retweet_count': 375, 'favorite_count': 1273},\n",
       " {'id': 673688752737402881, 'retweet_count': 438, 'favorite_count': 1124},\n",
       " {'id': 673689733134946305, 'retweet_count': 568, 'favorite_count': 1537},\n",
       " {'id': 673697980713705472, 'retweet_count': 1691, 'favorite_count': 3504},\n",
       " {'id': 673700254269775872, 'retweet_count': 500, 'favorite_count': 1278},\n",
       " {'id': 673705679337693185, 'retweet_count': 358, 'favorite_count': 1123},\n",
       " {'id': 673707060090052608, 'retweet_count': 346, 'favorite_count': 984},\n",
       " {'id': 673708611235921920, 'retweet_count': 253, 'favorite_count': 951},\n",
       " {'id': 673709992831262724, 'retweet_count': 236, 'favorite_count': 746},\n",
       " {'id': 673711475735838725, 'retweet_count': 264, 'favorite_count': 938},\n",
       " {'id': 673715861853720576, 'retweet_count': 1805, 'favorite_count': 3151},\n",
       " {'id': 673887867907739649, 'retweet_count': 220, 'favorite_count': 838},\n",
       " {'id': 673906403526995968, 'retweet_count': 1427, 'favorite_count': 2837},\n",
       " {'id': 673919437611909120, 'retweet_count': 325, 'favorite_count': 1056},\n",
       " {'id': 673956914389192708, 'retweet_count': 833, 'favorite_count': 1744},\n",
       " {'id': 674008982932058114, 'retweet_count': 299, 'favorite_count': 1084},\n",
       " {'id': 674014384960745472, 'retweet_count': 559, 'favorite_count': 1385},\n",
       " {'id': 674019345211760640, 'retweet_count': 264, 'favorite_count': 1012},\n",
       " {'id': 674024893172875264, 'retweet_count': 1081, 'favorite_count': 1580},\n",
       " {'id': 674036086168010753, 'retweet_count': 180, 'favorite_count': 756},\n",
       " {'id': 674038233588723717, 'retweet_count': 366, 'favorite_count': 975},\n",
       " {'id': 674042553264685056, 'retweet_count': 109, 'favorite_count': 633},\n",
       " {'id': 674045139690631169, 'retweet_count': 564, 'favorite_count': 1266},\n",
       " {'id': 674051556661161984, 'retweet_count': 431, 'favorite_count': 1288},\n",
       " {'id': 674053186244734976, 'retweet_count': 1124, 'favorite_count': 2937},\n",
       " {'id': 674063288070742018, 'retweet_count': 1905, 'favorite_count': 5703},\n",
       " {'id': 674075285688614912, 'retweet_count': 245, 'favorite_count': 887},\n",
       " {'id': 674082852460433408, 'retweet_count': 144, 'favorite_count': 676},\n",
       " {'id': 674255168825880576, 'retweet_count': 464, 'favorite_count': 1298},\n",
       " {'id': 674262580978937856, 'retweet_count': 382, 'favorite_count': 1175},\n",
       " {'id': 674265582246694913, 'retweet_count': 727, 'favorite_count': 1457},\n",
       " {'id': 674269164442398721, 'retweet_count': 202, 'favorite_count': 824},\n",
       " {'id': 674271431610523648, 'retweet_count': 643, 'favorite_count': 1393},\n",
       " {'id': 674291837063053312, 'retweet_count': 5129, 'favorite_count': 13142},\n",
       " {'id': 674318007229923329, 'retweet_count': 449, 'favorite_count': 1251},\n",
       " {'id': 674372068062928900, 'retweet_count': 280, 'favorite_count': 766},\n",
       " {'id': 674394782723014656, 'retweet_count': 487, 'favorite_count': 1331},\n",
       " {'id': 674410619106390016, 'retweet_count': 400, 'favorite_count': 1067},\n",
       " {'id': 674416750885273600, 'retweet_count': 114, 'favorite_count': 609},\n",
       " {'id': 674422304705744896, 'retweet_count': 464, 'favorite_count': 1280},\n",
       " {'id': 674436901579923456, 'retweet_count': 344, 'favorite_count': 985},\n",
       " {'id': 674447403907457024, 'retweet_count': 314, 'favorite_count': 952},\n",
       " {'id': 674468880899788800, 'retweet_count': 1773, 'favorite_count': 5544},\n",
       " {'id': 674632714662858753, 'retweet_count': 500, 'favorite_count': 1338},\n",
       " {'id': 674638615994089473, 'retweet_count': 509, 'favorite_count': 1513},\n",
       " {'id': 674644256330530816, 'retweet_count': 241, 'favorite_count': 924},\n",
       " {'id': 674646392044941312, 'retweet_count': 429, 'favorite_count': 1278},\n",
       " {'id': 674664755118911488, 'retweet_count': 205, 'favorite_count': 809},\n",
       " {'id': 674670581682434048, 'retweet_count': 565, 'favorite_count': 1445},\n",
       " {'id': 674690135443775488, 'retweet_count': 411, 'favorite_count': 1022},\n",
       " {'id': 674737130913071104, 'retweet_count': 80, 'favorite_count': 580},\n",
       " {'id': 674739953134403584, 'retweet_count': 326, 'favorite_count': 965},\n",
       " {'id': 674743008475090944, 'retweet_count': 464, 'favorite_count': 1258},\n",
       " {'id': 674752233200820224, 'retweet_count': 399, 'favorite_count': 1307},\n",
       " {'id': 674754018082705410, 'retweet_count': 382, 'favorite_count': 1227},\n",
       " {'id': 674764817387900928, 'retweet_count': 200, 'favorite_count': 699},\n",
       " {'id': 674767892831932416, 'retweet_count': 689, 'favorite_count': 1623},\n",
       " {'id': 674774481756377088, 'retweet_count': 407, 'favorite_count': 981},\n",
       " {'id': 674781762103414784, 'retweet_count': 1043, 'favorite_count': 1799},\n",
       " {'id': 674788554665512960, 'retweet_count': 181, 'favorite_count': 718},\n",
       " {'id': 674790488185167872, 'retweet_count': 216, 'favorite_count': 982},\n",
       " {'id': 674793399141146624, 'retweet_count': 950, 'favorite_count': 2216},\n",
       " {'id': 674800520222154752, 'retweet_count': 746, 'favorite_count': 2684},\n",
       " {'id': 674805413498527744, 'retweet_count': 315, 'favorite_count': 759},\n",
       " {'id': 674999807681908736, 'retweet_count': 951, 'favorite_count': 1991},\n",
       " {'id': 675003128568291329, 'retweet_count': 406, 'favorite_count': 1389},\n",
       " {'id': 675006312288268288, 'retweet_count': 200, 'favorite_count': 873},\n",
       " {'id': 675015141583413248, 'retweet_count': 1034, 'favorite_count': 2405},\n",
       " {'id': 675047298674663426, 'retweet_count': 274, 'favorite_count': 926},\n",
       " {'id': 675109292475830276, 'retweet_count': 995, 'favorite_count': 2514},\n",
       " {'id': 675111688094527488, 'retweet_count': 213, 'favorite_count': 869},\n",
       " {'id': 675113801096802304, 'retweet_count': 686, 'favorite_count': 1732},\n",
       " {'id': 675135153782571009, 'retweet_count': 411, 'favorite_count': 1163},\n",
       " {'id': 675145476954566656, 'retweet_count': 779, 'favorite_count': 1911},\n",
       " {'id': 675146535592706048, 'retweet_count': 255, 'favorite_count': 1050},\n",
       " {'id': 675147105808306176, 'retweet_count': 197, 'favorite_count': 841},\n",
       " {'id': 675149409102012420, 'retweet_count': 1496, 'favorite_count': 3345},\n",
       " {'id': 675153376133427200, 'retweet_count': 2256, 'favorite_count': 5577},\n",
       " {'id': 675166823650848770, 'retweet_count': 1382, 'favorite_count': 3162},\n",
       " {'id': 675334060156301312, 'retweet_count': 1127, 'favorite_count': 2480},\n",
       " {'id': 675349384339542016, 'retweet_count': 1996, 'favorite_count': 3522},\n",
       " {'id': 675354435921575936, 'retweet_count': 14853, 'favorite_count': 29354},\n",
       " {'id': 675362609739206656, 'retweet_count': 192, 'favorite_count': 941},\n",
       " {'id': 675372240448454658, 'retweet_count': 452, 'favorite_count': 1522},\n",
       " {'id': 675432746517426176, 'retweet_count': 501, 'favorite_count': 1360},\n",
       " {'id': 675483430902214656, 'retweet_count': 853, 'favorite_count': 1658},\n",
       " {'id': 675489971617296384, 'retweet_count': 526, 'favorite_count': 1149},\n",
       " {'id': 675497103322386432, 'retweet_count': 1130, 'favorite_count': 2815},\n",
       " {'id': 675501075957489664, 'retweet_count': 5201, 'favorite_count': 15512},\n",
       " {'id': 675517828909424640, 'retweet_count': 407, 'favorite_count': 1147},\n",
       " {'id': 675522403582218240, 'retweet_count': 249, 'favorite_count': 937},\n",
       " {'id': 675531475945709568, 'retweet_count': 329, 'favorite_count': 1063},\n",
       " {'id': 675534494439489536, 'retweet_count': 361, 'favorite_count': 1661},\n",
       " {'id': 675706639471788032, 'retweet_count': 85, 'favorite_count': 581},\n",
       " {'id': 675707330206547968, 'retweet_count': 596, 'favorite_count': 1783},\n",
       " {'id': 675710890956750848, 'retweet_count': 717, 'favorite_count': 1681},\n",
       " {'id': 675740360753160193, 'retweet_count': 295, 'favorite_count': 1056},\n",
       " {'id': 675781562965868544, 'retweet_count': 418, 'favorite_count': 1452},\n",
       " {'id': 675798442703122432, 'retweet_count': 3041, 'favorite_count': 9297},\n",
       " {'id': 675820929667219457, 'retweet_count': 206, 'favorite_count': 955},\n",
       " {'id': 675822767435051008, 'retweet_count': 474, 'favorite_count': 1385},\n",
       " {'id': 675845657354215424, 'retweet_count': 775, 'favorite_count': 2042},\n",
       " {'id': 675853064436391936, 'retweet_count': 1132, 'favorite_count': 2419},\n",
       " {'id': 675870721063669760, 'retweet_count': 496, 'favorite_count': 1464},\n",
       " {'id': 675878199931371520, 'retweet_count': 1237, 'favorite_count': 3780},\n",
       " {'id': 675888385639251968, 'retweet_count': 839, 'favorite_count': 2107},\n",
       " {'id': 675891555769696257, 'retweet_count': 761, 'favorite_count': 1918},\n",
       " {'id': 675898130735476737, 'retweet_count': 506, 'favorite_count': 1440},\n",
       " {'id': 676089483918516224, 'retweet_count': 389, 'favorite_count': 1179},\n",
       " {'id': 676098748976615425, 'retweet_count': 1246, 'favorite_count': 2668},\n",
       " {'id': 676101918813499392, 'retweet_count': 1047, 'favorite_count': 2578},\n",
       " {'id': 676146341966438401, 'retweet_count': 585, 'favorite_count': 1746},\n",
       " {'id': 676191832485810177, 'retweet_count': 915, 'favorite_count': 2050},\n",
       " {'id': 676215927814406144, 'retweet_count': 516, 'favorite_count': 1569},\n",
       " {'id': 676219687039057920, 'retweet_count': 27641, 'favorite_count': 70610},\n",
       " {'id': 676237365392908289, 'retweet_count': 249, 'favorite_count': 1090},\n",
       " {'id': 676263575653122048, 'retweet_count': 483, 'favorite_count': 1887},\n",
       " {'id': 676430933382295552, 'retweet_count': 302, 'favorite_count': 1259},\n",
       " {'id': 676440007570247681, 'retweet_count': 587, 'favorite_count': 1560},\n",
       " {'id': 676470639084101634, 'retweet_count': 4164, 'favorite_count': 10546},\n",
       " {'id': 676496375194980353, 'retweet_count': 471, 'favorite_count': 1371},\n",
       " {'id': 676533798876651520, 'retweet_count': 487, 'favorite_count': 1694},\n",
       " {'id': 676575501977128964, 'retweet_count': 985, 'favorite_count': 2324},\n",
       " {'id': 676582956622721024, 'retweet_count': 251, 'favorite_count': 1071},\n",
       " {'id': 676588346097852417, 'retweet_count': 696, 'favorite_count': 2076},\n",
       " {'id': 676603393314578432, 'retweet_count': 339, 'favorite_count': 1036},\n",
       " {'id': 676606785097199616, 'retweet_count': 386, 'favorite_count': 1720},\n",
       " {'id': 676613908052996102, 'retweet_count': 176, 'favorite_count': 982},\n",
       " {'id': 676617503762681856, 'retweet_count': 854, 'favorite_count': 2613},\n",
       " {'id': 676776431406465024, 'retweet_count': 1796, 'favorite_count': 4498},\n",
       " {'id': 676811746707918848, 'retweet_count': 379, 'favorite_count': 1302},\n",
       " {'id': 676819651066732545, 'retweet_count': 599, 'favorite_count': 1652},\n",
       " {'id': 676821958043033607, 'retweet_count': 13723, 'favorite_count': 20636},\n",
       " {'id': 676864501615042560, 'retweet_count': 623, 'favorite_count': 1884},\n",
       " {'id': 676897532954456065, 'retweet_count': 647, 'favorite_count': 2049},\n",
       " {'id': 676936541936185344, 'retweet_count': 4415, 'favorite_count': 11576},\n",
       " {'id': 676942428000112642, 'retweet_count': 665, 'favorite_count': 1866},\n",
       " {'id': 676946864479084545, 'retweet_count': 326, 'favorite_count': 1573},\n",
       " {'id': 676948236477857792, 'retweet_count': 771, 'favorite_count': 1951},\n",
       " {'id': 676949632774234114, 'retweet_count': 348, 'favorite_count': 1180},\n",
       " {'id': 676957860086095872, 'retweet_count': 719, 'favorite_count': 2019},\n",
       " {'id': 676975532580409345, 'retweet_count': 949, 'favorite_count': 2519},\n",
       " {'id': 677187300187611136, 'retweet_count': 808, 'favorite_count': 2477},\n",
       " {'id': 677228873407442944, 'retweet_count': 1461, 'favorite_count': 3196},\n",
       " {'id': 677269281705472000, 'retweet_count': 634, 'favorite_count': 1794},\n",
       " {'id': 677301033169788928, 'retweet_count': 354, 'favorite_count': 1111},\n",
       " {'id': 677314812125323265, 'retweet_count': 469, 'favorite_count': 1496},\n",
       " {'id': 677328882937298944, 'retweet_count': 1338, 'favorite_count': 3321},\n",
       " {'id': 677331501395156992, 'retweet_count': 207, 'favorite_count': 987},\n",
       " {'id': 677334615166730240, 'retweet_count': 250, 'favorite_count': 1225},\n",
       " {'id': 677530072887205888, 'retweet_count': 204, 'favorite_count': 963},\n",
       " {'id': 677547928504967168, 'retweet_count': 3282, 'favorite_count': 6303},\n",
       " {'id': 677557565589463040, 'retweet_count': 1012, 'favorite_count': 2213},\n",
       " {'id': 677565715327688705, 'retweet_count': 409, 'favorite_count': 1187},\n",
       " {'id': 677573743309385728, 'retweet_count': 597, 'favorite_count': 1931},\n",
       " {'id': 677644091929329666, 'retweet_count': 725, 'favorite_count': 1704},\n",
       " {'id': 677662372920729601, 'retweet_count': 840, 'favorite_count': 1767},\n",
       " {'id': 677673981332312066, 'retweet_count': 1345, 'favorite_count': 3025},\n",
       " {'id': 677687604918272002, 'retweet_count': 751, 'favorite_count': 2249},\n",
       " {'id': 677698403548192770, 'retweet_count': 286, 'favorite_count': 1114},\n",
       " {'id': 677700003327029250, 'retweet_count': 1285, 'favorite_count': 3103},\n",
       " {'id': 677716515794329600, 'retweet_count': 874, 'favorite_count': 2781},\n",
       " {'id': 677895101218201600, 'retweet_count': 1836, 'favorite_count': 4378},\n",
       " {'id': 677918531514703872, 'retweet_count': 364, 'favorite_count': 1216},\n",
       " {'id': 678021115718029313, 'retweet_count': 5605, 'favorite_count': 12329},\n",
       " {'id': 678255464182861824, 'retweet_count': 327, 'favorite_count': 1446},\n",
       " {'id': 678278586130948096, 'retweet_count': 5469, 'favorite_count': 10384},\n",
       " {'id': 678334497360859136, 'retweet_count': 222, 'favorite_count': 1180},\n",
       " {'id': 678341075375947776, 'retweet_count': 472, 'favorite_count': 1570},\n",
       " {'id': 678380236862578688, 'retweet_count': 821, 'favorite_count': 2229},\n",
       " {'id': 678389028614488064, 'retweet_count': 380, 'favorite_count': 1708},\n",
       " {'id': 678396796259975168, 'retweet_count': 373, 'favorite_count': 1444},\n",
       " {'id': 678399652199309312, 'retweet_count': 28461, 'favorite_count': 73128},\n",
       " {'id': 678410210315247616, 'retweet_count': 1606, 'favorite_count': 3813},\n",
       " {'id': 678424312106393600, 'retweet_count': 2262, 'favorite_count': 4981},\n",
       " {'id': 678446151570427904, 'retweet_count': 1370, 'favorite_count': 3647},\n",
       " {'id': 678643457146150913, 'retweet_count': 359, 'favorite_count': 1873},\n",
       " {'id': 678675843183484930, 'retweet_count': 1312, 'favorite_count': 2597},\n",
       " {'id': 678740035362037760, 'retweet_count': 1484, 'favorite_count': 3379},\n",
       " {'id': 678755239630127104, 'retweet_count': 2918, 'favorite_count': 6461},\n",
       " {'id': 678764513869611008, 'retweet_count': 413, 'favorite_count': 1476},\n",
       " {'id': 678767140346941444, 'retweet_count': 1221, 'favorite_count': 3214},\n",
       " {'id': 678774928607469569, 'retweet_count': 819, 'favorite_count': 2566},\n",
       " {'id': 678798276842360832, 'retweet_count': 1024, 'favorite_count': 3154},\n",
       " {'id': 678800283649069056, 'retweet_count': 817, 'favorite_count': 2350},\n",
       " {'id': 678969228704284672, 'retweet_count': 408, 'favorite_count': 1496},\n",
       " {'id': 678991772295516161, 'retweet_count': 1014, 'favorite_count': 2061},\n",
       " {'id': 679047485189439488, 'retweet_count': 585, 'favorite_count': 2049},\n",
       " {'id': 679062614270468097, 'retweet_count': 7179, 'favorite_count': 15438},\n",
       " {'id': 679111216690831360, 'retweet_count': 2300, 'favorite_count': 5410},\n",
       " {'id': 679132435750195208, 'retweet_count': 1033, 'favorite_count': 2690},\n",
       " {'id': 679148763231985668, 'retweet_count': 919, 'favorite_count': 2545},\n",
       " {'id': 679158373988876288, 'retweet_count': 7216, 'favorite_count': 19361},\n",
       " {'id': 679462823135686656, 'retweet_count': 16933, 'favorite_count': 29286},\n",
       " {'id': 679475951516934144, 'retweet_count': 578, 'favorite_count': 1914},\n",
       " {'id': 679503373272485890, 'retweet_count': 1330, 'favorite_count': 2902},\n",
       " {'id': 679511351870550016, 'retweet_count': 1142, 'favorite_count': 3061},\n",
       " {'id': 679527802031484928, 'retweet_count': 648, 'favorite_count': 2418},\n",
       " {'id': 679530280114372609, 'retweet_count': 1876, 'favorite_count': 4350},\n",
       " {'id': 679722016581222400, 'retweet_count': 425, 'favorite_count': 1535},\n",
       " {'id': 679729593985699840, 'retweet_count': 746, 'favorite_count': 1988},\n",
       " {'id': 679736210798047232, 'retweet_count': 713, 'favorite_count': 1906},\n",
       " {'id': 679777920601223168, 'retweet_count': 991, 'favorite_count': 2851},\n",
       " {'id': 679828447187857408, 'retweet_count': 12529, 'favorite_count': 33004},\n",
       " {'id': 679844490799091713, 'retweet_count': 686, 'favorite_count': 2183},\n",
       " {'id': 679854723806179328, 'retweet_count': 1098, 'favorite_count': 2604},\n",
       " {'id': 679862121895714818, 'retweet_count': 553, 'favorite_count': 2243},\n",
       " {'id': 679877062409191424, 'retweet_count': 575, 'favorite_count': 1787},\n",
       " {'id': 680070545539371008, 'retweet_count': 771, 'favorite_count': 2379},\n",
       " {'id': 680085611152338944, 'retweet_count': 8117, 'favorite_count': 11706},\n",
       " {'id': 680100725817409536, 'retweet_count': 1244, 'favorite_count': 3294},\n",
       " {'id': 680115823365742593, 'retweet_count': 821, 'favorite_count': 2491},\n",
       " {'id': 680130881361686529, 'retweet_count': 854, 'favorite_count': 2107},\n",
       " {'id': 680145970311643136, 'retweet_count': 1555, 'favorite_count': 3308},\n",
       " {'id': 680161097740095489, 'retweet_count': 669, 'favorite_count': 2130},\n",
       " {'id': 680176173301628928, 'retweet_count': 1390, 'favorite_count': 3546},\n",
       " {'id': 680191257256136705, 'retweet_count': 440, 'favorite_count': 1972},\n",
       " {'id': 680206703334408192, 'retweet_count': 1040, 'favorite_count': 2578},\n",
       " {'id': 680221482581123072, 'retweet_count': 260, 'favorite_count': 1356},\n",
       " {'id': 680440374763077632, 'retweet_count': 438, 'favorite_count': 1320},\n",
       " {'id': 680473011644985345, 'retweet_count': 668, 'favorite_count': 2337},\n",
       " {'id': 680494726643068929, 'retweet_count': 438, 'favorite_count': 1571},\n",
       " {'id': 680497766108381184, 'retweet_count': 1728, 'favorite_count': 3876},\n",
       " {'id': 680583894916304897, 'retweet_count': 1185, 'favorite_count': 3291},\n",
       " {'id': 680609293079592961, 'retweet_count': 622, 'favorite_count': 2405},\n",
       " {'id': 680798457301471234, 'retweet_count': 937, 'favorite_count': 2598},\n",
       " {'id': 680801747103793152, 'retweet_count': 739, 'favorite_count': 2181},\n",
       " {'id': 680836378243002368, 'retweet_count': 1182, 'favorite_count': 3173},\n",
       " {'id': 680889648562991104, 'retweet_count': 323, 'favorite_count': 1611},\n",
       " {'id': 680913438424612864, 'retweet_count': 562, 'favorite_count': 2203},\n",
       " {'id': 680934982542561280, 'retweet_count': 391, 'favorite_count': 1907},\n",
       " {'id': 680940246314430465, 'retweet_count': 935, 'favorite_count': 2921},\n",
       " {'id': 680959110691590145, 'retweet_count': 1816, 'favorite_count': 4199},\n",
       " {'id': 680970795137544192, 'retweet_count': 583, 'favorite_count': 2199},\n",
       " {'id': 681193455364796417, 'retweet_count': 1327, 'favorite_count': 3398},\n",
       " {'id': 681231109724700672, 'retweet_count': 436, 'favorite_count': 2231},\n",
       " {'id': 681242418453299201, 'retweet_count': 469, 'favorite_count': 1355},\n",
       " {'id': 681261549936340994, 'retweet_count': 235, 'favorite_count': 1332},\n",
       " {'id': 681281657291280384, 'retweet_count': 993, 'favorite_count': 2957},\n",
       " {'id': 681297372102656000, 'retweet_count': 852, 'favorite_count': 2951},\n",
       " {'id': 681302363064414209, 'retweet_count': 1618, 'favorite_count': 3584},\n",
       " {'id': 681320187870711809, 'retweet_count': 671, 'favorite_count': 2400},\n",
       " {'id': 681339448655802368, 'retweet_count': 3692, 'favorite_count': 8542},\n",
       " {'id': 681523177663676416, 'retweet_count': 5184, 'favorite_count': 13129},\n",
       " {'id': 681579835668455424, 'retweet_count': 1172, 'favorite_count': 3241},\n",
       " {'id': 681610798867845120, 'retweet_count': 416, 'favorite_count': 1725},\n",
       " {'id': 681654059175129088, 'retweet_count': 819, 'favorite_count': 2410},\n",
       " {'id': 681679526984871937, 'retweet_count': 399, 'favorite_count': 1628},\n",
       " {'id': 681694085539872773, 'retweet_count': 3678, 'favorite_count': 11779},\n",
       " {'id': 681891461017812993, 'retweet_count': 744, 'favorite_count': 2266},\n",
       " {'id': 681981167097122816, 'retweet_count': 916, 'favorite_count': 2586},\n",
       " {'id': 682003177596559360, 'retweet_count': 1365, 'favorite_count': 2850},\n",
       " {'id': 682032003584274432, 'retweet_count': 1788, 'favorite_count': 6042},\n",
       " {'id': 682047327939461121, 'retweet_count': 845, 'favorite_count': 2945},\n",
       " {'id': 682059653698686977, 'retweet_count': 1525, 'favorite_count': 4530},\n",
       " {'id': 682242692827447297, 'retweet_count': 1036, 'favorite_count': 2960},\n",
       " {'id': 682259524040966145, 'retweet_count': 1077, 'favorite_count': 3796},\n",
       " {'id': 682303737705140231, 'retweet_count': 883, 'favorite_count': 2812},\n",
       " {'id': 682389078323662849, 'retweet_count': 423, 'favorite_count': 1533},\n",
       " {'id': 682393905736888321, 'retweet_count': 595, 'favorite_count': 2062},\n",
       " {'id': 682406705142087680, 'retweet_count': 1584, 'favorite_count': 6945},\n",
       " {'id': 682429480204398592, 'retweet_count': 1042, 'favorite_count': 3174},\n",
       " {'id': 682638830361513985, 'retweet_count': 534, 'favorite_count': 1898},\n",
       " {'id': 682662431982772225, 'retweet_count': 987, 'favorite_count': 2806},\n",
       " {'id': 682697186228989953, 'retweet_count': 333, 'favorite_count': 1211},\n",
       " {'id': 682750546109968385, 'retweet_count': 398, 'favorite_count': 1399},\n",
       " {'id': 682788441537560576, 'retweet_count': 1016, 'favorite_count': 2277},\n",
       " {'id': 682962037429899265, 'retweet_count': 14818, 'favorite_count': 33681},\n",
       " {'id': 683030066213818368, 'retweet_count': 666, 'favorite_count': 1994},\n",
       " {'id': 683078886620553216, 'retweet_count': 517, 'favorite_count': 1852},\n",
       " {'id': 683098815881154561, 'retweet_count': 587, 'favorite_count': 1991},\n",
       " {'id': 683111407806746624, 'retweet_count': 814, 'favorite_count': 3137},\n",
       " {'id': 683142553609318400, 'retweet_count': 931, 'favorite_count': 2638},\n",
       " {'id': 683357973142474752, 'retweet_count': 822, 'favorite_count': 2658},\n",
       " {'id': 683391852557561860, 'retweet_count': 2172, 'favorite_count': 7030},\n",
       " {'id': 683449695444799489, 'retweet_count': 1454, 'favorite_count': 3568},\n",
       " {'id': 683462770029932544, 'retweet_count': 620, 'favorite_count': 2236},\n",
       " {'id': 683481228088049664, 'retweet_count': 901, 'favorite_count': 2442},\n",
       " {'id': 683498322573824003, 'retweet_count': 872, 'favorite_count': 2922},\n",
       " {'id': 683742671509258241, 'retweet_count': 2993, 'favorite_count': 5957},\n",
       " {'id': 683773439333797890, 'retweet_count': 1218, 'favorite_count': 3060},\n",
       " {'id': 683828599284170753, 'retweet_count': 969, 'favorite_count': 2577},\n",
       " {'id': 683834909291606017, 'retweet_count': 1017, 'favorite_count': 2400},\n",
       " {'id': 683849932751646720, 'retweet_count': 850, 'favorite_count': 2408},\n",
       " {'id': 683852578183077888, 'retweet_count': 315, 'favorite_count': 1786},\n",
       " {'id': 683857920510050305, 'retweet_count': 1017, 'favorite_count': 3505},\n",
       " {'id': 684097758874210310, 'retweet_count': 1293, 'favorite_count': 3780},\n",
       " {'id': 684122891630342144, 'retweet_count': 425, 'favorite_count': 1858},\n",
       " {'id': 684177701129875456, 'retweet_count': 591, 'favorite_count': 1862},\n",
       " {'id': 684188786104872960, 'retweet_count': 1045, 'favorite_count': 3213},\n",
       " {'id': 684195085588783105, 'retweet_count': 453, 'favorite_count': 1754},\n",
       " {'id': 684200372118904832, 'retweet_count': 943, 'favorite_count': 1975},\n",
       " {'id': 684222868335505415, 'retweet_count': 1238, 'favorite_count': 3505},\n",
       " {'id': 684225744407494656, 'retweet_count': 183, 'favorite_count': 1137},\n",
       " {'id': 684241637099323392, 'retweet_count': 2939, 'favorite_count': 7463},\n",
       " {'id': 684460069371654144, 'retweet_count': 502, 'favorite_count': 1811},\n",
       " {'id': 684481074559381504, 'retweet_count': 1069, 'favorite_count': 3557},\n",
       " {'id': 684538444857667585, 'retweet_count': 852, 'favorite_count': 2432},\n",
       " {'id': 684567543613382656, 'retweet_count': 1101, 'favorite_count': 2752},\n",
       " {'id': 684594889858887680, 'retweet_count': 3164, 'favorite_count': 8161},\n",
       " {'id': 684800227459624960, 'retweet_count': 899, 'favorite_count': 2509},\n",
       " {'id': 684880619965411328, 'retweet_count': 722, 'favorite_count': 1918},\n",
       " {'id': 684902183876321280, 'retweet_count': 463, 'favorite_count': 1716},\n",
       " {'id': 684914660081053696, 'retweet_count': 1320, 'favorite_count': 3212},\n",
       " {'id': 684926975086034944, 'retweet_count': 417, 'favorite_count': 3210},\n",
       " {'id': 684940049151070208, 'retweet_count': 944, 'favorite_count': 2963},\n",
       " {'id': 684959798585110529, 'retweet_count': 2804, 'favorite_count': 6278},\n",
       " {'id': 685169283572338688, 'retweet_count': 1272, 'favorite_count': 3772},\n",
       " {'id': 685198997565345792, 'retweet_count': 588, 'favorite_count': 2135},\n",
       " {'id': 685268753634967552, 'retweet_count': 1070, 'favorite_count': 2832},\n",
       " {'id': 685307451701334016, 'retweet_count': 395, 'favorite_count': 1919},\n",
       " {'id': 685315239903100929, 'retweet_count': 942, 'favorite_count': 3026},\n",
       " {'id': 685321586178670592, 'retweet_count': 578, 'favorite_count': 2436},\n",
       " {'id': 685325112850124800, 'retweet_count': 3571, 'favorite_count': 8660},\n",
       " {'id': 685532292383666176, 'retweet_count': 1043, 'favorite_count': 2801},\n",
       " {'id': 685547936038666240, 'retweet_count': 14076, 'favorite_count': 30277},\n",
       " {'id': 685641971164143616, 'retweet_count': 694, 'favorite_count': 2682},\n",
       " {'id': 685663452032069632, 'retweet_count': 1330, 'favorite_count': 2968},\n",
       " {'id': 685667379192414208, 'retweet_count': 507, 'favorite_count': 2180},\n",
       " {'id': 685906723014619143, 'retweet_count': 2580, 'favorite_count': 6879},\n",
       " {'id': 685943807276412928, 'retweet_count': 533, 'favorite_count': 1495},\n",
       " {'id': 685973236358713344, 'retweet_count': 477, 'favorite_count': 1931},\n",
       " {'id': 686003207160610816, 'retweet_count': 562, 'favorite_count': 1678},\n",
       " {'id': 686007916130873345, 'retweet_count': 363, 'favorite_count': 2274},\n",
       " {'id': 686034024800862208, 'retweet_count': 1035, 'favorite_count': 2838},\n",
       " {'id': 686050296934563840, 'retweet_count': 665, 'favorite_count': 2065},\n",
       " {'id': 686358356425093120, 'retweet_count': 597, 'favorite_count': 1991},\n",
       " {'id': 686377065986265092, 'retweet_count': 514, 'favorite_count': 2043},\n",
       " {'id': 686386521809772549, 'retweet_count': 791, 'favorite_count': 3003},\n",
       " {'id': 686606069955735556, 'retweet_count': 490, 'favorite_count': 1748},\n",
       " {'id': 686618349602762752, 'retweet_count': 1237, 'favorite_count': 3404},\n",
       " {'id': 686683045143953408, 'retweet_count': 729, 'favorite_count': 2605},\n",
       " {'id': 686730991906516992, 'retweet_count': 1087, 'favorite_count': 3792},\n",
       " {'id': 686749460672679938, 'retweet_count': 1314, 'favorite_count': 3193},\n",
       " {'id': 686947101016735744, 'retweet_count': 2899, 'favorite_count': 7956},\n",
       " {'id': 687096057537363968, 'retweet_count': 551, 'favorite_count': 2072},\n",
       " {'id': 687102708889812993, 'retweet_count': 870, 'favorite_count': 2167},\n",
       " {'id': 687109925361856513, 'retweet_count': 2224, 'favorite_count': 5346},\n",
       " {'id': 687124485711986689, 'retweet_count': 460, 'favorite_count': 2014},\n",
       " {'id': 687127927494963200, 'retweet_count': 2046, 'favorite_count': 4962},\n",
       " {'id': 687312378585812992, 'retweet_count': 1726, 'favorite_count': 3997},\n",
       " {'id': 687317306314240000, 'retweet_count': 8323, 'favorite_count': 18601},\n",
       " {'id': 687460506001633280, 'retweet_count': 490, 'favorite_count': 1907},\n",
       " {'id': 687476254459715584, 'retweet_count': 481, 'favorite_count': 1824},\n",
       " {'id': 687480748861947905, 'retweet_count': 221, 'favorite_count': 1473},\n",
       " {'id': 687494652870668288, 'retweet_count': 527, 'favorite_count': 1753},\n",
       " {'id': 687664829264453632, 'retweet_count': 469, 'favorite_count': 1800},\n",
       " {'id': 687704180304273409, 'retweet_count': 764, 'favorite_count': 2237},\n",
       " {'id': 687807801670897665, 'retweet_count': 656, 'favorite_count': 2196},\n",
       " {'id': 687818504314159109, 'retweet_count': 861, 'favorite_count': 2278},\n",
       " {'id': 687826841265172480, 'retweet_count': 1007, 'favorite_count': 2513},\n",
       " {'id': 688064179421470721, 'retweet_count': 322, 'favorite_count': 1592},\n",
       " {'id': 688116655151435777, 'retweet_count': 696, 'favorite_count': 2604},\n",
       " {'id': 688179443353796608, 'retweet_count': 527, 'favorite_count': 1976},\n",
       " {'id': 688211956440801280, 'retweet_count': 751, 'favorite_count': 2072},\n",
       " {'id': 688385280030670848, 'retweet_count': 4074, 'favorite_count': 8509},\n",
       " {'id': 688519176466644993, 'retweet_count': 657, 'favorite_count': 2146},\n",
       " {'id': 688547210804498433, 'retweet_count': 626, 'favorite_count': 2393},\n",
       " {'id': 688789766343622656, 'retweet_count': 604, 'favorite_count': 2048},\n",
       " {'id': 688804835492233216, 'retweet_count': 168, 'favorite_count': 886},\n",
       " {'id': 688828561667567616, 'retweet_count': 321, 'favorite_count': 1271},\n",
       " {'id': 688894073864884227, 'retweet_count': 618, 'favorite_count': 2058},\n",
       " {'id': 688898160958271489, 'retweet_count': 709, 'favorite_count': 1922},\n",
       " {'id': 688908934925697024, 'retweet_count': 706, 'favorite_count': 1937},\n",
       " {'id': 688916208532455424, 'retweet_count': 772, 'favorite_count': 2491},\n",
       " {'id': 689143371370250240, 'retweet_count': 454, 'favorite_count': 1862},\n",
       " {'id': 689154315265683456, 'retweet_count': 895, 'favorite_count': 2854},\n",
       " {'id': 689275259254616065, 'retweet_count': 225, 'favorite_count': 1051},\n",
       " {'id': 689280876073582592, 'retweet_count': 638, 'favorite_count': 1819},\n",
       " {'id': 689283819090870273, 'retweet_count': 1004, 'favorite_count': 3009},\n",
       " {'id': 689289219123089408, 'retweet_count': 845, 'favorite_count': 2068},\n",
       " {'id': 689517482558820352, 'retweet_count': 1293, 'favorite_count': 3119},\n",
       " {'id': 689557536375177216, 'retweet_count': 403, 'favorite_count': 1893},\n",
       " {'id': 689599056876867584, 'retweet_count': 5005, 'favorite_count': 10733},\n",
       " {'id': 689623661272240129, 'retweet_count': 579, 'favorite_count': 2038},\n",
       " {'id': 689659372465688576, 'retweet_count': 3462, 'favorite_count': 9498},\n",
       " {'id': 689661964914655233, 'retweet_count': 850, 'favorite_count': 2990},\n",
       " {'id': 689835978131935233, 'retweet_count': 688, 'favorite_count': 2011},\n",
       " {'id': 689877686181715968, 'retweet_count': 1043, 'favorite_count': 2790},\n",
       " {'id': 689905486972461056, 'retweet_count': 622, 'favorite_count': 2253},\n",
       " {'id': 689977555533848577, 'retweet_count': 407, 'favorite_count': 1262},\n",
       " {'id': 689999384604450816, 'retweet_count': 328, 'favorite_count': 1303},\n",
       " {'id': 690005060500217858, 'retweet_count': 1533, 'favorite_count': 3380},\n",
       " {'id': 690015576308211712, 'retweet_count': 659, 'favorite_count': 2296},\n",
       " {'id': 690021994562220032, 'retweet_count': 922, 'favorite_count': 2580},\n",
       " {'id': 690248561355657216, 'retweet_count': 369, 'favorite_count': 1536},\n",
       " {'id': 690360449368465409, 'retweet_count': 789, 'favorite_count': 2440},\n",
       " {'id': 690374419777196032, 'retweet_count': 759, 'favorite_count': 2964},\n",
       " {'id': 690400367696297985, 'retweet_count': 406, 'favorite_count': 1741},\n",
       " {'id': 690597161306841088, 'retweet_count': 546, 'favorite_count': 1779},\n",
       " {'id': 690649993829576704, 'retweet_count': 248, 'favorite_count': 1199},\n",
       " {'id': 690690673629138944, 'retweet_count': 744, 'favorite_count': 2144},\n",
       " {'id': 690728923253055490, 'retweet_count': 465, 'favorite_count': 1994},\n",
       " {'id': 690735892932222976, 'retweet_count': 1149, 'favorite_count': 3490},\n",
       " {'id': 690932576555528194, 'retweet_count': 905, 'favorite_count': 3021},\n",
       " {'id': 690938899477221376, 'retweet_count': 1744, 'favorite_count': 3764},\n",
       " {'id': 690959652130045952, 'retweet_count': 1112, 'favorite_count': 3304},\n",
       " {'id': 691090071332753408, 'retweet_count': 305, 'favorite_count': 1603},\n",
       " {'id': 691096613310316544, 'retweet_count': 792, 'favorite_count': 2753},\n",
       " {'id': 691321916024623104, 'retweet_count': 599, 'favorite_count': 2377},\n",
       " {'id': 691416866452082688, 'retweet_count': 6894, 'favorite_count': 17807},\n",
       " {'id': 691444869282295808, 'retweet_count': 750, 'favorite_count': 2432},\n",
       " {'id': 691459709405118465, 'retweet_count': 1019, 'favorite_count': 3720},\n",
       " {'id': 691483041324204033, 'retweet_count': 500, 'favorite_count': 2195},\n",
       " {'id': 691675652215414786, 'retweet_count': 459, 'favorite_count': 1794},\n",
       " {'id': 691756958957883396, 'retweet_count': 884, 'favorite_count': 2594},\n",
       " {'id': 691820333922455552, 'retweet_count': 1488, 'favorite_count': 3636},\n",
       " {'id': 692017291282812928, 'retweet_count': 869, 'favorite_count': 2671},\n",
       " {'id': 692142790915014657, 'retweet_count': 353, 'favorite_count': 1509},\n",
       " {'id': 692158366030913536, 'retweet_count': 718, 'favorite_count': 1970},\n",
       " {'id': 692187005137076224, 'retweet_count': 743, 'favorite_count': 2330},\n",
       " {'id': 692417313023332352, 'retweet_count': 3131, 'favorite_count': 8637},\n",
       " {'id': 692530551048294401, 'retweet_count': 368, 'favorite_count': 1694},\n",
       " {'id': 692535307825213440, 'retweet_count': 1231, 'favorite_count': 2899},\n",
       " {'id': 692568918515392513, 'retweet_count': 1392, 'favorite_count': 4020},\n",
       " {'id': 692752401762250755, 'retweet_count': 3294, 'favorite_count': 6266},\n",
       " {'id': 692828166163931137, 'retweet_count': 795, 'favorite_count': 2652},\n",
       " {'id': 692894228850999298, 'retweet_count': 713, 'favorite_count': 2079},\n",
       " {'id': 692901601640583168, 'retweet_count': 536, 'favorite_count': 1612},\n",
       " {'id': 692905862751522816, 'retweet_count': 789, 'favorite_count': 2230},\n",
       " {'id': 692919143163629568, 'retweet_count': 695, 'favorite_count': 2489},\n",
       " {'id': 693095443459342336, 'retweet_count': 403, 'favorite_count': 1697},\n",
       " {'id': 693109034023534592, 'retweet_count': 549, 'favorite_count': 1559},\n",
       " {'id': 693155686491000832, 'retweet_count': 2889, 'favorite_count': 7253},\n",
       " {'id': 693231807727280129, 'retweet_count': 669, 'favorite_count': 2650},\n",
       " {'id': 693262851218264065, 'retweet_count': 452, 'favorite_count': 2039},\n",
       " {'id': 693280720173801472, 'retweet_count': 1120, 'favorite_count': 3082},\n",
       " {'id': 693486665285931008, 'retweet_count': 564, 'favorite_count': 1622},\n",
       " {'id': 693590843962331137, 'retweet_count': 1774, 'favorite_count': 4648},\n",
       " {'id': 693622659251335168, 'retweet_count': 336, 'favorite_count': 1415},\n",
       " {'id': 693629975228977152, 'retweet_count': 719, 'favorite_count': 2253},\n",
       " {'id': 693642232151285760, 'retweet_count': 376, 'favorite_count': 2346},\n",
       " {'id': 693647888581312512, 'retweet_count': 517, 'favorite_count': 2472},\n",
       " {'id': 693942351086120961, 'retweet_count': 328, 'favorite_count': 1619},\n",
       " {'id': 694001791655137281, 'retweet_count': 923, 'favorite_count': 3135},\n",
       " {'id': 694183373896572928, 'retweet_count': 842, 'favorite_count': 2703},\n",
       " {'id': 694206574471057408, 'retweet_count': 1847, 'favorite_count': 3809},\n",
       " {'id': 694329668942569472, 'retweet_count': 449, 'favorite_count': 1817},\n",
       " {'id': 694352839993344000, 'retweet_count': 538, 'favorite_count': 1874},\n",
       " {'id': 694356675654983680, 'retweet_count': 250, 'favorite_count': 1388},\n",
       " {'id': 694669722378485760, 'retweet_count': 13045, 'favorite_count': 32930},\n",
       " {'id': 694905863685980160, 'retweet_count': 834, 'favorite_count': 2532},\n",
       " {'id': 695051054296211456, 'retweet_count': 715, 'favorite_count': 2430},\n",
       " {'id': 695064344191721472, 'retweet_count': 527, 'favorite_count': 1474},\n",
       " {'id': 695074328191332352, 'retweet_count': 990, 'favorite_count': 2603},\n",
       " {'id': 695095422348574720, 'retweet_count': 549, 'favorite_count': 2449},\n",
       " {'id': 695314793360662529, 'retweet_count': 1294, 'favorite_count': 3324},\n",
       " {'id': 695409464418041856, 'retweet_count': 3234, 'favorite_count': 7971},\n",
       " {'id': 695446424020918272, 'retweet_count': 1649, 'favorite_count': 4082},\n",
       " {'id': 695629776980148225, 'retweet_count': 1890, 'favorite_count': 4183},\n",
       " {'id': 695767669421768709, 'retweet_count': 664, 'favorite_count': 1705},\n",
       " {'id': 695794761660297217, 'retweet_count': 705, 'favorite_count': 2913},\n",
       " {'id': 695816827381944320, 'retweet_count': 1051, 'favorite_count': 2755},\n",
       " {'id': 696405997980676096, 'retweet_count': 1050, 'favorite_count': 2920},\n",
       " {'id': 696488710901260288, 'retweet_count': 925, 'favorite_count': 2304},\n",
       " {'id': 696713835009417216, 'retweet_count': 583, 'favorite_count': 2169},\n",
       " {'id': 696754882863349760, 'retweet_count': 328, 'favorite_count': 1370},\n",
       " {'id': 696877980375769088, 'retweet_count': 636, 'favorite_count': 2249},\n",
       " {'id': 696886256886657024, 'retweet_count': 1625, 'favorite_count': 4439},\n",
       " {'id': 696894894812565505, 'retweet_count': 615, 'favorite_count': 2162},\n",
       " {'id': 696900204696625153, 'retweet_count': 933, 'favorite_count': 2907},\n",
       " {'id': 697242256848379904, 'retweet_count': 615, 'favorite_count': 2321},\n",
       " {'id': 697255105972801536, 'retweet_count': 1052, 'favorite_count': 2837},\n",
       " {'id': 697259378236399616, 'retweet_count': 900, 'favorite_count': 3034},\n",
       " {'id': 697270446429966336, 'retweet_count': 1712, 'favorite_count': 4339},\n",
       " {'id': 697463031882764288, 'retweet_count': 1267, 'favorite_count': 3161},\n",
       " {'id': 697482927769255936, 'retweet_count': 598, 'favorite_count': 2231},\n",
       " {'id': 697575480820686848, 'retweet_count': 452, 'favorite_count': 1882},\n",
       " {'id': 697596423848730625, 'retweet_count': 1131, 'favorite_count': 2767},\n",
       " {'id': 697616773278015490, 'retweet_count': 921, 'favorite_count': 2890},\n",
       " {'id': 697881462549430272, 'retweet_count': 1054, 'favorite_count': 2774},\n",
       " {'id': 697943111201378304, 'retweet_count': 613, 'favorite_count': 2193},\n",
       " {'id': 697990423684476929, 'retweet_count': 1167, 'favorite_count': 3010},\n",
       " {'id': 697995514407682048, 'retweet_count': 305, 'favorite_count': 1408},\n",
       " {'id': 698178924120031232, 'retweet_count': 674, 'favorite_count': 2584},\n",
       " {'id': 698195409219559425, 'retweet_count': 5437, 'favorite_count': 15472},\n",
       " {'id': 698262614669991936, 'retweet_count': 1792, 'favorite_count': 4388},\n",
       " {'id': 698342080612007937, 'retweet_count': 868, 'favorite_count': 2072},\n",
       " {'id': 698355670425473025, 'retweet_count': 394, 'favorite_count': 1701},\n",
       " {'id': 698549713696649216, 'retweet_count': 558, 'favorite_count': 2146},\n",
       " {'id': 698635131305795584, 'retweet_count': 312, 'favorite_count': 1199},\n",
       " {'id': 698703483621523456, 'retweet_count': 335, 'favorite_count': 1316},\n",
       " {'id': 698710712454139905, 'retweet_count': 616, 'favorite_count': 2261},\n",
       " {'id': 698907974262222848, 'retweet_count': 553, 'favorite_count': 2333},\n",
       " {'id': 698953797952008193, 'retweet_count': 824, 'favorite_count': 2477},\n",
       " {'id': 698989035503689728, 'retweet_count': 876, 'favorite_count': 3072},\n",
       " {'id': 699036661657767936, 'retweet_count': 1088, 'favorite_count': 2395},\n",
       " {'id': 699072405256409088, 'retweet_count': 1076, 'favorite_count': 2708},\n",
       " {'id': 699079609774645248, 'retweet_count': 570, 'favorite_count': 2253},\n",
       " {'id': 699088579889332224, 'retweet_count': 561, 'favorite_count': 2078},\n",
       " {'id': 699323444782047232, 'retweet_count': 783, 'favorite_count': 2888},\n",
       " {'id': 699370870310113280, 'retweet_count': 391, 'favorite_count': 1746},\n",
       " {'id': 699413908797464576, 'retweet_count': 569, 'favorite_count': 1926},\n",
       " {'id': 699423671849451520, 'retweet_count': 287, 'favorite_count': 1248},\n",
       " {'id': 699434518667751424, 'retweet_count': 464, 'favorite_count': 2023},\n",
       " {'id': 699446877801091073, 'retweet_count': 2393, 'favorite_count': 5496},\n",
       " {'id': 699691744225525762, 'retweet_count': 4148, 'favorite_count': 9425},\n",
       " {'id': 699775878809702401, 'retweet_count': 538, 'favorite_count': 1799},\n",
       " {'id': 699779630832685056, 'retweet_count': 1104, 'favorite_count': 2496},\n",
       " {'id': 699788877217865730, 'retweet_count': 469, 'favorite_count': 2055},\n",
       " {'id': 699801817392291840, 'retweet_count': 846, 'favorite_count': 2767},\n",
       " {'id': 700002074055016451, 'retweet_count': 1198, 'favorite_count': 3023},\n",
       " {'id': 700029284593901568, 'retweet_count': 528, 'favorite_count': 1912},\n",
       " {'id': 700062718104104960, 'retweet_count': 611, 'favorite_count': 2443},\n",
       " {'id': 700143752053182464, 'retweet_count': 2427, 'favorite_count': 6905},\n",
       " {'id': 700151421916807169, 'retweet_count': 607, 'favorite_count': 2050},\n",
       " {'id': 700167517596164096, 'retweet_count': 652, 'favorite_count': 2425},\n",
       " {'id': 700462010979500032, 'retweet_count': 1622, 'favorite_count': 3775},\n",
       " {'id': 700505138482569216, 'retweet_count': 521, 'favorite_count': 2096},\n",
       " {'id': 700518061187723268, 'retweet_count': 720, 'favorite_count': 2386},\n",
       " {'id': 700747788515020802, 'retweet_count': 8414, 'favorite_count': 20979},\n",
       " {'id': 700796979434098688, 'retweet_count': 855, 'favorite_count': 2250},\n",
       " {'id': 700847567345688576, 'retweet_count': 449, 'favorite_count': 2267},\n",
       " {'id': 700864154249383937, 'retweet_count': 555, 'favorite_count': 2391},\n",
       " {'id': 700890391244103680, 'retweet_count': 509, 'favorite_count': 2035},\n",
       " {'id': 701214700881756160, 'retweet_count': 4624, 'favorite_count': 11247},\n",
       " {'id': 701545186879471618, 'retweet_count': 549, 'favorite_count': 2445},\n",
       " {'id': 701570477911896070, 'retweet_count': 837, 'favorite_count': 2571},\n",
       " {'id': 701601587219795968, 'retweet_count': 415, 'favorite_count': 1922},\n",
       " {'id': 701889187134500865, 'retweet_count': 1254, 'favorite_count': 3236},\n",
       " {'id': 701952816642965504, 'retweet_count': 927, 'favorite_count': 3534},\n",
       " {'id': 701981390485725185, 'retweet_count': 888, 'favorite_count': 3147},\n",
       " {'id': 702217446468493312, 'retweet_count': 1222, 'favorite_count': 4378},\n",
       " {'id': 702276748847800320, 'retweet_count': 694, 'favorite_count': 2278},\n",
       " {'id': 702321140488925184, 'retweet_count': 948, 'favorite_count': 3018},\n",
       " {'id': 702539513671897089, 'retweet_count': 864, 'favorite_count': 2636},\n",
       " {'id': 702598099714314240, 'retweet_count': 3126, 'favorite_count': 11300},\n",
       " {'id': 702671118226825216, 'retweet_count': 506, 'favorite_count': 2015},\n",
       " {'id': 702684942141153280, 'retweet_count': 963, 'favorite_count': 2968},\n",
       " {'id': 702932127499816960, 'retweet_count': 650, 'favorite_count': 2366},\n",
       " {'id': 703041949650034688, 'retweet_count': 11284, 'favorite_count': 24291},\n",
       " {'id': 703079050210877440, 'retweet_count': 2796, 'favorite_count': 6793},\n",
       " {'id': 703268521220972544, 'retweet_count': 494, 'favorite_count': 1821},\n",
       " {'id': 703356393781329922, 'retweet_count': 344, 'favorite_count': 1761},\n",
       " {'id': 703382836347330562, 'retweet_count': 1026, 'favorite_count': 3212},\n",
       " {'id': 703407252292673536, 'retweet_count': 623, 'favorite_count': 2252},\n",
       " {'id': 703425003149250560, 'retweet_count': 1217, 'favorite_count': 3491},\n",
       " {'id': 703611486317502464, 'retweet_count': 1379, 'favorite_count': 3532},\n",
       " {'id': 703631701117943808, 'retweet_count': 600, 'favorite_count': 2357},\n",
       " {'id': 703769065844768768, 'retweet_count': 1018, 'favorite_count': 3008},\n",
       " {'id': 703774238772166656, 'retweet_count': 404, 'favorite_count': 1698},\n",
       " {'id': 704054845121142784, 'retweet_count': 841, 'favorite_count': 2688},\n",
       " {'id': 704113298707505153, 'retweet_count': 519, 'favorite_count': 1711},\n",
       " {'id': 704347321748819968, 'retweet_count': 313, 'favorite_count': 1443},\n",
       " {'id': 704364645503647744, 'retweet_count': 3225, 'favorite_count': 7319},\n",
       " {'id': 704480331685040129, 'retweet_count': 978, 'favorite_count': 3138},\n",
       " {'id': 704499785726889984, 'retweet_count': 901, 'favorite_count': 2652},\n",
       " {'id': 704761120771465216, 'retweet_count': 2617, 'favorite_count': 6119},\n",
       " {'id': 704819833553219584, 'retweet_count': 895, 'favorite_count': 2444},\n",
       " {'id': 704847917308362754, 'retweet_count': 1363, 'favorite_count': 4685},\n",
       " {'id': 704859558691414016, 'retweet_count': 476, 'favorite_count': 2067},\n",
       " {'id': 704871453724954624, 'retweet_count': 1014, 'favorite_count': 3953},\n",
       " {'id': 705066031337840642, 'retweet_count': 556, 'favorite_count': 2005},\n",
       " {'id': 705102439679201280, 'retweet_count': 472, 'favorite_count': 1954},\n",
       " {'id': 705223444686888960, 'retweet_count': 712, 'favorite_count': 2366},\n",
       " {'id': 705239209544720384, 'retweet_count': 676, 'favorite_count': 2767},\n",
       " {'id': 705428427625635840, 'retweet_count': 1515, 'favorite_count': 3499},\n",
       " {'id': 705442520700944385, 'retweet_count': 1455, 'favorite_count': 4051},\n",
       " {'id': 705475953783398401, 'retweet_count': 823, 'favorite_count': 2733},\n",
       " {'id': 705591895322394625, 'retweet_count': 1026, 'favorite_count': 2905},\n",
       " {'id': 705786532653883392, 'retweet_count': 466, 'favorite_count': 1788},\n",
       " {'id': 705898680587526145, 'retweet_count': 494, 'favorite_count': 2176},\n",
       " {'id': 705970349788291072, 'retweet_count': 794, 'favorite_count': 2919},\n",
       " {'id': 705975130514706432, 'retweet_count': 661, 'favorite_count': 2858},\n",
       " {'id': 706166467411222528, 'retweet_count': 1445, 'favorite_count': 4713},\n",
       " {'id': 706265994973601792, 'retweet_count': 847, 'favorite_count': 2513},\n",
       " {'id': 706291001778950144, 'retweet_count': 434, 'favorite_count': 1566},\n",
       " {'id': 706310011488698368, 'retweet_count': 7117, 'favorite_count': 19484},\n",
       " {'id': 706346369204748288, 'retweet_count': 841, 'favorite_count': 3161},\n",
       " {'id': 706516534877929472, 'retweet_count': 929, 'favorite_count': 2869},\n",
       " {'id': 706538006853918722, 'retweet_count': 1286, 'favorite_count': 3180},\n",
       " {'id': 706593038911545345, 'retweet_count': 580, 'favorite_count': 1980},\n",
       " {'id': 706644897839910912, 'retweet_count': 982, 'favorite_count': 2337},\n",
       " {'id': 706681918348251136, 'retweet_count': 889, 'favorite_count': 3021},\n",
       " {'id': 706901761596989440, 'retweet_count': 521, 'favorite_count': 1878},\n",
       " {'id': 707014260413456384, 'retweet_count': 538, 'favorite_count': 2109},\n",
       " {'id': 707021089608753152, 'retweet_count': 1220, 'favorite_count': 3717},\n",
       " {'id': 707038192327901184, 'retweet_count': 716, 'favorite_count': 2012},\n",
       " {'id': 707059547140169728, 'retweet_count': 619, 'favorite_count': 2396},\n",
       " {'id': 707297311098011648, 'retweet_count': 707, 'favorite_count': 2577},\n",
       " {'id': 707315916783140866, 'retweet_count': 576, 'favorite_count': 2281},\n",
       " {'id': 707377100785885184, 'retweet_count': 975, 'favorite_count': 3008},\n",
       " {'id': 707387676719185920, 'retweet_count': 1144, 'favorite_count': 3208},\n",
       " {'id': 707411934438625280, 'retweet_count': 543, 'favorite_count': 2116},\n",
       " {'id': 707420581654872064, 'retweet_count': 632, 'favorite_count': 2067},\n",
       " {'id': 707610948723478529, 'retweet_count': 5705, 'favorite_count': 15558},\n",
       " {'id': 707693576495472641, 'retweet_count': 915, 'favorite_count': 3120},\n",
       " {'id': 707741517457260545, 'retweet_count': 554, 'favorite_count': 2287},\n",
       " {'id': 707776935007539200, 'retweet_count': 871, 'favorite_count': 3004},\n",
       " {'id': 707969809498152960, 'retweet_count': 866, 'favorite_count': 2481},\n",
       " {'id': 707995814724026368, 'retweet_count': 1013, 'favorite_count': 2862},\n",
       " {'id': 708026248782585858, 'retweet_count': 1747, 'favorite_count': 4058},\n",
       " {'id': 708109389455101952, 'retweet_count': 501, 'favorite_count': 1797},\n",
       " {'id': 708119489313951744, 'retweet_count': 896, 'favorite_count': 2471},\n",
       " {'id': 708130923141795840, 'retweet_count': 784, 'favorite_count': 3090},\n",
       " {'id': 708149363256774660, 'retweet_count': 1412, 'favorite_count': 3979},\n",
       " {'id': 708349470027751425, 'retweet_count': 676, 'favorite_count': 2183},\n",
       " {'id': 708356463048204288, 'retweet_count': 1198, 'favorite_count': 3296},\n",
       " {'id': 708469915515297792, 'retweet_count': 729, 'favorite_count': 2847},\n",
       " {'id': 708479650088034305, 'retweet_count': 616, 'favorite_count': 2339},\n",
       " {'id': 708711088997666817, 'retweet_count': 638, 'favorite_count': 2332},\n",
       " ...]"
      ]
     },
     "execution_count": 25,
     "metadata": {},
     "output_type": "execute_result"
    }
   ],
   "source": [
    "we_rate"
   ]
  },
  {
   "cell_type": "code",
   "execution_count": 26,
   "metadata": {},
   "outputs": [],
   "source": [
    "#convert list to dataframe\n",
    "we_rate_dogs=pd.DataFrame(we_rate,columns=[\"id\",\"retweet_count\",\"favorite_count\"] )"
   ]
  },
  {
   "cell_type": "code",
   "execution_count": 27,
   "metadata": {},
   "outputs": [
    {
     "data": {
      "text/html": [
       "<div>\n",
       "<style scoped>\n",
       "    .dataframe tbody tr th:only-of-type {\n",
       "        vertical-align: middle;\n",
       "    }\n",
       "\n",
       "    .dataframe tbody tr th {\n",
       "        vertical-align: top;\n",
       "    }\n",
       "\n",
       "    .dataframe thead th {\n",
       "        text-align: right;\n",
       "    }\n",
       "</style>\n",
       "<table border=\"1\" class=\"dataframe\">\n",
       "  <thead>\n",
       "    <tr style=\"text-align: right;\">\n",
       "      <th></th>\n",
       "      <th>id</th>\n",
       "      <th>retweet_count</th>\n",
       "      <th>favorite_count</th>\n",
       "    </tr>\n",
       "  </thead>\n",
       "  <tbody>\n",
       "    <tr>\n",
       "      <th>0</th>\n",
       "      <td>666020888022790149</td>\n",
       "      <td>419</td>\n",
       "      <td>2281</td>\n",
       "    </tr>\n",
       "    <tr>\n",
       "      <th>1</th>\n",
       "      <td>666029285002620928</td>\n",
       "      <td>39</td>\n",
       "      <td>112</td>\n",
       "    </tr>\n",
       "    <tr>\n",
       "      <th>2</th>\n",
       "      <td>666033412701032449</td>\n",
       "      <td>36</td>\n",
       "      <td>100</td>\n",
       "    </tr>\n",
       "    <tr>\n",
       "      <th>3</th>\n",
       "      <td>666044226329800704</td>\n",
       "      <td>115</td>\n",
       "      <td>245</td>\n",
       "    </tr>\n",
       "    <tr>\n",
       "      <th>4</th>\n",
       "      <td>666049248165822465</td>\n",
       "      <td>36</td>\n",
       "      <td>88</td>\n",
       "    </tr>\n",
       "    <tr>\n",
       "      <th>...</th>\n",
       "      <td>...</td>\n",
       "      <td>...</td>\n",
       "      <td>...</td>\n",
       "    </tr>\n",
       "    <tr>\n",
       "      <th>2052</th>\n",
       "      <td>891327558926688256</td>\n",
       "      <td>7715</td>\n",
       "      <td>35178</td>\n",
       "    </tr>\n",
       "    <tr>\n",
       "      <th>2053</th>\n",
       "      <td>891689557279858688</td>\n",
       "      <td>7183</td>\n",
       "      <td>36737</td>\n",
       "    </tr>\n",
       "    <tr>\n",
       "      <th>2054</th>\n",
       "      <td>891815181378084864</td>\n",
       "      <td>3464</td>\n",
       "      <td>21971</td>\n",
       "    </tr>\n",
       "    <tr>\n",
       "      <th>2055</th>\n",
       "      <td>892177421306343426</td>\n",
       "      <td>5272</td>\n",
       "      <td>29207</td>\n",
       "    </tr>\n",
       "    <tr>\n",
       "      <th>2056</th>\n",
       "      <td>892420643555336193</td>\n",
       "      <td>6968</td>\n",
       "      <td>33693</td>\n",
       "    </tr>\n",
       "  </tbody>\n",
       "</table>\n",
       "<p>2057 rows × 3 columns</p>\n",
       "</div>"
      ],
      "text/plain": [
       "                      id  retweet_count  favorite_count\n",
       "0     666020888022790149            419            2281\n",
       "1     666029285002620928             39             112\n",
       "2     666033412701032449             36             100\n",
       "3     666044226329800704            115             245\n",
       "4     666049248165822465             36              88\n",
       "...                  ...            ...             ...\n",
       "2052  891327558926688256           7715           35178\n",
       "2053  891689557279858688           7183           36737\n",
       "2054  891815181378084864           3464           21971\n",
       "2055  892177421306343426           5272           29207\n",
       "2056  892420643555336193           6968           33693\n",
       "\n",
       "[2057 rows x 3 columns]"
      ]
     },
     "execution_count": 27,
     "metadata": {},
     "output_type": "execute_result"
    }
   ],
   "source": [
    "we_rate_dogs"
   ]
  },
  {
   "cell_type": "markdown",
   "metadata": {
    "extensions": {
     "jupyter_dashboards": {
      "version": 1,
      "views": {
       "grid_default": {
        "col": 4,
        "height": 4,
        "hidden": false,
        "row": 28,
        "width": 4
       },
       "report_default": {
        "hidden": false
       }
      }
     }
    }
   },
   "source": [
    "## Assessing Data\n",
    "In this section, detect and document at least **eight (8) quality issues and two (2) tidiness issue**. You must use **both** visual assessment\n",
    "programmatic assessement to assess the data.\n",
    "\n",
    "**Note:** pay attention to the following key points when you access the data.\n",
    "\n",
    "* You only want original ratings (no retweets) that have images. Though there are 5000+ tweets in the dataset, not all are dog ratings and some are retweets.\n",
    "* Assessing and cleaning the entire dataset completely would require a lot of time, and is not necessary to practice and demonstrate your skills in data wrangling. Therefore, the requirements of this project are only to assess and clean at least 8 quality issues and at least 2 tidiness issues in this dataset.\n",
    "* The fact that the rating numerators are greater than the denominators does not need to be cleaned. This [unique rating system](http://knowyourmeme.com/memes/theyre-good-dogs-brent) is a big part of the popularity of WeRateDogs.\n",
    "* You do not need to gather the tweets beyond August 1st, 2017. You can, but note that you won't be able to gather the image predictions for these tweets since you don't have access to the algorithm used.\n",
    "\n"
   ]
  },
  {
   "cell_type": "code",
   "execution_count": 258,
   "metadata": {},
   "outputs": [],
   "source": [
    "#copy the original dataset\n",
    "archive=twitter_archive.copy()\n",
    "predictions=image_predictions.copy()\n",
    "rate=we_rate_dogs.copy()"
   ]
  },
  {
   "cell_type": "code",
   "execution_count": 259,
   "metadata": {},
   "outputs": [
    {
     "data": {
      "text/html": [
       "<div>\n",
       "<style scoped>\n",
       "    .dataframe tbody tr th:only-of-type {\n",
       "        vertical-align: middle;\n",
       "    }\n",
       "\n",
       "    .dataframe tbody tr th {\n",
       "        vertical-align: top;\n",
       "    }\n",
       "\n",
       "    .dataframe thead th {\n",
       "        text-align: right;\n",
       "    }\n",
       "</style>\n",
       "<table border=\"1\" class=\"dataframe\">\n",
       "  <thead>\n",
       "    <tr style=\"text-align: right;\">\n",
       "      <th></th>\n",
       "      <th>tweet_id</th>\n",
       "      <th>in_reply_to_status_id</th>\n",
       "      <th>in_reply_to_user_id</th>\n",
       "      <th>timestamp</th>\n",
       "      <th>source</th>\n",
       "      <th>text</th>\n",
       "      <th>retweeted_status_id</th>\n",
       "      <th>retweeted_status_user_id</th>\n",
       "      <th>retweeted_status_timestamp</th>\n",
       "      <th>expanded_urls</th>\n",
       "      <th>rating_numerator</th>\n",
       "      <th>rating_denominator</th>\n",
       "      <th>name</th>\n",
       "      <th>doggo</th>\n",
       "      <th>floofer</th>\n",
       "      <th>pupper</th>\n",
       "      <th>puppo</th>\n",
       "    </tr>\n",
       "  </thead>\n",
       "  <tbody>\n",
       "    <tr>\n",
       "      <th>939</th>\n",
       "      <td>753039830821511168</td>\n",
       "      <td>NaN</td>\n",
       "      <td>NaN</td>\n",
       "      <td>2016-07-13 01:34:21 +0000</td>\n",
       "      <td>&lt;a href=\"http://vine.co\" rel=\"nofollow\"&gt;Vine -...</td>\n",
       "      <td>So this just changed my life. 13/10 please enj...</td>\n",
       "      <td>NaN</td>\n",
       "      <td>NaN</td>\n",
       "      <td>NaN</td>\n",
       "      <td>https://vine.co/v/5W2Dg3XPX7a</td>\n",
       "      <td>13</td>\n",
       "      <td>10</td>\n",
       "      <td>None</td>\n",
       "      <td>None</td>\n",
       "      <td>None</td>\n",
       "      <td>None</td>\n",
       "      <td>None</td>\n",
       "    </tr>\n",
       "    <tr>\n",
       "      <th>291</th>\n",
       "      <td>838085839343206401</td>\n",
       "      <td>8.380855e+17</td>\n",
       "      <td>2.894131e+09</td>\n",
       "      <td>2017-03-04 17:56:49 +0000</td>\n",
       "      <td>&lt;a href=\"http://twitter.com/download/iphone\" r...</td>\n",
       "      <td>@bragg6of8 @Andy_Pace_ we are still looking fo...</td>\n",
       "      <td>NaN</td>\n",
       "      <td>NaN</td>\n",
       "      <td>NaN</td>\n",
       "      <td>NaN</td>\n",
       "      <td>15</td>\n",
       "      <td>10</td>\n",
       "      <td>None</td>\n",
       "      <td>None</td>\n",
       "      <td>None</td>\n",
       "      <td>None</td>\n",
       "      <td>None</td>\n",
       "    </tr>\n",
       "    <tr>\n",
       "      <th>689</th>\n",
       "      <td>787717603741622272</td>\n",
       "      <td>NaN</td>\n",
       "      <td>NaN</td>\n",
       "      <td>2016-10-16 18:11:26 +0000</td>\n",
       "      <td>&lt;a href=\"http://twitter.com/download/iphone\" r...</td>\n",
       "      <td>This is Tonks. She is a service puppo. Can hea...</td>\n",
       "      <td>NaN</td>\n",
       "      <td>NaN</td>\n",
       "      <td>NaN</td>\n",
       "      <td>https://twitter.com/dog_rates/status/787717603...</td>\n",
       "      <td>13</td>\n",
       "      <td>10</td>\n",
       "      <td>Tonks</td>\n",
       "      <td>None</td>\n",
       "      <td>None</td>\n",
       "      <td>None</td>\n",
       "      <td>puppo</td>\n",
       "    </tr>\n",
       "    <tr>\n",
       "      <th>2146</th>\n",
       "      <td>669923323644657664</td>\n",
       "      <td>NaN</td>\n",
       "      <td>NaN</td>\n",
       "      <td>2015-11-26 16:59:01 +0000</td>\n",
       "      <td>&lt;a href=\"http://twitter.com/download/iphone\" r...</td>\n",
       "      <td>This is a spotted Lipitor Rumpelstiltskin name...</td>\n",
       "      <td>NaN</td>\n",
       "      <td>NaN</td>\n",
       "      <td>NaN</td>\n",
       "      <td>https://twitter.com/dog_rates/status/669923323...</td>\n",
       "      <td>10</td>\n",
       "      <td>10</td>\n",
       "      <td>a</td>\n",
       "      <td>None</td>\n",
       "      <td>None</td>\n",
       "      <td>None</td>\n",
       "      <td>None</td>\n",
       "    </tr>\n",
       "    <tr>\n",
       "      <th>1563</th>\n",
       "      <td>688179443353796608</td>\n",
       "      <td>NaN</td>\n",
       "      <td>NaN</td>\n",
       "      <td>2016-01-16 02:02:19 +0000</td>\n",
       "      <td>&lt;a href=\"http://twitter.com/download/iphone\" r...</td>\n",
       "      <td>This is Lizzie. She's about to fist bump the l...</td>\n",
       "      <td>NaN</td>\n",
       "      <td>NaN</td>\n",
       "      <td>NaN</td>\n",
       "      <td>https://twitter.com/dog_rates/status/688179443...</td>\n",
       "      <td>10</td>\n",
       "      <td>10</td>\n",
       "      <td>Lizzie</td>\n",
       "      <td>None</td>\n",
       "      <td>None</td>\n",
       "      <td>pupper</td>\n",
       "      <td>None</td>\n",
       "    </tr>\n",
       "  </tbody>\n",
       "</table>\n",
       "</div>"
      ],
      "text/plain": [
       "                tweet_id  in_reply_to_status_id  in_reply_to_user_id  \\\n",
       "939   753039830821511168                    NaN                  NaN   \n",
       "291   838085839343206401           8.380855e+17         2.894131e+09   \n",
       "689   787717603741622272                    NaN                  NaN   \n",
       "2146  669923323644657664                    NaN                  NaN   \n",
       "1563  688179443353796608                    NaN                  NaN   \n",
       "\n",
       "                      timestamp  \\\n",
       "939   2016-07-13 01:34:21 +0000   \n",
       "291   2017-03-04 17:56:49 +0000   \n",
       "689   2016-10-16 18:11:26 +0000   \n",
       "2146  2015-11-26 16:59:01 +0000   \n",
       "1563  2016-01-16 02:02:19 +0000   \n",
       "\n",
       "                                                 source  \\\n",
       "939   <a href=\"http://vine.co\" rel=\"nofollow\">Vine -...   \n",
       "291   <a href=\"http://twitter.com/download/iphone\" r...   \n",
       "689   <a href=\"http://twitter.com/download/iphone\" r...   \n",
       "2146  <a href=\"http://twitter.com/download/iphone\" r...   \n",
       "1563  <a href=\"http://twitter.com/download/iphone\" r...   \n",
       "\n",
       "                                                   text  retweeted_status_id  \\\n",
       "939   So this just changed my life. 13/10 please enj...                  NaN   \n",
       "291   @bragg6of8 @Andy_Pace_ we are still looking fo...                  NaN   \n",
       "689   This is Tonks. She is a service puppo. Can hea...                  NaN   \n",
       "2146  This is a spotted Lipitor Rumpelstiltskin name...                  NaN   \n",
       "1563  This is Lizzie. She's about to fist bump the l...                  NaN   \n",
       "\n",
       "      retweeted_status_user_id retweeted_status_timestamp  \\\n",
       "939                        NaN                        NaN   \n",
       "291                        NaN                        NaN   \n",
       "689                        NaN                        NaN   \n",
       "2146                       NaN                        NaN   \n",
       "1563                       NaN                        NaN   \n",
       "\n",
       "                                          expanded_urls  rating_numerator  \\\n",
       "939                       https://vine.co/v/5W2Dg3XPX7a                13   \n",
       "291                                                 NaN                15   \n",
       "689   https://twitter.com/dog_rates/status/787717603...                13   \n",
       "2146  https://twitter.com/dog_rates/status/669923323...                10   \n",
       "1563  https://twitter.com/dog_rates/status/688179443...                10   \n",
       "\n",
       "      rating_denominator    name doggo floofer  pupper  puppo  \n",
       "939                   10    None  None    None    None   None  \n",
       "291                   10    None  None    None    None   None  \n",
       "689                   10   Tonks  None    None    None  puppo  \n",
       "2146                  10       a  None    None    None   None  \n",
       "1563                  10  Lizzie  None    None  pupper   None  "
      ]
     },
     "execution_count": 259,
     "metadata": {},
     "output_type": "execute_result"
    }
   ],
   "source": [
    "archive.sample(5)"
   ]
  },
  {
   "cell_type": "code",
   "execution_count": 260,
   "metadata": {},
   "outputs": [
    {
     "data": {
      "text/plain": [
       "77"
      ]
     },
     "execution_count": 260,
     "metadata": {},
     "output_type": "execute_result"
    }
   ],
   "source": [
    "archive.in_reply_to_status_id.nunique()"
   ]
  },
  {
   "cell_type": "code",
   "execution_count": 261,
   "metadata": {},
   "outputs": [
    {
     "name": "stdout",
     "output_type": "stream",
     "text": [
      "<class 'pandas.core.frame.DataFrame'>\n",
      "RangeIndex: 2356 entries, 0 to 2355\n",
      "Data columns (total 17 columns):\n",
      " #   Column                      Non-Null Count  Dtype  \n",
      "---  ------                      --------------  -----  \n",
      " 0   tweet_id                    2356 non-null   int64  \n",
      " 1   in_reply_to_status_id       78 non-null     float64\n",
      " 2   in_reply_to_user_id         78 non-null     float64\n",
      " 3   timestamp                   2356 non-null   object \n",
      " 4   source                      2356 non-null   object \n",
      " 5   text                        2356 non-null   object \n",
      " 6   retweeted_status_id         181 non-null    float64\n",
      " 7   retweeted_status_user_id    181 non-null    float64\n",
      " 8   retweeted_status_timestamp  181 non-null    object \n",
      " 9   expanded_urls               2297 non-null   object \n",
      " 10  rating_numerator            2356 non-null   int64  \n",
      " 11  rating_denominator          2356 non-null   int64  \n",
      " 12  name                        2356 non-null   object \n",
      " 13  doggo                       2356 non-null   object \n",
      " 14  floofer                     2356 non-null   object \n",
      " 15  pupper                      2356 non-null   object \n",
      " 16  puppo                       2356 non-null   object \n",
      "dtypes: float64(4), int64(3), object(10)\n",
      "memory usage: 313.0+ KB\n"
     ]
    }
   ],
   "source": [
    "archive.info()"
   ]
  },
  {
   "cell_type": "code",
   "execution_count": 262,
   "metadata": {},
   "outputs": [
    {
     "data": {
      "text/plain": [
       "array([           nan, 8.87473957e+17, 8.86053734e+17, 8.30583321e+17,\n",
       "       8.78057613e+17, 8.78281511e+17, 6.69000397e+17, 8.76850772e+17,\n",
       "       8.66334965e+17, 8.68880398e+17, 8.73213776e+17, 8.72657584e+17,\n",
       "       8.41077006e+17, 8.59196979e+17, 8.68552279e+17, 8.65013420e+17,\n",
       "       8.66450706e+17, 8.37820168e+17, 8.63062472e+17, 8.06629075e+17,\n",
       "       8.60563773e+17, 8.60914485e+17, 7.61672994e+17, 8.39549326e+17,\n",
       "       8.57061112e+17, 8.44704788e+17, 8.56330159e+17, 8.42163533e+17,\n",
       "       8.55122533e+17, 8.31650052e+17, 8.29374342e+17, 8.48289382e+17,\n",
       "       8.33124695e+17, 8.32369877e+17, 8.47971000e+17, 7.56288534e+17,\n",
       "       7.73308824e+17, 8.07106841e+17, 8.17423860e+17, 8.40632337e+17,\n",
       "       6.67152164e+17, 8.39289919e+17, 8.38905981e+17, 7.83839966e+17,\n",
       "       8.20749717e+17, 8.37011345e+17, 8.36648149e+17, 8.17827839e+17,\n",
       "       7.86963064e+17, 8.35264099e+17, 7.53039831e+17, 8.29501995e+17,\n",
       "       8.32434358e+17, 8.32766382e+17, 7.86709083e+17, 7.93286476e+17,\n",
       "       7.69940426e+17, 8.09220051e+17, 8.26958653e+17, 8.10254108e+17,\n",
       "       6.94669722e+17, 8.09920764e+17, 8.25026591e+17, 7.95076730e+17,\n",
       "       7.84057940e+17, 8.22244817e+17, 8.22489057e+17, 7.86233965e+17,\n",
       "       7.80601304e+17, 7.82305868e+17, 8.19227688e+17, 8.20314634e+17,\n",
       "       8.00141422e+17, 8.19952236e+17, 8.19004803e+17, 8.19006401e+17,\n",
       "       8.08344866e+17, 7.73547597e+17, 8.16450571e+17, 6.92417313e+17,\n",
       "       8.15966073e+17, 7.90946056e+17, 8.15990721e+17, 7.32005617e+17,\n",
       "       7.91406956e+17, 6.98195409e+17, 7.90277117e+17, 6.80055456e+17,\n",
       "       7.93962222e+17, 8.01167903e+17, 7.82969140e+17, 7.81524693e+17,\n",
       "       7.83334640e+17, 7.82722599e+17, 7.84183166e+17, 7.84826020e+17,\n",
       "       6.91416866e+17, 7.67754930e+17, 7.77684234e+17, 7.79056096e+17,\n",
       "       8.00065028e+17, 7.75733305e+17, 8.00854023e+17, 7.76113306e+17,\n",
       "       6.81694086e+17, 7.75085133e+17, 7.74314404e+17, 7.40676976e+17,\n",
       "       7.18631498e+17, 7.12809026e+17, 7.01214701e+17, 6.83391853e+17,\n",
       "       6.76936542e+17, 6.75501076e+17, 6.71896809e+17, 6.70444956e+17,\n",
       "       6.67509364e+17, 6.67182792e+17, 6.66104133e+17, 7.71770457e+17,\n",
       "       6.87317306e+17, 7.80931614e+17, 7.96149749e+17, 7.89530877e+17,\n",
       "       7.88765915e+17, 7.91672323e+17, 6.84830983e+17, 6.82088079e+17,\n",
       "       7.46757706e+17, 7.63837566e+17, 7.89986466e+17, 7.62699858e+17,\n",
       "       7.62464539e+17, 7.50719633e+17, 7.36392552e+17, 7.61004548e+17,\n",
       "       7.52932433e+17, 7.59447682e+17, 7.79834333e+17, 6.74291837e+17,\n",
       "       7.07610949e+17, 7.42423170e+17, 7.80465709e+17, 7.53375669e+17,\n",
       "       6.79462823e+17, 7.58099636e+17, 7.03041950e+17, 7.68193405e+17,\n",
       "       7.50429298e+17, 6.79828447e+17, 7.00747789e+17, 7.33109485e+17,\n",
       "       7.40373189e+17, 7.71380798e+17, 7.65222099e+17, 6.73320133e+17,\n",
       "       7.71002130e+17, 7.39238158e+17, 7.41067307e+17, 7.06904524e+17,\n",
       "       7.00143752e+17, 7.39979192e+17, 7.59923799e+17, 7.25842289e+17,\n",
       "       6.73295269e+17, 6.85325113e+17, 7.11694788e+17, 7.60153833e+17,\n",
       "       7.39544079e+17, 6.70319131e+17, 6.79062614e+17, 7.57597141e+17,\n",
       "       6.79158374e+17, 6.81523178e+17, 6.83515932e+17, 6.75354436e+17,\n",
       "       7.04761121e+17, 6.67866724e+17, 6.67138270e+17, 7.11998280e+17,\n",
       "       6.67548696e+17, 6.67548415e+17])"
      ]
     },
     "execution_count": 262,
     "metadata": {},
     "output_type": "execute_result"
    }
   ],
   "source": [
    "archive.retweeted_status_id.unique()"
   ]
  },
  {
   "cell_type": "code",
   "execution_count": 263,
   "metadata": {},
   "outputs": [
    {
     "data": {
      "text/plain": [
       "2356"
      ]
     },
     "execution_count": 263,
     "metadata": {},
     "output_type": "execute_result"
    }
   ],
   "source": [
    "archive.retweeted_status_id.isna().count()"
   ]
  },
  {
   "cell_type": "code",
   "execution_count": 264,
   "metadata": {},
   "outputs": [
    {
     "data": {
      "text/plain": [
       "Index(['tweet_id', 'in_reply_to_status_id', 'in_reply_to_user_id', 'timestamp',\n",
       "       'source', 'text', 'retweeted_status_id', 'retweeted_status_user_id',\n",
       "       'retweeted_status_timestamp', 'expanded_urls', 'rating_numerator',\n",
       "       'rating_denominator', 'name', 'doggo', 'floofer', 'pupper', 'puppo'],\n",
       "      dtype='object')"
      ]
     },
     "execution_count": 264,
     "metadata": {},
     "output_type": "execute_result"
    }
   ],
   "source": [
    "archive.columns"
   ]
  },
  {
   "cell_type": "code",
   "execution_count": 265,
   "metadata": {
    "scrolled": false
   },
   "outputs": [
    {
     "data": {
      "text/html": [
       "<div>\n",
       "<style scoped>\n",
       "    .dataframe tbody tr th:only-of-type {\n",
       "        vertical-align: middle;\n",
       "    }\n",
       "\n",
       "    .dataframe tbody tr th {\n",
       "        vertical-align: top;\n",
       "    }\n",
       "\n",
       "    .dataframe thead th {\n",
       "        text-align: right;\n",
       "    }\n",
       "</style>\n",
       "<table border=\"1\" class=\"dataframe\">\n",
       "  <thead>\n",
       "    <tr style=\"text-align: right;\">\n",
       "      <th></th>\n",
       "      <th>tweet_id</th>\n",
       "      <th>jpg_url</th>\n",
       "      <th>img_num</th>\n",
       "      <th>p1</th>\n",
       "      <th>p1_conf</th>\n",
       "      <th>p1_dog</th>\n",
       "      <th>p2</th>\n",
       "      <th>p2_conf</th>\n",
       "      <th>p2_dog</th>\n",
       "      <th>p3</th>\n",
       "      <th>p3_conf</th>\n",
       "      <th>p3_dog</th>\n",
       "    </tr>\n",
       "  </thead>\n",
       "  <tbody>\n",
       "    <tr>\n",
       "      <th>1924</th>\n",
       "      <td>857263160327368704</td>\n",
       "      <td>https://pbs.twimg.com/media/C-WcS4MXoAADrBU.jpg</td>\n",
       "      <td>1</td>\n",
       "      <td>Samoyed</td>\n",
       "      <td>0.998021</td>\n",
       "      <td>True</td>\n",
       "      <td>Pomeranian</td>\n",
       "      <td>0.000922</td>\n",
       "      <td>True</td>\n",
       "      <td>keeshond</td>\n",
       "      <td>0.000311</td>\n",
       "      <td>True</td>\n",
       "    </tr>\n",
       "    <tr>\n",
       "      <th>1087</th>\n",
       "      <td>718939241951195136</td>\n",
       "      <td>https://pbs.twimg.com/media/CfovbK4WIAAkTn3.jpg</td>\n",
       "      <td>1</td>\n",
       "      <td>Pembroke</td>\n",
       "      <td>0.766327</td>\n",
       "      <td>True</td>\n",
       "      <td>Cardigan</td>\n",
       "      <td>0.222126</td>\n",
       "      <td>True</td>\n",
       "      <td>toilet_tissue</td>\n",
       "      <td>0.006757</td>\n",
       "      <td>False</td>\n",
       "    </tr>\n",
       "    <tr>\n",
       "      <th>1868</th>\n",
       "      <td>844223788422217728</td>\n",
       "      <td>https://pbs.twimg.com/media/C7dJCnqU4AAswat.jpg</td>\n",
       "      <td>1</td>\n",
       "      <td>Labrador_retriever</td>\n",
       "      <td>0.719510</td>\n",
       "      <td>True</td>\n",
       "      <td>Chesapeake_Bay_retriever</td>\n",
       "      <td>0.122019</td>\n",
       "      <td>True</td>\n",
       "      <td>Newfoundland</td>\n",
       "      <td>0.038828</td>\n",
       "      <td>True</td>\n",
       "    </tr>\n",
       "    <tr>\n",
       "      <th>1355</th>\n",
       "      <td>760290219849637889</td>\n",
       "      <td>https://pbs.twimg.com/ext_tw_video_thumb/76028...</td>\n",
       "      <td>1</td>\n",
       "      <td>Old_English_sheepdog</td>\n",
       "      <td>0.302200</td>\n",
       "      <td>True</td>\n",
       "      <td>Lhasa</td>\n",
       "      <td>0.258803</td>\n",
       "      <td>True</td>\n",
       "      <td>briard</td>\n",
       "      <td>0.179200</td>\n",
       "      <td>True</td>\n",
       "    </tr>\n",
       "    <tr>\n",
       "      <th>1761</th>\n",
       "      <td>826115272272650244</td>\n",
       "      <td>https://pbs.twimg.com/media/C3bzVILWcAUjS5i.jpg</td>\n",
       "      <td>1</td>\n",
       "      <td>tennis_ball</td>\n",
       "      <td>0.997071</td>\n",
       "      <td>False</td>\n",
       "      <td>golden_retriever</td>\n",
       "      <td>0.002331</td>\n",
       "      <td>True</td>\n",
       "      <td>kuvasz</td>\n",
       "      <td>0.000283</td>\n",
       "      <td>True</td>\n",
       "    </tr>\n",
       "  </tbody>\n",
       "</table>\n",
       "</div>"
      ],
      "text/plain": [
       "                tweet_id                                            jpg_url  \\\n",
       "1924  857263160327368704    https://pbs.twimg.com/media/C-WcS4MXoAADrBU.jpg   \n",
       "1087  718939241951195136    https://pbs.twimg.com/media/CfovbK4WIAAkTn3.jpg   \n",
       "1868  844223788422217728    https://pbs.twimg.com/media/C7dJCnqU4AAswat.jpg   \n",
       "1355  760290219849637889  https://pbs.twimg.com/ext_tw_video_thumb/76028...   \n",
       "1761  826115272272650244    https://pbs.twimg.com/media/C3bzVILWcAUjS5i.jpg   \n",
       "\n",
       "      img_num                    p1   p1_conf  p1_dog  \\\n",
       "1924        1               Samoyed  0.998021    True   \n",
       "1087        1              Pembroke  0.766327    True   \n",
       "1868        1    Labrador_retriever  0.719510    True   \n",
       "1355        1  Old_English_sheepdog  0.302200    True   \n",
       "1761        1           tennis_ball  0.997071   False   \n",
       "\n",
       "                            p2   p2_conf  p2_dog             p3   p3_conf  \\\n",
       "1924                Pomeranian  0.000922    True       keeshond  0.000311   \n",
       "1087                  Cardigan  0.222126    True  toilet_tissue  0.006757   \n",
       "1868  Chesapeake_Bay_retriever  0.122019    True   Newfoundland  0.038828   \n",
       "1355                     Lhasa  0.258803    True         briard  0.179200   \n",
       "1761          golden_retriever  0.002331    True         kuvasz  0.000283   \n",
       "\n",
       "      p3_dog  \n",
       "1924    True  \n",
       "1087   False  \n",
       "1868    True  \n",
       "1355    True  \n",
       "1761    True  "
      ]
     },
     "execution_count": 265,
     "metadata": {},
     "output_type": "execute_result"
    }
   ],
   "source": [
    "predictions.sample(5)"
   ]
  },
  {
   "cell_type": "code",
   "execution_count": null,
   "metadata": {},
   "outputs": [],
   "source": []
  },
  {
   "cell_type": "code",
   "execution_count": 266,
   "metadata": {
    "scrolled": true
   },
   "outputs": [
    {
     "name": "stdout",
     "output_type": "stream",
     "text": [
      "<class 'pandas.core.frame.DataFrame'>\n",
      "RangeIndex: 2075 entries, 0 to 2074\n",
      "Data columns (total 12 columns):\n",
      " #   Column    Non-Null Count  Dtype  \n",
      "---  ------    --------------  -----  \n",
      " 0   tweet_id  2075 non-null   int64  \n",
      " 1   jpg_url   2075 non-null   object \n",
      " 2   img_num   2075 non-null   int64  \n",
      " 3   p1        2075 non-null   object \n",
      " 4   p1_conf   2075 non-null   float64\n",
      " 5   p1_dog    2075 non-null   bool   \n",
      " 6   p2        2075 non-null   object \n",
      " 7   p2_conf   2075 non-null   float64\n",
      " 8   p2_dog    2075 non-null   bool   \n",
      " 9   p3        2075 non-null   object \n",
      " 10  p3_conf   2075 non-null   float64\n",
      " 11  p3_dog    2075 non-null   bool   \n",
      "dtypes: bool(3), float64(3), int64(2), object(4)\n",
      "memory usage: 152.1+ KB\n"
     ]
    }
   ],
   "source": [
    "predictions.info()"
   ]
  },
  {
   "cell_type": "code",
   "execution_count": 267,
   "metadata": {
    "scrolled": true
   },
   "outputs": [
    {
     "data": {
      "text/html": [
       "<div>\n",
       "<style scoped>\n",
       "    .dataframe tbody tr th:only-of-type {\n",
       "        vertical-align: middle;\n",
       "    }\n",
       "\n",
       "    .dataframe tbody tr th {\n",
       "        vertical-align: top;\n",
       "    }\n",
       "\n",
       "    .dataframe thead th {\n",
       "        text-align: right;\n",
       "    }\n",
       "</style>\n",
       "<table border=\"1\" class=\"dataframe\">\n",
       "  <thead>\n",
       "    <tr style=\"text-align: right;\">\n",
       "      <th></th>\n",
       "      <th>id</th>\n",
       "      <th>retweet_count</th>\n",
       "      <th>favorite_count</th>\n",
       "    </tr>\n",
       "  </thead>\n",
       "  <tbody>\n",
       "    <tr>\n",
       "      <th>1898</th>\n",
       "      <td>853760880890318849</td>\n",
       "      <td>5102</td>\n",
       "      <td>25992</td>\n",
       "    </tr>\n",
       "    <tr>\n",
       "      <th>1267</th>\n",
       "      <td>749417653287129088</td>\n",
       "      <td>1505</td>\n",
       "      <td>5655</td>\n",
       "    </tr>\n",
       "    <tr>\n",
       "      <th>454</th>\n",
       "      <td>674764817387900928</td>\n",
       "      <td>200</td>\n",
       "      <td>699</td>\n",
       "    </tr>\n",
       "    <tr>\n",
       "      <th>2020</th>\n",
       "      <td>884562892145688576</td>\n",
       "      <td>3895</td>\n",
       "      <td>21234</td>\n",
       "    </tr>\n",
       "    <tr>\n",
       "      <th>946</th>\n",
       "      <td>704761120771465216</td>\n",
       "      <td>2617</td>\n",
       "      <td>6119</td>\n",
       "    </tr>\n",
       "  </tbody>\n",
       "</table>\n",
       "</div>"
      ],
      "text/plain": [
       "                      id  retweet_count  favorite_count\n",
       "1898  853760880890318849           5102           25992\n",
       "1267  749417653287129088           1505            5655\n",
       "454   674764817387900928            200             699\n",
       "2020  884562892145688576           3895           21234\n",
       "946   704761120771465216           2617            6119"
      ]
     },
     "execution_count": 267,
     "metadata": {},
     "output_type": "execute_result"
    }
   ],
   "source": [
    "rate.sample(5)"
   ]
  },
  {
   "cell_type": "code",
   "execution_count": 268,
   "metadata": {},
   "outputs": [
    {
     "name": "stdout",
     "output_type": "stream",
     "text": [
      "<class 'pandas.core.frame.DataFrame'>\n",
      "RangeIndex: 2057 entries, 0 to 2056\n",
      "Data columns (total 3 columns):\n",
      " #   Column          Non-Null Count  Dtype\n",
      "---  ------          --------------  -----\n",
      " 0   id              2057 non-null   int64\n",
      " 1   retweet_count   2057 non-null   int64\n",
      " 2   favorite_count  2057 non-null   int64\n",
      "dtypes: int64(3)\n",
      "memory usage: 48.3 KB\n"
     ]
    }
   ],
   "source": [
    "rate.info()"
   ]
  },
  {
   "cell_type": "markdown",
   "metadata": {},
   "source": [
    "### Quality issues\n",
    "1. wrong datatypes for timestamp in archived table \n",
    "\n",
    "2. Change datatype of  tweet_id to string\n",
    "\n",
    "3. wrong datatypes for p1, p2 and p3 in predictions should be category\n",
    "\n",
    "4. for consistency in archive we are only going to take the data with the rating_denominator of 10 in archive table\n",
    "\n",
    "5. There is no consistency in prediction table since in p1, p2 and p3 some names start with uppercase\n",
    "\n",
    "6. The dog_stage column in archive should be category\n",
    "\n",
    "7. change the id column in rate table to tweet_id\n",
    "\n",
    "8. missing values in retweeted_status_id and retweeted_status_user_id in archive table"
   ]
  },
  {
   "cell_type": "raw",
   "metadata": {
    "extensions": {
     "jupyter_dashboards": {
      "version": 1,
      "views": {
       "grid_default": {
        "col": 0,
        "height": 7,
        "hidden": false,
        "row": 40,
        "width": 12
       },
       "report_default": {
        "hidden": false
       }
      }
     }
    }
   },
   "source": [
    "### Tidiness issues\n",
    "1.rule of every observation should be in each row has been broken for floofer, doggo, pupper and puppo dog types\n",
    "\n",
    "2.Merge the dataset into one master dataset"
   ]
  },
  {
   "cell_type": "markdown",
   "metadata": {
    "extensions": {
     "jupyter_dashboards": {
      "version": 1,
      "views": {
       "grid_default": {
        "col": 4,
        "height": 4,
        "hidden": false,
        "row": 32,
        "width": 4
       },
       "report_default": {
        "hidden": false
       }
      }
     }
    }
   },
   "source": [
    "## Cleaning Data\n",
    "In this section, clean **all** of the issues you documented while assessing. \n",
    "\n",
    "**Note:** Make a copy of the original data before cleaning. Cleaning includes merging individual pieces of data according to the rules of [tidy data](https://cran.r-project.org/web/packages/tidyr/vignettes/tidy-data.html). The result should be a high-quality and tidy master pandas DataFrame (or DataFrames, if appropriate)."
   ]
  },
  {
   "cell_type": "code",
   "execution_count": 269,
   "metadata": {},
   "outputs": [],
   "source": [
    "# Make copies of original pieces of data\n"
   ]
  },
  {
   "cell_type": "markdown",
   "metadata": {},
   "source": [
    "### Issue #1:wrong datatypes for timestamp in archive table"
   ]
  },
  {
   "cell_type": "markdown",
   "metadata": {},
   "source": [
    "#### Define:Change the datatype of twitter_archived_enhanced table to timestamp"
   ]
  },
  {
   "cell_type": "markdown",
   "metadata": {},
   "source": [
    "#### Code"
   ]
  },
  {
   "cell_type": "code",
   "execution_count": 270,
   "metadata": {},
   "outputs": [
    {
     "data": {
      "text/plain": [
       "dtype('O')"
      ]
     },
     "execution_count": 270,
     "metadata": {},
     "output_type": "execute_result"
    }
   ],
   "source": [
    "archive.timestamp.dtype"
   ]
  },
  {
   "cell_type": "code",
   "execution_count": 271,
   "metadata": {},
   "outputs": [],
   "source": [
    "#convert the datatype of timestamp to datetime\n",
    "archive['timestamp']=pd.to_datetime(archive['timestamp'])"
   ]
  },
  {
   "cell_type": "markdown",
   "metadata": {},
   "source": [
    "#### Test"
   ]
  },
  {
   "cell_type": "code",
   "execution_count": 272,
   "metadata": {},
   "outputs": [
    {
     "name": "stdout",
     "output_type": "stream",
     "text": [
      "<class 'pandas.core.frame.DataFrame'>\n",
      "RangeIndex: 2356 entries, 0 to 2355\n",
      "Data columns (total 17 columns):\n",
      " #   Column                      Non-Null Count  Dtype              \n",
      "---  ------                      --------------  -----              \n",
      " 0   tweet_id                    2356 non-null   int64              \n",
      " 1   in_reply_to_status_id       78 non-null     float64            \n",
      " 2   in_reply_to_user_id         78 non-null     float64            \n",
      " 3   timestamp                   2356 non-null   datetime64[ns, UTC]\n",
      " 4   source                      2356 non-null   object             \n",
      " 5   text                        2356 non-null   object             \n",
      " 6   retweeted_status_id         181 non-null    float64            \n",
      " 7   retweeted_status_user_id    181 non-null    float64            \n",
      " 8   retweeted_status_timestamp  181 non-null    object             \n",
      " 9   expanded_urls               2297 non-null   object             \n",
      " 10  rating_numerator            2356 non-null   int64              \n",
      " 11  rating_denominator          2356 non-null   int64              \n",
      " 12  name                        2356 non-null   object             \n",
      " 13  doggo                       2356 non-null   object             \n",
      " 14  floofer                     2356 non-null   object             \n",
      " 15  pupper                      2356 non-null   object             \n",
      " 16  puppo                       2356 non-null   object             \n",
      "dtypes: datetime64[ns, UTC](1), float64(4), int64(3), object(9)\n",
      "memory usage: 313.0+ KB\n"
     ]
    }
   ],
   "source": [
    "archive.info()"
   ]
  },
  {
   "cell_type": "markdown",
   "metadata": {},
   "source": [
    "### Issue #2:for consistency in archive we are only going to take the data with the rating_denominator of 10 in archive table"
   ]
  },
  {
   "cell_type": "markdown",
   "metadata": {
    "collapsed": true,
    "extensions": {
     "jupyter_dashboards": {
      "version": 1,
      "views": {
       "grid_default": {
        "hidden": true
       },
       "report_default": {
        "hidden": true
       }
      }
     }
    }
   },
   "source": [
    "#### Define will remove all the rows that do not have denominator as 10"
   ]
  },
  {
   "cell_type": "markdown",
   "metadata": {},
   "source": [
    "#### Code"
   ]
  },
  {
   "cell_type": "code",
   "execution_count": 273,
   "metadata": {},
   "outputs": [
    {
     "data": {
      "text/plain": [
       "365     10\n",
       "1007    10\n",
       "1252    10\n",
       "313      0\n",
       "1557    10\n",
       "2200    10\n",
       "1687    10\n",
       "2120    10\n",
       "1757    10\n",
       "1400    10\n",
       "Name: rating_denominator, dtype: int64"
      ]
     },
     "execution_count": 273,
     "metadata": {},
     "output_type": "execute_result"
    }
   ],
   "source": [
    "archive.rating_denominator.sample(10)"
   ]
  },
  {
   "cell_type": "code",
   "execution_count": 274,
   "metadata": {},
   "outputs": [],
   "source": [
    "#taking only the rows with the denominator value is 10\n",
    "archive=archive.query('rating_denominator==10')"
   ]
  },
  {
   "cell_type": "code",
   "execution_count": 275,
   "metadata": {},
   "outputs": [
    {
     "data": {
      "text/html": [
       "<div>\n",
       "<style scoped>\n",
       "    .dataframe tbody tr th:only-of-type {\n",
       "        vertical-align: middle;\n",
       "    }\n",
       "\n",
       "    .dataframe tbody tr th {\n",
       "        vertical-align: top;\n",
       "    }\n",
       "\n",
       "    .dataframe thead th {\n",
       "        text-align: right;\n",
       "    }\n",
       "</style>\n",
       "<table border=\"1\" class=\"dataframe\">\n",
       "  <thead>\n",
       "    <tr style=\"text-align: right;\">\n",
       "      <th></th>\n",
       "      <th>tweet_id</th>\n",
       "      <th>in_reply_to_status_id</th>\n",
       "      <th>in_reply_to_user_id</th>\n",
       "      <th>timestamp</th>\n",
       "      <th>source</th>\n",
       "      <th>text</th>\n",
       "      <th>retweeted_status_id</th>\n",
       "      <th>retweeted_status_user_id</th>\n",
       "      <th>retweeted_status_timestamp</th>\n",
       "      <th>expanded_urls</th>\n",
       "      <th>rating_numerator</th>\n",
       "      <th>rating_denominator</th>\n",
       "      <th>name</th>\n",
       "      <th>doggo</th>\n",
       "      <th>floofer</th>\n",
       "      <th>pupper</th>\n",
       "      <th>puppo</th>\n",
       "    </tr>\n",
       "  </thead>\n",
       "  <tbody>\n",
       "    <tr>\n",
       "      <th>122</th>\n",
       "      <td>869227993411051520</td>\n",
       "      <td>NaN</td>\n",
       "      <td>NaN</td>\n",
       "      <td>2017-05-29 16:24:37+00:00</td>\n",
       "      <td>&lt;a href=\"http://twitter.com/download/iphone\" r...</td>\n",
       "      <td>This is Gizmo. His favorite thing is standing ...</td>\n",
       "      <td>NaN</td>\n",
       "      <td>NaN</td>\n",
       "      <td>NaN</td>\n",
       "      <td>https://twitter.com/dog_rates/status/869227993...</td>\n",
       "      <td>13</td>\n",
       "      <td>10</td>\n",
       "      <td>Gizmo</td>\n",
       "      <td>None</td>\n",
       "      <td>None</td>\n",
       "      <td>None</td>\n",
       "      <td>None</td>\n",
       "    </tr>\n",
       "    <tr>\n",
       "      <th>1824</th>\n",
       "      <td>676496375194980353</td>\n",
       "      <td>NaN</td>\n",
       "      <td>NaN</td>\n",
       "      <td>2015-12-14 20:17:59+00:00</td>\n",
       "      <td>&lt;a href=\"http://twitter.com/download/iphone\" r...</td>\n",
       "      <td>Say hello to Griffin. He's upset because his c...</td>\n",
       "      <td>NaN</td>\n",
       "      <td>NaN</td>\n",
       "      <td>NaN</td>\n",
       "      <td>https://twitter.com/dog_rates/status/676496375...</td>\n",
       "      <td>9</td>\n",
       "      <td>10</td>\n",
       "      <td>Griffin</td>\n",
       "      <td>None</td>\n",
       "      <td>None</td>\n",
       "      <td>None</td>\n",
       "      <td>None</td>\n",
       "    </tr>\n",
       "    <tr>\n",
       "      <th>148</th>\n",
       "      <td>863427515083354112</td>\n",
       "      <td>8.634256e+17</td>\n",
       "      <td>77596200.0</td>\n",
       "      <td>2017-05-13 16:15:35+00:00</td>\n",
       "      <td>&lt;a href=\"http://twitter.com/download/iphone\" r...</td>\n",
       "      <td>@Jack_Septic_Eye I'd need a few more pics to p...</td>\n",
       "      <td>NaN</td>\n",
       "      <td>NaN</td>\n",
       "      <td>NaN</td>\n",
       "      <td>NaN</td>\n",
       "      <td>12</td>\n",
       "      <td>10</td>\n",
       "      <td>None</td>\n",
       "      <td>None</td>\n",
       "      <td>None</td>\n",
       "      <td>None</td>\n",
       "      <td>None</td>\n",
       "    </tr>\n",
       "    <tr>\n",
       "      <th>894</th>\n",
       "      <td>759197388317847553</td>\n",
       "      <td>NaN</td>\n",
       "      <td>NaN</td>\n",
       "      <td>2016-07-30 01:22:17+00:00</td>\n",
       "      <td>&lt;a href=\"http://twitter.com/download/iphone\" r...</td>\n",
       "      <td>This is Luna. She's just heckin precious af I ...</td>\n",
       "      <td>NaN</td>\n",
       "      <td>NaN</td>\n",
       "      <td>NaN</td>\n",
       "      <td>https://twitter.com/dog_rates/status/759197388...</td>\n",
       "      <td>12</td>\n",
       "      <td>10</td>\n",
       "      <td>Luna</td>\n",
       "      <td>None</td>\n",
       "      <td>None</td>\n",
       "      <td>None</td>\n",
       "      <td>None</td>\n",
       "    </tr>\n",
       "    <tr>\n",
       "      <th>1717</th>\n",
       "      <td>680191257256136705</td>\n",
       "      <td>NaN</td>\n",
       "      <td>NaN</td>\n",
       "      <td>2015-12-25 01:00:07+00:00</td>\n",
       "      <td>&lt;a href=\"http://twitter.com/download/iphone\" r...</td>\n",
       "      <td>Here's a sleepy Christmas pupper 11/10 https:/...</td>\n",
       "      <td>NaN</td>\n",
       "      <td>NaN</td>\n",
       "      <td>NaN</td>\n",
       "      <td>https://twitter.com/dog_rates/status/680191257...</td>\n",
       "      <td>11</td>\n",
       "      <td>10</td>\n",
       "      <td>None</td>\n",
       "      <td>None</td>\n",
       "      <td>None</td>\n",
       "      <td>pupper</td>\n",
       "      <td>None</td>\n",
       "    </tr>\n",
       "    <tr>\n",
       "      <th>1348</th>\n",
       "      <td>704347321748819968</td>\n",
       "      <td>NaN</td>\n",
       "      <td>NaN</td>\n",
       "      <td>2016-02-29 16:47:42+00:00</td>\n",
       "      <td>&lt;a href=\"http://twitter.com/download/iphone\" r...</td>\n",
       "      <td>This is Ralphson. He's very confused. Wonderin...</td>\n",
       "      <td>NaN</td>\n",
       "      <td>NaN</td>\n",
       "      <td>NaN</td>\n",
       "      <td>https://twitter.com/dog_rates/status/704347321...</td>\n",
       "      <td>10</td>\n",
       "      <td>10</td>\n",
       "      <td>Ralphson</td>\n",
       "      <td>None</td>\n",
       "      <td>None</td>\n",
       "      <td>pupper</td>\n",
       "      <td>None</td>\n",
       "    </tr>\n",
       "  </tbody>\n",
       "</table>\n",
       "</div>"
      ],
      "text/plain": [
       "                tweet_id  in_reply_to_status_id  in_reply_to_user_id  \\\n",
       "122   869227993411051520                    NaN                  NaN   \n",
       "1824  676496375194980353                    NaN                  NaN   \n",
       "148   863427515083354112           8.634256e+17           77596200.0   \n",
       "894   759197388317847553                    NaN                  NaN   \n",
       "1717  680191257256136705                    NaN                  NaN   \n",
       "1348  704347321748819968                    NaN                  NaN   \n",
       "\n",
       "                     timestamp  \\\n",
       "122  2017-05-29 16:24:37+00:00   \n",
       "1824 2015-12-14 20:17:59+00:00   \n",
       "148  2017-05-13 16:15:35+00:00   \n",
       "894  2016-07-30 01:22:17+00:00   \n",
       "1717 2015-12-25 01:00:07+00:00   \n",
       "1348 2016-02-29 16:47:42+00:00   \n",
       "\n",
       "                                                 source  \\\n",
       "122   <a href=\"http://twitter.com/download/iphone\" r...   \n",
       "1824  <a href=\"http://twitter.com/download/iphone\" r...   \n",
       "148   <a href=\"http://twitter.com/download/iphone\" r...   \n",
       "894   <a href=\"http://twitter.com/download/iphone\" r...   \n",
       "1717  <a href=\"http://twitter.com/download/iphone\" r...   \n",
       "1348  <a href=\"http://twitter.com/download/iphone\" r...   \n",
       "\n",
       "                                                   text  retweeted_status_id  \\\n",
       "122   This is Gizmo. His favorite thing is standing ...                  NaN   \n",
       "1824  Say hello to Griffin. He's upset because his c...                  NaN   \n",
       "148   @Jack_Septic_Eye I'd need a few more pics to p...                  NaN   \n",
       "894   This is Luna. She's just heckin precious af I ...                  NaN   \n",
       "1717  Here's a sleepy Christmas pupper 11/10 https:/...                  NaN   \n",
       "1348  This is Ralphson. He's very confused. Wonderin...                  NaN   \n",
       "\n",
       "      retweeted_status_user_id retweeted_status_timestamp  \\\n",
       "122                        NaN                        NaN   \n",
       "1824                       NaN                        NaN   \n",
       "148                        NaN                        NaN   \n",
       "894                        NaN                        NaN   \n",
       "1717                       NaN                        NaN   \n",
       "1348                       NaN                        NaN   \n",
       "\n",
       "                                          expanded_urls  rating_numerator  \\\n",
       "122   https://twitter.com/dog_rates/status/869227993...                13   \n",
       "1824  https://twitter.com/dog_rates/status/676496375...                 9   \n",
       "148                                                 NaN                12   \n",
       "894   https://twitter.com/dog_rates/status/759197388...                12   \n",
       "1717  https://twitter.com/dog_rates/status/680191257...                11   \n",
       "1348  https://twitter.com/dog_rates/status/704347321...                10   \n",
       "\n",
       "      rating_denominator      name doggo floofer  pupper puppo  \n",
       "122                   10     Gizmo  None    None    None  None  \n",
       "1824                  10   Griffin  None    None    None  None  \n",
       "148                   10      None  None    None    None  None  \n",
       "894                   10      Luna  None    None    None  None  \n",
       "1717                  10      None  None    None  pupper  None  \n",
       "1348                  10  Ralphson  None    None  pupper  None  "
      ]
     },
     "execution_count": 275,
     "metadata": {},
     "output_type": "execute_result"
    }
   ],
   "source": [
    "archive.sample(6)"
   ]
  },
  {
   "cell_type": "code",
   "execution_count": 276,
   "metadata": {},
   "outputs": [
    {
     "data": {
      "text/plain": [
       "(2333, 17)"
      ]
     },
     "execution_count": 276,
     "metadata": {},
     "output_type": "execute_result"
    }
   ],
   "source": [
    "archive.shape"
   ]
  },
  {
   "cell_type": "markdown",
   "metadata": {},
   "source": [
    "#### Test"
   ]
  },
  {
   "cell_type": "code",
   "execution_count": 277,
   "metadata": {},
   "outputs": [
    {
     "data": {
      "text/html": [
       "<div>\n",
       "<style scoped>\n",
       "    .dataframe tbody tr th:only-of-type {\n",
       "        vertical-align: middle;\n",
       "    }\n",
       "\n",
       "    .dataframe tbody tr th {\n",
       "        vertical-align: top;\n",
       "    }\n",
       "\n",
       "    .dataframe thead th {\n",
       "        text-align: right;\n",
       "    }\n",
       "</style>\n",
       "<table border=\"1\" class=\"dataframe\">\n",
       "  <thead>\n",
       "    <tr style=\"text-align: right;\">\n",
       "      <th></th>\n",
       "      <th>tweet_id</th>\n",
       "      <th>in_reply_to_status_id</th>\n",
       "      <th>in_reply_to_user_id</th>\n",
       "      <th>timestamp</th>\n",
       "      <th>source</th>\n",
       "      <th>text</th>\n",
       "      <th>retweeted_status_id</th>\n",
       "      <th>retweeted_status_user_id</th>\n",
       "      <th>retweeted_status_timestamp</th>\n",
       "      <th>expanded_urls</th>\n",
       "      <th>rating_numerator</th>\n",
       "      <th>rating_denominator</th>\n",
       "      <th>name</th>\n",
       "      <th>doggo</th>\n",
       "      <th>floofer</th>\n",
       "      <th>pupper</th>\n",
       "      <th>puppo</th>\n",
       "    </tr>\n",
       "  </thead>\n",
       "  <tbody>\n",
       "  </tbody>\n",
       "</table>\n",
       "</div>"
      ],
      "text/plain": [
       "Empty DataFrame\n",
       "Columns: [tweet_id, in_reply_to_status_id, in_reply_to_user_id, timestamp, source, text, retweeted_status_id, retweeted_status_user_id, retweeted_status_timestamp, expanded_urls, rating_numerator, rating_denominator, name, doggo, floofer, pupper, puppo]\n",
       "Index: []"
      ]
     },
     "execution_count": 277,
     "metadata": {},
     "output_type": "execute_result"
    }
   ],
   "source": [
    "archive.query('rating_denominator!=10')"
   ]
  },
  {
   "cell_type": "markdown",
   "metadata": {},
   "source": [
    "### Issue #3:Change datatype of  tweet_id to string"
   ]
  },
  {
   "cell_type": "code",
   "execution_count": 278,
   "metadata": {},
   "outputs": [
    {
     "name": "stdout",
     "output_type": "stream",
     "text": [
      "<class 'pandas.core.frame.DataFrame'>\n",
      "Int64Index: 2333 entries, 0 to 2355\n",
      "Data columns (total 17 columns):\n",
      " #   Column                      Non-Null Count  Dtype              \n",
      "---  ------                      --------------  -----              \n",
      " 0   tweet_id                    2333 non-null   int64              \n",
      " 1   in_reply_to_status_id       73 non-null     float64            \n",
      " 2   in_reply_to_user_id         73 non-null     float64            \n",
      " 3   timestamp                   2333 non-null   datetime64[ns, UTC]\n",
      " 4   source                      2333 non-null   object             \n",
      " 5   text                        2333 non-null   object             \n",
      " 6   retweeted_status_id         180 non-null    float64            \n",
      " 7   retweeted_status_user_id    180 non-null    float64            \n",
      " 8   retweeted_status_timestamp  180 non-null    object             \n",
      " 9   expanded_urls               2278 non-null   object             \n",
      " 10  rating_numerator            2333 non-null   int64              \n",
      " 11  rating_denominator          2333 non-null   int64              \n",
      " 12  name                        2333 non-null   object             \n",
      " 13  doggo                       2333 non-null   object             \n",
      " 14  floofer                     2333 non-null   object             \n",
      " 15  pupper                      2333 non-null   object             \n",
      " 16  puppo                       2333 non-null   object             \n",
      "dtypes: datetime64[ns, UTC](1), float64(4), int64(3), object(9)\n",
      "memory usage: 328.1+ KB\n"
     ]
    }
   ],
   "source": [
    "archive.info()"
   ]
  },
  {
   "cell_type": "code",
   "execution_count": 279,
   "metadata": {},
   "outputs": [],
   "source": [
    "#changing the datatype of tweet_id column to sring\n",
    "archive[\"tweet_id\"]=archive[\"tweet_id\"].astype(str)\n",
    "predictions[\"tweet_id\"]=predictions[\"tweet_id\"].astype(str)\n",
    "rate[\"id\"]=rate[\"id\"].astype(str)"
   ]
  },
  {
   "cell_type": "markdown",
   "metadata": {},
   "source": [
    "#Test"
   ]
  },
  {
   "cell_type": "code",
   "execution_count": 280,
   "metadata": {
    "scrolled": true
   },
   "outputs": [
    {
     "name": "stdout",
     "output_type": "stream",
     "text": [
      "<class 'pandas.core.frame.DataFrame'>\n",
      "Int64Index: 2333 entries, 0 to 2355\n",
      "Data columns (total 17 columns):\n",
      " #   Column                      Non-Null Count  Dtype              \n",
      "---  ------                      --------------  -----              \n",
      " 0   tweet_id                    2333 non-null   object             \n",
      " 1   in_reply_to_status_id       73 non-null     float64            \n",
      " 2   in_reply_to_user_id         73 non-null     float64            \n",
      " 3   timestamp                   2333 non-null   datetime64[ns, UTC]\n",
      " 4   source                      2333 non-null   object             \n",
      " 5   text                        2333 non-null   object             \n",
      " 6   retweeted_status_id         180 non-null    float64            \n",
      " 7   retweeted_status_user_id    180 non-null    float64            \n",
      " 8   retweeted_status_timestamp  180 non-null    object             \n",
      " 9   expanded_urls               2278 non-null   object             \n",
      " 10  rating_numerator            2333 non-null   int64              \n",
      " 11  rating_denominator          2333 non-null   int64              \n",
      " 12  name                        2333 non-null   object             \n",
      " 13  doggo                       2333 non-null   object             \n",
      " 14  floofer                     2333 non-null   object             \n",
      " 15  pupper                      2333 non-null   object             \n",
      " 16  puppo                       2333 non-null   object             \n",
      "dtypes: datetime64[ns, UTC](1), float64(4), int64(2), object(10)\n",
      "memory usage: 328.1+ KB\n"
     ]
    }
   ],
   "source": [
    "\n",
    "archive.info()"
   ]
  },
  {
   "cell_type": "code",
   "execution_count": 281,
   "metadata": {
    "scrolled": true
   },
   "outputs": [
    {
     "name": "stdout",
     "output_type": "stream",
     "text": [
      "<class 'pandas.core.frame.DataFrame'>\n",
      "RangeIndex: 2075 entries, 0 to 2074\n",
      "Data columns (total 12 columns):\n",
      " #   Column    Non-Null Count  Dtype  \n",
      "---  ------    --------------  -----  \n",
      " 0   tweet_id  2075 non-null   object \n",
      " 1   jpg_url   2075 non-null   object \n",
      " 2   img_num   2075 non-null   int64  \n",
      " 3   p1        2075 non-null   object \n",
      " 4   p1_conf   2075 non-null   float64\n",
      " 5   p1_dog    2075 non-null   bool   \n",
      " 6   p2        2075 non-null   object \n",
      " 7   p2_conf   2075 non-null   float64\n",
      " 8   p2_dog    2075 non-null   bool   \n",
      " 9   p3        2075 non-null   object \n",
      " 10  p3_conf   2075 non-null   float64\n",
      " 11  p3_dog    2075 non-null   bool   \n",
      "dtypes: bool(3), float64(3), int64(1), object(5)\n",
      "memory usage: 152.1+ KB\n"
     ]
    }
   ],
   "source": [
    "predictions.info()"
   ]
  },
  {
   "cell_type": "code",
   "execution_count": 282,
   "metadata": {
    "scrolled": true
   },
   "outputs": [
    {
     "name": "stdout",
     "output_type": "stream",
     "text": [
      "<class 'pandas.core.frame.DataFrame'>\n",
      "RangeIndex: 2057 entries, 0 to 2056\n",
      "Data columns (total 3 columns):\n",
      " #   Column          Non-Null Count  Dtype \n",
      "---  ------          --------------  ----- \n",
      " 0   id              2057 non-null   object\n",
      " 1   retweet_count   2057 non-null   int64 \n",
      " 2   favorite_count  2057 non-null   int64 \n",
      "dtypes: int64(2), object(1)\n",
      "memory usage: 48.3+ KB\n"
     ]
    }
   ],
   "source": [
    "rate.info()"
   ]
  },
  {
   "cell_type": "markdown",
   "metadata": {},
   "source": [
    "### Issue #4: ru le of every observation should be in each row has been broken for floofer, doggo, pupper and puppo dog types columns in archive table"
   ]
  },
  {
   "cell_type": "code",
   "execution_count": 283,
   "metadata": {},
   "outputs": [
    {
     "data": {
      "text/html": [
       "<div>\n",
       "<style scoped>\n",
       "    .dataframe tbody tr th:only-of-type {\n",
       "        vertical-align: middle;\n",
       "    }\n",
       "\n",
       "    .dataframe tbody tr th {\n",
       "        vertical-align: top;\n",
       "    }\n",
       "\n",
       "    .dataframe thead th {\n",
       "        text-align: right;\n",
       "    }\n",
       "</style>\n",
       "<table border=\"1\" class=\"dataframe\">\n",
       "  <thead>\n",
       "    <tr style=\"text-align: right;\">\n",
       "      <th></th>\n",
       "      <th>tweet_id</th>\n",
       "      <th>in_reply_to_status_id</th>\n",
       "      <th>in_reply_to_user_id</th>\n",
       "      <th>timestamp</th>\n",
       "      <th>source</th>\n",
       "      <th>text</th>\n",
       "      <th>retweeted_status_id</th>\n",
       "      <th>retweeted_status_user_id</th>\n",
       "      <th>retweeted_status_timestamp</th>\n",
       "      <th>expanded_urls</th>\n",
       "      <th>rating_numerator</th>\n",
       "      <th>rating_denominator</th>\n",
       "      <th>name</th>\n",
       "      <th>doggo</th>\n",
       "      <th>floofer</th>\n",
       "      <th>pupper</th>\n",
       "      <th>puppo</th>\n",
       "    </tr>\n",
       "  </thead>\n",
       "  <tbody>\n",
       "    <tr>\n",
       "      <th>0</th>\n",
       "      <td>892420643555336193</td>\n",
       "      <td>NaN</td>\n",
       "      <td>NaN</td>\n",
       "      <td>2017-08-01 16:23:56+00:00</td>\n",
       "      <td>&lt;a href=\"http://twitter.com/download/iphone\" r...</td>\n",
       "      <td>This is Phineas. He's a mystical boy. Only eve...</td>\n",
       "      <td>NaN</td>\n",
       "      <td>NaN</td>\n",
       "      <td>NaN</td>\n",
       "      <td>https://twitter.com/dog_rates/status/892420643...</td>\n",
       "      <td>13</td>\n",
       "      <td>10</td>\n",
       "      <td>Phineas</td>\n",
       "      <td>None</td>\n",
       "      <td>None</td>\n",
       "      <td>None</td>\n",
       "      <td>None</td>\n",
       "    </tr>\n",
       "    <tr>\n",
       "      <th>1</th>\n",
       "      <td>892177421306343426</td>\n",
       "      <td>NaN</td>\n",
       "      <td>NaN</td>\n",
       "      <td>2017-08-01 00:17:27+00:00</td>\n",
       "      <td>&lt;a href=\"http://twitter.com/download/iphone\" r...</td>\n",
       "      <td>This is Tilly. She's just checking pup on you....</td>\n",
       "      <td>NaN</td>\n",
       "      <td>NaN</td>\n",
       "      <td>NaN</td>\n",
       "      <td>https://twitter.com/dog_rates/status/892177421...</td>\n",
       "      <td>13</td>\n",
       "      <td>10</td>\n",
       "      <td>Tilly</td>\n",
       "      <td>None</td>\n",
       "      <td>None</td>\n",
       "      <td>None</td>\n",
       "      <td>None</td>\n",
       "    </tr>\n",
       "  </tbody>\n",
       "</table>\n",
       "</div>"
      ],
      "text/plain": [
       "             tweet_id  in_reply_to_status_id  in_reply_to_user_id  \\\n",
       "0  892420643555336193                    NaN                  NaN   \n",
       "1  892177421306343426                    NaN                  NaN   \n",
       "\n",
       "                  timestamp  \\\n",
       "0 2017-08-01 16:23:56+00:00   \n",
       "1 2017-08-01 00:17:27+00:00   \n",
       "\n",
       "                                              source  \\\n",
       "0  <a href=\"http://twitter.com/download/iphone\" r...   \n",
       "1  <a href=\"http://twitter.com/download/iphone\" r...   \n",
       "\n",
       "                                                text  retweeted_status_id  \\\n",
       "0  This is Phineas. He's a mystical boy. Only eve...                  NaN   \n",
       "1  This is Tilly. She's just checking pup on you....                  NaN   \n",
       "\n",
       "   retweeted_status_user_id retweeted_status_timestamp  \\\n",
       "0                       NaN                        NaN   \n",
       "1                       NaN                        NaN   \n",
       "\n",
       "                                       expanded_urls  rating_numerator  \\\n",
       "0  https://twitter.com/dog_rates/status/892420643...                13   \n",
       "1  https://twitter.com/dog_rates/status/892177421...                13   \n",
       "\n",
       "   rating_denominator     name doggo floofer pupper puppo  \n",
       "0                  10  Phineas  None    None   None  None  \n",
       "1                  10    Tilly  None    None   None  None  "
      ]
     },
     "execution_count": 283,
     "metadata": {},
     "output_type": "execute_result"
    }
   ],
   "source": [
    "archive.head(2)"
   ]
  },
  {
   "cell_type": "code",
   "execution_count": 284,
   "metadata": {},
   "outputs": [],
   "source": [
    "#Create a column called dog_stage and extract stage names from text\n",
    "archive['dog_stage']=archive['text'].str.extract(\"(doggo|floofer|pupper|puppo)\")"
   ]
  },
  {
   "cell_type": "code",
   "execution_count": 285,
   "metadata": {},
   "outputs": [
    {
     "data": {
      "text/html": [
       "<div>\n",
       "<style scoped>\n",
       "    .dataframe tbody tr th:only-of-type {\n",
       "        vertical-align: middle;\n",
       "    }\n",
       "\n",
       "    .dataframe tbody tr th {\n",
       "        vertical-align: top;\n",
       "    }\n",
       "\n",
       "    .dataframe thead th {\n",
       "        text-align: right;\n",
       "    }\n",
       "</style>\n",
       "<table border=\"1\" class=\"dataframe\">\n",
       "  <thead>\n",
       "    <tr style=\"text-align: right;\">\n",
       "      <th></th>\n",
       "      <th>tweet_id</th>\n",
       "      <th>in_reply_to_status_id</th>\n",
       "      <th>in_reply_to_user_id</th>\n",
       "      <th>timestamp</th>\n",
       "      <th>source</th>\n",
       "      <th>text</th>\n",
       "      <th>retweeted_status_id</th>\n",
       "      <th>retweeted_status_user_id</th>\n",
       "      <th>retweeted_status_timestamp</th>\n",
       "      <th>expanded_urls</th>\n",
       "      <th>rating_numerator</th>\n",
       "      <th>rating_denominator</th>\n",
       "      <th>name</th>\n",
       "      <th>doggo</th>\n",
       "      <th>floofer</th>\n",
       "      <th>pupper</th>\n",
       "      <th>puppo</th>\n",
       "      <th>dog_stage</th>\n",
       "    </tr>\n",
       "  </thead>\n",
       "  <tbody>\n",
       "    <tr>\n",
       "      <th>51</th>\n",
       "      <td>882268110199369728</td>\n",
       "      <td>NaN</td>\n",
       "      <td>NaN</td>\n",
       "      <td>2017-07-04 16:01:23+00:00</td>\n",
       "      <td>&lt;a href=\"http://twitter.com/download/iphone\" r...</td>\n",
       "      <td>This is Alfy. You're witnessing his first wate...</td>\n",
       "      <td>NaN</td>\n",
       "      <td>NaN</td>\n",
       "      <td>NaN</td>\n",
       "      <td>https://twitter.com/dog_rates/status/882268110...</td>\n",
       "      <td>13</td>\n",
       "      <td>10</td>\n",
       "      <td>Alfy</td>\n",
       "      <td>None</td>\n",
       "      <td>None</td>\n",
       "      <td>None</td>\n",
       "      <td>None</td>\n",
       "      <td>NaN</td>\n",
       "    </tr>\n",
       "    <tr>\n",
       "      <th>918</th>\n",
       "      <td>756651752796094464</td>\n",
       "      <td>NaN</td>\n",
       "      <td>NaN</td>\n",
       "      <td>2016-07-23 00:46:50+00:00</td>\n",
       "      <td>&lt;a href=\"http://twitter.com/download/iphone\" r...</td>\n",
       "      <td>This is Gert. He just wants you to be happy. 1...</td>\n",
       "      <td>NaN</td>\n",
       "      <td>NaN</td>\n",
       "      <td>NaN</td>\n",
       "      <td>https://twitter.com/dog_rates/status/756651752...</td>\n",
       "      <td>11</td>\n",
       "      <td>10</td>\n",
       "      <td>Gert</td>\n",
       "      <td>None</td>\n",
       "      <td>None</td>\n",
       "      <td>None</td>\n",
       "      <td>None</td>\n",
       "      <td>NaN</td>\n",
       "    </tr>\n",
       "    <tr>\n",
       "      <th>1380</th>\n",
       "      <td>701214700881756160</td>\n",
       "      <td>NaN</td>\n",
       "      <td>NaN</td>\n",
       "      <td>2016-02-21 01:19:47+00:00</td>\n",
       "      <td>&lt;a href=\"http://twitter.com/download/iphone\" r...</td>\n",
       "      <td>I'm not sure what's happening here, but it's p...</td>\n",
       "      <td>NaN</td>\n",
       "      <td>NaN</td>\n",
       "      <td>NaN</td>\n",
       "      <td>https://twitter.com/dog_rates/status/701214700...</td>\n",
       "      <td>12</td>\n",
       "      <td>10</td>\n",
       "      <td>None</td>\n",
       "      <td>None</td>\n",
       "      <td>None</td>\n",
       "      <td>None</td>\n",
       "      <td>None</td>\n",
       "      <td>NaN</td>\n",
       "    </tr>\n",
       "    <tr>\n",
       "      <th>2259</th>\n",
       "      <td>667550904950915073</td>\n",
       "      <td>NaN</td>\n",
       "      <td>NaN</td>\n",
       "      <td>2015-11-20 03:51:52+00:00</td>\n",
       "      <td>&lt;a href=\"http://twitter.com\" rel=\"nofollow\"&gt;Tw...</td>\n",
       "      <td>RT @dogratingrating: Exceptional talent. Origi...</td>\n",
       "      <td>6.675487e+17</td>\n",
       "      <td>4.296832e+09</td>\n",
       "      <td>2015-11-20 03:43:06 +0000</td>\n",
       "      <td>https://twitter.com/dogratingrating/status/667...</td>\n",
       "      <td>12</td>\n",
       "      <td>10</td>\n",
       "      <td>None</td>\n",
       "      <td>None</td>\n",
       "      <td>None</td>\n",
       "      <td>None</td>\n",
       "      <td>None</td>\n",
       "      <td>NaN</td>\n",
       "    </tr>\n",
       "    <tr>\n",
       "      <th>793</th>\n",
       "      <td>773547596996571136</td>\n",
       "      <td>NaN</td>\n",
       "      <td>NaN</td>\n",
       "      <td>2016-09-07 15:44:53+00:00</td>\n",
       "      <td>&lt;a href=\"http://twitter.com/download/iphone\" r...</td>\n",
       "      <td>This is Chelsea. She forgot how to dog. 11/10 ...</td>\n",
       "      <td>NaN</td>\n",
       "      <td>NaN</td>\n",
       "      <td>NaN</td>\n",
       "      <td>https://twitter.com/dog_rates/status/773547596...</td>\n",
       "      <td>11</td>\n",
       "      <td>10</td>\n",
       "      <td>Chelsea</td>\n",
       "      <td>None</td>\n",
       "      <td>None</td>\n",
       "      <td>pupper</td>\n",
       "      <td>None</td>\n",
       "      <td>pupper</td>\n",
       "    </tr>\n",
       "  </tbody>\n",
       "</table>\n",
       "</div>"
      ],
      "text/plain": [
       "                tweet_id  in_reply_to_status_id  in_reply_to_user_id  \\\n",
       "51    882268110199369728                    NaN                  NaN   \n",
       "918   756651752796094464                    NaN                  NaN   \n",
       "1380  701214700881756160                    NaN                  NaN   \n",
       "2259  667550904950915073                    NaN                  NaN   \n",
       "793   773547596996571136                    NaN                  NaN   \n",
       "\n",
       "                     timestamp  \\\n",
       "51   2017-07-04 16:01:23+00:00   \n",
       "918  2016-07-23 00:46:50+00:00   \n",
       "1380 2016-02-21 01:19:47+00:00   \n",
       "2259 2015-11-20 03:51:52+00:00   \n",
       "793  2016-09-07 15:44:53+00:00   \n",
       "\n",
       "                                                 source  \\\n",
       "51    <a href=\"http://twitter.com/download/iphone\" r...   \n",
       "918   <a href=\"http://twitter.com/download/iphone\" r...   \n",
       "1380  <a href=\"http://twitter.com/download/iphone\" r...   \n",
       "2259  <a href=\"http://twitter.com\" rel=\"nofollow\">Tw...   \n",
       "793   <a href=\"http://twitter.com/download/iphone\" r...   \n",
       "\n",
       "                                                   text  retweeted_status_id  \\\n",
       "51    This is Alfy. You're witnessing his first wate...                  NaN   \n",
       "918   This is Gert. He just wants you to be happy. 1...                  NaN   \n",
       "1380  I'm not sure what's happening here, but it's p...                  NaN   \n",
       "2259  RT @dogratingrating: Exceptional talent. Origi...         6.675487e+17   \n",
       "793   This is Chelsea. She forgot how to dog. 11/10 ...                  NaN   \n",
       "\n",
       "      retweeted_status_user_id retweeted_status_timestamp  \\\n",
       "51                         NaN                        NaN   \n",
       "918                        NaN                        NaN   \n",
       "1380                       NaN                        NaN   \n",
       "2259              4.296832e+09  2015-11-20 03:43:06 +0000   \n",
       "793                        NaN                        NaN   \n",
       "\n",
       "                                          expanded_urls  rating_numerator  \\\n",
       "51    https://twitter.com/dog_rates/status/882268110...                13   \n",
       "918   https://twitter.com/dog_rates/status/756651752...                11   \n",
       "1380  https://twitter.com/dog_rates/status/701214700...                12   \n",
       "2259  https://twitter.com/dogratingrating/status/667...                12   \n",
       "793   https://twitter.com/dog_rates/status/773547596...                11   \n",
       "\n",
       "      rating_denominator     name doggo floofer  pupper puppo dog_stage  \n",
       "51                    10     Alfy  None    None    None  None       NaN  \n",
       "918                   10     Gert  None    None    None  None       NaN  \n",
       "1380                  10     None  None    None    None  None       NaN  \n",
       "2259                  10     None  None    None    None  None       NaN  \n",
       "793                   10  Chelsea  None    None  pupper  None    pupper  "
      ]
     },
     "execution_count": 285,
     "metadata": {},
     "output_type": "execute_result"
    }
   ],
   "source": [
    "archive.sample(5)"
   ]
  },
  {
   "cell_type": "code",
   "execution_count": 286,
   "metadata": {},
   "outputs": [],
   "source": [
    "#drop the extra 'doggo', 'floofer', 'pupper', 'puppo' columns\n",
    "archive=archive.drop(columns=['doggo', 'floofer', 'pupper', 'puppo'])"
   ]
  },
  {
   "cell_type": "code",
   "execution_count": 287,
   "metadata": {},
   "outputs": [
    {
     "data": {
      "text/plain": [
       "(2333, 14)"
      ]
     },
     "execution_count": 287,
     "metadata": {},
     "output_type": "execute_result"
    }
   ],
   "source": [
    "archive.shape"
   ]
  },
  {
   "cell_type": "markdown",
   "metadata": {},
   "source": [
    "#test"
   ]
  },
  {
   "cell_type": "code",
   "execution_count": 288,
   "metadata": {},
   "outputs": [
    {
     "data": {
      "text/html": [
       "<div>\n",
       "<style scoped>\n",
       "    .dataframe tbody tr th:only-of-type {\n",
       "        vertical-align: middle;\n",
       "    }\n",
       "\n",
       "    .dataframe tbody tr th {\n",
       "        vertical-align: top;\n",
       "    }\n",
       "\n",
       "    .dataframe thead th {\n",
       "        text-align: right;\n",
       "    }\n",
       "</style>\n",
       "<table border=\"1\" class=\"dataframe\">\n",
       "  <thead>\n",
       "    <tr style=\"text-align: right;\">\n",
       "      <th></th>\n",
       "      <th>tweet_id</th>\n",
       "      <th>in_reply_to_status_id</th>\n",
       "      <th>in_reply_to_user_id</th>\n",
       "      <th>timestamp</th>\n",
       "      <th>source</th>\n",
       "      <th>text</th>\n",
       "      <th>retweeted_status_id</th>\n",
       "      <th>retweeted_status_user_id</th>\n",
       "      <th>retweeted_status_timestamp</th>\n",
       "      <th>expanded_urls</th>\n",
       "      <th>rating_numerator</th>\n",
       "      <th>rating_denominator</th>\n",
       "      <th>name</th>\n",
       "      <th>dog_stage</th>\n",
       "    </tr>\n",
       "  </thead>\n",
       "  <tbody>\n",
       "    <tr>\n",
       "      <th>1083</th>\n",
       "      <td>738537504001953792</td>\n",
       "      <td>NaN</td>\n",
       "      <td>NaN</td>\n",
       "      <td>2016-06-03 01:07:16+00:00</td>\n",
       "      <td>&lt;a href=\"http://twitter.com/download/iphone\" r...</td>\n",
       "      <td>This is Bayley. She fell asleep trying to esca...</td>\n",
       "      <td>NaN</td>\n",
       "      <td>NaN</td>\n",
       "      <td>NaN</td>\n",
       "      <td>https://twitter.com/dog_rates/status/738537504...</td>\n",
       "      <td>11</td>\n",
       "      <td>10</td>\n",
       "      <td>Bayley</td>\n",
       "      <td>puppo</td>\n",
       "    </tr>\n",
       "    <tr>\n",
       "      <th>1902</th>\n",
       "      <td>674644256330530816</td>\n",
       "      <td>NaN</td>\n",
       "      <td>NaN</td>\n",
       "      <td>2015-12-09 17:38:19+00:00</td>\n",
       "      <td>&lt;a href=\"http://twitter.com/download/iphone\" r...</td>\n",
       "      <td>When you see sophomores in high school driving...</td>\n",
       "      <td>NaN</td>\n",
       "      <td>NaN</td>\n",
       "      <td>NaN</td>\n",
       "      <td>https://twitter.com/dog_rates/status/674644256...</td>\n",
       "      <td>11</td>\n",
       "      <td>10</td>\n",
       "      <td>None</td>\n",
       "      <td>NaN</td>\n",
       "    </tr>\n",
       "    <tr>\n",
       "      <th>43</th>\n",
       "      <td>884162670584377345</td>\n",
       "      <td>NaN</td>\n",
       "      <td>NaN</td>\n",
       "      <td>2017-07-09 21:29:42+00:00</td>\n",
       "      <td>&lt;a href=\"http://twitter.com/download/iphone\" r...</td>\n",
       "      <td>Meet Yogi. He doesn't have any important dog m...</td>\n",
       "      <td>NaN</td>\n",
       "      <td>NaN</td>\n",
       "      <td>NaN</td>\n",
       "      <td>https://twitter.com/dog_rates/status/884162670...</td>\n",
       "      <td>12</td>\n",
       "      <td>10</td>\n",
       "      <td>Yogi</td>\n",
       "      <td>doggo</td>\n",
       "    </tr>\n",
       "    <tr>\n",
       "      <th>1924</th>\n",
       "      <td>674075285688614912</td>\n",
       "      <td>NaN</td>\n",
       "      <td>NaN</td>\n",
       "      <td>2015-12-08 03:57:26+00:00</td>\n",
       "      <td>&lt;a href=\"http://twitter.com/download/iphone\" r...</td>\n",
       "      <td>Say hello to Mitch. He thinks that's a hat. No...</td>\n",
       "      <td>NaN</td>\n",
       "      <td>NaN</td>\n",
       "      <td>NaN</td>\n",
       "      <td>https://twitter.com/dog_rates/status/674075285...</td>\n",
       "      <td>11</td>\n",
       "      <td>10</td>\n",
       "      <td>Mitch</td>\n",
       "      <td>NaN</td>\n",
       "    </tr>\n",
       "    <tr>\n",
       "      <th>1323</th>\n",
       "      <td>706265994973601792</td>\n",
       "      <td>NaN</td>\n",
       "      <td>NaN</td>\n",
       "      <td>2016-03-05 23:51:49+00:00</td>\n",
       "      <td>&lt;a href=\"http://twitter.com/download/iphone\" r...</td>\n",
       "      <td>This is Kara. She's been trying to solve that ...</td>\n",
       "      <td>NaN</td>\n",
       "      <td>NaN</td>\n",
       "      <td>NaN</td>\n",
       "      <td>https://twitter.com/dog_rates/status/706265994...</td>\n",
       "      <td>11</td>\n",
       "      <td>10</td>\n",
       "      <td>Kara</td>\n",
       "      <td>NaN</td>\n",
       "    </tr>\n",
       "  </tbody>\n",
       "</table>\n",
       "</div>"
      ],
      "text/plain": [
       "                tweet_id  in_reply_to_status_id  in_reply_to_user_id  \\\n",
       "1083  738537504001953792                    NaN                  NaN   \n",
       "1902  674644256330530816                    NaN                  NaN   \n",
       "43    884162670584377345                    NaN                  NaN   \n",
       "1924  674075285688614912                    NaN                  NaN   \n",
       "1323  706265994973601792                    NaN                  NaN   \n",
       "\n",
       "                     timestamp  \\\n",
       "1083 2016-06-03 01:07:16+00:00   \n",
       "1902 2015-12-09 17:38:19+00:00   \n",
       "43   2017-07-09 21:29:42+00:00   \n",
       "1924 2015-12-08 03:57:26+00:00   \n",
       "1323 2016-03-05 23:51:49+00:00   \n",
       "\n",
       "                                                 source  \\\n",
       "1083  <a href=\"http://twitter.com/download/iphone\" r...   \n",
       "1902  <a href=\"http://twitter.com/download/iphone\" r...   \n",
       "43    <a href=\"http://twitter.com/download/iphone\" r...   \n",
       "1924  <a href=\"http://twitter.com/download/iphone\" r...   \n",
       "1323  <a href=\"http://twitter.com/download/iphone\" r...   \n",
       "\n",
       "                                                   text  retweeted_status_id  \\\n",
       "1083  This is Bayley. She fell asleep trying to esca...                  NaN   \n",
       "1902  When you see sophomores in high school driving...                  NaN   \n",
       "43    Meet Yogi. He doesn't have any important dog m...                  NaN   \n",
       "1924  Say hello to Mitch. He thinks that's a hat. No...                  NaN   \n",
       "1323  This is Kara. She's been trying to solve that ...                  NaN   \n",
       "\n",
       "      retweeted_status_user_id retweeted_status_timestamp  \\\n",
       "1083                       NaN                        NaN   \n",
       "1902                       NaN                        NaN   \n",
       "43                         NaN                        NaN   \n",
       "1924                       NaN                        NaN   \n",
       "1323                       NaN                        NaN   \n",
       "\n",
       "                                          expanded_urls  rating_numerator  \\\n",
       "1083  https://twitter.com/dog_rates/status/738537504...                11   \n",
       "1902  https://twitter.com/dog_rates/status/674644256...                11   \n",
       "43    https://twitter.com/dog_rates/status/884162670...                12   \n",
       "1924  https://twitter.com/dog_rates/status/674075285...                11   \n",
       "1323  https://twitter.com/dog_rates/status/706265994...                11   \n",
       "\n",
       "      rating_denominator    name dog_stage  \n",
       "1083                  10  Bayley     puppo  \n",
       "1902                  10    None       NaN  \n",
       "43                    10    Yogi     doggo  \n",
       "1924                  10   Mitch       NaN  \n",
       "1323                  10    Kara       NaN  "
      ]
     },
     "execution_count": 288,
     "metadata": {},
     "output_type": "execute_result"
    }
   ],
   "source": [
    "archive.sample(5)"
   ]
  },
  {
   "cell_type": "code",
   "execution_count": 289,
   "metadata": {
    "scrolled": true
   },
   "outputs": [
    {
     "name": "stdout",
     "output_type": "stream",
     "text": [
      "<class 'pandas.core.frame.DataFrame'>\n",
      "Int64Index: 2333 entries, 0 to 2355\n",
      "Data columns (total 14 columns):\n",
      " #   Column                      Non-Null Count  Dtype              \n",
      "---  ------                      --------------  -----              \n",
      " 0   tweet_id                    2333 non-null   object             \n",
      " 1   in_reply_to_status_id       73 non-null     float64            \n",
      " 2   in_reply_to_user_id         73 non-null     float64            \n",
      " 3   timestamp                   2333 non-null   datetime64[ns, UTC]\n",
      " 4   source                      2333 non-null   object             \n",
      " 5   text                        2333 non-null   object             \n",
      " 6   retweeted_status_id         180 non-null    float64            \n",
      " 7   retweeted_status_user_id    180 non-null    float64            \n",
      " 8   retweeted_status_timestamp  180 non-null    object             \n",
      " 9   expanded_urls               2278 non-null   object             \n",
      " 10  rating_numerator            2333 non-null   int64              \n",
      " 11  rating_denominator          2333 non-null   int64              \n",
      " 12  name                        2333 non-null   object             \n",
      " 13  dog_stage                   392 non-null    object             \n",
      "dtypes: datetime64[ns, UTC](1), float64(4), int64(2), object(7)\n",
      "memory usage: 273.4+ KB\n"
     ]
    }
   ],
   "source": [
    "archive.info()"
   ]
  },
  {
   "cell_type": "code",
   "execution_count": null,
   "metadata": {},
   "outputs": [],
   "source": []
  },
  {
   "cell_type": "markdown",
   "metadata": {},
   "source": [
    "### Issue #5:There is no consistency in prediction table since in p1, p2 and p3 some names start with uppercase"
   ]
  },
  {
   "cell_type": "code",
   "execution_count": 290,
   "metadata": {},
   "outputs": [
    {
     "data": {
      "text/plain": [
       "841             bow_tie\n",
       "1597    Norfolk_terrier\n",
       "249        Ibizan_hound\n",
       "1411               chow\n",
       "153              beagle\n",
       "Name: p1, dtype: object"
      ]
     },
     "execution_count": 290,
     "metadata": {},
     "output_type": "execute_result"
    }
   ],
   "source": [
    "predictions.p1.sample(5)"
   ]
  },
  {
   "cell_type": "code",
   "execution_count": 291,
   "metadata": {},
   "outputs": [],
   "source": [
    "#convert all the names to lowercase\n",
    "predictions.p1=predictions.p1.str.lower()\n",
    "predictions.p2=predictions.p2.str.lower()\n",
    "predictions.p3=predictions.p3.str.lower()"
   ]
  },
  {
   "cell_type": "markdown",
   "metadata": {},
   "source": [
    "# test"
   ]
  },
  {
   "cell_type": "code",
   "execution_count": 292,
   "metadata": {},
   "outputs": [
    {
     "data": {
      "text/html": [
       "<div>\n",
       "<style scoped>\n",
       "    .dataframe tbody tr th:only-of-type {\n",
       "        vertical-align: middle;\n",
       "    }\n",
       "\n",
       "    .dataframe tbody tr th {\n",
       "        vertical-align: top;\n",
       "    }\n",
       "\n",
       "    .dataframe thead th {\n",
       "        text-align: right;\n",
       "    }\n",
       "</style>\n",
       "<table border=\"1\" class=\"dataframe\">\n",
       "  <thead>\n",
       "    <tr style=\"text-align: right;\">\n",
       "      <th></th>\n",
       "      <th>tweet_id</th>\n",
       "      <th>jpg_url</th>\n",
       "      <th>img_num</th>\n",
       "      <th>p1</th>\n",
       "      <th>p1_conf</th>\n",
       "      <th>p1_dog</th>\n",
       "      <th>p2</th>\n",
       "      <th>p2_conf</th>\n",
       "      <th>p2_dog</th>\n",
       "      <th>p3</th>\n",
       "      <th>p3_conf</th>\n",
       "      <th>p3_dog</th>\n",
       "    </tr>\n",
       "  </thead>\n",
       "  <tbody>\n",
       "    <tr>\n",
       "      <th>1338</th>\n",
       "      <td>758467244762497024</td>\n",
       "      <td>https://pbs.twimg.com/ext_tw_video_thumb/75846...</td>\n",
       "      <td>1</td>\n",
       "      <td>labrador_retriever</td>\n",
       "      <td>0.436377</td>\n",
       "      <td>True</td>\n",
       "      <td>chihuahua</td>\n",
       "      <td>0.113956</td>\n",
       "      <td>True</td>\n",
       "      <td>american_staffordshire_terrier</td>\n",
       "      <td>0.099689</td>\n",
       "      <td>True</td>\n",
       "    </tr>\n",
       "    <tr>\n",
       "      <th>267</th>\n",
       "      <td>670807719151067136</td>\n",
       "      <td>https://pbs.twimg.com/media/CU8v-rdXIAId12Z.jpg</td>\n",
       "      <td>1</td>\n",
       "      <td>old_english_sheepdog</td>\n",
       "      <td>0.958035</td>\n",
       "      <td>True</td>\n",
       "      <td>sealyham_terrier</td>\n",
       "      <td>0.013892</td>\n",
       "      <td>True</td>\n",
       "      <td>border_collie</td>\n",
       "      <td>0.004601</td>\n",
       "      <td>True</td>\n",
       "    </tr>\n",
       "    <tr>\n",
       "      <th>69</th>\n",
       "      <td>667188689915760640</td>\n",
       "      <td>https://pbs.twimg.com/media/CUJUk2iWUAAVtOv.jpg</td>\n",
       "      <td>1</td>\n",
       "      <td>vacuum</td>\n",
       "      <td>0.335830</td>\n",
       "      <td>False</td>\n",
       "      <td>swab</td>\n",
       "      <td>0.265278</td>\n",
       "      <td>False</td>\n",
       "      <td>toilet_tissue</td>\n",
       "      <td>0.140703</td>\n",
       "      <td>False</td>\n",
       "    </tr>\n",
       "    <tr>\n",
       "      <th>436</th>\n",
       "      <td>674410619106390016</td>\n",
       "      <td>https://pbs.twimg.com/media/CVv84VDUEAEm3dW.jpg</td>\n",
       "      <td>1</td>\n",
       "      <td>brown_bear</td>\n",
       "      <td>0.698207</td>\n",
       "      <td>False</td>\n",
       "      <td>sea_lion</td>\n",
       "      <td>0.046475</td>\n",
       "      <td>False</td>\n",
       "      <td>beagle</td>\n",
       "      <td>0.019427</td>\n",
       "      <td>True</td>\n",
       "    </tr>\n",
       "    <tr>\n",
       "      <th>1665</th>\n",
       "      <td>812503143955202048</td>\n",
       "      <td>https://pbs.twimg.com/media/C0aXTLqXEAADxBi.jpg</td>\n",
       "      <td>2</td>\n",
       "      <td>loupe</td>\n",
       "      <td>0.546856</td>\n",
       "      <td>False</td>\n",
       "      <td>web_site</td>\n",
       "      <td>0.345298</td>\n",
       "      <td>False</td>\n",
       "      <td>bubble</td>\n",
       "      <td>0.010528</td>\n",
       "      <td>False</td>\n",
       "    </tr>\n",
       "  </tbody>\n",
       "</table>\n",
       "</div>"
      ],
      "text/plain": [
       "                tweet_id                                            jpg_url  \\\n",
       "1338  758467244762497024  https://pbs.twimg.com/ext_tw_video_thumb/75846...   \n",
       "267   670807719151067136    https://pbs.twimg.com/media/CU8v-rdXIAId12Z.jpg   \n",
       "69    667188689915760640    https://pbs.twimg.com/media/CUJUk2iWUAAVtOv.jpg   \n",
       "436   674410619106390016    https://pbs.twimg.com/media/CVv84VDUEAEm3dW.jpg   \n",
       "1665  812503143955202048    https://pbs.twimg.com/media/C0aXTLqXEAADxBi.jpg   \n",
       "\n",
       "      img_num                    p1   p1_conf  p1_dog                p2  \\\n",
       "1338        1    labrador_retriever  0.436377    True         chihuahua   \n",
       "267         1  old_english_sheepdog  0.958035    True  sealyham_terrier   \n",
       "69          1                vacuum  0.335830   False              swab   \n",
       "436         1            brown_bear  0.698207   False          sea_lion   \n",
       "1665        2                 loupe  0.546856   False          web_site   \n",
       "\n",
       "       p2_conf  p2_dog                              p3   p3_conf  p3_dog  \n",
       "1338  0.113956    True  american_staffordshire_terrier  0.099689    True  \n",
       "267   0.013892    True                   border_collie  0.004601    True  \n",
       "69    0.265278   False                   toilet_tissue  0.140703   False  \n",
       "436   0.046475   False                          beagle  0.019427    True  \n",
       "1665  0.345298   False                          bubble  0.010528   False  "
      ]
     },
     "execution_count": 292,
     "metadata": {},
     "output_type": "execute_result"
    }
   ],
   "source": [
    "predictions.sample(5)"
   ]
  },
  {
   "cell_type": "markdown",
   "metadata": {},
   "source": [
    "### Issue #6:wrong datatypes for p1, p2 and p3 in predictions should be category"
   ]
  },
  {
   "cell_type": "code",
   "execution_count": 293,
   "metadata": {},
   "outputs": [
    {
     "data": {
      "text/plain": [
       "dtype('O')"
      ]
     },
     "execution_count": 293,
     "metadata": {},
     "output_type": "execute_result"
    }
   ],
   "source": [
    "predictions.p1.dtype"
   ]
  },
  {
   "cell_type": "code",
   "execution_count": 294,
   "metadata": {},
   "outputs": [
    {
     "data": {
      "text/plain": [
       "dtype('O')"
      ]
     },
     "execution_count": 294,
     "metadata": {},
     "output_type": "execute_result"
    }
   ],
   "source": [
    "predictions.p2.dtype"
   ]
  },
  {
   "cell_type": "code",
   "execution_count": 295,
   "metadata": {},
   "outputs": [
    {
     "data": {
      "text/plain": [
       "dtype('O')"
      ]
     },
     "execution_count": 295,
     "metadata": {},
     "output_type": "execute_result"
    }
   ],
   "source": [
    "predictions.p3.dtype"
   ]
  },
  {
   "cell_type": "code",
   "execution_count": 296,
   "metadata": {},
   "outputs": [],
   "source": [
    "#Change the datatype of p1 p2 and p3 in predictions to category\n",
    "predictions.p1=predictions.p1.astype('category')\n",
    "predictions.p2=predictions.p2.astype('category')\n",
    "predictions.p3=predictions.p3.astype('category')"
   ]
  },
  {
   "cell_type": "markdown",
   "metadata": {},
   "source": [
    "#test"
   ]
  },
  {
   "cell_type": "code",
   "execution_count": 297,
   "metadata": {},
   "outputs": [
    {
     "name": "stdout",
     "output_type": "stream",
     "text": [
      "<class 'pandas.core.frame.DataFrame'>\n",
      "RangeIndex: 2075 entries, 0 to 2074\n",
      "Data columns (total 12 columns):\n",
      " #   Column    Non-Null Count  Dtype   \n",
      "---  ------    --------------  -----   \n",
      " 0   tweet_id  2075 non-null   object  \n",
      " 1   jpg_url   2075 non-null   object  \n",
      " 2   img_num   2075 non-null   int64   \n",
      " 3   p1        2075 non-null   category\n",
      " 4   p1_conf   2075 non-null   float64 \n",
      " 5   p1_dog    2075 non-null   bool    \n",
      " 6   p2        2075 non-null   category\n",
      " 7   p2_conf   2075 non-null   float64 \n",
      " 8   p2_dog    2075 non-null   bool    \n",
      " 9   p3        2075 non-null   category\n",
      " 10  p3_conf   2075 non-null   float64 \n",
      " 11  p3_dog    2075 non-null   bool    \n",
      "dtypes: bool(3), category(3), float64(3), int64(1), object(2)\n",
      "memory usage: 165.4+ KB\n"
     ]
    }
   ],
   "source": [
    "predictions.info()"
   ]
  },
  {
   "cell_type": "markdown",
   "metadata": {},
   "source": [
    "### Issue #7:The dog_stage column in archive should be category"
   ]
  },
  {
   "cell_type": "code",
   "execution_count": 298,
   "metadata": {},
   "outputs": [
    {
     "data": {
      "text/plain": [
       "dtype('O')"
      ]
     },
     "execution_count": 298,
     "metadata": {},
     "output_type": "execute_result"
    }
   ],
   "source": [
    "archive.dog_stage.dtype"
   ]
  },
  {
   "cell_type": "code",
   "execution_count": 299,
   "metadata": {},
   "outputs": [],
   "source": [
    "#change the datatype of dog_stage column to category\n",
    "archive.dog_stage=archive.dog_stage.astype(\"category\")"
   ]
  },
  {
   "cell_type": "markdown",
   "metadata": {},
   "source": [
    "#test"
   ]
  },
  {
   "cell_type": "code",
   "execution_count": 300,
   "metadata": {
    "scrolled": true
   },
   "outputs": [
    {
     "name": "stdout",
     "output_type": "stream",
     "text": [
      "<class 'pandas.core.frame.DataFrame'>\n",
      "Int64Index: 2333 entries, 0 to 2355\n",
      "Data columns (total 14 columns):\n",
      " #   Column                      Non-Null Count  Dtype              \n",
      "---  ------                      --------------  -----              \n",
      " 0   tweet_id                    2333 non-null   object             \n",
      " 1   in_reply_to_status_id       73 non-null     float64            \n",
      " 2   in_reply_to_user_id         73 non-null     float64            \n",
      " 3   timestamp                   2333 non-null   datetime64[ns, UTC]\n",
      " 4   source                      2333 non-null   object             \n",
      " 5   text                        2333 non-null   object             \n",
      " 6   retweeted_status_id         180 non-null    float64            \n",
      " 7   retweeted_status_user_id    180 non-null    float64            \n",
      " 8   retweeted_status_timestamp  180 non-null    object             \n",
      " 9   expanded_urls               2278 non-null   object             \n",
      " 10  rating_numerator            2333 non-null   int64              \n",
      " 11  rating_denominator          2333 non-null   int64              \n",
      " 12  name                        2333 non-null   object             \n",
      " 13  dog_stage                   392 non-null    category           \n",
      "dtypes: category(1), datetime64[ns, UTC](1), float64(4), int64(2), object(6)\n",
      "memory usage: 257.6+ KB\n"
     ]
    }
   ],
   "source": [
    "archive.info()"
   ]
  },
  {
   "cell_type": "markdown",
   "metadata": {},
   "source": [
    "### Issue #8: change the id column in rate table to tweet_id"
   ]
  },
  {
   "cell_type": "code",
   "execution_count": 301,
   "metadata": {},
   "outputs": [
    {
     "data": {
      "text/html": [
       "<div>\n",
       "<style scoped>\n",
       "    .dataframe tbody tr th:only-of-type {\n",
       "        vertical-align: middle;\n",
       "    }\n",
       "\n",
       "    .dataframe tbody tr th {\n",
       "        vertical-align: top;\n",
       "    }\n",
       "\n",
       "    .dataframe thead th {\n",
       "        text-align: right;\n",
       "    }\n",
       "</style>\n",
       "<table border=\"1\" class=\"dataframe\">\n",
       "  <thead>\n",
       "    <tr style=\"text-align: right;\">\n",
       "      <th></th>\n",
       "      <th>id</th>\n",
       "      <th>retweet_count</th>\n",
       "      <th>favorite_count</th>\n",
       "    </tr>\n",
       "  </thead>\n",
       "  <tbody>\n",
       "    <tr>\n",
       "      <th>0</th>\n",
       "      <td>666020888022790149</td>\n",
       "      <td>419</td>\n",
       "      <td>2281</td>\n",
       "    </tr>\n",
       "    <tr>\n",
       "      <th>1</th>\n",
       "      <td>666029285002620928</td>\n",
       "      <td>39</td>\n",
       "      <td>112</td>\n",
       "    </tr>\n",
       "    <tr>\n",
       "      <th>2</th>\n",
       "      <td>666033412701032449</td>\n",
       "      <td>36</td>\n",
       "      <td>100</td>\n",
       "    </tr>\n",
       "    <tr>\n",
       "      <th>3</th>\n",
       "      <td>666044226329800704</td>\n",
       "      <td>115</td>\n",
       "      <td>245</td>\n",
       "    </tr>\n",
       "    <tr>\n",
       "      <th>4</th>\n",
       "      <td>666049248165822465</td>\n",
       "      <td>36</td>\n",
       "      <td>88</td>\n",
       "    </tr>\n",
       "  </tbody>\n",
       "</table>\n",
       "</div>"
      ],
      "text/plain": [
       "                   id  retweet_count  favorite_count\n",
       "0  666020888022790149            419            2281\n",
       "1  666029285002620928             39             112\n",
       "2  666033412701032449             36             100\n",
       "3  666044226329800704            115             245\n",
       "4  666049248165822465             36              88"
      ]
     },
     "execution_count": 301,
     "metadata": {},
     "output_type": "execute_result"
    }
   ],
   "source": [
    "rate.head()"
   ]
  },
  {
   "cell_type": "code",
   "execution_count": 302,
   "metadata": {},
   "outputs": [],
   "source": [
    "#change the id column to tweet_id\n",
    "rate.rename(columns={'id':'tweet_id'}, inplace=True)"
   ]
  },
  {
   "cell_type": "markdown",
   "metadata": {},
   "source": [
    "#test"
   ]
  },
  {
   "cell_type": "code",
   "execution_count": 303,
   "metadata": {
    "scrolled": true
   },
   "outputs": [
    {
     "data": {
      "text/html": [
       "<div>\n",
       "<style scoped>\n",
       "    .dataframe tbody tr th:only-of-type {\n",
       "        vertical-align: middle;\n",
       "    }\n",
       "\n",
       "    .dataframe tbody tr th {\n",
       "        vertical-align: top;\n",
       "    }\n",
       "\n",
       "    .dataframe thead th {\n",
       "        text-align: right;\n",
       "    }\n",
       "</style>\n",
       "<table border=\"1\" class=\"dataframe\">\n",
       "  <thead>\n",
       "    <tr style=\"text-align: right;\">\n",
       "      <th></th>\n",
       "      <th>tweet_id</th>\n",
       "      <th>retweet_count</th>\n",
       "      <th>favorite_count</th>\n",
       "    </tr>\n",
       "  </thead>\n",
       "  <tbody>\n",
       "    <tr>\n",
       "      <th>0</th>\n",
       "      <td>666020888022790149</td>\n",
       "      <td>419</td>\n",
       "      <td>2281</td>\n",
       "    </tr>\n",
       "    <tr>\n",
       "      <th>1</th>\n",
       "      <td>666029285002620928</td>\n",
       "      <td>39</td>\n",
       "      <td>112</td>\n",
       "    </tr>\n",
       "  </tbody>\n",
       "</table>\n",
       "</div>"
      ],
      "text/plain": [
       "             tweet_id  retweet_count  favorite_count\n",
       "0  666020888022790149            419            2281\n",
       "1  666029285002620928             39             112"
      ]
     },
     "execution_count": 303,
     "metadata": {},
     "output_type": "execute_result"
    }
   ],
   "source": [
    "rate.head(2)"
   ]
  },
  {
   "cell_type": "markdown",
   "metadata": {},
   "source": [
    "### Issue #9: missing values in retweeted_status_id and retweeted_status_user_id in archive table"
   ]
  },
  {
   "cell_type": "code",
   "execution_count": 304,
   "metadata": {},
   "outputs": [
    {
     "data": {
      "text/plain": [
       "8.874740e+17    1\n",
       "6.718968e+17    1\n",
       "6.675094e+17    1\n",
       "6.671828e+17    1\n",
       "6.661041e+17    1\n",
       "               ..\n",
       "8.250266e+17    1\n",
       "7.950767e+17    1\n",
       "7.840579e+17    1\n",
       "8.222448e+17    1\n",
       "6.675484e+17    1\n",
       "Name: retweeted_status_id, Length: 180, dtype: int64"
      ]
     },
     "execution_count": 304,
     "metadata": {},
     "output_type": "execute_result"
    }
   ],
   "source": [
    "archive.retweeted_status_id.value_counts()"
   ]
  },
  {
   "cell_type": "code",
   "execution_count": 305,
   "metadata": {},
   "outputs": [],
   "source": [
    "#remove  the data with retweets \n",
    "archive=archive[archive.retweeted_status_id.isna()]"
   ]
  },
  {
   "cell_type": "markdown",
   "metadata": {},
   "source": [
    "#test"
   ]
  },
  {
   "cell_type": "code",
   "execution_count": null,
   "metadata": {},
   "outputs": [],
   "source": [
    "archive[~archive.retweeted_status_id.isna()]"
   ]
  },
  {
   "cell_type": "code",
   "execution_count": 307,
   "metadata": {},
   "outputs": [
    {
     "data": {
      "text/plain": [
       "(2153, 14)"
      ]
     },
     "execution_count": 307,
     "metadata": {},
     "output_type": "execute_result"
    }
   ],
   "source": [
    "archive.shape"
   ]
  },
  {
   "cell_type": "markdown",
   "metadata": {},
   "source": [
    "### Issue #10:Merge the dataset into one master dataset"
   ]
  },
  {
   "cell_type": "code",
   "execution_count": 308,
   "metadata": {},
   "outputs": [],
   "source": [
    "#merge the tree dataests\n",
    "master_dataset=predictions.merge(archive, on='tweet_id', how='left')\n",
    "master_dataset=master_dataset.merge(rate, on='tweet_id', how='left')"
   ]
  },
  {
   "cell_type": "markdown",
   "metadata": {},
   "source": [
    "#test"
   ]
  },
  {
   "cell_type": "code",
   "execution_count": 309,
   "metadata": {},
   "outputs": [
    {
     "data": {
      "text/plain": [
       "(2075, 27)"
      ]
     },
     "execution_count": 309,
     "metadata": {},
     "output_type": "execute_result"
    }
   ],
   "source": [
    "master_dataset.shape"
   ]
  },
  {
   "cell_type": "code",
   "execution_count": null,
   "metadata": {},
   "outputs": [],
   "source": []
  },
  {
   "cell_type": "markdown",
   "metadata": {},
   "source": [
    "## Storing Data\n",
    "Save gathered, assessed, and cleaned master dataset to a CSV file named \"twitter_archive_master.csv\"."
   ]
  },
  {
   "cell_type": "code",
   "execution_count": 310,
   "metadata": {},
   "outputs": [],
   "source": [
    "#storing the master dataset twitter_archive_master.csv\n",
    "master_dataset.to_csv(\"twitter_archive_master.csv\", index=False)"
   ]
  },
  {
   "cell_type": "markdown",
   "metadata": {},
   "source": [
    "## Analyzing and Visualizing Data\n",
    "In this section, analyze and visualize your wrangled data. You must produce at least **three (3) insights and one (1) visualization.**"
   ]
  },
  {
   "cell_type": "code",
   "execution_count": 311,
   "metadata": {},
   "outputs": [],
   "source": [
    "df=pd.read_csv(\"twitter_archive_master.csv\")"
   ]
  },
  {
   "cell_type": "code",
   "execution_count": 312,
   "metadata": {},
   "outputs": [
    {
     "data": {
      "text/html": [
       "<div>\n",
       "<style scoped>\n",
       "    .dataframe tbody tr th:only-of-type {\n",
       "        vertical-align: middle;\n",
       "    }\n",
       "\n",
       "    .dataframe tbody tr th {\n",
       "        vertical-align: top;\n",
       "    }\n",
       "\n",
       "    .dataframe thead th {\n",
       "        text-align: right;\n",
       "    }\n",
       "</style>\n",
       "<table border=\"1\" class=\"dataframe\">\n",
       "  <thead>\n",
       "    <tr style=\"text-align: right;\">\n",
       "      <th></th>\n",
       "      <th>tweet_id</th>\n",
       "      <th>jpg_url</th>\n",
       "      <th>img_num</th>\n",
       "      <th>p1</th>\n",
       "      <th>p1_conf</th>\n",
       "      <th>p1_dog</th>\n",
       "      <th>p2</th>\n",
       "      <th>p2_conf</th>\n",
       "      <th>p2_dog</th>\n",
       "      <th>p3</th>\n",
       "      <th>...</th>\n",
       "      <th>retweeted_status_id</th>\n",
       "      <th>retweeted_status_user_id</th>\n",
       "      <th>retweeted_status_timestamp</th>\n",
       "      <th>expanded_urls</th>\n",
       "      <th>rating_numerator</th>\n",
       "      <th>rating_denominator</th>\n",
       "      <th>name</th>\n",
       "      <th>dog_stage</th>\n",
       "      <th>retweet_count</th>\n",
       "      <th>favorite_count</th>\n",
       "    </tr>\n",
       "  </thead>\n",
       "  <tbody>\n",
       "    <tr>\n",
       "      <th>1450</th>\n",
       "      <td>776218204058357768</td>\n",
       "      <td>https://pbs.twimg.com/media/CsWuVEdWcAAqbe9.jpg</td>\n",
       "      <td>1</td>\n",
       "      <td>samoyed</td>\n",
       "      <td>0.940326</td>\n",
       "      <td>True</td>\n",
       "      <td>pomeranian</td>\n",
       "      <td>0.055527</td>\n",
       "      <td>True</td>\n",
       "      <td>keeshond</td>\n",
       "      <td>...</td>\n",
       "      <td>NaN</td>\n",
       "      <td>NaN</td>\n",
       "      <td>NaN</td>\n",
       "      <td>https://twitter.com/dog_rates/status/776218204...</td>\n",
       "      <td>13.0</td>\n",
       "      <td>10.0</td>\n",
       "      <td>None</td>\n",
       "      <td>floofer</td>\n",
       "      <td>14634.0</td>\n",
       "      <td>27977.0</td>\n",
       "    </tr>\n",
       "    <tr>\n",
       "      <th>1604</th>\n",
       "      <td>800388270626521089</td>\n",
       "      <td>https://pbs.twimg.com/media/CxuM3oZW8AEhO5z.jpg</td>\n",
       "      <td>2</td>\n",
       "      <td>golden_retriever</td>\n",
       "      <td>0.359860</td>\n",
       "      <td>True</td>\n",
       "      <td>pembroke</td>\n",
       "      <td>0.194207</td>\n",
       "      <td>True</td>\n",
       "      <td>collie</td>\n",
       "      <td>...</td>\n",
       "      <td>NaN</td>\n",
       "      <td>NaN</td>\n",
       "      <td>NaN</td>\n",
       "      <td>https://twitter.com/dog_rates/status/800388270...</td>\n",
       "      <td>12.0</td>\n",
       "      <td>10.0</td>\n",
       "      <td>Doc</td>\n",
       "      <td>floofer</td>\n",
       "      <td>2626.0</td>\n",
       "      <td>10571.0</td>\n",
       "    </tr>\n",
       "    <tr>\n",
       "      <th>2032</th>\n",
       "      <td>883360690899218434</td>\n",
       "      <td>https://pbs.twimg.com/media/DEJT3FeXoAAtwUy.jpg</td>\n",
       "      <td>1</td>\n",
       "      <td>chow</td>\n",
       "      <td>0.987997</td>\n",
       "      <td>True</td>\n",
       "      <td>tibetan_mastiff</td>\n",
       "      <td>0.007099</td>\n",
       "      <td>True</td>\n",
       "      <td>newfoundland</td>\n",
       "      <td>...</td>\n",
       "      <td>NaN</td>\n",
       "      <td>NaN</td>\n",
       "      <td>NaN</td>\n",
       "      <td>https://twitter.com/dog_rates/status/883360690...</td>\n",
       "      <td>13.0</td>\n",
       "      <td>10.0</td>\n",
       "      <td>Grizzwald</td>\n",
       "      <td>floofer</td>\n",
       "      <td>3061.0</td>\n",
       "      <td>19869.0</td>\n",
       "    </tr>\n",
       "  </tbody>\n",
       "</table>\n",
       "<p>3 rows × 27 columns</p>\n",
       "</div>"
      ],
      "text/plain": [
       "                tweet_id                                          jpg_url  \\\n",
       "1450  776218204058357768  https://pbs.twimg.com/media/CsWuVEdWcAAqbe9.jpg   \n",
       "1604  800388270626521089  https://pbs.twimg.com/media/CxuM3oZW8AEhO5z.jpg   \n",
       "2032  883360690899218434  https://pbs.twimg.com/media/DEJT3FeXoAAtwUy.jpg   \n",
       "\n",
       "      img_num                p1   p1_conf  p1_dog               p2   p2_conf  \\\n",
       "1450        1           samoyed  0.940326    True       pomeranian  0.055527   \n",
       "1604        2  golden_retriever  0.359860    True         pembroke  0.194207   \n",
       "2032        1              chow  0.987997    True  tibetan_mastiff  0.007099   \n",
       "\n",
       "      p2_dog            p3  ...  retweeted_status_id  \\\n",
       "1450    True      keeshond  ...                  NaN   \n",
       "1604    True        collie  ...                  NaN   \n",
       "2032    True  newfoundland  ...                  NaN   \n",
       "\n",
       "      retweeted_status_user_id  retweeted_status_timestamp  \\\n",
       "1450                       NaN                         NaN   \n",
       "1604                       NaN                         NaN   \n",
       "2032                       NaN                         NaN   \n",
       "\n",
       "                                          expanded_urls rating_numerator  \\\n",
       "1450  https://twitter.com/dog_rates/status/776218204...             13.0   \n",
       "1604  https://twitter.com/dog_rates/status/800388270...             12.0   \n",
       "2032  https://twitter.com/dog_rates/status/883360690...             13.0   \n",
       "\n",
       "     rating_denominator       name  dog_stage  retweet_count  favorite_count  \n",
       "1450               10.0       None    floofer        14634.0         27977.0  \n",
       "1604               10.0        Doc    floofer         2626.0         10571.0  \n",
       "2032               10.0  Grizzwald    floofer         3061.0         19869.0  \n",
       "\n",
       "[3 rows x 27 columns]"
      ]
     },
     "execution_count": 312,
     "metadata": {},
     "output_type": "execute_result"
    }
   ],
   "source": [
    "df.query('dog_stage==\"floofer\"')"
   ]
  },
  {
   "cell_type": "code",
   "execution_count": 313,
   "metadata": {},
   "outputs": [
    {
     "data": {
      "text/plain": [
       "dog_stage\n",
       "doggo      5007.242857\n",
       "floofer    6773.666667\n",
       "pupper     1879.576037\n",
       "puppo      5557.851852\n",
       "Name: retweet_count, dtype: float64"
      ]
     },
     "execution_count": 313,
     "metadata": {},
     "output_type": "execute_result"
    }
   ],
   "source": [
    "df.groupby('dog_stage').retweet_count.mean()"
   ]
  },
  {
   "cell_type": "code",
   "execution_count": 314,
   "metadata": {},
   "outputs": [
    {
     "data": {
      "text/plain": [
       "dog_stage\n",
       "doggo      15398.057143\n",
       "floofer    19472.333333\n",
       "pupper      6158.963134\n",
       "puppo      20315.666667\n",
       "Name: favorite_count, dtype: float64"
      ]
     },
     "execution_count": 314,
     "metadata": {},
     "output_type": "execute_result"
    }
   ],
   "source": [
    "df.groupby('dog_stage').favorite_count.mean()"
   ]
  },
  {
   "cell_type": "code",
   "execution_count": 315,
   "metadata": {},
   "outputs": [
    {
     "data": {
      "text/plain": [
       "dog_stage\n",
       "doggo      11.633803\n",
       "floofer    12.666667\n",
       "pupper     10.631336\n",
       "puppo      12.142857\n",
       "Name: rating_numerator, dtype: float64"
      ]
     },
     "execution_count": 315,
     "metadata": {},
     "output_type": "execute_result"
    }
   ],
   "source": [
    "df.groupby('dog_stage').rating_numerator.mean()"
   ]
  },
  {
   "cell_type": "markdown",
   "metadata": {},
   "source": [
    "### Insights:\n",
    "1. dog stage doggo has the highest retweet count with a mean of 10928.14 retweets\n",
    "\n",
    "2. dog_stage doggo has the highest favorite_count\n",
    "\n",
    "3. floofer has the highest numerator rating"
   ]
  },
  {
   "cell_type": "markdown",
   "metadata": {
    "collapsed": true
   },
   "source": [
    "### Visualization"
   ]
  },
  {
   "cell_type": "code",
   "execution_count": 316,
   "metadata": {},
   "outputs": [],
   "source": [
    "import matplotlib.pyplot as plt\n",
    "import numpy as np\n",
    "import seaborn as sns\n",
    "%matplotlib inline"
   ]
  },
  {
   "cell_type": "code",
   "execution_count": 317,
   "metadata": {},
   "outputs": [
    {
     "data": {
      "text/plain": [
       "Text(0, 0.5, 'mean rating_numerstor')"
      ]
     },
     "execution_count": 317,
     "metadata": {},
     "output_type": "execute_result"
    },
    {
     "data": {
      "image/png": "[encoded data removed]",
      "text/plain": [
       "<Figure size 432x288 with 1 Axes>"
      ]
     },
     "metadata": {
      "needs_background": "light"
     },
     "output_type": "display_data"
    }
   ],
   "source": [
    "df.groupby('dog_stage').rating_numerator.mean().plot(kind=\"bar\", color='purple')\n",
    "plt.title(\"dog_stage by mean rating_numerator\")\n",
    "plt.xlabel(\"dog_stage\")\n",
    "plt.ylabel(\"mean rating_numerstor\")"
   ]
  },
  {
   "cell_type": "code",
   "execution_count": 318,
   "metadata": {},
   "outputs": [
    {
     "data": {
      "text/plain": [
       "Text(0.5, 1.0, 'dog stage versus mean favorite_count')"
      ]
     },
     "execution_count": 318,
     "metadata": {},
     "output_type": "execute_result"
    },
    {
     "data": {
      "image/png": "[encoded data removed]",
      "text/plain": [
       "<Figure size 432x288 with 1 Axes>"
      ]
     },
     "metadata": {},
     "output_type": "display_data"
    }
   ],
   "source": [
    "df.groupby('dog_stage').favorite_count.mean().plot(kind='pie')\n",
    "plt.title(\"dog stage versus mean favorite_count\")"
   ]
  },
  {
   "cell_type": "code",
   "execution_count": null,
   "metadata": {},
   "outputs": [],
   "source": [
    " "
   ]
  },
  {
   "cell_type": "code",
   "execution_count": null,
   "metadata": {},
   "outputs": [],
   "source": []
  },
  {
   "cell_type": "code",
   "execution_count": null,
   "metadata": {},
   "outputs": [],
   "source": []
  }
 ],
 "metadata": {
  "extensions": {
   "jupyter_dashboards": {
    "activeView": "report_default",
    "version": 1,
    "views": {
     "grid_default": {
      "cellMargin": 10,
      "defaultCellHeight": 20,
      "maxColumns": 12,
      "name": "grid",
      "type": "grid"
     },
     "report_default": {
      "name": "report",
      "type": "report"
     }
    }
   }
  },
  "kernelspec": {
   "display_name": "Python 3 (ipykernel)",
   "language": "python",
   "name": "python3"
  },
  "language_info": {
   "codemirror_mode": {
    "name": "ipython",
    "version": 3
   },
   "file_extension": ".py",
   "mimetype": "text/x-python",
   "name": "python",
   "nbconvert_exporter": "python",
   "pygments_lexer": "ipython3",
   "version": "3.9.12"
  }
 },
 "nbformat": 4,
 "nbformat_minor": 2
}
