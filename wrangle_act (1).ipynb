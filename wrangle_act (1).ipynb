{
 "cells": [
  {
   "cell_type": "markdown",
   "metadata": {
    "extensions": {
     "jupyter_dashboards": {
      "version": 1,
      "views": {
       "grid_default": {
        "col": 0,
        "height": 4,
        "hidden": false,
        "row": 0,
        "width": 4
       },
       "report_default": {
        "hidden": false
       }
      }
     }
    }
   },
   "source": [
    "# Project: Wrangling and Analyze Data"
   ]
  },
  {
   "cell_type": "markdown",
   "metadata": {},
   "source": [
    "## Data Gathering\n",
    "In the cell below, gather **all** three pieces of data for this project and load them in the notebook. **Note:** the methods required to gather each data are different.\n",
    "1. Directly download the WeRateDogs Twitter archive data (twitter_archive_enhanced.csv)"
   ]
  },
  {
   "cell_type": "code",
   "execution_count": 1,
   "metadata": {
    "extensions": {
     "jupyter_dashboards": {
      "version": 1,
      "views": {
       "grid_default": {
        "hidden": true
       },
       "report_default": {
        "hidden": true
       }
      }
     }
    }
   },
   "outputs": [],
   "source": [
    "import pandas as pd\n",
    "import requests\n",
    "import json"
   ]
  },
  {
   "cell_type": "code",
   "execution_count": 2,
   "metadata": {},
   "outputs": [],
   "source": [
    "twitter_archive=pd.read_csv(\"twitter-archive-enhanced.csv\")"
   ]
  },
  {
   "cell_type": "code",
   "execution_count": 3,
   "metadata": {},
   "outputs": [
    {
     "data": {
      "text/html": [
       "<div>\n",
       "<style scoped>\n",
       "    .dataframe tbody tr th:only-of-type {\n",
       "        vertical-align: middle;\n",
       "    }\n",
       "\n",
       "    .dataframe tbody tr th {\n",
       "        vertical-align: top;\n",
       "    }\n",
       "\n",
       "    .dataframe thead th {\n",
       "        text-align: right;\n",
       "    }\n",
       "</style>\n",
       "<table border=\"1\" class=\"dataframe\">\n",
       "  <thead>\n",
       "    <tr style=\"text-align: right;\">\n",
       "      <th></th>\n",
       "      <th>tweet_id</th>\n",
       "      <th>in_reply_to_status_id</th>\n",
       "      <th>in_reply_to_user_id</th>\n",
       "      <th>timestamp</th>\n",
       "      <th>source</th>\n",
       "      <th>text</th>\n",
       "      <th>retweeted_status_id</th>\n",
       "      <th>retweeted_status_user_id</th>\n",
       "      <th>retweeted_status_timestamp</th>\n",
       "      <th>expanded_urls</th>\n",
       "      <th>rating_numerator</th>\n",
       "      <th>rating_denominator</th>\n",
       "      <th>name</th>\n",
       "      <th>doggo</th>\n",
       "      <th>floofer</th>\n",
       "      <th>pupper</th>\n",
       "      <th>puppo</th>\n",
       "    </tr>\n",
       "  </thead>\n",
       "  <tbody>\n",
       "    <tr>\n",
       "      <th>0</th>\n",
       "      <td>892420643555336193</td>\n",
       "      <td>NaN</td>\n",
       "      <td>NaN</td>\n",
       "      <td>2017-08-01 16:23:56 +0000</td>\n",
       "      <td>&lt;a href=\"http://twitter.com/download/iphone\" r...</td>\n",
       "      <td>This is Phineas. He's a mystical boy. Only eve...</td>\n",
       "      <td>NaN</td>\n",
       "      <td>NaN</td>\n",
       "      <td>NaN</td>\n",
       "      <td>https://twitter.com/dog_rates/status/892420643...</td>\n",
       "      <td>13</td>\n",
       "      <td>10</td>\n",
       "      <td>Phineas</td>\n",
       "      <td>None</td>\n",
       "      <td>None</td>\n",
       "      <td>None</td>\n",
       "      <td>None</td>\n",
       "    </tr>\n",
       "    <tr>\n",
       "      <th>1</th>\n",
       "      <td>892177421306343426</td>\n",
       "      <td>NaN</td>\n",
       "      <td>NaN</td>\n",
       "      <td>2017-08-01 00:17:27 +0000</td>\n",
       "      <td>&lt;a href=\"http://twitter.com/download/iphone\" r...</td>\n",
       "      <td>This is Tilly. She's just checking pup on you....</td>\n",
       "      <td>NaN</td>\n",
       "      <td>NaN</td>\n",
       "      <td>NaN</td>\n",
       "      <td>https://twitter.com/dog_rates/status/892177421...</td>\n",
       "      <td>13</td>\n",
       "      <td>10</td>\n",
       "      <td>Tilly</td>\n",
       "      <td>None</td>\n",
       "      <td>None</td>\n",
       "      <td>None</td>\n",
       "      <td>None</td>\n",
       "    </tr>\n",
       "    <tr>\n",
       "      <th>2</th>\n",
       "      <td>891815181378084864</td>\n",
       "      <td>NaN</td>\n",
       "      <td>NaN</td>\n",
       "      <td>2017-07-31 00:18:03 +0000</td>\n",
       "      <td>&lt;a href=\"http://twitter.com/download/iphone\" r...</td>\n",
       "      <td>This is Archie. He is a rare Norwegian Pouncin...</td>\n",
       "      <td>NaN</td>\n",
       "      <td>NaN</td>\n",
       "      <td>NaN</td>\n",
       "      <td>https://twitter.com/dog_rates/status/891815181...</td>\n",
       "      <td>12</td>\n",
       "      <td>10</td>\n",
       "      <td>Archie</td>\n",
       "      <td>None</td>\n",
       "      <td>None</td>\n",
       "      <td>None</td>\n",
       "      <td>None</td>\n",
       "    </tr>\n",
       "    <tr>\n",
       "      <th>3</th>\n",
       "      <td>891689557279858688</td>\n",
       "      <td>NaN</td>\n",
       "      <td>NaN</td>\n",
       "      <td>2017-07-30 15:58:51 +0000</td>\n",
       "      <td>&lt;a href=\"http://twitter.com/download/iphone\" r...</td>\n",
       "      <td>This is Darla. She commenced a snooze mid meal...</td>\n",
       "      <td>NaN</td>\n",
       "      <td>NaN</td>\n",
       "      <td>NaN</td>\n",
       "      <td>https://twitter.com/dog_rates/status/891689557...</td>\n",
       "      <td>13</td>\n",
       "      <td>10</td>\n",
       "      <td>Darla</td>\n",
       "      <td>None</td>\n",
       "      <td>None</td>\n",
       "      <td>None</td>\n",
       "      <td>None</td>\n",
       "    </tr>\n",
       "    <tr>\n",
       "      <th>4</th>\n",
       "      <td>891327558926688256</td>\n",
       "      <td>NaN</td>\n",
       "      <td>NaN</td>\n",
       "      <td>2017-07-29 16:00:24 +0000</td>\n",
       "      <td>&lt;a href=\"http://twitter.com/download/iphone\" r...</td>\n",
       "      <td>This is Franklin. He would like you to stop ca...</td>\n",
       "      <td>NaN</td>\n",
       "      <td>NaN</td>\n",
       "      <td>NaN</td>\n",
       "      <td>https://twitter.com/dog_rates/status/891327558...</td>\n",
       "      <td>12</td>\n",
       "      <td>10</td>\n",
       "      <td>Franklin</td>\n",
       "      <td>None</td>\n",
       "      <td>None</td>\n",
       "      <td>None</td>\n",
       "      <td>None</td>\n",
       "    </tr>\n",
       "  </tbody>\n",
       "</table>\n",
       "</div>"
      ],
      "text/plain": [
       "             tweet_id  in_reply_to_status_id  in_reply_to_user_id  \\\n",
       "0  892420643555336193                    NaN                  NaN   \n",
       "1  892177421306343426                    NaN                  NaN   \n",
       "2  891815181378084864                    NaN                  NaN   \n",
       "3  891689557279858688                    NaN                  NaN   \n",
       "4  891327558926688256                    NaN                  NaN   \n",
       "\n",
       "                   timestamp  \\\n",
       "0  2017-08-01 16:23:56 +0000   \n",
       "1  2017-08-01 00:17:27 +0000   \n",
       "2  2017-07-31 00:18:03 +0000   \n",
       "3  2017-07-30 15:58:51 +0000   \n",
       "4  2017-07-29 16:00:24 +0000   \n",
       "\n",
       "                                              source  \\\n",
       "0  <a href=\"http://twitter.com/download/iphone\" r...   \n",
       "1  <a href=\"http://twitter.com/download/iphone\" r...   \n",
       "2  <a href=\"http://twitter.com/download/iphone\" r...   \n",
       "3  <a href=\"http://twitter.com/download/iphone\" r...   \n",
       "4  <a href=\"http://twitter.com/download/iphone\" r...   \n",
       "\n",
       "                                                text  retweeted_status_id  \\\n",
       "0  This is Phineas. He's a mystical boy. Only eve...                  NaN   \n",
       "1  This is Tilly. She's just checking pup on you....                  NaN   \n",
       "2  This is Archie. He is a rare Norwegian Pouncin...                  NaN   \n",
       "3  This is Darla. She commenced a snooze mid meal...                  NaN   \n",
       "4  This is Franklin. He would like you to stop ca...                  NaN   \n",
       "\n",
       "   retweeted_status_user_id retweeted_status_timestamp  \\\n",
       "0                       NaN                        NaN   \n",
       "1                       NaN                        NaN   \n",
       "2                       NaN                        NaN   \n",
       "3                       NaN                        NaN   \n",
       "4                       NaN                        NaN   \n",
       "\n",
       "                                       expanded_urls  rating_numerator  \\\n",
       "0  https://twitter.com/dog_rates/status/892420643...                13   \n",
       "1  https://twitter.com/dog_rates/status/892177421...                13   \n",
       "2  https://twitter.com/dog_rates/status/891815181...                12   \n",
       "3  https://twitter.com/dog_rates/status/891689557...                13   \n",
       "4  https://twitter.com/dog_rates/status/891327558...                12   \n",
       "\n",
       "   rating_denominator      name doggo floofer pupper puppo  \n",
       "0                  10   Phineas  None    None   None  None  \n",
       "1                  10     Tilly  None    None   None  None  \n",
       "2                  10    Archie  None    None   None  None  \n",
       "3                  10     Darla  None    None   None  None  \n",
       "4                  10  Franklin  None    None   None  None  "
      ]
     },
     "execution_count": 3,
     "metadata": {},
     "output_type": "execute_result"
    }
   ],
   "source": [
    "twitter_archive.head()"
   ]
  },
  {
   "cell_type": "markdown",
   "metadata": {},
   "source": [
    "2. Use the Requests library to download the tweet image prediction (image_predictions.tsv)"
   ]
  },
  {
   "cell_type": "code",
   "execution_count": 4,
   "metadata": {},
   "outputs": [
    {
     "data": {
      "text/plain": [
       "(2356, 17)"
      ]
     },
     "execution_count": 4,
     "metadata": {},
     "output_type": "execute_result"
    }
   ],
   "source": [
    "twitter_archive.shape"
   ]
  },
  {
   "cell_type": "code",
   "execution_count": 5,
   "metadata": {},
   "outputs": [],
   "source": [
    "response=requests.get(\"https://d17h27t6h515a5.cloudfront.net/topher/2017/August/599fd2ad_image-predictions/image-predictions.tsv\")"
   ]
  },
  {
   "cell_type": "code",
   "execution_count": 6,
   "metadata": {},
   "outputs": [],
   "source": [
    "content=response.content"
   ]
  },
  {
   "cell_type": "code",
   "execution_count": 8,
   "metadata": {},
   "outputs": [],
   "source": [
    "with open(\"image-predictions-tsv\", \"wb\") as file:\n",
    "    file.write(content)\n",
    "        "
   ]
  },
  {
   "cell_type": "code",
   "execution_count": 9,
   "metadata": {},
   "outputs": [],
   "source": [
    "image_predictions=pd.read_csv(\"image-predictions-tsv\", sep=\"\\t\")"
   ]
  },
  {
   "cell_type": "code",
   "execution_count": 10,
   "metadata": {},
   "outputs": [
    {
     "data": {
      "text/html": [
       "<div>\n",
       "<style scoped>\n",
       "    .dataframe tbody tr th:only-of-type {\n",
       "        vertical-align: middle;\n",
       "    }\n",
       "\n",
       "    .dataframe tbody tr th {\n",
       "        vertical-align: top;\n",
       "    }\n",
       "\n",
       "    .dataframe thead th {\n",
       "        text-align: right;\n",
       "    }\n",
       "</style>\n",
       "<table border=\"1\" class=\"dataframe\">\n",
       "  <thead>\n",
       "    <tr style=\"text-align: right;\">\n",
       "      <th></th>\n",
       "      <th>tweet_id</th>\n",
       "      <th>jpg_url</th>\n",
       "      <th>img_num</th>\n",
       "      <th>p1</th>\n",
       "      <th>p1_conf</th>\n",
       "      <th>p1_dog</th>\n",
       "      <th>p2</th>\n",
       "      <th>p2_conf</th>\n",
       "      <th>p2_dog</th>\n",
       "      <th>p3</th>\n",
       "      <th>p3_conf</th>\n",
       "      <th>p3_dog</th>\n",
       "    </tr>\n",
       "  </thead>\n",
       "  <tbody>\n",
       "    <tr>\n",
       "      <th>0</th>\n",
       "      <td>666020888022790149</td>\n",
       "      <td>https://pbs.twimg.com/media/CT4udn0WwAA0aMy.jpg</td>\n",
       "      <td>1</td>\n",
       "      <td>Welsh_springer_spaniel</td>\n",
       "      <td>0.465074</td>\n",
       "      <td>True</td>\n",
       "      <td>collie</td>\n",
       "      <td>0.156665</td>\n",
       "      <td>True</td>\n",
       "      <td>Shetland_sheepdog</td>\n",
       "      <td>0.061428</td>\n",
       "      <td>True</td>\n",
       "    </tr>\n",
       "    <tr>\n",
       "      <th>1</th>\n",
       "      <td>666029285002620928</td>\n",
       "      <td>https://pbs.twimg.com/media/CT42GRgUYAA5iDo.jpg</td>\n",
       "      <td>1</td>\n",
       "      <td>redbone</td>\n",
       "      <td>0.506826</td>\n",
       "      <td>True</td>\n",
       "      <td>miniature_pinscher</td>\n",
       "      <td>0.074192</td>\n",
       "      <td>True</td>\n",
       "      <td>Rhodesian_ridgeback</td>\n",
       "      <td>0.072010</td>\n",
       "      <td>True</td>\n",
       "    </tr>\n",
       "    <tr>\n",
       "      <th>2</th>\n",
       "      <td>666033412701032449</td>\n",
       "      <td>https://pbs.twimg.com/media/CT4521TWwAEvMyu.jpg</td>\n",
       "      <td>1</td>\n",
       "      <td>German_shepherd</td>\n",
       "      <td>0.596461</td>\n",
       "      <td>True</td>\n",
       "      <td>malinois</td>\n",
       "      <td>0.138584</td>\n",
       "      <td>True</td>\n",
       "      <td>bloodhound</td>\n",
       "      <td>0.116197</td>\n",
       "      <td>True</td>\n",
       "    </tr>\n",
       "    <tr>\n",
       "      <th>3</th>\n",
       "      <td>666044226329800704</td>\n",
       "      <td>https://pbs.twimg.com/media/CT5Dr8HUEAA-lEu.jpg</td>\n",
       "      <td>1</td>\n",
       "      <td>Rhodesian_ridgeback</td>\n",
       "      <td>0.408143</td>\n",
       "      <td>True</td>\n",
       "      <td>redbone</td>\n",
       "      <td>0.360687</td>\n",
       "      <td>True</td>\n",
       "      <td>miniature_pinscher</td>\n",
       "      <td>0.222752</td>\n",
       "      <td>True</td>\n",
       "    </tr>\n",
       "    <tr>\n",
       "      <th>4</th>\n",
       "      <td>666049248165822465</td>\n",
       "      <td>https://pbs.twimg.com/media/CT5IQmsXIAAKY4A.jpg</td>\n",
       "      <td>1</td>\n",
       "      <td>miniature_pinscher</td>\n",
       "      <td>0.560311</td>\n",
       "      <td>True</td>\n",
       "      <td>Rottweiler</td>\n",
       "      <td>0.243682</td>\n",
       "      <td>True</td>\n",
       "      <td>Doberman</td>\n",
       "      <td>0.154629</td>\n",
       "      <td>True</td>\n",
       "    </tr>\n",
       "  </tbody>\n",
       "</table>\n",
       "</div>"
      ],
      "text/plain": [
       "             tweet_id                                          jpg_url  \\\n",
       "0  666020888022790149  https://pbs.twimg.com/media/CT4udn0WwAA0aMy.jpg   \n",
       "1  666029285002620928  https://pbs.twimg.com/media/CT42GRgUYAA5iDo.jpg   \n",
       "2  666033412701032449  https://pbs.twimg.com/media/CT4521TWwAEvMyu.jpg   \n",
       "3  666044226329800704  https://pbs.twimg.com/media/CT5Dr8HUEAA-lEu.jpg   \n",
       "4  666049248165822465  https://pbs.twimg.com/media/CT5IQmsXIAAKY4A.jpg   \n",
       "\n",
       "   img_num                      p1   p1_conf  p1_dog                  p2  \\\n",
       "0        1  Welsh_springer_spaniel  0.465074    True              collie   \n",
       "1        1                 redbone  0.506826    True  miniature_pinscher   \n",
       "2        1         German_shepherd  0.596461    True            malinois   \n",
       "3        1     Rhodesian_ridgeback  0.408143    True             redbone   \n",
       "4        1      miniature_pinscher  0.560311    True          Rottweiler   \n",
       "\n",
       "    p2_conf  p2_dog                   p3   p3_conf  p3_dog  \n",
       "0  0.156665    True    Shetland_sheepdog  0.061428    True  \n",
       "1  0.074192    True  Rhodesian_ridgeback  0.072010    True  \n",
       "2  0.138584    True           bloodhound  0.116197    True  \n",
       "3  0.360687    True   miniature_pinscher  0.222752    True  \n",
       "4  0.243682    True             Doberman  0.154629    True  "
      ]
     },
     "execution_count": 10,
     "metadata": {},
     "output_type": "execute_result"
    }
   ],
   "source": [
    "image_predictions.head()"
   ]
  },
  {
   "cell_type": "markdown",
   "metadata": {},
   "source": [
    "3. Use the Tweepy library to query additional data via the Twitter API (tweet_json.txt)"
   ]
  },
  {
   "cell_type": "code",
   "execution_count": 11,
   "metadata": {},
   "outputs": [
    {
     "data": {
      "text/plain": [
       "(2075, 12)"
      ]
     },
     "execution_count": 11,
     "metadata": {},
     "output_type": "execute_result"
    }
   ],
   "source": [
    "image_predictions.shape"
   ]
  },
  {
   "cell_type": "code",
   "execution_count": 12,
   "metadata": {},
   "outputs": [],
   "source": [
    "import tweepy\n",
    "import configparser"
   ]
  },
  {
   "cell_type": "code",
   "execution_count": 13,
   "metadata": {},
   "outputs": [],
   "source": [
    "config=configparser.ConfigParser()"
   ]
  },
  {
   "cell_type": "code",
   "execution_count": 14,
   "metadata": {
    "scrolled": false
   },
   "outputs": [
    {
     "data": {
      "text/plain": [
       "['config.ini']"
      ]
     },
     "execution_count": 14,
     "metadata": {},
     "output_type": "execute_result"
    }
   ],
   "source": [
    "config.read(\"config.ini\")"
   ]
  },
  {
   "cell_type": "code",
   "execution_count": 15,
   "metadata": {},
   "outputs": [
    {
     "data": {
      "text/plain": [
       "<configparser.ConfigParser at 0x287083725b0>"
      ]
     },
     "execution_count": 15,
     "metadata": {},
     "output_type": "execute_result"
    }
   ],
   "source": [
    "config"
   ]
  },
  {
   "cell_type": "code",
   "execution_count": 16,
   "metadata": {},
   "outputs": [],
   "source": [
    "api_key=config[\"twitter\"][\"API Key\"]\n",
    "api_key_secret=config[\"twitter\"][\"API Key Secret\"]\n",
    "access_token=config[\"twitter\"][\"Access Token\"]\n",
    "access_token_secret=config[\"twitter\"][\"Access Token Secret\"]"
   ]
  },
  {
   "cell_type": "code",
   "execution_count": 17,
   "metadata": {},
   "outputs": [],
   "source": [
    "auth=tweepy.OAuthHandler(api_key,api_key_secret)\n",
    "auth.set_access_token(access_token,access_token_secret)"
   ]
  },
  {
   "cell_type": "code",
   "execution_count": 18,
   "metadata": {},
   "outputs": [],
   "source": [
    "api=tweepy.API(auth)"
   ]
  },
  {
   "cell_type": "code",
   "execution_count": 19,
   "metadata": {},
   "outputs": [],
   "source": [
    "one=api.get_status(666020888022790149)"
   ]
  },
  {
   "cell_type": "code",
   "execution_count": 20,
   "metadata": {},
   "outputs": [
    {
     "data": {
      "text/plain": [
       "Status(_api=<tweepy.api.API object at 0x000002870837F4F0>, _json={'created_at': 'Sun Nov 15 22:32:08 +0000 2015', 'id': 666020888022790149, 'id_str': '666020888022790149', 'text': 'Here we have a Japanese Irish Setter. Lost eye in Vietnam (?). Big fan of relaxing on stair. 8/10 would pet https://t.co/BLDqew2Ijj', 'truncated': False, 'entities': {'hashtags': [], 'symbols': [], 'user_mentions': [], 'urls': [], 'media': [{'id': 666020881337073664, 'id_str': '666020881337073664', 'indices': [108, 131], 'media_url': 'http://pbs.twimg.com/media/CT4udn0WwAA0aMy.jpg', 'media_url_https': 'https://pbs.twimg.com/media/CT4udn0WwAA0aMy.jpg', 'url': 'https://t.co/BLDqew2Ijj', 'display_url': 'pic.twitter.com/BLDqew2Ijj', 'expanded_url': 'https://twitter.com/dog_rates/status/666020888022790149/photo/1', 'type': 'photo', 'sizes': {'medium': {'w': 960, 'h': 720, 'resize': 'fit'}, 'thumb': {'w': 150, 'h': 150, 'resize': 'crop'}, 'large': {'w': 960, 'h': 720, 'resize': 'fit'}, 'small': {'w': 680, 'h': 510, 'resize': 'fit'}}}]}, 'extended_entities': {'media': [{'id': 666020881337073664, 'id_str': '666020881337073664', 'indices': [108, 131], 'media_url': 'http://pbs.twimg.com/media/CT4udn0WwAA0aMy.jpg', 'media_url_https': 'https://pbs.twimg.com/media/CT4udn0WwAA0aMy.jpg', 'url': 'https://t.co/BLDqew2Ijj', 'display_url': 'pic.twitter.com/BLDqew2Ijj', 'expanded_url': 'https://twitter.com/dog_rates/status/666020888022790149/photo/1', 'type': 'photo', 'sizes': {'medium': {'w': 960, 'h': 720, 'resize': 'fit'}, 'thumb': {'w': 150, 'h': 150, 'resize': 'crop'}, 'large': {'w': 960, 'h': 720, 'resize': 'fit'}, 'small': {'w': 680, 'h': 510, 'resize': 'fit'}}}]}, 'source': '<a href=\"http://twitter.com/download/iphone\" rel=\"nofollow\">Twitter for iPhone</a>', 'in_reply_to_status_id': None, 'in_reply_to_status_id_str': None, 'in_reply_to_user_id': None, 'in_reply_to_user_id_str': None, 'in_reply_to_screen_name': None, 'user': {'id': 4196983835, 'id_str': '4196983835', 'name': 'WeRateDogs®', 'screen_name': 'dog_rates', 'location': 'all our links ➜', 'description': 'Your Only Source For Professional Dog Ratings Instagram and Facebook ➜ WeRateDogs partnerships@weratedogs.com | nonprofit: @15outof10 ⠀⠀⠀⠀⠀⠀⠀⠀⠀⠀⠀⠀', 'url': 'https://t.co/YPc2Xq4Va2', 'entities': {'url': {'urls': [{'url': 'https://t.co/YPc2Xq4Va2', 'expanded_url': 'http://links.weratedogs.com', 'display_url': 'links.weratedogs.com', 'indices': [0, 23]}]}, 'description': {'urls': []}}, 'protected': False, 'followers_count': 9363471, 'friends_count': 21, 'listed_count': 7624, 'created_at': 'Sun Nov 15 21:41:29 +0000 2015', 'favourites_count': 147604, 'utc_offset': None, 'time_zone': None, 'geo_enabled': True, 'verified': True, 'statuses_count': 16216, 'lang': None, 'contributors_enabled': False, 'is_translator': False, 'is_translation_enabled': False, 'profile_background_color': '000000', 'profile_background_image_url': 'http://abs.twimg.com/images/themes/theme1/bg.png', 'profile_background_image_url_https': 'https://abs.twimg.com/images/themes/theme1/bg.png', 'profile_background_tile': False, 'profile_image_url': 'http://pbs.twimg.com/profile_images/1552995729014247425/TaJbIdmK_normal.jpg', 'profile_image_url_https': 'https://pbs.twimg.com/profile_images/1552995729014247425/TaJbIdmK_normal.jpg', 'profile_banner_url': 'https://pbs.twimg.com/profile_banners/4196983835/1661991479', 'profile_link_color': 'F5ABB5', 'profile_sidebar_border_color': '000000', 'profile_sidebar_fill_color': '000000', 'profile_text_color': '000000', 'profile_use_background_image': False, 'has_extended_profile': False, 'default_profile': False, 'default_profile_image': False, 'following': False, 'follow_request_sent': False, 'notifications': False, 'translator_type': 'none', 'withheld_in_countries': []}, 'geo': None, 'coordinates': None, 'place': None, 'contributors': None, 'is_quote_status': False, 'retweet_count': 419, 'favorite_count': 2282, 'favorited': False, 'retweeted': False, 'possibly_sensitive': False, 'possibly_sensitive_appealable': False, 'lang': 'en'}, created_at=datetime.datetime(2015, 11, 15, 22, 32, 8, tzinfo=datetime.timezone.utc), id=666020888022790149, id_str='666020888022790149', text='Here we have a Japanese Irish Setter. Lost eye in Vietnam (?). Big fan of relaxing on stair. 8/10 would pet https://t.co/BLDqew2Ijj', truncated=False, entities={'hashtags': [], 'symbols': [], 'user_mentions': [], 'urls': [], 'media': [{'id': 666020881337073664, 'id_str': '666020881337073664', 'indices': [108, 131], 'media_url': 'http://pbs.twimg.com/media/CT4udn0WwAA0aMy.jpg', 'media_url_https': 'https://pbs.twimg.com/media/CT4udn0WwAA0aMy.jpg', 'url': 'https://t.co/BLDqew2Ijj', 'display_url': 'pic.twitter.com/BLDqew2Ijj', 'expanded_url': 'https://twitter.com/dog_rates/status/666020888022790149/photo/1', 'type': 'photo', 'sizes': {'medium': {'w': 960, 'h': 720, 'resize': 'fit'}, 'thumb': {'w': 150, 'h': 150, 'resize': 'crop'}, 'large': {'w': 960, 'h': 720, 'resize': 'fit'}, 'small': {'w': 680, 'h': 510, 'resize': 'fit'}}}]}, extended_entities={'media': [{'id': 666020881337073664, 'id_str': '666020881337073664', 'indices': [108, 131], 'media_url': 'http://pbs.twimg.com/media/CT4udn0WwAA0aMy.jpg', 'media_url_https': 'https://pbs.twimg.com/media/CT4udn0WwAA0aMy.jpg', 'url': 'https://t.co/BLDqew2Ijj', 'display_url': 'pic.twitter.com/BLDqew2Ijj', 'expanded_url': 'https://twitter.com/dog_rates/status/666020888022790149/photo/1', 'type': 'photo', 'sizes': {'medium': {'w': 960, 'h': 720, 'resize': 'fit'}, 'thumb': {'w': 150, 'h': 150, 'resize': 'crop'}, 'large': {'w': 960, 'h': 720, 'resize': 'fit'}, 'small': {'w': 680, 'h': 510, 'resize': 'fit'}}}]}, source='Twitter for iPhone', source_url='http://twitter.com/download/iphone', in_reply_to_status_id=None, in_reply_to_status_id_str=None, in_reply_to_user_id=None, in_reply_to_user_id_str=None, in_reply_to_screen_name=None, author=User(_api=<tweepy.api.API object at 0x000002870837F4F0>, _json={'id': 4196983835, 'id_str': '4196983835', 'name': 'WeRateDogs®', 'screen_name': 'dog_rates', 'location': 'all our links ➜', 'description': 'Your Only Source For Professional Dog Ratings Instagram and Facebook ➜ WeRateDogs partnerships@weratedogs.com | nonprofit: @15outof10 ⠀⠀⠀⠀⠀⠀⠀⠀⠀⠀⠀⠀', 'url': 'https://t.co/YPc2Xq4Va2', 'entities': {'url': {'urls': [{'url': 'https://t.co/YPc2Xq4Va2', 'expanded_url': 'http://links.weratedogs.com', 'display_url': 'links.weratedogs.com', 'indices': [0, 23]}]}, 'description': {'urls': []}}, 'protected': False, 'followers_count': 9363471, 'friends_count': 21, 'listed_count': 7624, 'created_at': 'Sun Nov 15 21:41:29 +0000 2015', 'favourites_count': 147604, 'utc_offset': None, 'time_zone': None, 'geo_enabled': True, 'verified': True, 'statuses_count': 16216, 'lang': None, 'contributors_enabled': False, 'is_translator': False, 'is_translation_enabled': False, 'profile_background_color': '000000', 'profile_background_image_url': 'http://abs.twimg.com/images/themes/theme1/bg.png', 'profile_background_image_url_https': 'https://abs.twimg.com/images/themes/theme1/bg.png', 'profile_background_tile': False, 'profile_image_url': 'http://pbs.twimg.com/profile_images/1552995729014247425/TaJbIdmK_normal.jpg', 'profile_image_url_https': 'https://pbs.twimg.com/profile_images/1552995729014247425/TaJbIdmK_normal.jpg', 'profile_banner_url': 'https://pbs.twimg.com/profile_banners/4196983835/1661991479', 'profile_link_color': 'F5ABB5', 'profile_sidebar_border_color': '000000', 'profile_sidebar_fill_color': '000000', 'profile_text_color': '000000', 'profile_use_background_image': False, 'has_extended_profile': False, 'default_profile': False, 'default_profile_image': False, 'following': False, 'follow_request_sent': False, 'notifications': False, 'translator_type': 'none', 'withheld_in_countries': []}, id=4196983835, id_str='4196983835', name='WeRateDogs®', screen_name='dog_rates', location='all our links ➜', description='Your Only Source For Professional Dog Ratings Instagram and Facebook ➜ WeRateDogs partnerships@weratedogs.com | nonprofit: @15outof10 ⠀⠀⠀⠀⠀⠀⠀⠀⠀⠀⠀⠀', url='https://t.co/YPc2Xq4Va2', entities={'url': {'urls': [{'url': 'https://t.co/YPc2Xq4Va2', 'expanded_url': 'http://links.weratedogs.com', 'display_url': 'links.weratedogs.com', 'indices': [0, 23]}]}, 'description': {'urls': []}}, protected=False, followers_count=9363471, friends_count=21, listed_count=7624, created_at=datetime.datetime(2015, 11, 15, 21, 41, 29, tzinfo=datetime.timezone.utc), favourites_count=147604, utc_offset=None, time_zone=None, geo_enabled=True, verified=True, statuses_count=16216, lang=None, contributors_enabled=False, is_translator=False, is_translation_enabled=False, profile_background_color='000000', profile_background_image_url='http://abs.twimg.com/images/themes/theme1/bg.png', profile_background_image_url_https='https://abs.twimg.com/images/themes/theme1/bg.png', profile_background_tile=False, profile_image_url='http://pbs.twimg.com/profile_images/1552995729014247425/TaJbIdmK_normal.jpg', profile_image_url_https='https://pbs.twimg.com/profile_images/1552995729014247425/TaJbIdmK_normal.jpg', profile_banner_url='https://pbs.twimg.com/profile_banners/4196983835/1661991479', profile_link_color='F5ABB5', profile_sidebar_border_color='000000', profile_sidebar_fill_color='000000', profile_text_color='000000', profile_use_background_image=False, has_extended_profile=False, default_profile=False, default_profile_image=False, following=False, follow_request_sent=False, notifications=False, translator_type='none', withheld_in_countries=[]), user=User(_api=<tweepy.api.API object at 0x000002870837F4F0>, _json={'id': 4196983835, 'id_str': '4196983835', 'name': 'WeRateDogs®', 'screen_name': 'dog_rates', 'location': 'all our links ➜', 'description': 'Your Only Source For Professional Dog Ratings Instagram and Facebook ➜ WeRateDogs partnerships@weratedogs.com | nonprofit: @15outof10 ⠀⠀⠀⠀⠀⠀⠀⠀⠀⠀⠀⠀', 'url': 'https://t.co/YPc2Xq4Va2', 'entities': {'url': {'urls': [{'url': 'https://t.co/YPc2Xq4Va2', 'expanded_url': 'http://links.weratedogs.com', 'display_url': 'links.weratedogs.com', 'indices': [0, 23]}]}, 'description': {'urls': []}}, 'protected': False, 'followers_count': 9363471, 'friends_count': 21, 'listed_count': 7624, 'created_at': 'Sun Nov 15 21:41:29 +0000 2015', 'favourites_count': 147604, 'utc_offset': None, 'time_zone': None, 'geo_enabled': True, 'verified': True, 'statuses_count': 16216, 'lang': None, 'contributors_enabled': False, 'is_translator': False, 'is_translation_enabled': False, 'profile_background_color': '000000', 'profile_background_image_url': 'http://abs.twimg.com/images/themes/theme1/bg.png', 'profile_background_image_url_https': 'https://abs.twimg.com/images/themes/theme1/bg.png', 'profile_background_tile': False, 'profile_image_url': 'http://pbs.twimg.com/profile_images/1552995729014247425/TaJbIdmK_normal.jpg', 'profile_image_url_https': 'https://pbs.twimg.com/profile_images/1552995729014247425/TaJbIdmK_normal.jpg', 'profile_banner_url': 'https://pbs.twimg.com/profile_banners/4196983835/1661991479', 'profile_link_color': 'F5ABB5', 'profile_sidebar_border_color': '000000', 'profile_sidebar_fill_color': '000000', 'profile_text_color': '000000', 'profile_use_background_image': False, 'has_extended_profile': False, 'default_profile': False, 'default_profile_image': False, 'following': False, 'follow_request_sent': False, 'notifications': False, 'translator_type': 'none', 'withheld_in_countries': []}, id=4196983835, id_str='4196983835', name='WeRateDogs®', screen_name='dog_rates', location='all our links ➜', description='Your Only Source For Professional Dog Ratings Instagram and Facebook ➜ WeRateDogs partnerships@weratedogs.com | nonprofit: @15outof10 ⠀⠀⠀⠀⠀⠀⠀⠀⠀⠀⠀⠀', url='https://t.co/YPc2Xq4Va2', entities={'url': {'urls': [{'url': 'https://t.co/YPc2Xq4Va2', 'expanded_url': 'http://links.weratedogs.com', 'display_url': 'links.weratedogs.com', 'indices': [0, 23]}]}, 'description': {'urls': []}}, protected=False, followers_count=9363471, friends_count=21, listed_count=7624, created_at=datetime.datetime(2015, 11, 15, 21, 41, 29, tzinfo=datetime.timezone.utc), favourites_count=147604, utc_offset=None, time_zone=None, geo_enabled=True, verified=True, statuses_count=16216, lang=None, contributors_enabled=False, is_translator=False, is_translation_enabled=False, profile_background_color='000000', profile_background_image_url='http://abs.twimg.com/images/themes/theme1/bg.png', profile_background_image_url_https='https://abs.twimg.com/images/themes/theme1/bg.png', profile_background_tile=False, profile_image_url='http://pbs.twimg.com/profile_images/1552995729014247425/TaJbIdmK_normal.jpg', profile_image_url_https='https://pbs.twimg.com/profile_images/1552995729014247425/TaJbIdmK_normal.jpg', profile_banner_url='https://pbs.twimg.com/profile_banners/4196983835/1661991479', profile_link_color='F5ABB5', profile_sidebar_border_color='000000', profile_sidebar_fill_color='000000', profile_text_color='000000', profile_use_background_image=False, has_extended_profile=False, default_profile=False, default_profile_image=False, following=False, follow_request_sent=False, notifications=False, translator_type='none', withheld_in_countries=[]), geo=None, coordinates=None, place=None, contributors=None, is_quote_status=False, retweet_count=419, favorite_count=2282, favorited=False, retweeted=False, possibly_sensitive=False, possibly_sensitive_appealable=False, lang='en')"
      ]
     },
     "execution_count": 20,
     "metadata": {},
     "output_type": "execute_result"
    }
   ],
   "source": [
    "one"
   ]
  },
  {
   "cell_type": "code",
   "execution_count": 21,
   "metadata": {},
   "outputs": [],
   "source": [
    "id_list=image_predictions.tweet_id.values"
   ]
  },
  {
   "cell_type": "code",
   "execution_count": 22,
   "metadata": {},
   "outputs": [
    {
     "data": {
      "text/plain": [
       "array([666020888022790149, 666029285002620928, 666033412701032449, ...,\n",
       "       891815181378084864, 892177421306343426, 892420643555336193],\n",
       "      dtype=int64)"
      ]
     },
     "execution_count": 22,
     "metadata": {},
     "output_type": "execute_result"
    }
   ],
   "source": [
    "id_list"
   ]
  },
  {
   "cell_type": "code",
   "execution_count": 23,
   "metadata": {},
   "outputs": [],
   "source": [
    "#writing json data to tweet_json.txt file with each tweet json data on its line\n",
    "with open(\"tweet_json.txt\", \"w\") as file:\n",
    "    for twitter in id_list:\n",
    "        try:\n",
    "            tweet=api.get_status(twitter)\n",
    "            json.dump(tweet._json, file)\n",
    "            file.write(\"\\n\")\n",
    "        except Exception as e:\n",
    "            pass"
   ]
  },
  {
   "cell_type": "code",
   "execution_count": 24,
   "metadata": {},
   "outputs": [],
   "source": [
    "#read the file line by line and append to a list\n",
    "we_rate=[]\n",
    "with open(\"tweet_json.txt\", 'r') as file:\n",
    "    for line in file:\n",
    "        tweet=json.loads(line)\n",
    "        we_rate.append({\"id\":tweet[\"id\"],\n",
    "                        \"retweet_count\":tweet[\"retweet_count\"],\n",
    "                        \"favorite_count\":tweet[\"favorite_count\"]})\n",
    "        \n",
    "        "
   ]
  },
  {
   "cell_type": "code",
   "execution_count": 25,
   "metadata": {},
   "outputs": [
    {
     "data": {
      "text/plain": [
       "[{'id': 666020888022790149, 'retweet_count': 419, 'favorite_count': 2281},\n",
       " {'id': 666029285002620928, 'retweet_count': 39, 'favorite_count': 112},\n",
       " {'id': 666033412701032449, 'retweet_count': 36, 'favorite_count': 100},\n",
       " {'id': 666044226329800704, 'retweet_count': 115, 'favorite_count': 245},\n",
       " {'id': 666049248165822465, 'retweet_count': 36, 'favorite_count': 88},\n",
       " {'id': 666050758794694657, 'retweet_count': 50, 'favorite_count': 115},\n",
       " {'id': 666051853826850816, 'retweet_count': 698, 'favorite_count': 1023},\n",
       " {'id': 666055525042405380, 'retweet_count': 196, 'favorite_count': 367},\n",
       " {'id': 666057090499244032, 'retweet_count': 111, 'favorite_count': 247},\n",
       " {'id': 666058600524156928, 'retweet_count': 47, 'favorite_count': 99},\n",
       " {'id': 666063827256086533, 'retweet_count': 180, 'favorite_count': 394},\n",
       " {'id': 666071193221509120, 'retweet_count': 50, 'favorite_count': 127},\n",
       " {'id': 666073100786774016, 'retweet_count': 129, 'favorite_count': 273},\n",
       " {'id': 666082916733198337, 'retweet_count': 37, 'favorite_count': 92},\n",
       " {'id': 666094000022159362, 'retweet_count': 63, 'favorite_count': 141},\n",
       " {'id': 666099513787052032, 'retweet_count': 53, 'favorite_count': 134},\n",
       " {'id': 666102155909144576, 'retweet_count': 11, 'favorite_count': 66},\n",
       " {'id': 666104133288665088, 'retweet_count': 5454, 'favorite_count': 12845},\n",
       " {'id': 666268910803644416, 'retweet_count': 38, 'favorite_count': 99},\n",
       " {'id': 666273097616637952, 'retweet_count': 66, 'favorite_count': 151},\n",
       " {'id': 666287406224695296, 'retweet_count': 55, 'favorite_count': 123},\n",
       " {'id': 666293911632134144, 'retweet_count': 288, 'favorite_count': 424},\n",
       " {'id': 666337882303524864, 'retweet_count': 79, 'favorite_count': 168},\n",
       " {'id': 666345417576210432, 'retweet_count': 121, 'favorite_count': 242},\n",
       " {'id': 666353288456101888, 'retweet_count': 56, 'favorite_count': 178},\n",
       " {'id': 666362758909284353, 'retweet_count': 467, 'favorite_count': 649},\n",
       " {'id': 666373753744588802, 'retweet_count': 73, 'favorite_count': 162},\n",
       " {'id': 666396247373291520, 'retweet_count': 68, 'favorite_count': 147},\n",
       " {'id': 666407126856765440, 'retweet_count': 30, 'favorite_count': 93},\n",
       " {'id': 666411507551481857, 'retweet_count': 261, 'favorite_count': 371},\n",
       " {'id': 666418789513326592, 'retweet_count': 39, 'favorite_count': 107},\n",
       " {'id': 666421158376562688, 'retweet_count': 90, 'favorite_count': 272},\n",
       " {'id': 666428276349472768, 'retweet_count': 67, 'favorite_count': 139},\n",
       " {'id': 666430724426358785, 'retweet_count': 159, 'favorite_count': 276},\n",
       " {'id': 666435652385423360, 'retweet_count': 41, 'favorite_count': 136},\n",
       " {'id': 666437273139982337, 'retweet_count': 40, 'favorite_count': 106},\n",
       " {'id': 666447344410484738, 'retweet_count': 19, 'favorite_count': 90},\n",
       " {'id': 666454714377183233, 'retweet_count': 179, 'favorite_count': 446},\n",
       " {'id': 666644823164719104, 'retweet_count': 68, 'favorite_count': 207},\n",
       " {'id': 666649482315059201, 'retweet_count': 523, 'favorite_count': 990},\n",
       " {'id': 666691418707132416, 'retweet_count': 41, 'favorite_count': 159},\n",
       " {'id': 666701168228331520, 'retweet_count': 181, 'favorite_count': 371},\n",
       " {'id': 666739327293083650, 'retweet_count': 59, 'favorite_count': 207},\n",
       " {'id': 666776908487630848, 'retweet_count': 148, 'favorite_count': 303},\n",
       " {'id': 666781792255496192, 'retweet_count': 168, 'favorite_count': 324},\n",
       " {'id': 666786068205871104, 'retweet_count': 408, 'favorite_count': 654},\n",
       " {'id': 666804364988780544, 'retweet_count': 78, 'favorite_count': 206},\n",
       " {'id': 666817836334096384, 'retweet_count': 209, 'favorite_count': 442},\n",
       " {'id': 666826780179869698, 'retweet_count': 78, 'favorite_count': 218},\n",
       " {'id': 666835007768551424, 'retweet_count': 65, 'favorite_count': 183},\n",
       " {'id': 666837028449972224, 'retweet_count': 467, 'favorite_count': 700},\n",
       " {'id': 666983947667116034, 'retweet_count': 841, 'favorite_count': 2238},\n",
       " {'id': 666996132027977728, 'retweet_count': 78, 'favorite_count': 212},\n",
       " {'id': 667012601033924608, 'retweet_count': 185, 'favorite_count': 393},\n",
       " {'id': 667044094246576128, 'retweet_count': 43, 'favorite_count': 162},\n",
       " {'id': 667062181243039745, 'retweet_count': 45, 'favorite_count': 192},\n",
       " {'id': 667065535570550784, 'retweet_count': 40, 'favorite_count': 143},\n",
       " {'id': 667073648344346624, 'retweet_count': 103, 'favorite_count': 351},\n",
       " {'id': 667090893657276420, 'retweet_count': 105, 'favorite_count': 286},\n",
       " {'id': 667119796878725120, 'retweet_count': 105, 'favorite_count': 284},\n",
       " {'id': 667138269671505920, 'retweet_count': 1861, 'favorite_count': 3996},\n",
       " {'id': 667152164079423490, 'retweet_count': 14562, 'favorite_count': 42094},\n",
       " {'id': 667160273090932737, 'retweet_count': 50, 'favorite_count': 218},\n",
       " {'id': 667165590075940865, 'retweet_count': 964, 'favorite_count': 2373},\n",
       " {'id': 667171260800061440, 'retweet_count': 71, 'favorite_count': 186},\n",
       " {'id': 667174963120574464, 'retweet_count': 69, 'favorite_count': 218},\n",
       " {'id': 667176164155375616, 'retweet_count': 385, 'favorite_count': 524},\n",
       " {'id': 667177989038297088, 'retweet_count': 48, 'favorite_count': 164},\n",
       " {'id': 667182792070062081, 'retweet_count': 5250, 'favorite_count': 12485},\n",
       " {'id': 667188689915760640, 'retweet_count': 328, 'favorite_count': 643},\n",
       " {'id': 667192066997374976, 'retweet_count': 86, 'favorite_count': 331},\n",
       " {'id': 667200525029539841, 'retweet_count': 227, 'favorite_count': 542},\n",
       " {'id': 667211855547486208, 'retweet_count': 209, 'favorite_count': 426},\n",
       " {'id': 667369227918143488, 'retweet_count': 143, 'favorite_count': 328},\n",
       " {'id': 667393430834667520, 'retweet_count': 50, 'favorite_count': 168},\n",
       " {'id': 667405339315146752, 'retweet_count': 194, 'favorite_count': 409},\n",
       " {'id': 667435689202614272, 'retweet_count': 76, 'favorite_count': 266},\n",
       " {'id': 667437278097252352, 'retweet_count': 197, 'favorite_count': 396},\n",
       " {'id': 667443425659232256, 'retweet_count': 486, 'favorite_count': 681},\n",
       " {'id': 667453023279554560, 'retweet_count': 73, 'favorite_count': 279},\n",
       " {'id': 667455448082227200, 'retweet_count': 53, 'favorite_count': 171},\n",
       " {'id': 667470559035432960, 'retweet_count': 85, 'favorite_count': 225},\n",
       " {'id': 667491009379606528, 'retweet_count': 189, 'favorite_count': 456},\n",
       " {'id': 667495797102141441, 'retweet_count': 231, 'favorite_count': 457},\n",
       " {'id': 667502640335572993, 'retweet_count': 193, 'favorite_count': 485},\n",
       " {'id': 667509364010450944, 'retweet_count': 1856, 'favorite_count': 6039},\n",
       " {'id': 667517642048163840, 'retweet_count': 165, 'favorite_count': 331},\n",
       " {'id': 667524857454854144, 'retweet_count': 963, 'favorite_count': 1495},\n",
       " {'id': 667530908589760512, 'retweet_count': 206, 'favorite_count': 410},\n",
       " {'id': 667534815156183040, 'retweet_count': 443, 'favorite_count': 715},\n",
       " {'id': 667538891197542400, 'retweet_count': 58, 'favorite_count': 174},\n",
       " {'id': 667544320556335104, 'retweet_count': 456, 'favorite_count': 760},\n",
       " {'id': 667546741521195010, 'retweet_count': 106, 'favorite_count': 303},\n",
       " {'id': 667549055577362432, 'retweet_count': 1942, 'favorite_count': 5085},\n",
       " {'id': 667550882905632768, 'retweet_count': 25, 'favorite_count': 0},\n",
       " {'id': 667550904950915073, 'retweet_count': 28, 'favorite_count': 0},\n",
       " {'id': 667724302356258817, 'retweet_count': 267, 'favorite_count': 422},\n",
       " {'id': 667728196545200128, 'retweet_count': 126, 'favorite_count': 323},\n",
       " {'id': 667766675769573376, 'retweet_count': 185, 'favorite_count': 371},\n",
       " {'id': 667773195014021121, 'retweet_count': 44, 'favorite_count': 203},\n",
       " {'id': 667782464991965184, 'retweet_count': 210, 'favorite_count': 362},\n",
       " {'id': 667793409583771648, 'retweet_count': 286, 'favorite_count': 605},\n",
       " {'id': 667801013445750784, 'retweet_count': 81, 'favorite_count': 282},\n",
       " {'id': 667806454573760512, 'retweet_count': 416, 'favorite_count': 925},\n",
       " {'id': 667832474953625600, 'retweet_count': 54, 'favorite_count': 255},\n",
       " {'id': 667861340749471744, 'retweet_count': 69, 'favorite_count': 222},\n",
       " {'id': 667866724293877760, 'retweet_count': 898, 'favorite_count': 2706},\n",
       " {'id': 667873844930215936, 'retweet_count': 338, 'favorite_count': 550},\n",
       " {'id': 667878741721415682, 'retweet_count': 101, 'favorite_count': 347},\n",
       " {'id': 667885044254572545, 'retweet_count': 398, 'favorite_count': 729},\n",
       " {'id': 667886921285246976, 'retweet_count': 906, 'favorite_count': 1645},\n",
       " {'id': 667902449697558528, 'retweet_count': 333, 'favorite_count': 754},\n",
       " {'id': 667911425562669056, 'retweet_count': 245, 'favorite_count': 430},\n",
       " {'id': 667915453470232577, 'retweet_count': 46, 'favorite_count': 184},\n",
       " {'id': 667924896115245057, 'retweet_count': 95, 'favorite_count': 263},\n",
       " {'id': 667937095915278337, 'retweet_count': 687, 'favorite_count': 1112},\n",
       " {'id': 668113020489474048, 'retweet_count': 207, 'favorite_count': 580},\n",
       " {'id': 668142349051129856, 'retweet_count': 239, 'favorite_count': 508},\n",
       " {'id': 668154635664932864, 'retweet_count': 272, 'favorite_count': 438},\n",
       " {'id': 668171859951755264, 'retweet_count': 161, 'favorite_count': 424},\n",
       " {'id': 668190681446379520, 'retweet_count': 171, 'favorite_count': 574},\n",
       " {'id': 668204964695683073, 'retweet_count': 171, 'favorite_count': 486},\n",
       " {'id': 668221241640230912, 'retweet_count': 168, 'favorite_count': 450},\n",
       " {'id': 668226093875376128, 'retweet_count': 85, 'favorite_count': 246},\n",
       " {'id': 668237644992782336, 'retweet_count': 2411, 'favorite_count': 5419},\n",
       " {'id': 668248472370458624, 'retweet_count': 406, 'favorite_count': 839},\n",
       " {'id': 668256321989451776, 'retweet_count': 516, 'favorite_count': 1146},\n",
       " {'id': 668268907921326080, 'retweet_count': 205, 'favorite_count': 482},\n",
       " {'id': 668274247790391296, 'retweet_count': 196, 'favorite_count': 716},\n",
       " {'id': 668286279830867968, 'retweet_count': 116, 'favorite_count': 434},\n",
       " {'id': 668291999406125056, 'retweet_count': 28, 'favorite_count': 213},\n",
       " {'id': 668297328638447616, 'retweet_count': 255, 'favorite_count': 554},\n",
       " {'id': 668466899341221888, 'retweet_count': 439, 'favorite_count': 766},\n",
       " {'id': 668480044826800133, 'retweet_count': 127, 'favorite_count': 394},\n",
       " {'id': 668484198282485761, 'retweet_count': 207, 'favorite_count': 371},\n",
       " {'id': 668496999348633600, 'retweet_count': 114, 'favorite_count': 358},\n",
       " {'id': 668507509523615744, 'retweet_count': 87, 'favorite_count': 275},\n",
       " {'id': 668528771708952576, 'retweet_count': 188, 'favorite_count': 401},\n",
       " {'id': 668537837512433665, 'retweet_count': 61, 'favorite_count': 226},\n",
       " {'id': 668542336805281792, 'retweet_count': 181, 'favorite_count': 403},\n",
       " {'id': 668544745690562560, 'retweet_count': 197, 'favorite_count': 452},\n",
       " {'id': 668567822092664832, 'retweet_count': 46, 'favorite_count': 206},\n",
       " {'id': 668614819948453888, 'retweet_count': 271, 'favorite_count': 542},\n",
       " {'id': 668620235289837568, 'retweet_count': 35, 'favorite_count': 180},\n",
       " {'id': 668623201287675904, 'retweet_count': 651, 'favorite_count': 1242},\n",
       " {'id': 668625577880875008, 'retweet_count': 112, 'favorite_count': 326},\n",
       " {'id': 668627278264475648, 'retweet_count': 96, 'favorite_count': 281},\n",
       " {'id': 668631377374486528, 'retweet_count': 280, 'favorite_count': 616},\n",
       " {'id': 668633411083464705, 'retweet_count': 1375, 'favorite_count': 2453},\n",
       " {'id': 668636665813057536, 'retweet_count': 434, 'favorite_count': 914},\n",
       " {'id': 668641109086707712, 'retweet_count': 465, 'favorite_count': 943},\n",
       " {'id': 668643542311546881, 'retweet_count': 445, 'favorite_count': 780},\n",
       " {'id': 668645506898350081, 'retweet_count': 457, 'favorite_count': 770},\n",
       " {'id': 668655139528511488, 'retweet_count': 187, 'favorite_count': 470},\n",
       " {'id': 668779399630725120, 'retweet_count': 324, 'favorite_count': 627},\n",
       " {'id': 668815180734689280, 'retweet_count': 225, 'favorite_count': 491},\n",
       " {'id': 668826086256599040, 'retweet_count': 112, 'favorite_count': 382},\n",
       " {'id': 668852170888998912, 'retweet_count': 139, 'favorite_count': 408},\n",
       " {'id': 668872652652679168, 'retweet_count': 267, 'favorite_count': 474},\n",
       " {'id': 668892474547511297, 'retweet_count': 126, 'favorite_count': 354},\n",
       " {'id': 668902994700836864, 'retweet_count': 87, 'favorite_count': 275},\n",
       " {'id': 668932921458302977, 'retweet_count': 50, 'favorite_count': 227},\n",
       " {'id': 668955713004314625, 'retweet_count': 63, 'favorite_count': 240},\n",
       " {'id': 668960084974809088, 'retweet_count': 209, 'favorite_count': 616},\n",
       " {'id': 668975677807423489, 'retweet_count': 495, 'favorite_count': 1150},\n",
       " {'id': 668979806671884288, 'retweet_count': 291, 'favorite_count': 698},\n",
       " {'id': 668981893510119424, 'retweet_count': 258, 'favorite_count': 476},\n",
       " {'id': 668986018524233728, 'retweet_count': 139, 'favorite_count': 476},\n",
       " {'id': 668988183816871936, 'retweet_count': 389, 'favorite_count': 795},\n",
       " {'id': 668989615043424256, 'retweet_count': 288, 'favorite_count': 592},\n",
       " {'id': 668992363537309700, 'retweet_count': 292, 'favorite_count': 655},\n",
       " {'id': 668994913074286592, 'retweet_count': 187, 'favorite_count': 389},\n",
       " {'id': 669000397445533696, 'retweet_count': 5501, 'favorite_count': 18630},\n",
       " {'id': 669006782128353280, 'retweet_count': 209, 'favorite_count': 510},\n",
       " {'id': 669015743032369152, 'retweet_count': 322, 'favorite_count': 646},\n",
       " {'id': 669037058363662336, 'retweet_count': 264, 'favorite_count': 571},\n",
       " {'id': 669203728096960512, 'retweet_count': 405, 'favorite_count': 883},\n",
       " {'id': 669214165781868544, 'retweet_count': 135, 'favorite_count': 382},\n",
       " {'id': 669216679721873412, 'retweet_count': 346, 'favorite_count': 1051},\n",
       " {'id': 669324657376567296, 'retweet_count': 182, 'favorite_count': 437},\n",
       " {'id': 669327207240699904, 'retweet_count': 101, 'favorite_count': 495},\n",
       " {'id': 669328503091937280, 'retweet_count': 363, 'favorite_count': 904},\n",
       " {'id': 669351434509529089, 'retweet_count': 153, 'favorite_count': 377},\n",
       " {'id': 669353438988365824, 'retweet_count': 225, 'favorite_count': 563},\n",
       " {'id': 669354382627049472, 'retweet_count': 1089, 'favorite_count': 2375},\n",
       " {'id': 669359674819481600, 'retweet_count': 103, 'favorite_count': 330},\n",
       " {'id': 669363888236994561, 'retweet_count': 199, 'favorite_count': 555},\n",
       " {'id': 669367896104181761, 'retweet_count': 129, 'favorite_count': 405},\n",
       " {'id': 669371483794317312, 'retweet_count': 148, 'favorite_count': 434},\n",
       " {'id': 669375718304980992, 'retweet_count': 626, 'favorite_count': 1167},\n",
       " {'id': 669393256313184256, 'retweet_count': 62, 'favorite_count': 313},\n",
       " {'id': 669564461267722241, 'retweet_count': 104, 'favorite_count': 334},\n",
       " {'id': 669567591774625800, 'retweet_count': 45, 'favorite_count': 202},\n",
       " {'id': 669571471778410496, 'retweet_count': 877, 'favorite_count': 1402},\n",
       " {'id': 669573570759163904, 'retweet_count': 120, 'favorite_count': 388},\n",
       " {'id': 669583744538451968, 'retweet_count': 798, 'favorite_count': 1314},\n",
       " {'id': 669597912108789760, 'retweet_count': 131, 'favorite_count': 447},\n",
       " {'id': 669603084620980224, 'retweet_count': 316, 'favorite_count': 839},\n",
       " {'id': 669625907762618368, 'retweet_count': 1560, 'favorite_count': 3107},\n",
       " {'id': 669661792646373376, 'retweet_count': 365, 'favorite_count': 713},\n",
       " {'id': 669680153564442624, 'retweet_count': 240, 'favorite_count': 581},\n",
       " {'id': 669682095984410625, 'retweet_count': 115, 'favorite_count': 311},\n",
       " {'id': 669683899023405056, 'retweet_count': 93, 'favorite_count': 338},\n",
       " {'id': 669749430875258880, 'retweet_count': 55, 'favorite_count': 227},\n",
       " {'id': 669753178989142016, 'retweet_count': 340, 'favorite_count': 704},\n",
       " {'id': 669923323644657664, 'retweet_count': 50, 'favorite_count': 202},\n",
       " {'id': 669926384437997569, 'retweet_count': 81, 'favorite_count': 338},\n",
       " {'id': 669942763794931712, 'retweet_count': 131, 'favorite_count': 443},\n",
       " {'id': 669970042633789440, 'retweet_count': 43, 'favorite_count': 271},\n",
       " {'id': 669972011175813120, 'retweet_count': 132, 'favorite_count': 393},\n",
       " {'id': 669993076832759809, 'retweet_count': 70, 'favorite_count': 283},\n",
       " {'id': 670003130994700288, 'retweet_count': 77, 'favorite_count': 295},\n",
       " {'id': 670037189829525505, 'retweet_count': 240, 'favorite_count': 526},\n",
       " {'id': 670040295598354432, 'retweet_count': 96, 'favorite_count': 654},\n",
       " {'id': 670046952931721218, 'retweet_count': 151, 'favorite_count': 573},\n",
       " {'id': 670055038660800512, 'retweet_count': 279, 'favorite_count': 591},\n",
       " {'id': 670061506722140161, 'retweet_count': 288, 'favorite_count': 661},\n",
       " {'id': 670069087419133954, 'retweet_count': 205, 'favorite_count': 548},\n",
       " {'id': 670073503555706880, 'retweet_count': 677, 'favorite_count': 1380},\n",
       " {'id': 670079681849372674, 'retweet_count': 1055, 'favorite_count': 1951},\n",
       " {'id': 670086499208155136, 'retweet_count': 217, 'favorite_count': 618},\n",
       " {'id': 670093938074779648, 'retweet_count': 274, 'favorite_count': 905},\n",
       " {'id': 670290420111441920, 'retweet_count': 249, 'favorite_count': 622},\n",
       " {'id': 670303360680108032, 'retweet_count': 107, 'favorite_count': 381},\n",
       " {'id': 670319130621435904, 'retweet_count': 1065, 'favorite_count': 3460},\n",
       " {'id': 670338931251150849, 'retweet_count': 96, 'favorite_count': 372},\n",
       " {'id': 670361874861563904, 'retweet_count': 55, 'favorite_count': 288},\n",
       " {'id': 670374371102445568, 'retweet_count': 236, 'favorite_count': 669},\n",
       " {'id': 670385711116361728, 'retweet_count': 173, 'favorite_count': 487},\n",
       " {'id': 670403879788544000, 'retweet_count': 128, 'favorite_count': 374},\n",
       " {'id': 670408998013820928, 'retweet_count': 187, 'favorite_count': 485},\n",
       " {'id': 670411370698022913, 'retweet_count': 765, 'favorite_count': 1787},\n",
       " {'id': 670417414769758208, 'retweet_count': 280, 'favorite_count': 501},\n",
       " {'id': 670420569653809152, 'retweet_count': 265, 'favorite_count': 536},\n",
       " {'id': 670421925039075328, 'retweet_count': 549, 'favorite_count': 1136},\n",
       " {'id': 670427002554466305, 'retweet_count': 141, 'favorite_count': 460},\n",
       " {'id': 670428280563085312, 'retweet_count': 519, 'favorite_count': 1225},\n",
       " {'id': 670433248821026816, 'retweet_count': 100, 'favorite_count': 294},\n",
       " {'id': 670434127938719744, 'retweet_count': 560, 'favorite_count': 1254},\n",
       " {'id': 670435821946826752, 'retweet_count': 433, 'favorite_count': 939},\n",
       " {'id': 670442337873600512, 'retweet_count': 175, 'favorite_count': 578},\n",
       " {'id': 670444955656130560, 'retweet_count': 1736, 'favorite_count': 6041},\n",
       " {'id': 670449342516494336, 'retweet_count': 567, 'favorite_count': 1072},\n",
       " {'id': 670452855871037440, 'retweet_count': 174, 'favorite_count': 489},\n",
       " {'id': 670465786746662913, 'retweet_count': 466, 'favorite_count': 851},\n",
       " {'id': 670468609693655041, 'retweet_count': 77, 'favorite_count': 314},\n",
       " {'id': 670474236058800128, 'retweet_count': 630, 'favorite_count': 1330},\n",
       " {'id': 670668383499735048, 'retweet_count': 4300, 'favorite_count': 9425},\n",
       " {'id': 670676092097810432, 'retweet_count': 35, 'favorite_count': 214},\n",
       " {'id': 670679630144274432, 'retweet_count': 240, 'favorite_count': 661},\n",
       " {'id': 670691627984359425, 'retweet_count': 208, 'favorite_count': 516},\n",
       " {'id': 670704688707301377, 'retweet_count': 317, 'favorite_count': 686},\n",
       " {'id': 670717338665226240, 'retweet_count': 416, 'favorite_count': 1049},\n",
       " {'id': 670727704916926465, 'retweet_count': 312, 'favorite_count': 734},\n",
       " {'id': 670733412878163972, 'retweet_count': 446, 'favorite_count': 848},\n",
       " {'id': 670755717859713024, 'retweet_count': 87, 'favorite_count': 391},\n",
       " {'id': 670764103623966721, 'retweet_count': 371, 'favorite_count': 954},\n",
       " {'id': 670778058496974848, 'retweet_count': 62, 'favorite_count': 297},\n",
       " {'id': 670780561024270336, 'retweet_count': 249, 'favorite_count': 697},\n",
       " {'id': 670782429121134593, 'retweet_count': 654, 'favorite_count': 1345},\n",
       " {'id': 670783437142401025, 'retweet_count': 330, 'favorite_count': 721},\n",
       " {'id': 670786190031921152, 'retweet_count': 168, 'favorite_count': 527},\n",
       " {'id': 670789397210615808, 'retweet_count': 210, 'favorite_count': 582},\n",
       " {'id': 670792680469889025, 'retweet_count': 236, 'favorite_count': 730},\n",
       " {'id': 670797304698376195, 'retweet_count': 202, 'favorite_count': 658},\n",
       " {'id': 670803562457407488, 'retweet_count': 77, 'favorite_count': 301},\n",
       " {'id': 670804601705242624, 'retweet_count': 815, 'favorite_count': 1730},\n",
       " {'id': 670807719151067136, 'retweet_count': 425, 'favorite_count': 1050},\n",
       " {'id': 670811965569282048, 'retweet_count': 230, 'favorite_count': 981},\n",
       " {'id': 670815497391357952, 'retweet_count': 1312, 'favorite_count': 2772},\n",
       " {'id': 670822709593571328, 'retweet_count': 83, 'favorite_count': 543},\n",
       " {'id': 670823764196741120, 'retweet_count': 159, 'favorite_count': 673},\n",
       " {'id': 670826280409919488, 'retweet_count': 3493, 'favorite_count': 4851},\n",
       " {'id': 670832455012716544, 'retweet_count': 184, 'favorite_count': 645},\n",
       " {'id': 670833812859932673, 'retweet_count': 109, 'favorite_count': 382},\n",
       " {'id': 670838202509447168, 'retweet_count': 598, 'favorite_count': 980},\n",
       " {'id': 670840546554966016, 'retweet_count': 165, 'favorite_count': 522},\n",
       " {'id': 670842764863651840, 'retweet_count': 7555, 'favorite_count': 22000},\n",
       " {'id': 670995969505435648, 'retweet_count': 241, 'favorite_count': 965},\n",
       " {'id': 671109016219725825, 'retweet_count': 377, 'favorite_count': 1001},\n",
       " {'id': 671115716440031232, 'retweet_count': 669, 'favorite_count': 1209},\n",
       " {'id': 671122204919246848, 'retweet_count': 2180, 'favorite_count': 3074},\n",
       " {'id': 671134062904504320, 'retweet_count': 162, 'favorite_count': 651},\n",
       " {'id': 671138694582165504, 'retweet_count': 340, 'favorite_count': 820},\n",
       " {'id': 671141549288370177, 'retweet_count': 569, 'favorite_count': 1018},\n",
       " {'id': 671147085991960577, 'retweet_count': 191, 'favorite_count': 580},\n",
       " {'id': 671151324042559489, 'retweet_count': 126, 'favorite_count': 587},\n",
       " {'id': 671154572044468225, 'retweet_count': 186, 'favorite_count': 624},\n",
       " {'id': 671159727754231808, 'retweet_count': 68, 'favorite_count': 314},\n",
       " {'id': 671163268581498880, 'retweet_count': 965, 'favorite_count': 1455},\n",
       " {'id': 671166507850801152, 'retweet_count': 301, 'favorite_count': 778},\n",
       " {'id': 671182547775299584, 'retweet_count': 283, 'favorite_count': 975},\n",
       " {'id': 671186162933985280, 'retweet_count': 176, 'favorite_count': 639},\n",
       " {'id': 671347597085433856, 'retweet_count': 369, 'favorite_count': 830},\n",
       " {'id': 671355857343524864, 'retweet_count': 104, 'favorite_count': 417},\n",
       " {'id': 671357843010908160, 'retweet_count': 133, 'favorite_count': 351},\n",
       " {'id': 671362598324076544, 'retweet_count': 257, 'favorite_count': 973},\n",
       " {'id': 671390180817915904, 'retweet_count': 651, 'favorite_count': 1278},\n",
       " {'id': 671485057807351808, 'retweet_count': 195, 'favorite_count': 678},\n",
       " {'id': 671486386088865792, 'retweet_count': 172, 'favorite_count': 507},\n",
       " {'id': 671488513339211776, 'retweet_count': 412, 'favorite_count': 884},\n",
       " {'id': 671497587707535361, 'retweet_count': 386, 'favorite_count': 823},\n",
       " {'id': 671504605491109889, 'retweet_count': 3112, 'favorite_count': 6218},\n",
       " {'id': 671511350426865664, 'retweet_count': 605, 'favorite_count': 1419},\n",
       " {'id': 671518598289059840, 'retweet_count': 251, 'favorite_count': 828},\n",
       " {'id': 671520732782923777, 'retweet_count': 454, 'favorite_count': 1217},\n",
       " {'id': 671528761649688577, 'retweet_count': 214, 'favorite_count': 736},\n",
       " {'id': 671533943490011136, 'retweet_count': 493, 'favorite_count': 896},\n",
       " {'id': 671536543010570240, 'retweet_count': 343, 'favorite_count': 1036},\n",
       " {'id': 671538301157904385, 'retweet_count': 333, 'favorite_count': 837},\n",
       " {'id': 671542985629241344, 'retweet_count': 483, 'favorite_count': 966},\n",
       " {'id': 671544874165002241, 'retweet_count': 888, 'favorite_count': 1726},\n",
       " {'id': 671547767500775424, 'retweet_count': 496, 'favorite_count': 1202},\n",
       " {'id': 671561002136281088, 'retweet_count': 6298, 'favorite_count': 11357},\n",
       " {'id': 671729906628341761, 'retweet_count': 3786, 'favorite_count': 7476},\n",
       " {'id': 671735591348891648, 'retweet_count': 651, 'favorite_count': 1282},\n",
       " {'id': 671743150407421952, 'retweet_count': 200, 'favorite_count': 673},\n",
       " {'id': 671744970634719232, 'retweet_count': 659, 'favorite_count': 1200},\n",
       " {'id': 671763349865160704, 'retweet_count': 771, 'favorite_count': 1488},\n",
       " {'id': 671768281401958400, 'retweet_count': 433, 'favorite_count': 1044},\n",
       " {'id': 671789708968640512, 'retweet_count': 2991, 'favorite_count': 6297},\n",
       " {'id': 671855973984772097, 'retweet_count': 371, 'favorite_count': 791},\n",
       " {'id': 671866342182637568, 'retweet_count': 417, 'favorite_count': 994},\n",
       " {'id': 671874878652489728, 'retweet_count': 478, 'favorite_count': 1105},\n",
       " {'id': 671879137494245376, 'retweet_count': 570, 'favorite_count': 1242},\n",
       " {'id': 671882082306625538, 'retweet_count': 1202, 'favorite_count': 3092},\n",
       " {'id': 671891728106971137, 'retweet_count': 479, 'favorite_count': 1171},\n",
       " {'id': 671896809300709376, 'retweet_count': 3666, 'favorite_count': 7590},\n",
       " {'id': 672068090318987265, 'retweet_count': 439, 'favorite_count': 1133},\n",
       " {'id': 672082170312290304, 'retweet_count': 318, 'favorite_count': 837},\n",
       " {'id': 672095186491711488, 'retweet_count': 328, 'favorite_count': 873},\n",
       " {'id': 672125275208069120, 'retweet_count': 985, 'favorite_count': 2113},\n",
       " {'id': 672139350159835138, 'retweet_count': 592, 'favorite_count': 1539},\n",
       " {'id': 672160042234327040, 'retweet_count': 303, 'favorite_count': 765},\n",
       " {'id': 672169685991993344, 'retweet_count': 317, 'favorite_count': 909},\n",
       " {'id': 672205392827572224, 'retweet_count': 1005, 'favorite_count': 1981},\n",
       " {'id': 672222792075620352, 'retweet_count': 176, 'favorite_count': 700},\n",
       " {'id': 672231046314901505, 'retweet_count': 876, 'favorite_count': 1618},\n",
       " {'id': 672239279297454080, 'retweet_count': 275, 'favorite_count': 803},\n",
       " {'id': 672245253877968896, 'retweet_count': 131, 'favorite_count': 606},\n",
       " {'id': 672248013293752320, 'retweet_count': 520, 'favorite_count': 1525},\n",
       " {'id': 672254177670729728, 'retweet_count': 647, 'favorite_count': 1271},\n",
       " {'id': 672256522047614977, 'retweet_count': 1324, 'favorite_count': 2501},\n",
       " {'id': 672264251789176834, 'retweet_count': 285, 'favorite_count': 1008},\n",
       " {'id': 672267570918129665, 'retweet_count': 536, 'favorite_count': 1312},\n",
       " {'id': 672272411274932228, 'retweet_count': 2923, 'favorite_count': 5693},\n",
       " {'id': 672466075045466113, 'retweet_count': 447, 'favorite_count': 1193},\n",
       " {'id': 672475084225949696, 'retweet_count': 605, 'favorite_count': 1290},\n",
       " {'id': 672481316919734272, 'retweet_count': 110, 'favorite_count': 638},\n",
       " {'id': 672482722825261057, 'retweet_count': 517, 'favorite_count': 986},\n",
       " {'id': 672488522314567680, 'retweet_count': 371, 'favorite_count': 990},\n",
       " {'id': 672523490734551040, 'retweet_count': 146, 'favorite_count': 551},\n",
       " {'id': 672538107540070400, 'retweet_count': 316, 'favorite_count': 898},\n",
       " {'id': 672591271085670400, 'retweet_count': 157, 'favorite_count': 639},\n",
       " {'id': 672591762242805761, 'retweet_count': 284, 'favorite_count': 840},\n",
       " {'id': 672594978741354496, 'retweet_count': 528, 'favorite_count': 1175},\n",
       " {'id': 672604026190569472, 'retweet_count': 335, 'favorite_count': 964},\n",
       " {'id': 672609152938721280, 'retweet_count': 338, 'favorite_count': 967},\n",
       " {'id': 672614745925664768, 'retweet_count': 510, 'favorite_count': 1085},\n",
       " {'id': 672622327801233409, 'retweet_count': 419, 'favorite_count': 1147},\n",
       " {'id': 672640509974827008, 'retweet_count': 270, 'favorite_count': 873},\n",
       " {'id': 672828477930868736, 'retweet_count': 416, 'favorite_count': 1107},\n",
       " {'id': 672834301050937345, 'retweet_count': 502, 'favorite_count': 1151},\n",
       " {'id': 672877615439593473, 'retweet_count': 300, 'favorite_count': 906},\n",
       " {'id': 672884426393653248, 'retweet_count': 722, 'favorite_count': 1361},\n",
       " {'id': 672898206762672129, 'retweet_count': 363, 'favorite_count': 793},\n",
       " {'id': 672902681409806336, 'retweet_count': 422, 'favorite_count': 1226},\n",
       " {'id': 672964561327235073, 'retweet_count': 557, 'favorite_count': 1259},\n",
       " {'id': 672968025906282496, 'retweet_count': 469, 'favorite_count': 1176},\n",
       " {'id': 672970152493887488, 'retweet_count': 302, 'favorite_count': 836},\n",
       " {'id': 672975131468300288, 'retweet_count': 775, 'favorite_count': 1494},\n",
       " {'id': 672980819271634944, 'retweet_count': 887, 'favorite_count': 1625},\n",
       " {'id': 672984142909456390, 'retweet_count': 469, 'favorite_count': 1116},\n",
       " {'id': 672988786805112832, 'retweet_count': 253, 'favorite_count': 872},\n",
       " {'id': 672995267319328768, 'retweet_count': 251, 'favorite_count': 844},\n",
       " {'id': 672997845381865473, 'retweet_count': 629, 'favorite_count': 1748},\n",
       " {'id': 673148804208660480, 'retweet_count': 547, 'favorite_count': 1485},\n",
       " {'id': 673213039743795200, 'retweet_count': 724, 'favorite_count': 1966},\n",
       " {'id': 673240798075449344, 'retweet_count': 614, 'favorite_count': 1271},\n",
       " {'id': 673270968295534593, 'retweet_count': 312, 'favorite_count': 955},\n",
       " {'id': 673295268553605120, 'retweet_count': 2740, 'favorite_count': 6709},\n",
       " {'id': 673317986296586240, 'retweet_count': 216, 'favorite_count': 780},\n",
       " {'id': 673320132811366400, 'retweet_count': 6864, 'favorite_count': 11923},\n",
       " {'id': 673342308415348736, 'retweet_count': 492, 'favorite_count': 1125},\n",
       " {'id': 673343217010679808, 'retweet_count': 234, 'favorite_count': 854},\n",
       " {'id': 673345638550134785, 'retweet_count': 1098, 'favorite_count': 2222},\n",
       " {'id': 673350198937153538, 'retweet_count': 184, 'favorite_count': 682},\n",
       " {'id': 673352124999274496, 'retweet_count': 471, 'favorite_count': 1491},\n",
       " {'id': 673355879178194945, 'retweet_count': 491, 'favorite_count': 1337},\n",
       " {'id': 673359818736984064, 'retweet_count': 592, 'favorite_count': 1286},\n",
       " {'id': 673363615379013632, 'retweet_count': 266, 'favorite_count': 930},\n",
       " {'id': 673576835670777856, 'retweet_count': 486, 'favorite_count': 1226},\n",
       " {'id': 673580926094458881, 'retweet_count': 238, 'favorite_count': 732},\n",
       " {'id': 673583129559498752, 'retweet_count': 313, 'favorite_count': 1060},\n",
       " {'id': 673612854080196609, 'retweet_count': 629, 'favorite_count': 1424},\n",
       " {'id': 673636718965334016, 'retweet_count': 307, 'favorite_count': 990},\n",
       " {'id': 673656262056419329, 'retweet_count': 198, 'favorite_count': 650},\n",
       " {'id': 673662677122719744, 'retweet_count': 326, 'favorite_count': 1123},\n",
       " {'id': 673680198160809984, 'retweet_count': 414, 'favorite_count': 1228},\n",
       " {'id': 673686845050527744, 'retweet_count': 375, 'favorite_count': 1273},\n",
       " {'id': 673688752737402881, 'retweet_count': 438, 'favorite_count': 1124},\n",
       " {'id': 673689733134946305, 'retweet_count': 568, 'favorite_count': 1537},\n",
       " {'id': 673697980713705472, 'retweet_count': 1691, 'favorite_count': 3504},\n",
       " {'id': 673700254269775872, 'retweet_count': 500, 'favorite_count': 1278},\n",
       " {'id': 673705679337693185, 'retweet_count': 358, 'favorite_count': 1123},\n",
       " {'id': 673707060090052608, 'retweet_count': 346, 'favorite_count': 984},\n",
       " {'id': 673708611235921920, 'retweet_count': 253, 'favorite_count': 951},\n",
       " {'id': 673709992831262724, 'retweet_count': 236, 'favorite_count': 746},\n",
       " {'id': 673711475735838725, 'retweet_count': 264, 'favorite_count': 938},\n",
       " {'id': 673715861853720576, 'retweet_count': 1805, 'favorite_count': 3151},\n",
       " {'id': 673887867907739649, 'retweet_count': 220, 'favorite_count': 838},\n",
       " {'id': 673906403526995968, 'retweet_count': 1427, 'favorite_count': 2837},\n",
       " {'id': 673919437611909120, 'retweet_count': 325, 'favorite_count': 1056},\n",
       " {'id': 673956914389192708, 'retweet_count': 833, 'favorite_count': 1744},\n",
       " {'id': 674008982932058114, 'retweet_count': 299, 'favorite_count': 1084},\n",
       " {'id': 674014384960745472, 'retweet_count': 559, 'favorite_count': 1385},\n",
       " {'id': 674019345211760640, 'retweet_count': 264, 'favorite_count': 1012},\n",
       " {'id': 674024893172875264, 'retweet_count': 1081, 'favorite_count': 1580},\n",
       " {'id': 674036086168010753, 'retweet_count': 180, 'favorite_count': 756},\n",
       " {'id': 674038233588723717, 'retweet_count': 366, 'favorite_count': 975},\n",
       " {'id': 674042553264685056, 'retweet_count': 109, 'favorite_count': 633},\n",
       " {'id': 674045139690631169, 'retweet_count': 564, 'favorite_count': 1266},\n",
       " {'id': 674051556661161984, 'retweet_count': 431, 'favorite_count': 1288},\n",
       " {'id': 674053186244734976, 'retweet_count': 1124, 'favorite_count': 2937},\n",
       " {'id': 674063288070742018, 'retweet_count': 1905, 'favorite_count': 5703},\n",
       " {'id': 674075285688614912, 'retweet_count': 245, 'favorite_count': 887},\n",
       " {'id': 674082852460433408, 'retweet_count': 144, 'favorite_count': 676},\n",
       " {'id': 674255168825880576, 'retweet_count': 464, 'favorite_count': 1298},\n",
       " {'id': 674262580978937856, 'retweet_count': 382, 'favorite_count': 1175},\n",
       " {'id': 674265582246694913, 'retweet_count': 727, 'favorite_count': 1457},\n",
       " {'id': 674269164442398721, 'retweet_count': 202, 'favorite_count': 824},\n",
       " {'id': 674271431610523648, 'retweet_count': 643, 'favorite_count': 1393},\n",
       " {'id': 674291837063053312, 'retweet_count': 5129, 'favorite_count': 13142},\n",
       " {'id': 674318007229923329, 'retweet_count': 449, 'favorite_count': 1251},\n",
       " {'id': 674372068062928900, 'retweet_count': 280, 'favorite_count': 766},\n",
       " {'id': 674394782723014656, 'retweet_count': 487, 'favorite_count': 1331},\n",
       " {'id': 674410619106390016, 'retweet_count': 400, 'favorite_count': 1067},\n",
       " {'id': 674416750885273600, 'retweet_count': 114, 'favorite_count': 609},\n",
       " {'id': 674422304705744896, 'retweet_count': 464, 'favorite_count': 1280},\n",
       " {'id': 674436901579923456, 'retweet_count': 344, 'favorite_count': 985},\n",
       " {'id': 674447403907457024, 'retweet_count': 314, 'favorite_count': 952},\n",
       " {'id': 674468880899788800, 'retweet_count': 1773, 'favorite_count': 5544},\n",
       " {'id': 674632714662858753, 'retweet_count': 500, 'favorite_count': 1338},\n",
       " {'id': 674638615994089473, 'retweet_count': 509, 'favorite_count': 1513},\n",
       " {'id': 674644256330530816, 'retweet_count': 241, 'favorite_count': 924},\n",
       " {'id': 674646392044941312, 'retweet_count': 429, 'favorite_count': 1278},\n",
       " {'id': 674664755118911488, 'retweet_count': 205, 'favorite_count': 809},\n",
       " {'id': 674670581682434048, 'retweet_count': 565, 'favorite_count': 1445},\n",
       " {'id': 674690135443775488, 'retweet_count': 411, 'favorite_count': 1022},\n",
       " {'id': 674737130913071104, 'retweet_count': 80, 'favorite_count': 580},\n",
       " {'id': 674739953134403584, 'retweet_count': 326, 'favorite_count': 965},\n",
       " {'id': 674743008475090944, 'retweet_count': 464, 'favorite_count': 1258},\n",
       " {'id': 674752233200820224, 'retweet_count': 399, 'favorite_count': 1307},\n",
       " {'id': 674754018082705410, 'retweet_count': 382, 'favorite_count': 1227},\n",
       " {'id': 674764817387900928, 'retweet_count': 200, 'favorite_count': 699},\n",
       " {'id': 674767892831932416, 'retweet_count': 689, 'favorite_count': 1623},\n",
       " {'id': 674774481756377088, 'retweet_count': 407, 'favorite_count': 981},\n",
       " {'id': 674781762103414784, 'retweet_count': 1043, 'favorite_count': 1799},\n",
       " {'id': 674788554665512960, 'retweet_count': 181, 'favorite_count': 718},\n",
       " {'id': 674790488185167872, 'retweet_count': 216, 'favorite_count': 982},\n",
       " {'id': 674793399141146624, 'retweet_count': 950, 'favorite_count': 2216},\n",
       " {'id': 674800520222154752, 'retweet_count': 746, 'favorite_count': 2684},\n",
       " {'id': 674805413498527744, 'retweet_count': 315, 'favorite_count': 759},\n",
       " {'id': 674999807681908736, 'retweet_count': 951, 'favorite_count': 1991},\n",
       " {'id': 675003128568291329, 'retweet_count': 406, 'favorite_count': 1389},\n",
       " {'id': 675006312288268288, 'retweet_count': 200, 'favorite_count': 873},\n",
       " {'id': 675015141583413248, 'retweet_count': 1034, 'favorite_count': 2405},\n",
       " {'id': 675047298674663426, 'retweet_count': 274, 'favorite_count': 926},\n",
       " {'id': 675109292475830276, 'retweet_count': 995, 'favorite_count': 2514},\n",
       " {'id': 675111688094527488, 'retweet_count': 213, 'favorite_count': 869},\n",
       " {'id': 675113801096802304, 'retweet_count': 686, 'favorite_count': 1732},\n",
       " {'id': 675135153782571009, 'retweet_count': 411, 'favorite_count': 1163},\n",
       " {'id': 675145476954566656, 'retweet_count': 779, 'favorite_count': 1911},\n",
       " {'id': 675146535592706048, 'retweet_count': 255, 'favorite_count': 1050},\n",
       " {'id': 675147105808306176, 'retweet_count': 197, 'favorite_count': 841},\n",
       " {'id': 675149409102012420, 'retweet_count': 1496, 'favorite_count': 3345},\n",
       " {'id': 675153376133427200, 'retweet_count': 2256, 'favorite_count': 5577},\n",
       " {'id': 675166823650848770, 'retweet_count': 1382, 'favorite_count': 3162},\n",
       " {'id': 675334060156301312, 'retweet_count': 1127, 'favorite_count': 2480},\n",
       " {'id': 675349384339542016, 'retweet_count': 1996, 'favorite_count': 3522},\n",
       " {'id': 675354435921575936, 'retweet_count': 14853, 'favorite_count': 29354},\n",
       " {'id': 675362609739206656, 'retweet_count': 192, 'favorite_count': 941},\n",
       " {'id': 675372240448454658, 'retweet_count': 452, 'favorite_count': 1522},\n",
       " {'id': 675432746517426176, 'retweet_count': 501, 'favorite_count': 1360},\n",
       " {'id': 675483430902214656, 'retweet_count': 853, 'favorite_count': 1658},\n",
       " {'id': 675489971617296384, 'retweet_count': 526, 'favorite_count': 1149},\n",
       " {'id': 675497103322386432, 'retweet_count': 1130, 'favorite_count': 2815},\n",
       " {'id': 675501075957489664, 'retweet_count': 5201, 'favorite_count': 15512},\n",
       " {'id': 675517828909424640, 'retweet_count': 407, 'favorite_count': 1147},\n",
       " {'id': 675522403582218240, 'retweet_count': 249, 'favorite_count': 937},\n",
       " {'id': 675531475945709568, 'retweet_count': 329, 'favorite_count': 1063},\n",
       " {'id': 675534494439489536, 'retweet_count': 361, 'favorite_count': 1661},\n",
       " {'id': 675706639471788032, 'retweet_count': 85, 'favorite_count': 581},\n",
       " {'id': 675707330206547968, 'retweet_count': 596, 'favorite_count': 1783},\n",
       " {'id': 675710890956750848, 'retweet_count': 717, 'favorite_count': 1681},\n",
       " {'id': 675740360753160193, 'retweet_count': 295, 'favorite_count': 1056},\n",
       " {'id': 675781562965868544, 'retweet_count': 418, 'favorite_count': 1452},\n",
       " {'id': 675798442703122432, 'retweet_count': 3041, 'favorite_count': 9297},\n",
       " {'id': 675820929667219457, 'retweet_count': 206, 'favorite_count': 955},\n",
       " {'id': 675822767435051008, 'retweet_count': 474, 'favorite_count': 1385},\n",
       " {'id': 675845657354215424, 'retweet_count': 775, 'favorite_count': 2042},\n",
       " {'id': 675853064436391936, 'retweet_count': 1132, 'favorite_count': 2419},\n",
       " {'id': 675870721063669760, 'retweet_count': 496, 'favorite_count': 1464},\n",
       " {'id': 675878199931371520, 'retweet_count': 1237, 'favorite_count': 3780},\n",
       " {'id': 675888385639251968, 'retweet_count': 839, 'favorite_count': 2107},\n",
       " {'id': 675891555769696257, 'retweet_count': 761, 'favorite_count': 1918},\n",
       " {'id': 675898130735476737, 'retweet_count': 506, 'favorite_count': 1440},\n",
       " {'id': 676089483918516224, 'retweet_count': 389, 'favorite_count': 1179},\n",
       " {'id': 676098748976615425, 'retweet_count': 1246, 'favorite_count': 2668},\n",
       " {'id': 676101918813499392, 'retweet_count': 1047, 'favorite_count': 2578},\n",
       " {'id': 676146341966438401, 'retweet_count': 585, 'favorite_count': 1746},\n",
       " {'id': 676191832485810177, 'retweet_count': 915, 'favorite_count': 2050},\n",
       " {'id': 676215927814406144, 'retweet_count': 516, 'favorite_count': 1569},\n",
       " {'id': 676219687039057920, 'retweet_count': 27641, 'favorite_count': 70610},\n",
       " {'id': 676237365392908289, 'retweet_count': 249, 'favorite_count': 1090},\n",
       " {'id': 676263575653122048, 'retweet_count': 483, 'favorite_count': 1887},\n",
       " {'id': 676430933382295552, 'retweet_count': 302, 'favorite_count': 1259},\n",
       " {'id': 676440007570247681, 'retweet_count': 587, 'favorite_count': 1560},\n",
       " {'id': 676470639084101634, 'retweet_count': 4164, 'favorite_count': 10546},\n",
       " {'id': 676496375194980353, 'retweet_count': 471, 'favorite_count': 1371},\n",
       " {'id': 676533798876651520, 'retweet_count': 487, 'favorite_count': 1694},\n",
       " {'id': 676575501977128964, 'retweet_count': 985, 'favorite_count': 2324},\n",
       " {'id': 676582956622721024, 'retweet_count': 251, 'favorite_count': 1071},\n",
       " {'id': 676588346097852417, 'retweet_count': 696, 'favorite_count': 2076},\n",
       " {'id': 676603393314578432, 'retweet_count': 339, 'favorite_count': 1036},\n",
       " {'id': 676606785097199616, 'retweet_count': 386, 'favorite_count': 1720},\n",
       " {'id': 676613908052996102, 'retweet_count': 176, 'favorite_count': 982},\n",
       " {'id': 676617503762681856, 'retweet_count': 854, 'favorite_count': 2613},\n",
       " {'id': 676776431406465024, 'retweet_count': 1796, 'favorite_count': 4498},\n",
       " {'id': 676811746707918848, 'retweet_count': 379, 'favorite_count': 1302},\n",
       " {'id': 676819651066732545, 'retweet_count': 599, 'favorite_count': 1652},\n",
       " {'id': 676821958043033607, 'retweet_count': 13723, 'favorite_count': 20636},\n",
       " {'id': 676864501615042560, 'retweet_count': 623, 'favorite_count': 1884},\n",
       " {'id': 676897532954456065, 'retweet_count': 647, 'favorite_count': 2049},\n",
       " {'id': 676936541936185344, 'retweet_count': 4415, 'favorite_count': 11576},\n",
       " {'id': 676942428000112642, 'retweet_count': 665, 'favorite_count': 1866},\n",
       " {'id': 676946864479084545, 'retweet_count': 326, 'favorite_count': 1573},\n",
       " {'id': 676948236477857792, 'retweet_count': 771, 'favorite_count': 1951},\n",
       " {'id': 676949632774234114, 'retweet_count': 348, 'favorite_count': 1180},\n",
       " {'id': 676957860086095872, 'retweet_count': 719, 'favorite_count': 2019},\n",
       " {'id': 676975532580409345, 'retweet_count': 949, 'favorite_count': 2519},\n",
       " {'id': 677187300187611136, 'retweet_count': 808, 'favorite_count': 2477},\n",
       " {'id': 677228873407442944, 'retweet_count': 1461, 'favorite_count': 3196},\n",
       " {'id': 677269281705472000, 'retweet_count': 634, 'favorite_count': 1794},\n",
       " {'id': 677301033169788928, 'retweet_count': 354, 'favorite_count': 1111},\n",
       " {'id': 677314812125323265, 'retweet_count': 469, 'favorite_count': 1496},\n",
       " {'id': 677328882937298944, 'retweet_count': 1338, 'favorite_count': 3321},\n",
       " {'id': 677331501395156992, 'retweet_count': 207, 'favorite_count': 987},\n",
       " {'id': 677334615166730240, 'retweet_count': 250, 'favorite_count': 1225},\n",
       " {'id': 677530072887205888, 'retweet_count': 204, 'favorite_count': 963},\n",
       " {'id': 677547928504967168, 'retweet_count': 3282, 'favorite_count': 6303},\n",
       " {'id': 677557565589463040, 'retweet_count': 1012, 'favorite_count': 2213},\n",
       " {'id': 677565715327688705, 'retweet_count': 409, 'favorite_count': 1187},\n",
       " {'id': 677573743309385728, 'retweet_count': 597, 'favorite_count': 1931},\n",
       " {'id': 677644091929329666, 'retweet_count': 725, 'favorite_count': 1704},\n",
       " {'id': 677662372920729601, 'retweet_count': 840, 'favorite_count': 1767},\n",
       " {'id': 677673981332312066, 'retweet_count': 1345, 'favorite_count': 3025},\n",
       " {'id': 677687604918272002, 'retweet_count': 751, 'favorite_count': 2249},\n",
       " {'id': 677698403548192770, 'retweet_count': 286, 'favorite_count': 1114},\n",
       " {'id': 677700003327029250, 'retweet_count': 1285, 'favorite_count': 3103},\n",
       " {'id': 677716515794329600, 'retweet_count': 874, 'favorite_count': 2781},\n",
       " {'id': 677895101218201600, 'retweet_count': 1836, 'favorite_count': 4378},\n",
       " {'id': 677918531514703872, 'retweet_count': 364, 'favorite_count': 1216},\n",
       " {'id': 678021115718029313, 'retweet_count': 5605, 'favorite_count': 12329},\n",
       " {'id': 678255464182861824, 'retweet_count': 327, 'favorite_count': 1446},\n",
       " {'id': 678278586130948096, 'retweet_count': 5469, 'favorite_count': 10384},\n",
       " {'id': 678334497360859136, 'retweet_count': 222, 'favorite_count': 1180},\n",
       " {'id': 678341075375947776, 'retweet_count': 472, 'favorite_count': 1570},\n",
       " {'id': 678380236862578688, 'retweet_count': 821, 'favorite_count': 2229},\n",
       " {'id': 678389028614488064, 'retweet_count': 380, 'favorite_count': 1708},\n",
       " {'id': 678396796259975168, 'retweet_count': 373, 'favorite_count': 1444},\n",
       " {'id': 678399652199309312, 'retweet_count': 28461, 'favorite_count': 73128},\n",
       " {'id': 678410210315247616, 'retweet_count': 1606, 'favorite_count': 3813},\n",
       " {'id': 678424312106393600, 'retweet_count': 2262, 'favorite_count': 4981},\n",
       " {'id': 678446151570427904, 'retweet_count': 1370, 'favorite_count': 3647},\n",
       " {'id': 678643457146150913, 'retweet_count': 359, 'favorite_count': 1873},\n",
       " {'id': 678675843183484930, 'retweet_count': 1312, 'favorite_count': 2597},\n",
       " {'id': 678740035362037760, 'retweet_count': 1484, 'favorite_count': 3379},\n",
       " {'id': 678755239630127104, 'retweet_count': 2918, 'favorite_count': 6461},\n",
       " {'id': 678764513869611008, 'retweet_count': 413, 'favorite_count': 1476},\n",
       " {'id': 678767140346941444, 'retweet_count': 1221, 'favorite_count': 3214},\n",
       " {'id': 678774928607469569, 'retweet_count': 819, 'favorite_count': 2566},\n",
       " {'id': 678798276842360832, 'retweet_count': 1024, 'favorite_count': 3154},\n",
       " {'id': 678800283649069056, 'retweet_count': 817, 'favorite_count': 2350},\n",
       " {'id': 678969228704284672, 'retweet_count': 408, 'favorite_count': 1496},\n",
       " {'id': 678991772295516161, 'retweet_count': 1014, 'favorite_count': 2061},\n",
       " {'id': 679047485189439488, 'retweet_count': 585, 'favorite_count': 2049},\n",
       " {'id': 679062614270468097, 'retweet_count': 7179, 'favorite_count': 15438},\n",
       " {'id': 679111216690831360, 'retweet_count': 2300, 'favorite_count': 5410},\n",
       " {'id': 679132435750195208, 'retweet_count': 1033, 'favorite_count': 2690},\n",
       " {'id': 679148763231985668, 'retweet_count': 919, 'favorite_count': 2545},\n",
       " {'id': 679158373988876288, 'retweet_count': 7216, 'favorite_count': 19361},\n",
       " {'id': 679462823135686656, 'retweet_count': 16933, 'favorite_count': 29286},\n",
       " {'id': 679475951516934144, 'retweet_count': 578, 'favorite_count': 1914},\n",
       " {'id': 679503373272485890, 'retweet_count': 1330, 'favorite_count': 2902},\n",
       " {'id': 679511351870550016, 'retweet_count': 1142, 'favorite_count': 3061},\n",
       " {'id': 679527802031484928, 'retweet_count': 648, 'favorite_count': 2418},\n",
       " {'id': 679530280114372609, 'retweet_count': 1876, 'favorite_count': 4350},\n",
       " {'id': 679722016581222400, 'retweet_count': 425, 'favorite_count': 1535},\n",
       " {'id': 679729593985699840, 'retweet_count': 746, 'favorite_count': 1988},\n",
       " {'id': 679736210798047232, 'retweet_count': 713, 'favorite_count': 1906},\n",
       " {'id': 679777920601223168, 'retweet_count': 991, 'favorite_count': 2851},\n",
       " {'id': 679828447187857408, 'retweet_count': 12529, 'favorite_count': 33004},\n",
       " {'id': 679844490799091713, 'retweet_count': 686, 'favorite_count': 2183},\n",
       " {'id': 679854723806179328, 'retweet_count': 1098, 'favorite_count': 2604},\n",
       " {'id': 679862121895714818, 'retweet_count': 553, 'favorite_count': 2243},\n",
       " {'id': 679877062409191424, 'retweet_count': 575, 'favorite_count': 1787},\n",
       " {'id': 680070545539371008, 'retweet_count': 771, 'favorite_count': 2379},\n",
       " {'id': 680085611152338944, 'retweet_count': 8117, 'favorite_count': 11706},\n",
       " {'id': 680100725817409536, 'retweet_count': 1244, 'favorite_count': 3294},\n",
       " {'id': 680115823365742593, 'retweet_count': 821, 'favorite_count': 2491},\n",
       " {'id': 680130881361686529, 'retweet_count': 854, 'favorite_count': 2107},\n",
       " {'id': 680145970311643136, 'retweet_count': 1555, 'favorite_count': 3308},\n",
       " {'id': 680161097740095489, 'retweet_count': 669, 'favorite_count': 2130},\n",
       " {'id': 680176173301628928, 'retweet_count': 1390, 'favorite_count': 3546},\n",
       " {'id': 680191257256136705, 'retweet_count': 440, 'favorite_count': 1972},\n",
       " {'id': 680206703334408192, 'retweet_count': 1040, 'favorite_count': 2578},\n",
       " {'id': 680221482581123072, 'retweet_count': 260, 'favorite_count': 1356},\n",
       " {'id': 680440374763077632, 'retweet_count': 438, 'favorite_count': 1320},\n",
       " {'id': 680473011644985345, 'retweet_count': 668, 'favorite_count': 2337},\n",
       " {'id': 680494726643068929, 'retweet_count': 438, 'favorite_count': 1571},\n",
       " {'id': 680497766108381184, 'retweet_count': 1728, 'favorite_count': 3876},\n",
       " {'id': 680583894916304897, 'retweet_count': 1185, 'favorite_count': 3291},\n",
       " {'id': 680609293079592961, 'retweet_count': 622, 'favorite_count': 2405},\n",
       " {'id': 680798457301471234, 'retweet_count': 937, 'favorite_count': 2598},\n",
       " {'id': 680801747103793152, 'retweet_count': 739, 'favorite_count': 2181},\n",
       " {'id': 680836378243002368, 'retweet_count': 1182, 'favorite_count': 3173},\n",
       " {'id': 680889648562991104, 'retweet_count': 323, 'favorite_count': 1611},\n",
       " {'id': 680913438424612864, 'retweet_count': 562, 'favorite_count': 2203},\n",
       " {'id': 680934982542561280, 'retweet_count': 391, 'favorite_count': 1907},\n",
       " {'id': 680940246314430465, 'retweet_count': 935, 'favorite_count': 2921},\n",
       " {'id': 680959110691590145, 'retweet_count': 1816, 'favorite_count': 4199},\n",
       " {'id': 680970795137544192, 'retweet_count': 583, 'favorite_count': 2199},\n",
       " {'id': 681193455364796417, 'retweet_count': 1327, 'favorite_count': 3398},\n",
       " {'id': 681231109724700672, 'retweet_count': 436, 'favorite_count': 2231},\n",
       " {'id': 681242418453299201, 'retweet_count': 469, 'favorite_count': 1355},\n",
       " {'id': 681261549936340994, 'retweet_count': 235, 'favorite_count': 1332},\n",
       " {'id': 681281657291280384, 'retweet_count': 993, 'favorite_count': 2957},\n",
       " {'id': 681297372102656000, 'retweet_count': 852, 'favorite_count': 2951},\n",
       " {'id': 681302363064414209, 'retweet_count': 1618, 'favorite_count': 3584},\n",
       " {'id': 681320187870711809, 'retweet_count': 671, 'favorite_count': 2400},\n",
       " {'id': 681339448655802368, 'retweet_count': 3692, 'favorite_count': 8542},\n",
       " {'id': 681523177663676416, 'retweet_count': 5184, 'favorite_count': 13129},\n",
       " {'id': 681579835668455424, 'retweet_count': 1172, 'favorite_count': 3241},\n",
       " {'id': 681610798867845120, 'retweet_count': 416, 'favorite_count': 1725},\n",
       " {'id': 681654059175129088, 'retweet_count': 819, 'favorite_count': 2410},\n",
       " {'id': 681679526984871937, 'retweet_count': 399, 'favorite_count': 1628},\n",
       " {'id': 681694085539872773, 'retweet_count': 3678, 'favorite_count': 11779},\n",
       " {'id': 681891461017812993, 'retweet_count': 744, 'favorite_count': 2266},\n",
       " {'id': 681981167097122816, 'retweet_count': 916, 'favorite_count': 2586},\n",
       " {'id': 682003177596559360, 'retweet_count': 1365, 'favorite_count': 2850},\n",
       " {'id': 682032003584274432, 'retweet_count': 1788, 'favorite_count': 6042},\n",
       " {'id': 682047327939461121, 'retweet_count': 845, 'favorite_count': 2945},\n",
       " {'id': 682059653698686977, 'retweet_count': 1525, 'favorite_count': 4530},\n",
       " {'id': 682242692827447297, 'retweet_count': 1036, 'favorite_count': 2960},\n",
       " {'id': 682259524040966145, 'retweet_count': 1077, 'favorite_count': 3796},\n",
       " {'id': 682303737705140231, 'retweet_count': 883, 'favorite_count': 2812},\n",
       " {'id': 682389078323662849, 'retweet_count': 423, 'favorite_count': 1533},\n",
       " {'id': 682393905736888321, 'retweet_count': 595, 'favorite_count': 2062},\n",
       " {'id': 682406705142087680, 'retweet_count': 1584, 'favorite_count': 6945},\n",
       " {'id': 682429480204398592, 'retweet_count': 1042, 'favorite_count': 3174},\n",
       " {'id': 682638830361513985, 'retweet_count': 534, 'favorite_count': 1898},\n",
       " {'id': 682662431982772225, 'retweet_count': 987, 'favorite_count': 2806},\n",
       " {'id': 682697186228989953, 'retweet_count': 333, 'favorite_count': 1211},\n",
       " {'id': 682750546109968385, 'retweet_count': 398, 'favorite_count': 1399},\n",
       " {'id': 682788441537560576, 'retweet_count': 1016, 'favorite_count': 2277},\n",
       " {'id': 682962037429899265, 'retweet_count': 14818, 'favorite_count': 33681},\n",
       " {'id': 683030066213818368, 'retweet_count': 666, 'favorite_count': 1994},\n",
       " {'id': 683078886620553216, 'retweet_count': 517, 'favorite_count': 1852},\n",
       " {'id': 683098815881154561, 'retweet_count': 587, 'favorite_count': 1991},\n",
       " {'id': 683111407806746624, 'retweet_count': 814, 'favorite_count': 3137},\n",
       " {'id': 683142553609318400, 'retweet_count': 931, 'favorite_count': 2638},\n",
       " {'id': 683357973142474752, 'retweet_count': 822, 'favorite_count': 2658},\n",
       " {'id': 683391852557561860, 'retweet_count': 2172, 'favorite_count': 7030},\n",
       " {'id': 683449695444799489, 'retweet_count': 1454, 'favorite_count': 3568},\n",
       " {'id': 683462770029932544, 'retweet_count': 620, 'favorite_count': 2236},\n",
       " {'id': 683481228088049664, 'retweet_count': 901, 'favorite_count': 2442},\n",
       " {'id': 683498322573824003, 'retweet_count': 872, 'favorite_count': 2922},\n",
       " {'id': 683742671509258241, 'retweet_count': 2993, 'favorite_count': 5957},\n",
       " {'id': 683773439333797890, 'retweet_count': 1218, 'favorite_count': 3060},\n",
       " {'id': 683828599284170753, 'retweet_count': 969, 'favorite_count': 2577},\n",
       " {'id': 683834909291606017, 'retweet_count': 1017, 'favorite_count': 2400},\n",
       " {'id': 683849932751646720, 'retweet_count': 850, 'favorite_count': 2408},\n",
       " {'id': 683852578183077888, 'retweet_count': 315, 'favorite_count': 1786},\n",
       " {'id': 683857920510050305, 'retweet_count': 1017, 'favorite_count': 3505},\n",
       " {'id': 684097758874210310, 'retweet_count': 1293, 'favorite_count': 3780},\n",
       " {'id': 684122891630342144, 'retweet_count': 425, 'favorite_count': 1858},\n",
       " {'id': 684177701129875456, 'retweet_count': 591, 'favorite_count': 1862},\n",
       " {'id': 684188786104872960, 'retweet_count': 1045, 'favorite_count': 3213},\n",
       " {'id': 684195085588783105, 'retweet_count': 453, 'favorite_count': 1754},\n",
       " {'id': 684200372118904832, 'retweet_count': 943, 'favorite_count': 1975},\n",
       " {'id': 684222868335505415, 'retweet_count': 1238, 'favorite_count': 3505},\n",
       " {'id': 684225744407494656, 'retweet_count': 183, 'favorite_count': 1137},\n",
       " {'id': 684241637099323392, 'retweet_count': 2939, 'favorite_count': 7463},\n",
       " {'id': 684460069371654144, 'retweet_count': 502, 'favorite_count': 1811},\n",
       " {'id': 684481074559381504, 'retweet_count': 1069, 'favorite_count': 3557},\n",
       " {'id': 684538444857667585, 'retweet_count': 852, 'favorite_count': 2432},\n",
       " {'id': 684567543613382656, 'retweet_count': 1101, 'favorite_count': 2752},\n",
       " {'id': 684594889858887680, 'retweet_count': 3164, 'favorite_count': 8161},\n",
       " {'id': 684800227459624960, 'retweet_count': 899, 'favorite_count': 2509},\n",
       " {'id': 684880619965411328, 'retweet_count': 722, 'favorite_count': 1918},\n",
       " {'id': 684902183876321280, 'retweet_count': 463, 'favorite_count': 1716},\n",
       " {'id': 684914660081053696, 'retweet_count': 1320, 'favorite_count': 3212},\n",
       " {'id': 684926975086034944, 'retweet_count': 417, 'favorite_count': 3210},\n",
       " {'id': 684940049151070208, 'retweet_count': 944, 'favorite_count': 2963},\n",
       " {'id': 684959798585110529, 'retweet_count': 2804, 'favorite_count': 6278},\n",
       " {'id': 685169283572338688, 'retweet_count': 1272, 'favorite_count': 3772},\n",
       " {'id': 685198997565345792, 'retweet_count': 588, 'favorite_count': 2135},\n",
       " {'id': 685268753634967552, 'retweet_count': 1070, 'favorite_count': 2832},\n",
       " {'id': 685307451701334016, 'retweet_count': 395, 'favorite_count': 1919},\n",
       " {'id': 685315239903100929, 'retweet_count': 942, 'favorite_count': 3026},\n",
       " {'id': 685321586178670592, 'retweet_count': 578, 'favorite_count': 2436},\n",
       " {'id': 685325112850124800, 'retweet_count': 3571, 'favorite_count': 8660},\n",
       " {'id': 685532292383666176, 'retweet_count': 1043, 'favorite_count': 2801},\n",
       " {'id': 685547936038666240, 'retweet_count': 14076, 'favorite_count': 30277},\n",
       " {'id': 685641971164143616, 'retweet_count': 694, 'favorite_count': 2682},\n",
       " {'id': 685663452032069632, 'retweet_count': 1330, 'favorite_count': 2968},\n",
       " {'id': 685667379192414208, 'retweet_count': 507, 'favorite_count': 2180},\n",
       " {'id': 685906723014619143, 'retweet_count': 2580, 'favorite_count': 6879},\n",
       " {'id': 685943807276412928, 'retweet_count': 533, 'favorite_count': 1495},\n",
       " {'id': 685973236358713344, 'retweet_count': 477, 'favorite_count': 1931},\n",
       " {'id': 686003207160610816, 'retweet_count': 562, 'favorite_count': 1678},\n",
       " {'id': 686007916130873345, 'retweet_count': 363, 'favorite_count': 2274},\n",
       " {'id': 686034024800862208, 'retweet_count': 1035, 'favorite_count': 2838},\n",
       " {'id': 686050296934563840, 'retweet_count': 665, 'favorite_count': 2065},\n",
       " {'id': 686358356425093120, 'retweet_count': 597, 'favorite_count': 1991},\n",
       " {'id': 686377065986265092, 'retweet_count': 514, 'favorite_count': 2043},\n",
       " {'id': 686386521809772549, 'retweet_count': 791, 'favorite_count': 3003},\n",
       " {'id': 686606069955735556, 'retweet_count': 490, 'favorite_count': 1748},\n",
       " {'id': 686618349602762752, 'retweet_count': 1237, 'favorite_count': 3404},\n",
       " {'id': 686683045143953408, 'retweet_count': 729, 'favorite_count': 2605},\n",
       " {'id': 686730991906516992, 'retweet_count': 1087, 'favorite_count': 3792},\n",
       " {'id': 686749460672679938, 'retweet_count': 1314, 'favorite_count': 3193},\n",
       " {'id': 686947101016735744, 'retweet_count': 2899, 'favorite_count': 7956},\n",
       " {'id': 687096057537363968, 'retweet_count': 551, 'favorite_count': 2072},\n",
       " {'id': 687102708889812993, 'retweet_count': 870, 'favorite_count': 2167},\n",
       " {'id': 687109925361856513, 'retweet_count': 2224, 'favorite_count': 5346},\n",
       " {'id': 687124485711986689, 'retweet_count': 460, 'favorite_count': 2014},\n",
       " {'id': 687127927494963200, 'retweet_count': 2046, 'favorite_count': 4962},\n",
       " {'id': 687312378585812992, 'retweet_count': 1726, 'favorite_count': 3997},\n",
       " {'id': 687317306314240000, 'retweet_count': 8323, 'favorite_count': 18601},\n",
       " {'id': 687460506001633280, 'retweet_count': 490, 'favorite_count': 1907},\n",
       " {'id': 687476254459715584, 'retweet_count': 481, 'favorite_count': 1824},\n",
       " {'id': 687480748861947905, 'retweet_count': 221, 'favorite_count': 1473},\n",
       " {'id': 687494652870668288, 'retweet_count': 527, 'favorite_count': 1753},\n",
       " {'id': 687664829264453632, 'retweet_count': 469, 'favorite_count': 1800},\n",
       " {'id': 687704180304273409, 'retweet_count': 764, 'favorite_count': 2237},\n",
       " {'id': 687807801670897665, 'retweet_count': 656, 'favorite_count': 2196},\n",
       " {'id': 687818504314159109, 'retweet_count': 861, 'favorite_count': 2278},\n",
       " {'id': 687826841265172480, 'retweet_count': 1007, 'favorite_count': 2513},\n",
       " {'id': 688064179421470721, 'retweet_count': 322, 'favorite_count': 1592},\n",
       " {'id': 688116655151435777, 'retweet_count': 696, 'favorite_count': 2604},\n",
       " {'id': 688179443353796608, 'retweet_count': 527, 'favorite_count': 1976},\n",
       " {'id': 688211956440801280, 'retweet_count': 751, 'favorite_count': 2072},\n",
       " {'id': 688385280030670848, 'retweet_count': 4074, 'favorite_count': 8509},\n",
       " {'id': 688519176466644993, 'retweet_count': 657, 'favorite_count': 2146},\n",
       " {'id': 688547210804498433, 'retweet_count': 626, 'favorite_count': 2393},\n",
       " {'id': 688789766343622656, 'retweet_count': 604, 'favorite_count': 2048},\n",
       " {'id': 688804835492233216, 'retweet_count': 168, 'favorite_count': 886},\n",
       " {'id': 688828561667567616, 'retweet_count': 321, 'favorite_count': 1271},\n",
       " {'id': 688894073864884227, 'retweet_count': 618, 'favorite_count': 2058},\n",
       " {'id': 688898160958271489, 'retweet_count': 709, 'favorite_count': 1922},\n",
       " {'id': 688908934925697024, 'retweet_count': 706, 'favorite_count': 1937},\n",
       " {'id': 688916208532455424, 'retweet_count': 772, 'favorite_count': 2491},\n",
       " {'id': 689143371370250240, 'retweet_count': 454, 'favorite_count': 1862},\n",
       " {'id': 689154315265683456, 'retweet_count': 895, 'favorite_count': 2854},\n",
       " {'id': 689275259254616065, 'retweet_count': 225, 'favorite_count': 1051},\n",
       " {'id': 689280876073582592, 'retweet_count': 638, 'favorite_count': 1819},\n",
       " {'id': 689283819090870273, 'retweet_count': 1004, 'favorite_count': 3009},\n",
       " {'id': 689289219123089408, 'retweet_count': 845, 'favorite_count': 2068},\n",
       " {'id': 689517482558820352, 'retweet_count': 1293, 'favorite_count': 3119},\n",
       " {'id': 689557536375177216, 'retweet_count': 403, 'favorite_count': 1893},\n",
       " {'id': 689599056876867584, 'retweet_count': 5005, 'favorite_count': 10733},\n",
       " {'id': 689623661272240129, 'retweet_count': 579, 'favorite_count': 2038},\n",
       " {'id': 689659372465688576, 'retweet_count': 3462, 'favorite_count': 9498},\n",
       " {'id': 689661964914655233, 'retweet_count': 850, 'favorite_count': 2990},\n",
       " {'id': 689835978131935233, 'retweet_count': 688, 'favorite_count': 2011},\n",
       " {'id': 689877686181715968, 'retweet_count': 1043, 'favorite_count': 2790},\n",
       " {'id': 689905486972461056, 'retweet_count': 622, 'favorite_count': 2253},\n",
       " {'id': 689977555533848577, 'retweet_count': 407, 'favorite_count': 1262},\n",
       " {'id': 689999384604450816, 'retweet_count': 328, 'favorite_count': 1303},\n",
       " {'id': 690005060500217858, 'retweet_count': 1533, 'favorite_count': 3380},\n",
       " {'id': 690015576308211712, 'retweet_count': 659, 'favorite_count': 2296},\n",
       " {'id': 690021994562220032, 'retweet_count': 922, 'favorite_count': 2580},\n",
       " {'id': 690248561355657216, 'retweet_count': 369, 'favorite_count': 1536},\n",
       " {'id': 690360449368465409, 'retweet_count': 789, 'favorite_count': 2440},\n",
       " {'id': 690374419777196032, 'retweet_count': 759, 'favorite_count': 2964},\n",
       " {'id': 690400367696297985, 'retweet_count': 406, 'favorite_count': 1741},\n",
       " {'id': 690597161306841088, 'retweet_count': 546, 'favorite_count': 1779},\n",
       " {'id': 690649993829576704, 'retweet_count': 248, 'favorite_count': 1199},\n",
       " {'id': 690690673629138944, 'retweet_count': 744, 'favorite_count': 2144},\n",
       " {'id': 690728923253055490, 'retweet_count': 465, 'favorite_count': 1994},\n",
       " {'id': 690735892932222976, 'retweet_count': 1149, 'favorite_count': 3490},\n",
       " {'id': 690932576555528194, 'retweet_count': 905, 'favorite_count': 3021},\n",
       " {'id': 690938899477221376, 'retweet_count': 1744, 'favorite_count': 3764},\n",
       " {'id': 690959652130045952, 'retweet_count': 1112, 'favorite_count': 3304},\n",
       " {'id': 691090071332753408, 'retweet_count': 305, 'favorite_count': 1603},\n",
       " {'id': 691096613310316544, 'retweet_count': 792, 'favorite_count': 2753},\n",
       " {'id': 691321916024623104, 'retweet_count': 599, 'favorite_count': 2377},\n",
       " {'id': 691416866452082688, 'retweet_count': 6894, 'favorite_count': 17807},\n",
       " {'id': 691444869282295808, 'retweet_count': 750, 'favorite_count': 2432},\n",
       " {'id': 691459709405118465, 'retweet_count': 1019, 'favorite_count': 3720},\n",
       " {'id': 691483041324204033, 'retweet_count': 500, 'favorite_count': 2195},\n",
       " {'id': 691675652215414786, 'retweet_count': 459, 'favorite_count': 1794},\n",
       " {'id': 691756958957883396, 'retweet_count': 884, 'favorite_count': 2594},\n",
       " {'id': 691820333922455552, 'retweet_count': 1488, 'favorite_count': 3636},\n",
       " {'id': 692017291282812928, 'retweet_count': 869, 'favorite_count': 2671},\n",
       " {'id': 692142790915014657, 'retweet_count': 353, 'favorite_count': 1509},\n",
       " {'id': 692158366030913536, 'retweet_count': 718, 'favorite_count': 1970},\n",
       " {'id': 692187005137076224, 'retweet_count': 743, 'favorite_count': 2330},\n",
       " {'id': 692417313023332352, 'retweet_count': 3131, 'favorite_count': 8637},\n",
       " {'id': 692530551048294401, 'retweet_count': 368, 'favorite_count': 1694},\n",
       " {'id': 692535307825213440, 'retweet_count': 1231, 'favorite_count': 2899},\n",
       " {'id': 692568918515392513, 'retweet_count': 1392, 'favorite_count': 4020},\n",
       " {'id': 692752401762250755, 'retweet_count': 3294, 'favorite_count': 6266},\n",
       " {'id': 692828166163931137, 'retweet_count': 795, 'favorite_count': 2652},\n",
       " {'id': 692894228850999298, 'retweet_count': 713, 'favorite_count': 2079},\n",
       " {'id': 692901601640583168, 'retweet_count': 536, 'favorite_count': 1612},\n",
       " {'id': 692905862751522816, 'retweet_count': 789, 'favorite_count': 2230},\n",
       " {'id': 692919143163629568, 'retweet_count': 695, 'favorite_count': 2489},\n",
       " {'id': 693095443459342336, 'retweet_count': 403, 'favorite_count': 1697},\n",
       " {'id': 693109034023534592, 'retweet_count': 549, 'favorite_count': 1559},\n",
       " {'id': 693155686491000832, 'retweet_count': 2889, 'favorite_count': 7253},\n",
       " {'id': 693231807727280129, 'retweet_count': 669, 'favorite_count': 2650},\n",
       " {'id': 693262851218264065, 'retweet_count': 452, 'favorite_count': 2039},\n",
       " {'id': 693280720173801472, 'retweet_count': 1120, 'favorite_count': 3082},\n",
       " {'id': 693486665285931008, 'retweet_count': 564, 'favorite_count': 1622},\n",
       " {'id': 693590843962331137, 'retweet_count': 1774, 'favorite_count': 4648},\n",
       " {'id': 693622659251335168, 'retweet_count': 336, 'favorite_count': 1415},\n",
       " {'id': 693629975228977152, 'retweet_count': 719, 'favorite_count': 2253},\n",
       " {'id': 693642232151285760, 'retweet_count': 376, 'favorite_count': 2346},\n",
       " {'id': 693647888581312512, 'retweet_count': 517, 'favorite_count': 2472},\n",
       " {'id': 693942351086120961, 'retweet_count': 328, 'favorite_count': 1619},\n",
       " {'id': 694001791655137281, 'retweet_count': 923, 'favorite_count': 3135},\n",
       " {'id': 694183373896572928, 'retweet_count': 842, 'favorite_count': 2703},\n",
       " {'id': 694206574471057408, 'retweet_count': 1847, 'favorite_count': 3809},\n",
       " {'id': 694329668942569472, 'retweet_count': 449, 'favorite_count': 1817},\n",
       " {'id': 694352839993344000, 'retweet_count': 538, 'favorite_count': 1874},\n",
       " {'id': 694356675654983680, 'retweet_count': 250, 'favorite_count': 1388},\n",
       " {'id': 694669722378485760, 'retweet_count': 13045, 'favorite_count': 32930},\n",
       " {'id': 694905863685980160, 'retweet_count': 834, 'favorite_count': 2532},\n",
       " {'id': 695051054296211456, 'retweet_count': 715, 'favorite_count': 2430},\n",
       " {'id': 695064344191721472, 'retweet_count': 527, 'favorite_count': 1474},\n",
       " {'id': 695074328191332352, 'retweet_count': 990, 'favorite_count': 2603},\n",
       " {'id': 695095422348574720, 'retweet_count': 549, 'favorite_count': 2449},\n",
       " {'id': 695314793360662529, 'retweet_count': 1294, 'favorite_count': 3324},\n",
       " {'id': 695409464418041856, 'retweet_count': 3234, 'favorite_count': 7971},\n",
       " {'id': 695446424020918272, 'retweet_count': 1649, 'favorite_count': 4082},\n",
       " {'id': 695629776980148225, 'retweet_count': 1890, 'favorite_count': 4183},\n",
       " {'id': 695767669421768709, 'retweet_count': 664, 'favorite_count': 1705},\n",
       " {'id': 695794761660297217, 'retweet_count': 705, 'favorite_count': 2913},\n",
       " {'id': 695816827381944320, 'retweet_count': 1051, 'favorite_count': 2755},\n",
       " {'id': 696405997980676096, 'retweet_count': 1050, 'favorite_count': 2920},\n",
       " {'id': 696488710901260288, 'retweet_count': 925, 'favorite_count': 2304},\n",
       " {'id': 696713835009417216, 'retweet_count': 583, 'favorite_count': 2169},\n",
       " {'id': 696754882863349760, 'retweet_count': 328, 'favorite_count': 1370},\n",
       " {'id': 696877980375769088, 'retweet_count': 636, 'favorite_count': 2249},\n",
       " {'id': 696886256886657024, 'retweet_count': 1625, 'favorite_count': 4439},\n",
       " {'id': 696894894812565505, 'retweet_count': 615, 'favorite_count': 2162},\n",
       " {'id': 696900204696625153, 'retweet_count': 933, 'favorite_count': 2907},\n",
       " {'id': 697242256848379904, 'retweet_count': 615, 'favorite_count': 2321},\n",
       " {'id': 697255105972801536, 'retweet_count': 1052, 'favorite_count': 2837},\n",
       " {'id': 697259378236399616, 'retweet_count': 900, 'favorite_count': 3034},\n",
       " {'id': 697270446429966336, 'retweet_count': 1712, 'favorite_count': 4339},\n",
       " {'id': 697463031882764288, 'retweet_count': 1267, 'favorite_count': 3161},\n",
       " {'id': 697482927769255936, 'retweet_count': 598, 'favorite_count': 2231},\n",
       " {'id': 697575480820686848, 'retweet_count': 452, 'favorite_count': 1882},\n",
       " {'id': 697596423848730625, 'retweet_count': 1131, 'favorite_count': 2767},\n",
       " {'id': 697616773278015490, 'retweet_count': 921, 'favorite_count': 2890},\n",
       " {'id': 697881462549430272, 'retweet_count': 1054, 'favorite_count': 2774},\n",
       " {'id': 697943111201378304, 'retweet_count': 613, 'favorite_count': 2193},\n",
       " {'id': 697990423684476929, 'retweet_count': 1167, 'favorite_count': 3010},\n",
       " {'id': 697995514407682048, 'retweet_count': 305, 'favorite_count': 1408},\n",
       " {'id': 698178924120031232, 'retweet_count': 674, 'favorite_count': 2584},\n",
       " {'id': 698195409219559425, 'retweet_count': 5437, 'favorite_count': 15472},\n",
       " {'id': 698262614669991936, 'retweet_count': 1792, 'favorite_count': 4388},\n",
       " {'id': 698342080612007937, 'retweet_count': 868, 'favorite_count': 2072},\n",
       " {'id': 698355670425473025, 'retweet_count': 394, 'favorite_count': 1701},\n",
       " {'id': 698549713696649216, 'retweet_count': 558, 'favorite_count': 2146},\n",
       " {'id': 698635131305795584, 'retweet_count': 312, 'favorite_count': 1199},\n",
       " {'id': 698703483621523456, 'retweet_count': 335, 'favorite_count': 1316},\n",
       " {'id': 698710712454139905, 'retweet_count': 616, 'favorite_count': 2261},\n",
       " {'id': 698907974262222848, 'retweet_count': 553, 'favorite_count': 2333},\n",
       " {'id': 698953797952008193, 'retweet_count': 824, 'favorite_count': 2477},\n",
       " {'id': 698989035503689728, 'retweet_count': 876, 'favorite_count': 3072},\n",
       " {'id': 699036661657767936, 'retweet_count': 1088, 'favorite_count': 2395},\n",
       " {'id': 699072405256409088, 'retweet_count': 1076, 'favorite_count': 2708},\n",
       " {'id': 699079609774645248, 'retweet_count': 570, 'favorite_count': 2253},\n",
       " {'id': 699088579889332224, 'retweet_count': 561, 'favorite_count': 2078},\n",
       " {'id': 699323444782047232, 'retweet_count': 783, 'favorite_count': 2888},\n",
       " {'id': 699370870310113280, 'retweet_count': 391, 'favorite_count': 1746},\n",
       " {'id': 699413908797464576, 'retweet_count': 569, 'favorite_count': 1926},\n",
       " {'id': 699423671849451520, 'retweet_count': 287, 'favorite_count': 1248},\n",
       " {'id': 699434518667751424, 'retweet_count': 464, 'favorite_count': 2023},\n",
       " {'id': 699446877801091073, 'retweet_count': 2393, 'favorite_count': 5496},\n",
       " {'id': 699691744225525762, 'retweet_count': 4148, 'favorite_count': 9425},\n",
       " {'id': 699775878809702401, 'retweet_count': 538, 'favorite_count': 1799},\n",
       " {'id': 699779630832685056, 'retweet_count': 1104, 'favorite_count': 2496},\n",
       " {'id': 699788877217865730, 'retweet_count': 469, 'favorite_count': 2055},\n",
       " {'id': 699801817392291840, 'retweet_count': 846, 'favorite_count': 2767},\n",
       " {'id': 700002074055016451, 'retweet_count': 1198, 'favorite_count': 3023},\n",
       " {'id': 700029284593901568, 'retweet_count': 528, 'favorite_count': 1912},\n",
       " {'id': 700062718104104960, 'retweet_count': 611, 'favorite_count': 2443},\n",
       " {'id': 700143752053182464, 'retweet_count': 2427, 'favorite_count': 6905},\n",
       " {'id': 700151421916807169, 'retweet_count': 607, 'favorite_count': 2050},\n",
       " {'id': 700167517596164096, 'retweet_count': 652, 'favorite_count': 2425},\n",
       " {'id': 700462010979500032, 'retweet_count': 1622, 'favorite_count': 3775},\n",
       " {'id': 700505138482569216, 'retweet_count': 521, 'favorite_count': 2096},\n",
       " {'id': 700518061187723268, 'retweet_count': 720, 'favorite_count': 2386},\n",
       " {'id': 700747788515020802, 'retweet_count': 8414, 'favorite_count': 20979},\n",
       " {'id': 700796979434098688, 'retweet_count': 855, 'favorite_count': 2250},\n",
       " {'id': 700847567345688576, 'retweet_count': 449, 'favorite_count': 2267},\n",
       " {'id': 700864154249383937, 'retweet_count': 555, 'favorite_count': 2391},\n",
       " {'id': 700890391244103680, 'retweet_count': 509, 'favorite_count': 2035},\n",
       " {'id': 701214700881756160, 'retweet_count': 4624, 'favorite_count': 11247},\n",
       " {'id': 701545186879471618, 'retweet_count': 549, 'favorite_count': 2445},\n",
       " {'id': 701570477911896070, 'retweet_count': 837, 'favorite_count': 2571},\n",
       " {'id': 701601587219795968, 'retweet_count': 415, 'favorite_count': 1922},\n",
       " {'id': 701889187134500865, 'retweet_count': 1254, 'favorite_count': 3236},\n",
       " {'id': 701952816642965504, 'retweet_count': 927, 'favorite_count': 3534},\n",
       " {'id': 701981390485725185, 'retweet_count': 888, 'favorite_count': 3147},\n",
       " {'id': 702217446468493312, 'retweet_count': 1222, 'favorite_count': 4378},\n",
       " {'id': 702276748847800320, 'retweet_count': 694, 'favorite_count': 2278},\n",
       " {'id': 702321140488925184, 'retweet_count': 948, 'favorite_count': 3018},\n",
       " {'id': 702539513671897089, 'retweet_count': 864, 'favorite_count': 2636},\n",
       " {'id': 702598099714314240, 'retweet_count': 3126, 'favorite_count': 11300},\n",
       " {'id': 702671118226825216, 'retweet_count': 506, 'favorite_count': 2015},\n",
       " {'id': 702684942141153280, 'retweet_count': 963, 'favorite_count': 2968},\n",
       " {'id': 702932127499816960, 'retweet_count': 650, 'favorite_count': 2366},\n",
       " {'id': 703041949650034688, 'retweet_count': 11284, 'favorite_count': 24291},\n",
       " {'id': 703079050210877440, 'retweet_count': 2796, 'favorite_count': 6793},\n",
       " {'id': 703268521220972544, 'retweet_count': 494, 'favorite_count': 1821},\n",
       " {'id': 703356393781329922, 'retweet_count': 344, 'favorite_count': 1761},\n",
       " {'id': 703382836347330562, 'retweet_count': 1026, 'favorite_count': 3212},\n",
       " {'id': 703407252292673536, 'retweet_count': 623, 'favorite_count': 2252},\n",
       " {'id': 703425003149250560, 'retweet_count': 1217, 'favorite_count': 3491},\n",
       " {'id': 703611486317502464, 'retweet_count': 1379, 'favorite_count': 3532},\n",
       " {'id': 703631701117943808, 'retweet_count': 600, 'favorite_count': 2357},\n",
       " {'id': 703769065844768768, 'retweet_count': 1018, 'favorite_count': 3008},\n",
       " {'id': 703774238772166656, 'retweet_count': 404, 'favorite_count': 1698},\n",
       " {'id': 704054845121142784, 'retweet_count': 841, 'favorite_count': 2688},\n",
       " {'id': 704113298707505153, 'retweet_count': 519, 'favorite_count': 1711},\n",
       " {'id': 704347321748819968, 'retweet_count': 313, 'favorite_count': 1443},\n",
       " {'id': 704364645503647744, 'retweet_count': 3225, 'favorite_count': 7319},\n",
       " {'id': 704480331685040129, 'retweet_count': 978, 'favorite_count': 3138},\n",
       " {'id': 704499785726889984, 'retweet_count': 901, 'favorite_count': 2652},\n",
       " {'id': 704761120771465216, 'retweet_count': 2617, 'favorite_count': 6119},\n",
       " {'id': 704819833553219584, 'retweet_count': 895, 'favorite_count': 2444},\n",
       " {'id': 704847917308362754, 'retweet_count': 1363, 'favorite_count': 4685},\n",
       " {'id': 704859558691414016, 'retweet_count': 476, 'favorite_count': 2067},\n",
       " {'id': 704871453724954624, 'retweet_count': 1014, 'favorite_count': 3953},\n",
       " {'id': 705066031337840642, 'retweet_count': 556, 'favorite_count': 2005},\n",
       " {'id': 705102439679201280, 'retweet_count': 472, 'favorite_count': 1954},\n",
       " {'id': 705223444686888960, 'retweet_count': 712, 'favorite_count': 2366},\n",
       " {'id': 705239209544720384, 'retweet_count': 676, 'favorite_count': 2767},\n",
       " {'id': 705428427625635840, 'retweet_count': 1515, 'favorite_count': 3499},\n",
       " {'id': 705442520700944385, 'retweet_count': 1455, 'favorite_count': 4051},\n",
       " {'id': 705475953783398401, 'retweet_count': 823, 'favorite_count': 2733},\n",
       " {'id': 705591895322394625, 'retweet_count': 1026, 'favorite_count': 2905},\n",
       " {'id': 705786532653883392, 'retweet_count': 466, 'favorite_count': 1788},\n",
       " {'id': 705898680587526145, 'retweet_count': 494, 'favorite_count': 2176},\n",
       " {'id': 705970349788291072, 'retweet_count': 794, 'favorite_count': 2919},\n",
       " {'id': 705975130514706432, 'retweet_count': 661, 'favorite_count': 2858},\n",
       " {'id': 706166467411222528, 'retweet_count': 1445, 'favorite_count': 4713},\n",
       " {'id': 706265994973601792, 'retweet_count': 847, 'favorite_count': 2513},\n",
       " {'id': 706291001778950144, 'retweet_count': 434, 'favorite_count': 1566},\n",
       " {'id': 706310011488698368, 'retweet_count': 7117, 'favorite_count': 19484},\n",
       " {'id': 706346369204748288, 'retweet_count': 841, 'favorite_count': 3161},\n",
       " {'id': 706516534877929472, 'retweet_count': 929, 'favorite_count': 2869},\n",
       " {'id': 706538006853918722, 'retweet_count': 1286, 'favorite_count': 3180},\n",
       " {'id': 706593038911545345, 'retweet_count': 580, 'favorite_count': 1980},\n",
       " {'id': 706644897839910912, 'retweet_count': 982, 'favorite_count': 2337},\n",
       " {'id': 706681918348251136, 'retweet_count': 889, 'favorite_count': 3021},\n",
       " {'id': 706901761596989440, 'retweet_count': 521, 'favorite_count': 1878},\n",
       " {'id': 707014260413456384, 'retweet_count': 538, 'favorite_count': 2109},\n",
       " {'id': 707021089608753152, 'retweet_count': 1220, 'favorite_count': 3717},\n",
       " {'id': 707038192327901184, 'retweet_count': 716, 'favorite_count': 2012},\n",
       " {'id': 707059547140169728, 'retweet_count': 619, 'favorite_count': 2396},\n",
       " {'id': 707297311098011648, 'retweet_count': 707, 'favorite_count': 2577},\n",
       " {'id': 707315916783140866, 'retweet_count': 576, 'favorite_count': 2281},\n",
       " {'id': 707377100785885184, 'retweet_count': 975, 'favorite_count': 3008},\n",
       " {'id': 707387676719185920, 'retweet_count': 1144, 'favorite_count': 3208},\n",
       " {'id': 707411934438625280, 'retweet_count': 543, 'favorite_count': 2116},\n",
       " {'id': 707420581654872064, 'retweet_count': 632, 'favorite_count': 2067},\n",
       " {'id': 707610948723478529, 'retweet_count': 5705, 'favorite_count': 15558},\n",
       " {'id': 707693576495472641, 'retweet_count': 915, 'favorite_count': 3120},\n",
       " {'id': 707741517457260545, 'retweet_count': 554, 'favorite_count': 2287},\n",
       " {'id': 707776935007539200, 'retweet_count': 871, 'favorite_count': 3004},\n",
       " {'id': 707969809498152960, 'retweet_count': 866, 'favorite_count': 2481},\n",
       " {'id': 707995814724026368, 'retweet_count': 1013, 'favorite_count': 2862},\n",
       " {'id': 708026248782585858, 'retweet_count': 1747, 'favorite_count': 4058},\n",
       " {'id': 708109389455101952, 'retweet_count': 501, 'favorite_count': 1797},\n",
       " {'id': 708119489313951744, 'retweet_count': 896, 'favorite_count': 2471},\n",
       " {'id': 708130923141795840, 'retweet_count': 784, 'favorite_count': 3090},\n",
       " {'id': 708149363256774660, 'retweet_count': 1412, 'favorite_count': 3979},\n",
       " {'id': 708349470027751425, 'retweet_count': 676, 'favorite_count': 2183},\n",
       " {'id': 708356463048204288, 'retweet_count': 1198, 'favorite_count': 3296},\n",
       " {'id': 708469915515297792, 'retweet_count': 729, 'favorite_count': 2847},\n",
       " {'id': 708479650088034305, 'retweet_count': 616, 'favorite_count': 2339},\n",
       " {'id': 708711088997666817, 'retweet_count': 638, 'favorite_count': 2332},\n",
       " ...]"
      ]
     },
     "execution_count": 25,
     "metadata": {},
     "output_type": "execute_result"
    }
   ],
   "source": [
    "we_rate"
   ]
  },
  {
   "cell_type": "code",
   "execution_count": 26,
   "metadata": {},
   "outputs": [],
   "source": [
    "#convert list to dataframe\n",
    "we_rate_dogs=pd.DataFrame(we_rate,columns=[\"id\",\"retweet_count\",\"favorite_count\"] )"
   ]
  },
  {
   "cell_type": "code",
   "execution_count": 27,
   "metadata": {},
   "outputs": [
    {
     "data": {
      "text/html": [
       "<div>\n",
       "<style scoped>\n",
       "    .dataframe tbody tr th:only-of-type {\n",
       "        vertical-align: middle;\n",
       "    }\n",
       "\n",
       "    .dataframe tbody tr th {\n",
       "        vertical-align: top;\n",
       "    }\n",
       "\n",
       "    .dataframe thead th {\n",
       "        text-align: right;\n",
       "    }\n",
       "</style>\n",
       "<table border=\"1\" class=\"dataframe\">\n",
       "  <thead>\n",
       "    <tr style=\"text-align: right;\">\n",
       "      <th></th>\n",
       "      <th>id</th>\n",
       "      <th>retweet_count</th>\n",
       "      <th>favorite_count</th>\n",
       "    </tr>\n",
       "  </thead>\n",
       "  <tbody>\n",
       "    <tr>\n",
       "      <th>0</th>\n",
       "      <td>666020888022790149</td>\n",
       "      <td>419</td>\n",
       "      <td>2281</td>\n",
       "    </tr>\n",
       "    <tr>\n",
       "      <th>1</th>\n",
       "      <td>666029285002620928</td>\n",
       "      <td>39</td>\n",
       "      <td>112</td>\n",
       "    </tr>\n",
       "    <tr>\n",
       "      <th>2</th>\n",
       "      <td>666033412701032449</td>\n",
       "      <td>36</td>\n",
       "      <td>100</td>\n",
       "    </tr>\n",
       "    <tr>\n",
       "      <th>3</th>\n",
       "      <td>666044226329800704</td>\n",
       "      <td>115</td>\n",
       "      <td>245</td>\n",
       "    </tr>\n",
       "    <tr>\n",
       "      <th>4</th>\n",
       "      <td>666049248165822465</td>\n",
       "      <td>36</td>\n",
       "      <td>88</td>\n",
       "    </tr>\n",
       "    <tr>\n",
       "      <th>...</th>\n",
       "      <td>...</td>\n",
       "      <td>...</td>\n",
       "      <td>...</td>\n",
       "    </tr>\n",
       "    <tr>\n",
       "      <th>2052</th>\n",
       "      <td>891327558926688256</td>\n",
       "      <td>7715</td>\n",
       "      <td>35178</td>\n",
       "    </tr>\n",
       "    <tr>\n",
       "      <th>2053</th>\n",
       "      <td>891689557279858688</td>\n",
       "      <td>7183</td>\n",
       "      <td>36737</td>\n",
       "    </tr>\n",
       "    <tr>\n",
       "      <th>2054</th>\n",
       "      <td>891815181378084864</td>\n",
       "      <td>3464</td>\n",
       "      <td>21971</td>\n",
       "    </tr>\n",
       "    <tr>\n",
       "      <th>2055</th>\n",
       "      <td>892177421306343426</td>\n",
       "      <td>5272</td>\n",
       "      <td>29207</td>\n",
       "    </tr>\n",
       "    <tr>\n",
       "      <th>2056</th>\n",
       "      <td>892420643555336193</td>\n",
       "      <td>6968</td>\n",
       "      <td>33693</td>\n",
       "    </tr>\n",
       "  </tbody>\n",
       "</table>\n",
       "<p>2057 rows × 3 columns</p>\n",
       "</div>"
      ],
      "text/plain": [
       "                      id  retweet_count  favorite_count\n",
       "0     666020888022790149            419            2281\n",
       "1     666029285002620928             39             112\n",
       "2     666033412701032449             36             100\n",
       "3     666044226329800704            115             245\n",
       "4     666049248165822465             36              88\n",
       "...                  ...            ...             ...\n",
       "2052  891327558926688256           7715           35178\n",
       "2053  891689557279858688           7183           36737\n",
       "2054  891815181378084864           3464           21971\n",
       "2055  892177421306343426           5272           29207\n",
       "2056  892420643555336193           6968           33693\n",
       "\n",
       "[2057 rows x 3 columns]"
      ]
     },
     "execution_count": 27,
     "metadata": {},
     "output_type": "execute_result"
    }
   ],
   "source": [
    "we_rate_dogs"
   ]
  },
  {
   "cell_type": "markdown",
   "metadata": {
    "extensions": {
     "jupyter_dashboards": {
      "version": 1,
      "views": {
       "grid_default": {
        "col": 4,
        "height": 4,
        "hidden": false,
        "row": 28,
        "width": 4
       },
       "report_default": {
        "hidden": false
       }
      }
     }
    }
   },
   "source": [
    "## Assessing Data\n",
    "In this section, detect and document at least **eight (8) quality issues and two (2) tidiness issue**. You must use **both** visual assessment\n",
    "programmatic assessement to assess the data.\n",
    "\n",
    "**Note:** pay attention to the following key points when you access the data.\n",
    "\n",
    "* You only want original ratings (no retweets) that have images. Though there are 5000+ tweets in the dataset, not all are dog ratings and some are retweets.\n",
    "* Assessing and cleaning the entire dataset completely would require a lot of time, and is not necessary to practice and demonstrate your skills in data wrangling. Therefore, the requirements of this project are only to assess and clean at least 8 quality issues and at least 2 tidiness issues in this dataset.\n",
    "* The fact that the rating numerators are greater than the denominators does not need to be cleaned. This [unique rating system](http://knowyourmeme.com/memes/theyre-good-dogs-brent) is a big part of the popularity of WeRateDogs.\n",
    "* You do not need to gather the tweets beyond August 1st, 2017. You can, but note that you won't be able to gather the image predictions for these tweets since you don't have access to the algorithm used.\n",
    "\n"
   ]
  },
  {
   "cell_type": "code",
   "execution_count": 258,
   "metadata": {},
   "outputs": [],
   "source": [
    "#copy the original dataset\n",
    "archive=twitter_archive.copy()\n",
    "predictions=image_predictions.copy()\n",
    "rate=we_rate_dogs.copy()"
   ]
  },
  {
   "cell_type": "code",
   "execution_count": 259,
   "metadata": {},
   "outputs": [
    {
     "data": {
      "text/html": [
       "<div>\n",
       "<style scoped>\n",
       "    .dataframe tbody tr th:only-of-type {\n",
       "        vertical-align: middle;\n",
       "    }\n",
       "\n",
       "    .dataframe tbody tr th {\n",
       "        vertical-align: top;\n",
       "    }\n",
       "\n",
       "    .dataframe thead th {\n",
       "        text-align: right;\n",
       "    }\n",
       "</style>\n",
       "<table border=\"1\" class=\"dataframe\">\n",
       "  <thead>\n",
       "    <tr style=\"text-align: right;\">\n",
       "      <th></th>\n",
       "      <th>tweet_id</th>\n",
       "      <th>in_reply_to_status_id</th>\n",
       "      <th>in_reply_to_user_id</th>\n",
       "      <th>timestamp</th>\n",
       "      <th>source</th>\n",
       "      <th>text</th>\n",
       "      <th>retweeted_status_id</th>\n",
       "      <th>retweeted_status_user_id</th>\n",
       "      <th>retweeted_status_timestamp</th>\n",
       "      <th>expanded_urls</th>\n",
       "      <th>rating_numerator</th>\n",
       "      <th>rating_denominator</th>\n",
       "      <th>name</th>\n",
       "      <th>doggo</th>\n",
       "      <th>floofer</th>\n",
       "      <th>pupper</th>\n",
       "      <th>puppo</th>\n",
       "    </tr>\n",
       "  </thead>\n",
       "  <tbody>\n",
       "    <tr>\n",
       "      <th>939</th>\n",
       "      <td>753039830821511168</td>\n",
       "      <td>NaN</td>\n",
       "      <td>NaN</td>\n",
       "      <td>2016-07-13 01:34:21 +0000</td>\n",
       "      <td>&lt;a href=\"http://vine.co\" rel=\"nofollow\"&gt;Vine -...</td>\n",
       "      <td>So this just changed my life. 13/10 please enj...</td>\n",
       "      <td>NaN</td>\n",
       "      <td>NaN</td>\n",
       "      <td>NaN</td>\n",
       "      <td>https://vine.co/v/5W2Dg3XPX7a</td>\n",
       "      <td>13</td>\n",
       "      <td>10</td>\n",
       "      <td>None</td>\n",
       "      <td>None</td>\n",
       "      <td>None</td>\n",
       "      <td>None</td>\n",
       "      <td>None</td>\n",
       "    </tr>\n",
       "    <tr>\n",
       "      <th>291</th>\n",
       "      <td>838085839343206401</td>\n",
       "      <td>8.380855e+17</td>\n",
       "      <td>2.894131e+09</td>\n",
       "      <td>2017-03-04 17:56:49 +0000</td>\n",
       "      <td>&lt;a href=\"http://twitter.com/download/iphone\" r...</td>\n",
       "      <td>@bragg6of8 @Andy_Pace_ we are still looking fo...</td>\n",
       "      <td>NaN</td>\n",
       "      <td>NaN</td>\n",
       "      <td>NaN</td>\n",
       "      <td>NaN</td>\n",
       "      <td>15</td>\n",
       "      <td>10</td>\n",
       "      <td>None</td>\n",
       "      <td>None</td>\n",
       "      <td>None</td>\n",
       "      <td>None</td>\n",
       "      <td>None</td>\n",
       "    </tr>\n",
       "    <tr>\n",
       "      <th>689</th>\n",
       "      <td>787717603741622272</td>\n",
       "      <td>NaN</td>\n",
       "      <td>NaN</td>\n",
       "      <td>2016-10-16 18:11:26 +0000</td>\n",
       "      <td>&lt;a href=\"http://twitter.com/download/iphone\" r...</td>\n",
       "      <td>This is Tonks. She is a service puppo. Can hea...</td>\n",
       "      <td>NaN</td>\n",
       "      <td>NaN</td>\n",
       "      <td>NaN</td>\n",
       "      <td>https://twitter.com/dog_rates/status/787717603...</td>\n",
       "      <td>13</td>\n",
       "      <td>10</td>\n",
       "      <td>Tonks</td>\n",
       "      <td>None</td>\n",
       "      <td>None</td>\n",
       "      <td>None</td>\n",
       "      <td>puppo</td>\n",
       "    </tr>\n",
       "    <tr>\n",
       "      <th>2146</th>\n",
       "      <td>669923323644657664</td>\n",
       "      <td>NaN</td>\n",
       "      <td>NaN</td>\n",
       "      <td>2015-11-26 16:59:01 +0000</td>\n",
       "      <td>&lt;a href=\"http://twitter.com/download/iphone\" r...</td>\n",
       "      <td>This is a spotted Lipitor Rumpelstiltskin name...</td>\n",
       "      <td>NaN</td>\n",
       "      <td>NaN</td>\n",
       "      <td>NaN</td>\n",
       "      <td>https://twitter.com/dog_rates/status/669923323...</td>\n",
       "      <td>10</td>\n",
       "      <td>10</td>\n",
       "      <td>a</td>\n",
       "      <td>None</td>\n",
       "      <td>None</td>\n",
       "      <td>None</td>\n",
       "      <td>None</td>\n",
       "    </tr>\n",
       "    <tr>\n",
       "      <th>1563</th>\n",
       "      <td>688179443353796608</td>\n",
       "      <td>NaN</td>\n",
       "      <td>NaN</td>\n",
       "      <td>2016-01-16 02:02:19 +0000</td>\n",
       "      <td>&lt;a href=\"http://twitter.com/download/iphone\" r...</td>\n",
       "      <td>This is Lizzie. She's about to fist bump the l...</td>\n",
       "      <td>NaN</td>\n",
       "      <td>NaN</td>\n",
       "      <td>NaN</td>\n",
       "      <td>https://twitter.com/dog_rates/status/688179443...</td>\n",
       "      <td>10</td>\n",
       "      <td>10</td>\n",
       "      <td>Lizzie</td>\n",
       "      <td>None</td>\n",
       "      <td>None</td>\n",
       "      <td>pupper</td>\n",
       "      <td>None</td>\n",
       "    </tr>\n",
       "  </tbody>\n",
       "</table>\n",
       "</div>"
      ],
      "text/plain": [
       "                tweet_id  in_reply_to_status_id  in_reply_to_user_id  \\\n",
       "939   753039830821511168                    NaN                  NaN   \n",
       "291   838085839343206401           8.380855e+17         2.894131e+09   \n",
       "689   787717603741622272                    NaN                  NaN   \n",
       "2146  669923323644657664                    NaN                  NaN   \n",
       "1563  688179443353796608                    NaN                  NaN   \n",
       "\n",
       "                      timestamp  \\\n",
       "939   2016-07-13 01:34:21 +0000   \n",
       "291   2017-03-04 17:56:49 +0000   \n",
       "689   2016-10-16 18:11:26 +0000   \n",
       "2146  2015-11-26 16:59:01 +0000   \n",
       "1563  2016-01-16 02:02:19 +0000   \n",
       "\n",
       "                                                 source  \\\n",
       "939   <a href=\"http://vine.co\" rel=\"nofollow\">Vine -...   \n",
       "291   <a href=\"http://twitter.com/download/iphone\" r...   \n",
       "689   <a href=\"http://twitter.com/download/iphone\" r...   \n",
       "2146  <a href=\"http://twitter.com/download/iphone\" r...   \n",
       "1563  <a href=\"http://twitter.com/download/iphone\" r...   \n",
       "\n",
       "                                                   text  retweeted_status_id  \\\n",
       "939   So this just changed my life. 13/10 please enj...                  NaN   \n",
       "291   @bragg6of8 @Andy_Pace_ we are still looking fo...                  NaN   \n",
       "689   This is Tonks. She is a service puppo. Can hea...                  NaN   \n",
       "2146  This is a spotted Lipitor Rumpelstiltskin name...                  NaN   \n",
       "1563  This is Lizzie. She's about to fist bump the l...                  NaN   \n",
       "\n",
       "      retweeted_status_user_id retweeted_status_timestamp  \\\n",
       "939                        NaN                        NaN   \n",
       "291                        NaN                        NaN   \n",
       "689                        NaN                        NaN   \n",
       "2146                       NaN                        NaN   \n",
       "1563                       NaN                        NaN   \n",
       "\n",
       "                                          expanded_urls  rating_numerator  \\\n",
       "939                       https://vine.co/v/5W2Dg3XPX7a                13   \n",
       "291                                                 NaN                15   \n",
       "689   https://twitter.com/dog_rates/status/787717603...                13   \n",
       "2146  https://twitter.com/dog_rates/status/669923323...                10   \n",
       "1563  https://twitter.com/dog_rates/status/688179443...                10   \n",
       "\n",
       "      rating_denominator    name doggo floofer  pupper  puppo  \n",
       "939                   10    None  None    None    None   None  \n",
       "291                   10    None  None    None    None   None  \n",
       "689                   10   Tonks  None    None    None  puppo  \n",
       "2146                  10       a  None    None    None   None  \n",
       "1563                  10  Lizzie  None    None  pupper   None  "
      ]
     },
     "execution_count": 259,
     "metadata": {},
     "output_type": "execute_result"
    }
   ],
   "source": [
    "archive.sample(5)"
   ]
  },
  {
   "cell_type": "code",
   "execution_count": 260,
   "metadata": {},
   "outputs": [
    {
     "data": {
      "text/plain": [
       "77"
      ]
     },
     "execution_count": 260,
     "metadata": {},
     "output_type": "execute_result"
    }
   ],
   "source": [
    "archive.in_reply_to_status_id.nunique()"
   ]
  },
  {
   "cell_type": "code",
   "execution_count": 261,
   "metadata": {},
   "outputs": [
    {
     "name": "stdout",
     "output_type": "stream",
     "text": [
      "<class 'pandas.core.frame.DataFrame'>\n",
      "RangeIndex: 2356 entries, 0 to 2355\n",
      "Data columns (total 17 columns):\n",
      " #   Column                      Non-Null Count  Dtype  \n",
      "---  ------                      --------------  -----  \n",
      " 0   tweet_id                    2356 non-null   int64  \n",
      " 1   in_reply_to_status_id       78 non-null     float64\n",
      " 2   in_reply_to_user_id         78 non-null     float64\n",
      " 3   timestamp                   2356 non-null   object \n",
      " 4   source                      2356 non-null   object \n",
      " 5   text                        2356 non-null   object \n",
      " 6   retweeted_status_id         181 non-null    float64\n",
      " 7   retweeted_status_user_id    181 non-null    float64\n",
      " 8   retweeted_status_timestamp  181 non-null    object \n",
      " 9   expanded_urls               2297 non-null   object \n",
      " 10  rating_numerator            2356 non-null   int64  \n",
      " 11  rating_denominator          2356 non-null   int64  \n",
      " 12  name                        2356 non-null   object \n",
      " 13  doggo                       2356 non-null   object \n",
      " 14  floofer                     2356 non-null   object \n",
      " 15  pupper                      2356 non-null   object \n",
      " 16  puppo                       2356 non-null   object \n",
      "dtypes: float64(4), int64(3), object(10)\n",
      "memory usage: 313.0+ KB\n"
     ]
    }
   ],
   "source": [
    "archive.info()"
   ]
  },
  {
   "cell_type": "code",
   "execution_count": 262,
   "metadata": {},
   "outputs": [
    {
     "data": {
      "text/plain": [
       "array([           nan, 8.87473957e+17, 8.86053734e+17, 8.30583321e+17,\n",
       "       8.78057613e+17, 8.78281511e+17, 6.69000397e+17, 8.76850772e+17,\n",
       "       8.66334965e+17, 8.68880398e+17, 8.73213776e+17, 8.72657584e+17,\n",
       "       8.41077006e+17, 8.59196979e+17, 8.68552279e+17, 8.65013420e+17,\n",
       "       8.66450706e+17, 8.37820168e+17, 8.63062472e+17, 8.06629075e+17,\n",
       "       8.60563773e+17, 8.60914485e+17, 7.61672994e+17, 8.39549326e+17,\n",
       "       8.57061112e+17, 8.44704788e+17, 8.56330159e+17, 8.42163533e+17,\n",
       "       8.55122533e+17, 8.31650052e+17, 8.29374342e+17, 8.48289382e+17,\n",
       "       8.33124695e+17, 8.32369877e+17, 8.47971000e+17, 7.56288534e+17,\n",
       "       7.73308824e+17, 8.07106841e+17, 8.17423860e+17, 8.40632337e+17,\n",
       "       6.67152164e+17, 8.39289919e+17, 8.38905981e+17, 7.83839966e+17,\n",
       "       8.20749717e+17, 8.37011345e+17, 8.36648149e+17, 8.17827839e+17,\n",
       "       7.86963064e+17, 8.35264099e+17, 7.53039831e+17, 8.29501995e+17,\n",
       "       8.32434358e+17, 8.32766382e+17, 7.86709083e+17, 7.93286476e+17,\n",
       "       7.69940426e+17, 8.09220051e+17, 8.26958653e+17, 8.10254108e+17,\n",
       "       6.94669722e+17, 8.09920764e+17, 8.25026591e+17, 7.95076730e+17,\n",
       "       7.84057940e+17, 8.22244817e+17, 8.22489057e+17, 7.86233965e+17,\n",
       "       7.80601304e+17, 7.82305868e+17, 8.19227688e+17, 8.20314634e+17,\n",
       "       8.00141422e+17, 8.19952236e+17, 8.19004803e+17, 8.19006401e+17,\n",
       "       8.08344866e+17, 7.73547597e+17, 8.16450571e+17, 6.92417313e+17,\n",
       "       8.15966073e+17, 7.90946056e+17, 8.15990721e+17, 7.32005617e+17,\n",
       "       7.91406956e+17, 6.98195409e+17, 7.90277117e+17, 6.80055456e+17,\n",
       "       7.93962222e+17, 8.01167903e+17, 7.82969140e+17, 7.81524693e+17,\n",
       "       7.83334640e+17, 7.82722599e+17, 7.84183166e+17, 7.84826020e+17,\n",
       "       6.91416866e+17, 7.67754930e+17, 7.77684234e+17, 7.79056096e+17,\n",
       "       8.00065028e+17, 7.75733305e+17, 8.00854023e+17, 7.76113306e+17,\n",
       "       6.81694086e+17, 7.75085133e+17, 7.74314404e+17, 7.40676976e+17,\n",
       "       7.18631498e+17, 7.12809026e+17, 7.01214701e+17, 6.83391853e+17,\n",
       "       6.76936542e+17, 6.75501076e+17, 6.71896809e+17, 6.70444956e+17,\n",
       "       6.67509364e+17, 6.67182792e+17, 6.66104133e+17, 7.71770457e+17,\n",
       "       6.87317306e+17, 7.80931614e+17, 7.96149749e+17, 7.89530877e+17,\n",
       "       7.88765915e+17, 7.91672323e+17, 6.84830983e+17, 6.82088079e+17,\n",
       "       7.46757706e+17, 7.63837566e+17, 7.89986466e+17, 7.62699858e+17,\n",
       "       7.62464539e+17, 7.50719633e+17, 7.36392552e+17, 7.61004548e+17,\n",
       "       7.52932433e+17, 7.59447682e+17, 7.79834333e+17, 6.74291837e+17,\n",
       "       7.07610949e+17, 7.42423170e+17, 7.80465709e+17, 7.53375669e+17,\n",
       "       6.79462823e+17, 7.58099636e+17, 7.03041950e+17, 7.68193405e+17,\n",
       "       7.50429298e+17, 6.79828447e+17, 7.00747789e+17, 7.33109485e+17,\n",
       "       7.40373189e+17, 7.71380798e+17, 7.65222099e+17, 6.73320133e+17,\n",
       "       7.71002130e+17, 7.39238158e+17, 7.41067307e+17, 7.06904524e+17,\n",
       "       7.00143752e+17, 7.39979192e+17, 7.59923799e+17, 7.25842289e+17,\n",
       "       6.73295269e+17, 6.85325113e+17, 7.11694788e+17, 7.60153833e+17,\n",
       "       7.39544079e+17, 6.70319131e+17, 6.79062614e+17, 7.57597141e+17,\n",
       "       6.79158374e+17, 6.81523178e+17, 6.83515932e+17, 6.75354436e+17,\n",
       "       7.04761121e+17, 6.67866724e+17, 6.67138270e+17, 7.11998280e+17,\n",
       "       6.67548696e+17, 6.67548415e+17])"
      ]
     },
     "execution_count": 262,
     "metadata": {},
     "output_type": "execute_result"
    }
   ],
   "source": [
    "archive.retweeted_status_id.unique()"
   ]
  },
  {
   "cell_type": "code",
   "execution_count": 263,
   "metadata": {},
   "outputs": [
    {
     "data": {
      "text/plain": [
       "2356"
      ]
     },
     "execution_count": 263,
     "metadata": {},
     "output_type": "execute_result"
    }
   ],
   "source": [
    "archive.retweeted_status_id.isna().count()"
   ]
  },
  {
   "cell_type": "code",
   "execution_count": 264,
   "metadata": {},
   "outputs": [
    {
     "data": {
      "text/plain": [
       "Index(['tweet_id', 'in_reply_to_status_id', 'in_reply_to_user_id', 'timestamp',\n",
       "       'source', 'text', 'retweeted_status_id', 'retweeted_status_user_id',\n",
       "       'retweeted_status_timestamp', 'expanded_urls', 'rating_numerator',\n",
       "       'rating_denominator', 'name', 'doggo', 'floofer', 'pupper', 'puppo'],\n",
       "      dtype='object')"
      ]
     },
     "execution_count": 264,
     "metadata": {},
     "output_type": "execute_result"
    }
   ],
   "source": [
    "archive.columns"
   ]
  },
  {
   "cell_type": "code",
   "execution_count": 265,
   "metadata": {
    "scrolled": false
   },
   "outputs": [
    {
     "data": {
      "text/html": [
       "<div>\n",
       "<style scoped>\n",
       "    .dataframe tbody tr th:only-of-type {\n",
       "        vertical-align: middle;\n",
       "    }\n",
       "\n",
       "    .dataframe tbody tr th {\n",
       "        vertical-align: top;\n",
       "    }\n",
       "\n",
       "    .dataframe thead th {\n",
       "        text-align: right;\n",
       "    }\n",
       "</style>\n",
       "<table border=\"1\" class=\"dataframe\">\n",
       "  <thead>\n",
       "    <tr style=\"text-align: right;\">\n",
       "      <th></th>\n",
       "      <th>tweet_id</th>\n",
       "      <th>jpg_url</th>\n",
       "      <th>img_num</th>\n",
       "      <th>p1</th>\n",
       "      <th>p1_conf</th>\n",
       "      <th>p1_dog</th>\n",
       "      <th>p2</th>\n",
       "      <th>p2_conf</th>\n",
       "      <th>p2_dog</th>\n",
       "      <th>p3</th>\n",
       "      <th>p3_conf</th>\n",
       "      <th>p3_dog</th>\n",
       "    </tr>\n",
       "  </thead>\n",
       "  <tbody>\n",
       "    <tr>\n",
       "      <th>1924</th>\n",
       "      <td>857263160327368704</td>\n",
       "      <td>https://pbs.twimg.com/media/C-WcS4MXoAADrBU.jpg</td>\n",
       "      <td>1</td>\n",
       "      <td>Samoyed</td>\n",
       "      <td>0.998021</td>\n",
       "      <td>True</td>\n",
       "      <td>Pomeranian</td>\n",
       "      <td>0.000922</td>\n",
       "      <td>True</td>\n",
       "      <td>keeshond</td>\n",
       "      <td>0.000311</td>\n",
       "      <td>True</td>\n",
       "    </tr>\n",
       "    <tr>\n",
       "      <th>1087</th>\n",
       "      <td>718939241951195136</td>\n",
       "      <td>https://pbs.twimg.com/media/CfovbK4WIAAkTn3.jpg</td>\n",
       "      <td>1</td>\n",
       "      <td>Pembroke</td>\n",
       "      <td>0.766327</td>\n",
       "      <td>True</td>\n",
       "      <td>Cardigan</td>\n",
       "      <td>0.222126</td>\n",
       "      <td>True</td>\n",
       "      <td>toilet_tissue</td>\n",
       "      <td>0.006757</td>\n",
       "      <td>False</td>\n",
       "    </tr>\n",
       "    <tr>\n",
       "      <th>1868</th>\n",
       "      <td>844223788422217728</td>\n",
       "      <td>https://pbs.twimg.com/media/C7dJCnqU4AAswat.jpg</td>\n",
       "      <td>1</td>\n",
       "      <td>Labrador_retriever</td>\n",
       "      <td>0.719510</td>\n",
       "      <td>True</td>\n",
       "      <td>Chesapeake_Bay_retriever</td>\n",
       "      <td>0.122019</td>\n",
       "      <td>True</td>\n",
       "      <td>Newfoundland</td>\n",
       "      <td>0.038828</td>\n",
       "      <td>True</td>\n",
       "    </tr>\n",
       "    <tr>\n",
       "      <th>1355</th>\n",
       "      <td>760290219849637889</td>\n",
       "      <td>https://pbs.twimg.com/ext_tw_video_thumb/76028...</td>\n",
       "      <td>1</td>\n",
       "      <td>Old_English_sheepdog</td>\n",
       "      <td>0.302200</td>\n",
       "      <td>True</td>\n",
       "      <td>Lhasa</td>\n",
       "      <td>0.258803</td>\n",
       "      <td>True</td>\n",
       "      <td>briard</td>\n",
       "      <td>0.179200</td>\n",
       "      <td>True</td>\n",
       "    </tr>\n",
       "    <tr>\n",
       "      <th>1761</th>\n",
       "      <td>826115272272650244</td>\n",
       "      <td>https://pbs.twimg.com/media/C3bzVILWcAUjS5i.jpg</td>\n",
       "      <td>1</td>\n",
       "      <td>tennis_ball</td>\n",
       "      <td>0.997071</td>\n",
       "      <td>False</td>\n",
       "      <td>golden_retriever</td>\n",
       "      <td>0.002331</td>\n",
       "      <td>True</td>\n",
       "      <td>kuvasz</td>\n",
       "      <td>0.000283</td>\n",
       "      <td>True</td>\n",
       "    </tr>\n",
       "  </tbody>\n",
       "</table>\n",
       "</div>"
      ],
      "text/plain": [
       "                tweet_id                                            jpg_url  \\\n",
       "1924  857263160327368704    https://pbs.twimg.com/media/C-WcS4MXoAADrBU.jpg   \n",
       "1087  718939241951195136    https://pbs.twimg.com/media/CfovbK4WIAAkTn3.jpg   \n",
       "1868  844223788422217728    https://pbs.twimg.com/media/C7dJCnqU4AAswat.jpg   \n",
       "1355  760290219849637889  https://pbs.twimg.com/ext_tw_video_thumb/76028...   \n",
       "1761  826115272272650244    https://pbs.twimg.com/media/C3bzVILWcAUjS5i.jpg   \n",
       "\n",
       "      img_num                    p1   p1_conf  p1_dog  \\\n",
       "1924        1               Samoyed  0.998021    True   \n",
       "1087        1              Pembroke  0.766327    True   \n",
       "1868        1    Labrador_retriever  0.719510    True   \n",
       "1355        1  Old_English_sheepdog  0.302200    True   \n",
       "1761        1           tennis_ball  0.997071   False   \n",
       "\n",
       "                            p2   p2_conf  p2_dog             p3   p3_conf  \\\n",
       "1924                Pomeranian  0.000922    True       keeshond  0.000311   \n",
       "1087                  Cardigan  0.222126    True  toilet_tissue  0.006757   \n",
       "1868  Chesapeake_Bay_retriever  0.122019    True   Newfoundland  0.038828   \n",
       "1355                     Lhasa  0.258803    True         briard  0.179200   \n",
       "1761          golden_retriever  0.002331    True         kuvasz  0.000283   \n",
       "\n",
       "      p3_dog  \n",
       "1924    True  \n",
       "1087   False  \n",
       "1868    True  \n",
       "1355    True  \n",
       "1761    True  "
      ]
     },
     "execution_count": 265,
     "metadata": {},
     "output_type": "execute_result"
    }
   ],
   "source": [
    "predictions.sample(5)"
   ]
  },
  {
   "cell_type": "code",
   "execution_count": null,
   "metadata": {},
   "outputs": [],
   "source": []
  },
  {
   "cell_type": "code",
   "execution_count": 266,
   "metadata": {
    "scrolled": true
   },
   "outputs": [
    {
     "name": "stdout",
     "output_type": "stream",
     "text": [
      "<class 'pandas.core.frame.DataFrame'>\n",
      "RangeIndex: 2075 entries, 0 to 2074\n",
      "Data columns (total 12 columns):\n",
      " #   Column    Non-Null Count  Dtype  \n",
      "---  ------    --------------  -----  \n",
      " 0   tweet_id  2075 non-null   int64  \n",
      " 1   jpg_url   2075 non-null   object \n",
      " 2   img_num   2075 non-null   int64  \n",
      " 3   p1        2075 non-null   object \n",
      " 4   p1_conf   2075 non-null   float64\n",
      " 5   p1_dog    2075 non-null   bool   \n",
      " 6   p2        2075 non-null   object \n",
      " 7   p2_conf   2075 non-null   float64\n",
      " 8   p2_dog    2075 non-null   bool   \n",
      " 9   p3        2075 non-null   object \n",
      " 10  p3_conf   2075 non-null   float64\n",
      " 11  p3_dog    2075 non-null   bool   \n",
      "dtypes: bool(3), float64(3), int64(2), object(4)\n",
      "memory usage: 152.1+ KB\n"
     ]
    }
   ],
   "source": [
    "predictions.info()"
   ]
  },
  {
   "cell_type": "code",
   "execution_count": 267,
   "metadata": {
    "scrolled": true
   },
   "outputs": [
    {
     "data": {
      "text/html": [
       "<div>\n",
       "<style scoped>\n",
       "    .dataframe tbody tr th:only-of-type {\n",
       "        vertical-align: middle;\n",
       "    }\n",
       "\n",
       "    .dataframe tbody tr th {\n",
       "        vertical-align: top;\n",
       "    }\n",
       "\n",
       "    .dataframe thead th {\n",
       "        text-align: right;\n",
       "    }\n",
       "</style>\n",
       "<table border=\"1\" class=\"dataframe\">\n",
       "  <thead>\n",
       "    <tr style=\"text-align: right;\">\n",
       "      <th></th>\n",
       "      <th>id</th>\n",
       "      <th>retweet_count</th>\n",
       "      <th>favorite_count</th>\n",
       "    </tr>\n",
       "  </thead>\n",
       "  <tbody>\n",
       "    <tr>\n",
       "      <th>1898</th>\n",
       "      <td>853760880890318849</td>\n",
       "      <td>5102</td>\n",
       "      <td>25992</td>\n",
       "    </tr>\n",
       "    <tr>\n",
       "      <th>1267</th>\n",
       "      <td>749417653287129088</td>\n",
       "      <td>1505</td>\n",
       "      <td>5655</td>\n",
       "    </tr>\n",
       "    <tr>\n",
       "      <th>454</th>\n",
       "      <td>674764817387900928</td>\n",
       "      <td>200</td>\n",
       "      <td>699</td>\n",
       "    </tr>\n",
       "    <tr>\n",
       "      <th>2020</th>\n",
       "      <td>884562892145688576</td>\n",
       "      <td>3895</td>\n",
       "      <td>21234</td>\n",
       "    </tr>\n",
       "    <tr>\n",
       "      <th>946</th>\n",
       "      <td>704761120771465216</td>\n",
       "      <td>2617</td>\n",
       "      <td>6119</td>\n",
       "    </tr>\n",
       "  </tbody>\n",
       "</table>\n",
       "</div>"
      ],
      "text/plain": [
       "                      id  retweet_count  favorite_count\n",
       "1898  853760880890318849           5102           25992\n",
       "1267  749417653287129088           1505            5655\n",
       "454   674764817387900928            200             699\n",
       "2020  884562892145688576           3895           21234\n",
       "946   704761120771465216           2617            6119"
      ]
     },
     "execution_count": 267,
     "metadata": {},
     "output_type": "execute_result"
    }
   ],
   "source": [
    "rate.sample(5)"
   ]
  },
  {
   "cell_type": "code",
   "execution_count": 268,
   "metadata": {},
   "outputs": [
    {
     "name": "stdout",
     "output_type": "stream",
     "text": [
      "<class 'pandas.core.frame.DataFrame'>\n",
      "RangeIndex: 2057 entries, 0 to 2056\n",
      "Data columns (total 3 columns):\n",
      " #   Column          Non-Null Count  Dtype\n",
      "---  ------          --------------  -----\n",
      " 0   id              2057 non-null   int64\n",
      " 1   retweet_count   2057 non-null   int64\n",
      " 2   favorite_count  2057 non-null   int64\n",
      "dtypes: int64(3)\n",
      "memory usage: 48.3 KB\n"
     ]
    }
   ],
   "source": [
    "rate.info()"
   ]
  },
  {
   "cell_type": "markdown",
   "metadata": {},
   "source": [
    "### Quality issues\n",
    "1. wrong datatypes for timestamp in archived table \n",
    "\n",
    "2. Change datatype of  tweet_id to string\n",
    "\n",
    "3. wrong datatypes for p1, p2 and p3 in predictions should be category\n",
    "\n",
    "4. for consistency in archive we are only going to take the data with the rating_denominator of 10 in archive table\n",
    "\n",
    "5. There is no consistency in prediction table since in p1, p2 and p3 some names start with uppercase\n",
    "\n",
    "6. The dog_stage column in archive should be category\n",
    "\n",
    "7. change the id column in rate table to tweet_id\n",
    "\n",
    "8. missing values in retweeted_status_id and retweeted_status_user_id in archive table"
   ]
  },
  {
   "cell_type": "raw",
   "metadata": {
    "extensions": {
     "jupyter_dashboards": {
      "version": 1,
      "views": {
       "grid_default": {
        "col": 0,
        "height": 7,
        "hidden": false,
        "row": 40,
        "width": 12
       },
       "report_default": {
        "hidden": false
       }
      }
     }
    }
   },
   "source": [
    "### Tidiness issues\n",
    "1.rule of every observation should be in each row has been broken for floofer, doggo, pupper and puppo dog types\n",
    "\n",
    "2.Merge the dataset into one master dataset"
   ]
  },
  {
   "cell_type": "markdown",
   "metadata": {
    "extensions": {
     "jupyter_dashboards": {
      "version": 1,
      "views": {
       "grid_default": {
        "col": 4,
        "height": 4,
        "hidden": false,
        "row": 32,
        "width": 4
       },
       "report_default": {
        "hidden": false
       }
      }
     }
    }
   },
   "source": [
    "## Cleaning Data\n",
    "In this section, clean **all** of the issues you documented while assessing. \n",
    "\n",
    "**Note:** Make a copy of the original data before cleaning. Cleaning includes merging individual pieces of data according to the rules of [tidy data](https://cran.r-project.org/web/packages/tidyr/vignettes/tidy-data.html). The result should be a high-quality and tidy master pandas DataFrame (or DataFrames, if appropriate)."
   ]
  },
  {
   "cell_type": "code",
   "execution_count": 269,
   "metadata": {},
   "outputs": [],
   "source": [
    "# Make copies of original pieces of data\n"
   ]
  },
  {
   "cell_type": "markdown",
   "metadata": {},
   "source": [
    "### Issue #1:wrong datatypes for timestamp in archive table"
   ]
  },
  {
   "cell_type": "markdown",
   "metadata": {},
   "source": [
    "#### Define:Change the datatype of twitter_archived_enhanced table to timestamp"
   ]
  },
  {
   "cell_type": "markdown",
   "metadata": {},
   "source": [
    "#### Code"
   ]
  },
  {
   "cell_type": "code",
   "execution_count": 270,
   "metadata": {},
   "outputs": [
    {
     "data": {
      "text/plain": [
       "dtype('O')"
      ]
     },
     "execution_count": 270,
     "metadata": {},
     "output_type": "execute_result"
    }
   ],
   "source": [
    "archive.timestamp.dtype"
   ]
  },
  {
   "cell_type": "code",
   "execution_count": 271,
   "metadata": {},
   "outputs": [],
   "source": [
    "#convert the datatype of timestamp to datetime\n",
    "archive['timestamp']=pd.to_datetime(archive['timestamp'])"
   ]
  },
  {
   "cell_type": "markdown",
   "metadata": {},
   "source": [
    "#### Test"
   ]
  },
  {
   "cell_type": "code",
   "execution_count": 272,
   "metadata": {},
   "outputs": [
    {
     "name": "stdout",
     "output_type": "stream",
     "text": [
      "<class 'pandas.core.frame.DataFrame'>\n",
      "RangeIndex: 2356 entries, 0 to 2355\n",
      "Data columns (total 17 columns):\n",
      " #   Column                      Non-Null Count  Dtype              \n",
      "---  ------                      --------------  -----              \n",
      " 0   tweet_id                    2356 non-null   int64              \n",
      " 1   in_reply_to_status_id       78 non-null     float64            \n",
      " 2   in_reply_to_user_id         78 non-null     float64            \n",
      " 3   timestamp                   2356 non-null   datetime64[ns, UTC]\n",
      " 4   source                      2356 non-null   object             \n",
      " 5   text                        2356 non-null   object             \n",
      " 6   retweeted_status_id         181 non-null    float64            \n",
      " 7   retweeted_status_user_id    181 non-null    float64            \n",
      " 8   retweeted_status_timestamp  181 non-null    object             \n",
      " 9   expanded_urls               2297 non-null   object             \n",
      " 10  rating_numerator            2356 non-null   int64              \n",
      " 11  rating_denominator          2356 non-null   int64              \n",
      " 12  name                        2356 non-null   object             \n",
      " 13  doggo                       2356 non-null   object             \n",
      " 14  floofer                     2356 non-null   object             \n",
      " 15  pupper                      2356 non-null   object             \n",
      " 16  puppo                       2356 non-null   object             \n",
      "dtypes: datetime64[ns, UTC](1), float64(4), int64(3), object(9)\n",
      "memory usage: 313.0+ KB\n"
     ]
    }
   ],
   "source": [
    "archive.info()"
   ]
  },
  {
   "cell_type": "markdown",
   "metadata": {},
   "source": [
    "### Issue #2:for consistency in archive we are only going to take the data with the rating_denominator of 10 in archive table"
   ]
  },
  {
   "cell_type": "markdown",
   "metadata": {
    "collapsed": true,
    "extensions": {
     "jupyter_dashboards": {
      "version": 1,
      "views": {
       "grid_default": {
        "hidden": true
       },
       "report_default": {
        "hidden": true
       }
      }
     }
    }
   },
   "source": [
    "#### Define will remove all the rows that do not have denominator as 10"
   ]
  },
  {
   "cell_type": "markdown",
   "metadata": {},
   "source": [
    "#### Code"
   ]
  },
  {
   "cell_type": "code",
   "execution_count": 273,
   "metadata": {},
   "outputs": [
    {
     "data": {
      "text/plain": [
       "365     10\n",
       "1007    10\n",
       "1252    10\n",
       "313      0\n",
       "1557    10\n",
       "2200    10\n",
       "1687    10\n",
       "2120    10\n",
       "1757    10\n",
       "1400    10\n",
       "Name: rating_denominator, dtype: int64"
      ]
     },
     "execution_count": 273,
     "metadata": {},
     "output_type": "execute_result"
    }
   ],
   "source": [
    "archive.rating_denominator.sample(10)"
   ]
  },
  {
   "cell_type": "code",
   "execution_count": 274,
   "metadata": {},
   "outputs": [],
   "source": [
    "#taking only the rows with the denominator value is 10\n",
    "archive=archive.query('rating_denominator==10')"
   ]
  },
  {
   "cell_type": "code",
   "execution_count": 275,
   "metadata": {},
   "outputs": [
    {
     "data": {
      "text/html": [
       "<div>\n",
       "<style scoped>\n",
       "    .dataframe tbody tr th:only-of-type {\n",
       "        vertical-align: middle;\n",
       "    }\n",
       "\n",
       "    .dataframe tbody tr th {\n",
       "        vertical-align: top;\n",
       "    }\n",
       "\n",
       "    .dataframe thead th {\n",
       "        text-align: right;\n",
       "    }\n",
       "</style>\n",
       "<table border=\"1\" class=\"dataframe\">\n",
       "  <thead>\n",
       "    <tr style=\"text-align: right;\">\n",
       "      <th></th>\n",
       "      <th>tweet_id</th>\n",
       "      <th>in_reply_to_status_id</th>\n",
       "      <th>in_reply_to_user_id</th>\n",
       "      <th>timestamp</th>\n",
       "      <th>source</th>\n",
       "      <th>text</th>\n",
       "      <th>retweeted_status_id</th>\n",
       "      <th>retweeted_status_user_id</th>\n",
       "      <th>retweeted_status_timestamp</th>\n",
       "      <th>expanded_urls</th>\n",
       "      <th>rating_numerator</th>\n",
       "      <th>rating_denominator</th>\n",
       "      <th>name</th>\n",
       "      <th>doggo</th>\n",
       "      <th>floofer</th>\n",
       "      <th>pupper</th>\n",
       "      <th>puppo</th>\n",
       "    </tr>\n",
       "  </thead>\n",
       "  <tbody>\n",
       "    <tr>\n",
       "      <th>122</th>\n",
       "      <td>869227993411051520</td>\n",
       "      <td>NaN</td>\n",
       "      <td>NaN</td>\n",
       "      <td>2017-05-29 16:24:37+00:00</td>\n",
       "      <td>&lt;a href=\"http://twitter.com/download/iphone\" r...</td>\n",
       "      <td>This is Gizmo. His favorite thing is standing ...</td>\n",
       "      <td>NaN</td>\n",
       "      <td>NaN</td>\n",
       "      <td>NaN</td>\n",
       "      <td>https://twitter.com/dog_rates/status/869227993...</td>\n",
       "      <td>13</td>\n",
       "      <td>10</td>\n",
       "      <td>Gizmo</td>\n",
       "      <td>None</td>\n",
       "      <td>None</td>\n",
       "      <td>None</td>\n",
       "      <td>None</td>\n",
       "    </tr>\n",
       "    <tr>\n",
       "      <th>1824</th>\n",
       "      <td>676496375194980353</td>\n",
       "      <td>NaN</td>\n",
       "      <td>NaN</td>\n",
       "      <td>2015-12-14 20:17:59+00:00</td>\n",
       "      <td>&lt;a href=\"http://twitter.com/download/iphone\" r...</td>\n",
       "      <td>Say hello to Griffin. He's upset because his c...</td>\n",
       "      <td>NaN</td>\n",
       "      <td>NaN</td>\n",
       "      <td>NaN</td>\n",
       "      <td>https://twitter.com/dog_rates/status/676496375...</td>\n",
       "      <td>9</td>\n",
       "      <td>10</td>\n",
       "      <td>Griffin</td>\n",
       "      <td>None</td>\n",
       "      <td>None</td>\n",
       "      <td>None</td>\n",
       "      <td>None</td>\n",
       "    </tr>\n",
       "    <tr>\n",
       "      <th>148</th>\n",
       "      <td>863427515083354112</td>\n",
       "      <td>8.634256e+17</td>\n",
       "      <td>77596200.0</td>\n",
       "      <td>2017-05-13 16:15:35+00:00</td>\n",
       "      <td>&lt;a href=\"http://twitter.com/download/iphone\" r...</td>\n",
       "      <td>@Jack_Septic_Eye I'd need a few more pics to p...</td>\n",
       "      <td>NaN</td>\n",
       "      <td>NaN</td>\n",
       "      <td>NaN</td>\n",
       "      <td>NaN</td>\n",
       "      <td>12</td>\n",
       "      <td>10</td>\n",
       "      <td>None</td>\n",
       "      <td>None</td>\n",
       "      <td>None</td>\n",
       "      <td>None</td>\n",
       "      <td>None</td>\n",
       "    </tr>\n",
       "    <tr>\n",
       "      <th>894</th>\n",
       "      <td>759197388317847553</td>\n",
       "      <td>NaN</td>\n",
       "      <td>NaN</td>\n",
       "      <td>2016-07-30 01:22:17+00:00</td>\n",
       "      <td>&lt;a href=\"http://twitter.com/download/iphone\" r...</td>\n",
       "      <td>This is Luna. She's just heckin precious af I ...</td>\n",
       "      <td>NaN</td>\n",
       "      <td>NaN</td>\n",
       "      <td>NaN</td>\n",
       "      <td>https://twitter.com/dog_rates/status/759197388...</td>\n",
       "      <td>12</td>\n",
       "      <td>10</td>\n",
       "      <td>Luna</td>\n",
       "      <td>None</td>\n",
       "      <td>None</td>\n",
       "      <td>None</td>\n",
       "      <td>None</td>\n",
       "    </tr>\n",
       "    <tr>\n",
       "      <th>1717</th>\n",
       "      <td>680191257256136705</td>\n",
       "      <td>NaN</td>\n",
       "      <td>NaN</td>\n",
       "      <td>2015-12-25 01:00:07+00:00</td>\n",
       "      <td>&lt;a href=\"http://twitter.com/download/iphone\" r...</td>\n",
       "      <td>Here's a sleepy Christmas pupper 11/10 https:/...</td>\n",
       "      <td>NaN</td>\n",
       "      <td>NaN</td>\n",
       "      <td>NaN</td>\n",
       "      <td>https://twitter.com/dog_rates/status/680191257...</td>\n",
       "      <td>11</td>\n",
       "      <td>10</td>\n",
       "      <td>None</td>\n",
       "      <td>None</td>\n",
       "      <td>None</td>\n",
       "      <td>pupper</td>\n",
       "      <td>None</td>\n",
       "    </tr>\n",
       "    <tr>\n",
       "      <th>1348</th>\n",
       "      <td>704347321748819968</td>\n",
       "      <td>NaN</td>\n",
       "      <td>NaN</td>\n",
       "      <td>2016-02-29 16:47:42+00:00</td>\n",
       "      <td>&lt;a href=\"http://twitter.com/download/iphone\" r...</td>\n",
       "      <td>This is Ralphson. He's very confused. Wonderin...</td>\n",
       "      <td>NaN</td>\n",
       "      <td>NaN</td>\n",
       "      <td>NaN</td>\n",
       "      <td>https://twitter.com/dog_rates/status/704347321...</td>\n",
       "      <td>10</td>\n",
       "      <td>10</td>\n",
       "      <td>Ralphson</td>\n",
       "      <td>None</td>\n",
       "      <td>None</td>\n",
       "      <td>pupper</td>\n",
       "      <td>None</td>\n",
       "    </tr>\n",
       "  </tbody>\n",
       "</table>\n",
       "</div>"
      ],
      "text/plain": [
       "                tweet_id  in_reply_to_status_id  in_reply_to_user_id  \\\n",
       "122   869227993411051520                    NaN                  NaN   \n",
       "1824  676496375194980353                    NaN                  NaN   \n",
       "148   863427515083354112           8.634256e+17           77596200.0   \n",
       "894   759197388317847553                    NaN                  NaN   \n",
       "1717  680191257256136705                    NaN                  NaN   \n",
       "1348  704347321748819968                    NaN                  NaN   \n",
       "\n",
       "                     timestamp  \\\n",
       "122  2017-05-29 16:24:37+00:00   \n",
       "1824 2015-12-14 20:17:59+00:00   \n",
       "148  2017-05-13 16:15:35+00:00   \n",
       "894  2016-07-30 01:22:17+00:00   \n",
       "1717 2015-12-25 01:00:07+00:00   \n",
       "1348 2016-02-29 16:47:42+00:00   \n",
       "\n",
       "                                                 source  \\\n",
       "122   <a href=\"http://twitter.com/download/iphone\" r...   \n",
       "1824  <a href=\"http://twitter.com/download/iphone\" r...   \n",
       "148   <a href=\"http://twitter.com/download/iphone\" r...   \n",
       "894   <a href=\"http://twitter.com/download/iphone\" r...   \n",
       "1717  <a href=\"http://twitter.com/download/iphone\" r...   \n",
       "1348  <a href=\"http://twitter.com/download/iphone\" r...   \n",
       "\n",
       "                                                   text  retweeted_status_id  \\\n",
       "122   This is Gizmo. His favorite thing is standing ...                  NaN   \n",
       "1824  Say hello to Griffin. He's upset because his c...                  NaN   \n",
       "148   @Jack_Septic_Eye I'd need a few more pics to p...                  NaN   \n",
       "894   This is Luna. She's just heckin precious af I ...                  NaN   \n",
       "1717  Here's a sleepy Christmas pupper 11/10 https:/...                  NaN   \n",
       "1348  This is Ralphson. He's very confused. Wonderin...                  NaN   \n",
       "\n",
       "      retweeted_status_user_id retweeted_status_timestamp  \\\n",
       "122                        NaN                        NaN   \n",
       "1824                       NaN                        NaN   \n",
       "148                        NaN                        NaN   \n",
       "894                        NaN                        NaN   \n",
       "1717                       NaN                        NaN   \n",
       "1348                       NaN                        NaN   \n",
       "\n",
       "                                          expanded_urls  rating_numerator  \\\n",
       "122   https://twitter.com/dog_rates/status/869227993...                13   \n",
       "1824  https://twitter.com/dog_rates/status/676496375...                 9   \n",
       "148                                                 NaN                12   \n",
       "894   https://twitter.com/dog_rates/status/759197388...                12   \n",
       "1717  https://twitter.com/dog_rates/status/680191257...                11   \n",
       "1348  https://twitter.com/dog_rates/status/704347321...                10   \n",
       "\n",
       "      rating_denominator      name doggo floofer  pupper puppo  \n",
       "122                   10     Gizmo  None    None    None  None  \n",
       "1824                  10   Griffin  None    None    None  None  \n",
       "148                   10      None  None    None    None  None  \n",
       "894                   10      Luna  None    None    None  None  \n",
       "1717                  10      None  None    None  pupper  None  \n",
       "1348                  10  Ralphson  None    None  pupper  None  "
      ]
     },
     "execution_count": 275,
     "metadata": {},
     "output_type": "execute_result"
    }
   ],
   "source": [
    "archive.sample(6)"
   ]
  },
  {
   "cell_type": "code",
   "execution_count": 276,
   "metadata": {},
   "outputs": [
    {
     "data": {
      "text/plain": [
       "(2333, 17)"
      ]
     },
     "execution_count": 276,
     "metadata": {},
     "output_type": "execute_result"
    }
   ],
   "source": [
    "archive.shape"
   ]
  },
  {
   "cell_type": "markdown",
   "metadata": {},
   "source": [
    "#### Test"
   ]
  },
  {
   "cell_type": "code",
   "execution_count": 277,
   "metadata": {},
   "outputs": [
    {
     "data": {
      "text/html": [
       "<div>\n",
       "<style scoped>\n",
       "    .dataframe tbody tr th:only-of-type {\n",
       "        vertical-align: middle;\n",
       "    }\n",
       "\n",
       "    .dataframe tbody tr th {\n",
       "        vertical-align: top;\n",
       "    }\n",
       "\n",
       "    .dataframe thead th {\n",
       "        text-align: right;\n",
       "    }\n",
       "</style>\n",
       "<table border=\"1\" class=\"dataframe\">\n",
       "  <thead>\n",
       "    <tr style=\"text-align: right;\">\n",
       "      <th></th>\n",
       "      <th>tweet_id</th>\n",
       "      <th>in_reply_to_status_id</th>\n",
       "      <th>in_reply_to_user_id</th>\n",
       "      <th>timestamp</th>\n",
       "      <th>source</th>\n",
       "      <th>text</th>\n",
       "      <th>retweeted_status_id</th>\n",
       "      <th>retweeted_status_user_id</th>\n",
       "      <th>retweeted_status_timestamp</th>\n",
       "      <th>expanded_urls</th>\n",
       "      <th>rating_numerator</th>\n",
       "      <th>rating_denominator</th>\n",
       "      <th>name</th>\n",
       "      <th>doggo</th>\n",
       "      <th>floofer</th>\n",
       "      <th>pupper</th>\n",
       "      <th>puppo</th>\n",
       "    </tr>\n",
       "  </thead>\n",
       "  <tbody>\n",
       "  </tbody>\n",
       "</table>\n",
       "</div>"
      ],
      "text/plain": [
       "Empty DataFrame\n",
       "Columns: [tweet_id, in_reply_to_status_id, in_reply_to_user_id, timestamp, source, text, retweeted_status_id, retweeted_status_user_id, retweeted_status_timestamp, expanded_urls, rating_numerator, rating_denominator, name, doggo, floofer, pupper, puppo]\n",
       "Index: []"
      ]
     },
     "execution_count": 277,
     "metadata": {},
     "output_type": "execute_result"
    }
   ],
   "source": [
    "archive.query('rating_denominator!=10')"
   ]
  },
  {
   "cell_type": "markdown",
   "metadata": {},
   "source": [
    "### Issue #3:Change datatype of  tweet_id to string"
   ]
  },
  {
   "cell_type": "code",
   "execution_count": 278,
   "metadata": {},
   "outputs": [
    {
     "name": "stdout",
     "output_type": "stream",
     "text": [
      "<class 'pandas.core.frame.DataFrame'>\n",
      "Int64Index: 2333 entries, 0 to 2355\n",
      "Data columns (total 17 columns):\n",
      " #   Column                      Non-Null Count  Dtype              \n",
      "---  ------                      --------------  -----              \n",
      " 0   tweet_id                    2333 non-null   int64              \n",
      " 1   in_reply_to_status_id       73 non-null     float64            \n",
      " 2   in_reply_to_user_id         73 non-null     float64            \n",
      " 3   timestamp                   2333 non-null   datetime64[ns, UTC]\n",
      " 4   source                      2333 non-null   object             \n",
      " 5   text                        2333 non-null   object             \n",
      " 6   retweeted_status_id         180 non-null    float64            \n",
      " 7   retweeted_status_user_id    180 non-null    float64            \n",
      " 8   retweeted_status_timestamp  180 non-null    object             \n",
      " 9   expanded_urls               2278 non-null   object             \n",
      " 10  rating_numerator            2333 non-null   int64              \n",
      " 11  rating_denominator          2333 non-null   int64              \n",
      " 12  name                        2333 non-null   object             \n",
      " 13  doggo                       2333 non-null   object             \n",
      " 14  floofer                     2333 non-null   object             \n",
      " 15  pupper                      2333 non-null   object             \n",
      " 16  puppo                       2333 non-null   object             \n",
      "dtypes: datetime64[ns, UTC](1), float64(4), int64(3), object(9)\n",
      "memory usage: 328.1+ KB\n"
     ]
    }
   ],
   "source": [
    "archive.info()"
   ]
  },
  {
   "cell_type": "code",
   "execution_count": 279,
   "metadata": {},
   "outputs": [],
   "source": [
    "#changing the datatype of tweet_id column to sring\n",
    "archive[\"tweet_id\"]=archive[\"tweet_id\"].astype(str)\n",
    "predictions[\"tweet_id\"]=predictions[\"tweet_id\"].astype(str)\n",
    "rate[\"id\"]=rate[\"id\"].astype(str)"
   ]
  },
  {
   "cell_type": "markdown",
   "metadata": {},
   "source": [
    "#Test"
   ]
  },
  {
   "cell_type": "code",
   "execution_count": 280,
   "metadata": {
    "scrolled": true
   },
   "outputs": [
    {
     "name": "stdout",
     "output_type": "stream",
     "text": [
      "<class 'pandas.core.frame.DataFrame'>\n",
      "Int64Index: 2333 entries, 0 to 2355\n",
      "Data columns (total 17 columns):\n",
      " #   Column                      Non-Null Count  Dtype              \n",
      "---  ------                      --------------  -----              \n",
      " 0   tweet_id                    2333 non-null   object             \n",
      " 1   in_reply_to_status_id       73 non-null     float64            \n",
      " 2   in_reply_to_user_id         73 non-null     float64            \n",
      " 3   timestamp                   2333 non-null   datetime64[ns, UTC]\n",
      " 4   source                      2333 non-null   object             \n",
      " 5   text                        2333 non-null   object             \n",
      " 6   retweeted_status_id         180 non-null    float64            \n",
      " 7   retweeted_status_user_id    180 non-null    float64            \n",
      " 8   retweeted_status_timestamp  180 non-null    object             \n",
      " 9   expanded_urls               2278 non-null   object             \n",
      " 10  rating_numerator            2333 non-null   int64              \n",
      " 11  rating_denominator          2333 non-null   int64              \n",
      " 12  name                        2333 non-null   object             \n",
      " 13  doggo                       2333 non-null   object             \n",
      " 14  floofer                     2333 non-null   object             \n",
      " 15  pupper                      2333 non-null   object             \n",
      " 16  puppo                       2333 non-null   object             \n",
      "dtypes: datetime64[ns, UTC](1), float64(4), int64(2), object(10)\n",
      "memory usage: 328.1+ KB\n"
     ]
    }
   ],
   "source": [
    "\n",
    "archive.info()"
   ]
  },
  {
   "cell_type": "code",
   "execution_count": 281,
   "metadata": {
    "scrolled": true
   },
   "outputs": [
    {
     "name": "stdout",
     "output_type": "stream",
     "text": [
      "<class 'pandas.core.frame.DataFrame'>\n",
      "RangeIndex: 2075 entries, 0 to 2074\n",
      "Data columns (total 12 columns):\n",
      " #   Column    Non-Null Count  Dtype  \n",
      "---  ------    --------------  -----  \n",
      " 0   tweet_id  2075 non-null   object \n",
      " 1   jpg_url   2075 non-null   object \n",
      " 2   img_num   2075 non-null   int64  \n",
      " 3   p1        2075 non-null   object \n",
      " 4   p1_conf   2075 non-null   float64\n",
      " 5   p1_dog    2075 non-null   bool   \n",
      " 6   p2        2075 non-null   object \n",
      " 7   p2_conf   2075 non-null   float64\n",
      " 8   p2_dog    2075 non-null   bool   \n",
      " 9   p3        2075 non-null   object \n",
      " 10  p3_conf   2075 non-null   float64\n",
      " 11  p3_dog    2075 non-null   bool   \n",
      "dtypes: bool(3), float64(3), int64(1), object(5)\n",
      "memory usage: 152.1+ KB\n"
     ]
    }
   ],
   "source": [
    "predictions.info()"
   ]
  },
  {
   "cell_type": "code",
   "execution_count": 282,
   "metadata": {
    "scrolled": true
   },
   "outputs": [
    {
     "name": "stdout",
     "output_type": "stream",
     "text": [
      "<class 'pandas.core.frame.DataFrame'>\n",
      "RangeIndex: 2057 entries, 0 to 2056\n",
      "Data columns (total 3 columns):\n",
      " #   Column          Non-Null Count  Dtype \n",
      "---  ------          --------------  ----- \n",
      " 0   id              2057 non-null   object\n",
      " 1   retweet_count   2057 non-null   int64 \n",
      " 2   favorite_count  2057 non-null   int64 \n",
      "dtypes: int64(2), object(1)\n",
      "memory usage: 48.3+ KB\n"
     ]
    }
   ],
   "source": [
    "rate.info()"
   ]
  },
  {
   "cell_type": "markdown",
   "metadata": {},
   "source": [
    "### Issue #4: ru le of every observation should be in each row has been broken for floofer, doggo, pupper and puppo dog types columns in archive table"
   ]
  },
  {
   "cell_type": "code",
   "execution_count": 283,
   "metadata": {},
   "outputs": [
    {
     "data": {
      "text/html": [
       "<div>\n",
       "<style scoped>\n",
       "    .dataframe tbody tr th:only-of-type {\n",
       "        vertical-align: middle;\n",
       "    }\n",
       "\n",
       "    .dataframe tbody tr th {\n",
       "        vertical-align: top;\n",
       "    }\n",
       "\n",
       "    .dataframe thead th {\n",
       "        text-align: right;\n",
       "    }\n",
       "</style>\n",
       "<table border=\"1\" class=\"dataframe\">\n",
       "  <thead>\n",
       "    <tr style=\"text-align: right;\">\n",
       "      <th></th>\n",
       "      <th>tweet_id</th>\n",
       "      <th>in_reply_to_status_id</th>\n",
       "      <th>in_reply_to_user_id</th>\n",
       "      <th>timestamp</th>\n",
       "      <th>source</th>\n",
       "      <th>text</th>\n",
       "      <th>retweeted_status_id</th>\n",
       "      <th>retweeted_status_user_id</th>\n",
       "      <th>retweeted_status_timestamp</th>\n",
       "      <th>expanded_urls</th>\n",
       "      <th>rating_numerator</th>\n",
       "      <th>rating_denominator</th>\n",
       "      <th>name</th>\n",
       "      <th>doggo</th>\n",
       "      <th>floofer</th>\n",
       "      <th>pupper</th>\n",
       "      <th>puppo</th>\n",
       "    </tr>\n",
       "  </thead>\n",
       "  <tbody>\n",
       "    <tr>\n",
       "      <th>0</th>\n",
       "      <td>892420643555336193</td>\n",
       "      <td>NaN</td>\n",
       "      <td>NaN</td>\n",
       "      <td>2017-08-01 16:23:56+00:00</td>\n",
       "      <td>&lt;a href=\"http://twitter.com/download/iphone\" r...</td>\n",
       "      <td>This is Phineas. He's a mystical boy. Only eve...</td>\n",
       "      <td>NaN</td>\n",
       "      <td>NaN</td>\n",
       "      <td>NaN</td>\n",
       "      <td>https://twitter.com/dog_rates/status/892420643...</td>\n",
       "      <td>13</td>\n",
       "      <td>10</td>\n",
       "      <td>Phineas</td>\n",
       "      <td>None</td>\n",
       "      <td>None</td>\n",
       "      <td>None</td>\n",
       "      <td>None</td>\n",
       "    </tr>\n",
       "    <tr>\n",
       "      <th>1</th>\n",
       "      <td>892177421306343426</td>\n",
       "      <td>NaN</td>\n",
       "      <td>NaN</td>\n",
       "      <td>2017-08-01 00:17:27+00:00</td>\n",
       "      <td>&lt;a href=\"http://twitter.com/download/iphone\" r...</td>\n",
       "      <td>This is Tilly. She's just checking pup on you....</td>\n",
       "      <td>NaN</td>\n",
       "      <td>NaN</td>\n",
       "      <td>NaN</td>\n",
       "      <td>https://twitter.com/dog_rates/status/892177421...</td>\n",
       "      <td>13</td>\n",
       "      <td>10</td>\n",
       "      <td>Tilly</td>\n",
       "      <td>None</td>\n",
       "      <td>None</td>\n",
       "      <td>None</td>\n",
       "      <td>None</td>\n",
       "    </tr>\n",
       "  </tbody>\n",
       "</table>\n",
       "</div>"
      ],
      "text/plain": [
       "             tweet_id  in_reply_to_status_id  in_reply_to_user_id  \\\n",
       "0  892420643555336193                    NaN                  NaN   \n",
       "1  892177421306343426                    NaN                  NaN   \n",
       "\n",
       "                  timestamp  \\\n",
       "0 2017-08-01 16:23:56+00:00   \n",
       "1 2017-08-01 00:17:27+00:00   \n",
       "\n",
       "                                              source  \\\n",
       "0  <a href=\"http://twitter.com/download/iphone\" r...   \n",
       "1  <a href=\"http://twitter.com/download/iphone\" r...   \n",
       "\n",
       "                                                text  retweeted_status_id  \\\n",
       "0  This is Phineas. He's a mystical boy. Only eve...                  NaN   \n",
       "1  This is Tilly. She's just checking pup on you....                  NaN   \n",
       "\n",
       "   retweeted_status_user_id retweeted_status_timestamp  \\\n",
       "0                       NaN                        NaN   \n",
       "1                       NaN                        NaN   \n",
       "\n",
       "                                       expanded_urls  rating_numerator  \\\n",
       "0  https://twitter.com/dog_rates/status/892420643...                13   \n",
       "1  https://twitter.com/dog_rates/status/892177421...                13   \n",
       "\n",
       "   rating_denominator     name doggo floofer pupper puppo  \n",
       "0                  10  Phineas  None    None   None  None  \n",
       "1                  10    Tilly  None    None   None  None  "
      ]
     },
     "execution_count": 283,
     "metadata": {},
     "output_type": "execute_result"
    }
   ],
   "source": [
    "archive.head(2)"
   ]
  },
  {
   "cell_type": "code",
   "execution_count": 284,
   "metadata": {},
   "outputs": [],
   "source": [
    "#Create a column called dog_stage and extract stage names from text\n",
    "archive['dog_stage']=archive['text'].str.extract(\"(doggo|floofer|pupper|puppo)\")"
   ]
  },
  {
   "cell_type": "code",
   "execution_count": 285,
   "metadata": {},
   "outputs": [
    {
     "data": {
      "text/html": [
       "<div>\n",
       "<style scoped>\n",
       "    .dataframe tbody tr th:only-of-type {\n",
       "        vertical-align: middle;\n",
       "    }\n",
       "\n",
       "    .dataframe tbody tr th {\n",
       "        vertical-align: top;\n",
       "    }\n",
       "\n",
       "    .dataframe thead th {\n",
       "        text-align: right;\n",
       "    }\n",
       "</style>\n",
       "<table border=\"1\" class=\"dataframe\">\n",
       "  <thead>\n",
       "    <tr style=\"text-align: right;\">\n",
       "      <th></th>\n",
       "      <th>tweet_id</th>\n",
       "      <th>in_reply_to_status_id</th>\n",
       "      <th>in_reply_to_user_id</th>\n",
       "      <th>timestamp</th>\n",
       "      <th>source</th>\n",
       "      <th>text</th>\n",
       "      <th>retweeted_status_id</th>\n",
       "      <th>retweeted_status_user_id</th>\n",
       "      <th>retweeted_status_timestamp</th>\n",
       "      <th>expanded_urls</th>\n",
       "      <th>rating_numerator</th>\n",
       "      <th>rating_denominator</th>\n",
       "      <th>name</th>\n",
       "      <th>doggo</th>\n",
       "      <th>floofer</th>\n",
       "      <th>pupper</th>\n",
       "      <th>puppo</th>\n",
       "      <th>dog_stage</th>\n",
       "    </tr>\n",
       "  </thead>\n",
       "  <tbody>\n",
       "    <tr>\n",
       "      <th>51</th>\n",
       "      <td>882268110199369728</td>\n",
       "      <td>NaN</td>\n",
       "      <td>NaN</td>\n",
       "      <td>2017-07-04 16:01:23+00:00</td>\n",
       "      <td>&lt;a href=\"http://twitter.com/download/iphone\" r...</td>\n",
       "      <td>This is Alfy. You're witnessing his first wate...</td>\n",
       "      <td>NaN</td>\n",
       "      <td>NaN</td>\n",
       "      <td>NaN</td>\n",
       "      <td>https://twitter.com/dog_rates/status/882268110...</td>\n",
       "      <td>13</td>\n",
       "      <td>10</td>\n",
       "      <td>Alfy</td>\n",
       "      <td>None</td>\n",
       "      <td>None</td>\n",
       "      <td>None</td>\n",
       "      <td>None</td>\n",
       "      <td>NaN</td>\n",
       "    </tr>\n",
       "    <tr>\n",
       "      <th>918</th>\n",
       "      <td>756651752796094464</td>\n",
       "      <td>NaN</td>\n",
       "      <td>NaN</td>\n",
       "      <td>2016-07-23 00:46:50+00:00</td>\n",
       "      <td>&lt;a href=\"http://twitter.com/download/iphone\" r...</td>\n",
       "      <td>This is Gert. He just wants you to be happy. 1...</td>\n",
       "      <td>NaN</td>\n",
       "      <td>NaN</td>\n",
       "      <td>NaN</td>\n",
       "      <td>https://twitter.com/dog_rates/status/756651752...</td>\n",
       "      <td>11</td>\n",
       "      <td>10</td>\n",
       "      <td>Gert</td>\n",
       "      <td>None</td>\n",
       "      <td>None</td>\n",
       "      <td>None</td>\n",
       "      <td>None</td>\n",
       "      <td>NaN</td>\n",
       "    </tr>\n",
       "    <tr>\n",
       "      <th>1380</th>\n",
       "      <td>701214700881756160</td>\n",
       "      <td>NaN</td>\n",
       "      <td>NaN</td>\n",
       "      <td>2016-02-21 01:19:47+00:00</td>\n",
       "      <td>&lt;a href=\"http://twitter.com/download/iphone\" r...</td>\n",
       "      <td>I'm not sure what's happening here, but it's p...</td>\n",
       "      <td>NaN</td>\n",
       "      <td>NaN</td>\n",
       "      <td>NaN</td>\n",
       "      <td>https://twitter.com/dog_rates/status/701214700...</td>\n",
       "      <td>12</td>\n",
       "      <td>10</td>\n",
       "      <td>None</td>\n",
       "      <td>None</td>\n",
       "      <td>None</td>\n",
       "      <td>None</td>\n",
       "      <td>None</td>\n",
       "      <td>NaN</td>\n",
       "    </tr>\n",
       "    <tr>\n",
       "      <th>2259</th>\n",
       "      <td>667550904950915073</td>\n",
       "      <td>NaN</td>\n",
       "      <td>NaN</td>\n",
       "      <td>2015-11-20 03:51:52+00:00</td>\n",
       "      <td>&lt;a href=\"http://twitter.com\" rel=\"nofollow\"&gt;Tw...</td>\n",
       "      <td>RT @dogratingrating: Exceptional talent. Origi...</td>\n",
       "      <td>6.675487e+17</td>\n",
       "      <td>4.296832e+09</td>\n",
       "      <td>2015-11-20 03:43:06 +0000</td>\n",
       "      <td>https://twitter.com/dogratingrating/status/667...</td>\n",
       "      <td>12</td>\n",
       "      <td>10</td>\n",
       "      <td>None</td>\n",
       "      <td>None</td>\n",
       "      <td>None</td>\n",
       "      <td>None</td>\n",
       "      <td>None</td>\n",
       "      <td>NaN</td>\n",
       "    </tr>\n",
       "    <tr>\n",
       "      <th>793</th>\n",
       "      <td>773547596996571136</td>\n",
       "      <td>NaN</td>\n",
       "      <td>NaN</td>\n",
       "      <td>2016-09-07 15:44:53+00:00</td>\n",
       "      <td>&lt;a href=\"http://twitter.com/download/iphone\" r...</td>\n",
       "      <td>This is Chelsea. She forgot how to dog. 11/10 ...</td>\n",
       "      <td>NaN</td>\n",
       "      <td>NaN</td>\n",
       "      <td>NaN</td>\n",
       "      <td>https://twitter.com/dog_rates/status/773547596...</td>\n",
       "      <td>11</td>\n",
       "      <td>10</td>\n",
       "      <td>Chelsea</td>\n",
       "      <td>None</td>\n",
       "      <td>None</td>\n",
       "      <td>pupper</td>\n",
       "      <td>None</td>\n",
       "      <td>pupper</td>\n",
       "    </tr>\n",
       "  </tbody>\n",
       "</table>\n",
       "</div>"
      ],
      "text/plain": [
       "                tweet_id  in_reply_to_status_id  in_reply_to_user_id  \\\n",
       "51    882268110199369728                    NaN                  NaN   \n",
       "918   756651752796094464                    NaN                  NaN   \n",
       "1380  701214700881756160                    NaN                  NaN   \n",
       "2259  667550904950915073                    NaN                  NaN   \n",
       "793   773547596996571136                    NaN                  NaN   \n",
       "\n",
       "                     timestamp  \\\n",
       "51   2017-07-04 16:01:23+00:00   \n",
       "918  2016-07-23 00:46:50+00:00   \n",
       "1380 2016-02-21 01:19:47+00:00   \n",
       "2259 2015-11-20 03:51:52+00:00   \n",
       "793  2016-09-07 15:44:53+00:00   \n",
       "\n",
       "                                                 source  \\\n",
       "51    <a href=\"http://twitter.com/download/iphone\" r...   \n",
       "918   <a href=\"http://twitter.com/download/iphone\" r...   \n",
       "1380  <a href=\"http://twitter.com/download/iphone\" r...   \n",
       "2259  <a href=\"http://twitter.com\" rel=\"nofollow\">Tw...   \n",
       "793   <a href=\"http://twitter.com/download/iphone\" r...   \n",
       "\n",
       "                                                   text  retweeted_status_id  \\\n",
       "51    This is Alfy. You're witnessing his first wate...                  NaN   \n",
       "918   This is Gert. He just wants you to be happy. 1...                  NaN   \n",
       "1380  I'm not sure what's happening here, but it's p...                  NaN   \n",
       "2259  RT @dogratingrating: Exceptional talent. Origi...         6.675487e+17   \n",
       "793   This is Chelsea. She forgot how to dog. 11/10 ...                  NaN   \n",
       "\n",
       "      retweeted_status_user_id retweeted_status_timestamp  \\\n",
       "51                         NaN                        NaN   \n",
       "918                        NaN                        NaN   \n",
       "1380                       NaN                        NaN   \n",
       "2259              4.296832e+09  2015-11-20 03:43:06 +0000   \n",
       "793                        NaN                        NaN   \n",
       "\n",
       "                                          expanded_urls  rating_numerator  \\\n",
       "51    https://twitter.com/dog_rates/status/882268110...                13   \n",
       "918   https://twitter.com/dog_rates/status/756651752...                11   \n",
       "1380  https://twitter.com/dog_rates/status/701214700...                12   \n",
       "2259  https://twitter.com/dogratingrating/status/667...                12   \n",
       "793   https://twitter.com/dog_rates/status/773547596...                11   \n",
       "\n",
       "      rating_denominator     name doggo floofer  pupper puppo dog_stage  \n",
       "51                    10     Alfy  None    None    None  None       NaN  \n",
       "918                   10     Gert  None    None    None  None       NaN  \n",
       "1380                  10     None  None    None    None  None       NaN  \n",
       "2259                  10     None  None    None    None  None       NaN  \n",
       "793                   10  Chelsea  None    None  pupper  None    pupper  "
      ]
     },
     "execution_count": 285,
     "metadata": {},
     "output_type": "execute_result"
    }
   ],
   "source": [
    "archive.sample(5)"
   ]
  },
  {
   "cell_type": "code",
   "execution_count": 286,
   "metadata": {},
   "outputs": [],
   "source": [
    "#drop the extra 'doggo', 'floofer', 'pupper', 'puppo' columns\n",
    "archive=archive.drop(columns=['doggo', 'floofer', 'pupper', 'puppo'])"
   ]
  },
  {
   "cell_type": "code",
   "execution_count": 287,
   "metadata": {},
   "outputs": [
    {
     "data": {
      "text/plain": [
       "(2333, 14)"
      ]
     },
     "execution_count": 287,
     "metadata": {},
     "output_type": "execute_result"
    }
   ],
   "source": [
    "archive.shape"
   ]
  },
  {
   "cell_type": "markdown",
   "metadata": {},
   "source": [
    "#test"
   ]
  },
  {
   "cell_type": "code",
   "execution_count": 288,
   "metadata": {},
   "outputs": [
    {
     "data": {
      "text/html": [
       "<div>\n",
       "<style scoped>\n",
       "    .dataframe tbody tr th:only-of-type {\n",
       "        vertical-align: middle;\n",
       "    }\n",
       "\n",
       "    .dataframe tbody tr th {\n",
       "        vertical-align: top;\n",
       "    }\n",
       "\n",
       "    .dataframe thead th {\n",
       "        text-align: right;\n",
       "    }\n",
       "</style>\n",
       "<table border=\"1\" class=\"dataframe\">\n",
       "  <thead>\n",
       "    <tr style=\"text-align: right;\">\n",
       "      <th></th>\n",
       "      <th>tweet_id</th>\n",
       "      <th>in_reply_to_status_id</th>\n",
       "      <th>in_reply_to_user_id</th>\n",
       "      <th>timestamp</th>\n",
       "      <th>source</th>\n",
       "      <th>text</th>\n",
       "      <th>retweeted_status_id</th>\n",
       "      <th>retweeted_status_user_id</th>\n",
       "      <th>retweeted_status_timestamp</th>\n",
       "      <th>expanded_urls</th>\n",
       "      <th>rating_numerator</th>\n",
       "      <th>rating_denominator</th>\n",
       "      <th>name</th>\n",
       "      <th>dog_stage</th>\n",
       "    </tr>\n",
       "  </thead>\n",
       "  <tbody>\n",
       "    <tr>\n",
       "      <th>1083</th>\n",
       "      <td>738537504001953792</td>\n",
       "      <td>NaN</td>\n",
       "      <td>NaN</td>\n",
       "      <td>2016-06-03 01:07:16+00:00</td>\n",
       "      <td>&lt;a href=\"http://twitter.com/download/iphone\" r...</td>\n",
       "      <td>This is Bayley. She fell asleep trying to esca...</td>\n",
       "      <td>NaN</td>\n",
       "      <td>NaN</td>\n",
       "      <td>NaN</td>\n",
       "      <td>https://twitter.com/dog_rates/status/738537504...</td>\n",
       "      <td>11</td>\n",
       "      <td>10</td>\n",
       "      <td>Bayley</td>\n",
       "      <td>puppo</td>\n",
       "    </tr>\n",
       "    <tr>\n",
       "      <th>1902</th>\n",
       "      <td>674644256330530816</td>\n",
       "      <td>NaN</td>\n",
       "      <td>NaN</td>\n",
       "      <td>2015-12-09 17:38:19+00:00</td>\n",
       "      <td>&lt;a href=\"http://twitter.com/download/iphone\" r...</td>\n",
       "      <td>When you see sophomores in high school driving...</td>\n",
       "      <td>NaN</td>\n",
       "      <td>NaN</td>\n",
       "      <td>NaN</td>\n",
       "      <td>https://twitter.com/dog_rates/status/674644256...</td>\n",
       "      <td>11</td>\n",
       "      <td>10</td>\n",
       "      <td>None</td>\n",
       "      <td>NaN</td>\n",
       "    </tr>\n",
       "    <tr>\n",
       "      <th>43</th>\n",
       "      <td>884162670584377345</td>\n",
       "      <td>NaN</td>\n",
       "      <td>NaN</td>\n",
       "      <td>2017-07-09 21:29:42+00:00</td>\n",
       "      <td>&lt;a href=\"http://twitter.com/download/iphone\" r...</td>\n",
       "      <td>Meet Yogi. He doesn't have any important dog m...</td>\n",
       "      <td>NaN</td>\n",
       "      <td>NaN</td>\n",
       "      <td>NaN</td>\n",
       "      <td>https://twitter.com/dog_rates/status/884162670...</td>\n",
       "      <td>12</td>\n",
       "      <td>10</td>\n",
       "      <td>Yogi</td>\n",
       "      <td>doggo</td>\n",
       "    </tr>\n",
       "    <tr>\n",
       "      <th>1924</th>\n",
       "      <td>674075285688614912</td>\n",
       "      <td>NaN</td>\n",
       "      <td>NaN</td>\n",
       "      <td>2015-12-08 03:57:26+00:00</td>\n",
       "      <td>&lt;a href=\"http://twitter.com/download/iphone\" r...</td>\n",
       "      <td>Say hello to Mitch. He thinks that's a hat. No...</td>\n",
       "      <td>NaN</td>\n",
       "      <td>NaN</td>\n",
       "      <td>NaN</td>\n",
       "      <td>https://twitter.com/dog_rates/status/674075285...</td>\n",
       "      <td>11</td>\n",
       "      <td>10</td>\n",
       "      <td>Mitch</td>\n",
       "      <td>NaN</td>\n",
       "    </tr>\n",
       "    <tr>\n",
       "      <th>1323</th>\n",
       "      <td>706265994973601792</td>\n",
       "      <td>NaN</td>\n",
       "      <td>NaN</td>\n",
       "      <td>2016-03-05 23:51:49+00:00</td>\n",
       "      <td>&lt;a href=\"http://twitter.com/download/iphone\" r...</td>\n",
       "      <td>This is Kara. She's been trying to solve that ...</td>\n",
       "      <td>NaN</td>\n",
       "      <td>NaN</td>\n",
       "      <td>NaN</td>\n",
       "      <td>https://twitter.com/dog_rates/status/706265994...</td>\n",
       "      <td>11</td>\n",
       "      <td>10</td>\n",
       "      <td>Kara</td>\n",
       "      <td>NaN</td>\n",
       "    </tr>\n",
       "  </tbody>\n",
       "</table>\n",
       "</div>"
      ],
      "text/plain": [
       "                tweet_id  in_reply_to_status_id  in_reply_to_user_id  \\\n",
       "1083  738537504001953792                    NaN                  NaN   \n",
       "1902  674644256330530816                    NaN                  NaN   \n",
       "43    884162670584377345                    NaN                  NaN   \n",
       "1924  674075285688614912                    NaN                  NaN   \n",
       "1323  706265994973601792                    NaN                  NaN   \n",
       "\n",
       "                     timestamp  \\\n",
       "1083 2016-06-03 01:07:16+00:00   \n",
       "1902 2015-12-09 17:38:19+00:00   \n",
       "43   2017-07-09 21:29:42+00:00   \n",
       "1924 2015-12-08 03:57:26+00:00   \n",
       "1323 2016-03-05 23:51:49+00:00   \n",
       "\n",
       "                                                 source  \\\n",
       "1083  <a href=\"http://twitter.com/download/iphone\" r...   \n",
       "1902  <a href=\"http://twitter.com/download/iphone\" r...   \n",
       "43    <a href=\"http://twitter.com/download/iphone\" r...   \n",
       "1924  <a href=\"http://twitter.com/download/iphone\" r...   \n",
       "1323  <a href=\"http://twitter.com/download/iphone\" r...   \n",
       "\n",
       "                                                   text  retweeted_status_id  \\\n",
       "1083  This is Bayley. She fell asleep trying to esca...                  NaN   \n",
       "1902  When you see sophomores in high school driving...                  NaN   \n",
       "43    Meet Yogi. He doesn't have any important dog m...                  NaN   \n",
       "1924  Say hello to Mitch. He thinks that's a hat. No...                  NaN   \n",
       "1323  This is Kara. She's been trying to solve that ...                  NaN   \n",
       "\n",
       "      retweeted_status_user_id retweeted_status_timestamp  \\\n",
       "1083                       NaN                        NaN   \n",
       "1902                       NaN                        NaN   \n",
       "43                         NaN                        NaN   \n",
       "1924                       NaN                        NaN   \n",
       "1323                       NaN                        NaN   \n",
       "\n",
       "                                          expanded_urls  rating_numerator  \\\n",
       "1083  https://twitter.com/dog_rates/status/738537504...                11   \n",
       "1902  https://twitter.com/dog_rates/status/674644256...                11   \n",
       "43    https://twitter.com/dog_rates/status/884162670...                12   \n",
       "1924  https://twitter.com/dog_rates/status/674075285...                11   \n",
       "1323  https://twitter.com/dog_rates/status/706265994...                11   \n",
       "\n",
       "      rating_denominator    name dog_stage  \n",
       "1083                  10  Bayley     puppo  \n",
       "1902                  10    None       NaN  \n",
       "43                    10    Yogi     doggo  \n",
       "1924                  10   Mitch       NaN  \n",
       "1323                  10    Kara       NaN  "
      ]
     },
     "execution_count": 288,
     "metadata": {},
     "output_type": "execute_result"
    }
   ],
   "source": [
    "archive.sample(5)"
   ]
  },
  {
   "cell_type": "code",
   "execution_count": 289,
   "metadata": {
    "scrolled": true
   },
   "outputs": [
    {
     "name": "stdout",
     "output_type": "stream",
     "text": [
      "<class 'pandas.core.frame.DataFrame'>\n",
      "Int64Index: 2333 entries, 0 to 2355\n",
      "Data columns (total 14 columns):\n",
      " #   Column                      Non-Null Count  Dtype              \n",
      "---  ------                      --------------  -----              \n",
      " 0   tweet_id                    2333 non-null   object             \n",
      " 1   in_reply_to_status_id       73 non-null     float64            \n",
      " 2   in_reply_to_user_id         73 non-null     float64            \n",
      " 3   timestamp                   2333 non-null   datetime64[ns, UTC]\n",
      " 4   source                      2333 non-null   object             \n",
      " 5   text                        2333 non-null   object             \n",
      " 6   retweeted_status_id         180 non-null    float64            \n",
      " 7   retweeted_status_user_id    180 non-null    float64            \n",
      " 8   retweeted_status_timestamp  180 non-null    object             \n",
      " 9   expanded_urls               2278 non-null   object             \n",
      " 10  rating_numerator            2333 non-null   int64              \n",
      " 11  rating_denominator          2333 non-null   int64              \n",
      " 12  name                        2333 non-null   object             \n",
      " 13  dog_stage                   392 non-null    object             \n",
      "dtypes: datetime64[ns, UTC](1), float64(4), int64(2), object(7)\n",
      "memory usage: 273.4+ KB\n"
     ]
    }
   ],
   "source": [
    "archive.info()"
   ]
  },
  {
   "cell_type": "code",
   "execution_count": null,
   "metadata": {},
   "outputs": [],
   "source": []
  },
  {
   "cell_type": "markdown",
   "metadata": {},
   "source": [
    "### Issue #5:There is no consistency in prediction table since in p1, p2 and p3 some names start with uppercase"
   ]
  },
  {
   "cell_type": "code",
   "execution_count": 290,
   "metadata": {},
   "outputs": [
    {
     "data": {
      "text/plain": [
       "841             bow_tie\n",
       "1597    Norfolk_terrier\n",
       "249        Ibizan_hound\n",
       "1411               chow\n",
       "153              beagle\n",
       "Name: p1, dtype: object"
      ]
     },
     "execution_count": 290,
     "metadata": {},
     "output_type": "execute_result"
    }
   ],
   "source": [
    "predictions.p1.sample(5)"
   ]
  },
  {
   "cell_type": "code",
   "execution_count": 291,
   "metadata": {},
   "outputs": [],
   "source": [
    "#convert all the names to lowercase\n",
    "predictions.p1=predictions.p1.str.lower()\n",
    "predictions.p2=predictions.p2.str.lower()\n",
    "predictions.p3=predictions.p3.str.lower()"
   ]
  },
  {
   "cell_type": "markdown",
   "metadata": {},
   "source": [
    "# test"
   ]
  },
  {
   "cell_type": "code",
   "execution_count": 292,
   "metadata": {},
   "outputs": [
    {
     "data": {
      "text/html": [
       "<div>\n",
       "<style scoped>\n",
       "    .dataframe tbody tr th:only-of-type {\n",
       "        vertical-align: middle;\n",
       "    }\n",
       "\n",
       "    .dataframe tbody tr th {\n",
       "        vertical-align: top;\n",
       "    }\n",
       "\n",
       "    .dataframe thead th {\n",
       "        text-align: right;\n",
       "    }\n",
       "</style>\n",
       "<table border=\"1\" class=\"dataframe\">\n",
       "  <thead>\n",
       "    <tr style=\"text-align: right;\">\n",
       "      <th></th>\n",
       "      <th>tweet_id</th>\n",
       "      <th>jpg_url</th>\n",
       "      <th>img_num</th>\n",
       "      <th>p1</th>\n",
       "      <th>p1_conf</th>\n",
       "      <th>p1_dog</th>\n",
       "      <th>p2</th>\n",
       "      <th>p2_conf</th>\n",
       "      <th>p2_dog</th>\n",
       "      <th>p3</th>\n",
       "      <th>p3_conf</th>\n",
       "      <th>p3_dog</th>\n",
       "    </tr>\n",
       "  </thead>\n",
       "  <tbody>\n",
       "    <tr>\n",
       "      <th>1338</th>\n",
       "      <td>758467244762497024</td>\n",
       "      <td>https://pbs.twimg.com/ext_tw_video_thumb/75846...</td>\n",
       "      <td>1</td>\n",
       "      <td>labrador_retriever</td>\n",
       "      <td>0.436377</td>\n",
       "      <td>True</td>\n",
       "      <td>chihuahua</td>\n",
       "      <td>0.113956</td>\n",
       "      <td>True</td>\n",
       "      <td>american_staffordshire_terrier</td>\n",
       "      <td>0.099689</td>\n",
       "      <td>True</td>\n",
       "    </tr>\n",
       "    <tr>\n",
       "      <th>267</th>\n",
       "      <td>670807719151067136</td>\n",
       "      <td>https://pbs.twimg.com/media/CU8v-rdXIAId12Z.jpg</td>\n",
       "      <td>1</td>\n",
       "      <td>old_english_sheepdog</td>\n",
       "      <td>0.958035</td>\n",
       "      <td>True</td>\n",
       "      <td>sealyham_terrier</td>\n",
       "      <td>0.013892</td>\n",
       "      <td>True</td>\n",
       "      <td>border_collie</td>\n",
       "      <td>0.004601</td>\n",
       "      <td>True</td>\n",
       "    </tr>\n",
       "    <tr>\n",
       "      <th>69</th>\n",
       "      <td>667188689915760640</td>\n",
       "      <td>https://pbs.twimg.com/media/CUJUk2iWUAAVtOv.jpg</td>\n",
       "      <td>1</td>\n",
       "      <td>vacuum</td>\n",
       "      <td>0.335830</td>\n",
       "      <td>False</td>\n",
       "      <td>swab</td>\n",
       "      <td>0.265278</td>\n",
       "      <td>False</td>\n",
       "      <td>toilet_tissue</td>\n",
       "      <td>0.140703</td>\n",
       "      <td>False</td>\n",
       "    </tr>\n",
       "    <tr>\n",
       "      <th>436</th>\n",
       "      <td>674410619106390016</td>\n",
       "      <td>https://pbs.twimg.com/media/CVv84VDUEAEm3dW.jpg</td>\n",
       "      <td>1</td>\n",
       "      <td>brown_bear</td>\n",
       "      <td>0.698207</td>\n",
       "      <td>False</td>\n",
       "      <td>sea_lion</td>\n",
       "      <td>0.046475</td>\n",
       "      <td>False</td>\n",
       "      <td>beagle</td>\n",
       "      <td>0.019427</td>\n",
       "      <td>True</td>\n",
       "    </tr>\n",
       "    <tr>\n",
       "      <th>1665</th>\n",
       "      <td>812503143955202048</td>\n",
       "      <td>https://pbs.twimg.com/media/C0aXTLqXEAADxBi.jpg</td>\n",
       "      <td>2</td>\n",
       "      <td>loupe</td>\n",
       "      <td>0.546856</td>\n",
       "      <td>False</td>\n",
       "      <td>web_site</td>\n",
       "      <td>0.345298</td>\n",
       "      <td>False</td>\n",
       "      <td>bubble</td>\n",
       "      <td>0.010528</td>\n",
       "      <td>False</td>\n",
       "    </tr>\n",
       "  </tbody>\n",
       "</table>\n",
       "</div>"
      ],
      "text/plain": [
       "                tweet_id                                            jpg_url  \\\n",
       "1338  758467244762497024  https://pbs.twimg.com/ext_tw_video_thumb/75846...   \n",
       "267   670807719151067136    https://pbs.twimg.com/media/CU8v-rdXIAId12Z.jpg   \n",
       "69    667188689915760640    https://pbs.twimg.com/media/CUJUk2iWUAAVtOv.jpg   \n",
       "436   674410619106390016    https://pbs.twimg.com/media/CVv84VDUEAEm3dW.jpg   \n",
       "1665  812503143955202048    https://pbs.twimg.com/media/C0aXTLqXEAADxBi.jpg   \n",
       "\n",
       "      img_num                    p1   p1_conf  p1_dog                p2  \\\n",
       "1338        1    labrador_retriever  0.436377    True         chihuahua   \n",
       "267         1  old_english_sheepdog  0.958035    True  sealyham_terrier   \n",
       "69          1                vacuum  0.335830   False              swab   \n",
       "436         1            brown_bear  0.698207   False          sea_lion   \n",
       "1665        2                 loupe  0.546856   False          web_site   \n",
       "\n",
       "       p2_conf  p2_dog                              p3   p3_conf  p3_dog  \n",
       "1338  0.113956    True  american_staffordshire_terrier  0.099689    True  \n",
       "267   0.013892    True                   border_collie  0.004601    True  \n",
       "69    0.265278   False                   toilet_tissue  0.140703   False  \n",
       "436   0.046475   False                          beagle  0.019427    True  \n",
       "1665  0.345298   False                          bubble  0.010528   False  "
      ]
     },
     "execution_count": 292,
     "metadata": {},
     "output_type": "execute_result"
    }
   ],
   "source": [
    "predictions.sample(5)"
   ]
  },
  {
   "cell_type": "markdown",
   "metadata": {},
   "source": [
    "### Issue #6:wrong datatypes for p1, p2 and p3 in predictions should be category"
   ]
  },
  {
   "cell_type": "code",
   "execution_count": 293,
   "metadata": {},
   "outputs": [
    {
     "data": {
      "text/plain": [
       "dtype('O')"
      ]
     },
     "execution_count": 293,
     "metadata": {},
     "output_type": "execute_result"
    }
   ],
   "source": [
    "predictions.p1.dtype"
   ]
  },
  {
   "cell_type": "code",
   "execution_count": 294,
   "metadata": {},
   "outputs": [
    {
     "data": {
      "text/plain": [
       "dtype('O')"
      ]
     },
     "execution_count": 294,
     "metadata": {},
     "output_type": "execute_result"
    }
   ],
   "source": [
    "predictions.p2.dtype"
   ]
  },
  {
   "cell_type": "code",
   "execution_count": 295,
   "metadata": {},
   "outputs": [
    {
     "data": {
      "text/plain": [
       "dtype('O')"
      ]
     },
     "execution_count": 295,
     "metadata": {},
     "output_type": "execute_result"
    }
   ],
   "source": [
    "predictions.p3.dtype"
   ]
  },
  {
   "cell_type": "code",
   "execution_count": 296,
   "metadata": {},
   "outputs": [],
   "source": [
    "#Change the datatype of p1 p2 and p3 in predictions to category\n",
    "predictions.p1=predictions.p1.astype('category')\n",
    "predictions.p2=predictions.p2.astype('category')\n",
    "predictions.p3=predictions.p3.astype('category')"
   ]
  },
  {
   "cell_type": "markdown",
   "metadata": {},
   "source": [
    "#test"
   ]
  },
  {
   "cell_type": "code",
   "execution_count": 297,
   "metadata": {},
   "outputs": [
    {
     "name": "stdout",
     "output_type": "stream",
     "text": [
      "<class 'pandas.core.frame.DataFrame'>\n",
      "RangeIndex: 2075 entries, 0 to 2074\n",
      "Data columns (total 12 columns):\n",
      " #   Column    Non-Null Count  Dtype   \n",
      "---  ------    --------------  -----   \n",
      " 0   tweet_id  2075 non-null   object  \n",
      " 1   jpg_url   2075 non-null   object  \n",
      " 2   img_num   2075 non-null   int64   \n",
      " 3   p1        2075 non-null   category\n",
      " 4   p1_conf   2075 non-null   float64 \n",
      " 5   p1_dog    2075 non-null   bool    \n",
      " 6   p2        2075 non-null   category\n",
      " 7   p2_conf   2075 non-null   float64 \n",
      " 8   p2_dog    2075 non-null   bool    \n",
      " 9   p3        2075 non-null   category\n",
      " 10  p3_conf   2075 non-null   float64 \n",
      " 11  p3_dog    2075 non-null   bool    \n",
      "dtypes: bool(3), category(3), float64(3), int64(1), object(2)\n",
      "memory usage: 165.4+ KB\n"
     ]
    }
   ],
   "source": [
    "predictions.info()"
   ]
  },
  {
   "cell_type": "markdown",
   "metadata": {},
   "source": [
    "### Issue #7:The dog_stage column in archive should be category"
   ]
  },
  {
   "cell_type": "code",
   "execution_count": 298,
   "metadata": {},
   "outputs": [
    {
     "data": {
      "text/plain": [
       "dtype('O')"
      ]
     },
     "execution_count": 298,
     "metadata": {},
     "output_type": "execute_result"
    }
   ],
   "source": [
    "archive.dog_stage.dtype"
   ]
  },
  {
   "cell_type": "code",
   "execution_count": 299,
   "metadata": {},
   "outputs": [],
   "source": [
    "#change the datatype of dog_stage column to category\n",
    "archive.dog_stage=archive.dog_stage.astype(\"category\")"
   ]
  },
  {
   "cell_type": "markdown",
   "metadata": {},
   "source": [
    "#test"
   ]
  },
  {
   "cell_type": "code",
   "execution_count": 300,
   "metadata": {
    "scrolled": true
   },
   "outputs": [
    {
     "name": "stdout",
     "output_type": "stream",
     "text": [
      "<class 'pandas.core.frame.DataFrame'>\n",
      "Int64Index: 2333 entries, 0 to 2355\n",
      "Data columns (total 14 columns):\n",
      " #   Column                      Non-Null Count  Dtype              \n",
      "---  ------                      --------------  -----              \n",
      " 0   tweet_id                    2333 non-null   object             \n",
      " 1   in_reply_to_status_id       73 non-null     float64            \n",
      " 2   in_reply_to_user_id         73 non-null     float64            \n",
      " 3   timestamp                   2333 non-null   datetime64[ns, UTC]\n",
      " 4   source                      2333 non-null   object             \n",
      " 5   text                        2333 non-null   object             \n",
      " 6   retweeted_status_id         180 non-null    float64            \n",
      " 7   retweeted_status_user_id    180 non-null    float64            \n",
      " 8   retweeted_status_timestamp  180 non-null    object             \n",
      " 9   expanded_urls               2278 non-null   object             \n",
      " 10  rating_numerator            2333 non-null   int64              \n",
      " 11  rating_denominator          2333 non-null   int64              \n",
      " 12  name                        2333 non-null   object             \n",
      " 13  dog_stage                   392 non-null    category           \n",
      "dtypes: category(1), datetime64[ns, UTC](1), float64(4), int64(2), object(6)\n",
      "memory usage: 257.6+ KB\n"
     ]
    }
   ],
   "source": [
    "archive.info()"
   ]
  },
  {
   "cell_type": "markdown",
   "metadata": {},
   "source": [
    "### Issue #8: change the id column in rate table to tweet_id"
   ]
  },
  {
   "cell_type": "code",
   "execution_count": 301,
   "metadata": {},
   "outputs": [
    {
     "data": {
      "text/html": [
       "<div>\n",
       "<style scoped>\n",
       "    .dataframe tbody tr th:only-of-type {\n",
       "        vertical-align: middle;\n",
       "    }\n",
       "\n",
       "    .dataframe tbody tr th {\n",
       "        vertical-align: top;\n",
       "    }\n",
       "\n",
       "    .dataframe thead th {\n",
       "        text-align: right;\n",
       "    }\n",
       "</style>\n",
       "<table border=\"1\" class=\"dataframe\">\n",
       "  <thead>\n",
       "    <tr style=\"text-align: right;\">\n",
       "      <th></th>\n",
       "      <th>id</th>\n",
       "      <th>retweet_count</th>\n",
       "      <th>favorite_count</th>\n",
       "    </tr>\n",
       "  </thead>\n",
       "  <tbody>\n",
       "    <tr>\n",
       "      <th>0</th>\n",
       "      <td>666020888022790149</td>\n",
       "      <td>419</td>\n",
       "      <td>2281</td>\n",
       "    </tr>\n",
       "    <tr>\n",
       "      <th>1</th>\n",
       "      <td>666029285002620928</td>\n",
       "      <td>39</td>\n",
       "      <td>112</td>\n",
       "    </tr>\n",
       "    <tr>\n",
       "      <th>2</th>\n",
       "      <td>666033412701032449</td>\n",
       "      <td>36</td>\n",
       "      <td>100</td>\n",
       "    </tr>\n",
       "    <tr>\n",
       "      <th>3</th>\n",
       "      <td>666044226329800704</td>\n",
       "      <td>115</td>\n",
       "      <td>245</td>\n",
       "    </tr>\n",
       "    <tr>\n",
       "      <th>4</th>\n",
       "      <td>666049248165822465</td>\n",
       "      <td>36</td>\n",
       "      <td>88</td>\n",
       "    </tr>\n",
       "  </tbody>\n",
       "</table>\n",
       "</div>"
      ],
      "text/plain": [
       "                   id  retweet_count  favorite_count\n",
       "0  666020888022790149            419            2281\n",
       "1  666029285002620928             39             112\n",
       "2  666033412701032449             36             100\n",
       "3  666044226329800704            115             245\n",
       "4  666049248165822465             36              88"
      ]
     },
     "execution_count": 301,
     "metadata": {},
     "output_type": "execute_result"
    }
   ],
   "source": [
    "rate.head()"
   ]
  },
  {
   "cell_type": "code",
   "execution_count": 302,
   "metadata": {},
   "outputs": [],
   "source": [
    "#change the id column to tweet_id\n",
    "rate.rename(columns={'id':'tweet_id'}, inplace=True)"
   ]
  },
  {
   "cell_type": "markdown",
   "metadata": {},
   "source": [
    "#test"
   ]
  },
  {
   "cell_type": "code",
   "execution_count": 303,
   "metadata": {
    "scrolled": true
   },
   "outputs": [
    {
     "data": {
      "text/html": [
       "<div>\n",
       "<style scoped>\n",
       "    .dataframe tbody tr th:only-of-type {\n",
       "        vertical-align: middle;\n",
       "    }\n",
       "\n",
       "    .dataframe tbody tr th {\n",
       "        vertical-align: top;\n",
       "    }\n",
       "\n",
       "    .dataframe thead th {\n",
       "        text-align: right;\n",
       "    }\n",
       "</style>\n",
       "<table border=\"1\" class=\"dataframe\">\n",
       "  <thead>\n",
       "    <tr style=\"text-align: right;\">\n",
       "      <th></th>\n",
       "      <th>tweet_id</th>\n",
       "      <th>retweet_count</th>\n",
       "      <th>favorite_count</th>\n",
       "    </tr>\n",
       "  </thead>\n",
       "  <tbody>\n",
       "    <tr>\n",
       "      <th>0</th>\n",
       "      <td>666020888022790149</td>\n",
       "      <td>419</td>\n",
       "      <td>2281</td>\n",
       "    </tr>\n",
       "    <tr>\n",
       "      <th>1</th>\n",
       "      <td>666029285002620928</td>\n",
       "      <td>39</td>\n",
       "      <td>112</td>\n",
       "    </tr>\n",
       "  </tbody>\n",
       "</table>\n",
       "</div>"
      ],
      "text/plain": [
       "             tweet_id  retweet_count  favorite_count\n",
       "0  666020888022790149            419            2281\n",
       "1  666029285002620928             39             112"
      ]
     },
     "execution_count": 303,
     "metadata": {},
     "output_type": "execute_result"
    }
   ],
   "source": [
    "rate.head(2)"
   ]
  },
  {
   "cell_type": "markdown",
   "metadata": {},
   "source": [
    "### Issue #9: missing values in retweeted_status_id and retweeted_status_user_id in archive table"
   ]
  },
  {
   "cell_type": "code",
   "execution_count": 304,
   "metadata": {},
   "outputs": [
    {
     "data": {
      "text/plain": [
       "8.874740e+17    1\n",
       "6.718968e+17    1\n",
       "6.675094e+17    1\n",
       "6.671828e+17    1\n",
       "6.661041e+17    1\n",
       "               ..\n",
       "8.250266e+17    1\n",
       "7.950767e+17    1\n",
       "7.840579e+17    1\n",
       "8.222448e+17    1\n",
       "6.675484e+17    1\n",
       "Name: retweeted_status_id, Length: 180, dtype: int64"
      ]
     },
     "execution_count": 304,
     "metadata": {},
     "output_type": "execute_result"
    }
   ],
   "source": [
    "archive.retweeted_status_id.value_counts()"
   ]
  },
  {
   "cell_type": "code",
   "execution_count": 305,
   "metadata": {},
   "outputs": [],
   "source": [
    "#remove  the data with retweets \n",
    "archive=archive[archive.retweeted_status_id.isna()]"
   ]
  },
  {
   "cell_type": "markdown",
   "metadata": {},
   "source": [
    "#test"
   ]
  },
  {
   "cell_type": "code",
   "execution_count": null,
   "metadata": {},
   "outputs": [],
   "source": [
    "archive[~archive.retweeted_status_id.isna()]"
   ]
  },
  {
   "cell_type": "code",
   "execution_count": 307,
   "metadata": {},
   "outputs": [
    {
     "data": {
      "text/plain": [
       "(2153, 14)"
      ]
     },
     "execution_count": 307,
     "metadata": {},
     "output_type": "execute_result"
    }
   ],
   "source": [
    "archive.shape"
   ]
  },
  {
   "cell_type": "markdown",
   "metadata": {},
   "source": [
    "### Issue #10:Merge the dataset into one master dataset"
   ]
  },
  {
   "cell_type": "code",
   "execution_count": 308,
   "metadata": {},
   "outputs": [],
   "source": [
    "#merge the tree dataests\n",
    "master_dataset=predictions.merge(archive, on='tweet_id', how='left')\n",
    "master_dataset=master_dataset.merge(rate, on='tweet_id', how='left')"
   ]
  },
  {
   "cell_type": "markdown",
   "metadata": {},
   "source": [
    "#test"
   ]
  },
  {
   "cell_type": "code",
   "execution_count": 309,
   "metadata": {},
   "outputs": [
    {
     "data": {
      "text/plain": [
       "(2075, 27)"
      ]
     },
     "execution_count": 309,
     "metadata": {},
     "output_type": "execute_result"
    }
   ],
   "source": [
    "master_dataset.shape"
   ]
  },
  {
   "cell_type": "code",
   "execution_count": null,
   "metadata": {},
   "outputs": [],
   "source": []
  },
  {
   "cell_type": "markdown",
   "metadata": {},
   "source": [
    "## Storing Data\n",
    "Save gathered, assessed, and cleaned master dataset to a CSV file named \"twitter_archive_master.csv\"."
   ]
  },
  {
   "cell_type": "code",
   "execution_count": 310,
   "metadata": {},
   "outputs": [],
   "source": [
    "#storing the master dataset twitter_archive_master.csv\n",
    "master_dataset.to_csv(\"twitter_archive_master.csv\", index=False)"
   ]
  },
  {
   "cell_type": "markdown",
   "metadata": {},
   "source": [
    "## Analyzing and Visualizing Data\n",
    "In this section, analyze and visualize your wrangled data. You must produce at least **three (3) insights and one (1) visualization.**"
   ]
  },
  {
   "cell_type": "code",
   "execution_count": 311,
   "metadata": {},
   "outputs": [],
   "source": [
    "df=pd.read_csv(\"twitter_archive_master.csv\")"
   ]
  },
  {
   "cell_type": "code",
   "execution_count": 312,
   "metadata": {},
   "outputs": [
    {
     "data": {
      "text/html": [
       "<div>\n",
       "<style scoped>\n",
       "    .dataframe tbody tr th:only-of-type {\n",
       "        vertical-align: middle;\n",
       "    }\n",
       "\n",
       "    .dataframe tbody tr th {\n",
       "        vertical-align: top;\n",
       "    }\n",
       "\n",
       "    .dataframe thead th {\n",
       "        text-align: right;\n",
       "    }\n",
       "</style>\n",
       "<table border=\"1\" class=\"dataframe\">\n",
       "  <thead>\n",
       "    <tr style=\"text-align: right;\">\n",
       "      <th></th>\n",
       "      <th>tweet_id</th>\n",
       "      <th>jpg_url</th>\n",
       "      <th>img_num</th>\n",
       "      <th>p1</th>\n",
       "      <th>p1_conf</th>\n",
       "      <th>p1_dog</th>\n",
       "      <th>p2</th>\n",
       "      <th>p2_conf</th>\n",
       "      <th>p2_dog</th>\n",
       "      <th>p3</th>\n",
       "      <th>...</th>\n",
       "      <th>retweeted_status_id</th>\n",
       "      <th>retweeted_status_user_id</th>\n",
       "      <th>retweeted_status_timestamp</th>\n",
       "      <th>expanded_urls</th>\n",
       "      <th>rating_numerator</th>\n",
       "      <th>rating_denominator</th>\n",
       "      <th>name</th>\n",
       "      <th>dog_stage</th>\n",
       "      <th>retweet_count</th>\n",
       "      <th>favorite_count</th>\n",
       "    </tr>\n",
       "  </thead>\n",
       "  <tbody>\n",
       "    <tr>\n",
       "      <th>1450</th>\n",
       "      <td>776218204058357768</td>\n",
       "      <td>https://pbs.twimg.com/media/CsWuVEdWcAAqbe9.jpg</td>\n",
       "      <td>1</td>\n",
       "      <td>samoyed</td>\n",
       "      <td>0.940326</td>\n",
       "      <td>True</td>\n",
       "      <td>pomeranian</td>\n",
       "      <td>0.055527</td>\n",
       "      <td>True</td>\n",
       "      <td>keeshond</td>\n",
       "      <td>...</td>\n",
       "      <td>NaN</td>\n",
       "      <td>NaN</td>\n",
       "      <td>NaN</td>\n",
       "      <td>https://twitter.com/dog_rates/status/776218204...</td>\n",
       "      <td>13.0</td>\n",
       "      <td>10.0</td>\n",
       "      <td>None</td>\n",
       "      <td>floofer</td>\n",
       "      <td>14634.0</td>\n",
       "      <td>27977.0</td>\n",
       "    </tr>\n",
       "    <tr>\n",
       "      <th>1604</th>\n",
       "      <td>800388270626521089</td>\n",
       "      <td>https://pbs.twimg.com/media/CxuM3oZW8AEhO5z.jpg</td>\n",
       "      <td>2</td>\n",
       "      <td>golden_retriever</td>\n",
       "      <td>0.359860</td>\n",
       "      <td>True</td>\n",
       "      <td>pembroke</td>\n",
       "      <td>0.194207</td>\n",
       "      <td>True</td>\n",
       "      <td>collie</td>\n",
       "      <td>...</td>\n",
       "      <td>NaN</td>\n",
       "      <td>NaN</td>\n",
       "      <td>NaN</td>\n",
       "      <td>https://twitter.com/dog_rates/status/800388270...</td>\n",
       "      <td>12.0</td>\n",
       "      <td>10.0</td>\n",
       "      <td>Doc</td>\n",
       "      <td>floofer</td>\n",
       "      <td>2626.0</td>\n",
       "      <td>10571.0</td>\n",
       "    </tr>\n",
       "    <tr>\n",
       "      <th>2032</th>\n",
       "      <td>883360690899218434</td>\n",
       "      <td>https://pbs.twimg.com/media/DEJT3FeXoAAtwUy.jpg</td>\n",
       "      <td>1</td>\n",
       "      <td>chow</td>\n",
       "      <td>0.987997</td>\n",
       "      <td>True</td>\n",
       "      <td>tibetan_mastiff</td>\n",
       "      <td>0.007099</td>\n",
       "      <td>True</td>\n",
       "      <td>newfoundland</td>\n",
       "      <td>...</td>\n",
       "      <td>NaN</td>\n",
       "      <td>NaN</td>\n",
       "      <td>NaN</td>\n",
       "      <td>https://twitter.com/dog_rates/status/883360690...</td>\n",
       "      <td>13.0</td>\n",
       "      <td>10.0</td>\n",
       "      <td>Grizzwald</td>\n",
       "      <td>floofer</td>\n",
       "      <td>3061.0</td>\n",
       "      <td>19869.0</td>\n",
       "    </tr>\n",
       "  </tbody>\n",
       "</table>\n",
       "<p>3 rows × 27 columns</p>\n",
       "</div>"
      ],
      "text/plain": [
       "                tweet_id                                          jpg_url  \\\n",
       "1450  776218204058357768  https://pbs.twimg.com/media/CsWuVEdWcAAqbe9.jpg   \n",
       "1604  800388270626521089  https://pbs.twimg.com/media/CxuM3oZW8AEhO5z.jpg   \n",
       "2032  883360690899218434  https://pbs.twimg.com/media/DEJT3FeXoAAtwUy.jpg   \n",
       "\n",
       "      img_num                p1   p1_conf  p1_dog               p2   p2_conf  \\\n",
       "1450        1           samoyed  0.940326    True       pomeranian  0.055527   \n",
       "1604        2  golden_retriever  0.359860    True         pembroke  0.194207   \n",
       "2032        1              chow  0.987997    True  tibetan_mastiff  0.007099   \n",
       "\n",
       "      p2_dog            p3  ...  retweeted_status_id  \\\n",
       "1450    True      keeshond  ...                  NaN   \n",
       "1604    True        collie  ...                  NaN   \n",
       "2032    True  newfoundland  ...                  NaN   \n",
       "\n",
       "      retweeted_status_user_id  retweeted_status_timestamp  \\\n",
       "1450                       NaN                         NaN   \n",
       "1604                       NaN                         NaN   \n",
       "2032                       NaN                         NaN   \n",
       "\n",
       "                                          expanded_urls rating_numerator  \\\n",
       "1450  https://twitter.com/dog_rates/status/776218204...             13.0   \n",
       "1604  https://twitter.com/dog_rates/status/800388270...             12.0   \n",
       "2032  https://twitter.com/dog_rates/status/883360690...             13.0   \n",
       "\n",
       "     rating_denominator       name  dog_stage  retweet_count  favorite_count  \n",
       "1450               10.0       None    floofer        14634.0         27977.0  \n",
       "1604               10.0        Doc    floofer         2626.0         10571.0  \n",
       "2032               10.0  Grizzwald    floofer         3061.0         19869.0  \n",
       "\n",
       "[3 rows x 27 columns]"
      ]
     },
     "execution_count": 312,
     "metadata": {},
     "output_type": "execute_result"
    }
   ],
   "source": [
    "df.query('dog_stage==\"floofer\"')"
   ]
  },
  {
   "cell_type": "code",
   "execution_count": 313,
   "metadata": {},
   "outputs": [
    {
     "data": {
      "text/plain": [
       "dog_stage\n",
       "doggo      5007.242857\n",
       "floofer    6773.666667\n",
       "pupper     1879.576037\n",
       "puppo      5557.851852\n",
       "Name: retweet_count, dtype: float64"
      ]
     },
     "execution_count": 313,
     "metadata": {},
     "output_type": "execute_result"
    }
   ],
   "source": [
    "df.groupby('dog_stage').retweet_count.mean()"
   ]
  },
  {
   "cell_type": "code",
   "execution_count": 314,
   "metadata": {},
   "outputs": [
    {
     "data": {
      "text/plain": [
       "dog_stage\n",
       "doggo      15398.057143\n",
       "floofer    19472.333333\n",
       "pupper      6158.963134\n",
       "puppo      20315.666667\n",
       "Name: favorite_count, dtype: float64"
      ]
     },
     "execution_count": 314,
     "metadata": {},
     "output_type": "execute_result"
    }
   ],
   "source": [
    "df.groupby('dog_stage').favorite_count.mean()"
   ]
  },
  {
   "cell_type": "code",
   "execution_count": 315,
   "metadata": {},
   "outputs": [
    {
     "data": {
      "text/plain": [
       "dog_stage\n",
       "doggo      11.633803\n",
       "floofer    12.666667\n",
       "pupper     10.631336\n",
       "puppo      12.142857\n",
       "Name: rating_numerator, dtype: float64"
      ]
     },
     "execution_count": 315,
     "metadata": {},
     "output_type": "execute_result"
    }
   ],
   "source": [
    "df.groupby('dog_stage').rating_numerator.mean()"
   ]
  },
  {
   "cell_type": "markdown",
   "metadata": {},
   "source": [
    "### Insights:\n",
    "1. dog stage doggo has the highest retweet count with a mean of 10928.14 retweets\n",
    "\n",
    "2. dog_stage doggo has the highest favorite_count\n",
    "\n",
    "3. floofer has the highest numerator rating"
   ]
  },
  {
   "cell_type": "markdown",
   "metadata": {
    "collapsed": true
   },
   "source": [
    "### Visualization"
   ]
  },
  {
   "cell_type": "code",
   "execution_count": 316,
   "metadata": {},
   "outputs": [],
   "source": [
    "import matplotlib.pyplot as plt\n",
    "import numpy as np\n",
    "import seaborn as sns\n",
    "%matplotlib inline"
   ]
  },
  {
   "cell_type": "code",
   "execution_count": 317,
   "metadata": {},
   "outputs": [
    {
     "data": {
      "text/plain": [
       "Text(0, 0.5, 'mean rating_numerstor')"
      ]
     },
     "execution_count": 317,
     "metadata": {},
     "output_type": "execute_result"
    },
    {
     "data": {
      "image/png": "[encoded data removed]",
      "text/plain": [
       "<Figure size 432x288 with 1 Axes>"
      ]
     },
     "metadata": {
      "needs_background": "light"
     },
     "output_type": "display_data"
    }
   ],
   "source": [
    "df.groupby('dog_stage').rating_numerator.mean().plot(kind=\"bar\", color='purple')\n",
    "plt.title(\"dog_stage by mean rating_numerator\")\n",
    "plt.xlabel(\"dog_stage\")\n",
    "plt.ylabel(\"mean rating_numerstor\")"
   ]
  },
  {
   "cell_type": "code",
   "execution_count": 318,
   "metadata": {},
   "outputs": [
    {
     "data": {
      "text/plain": [
       "Text(0.5, 1.0, 'dog stage versus mean favorite_count')"
      ]
     },
     "execution_count": 318,
     "metadata": {},
     "output_type": "execute_result"
    },
    {
     "data": {
      "image/png": "[encoded data removed]",
      "text/plain": [
       "<Figure size 432x288 with 1 Axes>"
      ]
     },
     "metadata": {},
     "output_type": "display_data"
    }
   ],
   "source": [
    "df.groupby('dog_stage').favorite_count.mean().plot(kind='pie')\n",
    "plt.title(\"dog stage versus mean favorite_count\")"
   ]
  },
  {
   "cell_type": "code",
   "execution_count": null,
   "metadata": {},
   "outputs": [],
   "source": [
    " "
   ]
  },
  {
   "cell_type": "code",
   "execution_count": null,
   "metadata": {},
   "outputs": [],
   "source": []
  },
  {
   "cell_type": "code",
   "execution_count": null,
   "metadata": {},
   "outputs": [],
   "source": []
  }
 ],
 "metadata": {
  "extensions": {
   "jupyter_dashboards": {
    "activeView": "report_default",
    "version": 1,
    "views": {
     "grid_default": {
      "cellMargin": 10,
      "defaultCellHeight": 20,
      "maxColumns": 12,
      "name": "grid",
      "type": "grid"
     },
     "report_default": {
      "name": "report",
      "type": "report"
     }
    }
   }
  },
  "kernelspec": {
   "display_name": "Python 3 (ipykernel)",
   "language": "python",
   "name": "python3"
  },
  "language_info": {
   "codemirror_mode": {
    "name": "ipython",
    "version": 3
   },
   "file_extension": ".py",
   "mimetype": "text/x-python",
   "name": "python",
   "nbconvert_exporter": "python",
   "pygments_lexer": "ipython3",
   "version": "3.9.12"
  }
 },
 "nbformat": 4,
 "nbformat_minor": 2
}
